{
 "cells": [
  {
   "cell_type": "markdown",
   "metadata": {},
   "source": [
    "# DS15 Lecture Topic Modeling\n",
    "## IMBD Movie Reviews\n",
    "\n",
    "## Guiding Question\n",
    "What are commons these in movies that people liked?\n",
    "\n",
    "## Approach\n",
    "* Apply NLP to movie reviews\n",
    "* Estimate a topic model on the movie reviews\n",
    "* Create visualizations relating the topics to the review scores\n",
    "\n",
    "https://www.youtube.com/watch?v=OsF6Y5Xs4Mc&feature=youtu.be"
   ]
  },
  {
   "cell_type": "code",
   "execution_count": 2,
   "metadata": {},
   "outputs": [],
   "source": [
    "import zipfile\n",
    "with zipfile.ZipFile(\"./134715_320111_bundle_archive.zip\", \"r\") as zip_ref:\n",
    "    zip_ref.extractall(\"./data/\")"
   ]
  },
  {
   "cell_type": "code",
   "execution_count": 3,
   "metadata": {},
   "outputs": [],
   "source": [
    "import pandas as pd\n",
    "\n",
    "df = pd.read_csv('./data/IMDB Dataset.csv')"
   ]
  },
  {
   "cell_type": "code",
   "execution_count": 4,
   "metadata": {},
   "outputs": [
    {
     "data": {
      "text/plain": [
       "(50000, 2)"
      ]
     },
     "execution_count": 4,
     "metadata": {},
     "output_type": "execute_result"
    }
   ],
   "source": [
    "df.shape"
   ]
  },
  {
   "cell_type": "code",
   "execution_count": 5,
   "metadata": {},
   "outputs": [
    {
     "data": {
      "text/html": [
       "<div>\n",
       "<style scoped>\n",
       "    .dataframe tbody tr th:only-of-type {\n",
       "        vertical-align: middle;\n",
       "    }\n",
       "\n",
       "    .dataframe tbody tr th {\n",
       "        vertical-align: top;\n",
       "    }\n",
       "\n",
       "    .dataframe thead th {\n",
       "        text-align: right;\n",
       "    }\n",
       "</style>\n",
       "<table border=\"1\" class=\"dataframe\">\n",
       "  <thead>\n",
       "    <tr style=\"text-align: right;\">\n",
       "      <th></th>\n",
       "      <th>review</th>\n",
       "      <th>sentiment</th>\n",
       "    </tr>\n",
       "  </thead>\n",
       "  <tbody>\n",
       "    <tr>\n",
       "      <th>0</th>\n",
       "      <td>One of the other reviewers has mentioned that ...</td>\n",
       "      <td>positive</td>\n",
       "    </tr>\n",
       "    <tr>\n",
       "      <th>1</th>\n",
       "      <td>A wonderful little production. &lt;br /&gt;&lt;br /&gt;The...</td>\n",
       "      <td>positive</td>\n",
       "    </tr>\n",
       "    <tr>\n",
       "      <th>2</th>\n",
       "      <td>I thought this was a wonderful way to spend ti...</td>\n",
       "      <td>positive</td>\n",
       "    </tr>\n",
       "    <tr>\n",
       "      <th>3</th>\n",
       "      <td>Basically there's a family where a little boy ...</td>\n",
       "      <td>negative</td>\n",
       "    </tr>\n",
       "    <tr>\n",
       "      <th>4</th>\n",
       "      <td>Petter Mattei's \"Love in the Time of Money\" is...</td>\n",
       "      <td>positive</td>\n",
       "    </tr>\n",
       "    <tr>\n",
       "      <th>5</th>\n",
       "      <td>Probably my all-time favorite movie, a story o...</td>\n",
       "      <td>positive</td>\n",
       "    </tr>\n",
       "    <tr>\n",
       "      <th>6</th>\n",
       "      <td>I sure would like to see a resurrection of a u...</td>\n",
       "      <td>positive</td>\n",
       "    </tr>\n",
       "    <tr>\n",
       "      <th>7</th>\n",
       "      <td>This show was an amazing, fresh &amp; innovative i...</td>\n",
       "      <td>negative</td>\n",
       "    </tr>\n",
       "    <tr>\n",
       "      <th>8</th>\n",
       "      <td>Encouraged by the positive comments about this...</td>\n",
       "      <td>negative</td>\n",
       "    </tr>\n",
       "    <tr>\n",
       "      <th>9</th>\n",
       "      <td>If you like original gut wrenching laughter yo...</td>\n",
       "      <td>positive</td>\n",
       "    </tr>\n",
       "  </tbody>\n",
       "</table>\n",
       "</div>"
      ],
      "text/plain": [
       "                                              review sentiment\n",
       "0  One of the other reviewers has mentioned that ...  positive\n",
       "1  A wonderful little production. <br /><br />The...  positive\n",
       "2  I thought this was a wonderful way to spend ti...  positive\n",
       "3  Basically there's a family where a little boy ...  negative\n",
       "4  Petter Mattei's \"Love in the Time of Money\" is...  positive\n",
       "5  Probably my all-time favorite movie, a story o...  positive\n",
       "6  I sure would like to see a resurrection of a u...  positive\n",
       "7  This show was an amazing, fresh & innovative i...  negative\n",
       "8  Encouraged by the positive comments about this...  negative\n",
       "9  If you like original gut wrenching laughter yo...  positive"
      ]
     },
     "execution_count": 5,
     "metadata": {},
     "output_type": "execute_result"
    }
   ],
   "source": [
    "df.head(10)"
   ]
  },
  {
   "cell_type": "code",
   "execution_count": 6,
   "metadata": {},
   "outputs": [],
   "source": [
    "# Remove html tags\n",
    "df['review'] = df['review'].apply(lambda x: x.replace('<br />', ''))"
   ]
  },
  {
   "cell_type": "code",
   "execution_count": 7,
   "metadata": {},
   "outputs": [
    {
     "data": {
      "text/html": [
       "<div>\n",
       "<style scoped>\n",
       "    .dataframe tbody tr th:only-of-type {\n",
       "        vertical-align: middle;\n",
       "    }\n",
       "\n",
       "    .dataframe tbody tr th {\n",
       "        vertical-align: top;\n",
       "    }\n",
       "\n",
       "    .dataframe thead th {\n",
       "        text-align: right;\n",
       "    }\n",
       "</style>\n",
       "<table border=\"1\" class=\"dataframe\">\n",
       "  <thead>\n",
       "    <tr style=\"text-align: right;\">\n",
       "      <th></th>\n",
       "      <th>review</th>\n",
       "      <th>sentiment</th>\n",
       "    </tr>\n",
       "  </thead>\n",
       "  <tbody>\n",
       "    <tr>\n",
       "      <th>0</th>\n",
       "      <td>One of the other reviewers has mentioned that ...</td>\n",
       "      <td>positive</td>\n",
       "    </tr>\n",
       "    <tr>\n",
       "      <th>1</th>\n",
       "      <td>A wonderful little production. The filming tec...</td>\n",
       "      <td>positive</td>\n",
       "    </tr>\n",
       "    <tr>\n",
       "      <th>2</th>\n",
       "      <td>I thought this was a wonderful way to spend ti...</td>\n",
       "      <td>positive</td>\n",
       "    </tr>\n",
       "    <tr>\n",
       "      <th>3</th>\n",
       "      <td>Basically there's a family where a little boy ...</td>\n",
       "      <td>negative</td>\n",
       "    </tr>\n",
       "    <tr>\n",
       "      <th>4</th>\n",
       "      <td>Petter Mattei's \"Love in the Time of Money\" is...</td>\n",
       "      <td>positive</td>\n",
       "    </tr>\n",
       "    <tr>\n",
       "      <th>5</th>\n",
       "      <td>Probably my all-time favorite movie, a story o...</td>\n",
       "      <td>positive</td>\n",
       "    </tr>\n",
       "    <tr>\n",
       "      <th>6</th>\n",
       "      <td>I sure would like to see a resurrection of a u...</td>\n",
       "      <td>positive</td>\n",
       "    </tr>\n",
       "    <tr>\n",
       "      <th>7</th>\n",
       "      <td>This show was an amazing, fresh &amp; innovative i...</td>\n",
       "      <td>negative</td>\n",
       "    </tr>\n",
       "    <tr>\n",
       "      <th>8</th>\n",
       "      <td>Encouraged by the positive comments about this...</td>\n",
       "      <td>negative</td>\n",
       "    </tr>\n",
       "    <tr>\n",
       "      <th>9</th>\n",
       "      <td>If you like original gut wrenching laughter yo...</td>\n",
       "      <td>positive</td>\n",
       "    </tr>\n",
       "  </tbody>\n",
       "</table>\n",
       "</div>"
      ],
      "text/plain": [
       "                                              review sentiment\n",
       "0  One of the other reviewers has mentioned that ...  positive\n",
       "1  A wonderful little production. The filming tec...  positive\n",
       "2  I thought this was a wonderful way to spend ti...  positive\n",
       "3  Basically there's a family where a little boy ...  negative\n",
       "4  Petter Mattei's \"Love in the Time of Money\" is...  positive\n",
       "5  Probably my all-time favorite movie, a story o...  positive\n",
       "6  I sure would like to see a resurrection of a u...  positive\n",
       "7  This show was an amazing, fresh & innovative i...  negative\n",
       "8  Encouraged by the positive comments about this...  negative\n",
       "9  If you like original gut wrenching laughter yo...  positive"
      ]
     },
     "execution_count": 7,
     "metadata": {},
     "output_type": "execute_result"
    }
   ],
   "source": [
    "df.head(10)"
   ]
  },
  {
   "cell_type": "markdown",
   "metadata": {},
   "source": [
    "# Applying NLP\n",
    "* We need to tokenize the text\n",
    "* How should we do it?\n",
    "- Use Spacy\n",
    "- Figure our what our unit of analysis (lemmas, adj, keywords, nouns, spacy tokens, etc.) Try different ones\n",
    "- Keyword extraction NEW TECHNIQUE"
   ]
  },
  {
   "cell_type": "code",
   "execution_count": 8,
   "metadata": {},
   "outputs": [],
   "source": [
    "import spacy\n",
    "\n",
    "nlp = spacy.load('en_core_web_lg')"
   ]
  },
  {
   "cell_type": "code",
   "execution_count": 45,
   "metadata": {},
   "outputs": [],
   "source": [
    "# Try Lemmatization as our first Experiment\n",
    "\n",
    "def get_lemmas(text):\n",
    "    \n",
    "    lemmas = []\n",
    "    \n",
    "    doc = nlp(text)\n",
    "    \n",
    "    STOP_WORDS = nlp.Defaults.stop_words.union([\"film\", \"movie\", \"character\", \"actor\"])\n",
    "    \n",
    "    for token in doc:\n",
    "        conditions = (token.is_stop == False) and (token.is_punct == False) and (token.pos_ != 'PRON') and (token.text not in STOP_WORDS)\n",
    "        if conditions:\n",
    "            lemmas.append(token.lemma_)\n",
    "    \n",
    "    return lemmas"
   ]
  },
  {
   "cell_type": "code",
   "execution_count": 46,
   "metadata": {},
   "outputs": [],
   "source": [
    "from tqdm import tqdm\n",
    "tqdm.pandas()"
   ]
  },
  {
   "cell_type": "code",
   "execution_count": 47,
   "metadata": {},
   "outputs": [
    {
     "name": "stderr",
     "output_type": "stream",
     "text": [
      "100%|██████████| 50000/50000 [22:16<00:00, 37.41it/s]\n"
     ]
    }
   ],
   "source": [
    "df['lemmas'] = df['review'].progress_apply(get_lemmas)"
   ]
  },
  {
   "cell_type": "markdown",
   "metadata": {},
   "source": [
    "## Topic Modeling w/ Gensim\n",
    "* Learn a Vocabulary\n",
    "* Create a Bag of Words (BoW) representation of each document\n",
    "* Estimate our LDA model\n",
    "* Clean up the results\n",
    "* Add topic information back to dataframe"
   ]
  },
  {
   "cell_type": "code",
   "execution_count": 48,
   "metadata": {},
   "outputs": [],
   "source": [
    "import gensim\n",
    "from gensim import corpora\n",
    "from gensim.models.ldamulticore import LdaMulticore"
   ]
  },
  {
   "cell_type": "code",
   "execution_count": 49,
   "metadata": {},
   "outputs": [],
   "source": [
    "# like countVectorizer fit\n",
    "\n",
    "id2word = corpora.Dictionary(df['lemmas'])"
   ]
  },
  {
   "cell_type": "code",
   "execution_count": 50,
   "metadata": {},
   "outputs": [],
   "source": [
    "# for statistical trimming\n",
    "id2word.filter_extremes(no_below=50, no_above=.90)"
   ]
  },
  {
   "cell_type": "code",
   "execution_count": 51,
   "metadata": {},
   "outputs": [
    {
     "data": {
      "text/plain": [
       "8510"
      ]
     },
     "execution_count": 51,
     "metadata": {},
     "output_type": "execute_result"
    }
   ],
   "source": [
    "#how big is corpus\n",
    "len(id2word.keys())"
   ]
  },
  {
   "cell_type": "code",
   "execution_count": 52,
   "metadata": {},
   "outputs": [
    {
     "data": {
      "text/plain": [
       "'1'"
      ]
     },
     "execution_count": 52,
     "metadata": {},
     "output_type": "execute_result"
    }
   ],
   "source": [
    "id2word[0]"
   ]
  },
  {
   "cell_type": "code",
   "execution_count": 53,
   "metadata": {},
   "outputs": [],
   "source": [
    "# Transform\n",
    "\n",
    "corpus = [id2word.doc2bow(doc) for doc in df['lemmas']]"
   ]
  },
  {
   "cell_type": "code",
   "execution_count": 54,
   "metadata": {},
   "outputs": [
    {
     "data": {
      "text/html": [
       "<div>\n",
       "<style scoped>\n",
       "    .dataframe tbody tr th:only-of-type {\n",
       "        vertical-align: middle;\n",
       "    }\n",
       "\n",
       "    .dataframe tbody tr th {\n",
       "        vertical-align: top;\n",
       "    }\n",
       "\n",
       "    .dataframe thead th {\n",
       "        text-align: right;\n",
       "    }\n",
       "</style>\n",
       "<table border=\"1\" class=\"dataframe\">\n",
       "  <thead>\n",
       "    <tr style=\"text-align: right;\">\n",
       "      <th></th>\n",
       "      <th>review</th>\n",
       "      <th>sentiment</th>\n",
       "      <th>lemmas</th>\n",
       "    </tr>\n",
       "  </thead>\n",
       "  <tbody>\n",
       "    <tr>\n",
       "      <th>0</th>\n",
       "      <td>One of the other reviewers has mentioned that ...</td>\n",
       "      <td>positive</td>\n",
       "      <td>[reviewer, mention, watch, 1, Oz, episode, hoo...</td>\n",
       "    </tr>\n",
       "    <tr>\n",
       "      <th>1</th>\n",
       "      <td>A wonderful little production. The filming tec...</td>\n",
       "      <td>positive</td>\n",
       "      <td>[wonderful, little, production, filming, techn...</td>\n",
       "    </tr>\n",
       "    <tr>\n",
       "      <th>2</th>\n",
       "      <td>I thought this was a wonderful way to spend ti...</td>\n",
       "      <td>positive</td>\n",
       "      <td>[think, wonderful, way, spend, time, hot, summ...</td>\n",
       "    </tr>\n",
       "    <tr>\n",
       "      <th>3</th>\n",
       "      <td>Basically there's a family where a little boy ...</td>\n",
       "      <td>negative</td>\n",
       "      <td>[basically, family, little, boy, Jake, think, ...</td>\n",
       "    </tr>\n",
       "    <tr>\n",
       "      <th>4</th>\n",
       "      <td>Petter Mattei's \"Love in the Time of Money\" is...</td>\n",
       "      <td>positive</td>\n",
       "      <td>[Petter, Mattei, love, Time, money, visually, ...</td>\n",
       "    </tr>\n",
       "  </tbody>\n",
       "</table>\n",
       "</div>"
      ],
      "text/plain": [
       "                                              review sentiment  \\\n",
       "0  One of the other reviewers has mentioned that ...  positive   \n",
       "1  A wonderful little production. The filming tec...  positive   \n",
       "2  I thought this was a wonderful way to spend ti...  positive   \n",
       "3  Basically there's a family where a little boy ...  negative   \n",
       "4  Petter Mattei's \"Love in the Time of Money\" is...  positive   \n",
       "\n",
       "                                              lemmas  \n",
       "0  [reviewer, mention, watch, 1, Oz, episode, hoo...  \n",
       "1  [wonderful, little, production, filming, techn...  \n",
       "2  [think, wonderful, way, spend, time, hot, summ...  \n",
       "3  [basically, family, little, boy, Jake, think, ...  \n",
       "4  [Petter, Mattei, love, Time, money, visually, ...  "
      ]
     },
     "execution_count": 54,
     "metadata": {},
     "output_type": "execute_result"
    }
   ],
   "source": [
    "df.head()"
   ]
  },
  {
   "cell_type": "code",
   "execution_count": 55,
   "metadata": {},
   "outputs": [],
   "source": [
    "# the key to LDA is in the preprocessing than it is in the modeling\n",
    "\n",
    "lda = LdaMulticore(corpus=corpus,\n",
    "                   id2word=id2word,\n",
    "                   num_topics = 5, # 15 to 5\n",
    "                   passes=100, # 2 to 15, usually 100 to get better results\n",
    "                   workers=12,\n",
    "                   random_state=812)\n",
    "\n",
    "# parameter to tune are\n",
    "#.num_topics\n",
    "#.passes\n",
    "\n",
    "# need more passes\n",
    "# need more stop words\n",
    "# need statical trimming see id2word\n",
    "\n",
    "# look up coherence scores"
   ]
  },
  {
   "cell_type": "code",
   "execution_count": 56,
   "metadata": {},
   "outputs": [
    {
     "data": {
      "text/plain": [
       "[(0,\n",
       "  '0.021*\"bad\" + 0.019*\"like\" + 0.014*\"watch\" + 0.011*\"good\" + 0.011*\"think\" + 0.010*\"time\" + 0.010*\"see\" + 0.008*\"look\" + 0.008*\"movie\" + 0.007*\"know\"'),\n",
       " (1,\n",
       "  '0.023*\"good\" + 0.015*\"great\" + 0.014*\"like\" + 0.010*\"watch\" + 0.009*\"see\" + 0.009*\"time\" + 0.009*\"funny\" + 0.009*\"comedy\" + 0.009*\"love\" + 0.008*\"think\"'),\n",
       " (2,\n",
       "  '0.010*\"horror\" + 0.009*\"scene\" + 0.006*\"like\" + 0.005*\"kill\" + 0.005*\"plot\" + 0.005*\"film\" + 0.005*\"look\" + 0.004*\"good\" + 0.004*\"end\" + 0.004*\"man\"'),\n",
       " (3,\n",
       "  '0.009*\"play\" + 0.006*\"man\" + 0.005*\"good\" + 0.005*\"year\" + 0.004*\"role\" + 0.004*\"time\" + 0.004*\"star\" + 0.003*\"scene\" + 0.003*\"performance\" + 0.003*\"John\"'),\n",
       " (4,\n",
       "  '0.011*\"story\" + 0.009*\"life\" + 0.007*\"time\" + 0.007*\"people\" + 0.007*\"like\" + 0.006*\"love\" + 0.005*\"way\" + 0.005*\"character\" + 0.005*\"see\" + 0.005*\"find\"')]"
      ]
     },
     "execution_count": 56,
     "metadata": {},
     "output_type": "execute_result"
    }
   ],
   "source": [
    "lda.print_topics()"
   ]
  },
  {
   "cell_type": "code",
   "execution_count": 57,
   "metadata": {},
   "outputs": [],
   "source": [
    "import re\n",
    "\n",
    "words = [re.findall(r'\"([^\"]*)\"', t[1]) for t in lda.print_topics()]"
   ]
  },
  {
   "cell_type": "code",
   "execution_count": 58,
   "metadata": {},
   "outputs": [],
   "source": [
    "topics = [' '.join(t[0:5]) for t in words]"
   ]
  },
  {
   "cell_type": "code",
   "execution_count": 59,
   "metadata": {},
   "outputs": [
    {
     "name": "stdout",
     "output_type": "stream",
     "text": [
      "------- Topic 0 -------\n",
      "bad like watch good think\n",
      "\n",
      "------- Topic 1 -------\n",
      "good great like watch see\n",
      "\n",
      "------- Topic 2 -------\n",
      "horror scene like kill plot\n",
      "\n",
      "------- Topic 3 -------\n",
      "play man good year role\n",
      "\n",
      "------- Topic 4 -------\n",
      "story life time people like\n",
      "\n"
     ]
    }
   ],
   "source": [
    "for id, t in enumerate(topics):\n",
    "    print(f\"------- Topic {id} -------\")\n",
    "    print(t, end=\"\\n\\n\")"
   ]
  },
  {
   "cell_type": "markdown",
   "metadata": {},
   "source": [
    "## Analyzing the Results of LDA\n",
    "- How good are the topics themselves?\n",
    "    * Using tntertopic distance visualization\n",
    "    * Looking at some of the tokens distributions\n",
    "- Using the LDA topics for analysis:\n",
    "    * Score each review with a top topic\n",
    "    * Summary visualization of top topic versus sentiment"
   ]
  },
  {
   "cell_type": "code",
   "execution_count": 60,
   "metadata": {},
   "outputs": [],
   "source": [
    "import pyLDAvis.gensim\n",
    "\n",
    "pyLDAvis.enable_notebook()"
   ]
  },
  {
   "cell_type": "code",
   "execution_count": 62,
   "metadata": {},
   "outputs": [
    {
     "name": "stderr",
     "output_type": "stream",
     "text": [
      "/home/jepoy/miniconda3/envs/ds-unit-4/lib/python3.7/site-packages/ipykernel/ipkernel.py:287: DeprecationWarning: `should_run_async` will not call `transform_cell` automatically in the future. Please pass the result to `transformed_cell` argument and any exception that happen during thetransform in `preprocessing_exc_tuple` in IPython 7.17 and above.\n",
      "  and should_run_async(code)\n"
     ]
    },
    {
     "data": {
      "text/html": [
       "\n",
       "<link rel=\"stylesheet\" type=\"text/css\" href=\"https://cdn.rawgit.com/bmabey/pyLDAvis/files/ldavis.v1.0.0.css\">\n",
       "\n",
       "\n",
       "<div id=\"ldavis_el921401260119922484793426256\"></div>\n",
       "<script type=\"text/javascript\">\n",
       "\n",
       "var ldavis_el921401260119922484793426256_data = {\"mdsDat\": {\"x\": [0.13908167080432435, -0.04256889765779053, -0.14907541497150936, 0.06896619520340719, -0.01640355337843142], \"y\": [0.026719499904723894, 0.00897686050373118, -0.045231726110925304, -0.11620723099358396, 0.12574259669605417], \"topics\": [1, 2, 3, 4, 5], \"cluster\": [1, 1, 1, 1, 1], \"Freq\": [24.5684371639424, 24.403752325958465, 17.33008068813483, 17.17168212015854, 16.52604770180576]}, \"tinfo\": {\"Term\": [\"bad\", \"watch\", \"horror\", \"good\", \"comedy\", \"funny\", \"great\", \"think\", \"like\", \"love\", \"movie\", \"play\", \"role\", \"life\", \"see\", \"laugh\", \"kill\", \"performance\", \"people\", \"killer\", \"cast\", \"fan\", \"stupid\", \"guy\", \"murder\", \"waste\", \"episode\", \"enjoy\", \"John\", \"plot\", \"robot\", \"Seagal\", \"dinosaur\", \"MST3\", \"Trek\", \"1/10\", \"0\", \"Norris\", \"dragon\", \"crap\", \"Spock\", \"Scooby\", \"Doo\", \"WWE\", \"critter\", \"ugh\", \"Piper\", \"Hulk\", \"Grinch\", \"Casper\", \"abomination\", \"Robot\", \"Rangers\", \"scifi\", \"Looney\", \"turd\", \"cg\", \"sh*t\", \"Mart\", \"crappy\", \"stupid\", \"blah\", \"garbage\", \"horrible\", \"bad\", \"awful\", \"terrible\", \"suck\", \"waste\", \"yeah\", \"1\", \"oh\", \"2\", \"5\", \"dumb\", \"Sci\", \"lame\", \"3\", \"kid\", \"guy\", \"money\", \"rent\", \"s\", \"ok\", \"watch\", \"minute\", \"game\", \"boring\", \"like\", \"think\", \"movie\", \"thing\", \"get\", \"see\", \"look\", \"go\", \"want\", \"people\", \"know\", \"time\", \"acting\", \"actually\", \"good\", \"say\", \"try\", \"plot\", \"well\", \"come\", \"end\", \"way\", \"scene\", \"story\", \"documentary\", \"religion\", \"insight\", \"Cinderella\", \"sadness\", \"Streep\", \"cultural\", \"cope\", \"Miyazaki\", \"Meryl\", \"loneliness\", \"compassion\", \"poetic\", \"Christians\", \"9/11\", \"Israel\", \"homosexuality\", \"Edie\", \"Christianity\", \"israeli\", \"AIDS\", \"Antonioni\", \"uplifting\", \"Portman\", \"Rory\", \"Iran\", \"turmoil\", \"ideology\", \"Godard\", \"poetry\", \"selfish\", \"complexity\", \"chess\", \"perception\", \"emotionally\", \"spiritual\", \"society\", \"profound\", \"emotional\", \"social\", \"faith\", \"symbolism\", \"perspective\", \"culture\", \"moral\", \"understanding\", \"relationship\", \"message\", \"subject\", \"depict\", \"issue\", \"life\", \"religious\", \"emotion\", \"reflect\", \"nature\", \"world\", \"reality\", \"convey\", \"political\", \"experience\", \"family\", \"human\", \"powerful\", \"mother\", \"story\", \"portray\", \"present\", \"feeling\", \"child\", \"image\", \"book\", \"viewer\", \"people\", \"view\", \"love\", \"live\", \"war\", \"feel\", \"character\", \"true\", \"beautiful\", \"way\", \"young\", \"man\", \"real\", \"woman\", \"find\", \"time\", \"work\", \"show\", \"tell\", \"audience\", \"like\", \"know\", \"see\", \"director\", \"come\", \"think\", \"film\", \"end\", \"make\", \"good\", \"great\", \"watch\", \"scene\", \"Jane\", \"Stewart\", \"Ford\", \"Tarzan\", \"Broadway\", \"Holmes\", \"Gene\", \"Sinatra\", \"MGM\", \"Columbo\", \"Welles\", \"Sir\", \"Stanwyck\", \"Powell\", \"Andrews\", \"Ralph\", \"Matthau\", \"Brando\", \"Bond\", \"Austen\", \"Dorothy\", \"Fonda\", \"Lincoln\", \"Davies\", \"Reed\", \"Western\", \"Rita\", \"Bette\", \"Branagh\", \"Civil\", \"Kelly\", \"Mickey\", \"Hamlet\", \"Eastwood\", \"1930\", \"1940\", \"`\", \"Arthur\", \"Connery\", \"Scott\", \"Frank\", \"Harry\", \"Young\", \"War\", \"Charles\", \"York\", \"Robert\", \"musical\", \"western\", \"James\", \"John\", \"New\", \"George\", \"World\", \"play\", \"version\", \"William\", \"Wayne\", \"Richard\", \"role\", \"star\", \"man\", \"later\", \"Mr.\", \"win\", \"wife\", \"year\", \"performance\", \"career\", \"early\", \"include\", \"cast\", \"set\", \"young\", \"old\", \"good\", \"time\", \"film\", \"work\", \"scene\", \"get\", \"take\", \"give\", \"great\", \"come\", \"look\", \"lead\", \"go\", \"story\", \"find\", \"Keaton\", \"sitcom\", \"Jackie\", \"fu\", \"kung\", \"Drew\", \"Carrey\", \"skit\", \"Scarlett\", \"Bourne\", \"Sandler\", \"Damme\", \"Stooges\", \"Bullock\", \"Belushi\", \"Quaid\", \"Salman\", \"Sandra\", \"League\", \"Stiller\", \"Clooney\", \"Pie\", \"Travolta\", \"SNL\", \"Carell\", \"Kline\", \"Muppet\", \"Akshay\", \"Amitabh\", \"HK\", \"comedy\", \"Chan\", \"Batman\", \"comedic\", \"slapstick\", \"comedian\", \"Murphy\", \"Madonna\", \"funny\", \"Robin\", \"humor\", \"Eddie\", \"Bruce\", \"great\", \"witty\", \"hilarious\", \"humour\", \"good\", \"favorite\", \"chemistry\", \"fan\", \"enjoy\", \"cast\", \"fun\", \"season\", \"role\", \"laugh\", \"performance\", \"episode\", \"series\", \"love\", \"song\", \"excellent\", \"fantastic\", \"play\", \"watch\", \"like\", \"see\", \"actor\", \"tv\", \"joke\", \"movie\", \"think\", \"time\", \"character\", \"recommend\", \"lot\", \"story\", \"work\", \"well\", \"film\", \"scene\", \"look\", \"know\", \"get\", \"way\", \"gore\", \"vampire\", \"slasher\", \"zombie\", \"gory\", \"werewolf\", \"corpse\", \"Fulci\", \"creepy\", \"Dracula\", \"killer\", \"stalk\", \"Lugosi\", \"Frankenstein\", \"spooky\", \"Zombie\", \"Argento\", \"gruesome\", \"Massacre\", \"Karloff\", \"splatter\", \"Troma\", \"eerie\", \"sleaze\", \"cannibal\", \"Frost\", \"psychopath\", \"Bela\", \"Miike\", \"wax\", \"horror\", \"blood\", \"supernatural\", \"ghost\", \"killing\", \"demon\", \"serial\", \"murder\", \"thriller\", \"monster\", \"victim\", \"nudity\", \"scare\", \"suspense\", \"kill\", \"creature\", \"violence\", \"rape\", \"body\", \"scary\", \"sex\", \"genre\", \"dead\", \"scene\", \"police\", \"plot\", \"\\u0096\", \"house\", \"effect\", \"film\", \"budget\", \"death\", \"woman\", \"flick\", \"look\", \"turn\", \"end\", \"man\", \"little\", \"like\", \"director\", \"find\", \"pretty\", \"go\", \"set\", \"good\", \"story\", \"get\", \"way\", \"thing\", \"time\", \"work\", \"come\", \"try\"], \"Freq\": [26010.0, 27631.0, 7163.0, 40407.0, 7131.0, 9650.0, 19555.0, 23079.0, 44017.0, 16604.0, 15483.0, 16967.0, 8345.0, 14414.0, 24688.0, 6065.0, 6657.0, 9007.0, 17371.0, 2660.0, 7741.0, 6614.0, 3622.0, 8672.0, 3317.0, 4309.0, 4897.0, 6464.0, 4104.0, 13529.0, 505.25327575448165, 426.65817112963447, 366.4931342691539, 251.97069389837623, 411.8352304292938, 227.25344514428363, 206.08098932132307, 195.44464934831166, 188.92110699134506, 2041.9222273315763, 173.92195822492548, 161.7440526270734, 132.85134264586665, 126.92924700861361, 124.43570910905072, 117.66253212120691, 118.48756116178751, 113.59239408415493, 112.70546237019579, 100.99990296033874, 94.54393500819826, 93.08073812078652, 86.32735335762071, 83.2344318992996, 78.36936500640323, 124.14353256995759, 70.88015349628088, 82.46159377064238, 68.11573746824743, 522.4254899818809, 3490.9624730502146, 350.87404878160737, 902.5622213567693, 2353.3876739662214, 22552.110098708265, 3100.8989721765815, 2988.6178306279603, 1413.4060200332979, 3844.5220513710083, 908.738023033781, 2119.773213342053, 2389.093317968434, 3395.3563160940384, 1508.8070846700207, 1208.2067613775941, 381.00260001977887, 1211.1670443361706, 2151.5047857294917, 4311.033023985761, 6056.639273944268, 3256.942848406955, 1962.3774097109238, 964.9588609673882, 1578.329992046429, 15420.60281407971, 4748.4068295026145, 2336.9466502571677, 2278.2784484368613, 20654.275643578985, 11488.153141697994, 8113.54955761036, 7984.401643792351, 7971.215989971516, 10539.039105836597, 8560.852642935866, 7961.724006148774, 6248.282357036771, 7583.538287634097, 8012.393607510388, 11159.234263368548, 4850.348506603676, 4354.047184253057, 11807.507739279357, 4296.182532634184, 5115.014496661304, 5327.948522204408, 4103.650046741407, 5192.877281128347, 4667.778185579341, 4831.883671047088, 5029.337117451799, 3731.974063879206, 2153.8915902761996, 476.17160319337063, 477.76369211076405, 245.86936473090762, 221.19778385936414, 223.5636784836422, 338.33940384406156, 202.4879027430398, 190.1148035673675, 168.1308857214081, 163.05176987044445, 149.19278857037048, 202.01998506738653, 143.28184677916806, 138.46986088252157, 131.90794859241117, 124.85696298152847, 122.43528446649265, 121.29994709603956, 119.66503260753221, 117.89319473190449, 114.93412387017253, 161.60357050839846, 108.75069113612923, 106.51665501155814, 100.27356569591949, 96.61275857912831, 84.49273234716738, 88.28913818821698, 211.12068386166501, 201.6838635543644, 212.09887725601652, 149.63268573042592, 137.30434457521912, 450.1087211257698, 233.4981980045869, 1267.7038549912381, 270.6466069460291, 1244.8141794330731, 956.1551809124862, 449.87177790043654, 235.74001067937118, 520.9466416805645, 968.8251915804665, 760.6267763293741, 392.0434180658163, 2205.311200016091, 1570.040667685189, 1591.0630984731265, 800.2397439019074, 1261.1388881844107, 9872.292781711732, 550.9441776391974, 1301.9313979063143, 442.52195614002875, 1064.5979424781497, 4596.797313394145, 1635.100876364157, 539.6323671799943, 970.797474323513, 2107.232538345373, 3821.2782096424808, 2468.021580329123, 985.4456274196705, 2084.301969665446, 11535.798045386839, 1765.4013231971692, 1725.1541382148646, 1603.6851095926968, 3108.8873639148173, 1288.8667935481578, 3104.1759277215288, 2374.193559186958, 7205.532624404077, 2146.044848515596, 6741.274010429477, 3152.345781022831, 2082.9877794322238, 4757.200084810306, 5610.859461193907, 2494.375202518522, 2344.3333518064383, 5666.378357042169, 3360.8094405316956, 4755.178867462711, 3723.4942776664157, 3541.770730217265, 5013.490743703258, 7254.777916938068, 4371.699129866933, 3531.217561971244, 3308.899861375567, 2628.4375672053657, 7147.264414162209, 4768.952867744123, 5114.480796164812, 3303.9258614187675, 4185.560122660662, 4653.046799771453, 3931.9414801872545, 3826.6135152909487, 3524.1313325360984, 4451.043754804431, 3762.1569788545817, 3889.818073895799, 3686.2388983028027, 1029.265034464676, 730.5614460600899, 631.7203613651478, 411.00481671040023, 386.8526992586856, 397.7465354124455, 414.9778300266277, 358.19624120767605, 336.3776698005036, 337.9264982376061, 326.75248958857156, 321.5921407403471, 300.81712223526927, 285.1552185679154, 280.5429967281426, 268.4043651120861, 259.912535543861, 251.99225078310803, 537.6282203857339, 243.0190504274574, 236.05150266201187, 221.87722685114468, 219.75596824554853, 216.100334721527, 216.12749317086354, 214.4637006051107, 213.63026600745928, 211.42399060976726, 206.626108563772, 206.69012016563124, 709.6223037556392, 334.38786517258455, 220.4191257847272, 363.56854548446347, 355.54310196837395, 294.0987814633691, 1046.039349987577, 547.3041981862783, 284.60607339428896, 924.6294389557872, 715.1578022027269, 715.0582876239029, 512.7477606896279, 1047.168716506687, 789.097576949505, 1139.2545851431805, 1562.9954529529646, 1566.1439738178585, 1136.6676487742661, 1494.9852065759223, 2573.3531601215827, 1532.3933033869355, 1209.5312671993304, 766.3932018402555, 6764.339526703436, 2456.229813011808, 841.1066935837803, 463.4313810663441, 996.4652417709153, 3321.492785244104, 2860.1890595167374, 4449.75933182083, 1962.1236385076154, 1208.203756883594, 1393.99827237301, 1820.5926587553022, 3441.220864479327, 2645.951347312381, 1197.7475546827943, 1594.6476406905713, 1579.828822056004, 2018.2672140404009, 1888.535263550297, 1957.4747848555753, 2150.016548154246, 3734.114581056242, 3256.9999011335403, 2518.332222364143, 2317.671167281097, 2660.6093843854323, 2438.7173720052274, 2072.9099255694273, 1984.9457666327332, 2268.274219804851, 2171.1026603882765, 2087.312978668267, 1657.626557454257, 1747.1721482476728, 1701.4680415923792, 1636.2677540255838, 461.5630597865006, 449.2852012929578, 438.4130343625996, 310.63403954926525, 290.5493665515381, 236.62359139890293, 231.39515744413404, 224.8537811635617, 214.77170439084267, 212.84425724541697, 204.96002377505727, 196.99981883194084, 187.95072599884168, 169.7547687317341, 163.8524717613221, 162.91391483554585, 154.38424185667145, 266.96726434219227, 149.72837927582304, 144.5900846839382, 141.20619597880386, 139.2026128727329, 139.50581888048757, 131.82041836971587, 130.94202014768433, 131.05290691623463, 130.71751611163512, 119.72407774403429, 115.67390343198592, 113.55852339104848, 6895.763901070359, 423.81238756661224, 649.5975430181535, 578.6947097154438, 404.14275040908393, 456.6669790933241, 371.4125994529327, 218.99665256732482, 6926.76377103007, 472.352105503883, 2111.1930127021888, 511.8435420816378, 653.787378513376, 11073.528880265609, 470.96084501144725, 1532.903776597694, 753.873258218299, 17390.85897134336, 1778.85027833471, 708.8416502395385, 3661.3884579513133, 3551.1108648130735, 4066.51291594225, 2980.9132046452896, 1152.8260429067986, 4116.0810560217005, 3154.525389815499, 4249.430466075801, 2612.0153837582293, 3107.481327350549, 6413.445759516146, 1949.6490626604511, 2106.463306025275, 1007.9263371874553, 5547.543967484374, 7764.339257309677, 10652.425147656084, 7089.254294040682, 3501.481666829421, 2469.708007161244, 1730.0546611064099, 4882.53004933371, 6226.3811846018125, 6949.72013937994, 4246.805678010118, 2066.032621672612, 3182.7215088868647, 5040.435615009266, 3213.8357746900797, 2693.6354144686356, 3292.7945229552797, 3444.733257578845, 3309.6377318275727, 3208.4595209528684, 3030.664518437345, 3019.3214336481437, 1819.4823996088794, 1353.5059125618216, 991.4237831407613, 1707.264494401515, 511.20075504440285, 418.0372533891895, 378.157432907459, 368.5162949383656, 1263.7416691528372, 374.1098485951429, 2653.0922710804202, 280.94261098102555, 263.05125153922495, 245.8619357647026, 237.94187174497534, 225.99906648428848, 222.33295101532408, 326.56966600529915, 204.75374465958157, 201.93434100664396, 207.87272155955566, 184.35977821564094, 264.0976577461636, 164.73476498545259, 170.57969379798143, 156.3072121074768, 154.62051109073934, 152.96641000918456, 152.41376248384418, 150.02404687265567, 7047.935694312931, 1962.5219235605903, 378.1717857439266, 855.5892142388914, 603.9611952802258, 644.28911975932, 656.1285634903277, 2464.3693572213, 1539.192272795094, 1554.903563020139, 1202.3734151251736, 885.8468509385107, 835.5778986365997, 1198.7932267110027, 3972.7580789603066, 876.937454343916, 1438.1940642829106, 816.2138115305476, 1468.2232375973456, 1284.8321492005937, 1830.3618496513284, 1516.6885449259767, 1672.6197865928957, 6462.422368601426, 1149.8209265412656, 3945.863227416599, 1363.9901530307122, 1581.7810223031863, 2182.3476029019225, 3771.422567841049, 1753.3137972103982, 1731.5091369057036, 2519.7133880697083, 1526.3689421242316, 3424.442915093458, 2188.416995301826, 2868.321834471024, 2752.7232452763888, 2596.8085515856324, 4085.2914088561593, 2233.636873019781, 2661.7119092352686, 2046.7543305096078, 2553.6884094144393, 1967.0935552608737, 3024.1710116847285, 2651.3749964112953, 2360.633471795595, 2269.8571845587444, 2204.7108418305565, 2226.6740587639933, 2003.3706027181095, 1988.7227732468643, 1915.2825173231927], \"Total\": [26010.0, 27631.0, 7163.0, 40407.0, 7131.0, 9650.0, 19555.0, 23079.0, 44017.0, 16604.0, 15483.0, 16967.0, 8345.0, 14414.0, 24688.0, 6065.0, 6657.0, 9007.0, 17371.0, 2660.0, 7741.0, 6614.0, 3622.0, 8672.0, 3317.0, 4309.0, 4897.0, 6464.0, 4104.0, 13529.0, 506.0671684363177, 427.4676686417878, 367.3038726989242, 252.7772279718846, 413.1898133552126, 228.06995843871556, 206.8877399140762, 196.25394110471888, 189.73388482523615, 2051.786017629692, 174.78528467356531, 162.549890466913, 133.6594142237579, 127.7430923813418, 125.24394370725322, 118.47045293843372, 119.30300339446158, 114.40611228105617, 113.52529145356634, 101.80663714639718, 95.35610385724671, 93.89526148324065, 87.13539416290848, 84.04357152962875, 79.18589011580177, 125.52714601335306, 71.68959704044343, 83.43404029440671, 68.92358619218939, 528.6327710212313, 3622.84236881598, 357.8005285589702, 942.7188678358425, 2512.7602471656924, 26010.371604091437, 3391.510018467608, 3306.705718408575, 1528.3742285456217, 4309.118434047108, 989.5847873223173, 2426.726128060541, 2869.0035714913183, 4260.336530185438, 1798.5444969170069, 1423.1781293894942, 415.07277914134886, 1445.8600031566493, 2707.82939254825, 5927.000492771924, 8672.744888496525, 4427.9869715713385, 2576.5932570951118, 1161.2010847305905, 2020.5596969174812, 27631.513984246365, 7143.297522158057, 3190.712777129441, 3163.6900642469736, 44017.44501713651, 23079.744295055872, 15483.58148264395, 16325.816504051727, 17028.548761191152, 24688.410257574928, 19530.9117677098, 17896.44472093054, 13122.865089075047, 17371.26539575286, 18951.417231678486, 30847.406279584087, 9524.850619354182, 8405.649220977972, 40407.69605816813, 8366.035898998207, 12439.90836004663, 13529.581623224223, 8597.26835021075, 16440.973324003106, 14830.816909609346, 17053.669990636066, 21283.341026320304, 24661.05076227898, 2156.1238741265115, 476.980415450296, 479.31932951855856, 246.6885815968393, 222.006590884998, 224.39853732270174, 339.65968523424107, 203.30060657216885, 190.92233472095734, 168.94879316394602, 163.85816869948346, 150.01379097743714, 203.13664665658317, 144.0880696970477, 139.27495898463297, 132.7144141631228, 125.66770335537976, 123.24924306104154, 122.10641534849105, 120.47469239996451, 118.70970076976526, 115.73611393045597, 162.7349696550839, 109.56222967546567, 107.34151091971904, 101.07848798981907, 97.43434461746092, 85.3015136095585, 89.13446554377384, 213.15641019061044, 204.09851441704984, 215.0894182053753, 151.2935434570861, 138.728420198656, 462.45820779723437, 237.57787940453588, 1348.9513254270641, 278.02827846316586, 1340.7927435691074, 1022.068901500715, 472.405318386932, 242.88196361423113, 559.0780271189814, 1079.4779633178991, 844.1571219566039, 419.8654309563011, 2652.8056516680967, 1851.117173610821, 1887.3968791880816, 916.9474604583493, 1505.9006368165915, 14414.393880146758, 613.1957754501024, 1594.6537241712333, 484.238744057574, 1286.0304894283365, 6611.509171130893, 2088.051211780394, 606.5243904491651, 1182.719458263067, 2985.747345464957, 6001.660125807191, 3645.137291559765, 1243.1397302235546, 3046.658410826163, 24661.05076227898, 2533.4350825822053, 2465.542866246352, 2290.2155761563577, 5276.9171043626475, 1762.6265943672804, 5533.796264279733, 3932.302723425504, 17371.26539575286, 3490.4051065224403, 16604.012241244855, 5905.226412699161, 3387.420553226839, 10881.825694822868, 14515.171438801628, 4491.983312058069, 4176.998386808704, 17053.669990636066, 7571.18550660994, 13661.442330284142, 9342.331976884216, 8562.32103360396, 15886.869793707745, 30847.406279584087, 13683.670494779142, 9127.90168622461, 8172.366573347963, 5196.242340184673, 44017.44501713651, 18951.417231678486, 24688.410257574928, 8983.289427872163, 16440.973324003106, 23079.744295055872, 15890.454437406266, 14830.816909609346, 12940.31102838729, 40407.69605816813, 19555.35107603155, 27631.513984246365, 21283.341026320304, 1030.3864007020234, 731.3711479854921, 632.5273628525252, 411.80977389991034, 387.660865581693, 398.588893048228, 415.86532677502316, 359.0003939724976, 337.18201352591825, 338.7356640802973, 327.56314642908546, 322.40216155721174, 301.6201744584609, 285.96129781068197, 281.3511792104332, 269.22285494861967, 260.72022943014343, 252.80791863376513, 539.3985699137634, 243.8277784815919, 236.8647710150174, 222.69180238302812, 220.56409790500715, 216.91152124849575, 216.93970965694157, 215.27430925700494, 214.44106423415434, 212.2323241221068, 207.4345643553016, 207.49988844592139, 714.0067165027198, 336.38232016327015, 221.3356622776472, 368.5805397376552, 361.9793256190154, 300.04650596471845, 1162.4269255409788, 584.4218825243013, 290.8194661591295, 1039.0789047276864, 788.526857281896, 791.8611298497937, 553.6030761316238, 1226.4052195002726, 900.6355768872739, 1373.421266158344, 1986.282075975357, 2024.0954189285276, 1426.9757181034431, 2029.1278598907463, 4104.934796823534, 2166.938943082899, 1639.9711213175774, 962.6601619245564, 16967.19163318493, 4484.105297510901, 1137.0039801044313, 511.94219548167945, 1496.5093178609327, 8345.198286382654, 7090.269229060051, 13661.442330284142, 4218.662198263629, 2082.9978266067383, 2689.197250971974, 4225.638788058849, 12564.727081251116, 9007.83153926853, 2162.8441648323014, 3756.9894909147115, 3907.4507267853705, 7741.5723446922175, 6645.251609131091, 7571.18550660994, 9951.437291504224, 40407.69605816813, 30847.406279584087, 15890.454437406266, 13683.670494779142, 21283.341026320304, 17028.548761191152, 10330.42404525482, 10642.153258022148, 19555.35107603155, 16440.973324003106, 19530.9117677098, 5814.219025330098, 17896.44472093054, 24661.05076227898, 15886.869793707745, 462.37976996544154, 450.0946234036558, 439.2259694503027, 311.4459541782991, 291.360578007485, 237.43381877407907, 232.20434563757817, 225.6642787272209, 215.5794042186266, 213.65346005915964, 205.77869440922095, 197.8193324589238, 188.76184264129478, 170.57152255585055, 164.65707831648965, 163.72286866878366, 155.1869137155583, 268.38218371705904, 150.54069506403442, 145.39802999590367, 142.01928029019084, 140.0117668426783, 140.3185288372529, 132.62642231674724, 131.7468600580738, 131.86165549085771, 131.53229949952112, 120.5296191374293, 116.48311024070362, 114.36722707158752, 7131.999691671419, 431.69455716841367, 664.5700329908653, 608.4216809901296, 424.16793686172963, 484.37746917521986, 391.4837532744717, 226.87711231383378, 9650.700200533194, 526.0339328172723, 2694.6179556281927, 578.2295668459363, 772.0973037203461, 19555.35107603155, 544.8395284080617, 2091.029777605279, 960.3118088910599, 40407.69605816813, 2758.4605143817002, 914.3525853920085, 6614.451251832917, 6464.702399398112, 7741.5723446922175, 5304.793450108825, 1669.8687537195347, 8345.198286382654, 6065.629733458313, 9007.83153926853, 4897.596449991648, 6319.495680563678, 16604.012241244855, 3590.1423630786476, 4040.1460908196927, 1485.0161158187823, 16967.19163318493, 27631.513984246365, 44017.44501713651, 24688.410257574928, 8933.536808674491, 5417.153107333577, 3242.539528624462, 15483.58148264395, 23079.744295055872, 30847.406279584087, 14515.171438801628, 4388.830074398476, 9656.197959194553, 24661.05076227898, 13683.670494779142, 8597.26835021075, 15890.454437406266, 21283.341026320304, 19530.9117677098, 18951.417231678486, 17028.548761191152, 17053.669990636066, 1820.2869539263666, 1354.3183504835013, 992.2265665285126, 1708.7532910130726, 512.0067680175197, 418.8424515381839, 378.9764870973405, 369.3160252580938, 1266.5905507214977, 375.15120015042396, 2660.7963019209615, 281.7904903270844, 263.8527588170757, 246.67015579333886, 238.74994420088535, 226.80254103683927, 223.1336053967877, 327.80118002891294, 205.56487604889867, 202.73813308096584, 208.7304018016793, 185.1738720377425, 265.31285321012047, 165.5402698653711, 171.45485739333134, 157.1136626626354, 155.43230116193715, 153.7703352273559, 153.21861985856663, 150.83848628738548, 7163.735589636199, 2025.390837940507, 388.0193130609252, 903.2544773119839, 632.0136704586271, 703.7029346667891, 734.4866311366299, 3317.3679990856554, 1957.6675665967196, 2003.5754024128994, 1522.6240112713026, 1098.7894689406535, 1027.5810612288788, 1571.246734802633, 6657.500867404398, 1135.5140701914888, 2079.416562558879, 1055.321478088676, 2246.4621523735177, 2001.4394181880616, 3350.947370449572, 2590.1843599107015, 3011.042544905147, 21283.341026320304, 1846.981747802679, 13529.581623224223, 2493.807400414516, 3235.695335310866, 5771.4646039183335, 15890.454437406266, 3971.0428365668504, 3901.2266595245937, 8562.32103360396, 3235.0464441689187, 19530.9117677098, 7508.863904654054, 14830.816909609346, 13661.442330284142, 12053.197037296659, 44017.44501713651, 8983.289427872163, 15886.869793707745, 7218.56915303216, 17896.44472093054, 6645.251609131091, 40407.69605816813, 24661.05076227898, 17028.548761191152, 17053.669990636066, 16325.816504051727, 30847.406279584087, 13683.670494779142, 16440.973324003106, 12439.90836004663], \"Category\": [\"Default\", \"Default\", \"Default\", \"Default\", \"Default\", \"Default\", \"Default\", \"Default\", \"Default\", \"Default\", \"Default\", \"Default\", \"Default\", \"Default\", \"Default\", \"Default\", \"Default\", \"Default\", \"Default\", \"Default\", \"Default\", \"Default\", \"Default\", \"Default\", \"Default\", \"Default\", \"Default\", \"Default\", \"Default\", \"Default\", \"Topic1\", \"Topic1\", \"Topic1\", \"Topic1\", \"Topic1\", \"Topic1\", \"Topic1\", \"Topic1\", \"Topic1\", \"Topic1\", \"Topic1\", \"Topic1\", \"Topic1\", \"Topic1\", \"Topic1\", \"Topic1\", \"Topic1\", \"Topic1\", \"Topic1\", \"Topic1\", \"Topic1\", \"Topic1\", \"Topic1\", \"Topic1\", \"Topic1\", \"Topic1\", \"Topic1\", \"Topic1\", \"Topic1\", \"Topic1\", \"Topic1\", \"Topic1\", \"Topic1\", \"Topic1\", \"Topic1\", \"Topic1\", \"Topic1\", \"Topic1\", \"Topic1\", \"Topic1\", \"Topic1\", \"Topic1\", \"Topic1\", \"Topic1\", \"Topic1\", \"Topic1\", \"Topic1\", \"Topic1\", \"Topic1\", \"Topic1\", \"Topic1\", \"Topic1\", \"Topic1\", \"Topic1\", \"Topic1\", \"Topic1\", \"Topic1\", \"Topic1\", \"Topic1\", \"Topic1\", \"Topic1\", \"Topic1\", \"Topic1\", \"Topic1\", \"Topic1\", \"Topic1\", \"Topic1\", \"Topic1\", \"Topic1\", \"Topic1\", \"Topic1\", \"Topic1\", \"Topic1\", \"Topic1\", \"Topic1\", \"Topic1\", \"Topic1\", \"Topic1\", \"Topic1\", \"Topic1\", \"Topic1\", \"Topic1\", \"Topic2\", \"Topic2\", \"Topic2\", \"Topic2\", \"Topic2\", \"Topic2\", \"Topic2\", \"Topic2\", \"Topic2\", \"Topic2\", \"Topic2\", \"Topic2\", \"Topic2\", \"Topic2\", \"Topic2\", \"Topic2\", \"Topic2\", \"Topic2\", \"Topic2\", \"Topic2\", \"Topic2\", \"Topic2\", \"Topic2\", \"Topic2\", \"Topic2\", \"Topic2\", \"Topic2\", \"Topic2\", \"Topic2\", \"Topic2\", \"Topic2\", \"Topic2\", \"Topic2\", \"Topic2\", \"Topic2\", \"Topic2\", \"Topic2\", \"Topic2\", \"Topic2\", \"Topic2\", \"Topic2\", \"Topic2\", \"Topic2\", \"Topic2\", \"Topic2\", \"Topic2\", \"Topic2\", \"Topic2\", \"Topic2\", \"Topic2\", \"Topic2\", \"Topic2\", \"Topic2\", \"Topic2\", \"Topic2\", \"Topic2\", \"Topic2\", \"Topic2\", \"Topic2\", \"Topic2\", \"Topic2\", \"Topic2\", \"Topic2\", \"Topic2\", \"Topic2\", \"Topic2\", \"Topic2\", \"Topic2\", \"Topic2\", \"Topic2\", \"Topic2\", \"Topic2\", \"Topic2\", \"Topic2\", \"Topic2\", \"Topic2\", \"Topic2\", \"Topic2\", \"Topic2\", \"Topic2\", \"Topic2\", \"Topic2\", \"Topic2\", \"Topic2\", \"Topic2\", \"Topic2\", \"Topic2\", \"Topic2\", \"Topic2\", \"Topic2\", \"Topic2\", \"Topic2\", \"Topic2\", \"Topic2\", \"Topic2\", \"Topic2\", \"Topic2\", \"Topic2\", \"Topic2\", \"Topic2\", \"Topic2\", \"Topic2\", \"Topic2\", \"Topic2\", \"Topic2\", \"Topic2\", \"Topic3\", \"Topic3\", \"Topic3\", \"Topic3\", \"Topic3\", \"Topic3\", \"Topic3\", \"Topic3\", \"Topic3\", \"Topic3\", \"Topic3\", \"Topic3\", \"Topic3\", \"Topic3\", \"Topic3\", \"Topic3\", \"Topic3\", \"Topic3\", \"Topic3\", \"Topic3\", \"Topic3\", \"Topic3\", \"Topic3\", \"Topic3\", \"Topic3\", \"Topic3\", \"Topic3\", \"Topic3\", \"Topic3\", \"Topic3\", \"Topic3\", \"Topic3\", \"Topic3\", \"Topic3\", \"Topic3\", \"Topic3\", \"Topic3\", \"Topic3\", \"Topic3\", \"Topic3\", \"Topic3\", \"Topic3\", \"Topic3\", \"Topic3\", \"Topic3\", \"Topic3\", \"Topic3\", \"Topic3\", \"Topic3\", \"Topic3\", \"Topic3\", \"Topic3\", \"Topic3\", \"Topic3\", \"Topic3\", \"Topic3\", \"Topic3\", \"Topic3\", \"Topic3\", \"Topic3\", \"Topic3\", \"Topic3\", \"Topic3\", \"Topic3\", \"Topic3\", \"Topic3\", \"Topic3\", \"Topic3\", \"Topic3\", \"Topic3\", \"Topic3\", \"Topic3\", \"Topic3\", \"Topic3\", \"Topic3\", \"Topic3\", \"Topic3\", \"Topic3\", \"Topic3\", \"Topic3\", \"Topic3\", \"Topic3\", \"Topic3\", \"Topic3\", \"Topic3\", \"Topic3\", \"Topic3\", \"Topic3\", \"Topic3\", \"Topic3\", \"Topic4\", \"Topic4\", \"Topic4\", \"Topic4\", \"Topic4\", \"Topic4\", \"Topic4\", \"Topic4\", \"Topic4\", \"Topic4\", \"Topic4\", \"Topic4\", \"Topic4\", \"Topic4\", \"Topic4\", \"Topic4\", \"Topic4\", \"Topic4\", \"Topic4\", \"Topic4\", \"Topic4\", \"Topic4\", \"Topic4\", \"Topic4\", \"Topic4\", \"Topic4\", \"Topic4\", \"Topic4\", \"Topic4\", \"Topic4\", \"Topic4\", \"Topic4\", \"Topic4\", \"Topic4\", \"Topic4\", \"Topic4\", \"Topic4\", \"Topic4\", \"Topic4\", \"Topic4\", \"Topic4\", \"Topic4\", \"Topic4\", \"Topic4\", \"Topic4\", \"Topic4\", \"Topic4\", \"Topic4\", \"Topic4\", \"Topic4\", \"Topic4\", \"Topic4\", \"Topic4\", \"Topic4\", \"Topic4\", \"Topic4\", \"Topic4\", \"Topic4\", \"Topic4\", \"Topic4\", \"Topic4\", \"Topic4\", \"Topic4\", \"Topic4\", \"Topic4\", \"Topic4\", \"Topic4\", \"Topic4\", \"Topic4\", \"Topic4\", \"Topic4\", \"Topic4\", \"Topic4\", \"Topic4\", \"Topic4\", \"Topic4\", \"Topic4\", \"Topic4\", \"Topic4\", \"Topic4\", \"Topic4\", \"Topic4\", \"Topic4\", \"Topic4\", \"Topic4\", \"Topic4\", \"Topic5\", \"Topic5\", \"Topic5\", \"Topic5\", \"Topic5\", \"Topic5\", \"Topic5\", \"Topic5\", \"Topic5\", \"Topic5\", \"Topic5\", \"Topic5\", \"Topic5\", \"Topic5\", \"Topic5\", \"Topic5\", \"Topic5\", \"Topic5\", \"Topic5\", \"Topic5\", \"Topic5\", \"Topic5\", \"Topic5\", \"Topic5\", \"Topic5\", \"Topic5\", \"Topic5\", \"Topic5\", \"Topic5\", \"Topic5\", \"Topic5\", \"Topic5\", \"Topic5\", \"Topic5\", \"Topic5\", \"Topic5\", \"Topic5\", \"Topic5\", \"Topic5\", \"Topic5\", \"Topic5\", \"Topic5\", \"Topic5\", \"Topic5\", \"Topic5\", \"Topic5\", \"Topic5\", \"Topic5\", \"Topic5\", \"Topic5\", \"Topic5\", \"Topic5\", \"Topic5\", \"Topic5\", \"Topic5\", \"Topic5\", \"Topic5\", \"Topic5\", \"Topic5\", \"Topic5\", \"Topic5\", \"Topic5\", \"Topic5\", \"Topic5\", \"Topic5\", \"Topic5\", \"Topic5\", \"Topic5\", \"Topic5\", \"Topic5\", \"Topic5\", \"Topic5\", \"Topic5\", \"Topic5\", \"Topic5\", \"Topic5\", \"Topic5\", \"Topic5\", \"Topic5\", \"Topic5\", \"Topic5\", \"Topic5\", \"Topic5\", \"Topic5\"], \"logprob\": [30.0, 29.0, 28.0, 27.0, 26.0, 25.0, 24.0, 23.0, 22.0, 21.0, 20.0, 19.0, 18.0, 17.0, 16.0, 15.0, 14.0, 13.0, 12.0, 11.0, 10.0, 9.0, 8.0, 7.0, 6.0, 5.0, 4.0, 3.0, 2.0, 1.0, -7.6656999588012695, -7.834799766540527, -7.986800193786621, -8.361499786376953, -7.870200157165527, -8.464699745178223, -8.5625, -8.615500450134277, -8.649399757385254, -6.269100189208984, -8.732199668884277, -8.804800033569336, -9.001500129699707, -9.047100067138672, -9.067000389099121, -9.123000144958496, -9.116000175476074, -9.15820026397705, -9.166000366210938, -9.275699615478516, -9.341699600219727, -9.3572998046875, -9.432600021362305, -9.469099998474121, -9.52929973602295, -9.069299697875977, -9.629799842834473, -9.478400230407715, -9.669599533081055, -7.632299900054932, -5.732800006866455, -8.03030014038086, -7.0854997634887695, -6.127200126647949, -3.8671998977661133, -5.85129976272583, -5.888199806213379, -6.63700008392334, -5.63640022277832, -7.078700065612793, -6.2316999435424805, -6.112100124359131, -5.7606000900268555, -6.571700096130371, -6.793900012969971, -7.947999954223633, -6.791399955749512, -6.216899871826172, -5.5218000411987305, -5.1819000244140625, -5.802199840545654, -6.308899879455566, -7.018700122833252, -6.526700019836426, -4.247300148010254, -5.42519998550415, -6.134200096130371, -6.159599781036377, -3.9551000595092773, -4.5416998863220215, -4.889500141143799, -4.9054999351501465, -4.907199859619141, -4.627900123596191, -4.8358001708984375, -4.908400058746338, -5.150700092315674, -4.956999778747559, -4.9019999504089355, -4.570799827575684, -5.4039998054504395, -5.511899948120117, -4.5142998695373535, -5.525300025939941, -5.350800037384033, -5.310100078582764, -5.571100234985352, -5.335700035095215, -5.442299842834473, -5.407800197601318, -5.367700099945068, -5.666100025177002, -6.209000110626221, -7.718299865722656, -7.714900016784668, -8.379199981689453, -8.484999656677246, -8.47439956665039, -8.0600004196167, -8.573399543762207, -8.63640022277832, -8.759300231933594, -8.789999961853027, -8.878800392150879, -8.575699806213379, -8.91919994354248, -8.953399658203125, -9.001899719238281, -9.056900024414062, -9.076499938964844, -9.085800170898438, -9.09939956665039, -9.114299774169922, -9.139699935913086, -8.79889965057373, -9.194999694824219, -9.215700149536133, -9.276100158691406, -9.313300132751465, -9.447400093078613, -9.403400421142578, -8.531599998474121, -8.577300071716309, -8.527000427246094, -8.875900268554688, -8.961799621582031, -7.774600028991699, -8.430899620056152, -6.739099979400635, -8.28320026397705, -6.757299900054932, -7.021100044250488, -7.775100231170654, -8.421299934387207, -7.628399848937988, -7.007999897003174, -7.249899864196777, -7.912700176239014, -6.185400009155273, -6.525199890136719, -6.511899948120117, -7.199100017547607, -6.74429988861084, -4.686600208282471, -7.572400093078613, -6.712399959564209, -7.791600227355957, -6.913700103759766, -5.450900077819824, -6.484600067138672, -7.593200206756592, -7.005899906158447, -6.230899810791016, -5.635700225830078, -6.07289981842041, -6.991000175476074, -6.2418999671936035, -4.530799865722656, -6.407899856567383, -6.431000232696533, -6.504000186920166, -5.8420000076293945, -6.722499847412109, -5.843500137329102, -6.111599922180176, -5.001399993896484, -6.212699890136719, -5.067999839782715, -5.828100204467773, -6.242499828338623, -5.416600227355957, -5.2515997886657715, -6.062300205230713, -6.124300003051758, -5.241700172424316, -5.764100074768066, -5.417099952697754, -5.661600112915039, -5.711699962615967, -5.364200115203857, -4.99459981918335, -5.501100063323975, -5.714700222015381, -5.779699802398682, -6.009900093078613, -5.0096001625061035, -5.4141998291015625, -5.344200134277344, -5.781199932098389, -5.5447001457214355, -5.438799858093262, -5.6072001457214355, -5.634300231933594, -5.716700077056885, -5.4832000732421875, -5.651299953460693, -5.6178998947143555, -5.6717000007629395, -6.605199813842773, -6.94789981842041, -7.093299865722656, -7.523200035095215, -7.583700180053711, -7.5559000968933105, -7.513500213623047, -7.660699844360352, -7.723499774932861, -7.718900203704834, -7.752600193023682, -7.768499851226807, -7.835299968719482, -7.888700008392334, -7.90500020980835, -7.9492998123168945, -7.981400012969971, -8.012399673461914, -7.2546000480651855, -8.048600196838379, -8.077699661254883, -8.139599800109863, -8.149200439453125, -8.166000366210938, -8.165900230407715, -8.173600196838379, -8.177499771118164, -8.187899589538574, -8.210800170898438, -8.21049976348877, -6.9770002365112305, -7.729499816894531, -8.146200180053711, -7.6458001136779785, -7.668099880218506, -7.857800006866455, -6.589000225067139, -7.236800193786621, -7.890699863433838, -6.712399959564209, -6.969299793243408, -6.969399929046631, -7.302000045776367, -6.587900161743164, -6.8709001541137695, -6.503600120544434, -6.187399864196777, -6.185400009155273, -6.505899906158447, -6.231900215148926, -5.688799858093262, -6.207200050354004, -6.44379997253418, -6.900100231170654, -4.722300052642822, -5.735400199890137, -6.807000160217285, -7.40310001373291, -6.637499809265137, -5.433599948883057, -5.583099842071533, -5.141200065612793, -5.960000038146973, -6.444900035858154, -6.301799774169922, -6.034800052642822, -5.398200035095215, -5.660999774932861, -6.45359992980957, -6.167300224304199, -6.176700115203857, -5.93179988861084, -5.998199939727783, -5.962299823760986, -5.868500232696533, -5.316500186920166, -5.453199863433838, -5.710400104522705, -5.793399810791016, -5.655399799346924, -5.742499828338623, -5.90500020980835, -5.948400020599365, -5.815000057220459, -5.858799934387207, -5.898099899291992, -6.128600120544434, -6.076000213623047, -6.102499961853027, -6.141600131988525, -7.3979997634887695, -7.424900054931641, -7.449399948120117, -7.794000148773193, -7.860799789428711, -8.066100120544434, -8.088399887084961, -8.11709976196289, -8.163000106811523, -8.17199993133545, -8.209799766540527, -8.24940013885498, -8.29640007019043, -8.398200035095215, -8.433600425720215, -8.439399719238281, -8.4931001663208, -7.945400238037109, -8.523799896240234, -8.558699607849121, -8.58240032196045, -8.596599578857422, -8.594499588012695, -8.651100158691406, -8.65779972076416, -8.656999588012695, -8.659500122070312, -8.747400283813477, -8.781800270080566, -8.800299644470215, -4.693900108337402, -7.48330020904541, -7.05620002746582, -7.171800136566162, -7.530799865722656, -7.408599853515625, -7.615300178527832, -8.143500328063965, -4.6894001960754395, -7.374800205230713, -5.877600193023682, -7.294600009918213, -7.049799919128418, -4.220300197601318, -7.377799987792969, -6.197700023651123, -6.907400131225586, -3.768899917602539, -6.048900127410889, -6.968900203704834, -5.327000141143799, -5.357600212097168, -5.2220001220703125, -5.532599925994873, -6.482600212097168, -5.20989990234375, -5.47599983215332, -5.177999973297119, -5.664700031280518, -5.491000175476074, -4.76639986038208, -5.957200050354004, -5.879799842834473, -6.6168999671936035, -4.911499977111816, -4.575300216674805, -4.258999824523926, -4.666200160980225, -5.371600151062012, -5.720699787139893, -6.076700210571289, -5.0391998291015625, -4.796000003814697, -4.686100006103516, -5.178699970245361, -5.899199962615967, -5.467100143432617, -5.007299900054932, -5.457399845123291, -5.633900165557861, -5.43310022354126, -5.388000011444092, -5.427999973297119, -5.459000110626221, -5.515999794006348, -5.519800186157227, -5.9878997802734375, -6.28380012512207, -6.595099925994873, -6.051599979400635, -7.257500171661377, -7.458700180053711, -7.558899879455566, -7.584799766540527, -6.352399826049805, -7.569699764251709, -5.610799789428711, -7.856100082397461, -7.921899795532227, -7.989500045776367, -8.022199630737305, -8.073699951171875, -8.090100288391113, -7.705599784851074, -8.17240047454834, -8.186300277709961, -8.157299995422363, -8.277400016784668, -7.917900085449219, -8.389900207519531, -8.354999542236328, -8.442399978637695, -8.453300476074219, -8.46399974822998, -8.467700004577637, -8.483499526977539, -4.633800029754639, -5.912300109863281, -7.558899879455566, -6.742499828338623, -7.090700149536133, -7.026100158691406, -7.007900238037109, -5.684599876403809, -6.155200004577637, -6.145100116729736, -6.402200222015381, -6.707699775695801, -6.76609992980957, -6.405200004577637, -5.206999778747559, -6.717800140380859, -6.223100185394287, -6.789599895477295, -6.202400207519531, -6.335899829864502, -5.98199987411499, -6.170000076293945, -6.0721001625061035, -4.7204999923706055, -6.446899890899658, -5.213799953460693, -6.276100158691406, -6.127900123596191, -5.806099891662598, -5.258999824523926, -6.025000095367432, -6.037499904632568, -5.662399768829346, -6.163599967956543, -5.355599880218506, -5.803299903869629, -5.532800197601318, -5.57390022277832, -5.632199764251709, -5.179100036621094, -5.782899856567383, -5.607500076293945, -5.870200157165527, -5.64900016784668, -5.909900188446045, -5.479899883270264, -5.611400127410889, -5.72760009765625, -5.7667999267578125, -5.795899868011475, -5.785999774932861, -5.89169979095459, -5.89900016784668, -5.936600208282471], \"loglift\": [30.0, 29.0, 28.0, 27.0, 26.0, 25.0, 24.0, 23.0, 22.0, 21.0, 20.0, 19.0, 18.0, 17.0, 16.0, 15.0, 14.0, 13.0, 12.0, 11.0, 10.0, 9.0, 8.0, 7.0, 6.0, 5.0, 4.0, 3.0, 2.0, 1.0, 1.4021, 1.4018, 1.4015, 1.4005, 1.4004, 1.4001, 1.3998, 1.3996, 1.3994, 1.3989, 1.3988, 1.3987, 1.3976, 1.3973, 1.3972, 1.3969, 1.3968, 1.3966, 1.3965, 1.3958, 1.3952, 1.395, 1.3944, 1.394, 1.3933, 1.3926, 1.3924, 1.392, 1.3919, 1.3919, 1.3666, 1.3842, 1.3602, 1.3382, 1.261, 1.3141, 1.3026, 1.3255, 1.2896, 1.3185, 1.2685, 1.2207, 1.1768, 1.228, 1.24, 1.3181, 1.2266, 1.1737, 1.0854, 1.0447, 1.0966, 1.1314, 1.2186, 1.1567, 0.8205, 0.9953, 1.0923, 1.0754, 0.647, 0.7061, 0.7575, 0.6884, 0.6447, 0.5525, 0.5789, 0.5938, 0.6617, 0.5749, 0.5428, 0.3869, 0.7289, 0.7459, 0.1734, 0.7373, 0.515, 0.4718, 0.6641, 0.2512, 0.2477, 0.1426, -0.0389, -0.4846, 1.4094, 1.4087, 1.4072, 1.4071, 1.4068, 1.4067, 1.4065, 1.4064, 1.4062, 1.4056, 1.4055, 1.4049, 1.4049, 1.4048, 1.4046, 1.4043, 1.404, 1.4038, 1.4038, 1.4037, 1.4035, 1.4035, 1.4035, 1.403, 1.4027, 1.4024, 1.402, 1.4009, 1.4009, 1.4008, 1.3985, 1.3964, 1.3994, 1.4001, 1.3834, 1.3931, 1.3483, 1.3835, 1.3362, 1.3438, 1.3616, 1.3806, 1.3398, 1.3023, 1.3062, 1.3419, 1.2257, 1.2457, 1.2396, 1.2743, 1.2331, 1.0319, 1.3034, 1.2076, 1.3203, 1.2215, 1.047, 1.1659, 1.2936, 1.213, 1.062, 0.959, 1.0205, 1.1781, 1.0308, 0.6507, 1.0492, 1.0533, 1.0541, 0.8814, 1.0974, 0.8323, 0.9059, 0.5305, 0.924, 0.509, 0.7827, 0.9242, 0.583, 0.4599, 0.8222, 0.8328, 0.3086, 0.5983, 0.3551, 0.4905, 0.5277, 0.2571, -0.037, 0.2694, 0.4607, 0.5063, 0.7289, -0.4074, 0.0307, -0.1638, 0.4102, 0.0423, -0.191, 0.0138, 0.0557, 0.1097, -0.7954, -0.2378, -0.5502, -0.3429, 1.7516, 1.7516, 1.7514, 1.7508, 1.7506, 1.7506, 1.7506, 1.7505, 1.7503, 1.7503, 1.7502, 1.7502, 1.7501, 1.7499, 1.7498, 1.7497, 1.7496, 1.7495, 1.7494, 1.7494, 1.7493, 1.7491, 1.7491, 1.749, 1.749, 1.749, 1.7489, 1.7489, 1.7488, 1.7488, 1.7466, 1.7468, 1.7486, 1.739, 1.7348, 1.7327, 1.6472, 1.6871, 1.7311, 1.636, 1.6551, 1.6507, 1.6761, 1.5947, 1.6205, 1.5658, 1.5131, 1.4962, 1.5253, 1.4472, 1.2857, 1.4062, 1.4483, 1.5247, 0.8331, 1.1508, 1.4513, 1.6532, 1.3461, 0.8315, 0.8449, 0.631, 0.9872, 1.2081, 1.0957, 0.9107, 0.4577, 0.5277, 1.1617, 0.8958, 0.8472, 0.4084, 0.4946, 0.4, 0.2205, -0.6288, -0.4955, -0.0894, -0.0229, -0.3266, -0.1907, 0.1466, 0.0735, -0.4015, -0.2718, -0.4834, 0.4978, -0.5739, -0.921, -0.5203, 1.7601, 1.7601, 1.7601, 1.7593, 1.7591, 1.7585, 1.7584, 1.7583, 1.7582, 1.7581, 1.7579, 1.7578, 1.7576, 1.7571, 1.757, 1.757, 1.7567, 1.7566, 1.7565, 1.7563, 1.7562, 1.7561, 1.7561, 1.7558, 1.7558, 1.7558, 1.7557, 1.7552, 1.7549, 1.7548, 1.7282, 1.7435, 1.7391, 1.7118, 1.7135, 1.703, 1.7093, 1.7266, 1.4303, 1.6543, 1.5179, 1.64, 1.5956, 1.1932, 1.6162, 1.4514, 1.5199, 0.9188, 1.3232, 1.5073, 1.1705, 1.1628, 1.1181, 1.1855, 1.3914, 1.0551, 1.1081, 1.0106, 1.1333, 1.0521, 0.8107, 1.1514, 1.1106, 1.3744, 0.644, 0.4925, 0.3431, 0.5142, 0.8253, 0.9764, 1.1337, 0.6078, 0.4517, 0.2716, 0.5329, 1.0085, 0.652, 0.1742, 0.3132, 0.6014, 0.1879, -0.0592, -0.0133, -0.0142, 0.0358, 0.0306, 1.7998, 1.7996, 1.7994, 1.7994, 1.7987, 1.7983, 1.7981, 1.7981, 1.798, 1.7975, 1.7973, 1.7972, 1.7972, 1.797, 1.7968, 1.7967, 1.7966, 1.7965, 1.7963, 1.7963, 1.7961, 1.7958, 1.7956, 1.7954, 1.7951, 1.7951, 1.795, 1.795, 1.795, 1.7948, 1.7839, 1.7687, 1.7745, 1.746, 1.7548, 1.712, 1.6874, 1.503, 1.5597, 1.5467, 1.5641, 1.5848, 1.5934, 1.5297, 1.2839, 1.5418, 1.4315, 1.5433, 1.3749, 1.357, 1.1955, 1.265, 1.2123, 0.6083, 1.3263, 0.568, 1.1968, 1.0845, 0.8277, 0.362, 0.9827, 0.9879, 0.577, 1.0491, 0.0592, 0.5673, 0.1573, 0.1982, 0.2652, -0.577, 0.4085, 0.0137, 0.5398, -0.1468, 0.5829, -0.7922, -0.4299, -0.1757, -0.2164, -0.2019, -0.8283, -0.1211, -0.3121, -0.0708]}, \"token.table\": {\"Topic\": [1, 1, 2, 3, 4, 5, 1, 2, 3, 1, 3, 5, 1, 2, 3, 4, 5, 1, 2, 3, 4, 5, 1, 2, 3, 4, 5, 2, 2, 4, 4, 3, 2, 5, 3, 4, 3, 1, 4, 5, 5, 4, 3, 1, 3, 4, 3, 3, 3, 1, 3, 4, 5, 4, 4, 4, 1, 3, 4, 5, 2, 3, 4, 5, 2, 2, 2, 3, 4, 3, 3, 4, 4, 3, 1, 3, 5, 4, 3, 4, 3, 4, 2, 3, 3, 3, 4, 5, 5, 5, 5, 3, 1, 3, 4, 5, 2, 1, 4, 3, 1, 3, 4, 5, 3, 1, 2, 2, 4, 2, 3, 4, 5, 3, 4, 1, 2, 3, 4, 5, 5, 4, 1, 3, 4, 4, 3, 1, 5, 3, 1, 3, 4, 1, 5, 3, 2, 1, 3, 5, 5, 2, 1, 2, 3, 4, 5, 4, 3, 4, 1, 2, 3, 4, 5, 1, 4, 1, 2, 3, 4, 3, 1, 3, 2, 3, 4, 5, 3, 1, 3, 4, 5, 3, 4, 1, 2, 4, 4, 4, 4, 5, 4, 1, 5, 1, 1, 3, 4, 5, 1, 3, 3, 1, 3, 3, 4, 4, 2, 3, 4, 1, 3, 5, 1, 1, 2, 3, 3, 4, 3, 3, 3, 4, 5, 1, 2, 3, 4, 1, 2, 3, 4, 3, 4, 5, 2, 3, 4, 5, 1, 1, 2, 3, 4, 5, 1, 2, 3, 4, 5, 1, 2, 3, 4, 5, 1, 2, 3, 4, 5, 1, 4, 5, 1, 2, 3, 4, 5, 1, 2, 3, 4, 5, 1, 5, 1, 2, 3, 5, 1, 2, 3, 4, 5, 1, 2, 3, 4, 5, 1, 2, 4, 5, 1, 3, 4, 5, 5, 1, 2, 3, 4, 5, 1, 2, 3, 4, 5, 1, 1, 2, 3, 4, 5, 2, 3, 4, 2, 3, 1, 2, 3, 4, 5, 1, 2, 3, 4, 5, 3, 4, 3, 4, 1, 3, 4, 2, 2, 3, 1, 2, 3, 5, 2, 5, 1, 5, 1, 4, 5, 1, 2, 3, 5, 1, 5, 1, 2, 3, 2, 3, 4, 1, 2, 3, 4, 5, 1, 2, 3, 4, 5, 1, 2, 5, 2, 3, 5, 1, 1, 2, 3, 4, 5, 1, 2, 3, 1, 1, 4, 5, 1, 2, 3, 4, 5, 3, 5, 1, 2, 3, 4, 5, 1, 2, 3, 4, 5, 2, 3, 4, 5, 2, 3, 1, 2, 3, 4, 5, 1, 2, 3, 4, 5, 1, 2, 3, 4, 1, 2, 3, 4, 5, 1, 2, 3, 4, 5, 1, 2, 1, 2, 3, 4, 5, 1, 2, 3, 4, 5, 1, 2, 3, 4, 5, 1, 2, 3, 4, 5, 1, 2, 3, 4, 5, 1, 2, 3, 4, 5, 1, 2, 3, 4, 5, 1, 2, 3, 4, 5, 1, 4, 5, 4, 1, 2, 3, 4, 5, 1, 2, 4, 1, 2, 3, 4, 5, 1, 2, 5, 1, 2, 3, 4, 5, 1, 2, 3, 4, 5, 1, 3, 5, 1, 2, 3, 4, 5, 1, 2, 3, 4, 5, 1, 2, 3, 4, 5, 5, 5, 1, 2, 3, 4, 5, 4, 5, 1, 2, 3, 4, 5, 1, 2, 3, 4, 5, 2, 1, 2, 4, 5, 1, 5, 1, 2, 3, 4, 5, 1, 2, 3, 5, 1, 2, 3, 4, 5, 1, 2, 3, 4, 5, 2, 1, 2, 3, 5, 1, 2, 3, 4, 5, 2, 3, 2, 1, 2, 3, 4, 5, 1, 4, 1, 2, 3, 4, 5, 1, 2, 3, 4, 5, 1, 5, 1, 3, 5, 1, 2, 3, 4, 5, 4, 1, 4, 5, 1, 2, 3, 4, 5, 1, 2, 4, 5, 1, 2, 3, 4, 5, 1, 2, 3, 4, 5, 1, 2, 3, 4, 5, 1, 2, 3, 4, 5, 1, 2, 3, 4, 5, 2, 1, 2, 3, 4, 5, 1, 2, 3, 4, 5, 1, 2, 3, 4, 5, 1, 2, 3, 4, 5, 1, 2, 3, 4, 5, 1, 2, 3, 4, 5, 1, 2, 3, 4, 5, 1, 2, 3, 4, 5, 1, 5, 1, 2, 3, 5, 1, 2, 3, 4, 5, 1, 2, 3, 4, 5, 2, 3, 5, 1, 2, 3, 4, 1, 2, 3, 4, 5, 1, 4, 5, 1, 2, 3, 4, 5, 1, 2, 4, 5, 1, 2, 3, 4, 5, 1, 2, 3, 4, 5, 2, 3, 2, 3, 4, 5, 1, 2, 3, 4, 5, 1, 2, 3, 4, 5, 1, 2, 3, 4, 5, 2, 2, 3, 1, 2, 3, 4, 5, 2, 3, 4, 1, 2, 3, 4, 5, 2, 3, 4, 5, 1, 2, 3, 4, 5, 1, 2, 3, 4, 5, 2, 3, 5, 5, 2, 3, 5, 1, 2, 3, 4, 5, 1, 2, 3, 4, 5, 1, 2, 3, 4, 5, 2, 3, 5, 2, 3, 4, 5, 2, 1, 2, 5, 1, 2, 4, 5, 1, 1, 2, 3, 4, 5, 1, 2, 4, 5, 2, 1, 2, 3, 4, 5, 1, 5, 1, 5, 1, 2, 3, 4, 5, 1, 1, 2, 3, 4, 1, 2, 3, 4, 5, 2, 3, 1, 3, 5, 1, 2, 3, 4, 5, 1, 2, 3, 4, 5, 1, 2, 3, 4, 5, 1, 1, 2, 3, 4, 5, 4, 4, 3, 4, 5, 5, 2, 3, 4, 5, 2, 3, 5, 1, 2, 3, 4, 2, 4, 5, 5, 5, 1, 2, 3, 4, 5, 1, 2, 3, 4, 5, 1, 4, 5, 1, 2, 3, 4, 5, 1, 4, 5, 2, 5, 1, 2, 3, 4, 5, 2, 3, 5, 1, 2, 3, 4, 5, 1, 2, 3, 4, 5, 1, 2, 3, 4, 5, 1, 2, 3, 4, 5, 1, 2, 3, 4, 5, 3, 4, 5, 1, 2, 3, 4, 5, 1, 2, 3, 4, 5, 1, 2, 3, 4, 5, 1, 5, 2, 1, 2, 3, 4, 5, 1, 2, 3, 4, 5, 1, 2, 3, 5, 2, 3, 5, 1, 2, 3, 4, 5, 2, 3, 5, 1, 2, 3, 4, 5, 1, 2, 3, 4, 5, 1, 2, 3, 4, 5, 1, 2, 3, 4, 5, 1, 2, 3, 1, 2, 3, 4, 5, 1, 2, 3, 4, 5, 5, 1, 2, 3, 4, 5, 1, 2, 3, 4, 5, 5, 1, 2, 3, 4, 5, 1, 2, 3, 4, 5, 1, 2, 3, 4, 2, 3, 4, 5, 1, 2, 3, 4, 5, 1, 2, 3, 4, 5, 1, 2, 3, 4, 5, 1, 2, 4, 5, 1, 2, 3, 4, 5, 1, 2, 3, 4, 5, 1, 5, 2, 3, 5], \"Freq\": [0.9957090743296587, 0.8736049674028609, 0.030081680481324927, 0.021428046370258854, 0.0692290728885286, 0.005769089407377383, 0.9953086393050619, 0.01657553228969497, 0.9834815825219017, 0.016664083402417405, 0.9798481040621435, 0.0033328166804834814, 0.7968854046964752, 0.017134796625285033, 0.0030514021387493895, 0.14717147238429748, 0.03567793269922363, 0.7947324916119708, 0.02695886240133544, 0.008493888153845414, 0.1340557130367776, 0.036191349525080456, 0.8390117690091446, 0.011120102968974746, 0.0011120102968974746, 0.1384452819637356, 0.01056409782052601, 0.9908457414460725, 0.9940215436045812, 0.995605900514583, 0.9958525296954613, 0.9987518118409217, 0.9936397213846467, 0.9949196115270407, 0.9359676910750425, 0.06331042882957326, 0.996605069009172, 0.007523661543235318, 0.9780760006205913, 0.013542590777823571, 0.9949903521624185, 0.9960094134840248, 0.9941935135130604, 0.0018539166690039158, 0.9974071679241068, 0.996941495546205, 0.9979050533036661, 0.9968042194321629, 0.9982952481398881, 0.0012951735424816357, 0.13599322196057173, 0.8470434967829897, 0.015542082509779629, 0.9966493670966476, 0.9943310978512537, 0.994813423347994, 0.9920767725071084, 0.002316452647814778, 0.982175922673466, 0.013898715886888669, 0.0011103270020224427, 0.8760480045957072, 0.05440602309909969, 0.067729947123369, 0.9909389253190887, 0.9924485788494812, 0.9972087009768266, 0.997590897760643, 0.9928229442642709, 0.9978282060074936, 0.9799894201169285, 0.020631356212987968, 0.9958581780216352, 0.9957977278327623, 0.9950664588230652, 0.9963490939943848, 0.996931370204967, 0.9981728854957606, 0.9875724862172173, 0.010852444903485903, 0.11414151711405837, 0.8854614660969377, 0.9898640914133418, 0.9968934537525623, 0.9991662608078377, 0.9067541497123536, 0.0773594449404945, 0.015218251463703836, 0.9972831906187293, 0.9929117389044215, 0.9991442958429086, 0.9979192139394413, 0.009756269358661243, 0.7378178702487564, 0.13353893684667575, 0.11890453280868389, 0.987272425577997, 0.99537291253041, 0.9967890532892114, 0.9939654447733247, 0.020205563067649254, 0.902936099585576, 0.07198231842850046, 0.003788543075184235, 0.9985225552982061, 0.9964502571326042, 0.9893301926921612, 0.9946169060261632, 0.9972087956187176, 0.0004928225666636122, 0.7367697371621001, 0.26070313776505083, 0.0019712902666544486, 0.9986544846660643, 0.0009705097032711996, 0.0017052646013809318, 0.002436092287687045, 0.6268065456218768, 0.2884333268621462, 0.0806346547224412, 0.9963591798457024, 0.9991786622380345, 0.005602188197321759, 0.9943884050246122, 0.9934654582664674, 0.996408312956145, 0.9974424763124863, 0.9850239718961609, 0.9967680504047073, 0.9964944348200608, 0.9969252452915931, 0.030853707227713058, 0.9652802689813085, 0.9865998529209722, 0.9972520789555298, 0.9972375391364235, 0.9943841376657522, 0.002972807844106162, 0.9929178199314582, 0.002972807844106162, 0.9920465289421644, 0.9951690580240108, 0.09601546264011498, 0.07105144235368509, 0.5799333943462945, 0.24099881122668862, 0.0115218555168138, 0.9959530890773862, 0.048533303977697846, 0.9476766197750474, 0.035533996121945306, 0.21828026189194974, 0.7069880786859767, 0.035995476591061476, 0.0032303632838132095, 0.9936106194980829, 0.992773701343151, 0.9890782012406397, 0.9948683987435172, 0.9966383639393105, 0.9955848033041368, 0.9954578338126121, 0.986969770736496, 0.9956683372609487, 0.04142974538148617, 0.6655488129025844, 0.20915339200653504, 0.08419593416237513, 0.9979431913578235, 0.0005034531661415478, 0.7868972986792393, 0.14952559034403973, 0.06293164576769349, 0.10075395652928447, 0.8972805185249484, 0.9904653177476859, 0.9968184636419506, 0.9952767909606188, 0.9923517151856388, 0.9962158647596802, 0.9948499423549061, 0.0037260297466475884, 0.9973123396424317, 0.9179113137415699, 0.07950412953667141, 0.9966170972780511, 0.004811954104015191, 0.8902115092428102, 0.10393820864672812, 0.0009623908208030381, 0.9989059555234348, 0.9972133903213092, 0.9987526089922311, 0.9955071465253386, 0.9979438561774776, 0.9994925312729187, 0.9972624801318499, 0.9959640008243482, 0.9982239753990525, 0.9980336214649749, 0.9977299588308659, 0.9971204194373743, 0.002420195192809161, 0.9936607037222657, 0.9941829153538612, 0.005707738265214098, 0.13943189190737296, 0.85371456623988, 0.9043989811474118, 0.09376058551852216, 0.9982808004037554, 0.9940805325939585, 0.7396631979447917, 0.22339411685847455, 0.03693918467738556, 0.0425903154837451, 0.13608125191147824, 0.7957117478182621, 0.024930916380728838, 0.0007281087199102015, 0.15727148350060352, 0.8293158319777195, 0.012377848238473425, 0.9266567006539356, 0.07225393377418601, 0.9964614989180879, 0.056777762584331426, 0.8998415100486465, 0.0034410765202625105, 0.03957237998301887, 0.9962655368367418, 0.5091943374046162, 0.11181277718266312, 0.008189104807744341, 0.2625762964637, 0.1081381788714958, 0.3543949129896464, 0.16376492662787515, 0.05843150492122408, 0.39189405886820977, 0.03156644518732795, 0.5179849748111931, 0.12765224574469689, 0.0318833195336242, 0.1546578932601174, 0.1678632979923274, 0.08178987279197907, 0.5057500839936965, 0.06254519684092517, 0.20322377804312916, 0.1466444307470307, 0.9143419842826029, 0.0188706504334365, 0.06663698434307264, 0.8670387468225392, 0.005190237265920663, 0.00657430053683284, 0.05501651501875903, 0.06620435979196579, 0.004309314568290341, 0.5611685193373644, 0.1654297981493681, 0.1833852755172445, 0.08546807227109177, 0.9809935200868509, 0.01676912000148463, 0.020243006550622264, 0.005924782405060175, 0.004937318670883479, 0.969195655094427, 0.12330499301193809, 0.1571359658238778, 0.05519790300895423, 0.010683465098507271, 0.6534719485253614, 0.2439554937564571, 0.5609169278666984, 0.08384840674296007, 0.11077386494274681, 0.0003614155463058624, 0.7200452489780199, 0.043619949235718505, 0.08565946552811388, 0.15045721620436237, 0.4802264993063357, 0.017123965365931217, 0.06094117086110815, 0.4414457542129033, 0.997347071991738, 0.08784729065985754, 0.05686956184822356, 0.5539002853184701, 0.23996180974982137, 0.061493103461900275, 0.05631930835070354, 0.0334557359239271, 0.2606705602103664, 0.525345474913558, 0.12426416200315782, 0.9903807934635984, 0.1909725979942581, 0.38656105604104696, 0.006475982760267049, 0.29259041258355484, 0.1234570330467931, 0.03827845030371355, 0.18592390147518012, 0.7754120361523689, 0.9914501079984752, 0.006609667386656502, 0.22134135839169536, 0.5891697630477576, 0.08527706444885523, 0.044154568925740593, 0.06007295428952691, 0.31585721220157, 0.25460779708757403, 0.1320481432100151, 0.17657105469307868, 0.12097823898881623, 0.05574165133232685, 0.9434790614397544, 0.04766431063535762, 0.9516426157886919, 0.0004206393900301663, 0.032529446162332866, 0.9669097445493423, 0.9932420148118941, 0.9856365867221538, 0.009298458365303339, 0.003297476625002481, 0.8903186887506699, 0.08078817731256079, 0.026379813000019847, 0.9936025445565646, 0.997423357040381, 0.9952304881963289, 0.004386422327995573, 0.9874529704081382, 0.001891672357103713, 0.009458361785518565, 0.21664196548310097, 0.00968724235900045, 0.0008806583962727682, 0.7723374135312177, 0.0015790422554950569, 0.9979547054728759, 0.9900678334581924, 0.9951136819988028, 0.002944123319523085, 0.8976561198356171, 0.007410989637445756, 0.0954164915821141, 0.20458030426780469, 0.07871027940173654, 0.12387735956475836, 0.037528529841334306, 0.5556215081818786, 0.07843686786383475, 0.3211810308280554, 0.14944017635495313, 0.007177229739174422, 0.44396292529464637, 0.017052650214798563, 0.0667895466746277, 0.9151588948608561, 0.8724600203375977, 0.10687635249135573, 0.01963035045759595, 0.9964501525961504, 0.16319189220949387, 0.3677940053616424, 0.08872028519165527, 0.13168895530957112, 0.2486839612523938, 0.0004637952447908958, 0.9990149572795896, 0.0004637952447908958, 0.996132030786635, 0.8488044996294315, 0.08291302231479547, 0.06815731495368779, 0.05190325937071586, 0.1658242594254153, 0.4245420445963682, 0.17593874073868299, 0.1820606636388187, 0.0037691351470560967, 0.9950516788228095, 0.4771752386959574, 0.107944870627299, 0.0209652156435043, 0.015940494538862773, 0.378066946563028, 0.06709920679212635, 0.8164781985359674, 0.010660621639870542, 0.09218302241535116, 0.013796098592773642, 0.9285551446869312, 0.01939151306173511, 0.049970437505240474, 0.002237482276354051, 0.9730609002344777, 0.025948290672919403, 0.31475002546727265, 0.25804377623462993, 0.08138459313174767, 0.15245282938764002, 0.19338112104544516, 0.21888091865323017, 0.17649691037691562, 0.014076440704907382, 0.5492905598145726, 0.04114651898357542, 0.4124472117345325, 0.018784724494840095, 0.035527631109806265, 0.5333228302230688, 0.00024751580203306785, 0.26409936076928336, 0.1871219463369993, 0.5212682790816409, 0.027226738223637463, 0.09947258278605269, 0.7056859660949933, 0.04220048966681023, 0.06865952683885791, 0.0840660548124553, 0.04657017849655221, 0.9525718328840225, 0.05031941057465039, 0.6366571781646991, 0.10047220058448407, 0.16878663215934056, 0.04382120854679819, 0.22254302646679833, 0.005744996607159196, 0.022072881701190594, 0.5534850678634162, 0.19593462112837678, 0.005387146923714763, 0.222219810603234, 0.06060540289179109, 0.6787805123880603, 0.03299627490775293, 0.1276074093374868, 0.07830454663891236, 0.11781934100762274, 0.6449249466232643, 0.031539331285117475, 0.26245595914652164, 0.4371509095448191, 0.0067084331294454055, 0.23148689113798598, 0.06212192870554924, 0.1065401888539691, 0.7003707496793706, 0.023141926267460502, 0.11439971098254059, 0.05588993513650838, 0.14952372881211476, 0.2474441505426074, 0.15845991125795664, 0.20723132953631898, 0.23731228171316698, 0.22962358522286436, 0.3155435944962223, 0.10297812100455211, 0.18430314077098325, 0.16755975434848272, 0.33909868650489144, 0.18886900406060955, 0.47170883829212795, 0.9985681169643842, 0.27484576236801267, 0.0018850875333882898, 0.02563719045408074, 0.5619445937030492, 0.13553779365061802, 0.2821556926874131, 0.0001036194244169714, 0.7177717529363609, 0.7324382240705812, 0.10875312954749324, 0.10812631035701778, 0.03980301859519205, 0.01065592623808291, 0.9578677491339244, 0.0031822848808436026, 0.038187418570123234, 0.01158218714633667, 0.051733769253637124, 0.055594498302416015, 0.29573184513646295, 0.5856725966997576, 0.4680962606846613, 0.07205546504329186, 0.14323005643079775, 0.17799520337915048, 0.13864951342071075, 0.017713723432199055, 0.03432033914988567, 0.9476842036226495, 0.21377252749908343, 0.2825556000834039, 0.18652240311458487, 0.2126449361452421, 0.1044901321226289, 0.4448928334178102, 0.15444408334172663, 0.09761715397901463, 0.16031117044407153, 0.14270990913703685, 0.2922215605413884, 0.11015228370339769, 0.09240813914816602, 0.43038830956769025, 0.07483722891913606, 0.9992929939295612, 0.9980336822081125, 0.08841569723180205, 0.19237701155930556, 0.11597848543766746, 0.5662900122295985, 0.036920840602290964, 0.0030506296527419373, 0.9975558964466136, 0.6983948078576562, 0.004381542463033008, 0.03977979341437863, 0.14758879875479608, 0.10988447282290677, 0.16881634292375694, 0.00047823326607296585, 0.021520496973283464, 0.7331315968898566, 0.07556085603952861, 0.9946867545315797, 0.9364204176081278, 0.019102498956731887, 0.00875531202183545, 0.035419216815607044, 0.016053077135673586, 0.9838442404541516, 0.1909944960688415, 0.1347469260291503, 0.17245134111070154, 0.012980208470697967, 0.4889211857296234, 0.1067175167587572, 0.6770664045259968, 0.01700896153995616, 0.19916945287109952, 0.10725082544498439, 0.08127311685969406, 0.007422202452940096, 0.7834134689078271, 0.021153276990879277, 0.005206642211110425, 0.13433136904664897, 0.003123985326666255, 0.7851616454354521, 0.07185166251332387, 0.984742197946032, 0.008510027051636799, 0.731294991303989, 0.08283092996926485, 0.17700856267404544, 0.09673826400646073, 0.14382778934293897, 0.4043557066936718, 0.13435870000897324, 0.22060418934806653, 0.9972474936074793, 0.0020862918276307097, 0.9960598164601361, 0.043827592861319944, 0.837372645426128, 0.04249948398673449, 0.026562177491709055, 0.049140028359661754, 0.46630117741121724, 0.5335324318263266, 0.7273493574460365, 0.08604689684469463, 0.014341149474115772, 0.15471569491487253, 0.01737809877451676, 0.2756289539494154, 0.00841156480717562, 0.11896355941576948, 0.0003004130288277007, 0.5967704817662275, 0.0026307913893845805, 0.997069936576756, 0.01898693107586119, 0.025315908101148255, 0.9556755308183466, 0.42276521602866923, 0.2516434492312436, 0.07566716422679877, 0.16927493921866837, 0.08062721543831834, 0.9987624337858235, 0.8375638010292178, 0.046339202864539714, 0.11550219221459898, 0.1654552953510456, 0.15289207091894616, 0.46507634595809666, 0.041008260882135945, 0.17564810007897536, 0.4739821133725585, 0.004121583594543987, 0.5201438496314511, 0.0018134967815993542, 0.06896885003007494, 0.2328773639419488, 0.2851629759348236, 0.1615006238858862, 0.2516245077157098, 0.13285331425815755, 0.6848709756430973, 0.11037578223745621, 0.05702633123770522, 0.014846271149475569, 0.46922305444941553, 0.1623674431175546, 0.03357759632401647, 0.2419949634935206, 0.09280411433261657, 0.22682778615002155, 0.21230881666346202, 0.11117382349708445, 0.23429468474310933, 0.21546150718054352, 0.15427012214822092, 0.5337644621418137, 0.1613824658696537, 0.07366355997198254, 0.076881048798345, 0.9947627347095686, 0.4383307907905144, 0.11003070545599994, 0.10685625048239733, 0.16947493488104223, 0.17531183596153735, 0.35251969920094056, 0.12541167912230877, 0.03821379818012546, 0.3296328444643343, 0.1543050387219158, 0.13075152971805046, 0.40598620996286416, 0.07287395253746709, 0.38623194844857556, 0.004155622086847296, 0.2782777007523583, 0.27232730281902545, 0.10355237961903918, 0.2074911487142688, 0.1383274324761792, 0.08659407779935305, 0.3480598816026405, 0.3257342740550474, 0.03813652961408532, 0.2015160576345046, 0.08751471938645569, 0.8481364780045398, 0.023229215639614786, 0.02809114449441788, 0.012965143612808252, 0.6646790204764682, 0.06047627145025995, 0.0408774797765646, 0.07153558960898805, 0.162249996784378, 0.7355486863242066, 0.06571835054355055, 0.1607954143883436, 0.028003695764262086, 0.009936795271189774, 0.2236002695284016, 0.7761125426711261, 0.03672302133534998, 0.9014909431032689, 0.06041529316460803, 0.0011846135914629027, 0.0443108421739318, 0.684028111781288, 0.1792127394590131, 0.021334849935596794, 0.07089734747829089, 0.5240389640533262, 0.09849142472039962, 0.0023250434688094337, 0.31536631272767957, 0.05986986932184291, 0.004220213133984149, 0.2529113442437644, 0.7427575115812103, 0.0004940478549817373, 0.05483931190297284, 0.7736789409014007, 0.17094055782368112, 0.0015551730821631107, 0.8281296662518565, 0.03810174051299622, 0.0007775865410815554, 0.13218971198386442, 0.16381664102909413, 0.02912295840517229, 0.8063419108432077, 0.8326932819948318, 0.02649003324889377, 0.0024398714834507423, 0.06936206074381396, 0.06901350767474956, 0.7809717289755704, 0.004949123757766606, 0.16876512013984127, 0.045037026195676115, 0.3307059978973695, 0.19394183407533366, 0.2160491933999831, 0.1530432193247322, 0.1062158127552475, 0.4365830483399459, 0.4148229755192049, 0.0019572552272624157, 0.0873281229340319, 0.05935088645022207, 0.9875409797344988, 0.0072083283192299185, 0.16774292385608922, 0.29374439213978293, 0.47170065086996893, 0.06683073471963316, 0.039350500167873746, 0.9318913903391919, 0.026829886478095737, 0.0017886590985397158, 0.0017886590985397158, 0.09907355538510279, 0.11351318719316358, 0.39865171244784964, 0.32698398886171937, 0.06182519904757455, 0.393803751540566, 0.06873826744232853, 0.0428690270070436, 0.20296266924369263, 0.29165720787895527, 0.9944045219053717, 0.9898834372905693, 0.00469139069805957, 0.033026855881261745, 0.004331390935247442, 0.33622422134858265, 0.0037899670683415117, 0.6226374469418198, 0.8209892829750204, 0.14035450151787165, 0.038893416083265644, 0.001973604942307717, 0.6966825446346242, 0.17367723492307913, 0.11841629653846303, 0.009078582734615499, 0.7923485800126965, 0.13916376075349896, 0.02574127366538709, 0.04263398450829737, 0.024335411410366825, 0.6996430780480463, 0.13141122161598087, 0.0373142974958958, 0.10748140039578681, 0.41531776401154097, 0.014545818953039294, 0.05555117523970245, 0.23107072393970993, 0.283574203779728, 0.9747209942024045, 0.010790269308513702, 0.014387025744684938, 0.9972187173534364, 0.22552369580409645, 0.0009475785537987246, 0.7732240998997593, 0.23120565671874005, 0.39850863887216165, 0.11838585941246596, 0.16152284073545312, 0.09034146956972991, 0.10200899230741749, 0.7830267719372188, 0.02203011101474744, 0.07040057215582333, 0.022509026471589776, 0.1863822445010276, 0.24197792623483047, 0.005468427711521592, 0.4707404855001504, 0.09546963379698113, 0.9148379914584635, 0.05782271729308573, 0.026846261600361233, 0.8311954547493842, 0.061444380555169896, 0.10328687283507086, 0.004146553288999195, 0.9979445373048065, 0.011415603760253908, 0.8985710959857005, 0.08969402954485214, 0.7614705947852969, 0.01746492189874534, 0.2076385159073057, 0.012807609392413249, 0.9978912513933376, 0.00011982938759307352, 0.07812876071068393, 0.39795339619659714, 0.4932177593330906, 0.030436664448640672, 0.8310360821131071, 0.02411296404058756, 0.13778836594621463, 0.006889418297310732, 0.9954659414345072, 0.5135048488752512, 0.2299774974944095, 0.05438657035340765, 0.13196213993442207, 0.07016465230208856, 0.18587341398797688, 0.8135611209107261, 0.35774252944823454, 0.6420379194706444, 0.2362880900033893, 0.1731870948006548, 0.12502736279558938, 0.161863684641415, 0.30361774460169055, 0.9875829702303781, 0.2724765039087738, 0.028744774038727786, 0.007785042968822108, 0.690473426388607, 0.4268804629397477, 0.20714172952593884, 0.03151276213750106, 0.28713877993926096, 0.04730964804190391, 0.989718129879369, 0.009799189404746228, 0.0013614951690168737, 0.10483512801429927, 0.8931408308750691, 0.2661604794150237, 0.07199941625079416, 0.13798569444108244, 0.4916531566839944, 0.031964576005847074, 0.15529886010364935, 0.1864489221593232, 0.28426312668197057, 0.07795039683497128, 0.29600083122468823, 0.10176226669720884, 0.2154614561741489, 0.000298423069493281, 0.13637934275842942, 0.5461142171727043, 0.9828122875346017, 0.22524344265263246, 0.38683589299924376, 0.12806886403741602, 0.21921796145326727, 0.040644609544808676, 0.99756801493122, 0.9970563408131428, 0.04479357902573769, 0.9524529434946329, 0.9987638241406859, 0.9967363236400999, 0.935357683416739, 0.05283401140638484, 0.002935222855910269, 0.008805668567730806, 0.9399894392768874, 0.05411611125174509, 0.00593053273991727, 0.10389560142126009, 0.052644151926590235, 0.3002666443220332, 0.5431539484489468, 0.9807310368456447, 0.012627438242647785, 0.9965007406905043, 0.9968588717229004, 0.997194758679873, 0.1846192235740437, 0.009449570648938829, 0.4033697321785829, 0.33524820048548654, 0.06727530148572869, 0.1513317512694304, 0.4677821764855705, 0.06897516315897673, 0.20437085380437547, 0.10749744711019829, 0.9636080305478295, 0.020701977167312292, 0.01573350264715734, 0.028610834634435586, 0.8429599611738336, 0.05563217845584697, 0.009536944878145196, 0.0630498022499599, 0.924511794041823, 0.03991169103789894, 0.03533166091879578, 0.023194721749808512, 0.9741783134919576, 0.0604615417144737, 0.017183806592534632, 0.008273684655664823, 0.15210851020799174, 0.7630883001647787, 0.9716653986495196, 0.012351678796392198, 0.016468905061856266, 0.2263217840582195, 0.30715099265044077, 0.20066940049302356, 0.08228123030345877, 0.1836323457478368, 0.32915802000031813, 0.4049010736732538, 0.10192885898151115, 0.08418614043130813, 0.07990341526401774, 0.9039207763061909, 0.01663286808191385, 0.0006048315666150492, 0.007862810365995638, 0.0713701248605758, 0.4890413902433938, 0.19098585355447167, 0.024256060938925846, 0.1606045247016757, 0.13506215750083708, 0.4977524817058286, 0.20160535318395026, 0.0028596503997723437, 0.26976035437852447, 0.02798991148868082, 0.006129743478797698, 0.20738965436598877, 0.7861396011558047, 0.3617484043507873, 0.23518995192803674, 0.105584241685681, 0.22530257283250935, 0.07219407621553933, 0.08147848613273491, 0.555211323538363, 0.10017846655664128, 0.214827156060353, 0.04830828276175813, 0.41117666239631584, 0.20418156842358598, 0.08633504113658715, 0.14437405389321276, 0.15394004076030202, 0.9878341373810043, 0.007966404333717777, 0.995542181566816, 0.2270649756940231, 0.132909586945827, 0.19803262103050576, 0.15062198680934905, 0.291388954145761, 0.39817962632068105, 0.05667183369515488, 0.08731523562803993, 0.45595905285678356, 0.0018459880682460874, 0.9960289428565094, 0.9336324714972752, 0.030962301350674945, 0.03572573232770186, 0.995483640322411, 0.006144960742730932, 0.9997649367422455, 0.24218878191884383, 0.044824995548515295, 0.5477123834186745, 0.10392262649556282, 0.061327730228068186, 0.1563091073293162, 0.05319763736838072, 0.7894266681085633, 0.12491386721422587, 0.6148283464259833, 0.1071508860966066, 0.1019938915785881, 0.05099694578929405, 0.050352176301299206, 0.6037175077741632, 0.046791921411308356, 0.08951498009119858, 0.20954643066803305, 0.014908027837314214, 0.2543982814819103, 0.0038472329902746356, 0.034625096912471724, 0.6915401300018658, 0.47611554013471796, 0.23668611838323209, 0.06599168658077237, 0.16688428823544052, 0.05433264726569365, 0.012398814773675215, 0.614922170799178, 0.37255486296138385, 0.8922938783998077, 0.015548423888891317, 0.0006961980845772231, 0.04943006400498284, 0.042236017131018204, 0.5580946454396969, 0.14078128336427084, 0.0024609581667790277, 0.2809835177481231, 0.0176971844640433, 0.9944411647980347, 0.28334077079321834, 0.33224520018923326, 0.07423622016229603, 0.1770293433412099, 0.133109178332079, 0.4773609282417474, 0.07723383439388895, 0.05792537579541672, 0.3133553461703868, 0.07420961798689933, 0.9979886195033716, 0.022425048719490744, 0.15277064440153068, 0.7967900123144055, 0.01751956931210214, 0.011212524359745372, 0.047803423371355805, 0.2600790212134655, 0.4309407621744501, 0.07880465337951228, 0.18245762088769962, 0.1427935417757877, 0.15060256359165108, 0.518370305300646, 0.18816023994413691, 0.06423909825754508, 0.06607450106490351, 0.8644747222658209, 0.0055062084220752925, 0.08432293033237316, 0.41367287983000794, 0.18289433365719718, 0.02475964159343921, 0.2943127208276736, 0.1298628171935297, 0.3195049165841935, 0.16939899282757562, 0.2348784999774927, 0.1463788535951829, 0.14096630222787426, 0.6953026731132382, 0.10451471549298404, 0.03100653643424273, 0.02828401128391898, 0.9185670714074244, 0.0010105248310312701, 0.04143151807228207, 0.03941046841021953, 0.2726680792861965, 0.25913813956679976, 0.27386189749673157, 0.17302405264687426, 0.02132955202822553, 0.02668010179167399, 0.44391991149414, 0.2584799960708218, 0.11266399419949462, 0.15823149478428436, 0.0005852219891890465, 0.9989739355457024, 0.21172444989626577, 0.2409969590675298, 0.5469548288986866], \"Term\": [\"0\", \"1\", \"1\", \"1\", \"1\", \"1\", \"1/10\", \"1930\", \"1930\", \"1940\", \"1940\", \"1940\", \"2\", \"2\", \"2\", \"2\", \"2\", \"3\", \"3\", \"3\", \"3\", \"3\", \"5\", \"5\", \"5\", \"5\", \"5\", \"9/11\", \"AIDS\", \"Akshay\", \"Amitabh\", \"Andrews\", \"Antonioni\", \"Argento\", \"Arthur\", \"Arthur\", \"Austen\", \"Batman\", \"Batman\", \"Batman\", \"Bela\", \"Belushi\", \"Bette\", \"Bond\", \"Bond\", \"Bourne\", \"Branagh\", \"Brando\", \"Broadway\", \"Bruce\", \"Bruce\", \"Bruce\", \"Bruce\", \"Bullock\", \"Carell\", \"Carrey\", \"Casper\", \"Chan\", \"Chan\", \"Chan\", \"Charles\", \"Charles\", \"Charles\", \"Charles\", \"Christianity\", \"Christians\", \"Cinderella\", \"Civil\", \"Clooney\", \"Columbo\", \"Connery\", \"Connery\", \"Damme\", \"Davies\", \"Doo\", \"Dorothy\", \"Dracula\", \"Drew\", \"Eastwood\", \"Eastwood\", \"Eddie\", \"Eddie\", \"Edie\", \"Fonda\", \"Ford\", \"Frank\", \"Frank\", \"Frank\", \"Frankenstein\", \"Frost\", \"Fulci\", \"Gene\", \"George\", \"George\", \"George\", \"George\", \"Godard\", \"Grinch\", \"HK\", \"Hamlet\", \"Harry\", \"Harry\", \"Harry\", \"Harry\", \"Holmes\", \"Hulk\", \"Iran\", \"Israel\", \"Jackie\", \"James\", \"James\", \"James\", \"James\", \"Jane\", \"Jane\", \"John\", \"John\", \"John\", \"John\", \"John\", \"Karloff\", \"Keaton\", \"Kelly\", \"Kelly\", \"Kline\", \"League\", \"Lincoln\", \"Looney\", \"Lugosi\", \"MGM\", \"MST3\", \"Madonna\", \"Madonna\", \"Mart\", \"Massacre\", \"Matthau\", \"Meryl\", \"Mickey\", \"Mickey\", \"Mickey\", \"Miike\", \"Miyazaki\", \"Mr.\", \"Mr.\", \"Mr.\", \"Mr.\", \"Mr.\", \"Muppet\", \"Murphy\", \"Murphy\", \"New\", \"New\", \"New\", \"New\", \"New\", \"Norris\", \"Pie\", \"Piper\", \"Portman\", \"Powell\", \"Quaid\", \"Ralph\", \"Rangers\", \"Reed\", \"Richard\", \"Richard\", \"Richard\", \"Richard\", \"Rita\", \"Robert\", \"Robert\", \"Robert\", \"Robert\", \"Robin\", \"Robin\", \"Robot\", \"Rory\", \"SNL\", \"Salman\", \"Sandler\", \"Sandra\", \"Sandra\", \"Scarlett\", \"Sci\", \"Sci\", \"Scooby\", \"Scott\", \"Scott\", \"Scott\", \"Scott\", \"Seagal\", \"Sinatra\", \"Sir\", \"Spock\", \"Stanwyck\", \"Stewart\", \"Stiller\", \"Stooges\", \"Streep\", \"Tarzan\", \"Travolta\", \"Trek\", \"Trek\", \"Troma\", \"WWE\", \"War\", \"War\", \"War\", \"Wayne\", \"Wayne\", \"Welles\", \"Western\", \"William\", \"William\", \"William\", \"World\", \"World\", \"World\", \"World\", \"York\", \"York\", \"York\", \"York\", \"Young\", \"Young\", \"Zombie\", \"`\", \"`\", \"`\", \"`\", \"abomination\", \"acting\", \"acting\", \"acting\", \"acting\", \"acting\", \"actor\", \"actor\", \"actor\", \"actor\", \"actor\", \"actually\", \"actually\", \"actually\", \"actually\", \"actually\", \"audience\", \"audience\", \"audience\", \"audience\", \"audience\", \"awful\", \"awful\", \"awful\", \"bad\", \"bad\", \"bad\", \"bad\", \"bad\", \"beautiful\", \"beautiful\", \"beautiful\", \"beautiful\", \"beautiful\", \"blah\", \"blah\", \"blood\", \"blood\", \"blood\", \"blood\", \"body\", \"body\", \"body\", \"body\", \"body\", \"book\", \"book\", \"book\", \"book\", \"book\", \"boring\", \"boring\", \"boring\", \"boring\", \"budget\", \"budget\", \"budget\", \"budget\", \"cannibal\", \"career\", \"career\", \"career\", \"career\", \"career\", \"cast\", \"cast\", \"cast\", \"cast\", \"cast\", \"cg\", \"character\", \"character\", \"character\", \"character\", \"character\", \"chemistry\", \"chemistry\", \"chemistry\", \"chess\", \"chess\", \"child\", \"child\", \"child\", \"child\", \"child\", \"come\", \"come\", \"come\", \"come\", \"come\", \"comedian\", \"comedian\", \"comedic\", \"comedic\", \"comedy\", \"comedy\", \"comedy\", \"compassion\", \"complexity\", \"complexity\", \"convey\", \"convey\", \"convey\", \"convey\", \"cope\", \"corpse\", \"crap\", \"crap\", \"crappy\", \"crappy\", \"crappy\", \"creature\", \"creature\", \"creature\", \"creature\", \"creepy\", \"creepy\", \"critter\", \"cultural\", \"cultural\", \"culture\", \"culture\", \"culture\", \"dead\", \"dead\", \"dead\", \"dead\", \"dead\", \"death\", \"death\", \"death\", \"death\", \"death\", \"demon\", \"demon\", \"demon\", \"depict\", \"depict\", \"depict\", \"dinosaur\", \"director\", \"director\", \"director\", \"director\", \"director\", \"documentary\", \"documentary\", \"documentary\", \"dragon\", \"dumb\", \"dumb\", \"dumb\", \"early\", \"early\", \"early\", \"early\", \"early\", \"eerie\", \"eerie\", \"effect\", \"effect\", \"effect\", \"effect\", \"effect\", \"emotion\", \"emotion\", \"emotion\", \"emotion\", \"emotion\", \"emotional\", \"emotional\", \"emotional\", \"emotional\", \"emotionally\", \"emotionally\", \"end\", \"end\", \"end\", \"end\", \"end\", \"enjoy\", \"enjoy\", \"enjoy\", \"enjoy\", \"enjoy\", \"episode\", \"episode\", \"episode\", \"episode\", \"excellent\", \"excellent\", \"excellent\", \"excellent\", \"excellent\", \"experience\", \"experience\", \"experience\", \"experience\", \"experience\", \"faith\", \"faith\", \"family\", \"family\", \"family\", \"family\", \"family\", \"fan\", \"fan\", \"fan\", \"fan\", \"fan\", \"fantastic\", \"fantastic\", \"fantastic\", \"fantastic\", \"fantastic\", \"favorite\", \"favorite\", \"favorite\", \"favorite\", \"favorite\", \"feel\", \"feel\", \"feel\", \"feel\", \"feel\", \"feeling\", \"feeling\", \"feeling\", \"feeling\", \"feeling\", \"film\", \"film\", \"film\", \"film\", \"film\", \"find\", \"find\", \"find\", \"find\", \"find\", \"flick\", \"flick\", \"flick\", \"fu\", \"fun\", \"fun\", \"fun\", \"fun\", \"fun\", \"funny\", \"funny\", \"funny\", \"game\", \"game\", \"game\", \"game\", \"game\", \"garbage\", \"garbage\", \"garbage\", \"genre\", \"genre\", \"genre\", \"genre\", \"genre\", \"get\", \"get\", \"get\", \"get\", \"get\", \"ghost\", \"ghost\", \"ghost\", \"give\", \"give\", \"give\", \"give\", \"give\", \"go\", \"go\", \"go\", \"go\", \"go\", \"good\", \"good\", \"good\", \"good\", \"good\", \"gore\", \"gory\", \"great\", \"great\", \"great\", \"great\", \"great\", \"gruesome\", \"gruesome\", \"guy\", \"guy\", \"guy\", \"guy\", \"guy\", \"hilarious\", \"hilarious\", \"hilarious\", \"hilarious\", \"hilarious\", \"homosexuality\", \"horrible\", \"horrible\", \"horrible\", \"horrible\", \"horror\", \"horror\", \"house\", \"house\", \"house\", \"house\", \"house\", \"human\", \"human\", \"human\", \"human\", \"humor\", \"humor\", \"humor\", \"humor\", \"humor\", \"humour\", \"humour\", \"humour\", \"humour\", \"humour\", \"ideology\", \"image\", \"image\", \"image\", \"image\", \"include\", \"include\", \"include\", \"include\", \"include\", \"insight\", \"insight\", \"israeli\", \"issue\", \"issue\", \"issue\", \"issue\", \"issue\", \"joke\", \"joke\", \"kid\", \"kid\", \"kid\", \"kid\", \"kid\", \"kill\", \"kill\", \"kill\", \"kill\", \"kill\", \"killer\", \"killer\", \"killing\", \"killing\", \"killing\", \"know\", \"know\", \"know\", \"know\", \"know\", \"kung\", \"lame\", \"lame\", \"lame\", \"later\", \"later\", \"later\", \"later\", \"later\", \"laugh\", \"laugh\", \"laugh\", \"laugh\", \"lead\", \"lead\", \"lead\", \"lead\", \"lead\", \"life\", \"life\", \"life\", \"life\", \"life\", \"like\", \"like\", \"like\", \"like\", \"like\", \"little\", \"little\", \"little\", \"little\", \"little\", \"live\", \"live\", \"live\", \"live\", \"live\", \"loneliness\", \"look\", \"look\", \"look\", \"look\", \"look\", \"lot\", \"lot\", \"lot\", \"lot\", \"lot\", \"love\", \"love\", \"love\", \"love\", \"love\", \"make\", \"make\", \"make\", \"make\", \"make\", \"man\", \"man\", \"man\", \"man\", \"man\", \"message\", \"message\", \"message\", \"message\", \"message\", \"minute\", \"minute\", \"minute\", \"minute\", \"minute\", \"money\", \"money\", \"money\", \"money\", \"money\", \"monster\", \"monster\", \"moral\", \"moral\", \"moral\", \"moral\", \"mother\", \"mother\", \"mother\", \"mother\", \"mother\", \"movie\", \"movie\", \"movie\", \"movie\", \"movie\", \"murder\", \"murder\", \"murder\", \"musical\", \"musical\", \"musical\", \"musical\", \"nature\", \"nature\", \"nature\", \"nature\", \"nature\", \"nudity\", \"nudity\", \"nudity\", \"oh\", \"oh\", \"oh\", \"oh\", \"oh\", \"ok\", \"ok\", \"ok\", \"ok\", \"old\", \"old\", \"old\", \"old\", \"old\", \"people\", \"people\", \"people\", \"people\", \"people\", \"perception\", \"perception\", \"performance\", \"performance\", \"performance\", \"performance\", \"perspective\", \"perspective\", \"perspective\", \"perspective\", \"perspective\", \"play\", \"play\", \"play\", \"play\", \"play\", \"plot\", \"plot\", \"plot\", \"plot\", \"plot\", \"poetic\", \"poetry\", \"poetry\", \"police\", \"police\", \"police\", \"police\", \"police\", \"political\", \"political\", \"political\", \"portray\", \"portray\", \"portray\", \"portray\", \"portray\", \"powerful\", \"powerful\", \"powerful\", \"powerful\", \"present\", \"present\", \"present\", \"present\", \"present\", \"pretty\", \"pretty\", \"pretty\", \"pretty\", \"pretty\", \"profound\", \"profound\", \"profound\", \"psychopath\", \"rape\", \"rape\", \"rape\", \"real\", \"real\", \"real\", \"real\", \"real\", \"reality\", \"reality\", \"reality\", \"reality\", \"reality\", \"recommend\", \"recommend\", \"recommend\", \"recommend\", \"recommend\", \"reflect\", \"reflect\", \"reflect\", \"relationship\", \"relationship\", \"relationship\", \"relationship\", \"religion\", \"religious\", \"religious\", \"religious\", \"rent\", \"rent\", \"rent\", \"rent\", \"robot\", \"role\", \"role\", \"role\", \"role\", \"role\", \"s\", \"s\", \"s\", \"s\", \"sadness\", \"say\", \"say\", \"say\", \"say\", \"say\", \"scare\", \"scare\", \"scary\", \"scary\", \"scene\", \"scene\", \"scene\", \"scene\", \"scene\", \"scifi\", \"season\", \"season\", \"season\", \"season\", \"see\", \"see\", \"see\", \"see\", \"see\", \"selfish\", \"selfish\", \"serial\", \"serial\", \"serial\", \"series\", \"series\", \"series\", \"series\", \"series\", \"set\", \"set\", \"set\", \"set\", \"set\", \"sex\", \"sex\", \"sex\", \"sex\", \"sex\", \"sh*t\", \"show\", \"show\", \"show\", \"show\", \"show\", \"sitcom\", \"skit\", \"slapstick\", \"slapstick\", \"slasher\", \"sleaze\", \"social\", \"social\", \"social\", \"social\", \"society\", \"society\", \"society\", \"song\", \"song\", \"song\", \"song\", \"spiritual\", \"spiritual\", \"splatter\", \"spooky\", \"stalk\", \"star\", \"star\", \"star\", \"star\", \"star\", \"story\", \"story\", \"story\", \"story\", \"story\", \"stupid\", \"stupid\", \"stupid\", \"subject\", \"subject\", \"subject\", \"subject\", \"subject\", \"suck\", \"suck\", \"suck\", \"supernatural\", \"supernatural\", \"suspense\", \"suspense\", \"suspense\", \"suspense\", \"suspense\", \"symbolism\", \"symbolism\", \"symbolism\", \"take\", \"take\", \"take\", \"take\", \"take\", \"tell\", \"tell\", \"tell\", \"tell\", \"tell\", \"terrible\", \"terrible\", \"terrible\", \"terrible\", \"terrible\", \"thing\", \"thing\", \"thing\", \"thing\", \"thing\", \"think\", \"think\", \"think\", \"think\", \"think\", \"thriller\", \"thriller\", \"thriller\", \"time\", \"time\", \"time\", \"time\", \"time\", \"true\", \"true\", \"true\", \"true\", \"true\", \"try\", \"try\", \"try\", \"try\", \"try\", \"turd\", \"turd\", \"turmoil\", \"turn\", \"turn\", \"turn\", \"turn\", \"turn\", \"tv\", \"tv\", \"tv\", \"tv\", \"tv\", \"ugh\", \"understanding\", \"understanding\", \"understanding\", \"uplifting\", \"uplifting\", \"vampire\", \"version\", \"version\", \"version\", \"version\", \"version\", \"victim\", \"victim\", \"victim\", \"view\", \"view\", \"view\", \"view\", \"view\", \"viewer\", \"viewer\", \"viewer\", \"viewer\", \"viewer\", \"violence\", \"violence\", \"violence\", \"violence\", \"violence\", \"want\", \"want\", \"want\", \"want\", \"want\", \"war\", \"war\", \"war\", \"waste\", \"waste\", \"waste\", \"waste\", \"waste\", \"watch\", \"watch\", \"watch\", \"watch\", \"watch\", \"wax\", \"way\", \"way\", \"way\", \"way\", \"way\", \"well\", \"well\", \"well\", \"well\", \"well\", \"werewolf\", \"western\", \"western\", \"western\", \"western\", \"western\", \"wife\", \"wife\", \"wife\", \"wife\", \"wife\", \"win\", \"win\", \"win\", \"win\", \"witty\", \"witty\", \"witty\", \"witty\", \"woman\", \"woman\", \"woman\", \"woman\", \"woman\", \"work\", \"work\", \"work\", \"work\", \"work\", \"world\", \"world\", \"world\", \"world\", \"world\", \"yeah\", \"yeah\", \"yeah\", \"yeah\", \"year\", \"year\", \"year\", \"year\", \"year\", \"young\", \"young\", \"young\", \"young\", \"young\", \"zombie\", \"zombie\", \"\\u0096\", \"\\u0096\", \"\\u0096\"]}, \"R\": 30, \"lambda.step\": 0.01, \"plot.opts\": {\"xlab\": \"PC1\", \"ylab\": \"PC2\"}, \"topic.order\": [1, 5, 4, 2, 3]};\n",
       "\n",
       "function LDAvis_load_lib(url, callback){\n",
       "  var s = document.createElement('script');\n",
       "  s.src = url;\n",
       "  s.async = true;\n",
       "  s.onreadystatechange = s.onload = callback;\n",
       "  s.onerror = function(){console.warn(\"failed to load library \" + url);};\n",
       "  document.getElementsByTagName(\"head\")[0].appendChild(s);\n",
       "}\n",
       "\n",
       "if(typeof(LDAvis) !== \"undefined\"){\n",
       "   // already loaded: just create the visualization\n",
       "   !function(LDAvis){\n",
       "       new LDAvis(\"#\" + \"ldavis_el921401260119922484793426256\", ldavis_el921401260119922484793426256_data);\n",
       "   }(LDAvis);\n",
       "}else if(typeof define === \"function\" && define.amd){\n",
       "   // require.js is available: use it to load d3/LDAvis\n",
       "   require.config({paths: {d3: \"https://cdnjs.cloudflare.com/ajax/libs/d3/3.5.5/d3.min\"}});\n",
       "   require([\"d3\"], function(d3){\n",
       "      window.d3 = d3;\n",
       "      LDAvis_load_lib(\"https://cdn.rawgit.com/bmabey/pyLDAvis/files/ldavis.v1.0.0.js\", function(){\n",
       "        new LDAvis(\"#\" + \"ldavis_el921401260119922484793426256\", ldavis_el921401260119922484793426256_data);\n",
       "      });\n",
       "    });\n",
       "}else{\n",
       "    // require.js not available: dynamically load d3 & LDAvis\n",
       "    LDAvis_load_lib(\"https://cdnjs.cloudflare.com/ajax/libs/d3/3.5.5/d3.min.js\", function(){\n",
       "         LDAvis_load_lib(\"https://cdn.rawgit.com/bmabey/pyLDAvis/files/ldavis.v1.0.0.js\", function(){\n",
       "                 new LDAvis(\"#\" + \"ldavis_el921401260119922484793426256\", ldavis_el921401260119922484793426256_data);\n",
       "            })\n",
       "         });\n",
       "}\n",
       "</script>"
      ],
      "text/plain": [
       "PreparedData(topic_coordinates=              x         y  topics  cluster       Freq\n",
       "topic                                                \n",
       "0      0.139082  0.026719       1        1  24.568437\n",
       "4     -0.042569  0.008977       2        1  24.403752\n",
       "3     -0.149075 -0.045232       3        1  17.330081\n",
       "1      0.068966 -0.116207       4        1  17.171682\n",
       "2     -0.016404  0.125743       5        1  16.526048, topic_info=       Term          Freq         Total Category  logprob  loglift\n",
       "389     bad  26010.000000  26010.000000  Default  30.0000  30.0000\n",
       "99    watch  27631.000000  27631.000000  Default  29.0000  29.0000\n",
       "501  horror   7163.000000   7163.000000  Default  28.0000  28.0000\n",
       "267    good  40407.000000  40407.000000  Default  27.0000  27.0000\n",
       "107  comedy   7131.000000   7131.000000  Default  26.0000  26.0000\n",
       "..      ...           ...           ...      ...      ...      ...\n",
       "91    thing   2204.710842  16325.816504   Topic5  -5.7959  -0.2019\n",
       "143    time   2226.674059  30847.406280   Topic5  -5.7860  -0.8283\n",
       "304    work   2003.370603  13683.670495   Topic5  -5.8917  -0.1211\n",
       "106    come   1988.722773  16440.973324   Topic5  -5.8990  -0.3121\n",
       "480     try   1915.282517  12439.908360   Topic5  -5.9366  -0.0708\n",
       "\n",
       "[478 rows x 6 columns], token_table=      Topic      Freq    Term\n",
       "term                         \n",
       "6189      1  0.995709       0\n",
       "0         1  0.873605       1\n",
       "0         2  0.030082       1\n",
       "0         3  0.021428       1\n",
       "0         4  0.069229       1\n",
       "...     ...       ...     ...\n",
       "239       1  0.000585  zombie\n",
       "239       5  0.998974  zombie\n",
       "3568      2  0.211724       \n",
       "3568      3  0.240997       \n",
       "3568      5  0.546955       \n",
       "\n",
       "[1103 rows x 3 columns], R=30, lambda_step=0.01, plot_opts={'xlab': 'PC1', 'ylab': 'PC2'}, topic_order=[1, 5, 4, 2, 3])"
      ]
     },
     "execution_count": 62,
     "metadata": {},
     "output_type": "execute_result"
    }
   ],
   "source": [
    "pyLDAvis.gensim.prepare(lda, corpus, id2word)"
   ]
  },
  {
   "cell_type": "markdown",
   "metadata": {},
   "source": [
    "### Label Our Review with the most common topic"
   ]
  },
  {
   "cell_type": "code",
   "execution_count": 63,
   "metadata": {},
   "outputs": [
    {
     "name": "stderr",
     "output_type": "stream",
     "text": [
      "/home/jepoy/miniconda3/envs/ds-unit-4/lib/python3.7/site-packages/ipykernel/ipkernel.py:287: DeprecationWarning: `should_run_async` will not call `transform_cell` automatically in the future. Please pass the result to `transformed_cell` argument and any exception that happen during thetransform in `preprocessing_exc_tuple` in IPython 7.17 and above.\n",
      "  and should_run_async(code)\n"
     ]
    }
   ],
   "source": [
    "doc_topics = [lda[doc] for doc in corpus]"
   ]
  },
  {
   "cell_type": "code",
   "execution_count": 64,
   "metadata": {},
   "outputs": [
    {
     "name": "stderr",
     "output_type": "stream",
     "text": [
      "/home/jepoy/miniconda3/envs/ds-unit-4/lib/python3.7/site-packages/ipykernel/ipkernel.py:287: DeprecationWarning: `should_run_async` will not call `transform_cell` automatically in the future. Please pass the result to `transformed_cell` argument and any exception that happen during thetransform in `preprocessing_exc_tuple` in IPython 7.17 and above.\n",
      "  and should_run_async(code)\n"
     ]
    },
    {
     "data": {
      "text/plain": [
       "[(0, 0.10967667), (2, 0.4321646), (3, 0.10245323), (4, 0.35401234)]"
      ]
     },
     "execution_count": 64,
     "metadata": {},
     "output_type": "execute_result"
    }
   ],
   "source": [
    "doc_topics[0]"
   ]
  },
  {
   "cell_type": "code",
   "execution_count": 66,
   "metadata": {},
   "outputs": [
    {
     "name": "stderr",
     "output_type": "stream",
     "text": [
      "/home/jepoy/miniconda3/envs/ds-unit-4/lib/python3.7/site-packages/ipykernel/ipkernel.py:287: DeprecationWarning: `should_run_async` will not call `transform_cell` automatically in the future. Please pass the result to `transformed_cell` argument and any exception that happen during thetransform in `preprocessing_exc_tuple` in IPython 7.17 and above.\n",
      "  and should_run_async(code)\n"
     ]
    }
   ],
   "source": [
    "def update(doc):\n",
    "    d_dist = {k:0 for k in range(0,5)}\n",
    "    for t in doc:\n",
    "        d_dist[t[0]] = t[1]\n",
    "    return d_dist\n",
    "\n",
    "new_distro = [update(d) for d in doc_topics]"
   ]
  },
  {
   "cell_type": "code",
   "execution_count": 67,
   "metadata": {},
   "outputs": [
    {
     "name": "stderr",
     "output_type": "stream",
     "text": [
      "/home/jepoy/miniconda3/envs/ds-unit-4/lib/python3.7/site-packages/ipykernel/ipkernel.py:287: DeprecationWarning: `should_run_async` will not call `transform_cell` automatically in the future. Please pass the result to `transformed_cell` argument and any exception that happen during thetransform in `preprocessing_exc_tuple` in IPython 7.17 and above.\n",
      "  and should_run_async(code)\n"
     ]
    }
   ],
   "source": [
    "dft = pd.DataFrame.from_records(new_distro)\n",
    "dft.columns = topics"
   ]
  },
  {
   "cell_type": "code",
   "execution_count": 68,
   "metadata": {},
   "outputs": [
    {
     "name": "stderr",
     "output_type": "stream",
     "text": [
      "/home/jepoy/miniconda3/envs/ds-unit-4/lib/python3.7/site-packages/ipykernel/ipkernel.py:287: DeprecationWarning: `should_run_async` will not call `transform_cell` automatically in the future. Please pass the result to `transformed_cell` argument and any exception that happen during thetransform in `preprocessing_exc_tuple` in IPython 7.17 and above.\n",
      "  and should_run_async(code)\n"
     ]
    },
    {
     "data": {
      "text/html": [
       "<div>\n",
       "<style scoped>\n",
       "    .dataframe tbody tr th:only-of-type {\n",
       "        vertical-align: middle;\n",
       "    }\n",
       "\n",
       "    .dataframe tbody tr th {\n",
       "        vertical-align: top;\n",
       "    }\n",
       "\n",
       "    .dataframe thead th {\n",
       "        text-align: right;\n",
       "    }\n",
       "</style>\n",
       "<table border=\"1\" class=\"dataframe\">\n",
       "  <thead>\n",
       "    <tr style=\"text-align: right;\">\n",
       "      <th></th>\n",
       "      <th>bad like watch good think</th>\n",
       "      <th>good great like watch see</th>\n",
       "      <th>horror scene like kill plot</th>\n",
       "      <th>play man good year role</th>\n",
       "      <th>story life time people like</th>\n",
       "    </tr>\n",
       "  </thead>\n",
       "  <tbody>\n",
       "    <tr>\n",
       "      <th>0</th>\n",
       "      <td>0.109677</td>\n",
       "      <td>0.000000</td>\n",
       "      <td>0.432165</td>\n",
       "      <td>0.102453</td>\n",
       "      <td>0.354012</td>\n",
       "    </tr>\n",
       "    <tr>\n",
       "      <th>1</th>\n",
       "      <td>0.000000</td>\n",
       "      <td>0.230797</td>\n",
       "      <td>0.000000</td>\n",
       "      <td>0.142290</td>\n",
       "      <td>0.620680</td>\n",
       "    </tr>\n",
       "    <tr>\n",
       "      <th>2</th>\n",
       "      <td>0.000000</td>\n",
       "      <td>0.615564</td>\n",
       "      <td>0.191889</td>\n",
       "      <td>0.000000</td>\n",
       "      <td>0.186634</td>\n",
       "    </tr>\n",
       "    <tr>\n",
       "      <th>3</th>\n",
       "      <td>0.288021</td>\n",
       "      <td>0.000000</td>\n",
       "      <td>0.357420</td>\n",
       "      <td>0.000000</td>\n",
       "      <td>0.346763</td>\n",
       "    </tr>\n",
       "    <tr>\n",
       "      <th>4</th>\n",
       "      <td>0.000000</td>\n",
       "      <td>0.000000</td>\n",
       "      <td>0.000000</td>\n",
       "      <td>0.299105</td>\n",
       "      <td>0.690071</td>\n",
       "    </tr>\n",
       "  </tbody>\n",
       "</table>\n",
       "</div>"
      ],
      "text/plain": [
       "   bad like watch good think  good great like watch see  \\\n",
       "0                   0.109677                   0.000000   \n",
       "1                   0.000000                   0.230797   \n",
       "2                   0.000000                   0.615564   \n",
       "3                   0.288021                   0.000000   \n",
       "4                   0.000000                   0.000000   \n",
       "\n",
       "   horror scene like kill plot  play man good year role  \\\n",
       "0                     0.432165                 0.102453   \n",
       "1                     0.000000                 0.142290   \n",
       "2                     0.191889                 0.000000   \n",
       "3                     0.357420                 0.000000   \n",
       "4                     0.000000                 0.299105   \n",
       "\n",
       "   story life time people like  \n",
       "0                     0.354012  \n",
       "1                     0.620680  \n",
       "2                     0.186634  \n",
       "3                     0.346763  \n",
       "4                     0.690071  "
      ]
     },
     "execution_count": 68,
     "metadata": {},
     "output_type": "execute_result"
    }
   ],
   "source": [
    "dft.head()"
   ]
  },
  {
   "cell_type": "code",
   "execution_count": 69,
   "metadata": {},
   "outputs": [
    {
     "name": "stderr",
     "output_type": "stream",
     "text": [
      "/home/jepoy/miniconda3/envs/ds-unit-4/lib/python3.7/site-packages/ipykernel/ipkernel.py:287: DeprecationWarning: `should_run_async` will not call `transform_cell` automatically in the future. Please pass the result to `transformed_cell` argument and any exception that happen during thetransform in `preprocessing_exc_tuple` in IPython 7.17 and above.\n",
      "  and should_run_async(code)\n"
     ]
    }
   ],
   "source": [
    "df['primary_topic'] = dft.idxmax(axis=1)"
   ]
  },
  {
   "cell_type": "code",
   "execution_count": 70,
   "metadata": {},
   "outputs": [
    {
     "name": "stderr",
     "output_type": "stream",
     "text": [
      "/home/jepoy/miniconda3/envs/ds-unit-4/lib/python3.7/site-packages/ipykernel/ipkernel.py:287: DeprecationWarning: `should_run_async` will not call `transform_cell` automatically in the future. Please pass the result to `transformed_cell` argument and any exception that happen during thetransform in `preprocessing_exc_tuple` in IPython 7.17 and above.\n",
      "  and should_run_async(code)\n"
     ]
    },
    {
     "data": {
      "text/html": [
       "<div>\n",
       "<style scoped>\n",
       "    .dataframe tbody tr th:only-of-type {\n",
       "        vertical-align: middle;\n",
       "    }\n",
       "\n",
       "    .dataframe tbody tr th {\n",
       "        vertical-align: top;\n",
       "    }\n",
       "\n",
       "    .dataframe thead th {\n",
       "        text-align: right;\n",
       "    }\n",
       "</style>\n",
       "<table border=\"1\" class=\"dataframe\">\n",
       "  <thead>\n",
       "    <tr style=\"text-align: right;\">\n",
       "      <th></th>\n",
       "      <th>review</th>\n",
       "      <th>sentiment</th>\n",
       "      <th>lemmas</th>\n",
       "      <th>primary_topic</th>\n",
       "    </tr>\n",
       "  </thead>\n",
       "  <tbody>\n",
       "    <tr>\n",
       "      <th>0</th>\n",
       "      <td>One of the other reviewers has mentioned that ...</td>\n",
       "      <td>positive</td>\n",
       "      <td>[reviewer, mention, watch, 1, Oz, episode, hoo...</td>\n",
       "      <td>horror scene like kill plot</td>\n",
       "    </tr>\n",
       "    <tr>\n",
       "      <th>1</th>\n",
       "      <td>A wonderful little production. The filming tec...</td>\n",
       "      <td>positive</td>\n",
       "      <td>[wonderful, little, production, filming, techn...</td>\n",
       "      <td>story life time people like</td>\n",
       "    </tr>\n",
       "    <tr>\n",
       "      <th>2</th>\n",
       "      <td>I thought this was a wonderful way to spend ti...</td>\n",
       "      <td>positive</td>\n",
       "      <td>[think, wonderful, way, spend, time, hot, summ...</td>\n",
       "      <td>good great like watch see</td>\n",
       "    </tr>\n",
       "    <tr>\n",
       "      <th>3</th>\n",
       "      <td>Basically there's a family where a little boy ...</td>\n",
       "      <td>negative</td>\n",
       "      <td>[basically, family, little, boy, Jake, think, ...</td>\n",
       "      <td>horror scene like kill plot</td>\n",
       "    </tr>\n",
       "    <tr>\n",
       "      <th>4</th>\n",
       "      <td>Petter Mattei's \"Love in the Time of Money\" is...</td>\n",
       "      <td>positive</td>\n",
       "      <td>[Petter, Mattei, love, Time, money, visually, ...</td>\n",
       "      <td>story life time people like</td>\n",
       "    </tr>\n",
       "  </tbody>\n",
       "</table>\n",
       "</div>"
      ],
      "text/plain": [
       "                                              review sentiment  \\\n",
       "0  One of the other reviewers has mentioned that ...  positive   \n",
       "1  A wonderful little production. The filming tec...  positive   \n",
       "2  I thought this was a wonderful way to spend ti...  positive   \n",
       "3  Basically there's a family where a little boy ...  negative   \n",
       "4  Petter Mattei's \"Love in the Time of Money\" is...  positive   \n",
       "\n",
       "                                              lemmas  \\\n",
       "0  [reviewer, mention, watch, 1, Oz, episode, hoo...   \n",
       "1  [wonderful, little, production, filming, techn...   \n",
       "2  [think, wonderful, way, spend, time, hot, summ...   \n",
       "3  [basically, family, little, boy, Jake, think, ...   \n",
       "4  [Petter, Mattei, love, Time, money, visually, ...   \n",
       "\n",
       "                 primary_topic  \n",
       "0  horror scene like kill plot  \n",
       "1  story life time people like  \n",
       "2    good great like watch see  \n",
       "3  horror scene like kill plot  \n",
       "4  story life time people like  "
      ]
     },
     "execution_count": 70,
     "metadata": {},
     "output_type": "execute_result"
    }
   ],
   "source": [
    "df.head()"
   ]
  },
  {
   "cell_type": "code",
   "execution_count": 72,
   "metadata": {},
   "outputs": [
    {
     "name": "stderr",
     "output_type": "stream",
     "text": [
      "/home/jepoy/miniconda3/envs/ds-unit-4/lib/python3.7/site-packages/ipykernel/ipkernel.py:287: DeprecationWarning: `should_run_async` will not call `transform_cell` automatically in the future. Please pass the result to `transformed_cell` argument and any exception that happen during thetransform in `preprocessing_exc_tuple` in IPython 7.17 and above.\n",
      "  and should_run_async(code)\n"
     ]
    },
    {
     "data": {
      "text/plain": [
       "(array([0, 1, 2, 3, 4]),\n",
       " [Text(0, 0, 'horror scene like kill plot'),\n",
       "  Text(1, 0, 'story life time people like'),\n",
       "  Text(2, 0, 'good great like watch see'),\n",
       "  Text(3, 0, 'bad like watch good think'),\n",
       "  Text(4, 0, 'play man good year role')])"
      ]
     },
     "execution_count": 72,
     "metadata": {},
     "output_type": "execute_result"
    },
    {
     "data": {
      "image/png": "[encoded data removed]",
      "text/plain": [
       "<Figure size 432x288 with 1 Axes>"
      ]
     },
     "metadata": {
      "needs_background": "light"
     },
     "output_type": "display_data"
    }
   ],
   "source": [
    "# Simple Bar Graph?\n",
    "import seaborn as sns\n",
    "import matplotlib.pyplot as plt\n",
    "\n",
    "ax = sns.countplot(x=\"primary_topic\", hue=\"sentiment\", data=df)\n",
    "plt.xticks(rotation=90)"
   ]
  }
 ],
 "metadata": {
  "kernelspec": {
   "display_name": "ds-unit-4 (Python3)",
   "language": "python",
   "name": "ds-unit-4"
  },
  "language_info": {
   "codemirror_mode": {
    "name": "ipython",
    "version": 3
   },
   "file_extension": ".py",
   "mimetype": "text/x-python",
   "name": "python",
   "nbconvert_exporter": "python",
   "pygments_lexer": "ipython3",
   "version": "3.7.0"
  }
 },
 "nbformat": 4,
 "nbformat_minor": 4
}
