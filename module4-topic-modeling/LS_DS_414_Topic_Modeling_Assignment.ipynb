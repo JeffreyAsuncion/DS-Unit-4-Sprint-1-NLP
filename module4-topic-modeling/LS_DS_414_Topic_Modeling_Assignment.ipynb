{
 "cells": [
  {
   "cell_type": "markdown",
   "metadata": {},
   "source": [
    "<img align=\"left\" src=\"https://lever-client-logos.s3.amazonaws.com/864372b1-534c-480e-acd5-9711f850815c-1524247202159.png\" width=200>\n",
    "<br></br>\n",
    "<br></br>\n",
    "\n",
    "# Topic Modeling\n",
    "## *Data Science Unit 4 Sprint 1 Assignment 4*\n",
    "\n",
    "Analyze a corpus of Amazon reviews from Unit 4 Sprint 1 Module 1's lecture using topic modeling: \n",
    "\n",
    "- Fit a Gensim LDA topic model on Amazon Reviews\n",
    "- Select appropriate number of topics\n",
    "- Create some dope visualization of the topics\n",
    "- Write a few bullets on your findings in markdown at the end\n",
    "- **Note**: You don't *have* to use generators for this assignment"
   ]
  },
  {
   "cell_type": "code",
   "execution_count": 1,
   "metadata": {},
   "outputs": [],
   "source": [
    "#Start Here"
   ]
  },
  {
   "cell_type": "markdown",
   "metadata": {},
   "source": [
    "## Approach\n",
    "* Apply NLP to Amazon Reviews\n",
    "* Estimate a topic model on the Amazon Reviews\n",
    "* Create visualizations relating the topics to the review scores\n"
   ]
  },
  {
   "cell_type": "code",
   "execution_count": 1,
   "metadata": {},
   "outputs": [],
   "source": [
    "import pandas as pd\n",
    "\n",
    "df = pd.read_csv('../module1-text-data/data/Datafiniti_Amazon_Consumer_Reviews_of_Amazon_Products_May19.csv')"
   ]
  },
  {
   "cell_type": "code",
   "execution_count": 4,
   "metadata": {},
   "outputs": [
    {
     "data": {
      "text/html": [
       "<div>\n",
       "<style scoped>\n",
       "    .dataframe tbody tr th:only-of-type {\n",
       "        vertical-align: middle;\n",
       "    }\n",
       "\n",
       "    .dataframe tbody tr th {\n",
       "        vertical-align: top;\n",
       "    }\n",
       "\n",
       "    .dataframe thead th {\n",
       "        text-align: right;\n",
       "    }\n",
       "</style>\n",
       "<table border=\"1\" class=\"dataframe\">\n",
       "  <thead>\n",
       "    <tr style=\"text-align: right;\">\n",
       "      <th></th>\n",
       "      <th>id</th>\n",
       "      <th>dateAdded</th>\n",
       "      <th>dateUpdated</th>\n",
       "      <th>name</th>\n",
       "      <th>asins</th>\n",
       "      <th>brand</th>\n",
       "      <th>categories</th>\n",
       "      <th>primaryCategories</th>\n",
       "      <th>imageURLs</th>\n",
       "      <th>keys</th>\n",
       "      <th>...</th>\n",
       "      <th>reviews.didPurchase</th>\n",
       "      <th>reviews.doRecommend</th>\n",
       "      <th>reviews.id</th>\n",
       "      <th>reviews.numHelpful</th>\n",
       "      <th>reviews.rating</th>\n",
       "      <th>reviews.sourceURLs</th>\n",
       "      <th>reviews.text</th>\n",
       "      <th>reviews.title</th>\n",
       "      <th>reviews.username</th>\n",
       "      <th>sourceURLs</th>\n",
       "    </tr>\n",
       "  </thead>\n",
       "  <tbody>\n",
       "    <tr>\n",
       "      <th>0</th>\n",
       "      <td>AVpgNzjwLJeJML43Kpxn</td>\n",
       "      <td>2015-10-30T08:59:32Z</td>\n",
       "      <td>2019-04-25T09:08:16Z</td>\n",
       "      <td>AmazonBasics AAA Performance Alkaline Batterie...</td>\n",
       "      <td>B00QWO9P0O,B00LH3DMUO</td>\n",
       "      <td>Amazonbasics</td>\n",
       "      <td>AA,AAA,Health,Electronics,Health &amp; Household,C...</td>\n",
       "      <td>Health &amp; Beauty</td>\n",
       "      <td>https://images-na.ssl-images-amazon.com/images...</td>\n",
       "      <td>amazonbasics/hl002619,amazonbasicsaaaperforman...</td>\n",
       "      <td>...</td>\n",
       "      <td>NaN</td>\n",
       "      <td>NaN</td>\n",
       "      <td>NaN</td>\n",
       "      <td>NaN</td>\n",
       "      <td>3</td>\n",
       "      <td>https://www.amazon.com/product-reviews/B00QWO9...</td>\n",
       "      <td>I order 3 of them and one of the item is bad q...</td>\n",
       "      <td>... 3 of them and one of the item is bad quali...</td>\n",
       "      <td>Byger yang</td>\n",
       "      <td>https://www.barcodable.com/upc/841710106442,ht...</td>\n",
       "    </tr>\n",
       "    <tr>\n",
       "      <th>1</th>\n",
       "      <td>AVpgNzjwLJeJML43Kpxn</td>\n",
       "      <td>2015-10-30T08:59:32Z</td>\n",
       "      <td>2019-04-25T09:08:16Z</td>\n",
       "      <td>AmazonBasics AAA Performance Alkaline Batterie...</td>\n",
       "      <td>B00QWO9P0O,B00LH3DMUO</td>\n",
       "      <td>Amazonbasics</td>\n",
       "      <td>AA,AAA,Health,Electronics,Health &amp; Household,C...</td>\n",
       "      <td>Health &amp; Beauty</td>\n",
       "      <td>https://images-na.ssl-images-amazon.com/images...</td>\n",
       "      <td>amazonbasics/hl002619,amazonbasicsaaaperforman...</td>\n",
       "      <td>...</td>\n",
       "      <td>NaN</td>\n",
       "      <td>NaN</td>\n",
       "      <td>NaN</td>\n",
       "      <td>NaN</td>\n",
       "      <td>4</td>\n",
       "      <td>https://www.amazon.com/product-reviews/B00QWO9...</td>\n",
       "      <td>Bulk is always the less expensive way to go fo...</td>\n",
       "      <td>... always the less expensive way to go for pr...</td>\n",
       "      <td>ByMG</td>\n",
       "      <td>https://www.barcodable.com/upc/841710106442,ht...</td>\n",
       "    </tr>\n",
       "  </tbody>\n",
       "</table>\n",
       "<p>2 rows × 24 columns</p>\n",
       "</div>"
      ],
      "text/plain": [
       "                     id             dateAdded           dateUpdated  \\\n",
       "0  AVpgNzjwLJeJML43Kpxn  2015-10-30T08:59:32Z  2019-04-25T09:08:16Z   \n",
       "1  AVpgNzjwLJeJML43Kpxn  2015-10-30T08:59:32Z  2019-04-25T09:08:16Z   \n",
       "\n",
       "                                                name                  asins  \\\n",
       "0  AmazonBasics AAA Performance Alkaline Batterie...  B00QWO9P0O,B00LH3DMUO   \n",
       "1  AmazonBasics AAA Performance Alkaline Batterie...  B00QWO9P0O,B00LH3DMUO   \n",
       "\n",
       "          brand                                         categories  \\\n",
       "0  Amazonbasics  AA,AAA,Health,Electronics,Health & Household,C...   \n",
       "1  Amazonbasics  AA,AAA,Health,Electronics,Health & Household,C...   \n",
       "\n",
       "  primaryCategories                                          imageURLs  \\\n",
       "0   Health & Beauty  https://images-na.ssl-images-amazon.com/images...   \n",
       "1   Health & Beauty  https://images-na.ssl-images-amazon.com/images...   \n",
       "\n",
       "                                                keys  ... reviews.didPurchase  \\\n",
       "0  amazonbasics/hl002619,amazonbasicsaaaperforman...  ...                 NaN   \n",
       "1  amazonbasics/hl002619,amazonbasicsaaaperforman...  ...                 NaN   \n",
       "\n",
       "  reviews.doRecommend reviews.id reviews.numHelpful reviews.rating  \\\n",
       "0                 NaN        NaN                NaN              3   \n",
       "1                 NaN        NaN                NaN              4   \n",
       "\n",
       "                                  reviews.sourceURLs  \\\n",
       "0  https://www.amazon.com/product-reviews/B00QWO9...   \n",
       "1  https://www.amazon.com/product-reviews/B00QWO9...   \n",
       "\n",
       "                                        reviews.text  \\\n",
       "0  I order 3 of them and one of the item is bad q...   \n",
       "1  Bulk is always the less expensive way to go fo...   \n",
       "\n",
       "                                       reviews.title  reviews.username  \\\n",
       "0  ... 3 of them and one of the item is bad quali...        Byger yang   \n",
       "1  ... always the less expensive way to go for pr...              ByMG   \n",
       "\n",
       "                                          sourceURLs  \n",
       "0  https://www.barcodable.com/upc/841710106442,ht...  \n",
       "1  https://www.barcodable.com/upc/841710106442,ht...  \n",
       "\n",
       "[2 rows x 24 columns]"
      ]
     },
     "execution_count": 4,
     "metadata": {},
     "output_type": "execute_result"
    }
   ],
   "source": [
    "df.head(2)"
   ]
  },
  {
   "cell_type": "code",
   "execution_count": 2,
   "metadata": {},
   "outputs": [
    {
     "data": {
      "text/plain": [
       "'I order 3 of them and one of the item is bad quality. Is missing backup spring so I have to put a pcs of aluminum to make the battery work.'"
      ]
     },
     "execution_count": 2,
     "metadata": {},
     "output_type": "execute_result"
    }
   ],
   "source": [
    "df['reviews.text'][0]"
   ]
  },
  {
   "cell_type": "markdown",
   "metadata": {},
   "source": [
    "# Applying NLP\n",
    "* We need to tokenize the text\n",
    "* How should we do it?\n",
    "- Use Spacy\n",
    "- Figure our what our unit of analysis (lemmas, adj, keywords, nouns, spacy tokens, etc.) Try different ones\n",
    "- Keyword extraction NEW TECHNIQUE"
   ]
  },
  {
   "cell_type": "code",
   "execution_count": 3,
   "metadata": {},
   "outputs": [],
   "source": [
    "import spacy\n",
    "\n",
    "nlp = spacy.load('en_core_web_lg')"
   ]
  },
  {
   "cell_type": "code",
   "execution_count": 48,
   "metadata": {},
   "outputs": [
    {
     "name": "stderr",
     "output_type": "stream",
     "text": [
      "/home/jepoy/miniconda3/envs/ds-unit-4/lib/python3.7/site-packages/ipykernel/ipkernel.py:287: DeprecationWarning: `should_run_async` will not call `transform_cell` automatically in the future. Please pass the result to `transformed_cell` argument and any exception that happen during thetransform in `preprocessing_exc_tuple` in IPython 7.17 and above.\n",
      "  and should_run_async(code)\n"
     ]
    }
   ],
   "source": [
    "STOP_WORDS = nlp.Defaults.stop_words.union(['batteries','I', 'amazon', 'i', 'Amazon', 'it', \"it's\", 'it.', 'the', 'this', 'tablet.'])"
   ]
  },
  {
   "cell_type": "code",
   "execution_count": 4,
   "metadata": {},
   "outputs": [],
   "source": [
    "# Try Lemmatization as our first Experiment\n",
    "\n",
    "def get_lemmas(text):\n",
    "    \n",
    "    lemmas = []\n",
    "    \n",
    "    doc = nlp(text)\n",
    "    \n",
    "    STOP_WORDS = nlp.Defaults.stop_words.union(['batteries','I', 'amazon', 'i', 'Amazon', 'it', \"it's\", 'it.', 'the', 'this', 'tablet.'])\n",
    "    \n",
    "    for token in doc:\n",
    "        conditions = (token.is_stop == False) and (token.is_punct == False) and (token.pos_ != 'PRON') and (token.text not in STOP_WORDS)\n",
    "        if conditions:\n",
    "            lemmas.append(token.lemma_)\n",
    "    \n",
    "    return lemmas"
   ]
  },
  {
   "cell_type": "code",
   "execution_count": 5,
   "metadata": {},
   "outputs": [
    {
     "name": "stderr",
     "output_type": "stream",
     "text": [
      "/home/jepoy/miniconda3/envs/ds-unit-4/lib/python3.7/site-packages/tqdm/std.py:668: FutureWarning: The Panel class is removed from pandas. Accessing it from the top-level namespace will also be removed in the next version\n",
      "  from pandas import Panel\n"
     ]
    }
   ],
   "source": [
    "from tqdm import tqdm\n",
    "tqdm.pandas()"
   ]
  },
  {
   "cell_type": "code",
   "execution_count": 6,
   "metadata": {},
   "outputs": [
    {
     "name": "stderr",
     "output_type": "stream",
     "text": [
      "100%|██████████| 28332/28332 [03:04<00:00, 153.76it/s]\n"
     ]
    }
   ],
   "source": [
    "df['lemmas'] = df['reviews.text'].progress_apply(get_lemmas)"
   ]
  },
  {
   "cell_type": "markdown",
   "metadata": {},
   "source": [
    "## Topic Modeling w/ Gensim\n",
    "* Learn a Vocabulary\n",
    "* Create a Bag of Words (BoW) representation of each document\n",
    "* Estimate our LDA model\n",
    "* Clean up the results\n",
    "* Add topic information back to dataframe"
   ]
  },
  {
   "cell_type": "code",
   "execution_count": 7,
   "metadata": {},
   "outputs": [],
   "source": [
    "import gensim\n",
    "from gensim import corpora\n",
    "from gensim.models.ldamulticore import LdaMulticore"
   ]
  },
  {
   "cell_type": "code",
   "execution_count": 8,
   "metadata": {},
   "outputs": [],
   "source": [
    "# like countVectorizer fit\n",
    "\n",
    "id2word = corpora.Dictionary(df['lemmas'])"
   ]
  },
  {
   "cell_type": "code",
   "execution_count": 9,
   "metadata": {},
   "outputs": [],
   "source": [
    "# for statistical trimming\n",
    "id2word.filter_extremes(no_below=50, no_above=.90)"
   ]
  },
  {
   "cell_type": "code",
   "execution_count": 10,
   "metadata": {},
   "outputs": [
    {
     "data": {
      "text/plain": [
       "787"
      ]
     },
     "execution_count": 10,
     "metadata": {},
     "output_type": "execute_result"
    }
   ],
   "source": [
    "#how big is corpus\n",
    "len(id2word.keys())"
   ]
  },
  {
   "cell_type": "code",
   "execution_count": 11,
   "metadata": {},
   "outputs": [
    {
     "data": {
      "text/plain": [
       "'3'"
      ]
     },
     "execution_count": 11,
     "metadata": {},
     "output_type": "execute_result"
    }
   ],
   "source": [
    "id2word[0]"
   ]
  },
  {
   "cell_type": "code",
   "execution_count": 12,
   "metadata": {},
   "outputs": [],
   "source": [
    "# Transform\n",
    "\n",
    "corpus = [id2word.doc2bow(doc) for doc in df['lemmas']]"
   ]
  },
  {
   "cell_type": "code",
   "execution_count": 13,
   "metadata": {},
   "outputs": [
    {
     "data": {
      "text/html": [
       "<div>\n",
       "<style scoped>\n",
       "    .dataframe tbody tr th:only-of-type {\n",
       "        vertical-align: middle;\n",
       "    }\n",
       "\n",
       "    .dataframe tbody tr th {\n",
       "        vertical-align: top;\n",
       "    }\n",
       "\n",
       "    .dataframe thead th {\n",
       "        text-align: right;\n",
       "    }\n",
       "</style>\n",
       "<table border=\"1\" class=\"dataframe\">\n",
       "  <thead>\n",
       "    <tr style=\"text-align: right;\">\n",
       "      <th></th>\n",
       "      <th>reviews.text</th>\n",
       "      <th>lemmas</th>\n",
       "    </tr>\n",
       "  </thead>\n",
       "  <tbody>\n",
       "    <tr>\n",
       "      <th>0</th>\n",
       "      <td>I order 3 of them and one of the item is bad q...</td>\n",
       "      <td>[order, 3, item, bad, quality, miss, backup, s...</td>\n",
       "    </tr>\n",
       "    <tr>\n",
       "      <th>1</th>\n",
       "      <td>Bulk is always the less expensive way to go fo...</td>\n",
       "      <td>[bulk, expensive, way, product, like]</td>\n",
       "    </tr>\n",
       "    <tr>\n",
       "      <th>2</th>\n",
       "      <td>Well they are not Duracell but for the price i...</td>\n",
       "      <td>[Duracell, price, happy]</td>\n",
       "    </tr>\n",
       "    <tr>\n",
       "      <th>3</th>\n",
       "      <td>Seem to work as well as name brand batteries a...</td>\n",
       "      <td>[work, brand, well, price]</td>\n",
       "    </tr>\n",
       "    <tr>\n",
       "      <th>4</th>\n",
       "      <td>These batteries are very long lasting the pric...</td>\n",
       "      <td>[long, last, price, great]</td>\n",
       "    </tr>\n",
       "    <tr>\n",
       "      <th>...</th>\n",
       "      <td>...</td>\n",
       "      <td>...</td>\n",
       "    </tr>\n",
       "    <tr>\n",
       "      <th>28327</th>\n",
       "      <td>I got 2 of these for my 8 yr old twins. My 11 ...</td>\n",
       "      <td>[get, 2, 8, yr, old, twin, 11, yr, old, well, ...</td>\n",
       "    </tr>\n",
       "    <tr>\n",
       "      <th>28328</th>\n",
       "      <td>I bought this for my niece for a Christmas gif...</td>\n",
       "      <td>[buy, niece, Christmas, gift.she, 9, year, old...</td>\n",
       "    </tr>\n",
       "    <tr>\n",
       "      <th>28329</th>\n",
       "      <td>Very nice for light internet browsing, keeping...</td>\n",
       "      <td>[nice, light, internet, browsing, keep, email,...</td>\n",
       "    </tr>\n",
       "    <tr>\n",
       "      <th>28330</th>\n",
       "      <td>This Tablet does absolutely everything I want!...</td>\n",
       "      <td>[Tablet, absolutely, want, watch, tv, show, mo...</td>\n",
       "    </tr>\n",
       "    <tr>\n",
       "      <th>28331</th>\n",
       "      <td>At ninety dollars, the expectionations are low...</td>\n",
       "      <td>[ninety, dollar, expectionation, low, good, ta...</td>\n",
       "    </tr>\n",
       "  </tbody>\n",
       "</table>\n",
       "<p>28332 rows × 2 columns</p>\n",
       "</div>"
      ],
      "text/plain": [
       "                                            reviews.text  \\\n",
       "0      I order 3 of them and one of the item is bad q...   \n",
       "1      Bulk is always the less expensive way to go fo...   \n",
       "2      Well they are not Duracell but for the price i...   \n",
       "3      Seem to work as well as name brand batteries a...   \n",
       "4      These batteries are very long lasting the pric...   \n",
       "...                                                  ...   \n",
       "28327  I got 2 of these for my 8 yr old twins. My 11 ...   \n",
       "28328  I bought this for my niece for a Christmas gif...   \n",
       "28329  Very nice for light internet browsing, keeping...   \n",
       "28330  This Tablet does absolutely everything I want!...   \n",
       "28331  At ninety dollars, the expectionations are low...   \n",
       "\n",
       "                                                  lemmas  \n",
       "0      [order, 3, item, bad, quality, miss, backup, s...  \n",
       "1                  [bulk, expensive, way, product, like]  \n",
       "2                               [Duracell, price, happy]  \n",
       "3                             [work, brand, well, price]  \n",
       "4                             [long, last, price, great]  \n",
       "...                                                  ...  \n",
       "28327  [get, 2, 8, yr, old, twin, 11, yr, old, well, ...  \n",
       "28328  [buy, niece, Christmas, gift.she, 9, year, old...  \n",
       "28329  [nice, light, internet, browsing, keep, email,...  \n",
       "28330  [Tablet, absolutely, want, watch, tv, show, mo...  \n",
       "28331  [ninety, dollar, expectionation, low, good, ta...  \n",
       "\n",
       "[28332 rows x 2 columns]"
      ]
     },
     "execution_count": 13,
     "metadata": {},
     "output_type": "execute_result"
    }
   ],
   "source": [
    "df[['reviews.text', 'lemmas']]"
   ]
  },
  {
   "cell_type": "code",
   "execution_count": 14,
   "metadata": {},
   "outputs": [],
   "source": [
    "# the key to LDA is in the preprocessing than it is in the modeling\n",
    "\n",
    "lda = LdaMulticore(corpus=corpus,\n",
    "                   id2word=id2word,\n",
    "                   num_topics = 5, # 15 to 5\n",
    "                   passes=10, # 2 to 15, usually 100 to get better results\n",
    "                   workers=12,\n",
    "                   random_state=42)\n",
    "\n",
    "# parameter to tune are\n",
    "#.num_topics\n",
    "#.passes\n",
    "\n",
    "# need more passes\n",
    "# need more stop words\n",
    "# need statical trimming see id2word\n",
    "\n",
    "# look up coherence scores"
   ]
  },
  {
   "cell_type": "code",
   "execution_count": 15,
   "metadata": {},
   "outputs": [
    {
     "data": {
      "text/plain": [
       "[(0,\n",
       "  '0.069*\"tablet\" + 0.034*\"app\" + 0.032*\"kid\" + 0.030*\"great\" + 0.021*\"game\" + 0.017*\"good\" + 0.015*\"time\" + 0.014*\"play\" + 0.014*\"use\" + 0.012*\"download\"'),\n",
       " (1,\n",
       "  '0.089*\"good\" + 0.086*\"great\" + 0.059*\"price\" + 0.046*\"work\" + 0.032*\"buy\" + 0.023*\"tablet\" + 0.022*\"product\" + 0.022*\"battery\" + 0.014*\"quality\" + 0.013*\"life\"'),\n",
       " (2,\n",
       "  '0.039*\"read\" + 0.033*\"easy\" + 0.029*\"book\" + 0.028*\"use\" + 0.028*\"great\" + 0.027*\"tablet\" + 0.022*\"screen\" + 0.019*\"like\" + 0.016*\"Kindle\" + 0.015*\"love\"'),\n",
       " (3,\n",
       "  '0.094*\"love\" + 0.046*\"old\" + 0.040*\"buy\" + 0.040*\"year\" + 0.036*\"tablet\" + 0.034*\"use\" + 0.028*\"easy\" + 0.026*\"great\" + 0.023*\"gift\" + 0.021*\"purchase\"'),\n",
       " (4,\n",
       "  '0.021*\"long\" + 0.017*\"time\" + 0.016*\"charge\" + 0.016*\"buy\" + 0.014*\"like\" + 0.014*\"Kindle\" + 0.013*\"battery\" + 0.012*\"brand\" + 0.011*\"work\" + 0.010*\"purchase\"')]"
      ]
     },
     "execution_count": 15,
     "metadata": {},
     "output_type": "execute_result"
    }
   ],
   "source": [
    "lda.print_topics()"
   ]
  },
  {
   "cell_type": "code",
   "execution_count": 16,
   "metadata": {},
   "outputs": [],
   "source": [
    "import re\n",
    "\n",
    "words = [re.findall(r'\"([^\"]*)\"', t[1]) for t in lda.print_topics()]"
   ]
  },
  {
   "cell_type": "code",
   "execution_count": 17,
   "metadata": {},
   "outputs": [],
   "source": [
    "topics = [' '.join(t[0:5]) for t in words]"
   ]
  },
  {
   "cell_type": "code",
   "execution_count": 18,
   "metadata": {},
   "outputs": [
    {
     "name": "stdout",
     "output_type": "stream",
     "text": [
      "------- Topic 0 -------\n",
      "tablet app kid great game\n",
      "\n",
      "------- Topic 1 -------\n",
      "good great price work buy\n",
      "\n",
      "------- Topic 2 -------\n",
      "read easy book use great\n",
      "\n",
      "------- Topic 3 -------\n",
      "love old buy year tablet\n",
      "\n",
      "------- Topic 4 -------\n",
      "long time charge buy like\n",
      "\n"
     ]
    }
   ],
   "source": [
    "for id, t in enumerate(topics):\n",
    "    print(f\"------- Topic {id} -------\")\n",
    "    print(t, end=\"\\n\\n\")"
   ]
  },
  {
   "cell_type": "markdown",
   "metadata": {},
   "source": [
    "## Analyzing the Results of LDA\n",
    "- How good are the topics themselves?\n",
    "    * Using tntertopic distance visualization\n",
    "    * Looking at some of the tokens distributions\n",
    "- Using the LDA topics for analysis:\n",
    "    * Score each review with a top topic\n",
    "    * Summary visualization of top topic versus sentiment"
   ]
  },
  {
   "cell_type": "code",
   "execution_count": 19,
   "metadata": {},
   "outputs": [],
   "source": [
    "import pyLDAvis.gensim\n",
    "\n",
    "pyLDAvis.enable_notebook()"
   ]
  },
  {
   "cell_type": "code",
   "execution_count": 20,
   "metadata": {},
   "outputs": [
    {
     "name": "stderr",
     "output_type": "stream",
     "text": [
      "/home/jepoy/miniconda3/envs/ds-unit-4/lib/python3.7/site-packages/ipykernel/ipkernel.py:287: DeprecationWarning: `should_run_async` will not call `transform_cell` automatically in the future. Please pass the result to `transformed_cell` argument and any exception that happen during thetransform in `preprocessing_exc_tuple` in IPython 7.17 and above.\n",
      "  and should_run_async(code)\n"
     ]
    },
    {
     "data": {
      "text/html": [
       "\n",
       "<link rel=\"stylesheet\" type=\"text/css\" href=\"https://cdn.rawgit.com/bmabey/pyLDAvis/files/ldavis.v1.0.0.css\">\n",
       "\n",
       "\n",
       "<div id=\"ldavis_el1021400840000144087418241643\"></div>\n",
       "<script type=\"text/javascript\">\n",
       "\n",
       "var ldavis_el1021400840000144087418241643_data = {\"mdsDat\": {\"x\": [0.13095319167807074, 0.014103468855016286, 0.09066815069507472, -0.03292058234034906, -0.20280422888781252], \"y\": [0.11908031315129897, -0.015073054877036272, -0.0895136781857309, -0.06006866812216463, 0.04557508803363272], \"topics\": [1, 2, 3, 4, 5], \"cluster\": [1, 1, 1, 1, 1], \"Freq\": [25.671860423838833, 19.36656066893587, 19.127367219985047, 19.062865361426446, 16.771346325813806]}, \"tinfo\": {\"Term\": [\"love\", \"good\", \"great\", \"read\", \"price\", \"old\", \"tablet\", \"year\", \"easy\", \"work\", \"app\", \"kid\", \"book\", \"gift\", \"battery\", \"buy\", \"charge\", \"long\", \"Christmas\", \"brand\", \"use\", \"value\", \"deal\", \"daughter\", \"screen\", \"life\", \"son\", \"grandson\", \"time\", \"quality\", \"keyboard\", \"Energizer\", \"plug\", \"Paperwhite\", \"drain\", \"Alkaline\", \"port\", \"anymore\", \"cable\", \"dead\", \"candle\", \"batch\", \"Batteries\", \"led\", \"appear\", \"lasting\", \"Duracell\", \"notice\", \"Xbox\", \"longevity\", \"sit\", \"energizer\", \"pair\", \"half\", \"flash\", \"press\", \"test\", \"leak\", \"charge\", \"loose\", \"charger\", \"button\", \"AmazonBasics\", \"mouse\", \"turn\", \"power\", \"difference\", \"remote\", \"week\", \"try\", \"long\", \"AA\", \"last\", \"longer\", \"page\", \"box\", \"brand\", \"time\", \"change\", \"problem\", \"go\", \"replace\", \"Kindle\", \"battery\", \"new\", \"find\", \"issue\", \"day\", \"device\", \"like\", \"review\", \"come\", \"buy\", \"purchase\", \"month\", \"work\", \"screen\", \"well\", \"use\", \"Fire\", \"price\", \"kindle\", \"far\", \"fire\", \"need\", \"paper\", \"bed\", \"voice\", \"class\", \"Tap\", \"ebook\", \"lighting\", \"lightweight\", \"Echo\", \"eye\", \"read\", \"echo\", \"weight\", \"purse\", \"crisp\", \"compact\", \"bag\", \"tap\", \"e\", \"portability\", \"adjust\", \"dark\", \"avid\", \"carry\", \"book\", \"search\", \"text\", \"person\", \"HD\", \"Alexa\", \"reader\", \"portable\", \"light\", \"clear\", \"listen\", \"screen\", \"easy\", \"small\", \"size\", \"nice\", \"Kindle\", \"speaker\", \"like\", \"use\", \"big\", \"music\", \"recommend\", \"Fire\", \"large\", \"need\", \"sound\", \"tablet\", \"great\", \"enjoy\", \"little\", \"8\", \"want\", \"love\", \"fast\", \"purchase\", \"make\", \"device\", \"buy\", \"product\", \"good\", \"price\", \"delivery\", \"deal\", \"shipping\", \"thank\", \"value\", \"bang\", \"beat\", \"solid\", \"quantity\", \"Great\", \"describe\", \"lol\", \"Buy\", \"life\", \"good\", \"Friday\", \"price\", \"Best\", \"black\", \"today\", \"work\", \"customer\", \"stuff\", \"packaging\", \"quality\", \"ship\", \"ok\", \"Black\", \"rough\", \"everyday\", \"battery\", \"fine\", \"great\", \"product\", \"far\", \"sale\", \"fast\", \"pretty\", \"cheap\", \"brand\", \"buy\", \"expect\", \"money\", \"tablet\", \"store\", \"order\", \"nice\", \"long\", \"look\", \"get\", \"love\", \"need\", \"use\", \"like\", \"kid\", \"streaming\", \"user\", \"limit\", \"content\", \"unlimited\", \"profile\", \"google\", \"Play\", \"browsing\", \"busy\", \"gb\", \"SD\", \"Store\", \"account\", \"pre\", \"Netflix\", \"proof\", \"site\", \"mode\", \"limited\", \"road\", \"trip\", \"subscription\", \"install\", \"adult\", \"Google\", \"friendly\", \"sd\", \"edition\", \"app\", \"video\", \"card\", \"free\", \"download\", \"access\", \"memory\", \"kid\", \"tablet\", \"child\", \"game\", \"watch\", \"play\", \"GB\", \"movie\", \"allow\", \"load\", \"time\", \"lot\", \"iPad\", \"set\", \"great\", \"want\", \"good\", \"storage\", \"use\", \"like\", \"daughter\", \"feature\", \"price\", \"fire\", \"get\", \"work\", \"love\", \"buy\", \"niece\", \"grandchild\", \"grandson\", \"granddaughter\", \"grandkid\", \"nephew\", \"yr\", \"birthday\", \"absolutely\", \"sister\", \"Christmas\", \"grand\", \"durable\", \"gift\", \"pink\", \"law\", \"present\", \"mother\", \"boy\", \"old\", \"girl\", \"bring\", \"year\", \"tool\", \"9\", \"mom\", \"age\", \"son\", \"bumper\", \"learning\", \"love\", \"daughter\", \"learn\", \"3\", \"drop\", \"2\", \"easy\", \"buy\", \"purchase\", \"use\", \"4\", \"tablet\", \"kindle\", \"kid\", \"get\", \"5\", \"great\", \"enjoy\", \"perfect\", \"game\", \"fire\", \"play\", \"recommend\", \"child\"], \"Freq\": [6359.0, 6496.0, 8827.0, 2352.0, 4623.0, 2748.0, 7957.0, 2445.0, 3496.0, 3893.0, 2319.0, 2964.0, 2048.0, 1224.0, 2107.0, 5567.0, 1228.0, 2077.0, 877.0, 1429.0, 4863.0, 848.0, 719.0, 1042.0, 2102.0, 983.0, 1025.0, 522.0, 2359.0, 1291.0, 306.6960756931854, 116.46725340875871, 175.4948606087081, 65.69742812310253, 100.89495871391024, 39.31335909523466, 175.17670581969463, 64.87694685324945, 152.25221446150687, 132.79374308414867, 87.30860949170255, 44.29352427621675, 77.08040185057409, 56.03470505336137, 127.48955471027038, 107.11418160064173, 340.57225350946965, 158.67792271626044, 79.37845587792492, 37.85900129083769, 74.32302801298694, 117.76375842359141, 118.14379819900445, 135.3659388713926, 55.657716686303324, 66.6598019022631, 169.87708445434768, 130.89812738201667, 1142.152542270858, 86.15396465337356, 251.5262408076412, 273.3107745036087, 180.51947531166135, 113.41283810301437, 407.87346953115355, 338.37097156377706, 241.10209637571785, 314.7798586240359, 322.560941846071, 499.925802493131, 1461.8917679998563, 242.3553320159167, 453.9868375838871, 248.8908586386463, 222.3863660831686, 301.6269063866487, 843.0929251684823, 1199.6370340784845, 244.5809767292436, 461.70386952167064, 510.70740223703996, 419.2451752765142, 959.0534265438866, 924.2919118950041, 615.9677178684068, 482.70742050918017, 395.73282504673614, 426.7369122376873, 643.4916637264856, 981.7072761681885, 309.1472578791508, 499.61592490188053, 1090.11767987163, 722.7273379429996, 319.1543899745598, 740.5402555225174, 547.7811326813209, 417.4713006637453, 686.1275740690589, 455.3158451497011, 643.9317778512875, 477.5946989159768, 418.79109338048727, 400.5777340263828, 401.92995654529756, 70.4508256408143, 47.55368227534007, 48.140575324381565, 43.682324237354194, 30.407548689365793, 107.25808827084218, 46.527138521145176, 143.7788849190021, 90.07234898534404, 151.868179830715, 2045.6607354244798, 43.11865799500807, 181.36032159062373, 82.49986119388471, 63.07134169779685, 67.6611331000327, 49.859105958017345, 100.42843144236956, 270.51613553959584, 30.62780394214518, 50.075418934469994, 62.26664779075016, 47.68481098397152, 198.78754893040121, 1518.9039317054958, 81.09693523883355, 56.1861088346113, 69.46765302408876, 187.32440942377457, 173.69817064199754, 426.84419154108315, 114.62365076474292, 614.1113053293341, 220.80464694479235, 129.48452634137718, 1159.7555701744209, 1705.9618639823584, 380.42243345047245, 608.1069471282608, 574.8221587036463, 840.8545509888769, 170.02916449515868, 1012.9728841200748, 1487.714617119893, 352.4245760120917, 222.2704297975636, 508.4300544146855, 548.1082454791142, 206.89766198809937, 587.9624456137595, 189.85127134702302, 1389.1048525690085, 1441.6731225277133, 342.1784138536985, 357.13584318649305, 317.5103865469269, 406.257252592455, 769.3715502061063, 309.87113921760965, 476.74305564550474, 251.24758160403297, 365.3905856485495, 597.9612047789145, 395.4362071502571, 539.3174510026245, 360.72329635020145, 51.991518879680996, 649.8728588510251, 78.69866325849233, 304.7486594571009, 694.415673933558, 35.74376872945524, 379.61008392829535, 82.51199247748929, 38.8863050725415, 31.660881712469322, 89.8065367734281, 43.595288526862326, 181.60035013915288, 696.0311175921258, 4592.888491741921, 177.2827398186498, 3047.4803792877638, 49.180181249334524, 128.24331184910434, 34.545610274633425, 2404.139012240443, 69.53252372741693, 126.21579250230205, 87.73696790373472, 749.7782853570867, 38.16362481988085, 177.82723958441642, 101.8745029181554, 41.39008555447201, 68.89819746008622, 1123.8719922313674, 248.05219525044063, 4458.833793696823, 1135.7105168588243, 582.9559876926861, 235.21286547890634, 396.6347083489038, 266.2504723240027, 373.6289819552936, 561.4852194486325, 1658.9623973294229, 260.8517038467593, 270.19455134849454, 1172.6971374703965, 320.0875448838244, 202.26413130639938, 339.87799443914946, 449.7886779175485, 289.4595444768358, 395.09779888949095, 686.2293750107273, 344.6499829183521, 455.7318377544554, 346.9189708373107, 341.1152935197618, 50.9147373891083, 385.45618537949787, 240.94565819639922, 230.34061556356662, 66.88344627775236, 132.80139433509197, 143.42351937663358, 99.8894749596457, 56.78755065867572, 71.1526499303255, 76.25162888492493, 81.36671188118501, 77.36167333391465, 209.94323519572234, 76.8671778168764, 199.43736176762974, 48.48274499251239, 49.819980675530324, 93.31648100731975, 83.15335416549206, 53.50716997712781, 151.84866418974235, 70.31770668947335, 86.2998306109581, 149.67544087405378, 232.90609804086813, 323.5069442390999, 76.124693263218, 58.54517805763517, 1751.510288038136, 507.7680804294903, 242.53241349025404, 428.87049687697515, 595.4564179586006, 315.26085860259224, 225.84632146510586, 1671.9242702096942, 3573.4921985094293, 567.3020154333806, 1061.6261561773636, 525.8421571768815, 738.4553140317523, 123.66189752265336, 427.57396246361844, 179.4080034685077, 197.204692149814, 786.8609300882455, 477.76724118722984, 309.8658185764639, 370.8360444253274, 1539.709836081086, 467.5426692934155, 872.6995656753198, 212.55865640825184, 712.7166978231865, 543.5096653942963, 325.3343418133346, 288.84605271183347, 458.59436821077884, 328.92063926391677, 331.8817181548489, 377.056298042091, 409.09331718625083, 394.32040691849585, 206.24832929320675, 97.54173602569115, 494.0048944561969, 421.80037536218987, 170.19129391755504, 181.01066468267214, 240.90620358236933, 163.91002405559226, 247.5105590645618, 92.98196300679328, 750.158107397597, 158.6850163610902, 309.9443125024748, 1030.6349962085726, 57.97380733812241, 74.71785083266545, 152.19470352304927, 134.59970208031405, 87.00570810714729, 2094.4463262324894, 52.43866765397521, 92.96089289426482, 1802.3538593163987, 102.91636792279509, 102.97624083904765, 188.387464220056, 259.2147689412752, 705.5307430225982, 61.07372784113527, 142.44739486942424, 4278.991199616266, 638.8087200157969, 348.82406702350613, 433.74466834566874, 202.60280905176572, 519.3280646461953, 1277.476930368898, 1826.0127124073067, 935.0115381470642, 1521.5890228623273, 345.8982680293657, 1655.6507875433808, 588.604947052037, 816.8196766078504, 570.4999855173535, 269.09609195974923, 1167.5597614431178, 360.11025431682276, 393.3607295807633, 455.9789494775345, 356.02512386792074, 355.082112235118, 300.680074463857, 288.812077466797], \"Total\": [6359.0, 6496.0, 8827.0, 2352.0, 4623.0, 2748.0, 7957.0, 2445.0, 3496.0, 3893.0, 2319.0, 2964.0, 2048.0, 1224.0, 2107.0, 5567.0, 1228.0, 2077.0, 877.0, 1429.0, 4863.0, 848.0, 719.0, 1042.0, 2102.0, 983.0, 1025.0, 522.0, 2359.0, 1291.0, 311.0770494698208, 118.91691121444123, 180.03975989793423, 67.41685606251347, 103.88263868015011, 40.500583537969696, 180.58993483870216, 67.09666664799569, 157.59923593808742, 137.6882490316729, 90.55220519006954, 46.12775115178369, 80.2928211677116, 58.42102356503755, 133.31940864517856, 112.02466757422641, 356.3666993525833, 166.26568754732563, 83.24978939750667, 39.721020914422276, 78.37661328290197, 124.44960613156441, 125.1049761385197, 143.36009077046342, 59.07651653801518, 71.0262168885354, 181.2909035447199, 140.74898273338962, 1228.1120486213906, 92.69449787771048, 273.9432858819921, 301.14833829420303, 197.7310749952572, 122.73845800861798, 471.7400217787718, 388.1627310400764, 273.27740102011205, 365.4756987806661, 377.6726298755702, 624.5872948816977, 2077.75504557463, 285.20132135889185, 581.9923359434205, 303.7126383260861, 268.88065787445606, 398.19307923329194, 1429.9448765957727, 2359.143792735894, 315.7552007756087, 741.9678528817246, 875.1814811869264, 669.4854277185693, 2150.4730195691423, 2107.5569333265016, 1204.078685758725, 862.2720893700587, 651.060154776212, 747.6507330369707, 1449.0396033893385, 2902.543216245343, 457.4891572674865, 1113.9430273149155, 5567.374401305769, 2520.6357194936086, 491.0070923195674, 3893.1177226046384, 2102.7889547774776, 1055.7681969409448, 4863.879749628921, 1399.4158875633138, 4623.349309128172, 1692.2682526247881, 1169.4411040019252, 1337.0120090166972, 1750.7262634580138, 72.65208094609268, 49.11528577894506, 49.85590928736376, 45.66942416405237, 32.52649201359171, 115.51562620916123, 50.411107811978866, 159.22412426245256, 100.45921199111788, 172.25016207154698, 2352.2650110085506, 49.92263101842691, 214.6747410443865, 97.66166789622402, 75.28575194389578, 81.59545312497875, 61.870616478459304, 127.43493886662898, 348.10817486222237, 39.90128557691084, 65.32160389487647, 82.01994520330751, 63.40647811649816, 265.18180763039896, 2048.5526631815637, 111.83769629543906, 78.29231387474279, 96.90423386140596, 261.90021124142265, 244.86230955559958, 602.7386103890423, 162.8361308013836, 942.1543026888813, 330.49685615918844, 186.7134162982238, 2102.7889547774776, 3496.7891390995283, 635.9825102685478, 1120.2678761284137, 1224.6213686209846, 2150.4730195691423, 275.85393393800564, 2902.543216245343, 4863.879749628921, 722.5365951954733, 393.59027016545315, 1241.8441305559097, 1399.4158875633138, 365.5579806296086, 1750.7262634580138, 334.35136448943564, 7957.444559699231, 8827.681902967277, 895.8495491796724, 965.8517286432852, 844.5717065549684, 1377.2106005083522, 6359.768043017152, 851.6180680384147, 2520.6357194936086, 536.5367118400206, 1449.0396033893385, 5567.374401305769, 2266.0939015051767, 6496.390330271746, 4623.349309128172, 56.18227027607543, 719.2175588218872, 90.45697892558672, 371.5014202009515, 848.9328511937873, 44.529429818327344, 478.4607913395923, 108.26755556193217, 51.95743362551027, 42.504045685366236, 123.07715175301526, 60.30761375851522, 251.5027744204585, 983.6300309818353, 6496.390330271746, 262.73589177082295, 4623.349309128172, 75.50363846513451, 203.65022059245862, 55.28224838611819, 3893.1177226046384, 113.77292876852329, 212.11421800829626, 147.82992059646116, 1291.4321044043904, 65.96018757411255, 312.21170318396787, 179.27361162408795, 75.44162802710593, 126.81862541360076, 2107.5569333265016, 462.05992750529015, 8827.681902967277, 2266.0939015051767, 1169.4411040019252, 444.3812349176511, 851.6180680384147, 549.5929831327534, 830.6033264944066, 1429.9448765957727, 5567.374401305769, 580.5569600418174, 708.9964580061702, 7957.444559699231, 996.4392563877811, 485.0403878601026, 1224.6213686209846, 2077.75504557463, 977.2840619373527, 1904.5114054971866, 6359.768043017152, 1750.7262634580138, 4863.879749628921, 2902.543216245343, 2964.7717764419854, 53.745748635763306, 408.9817024129375, 258.0953111522148, 249.45093291541764, 73.04114507831038, 149.55656328218794, 162.78738980901252, 113.65207335562616, 66.24030578760006, 85.95691632181934, 92.11872181683214, 98.31670309670766, 94.29816074566848, 259.20646439786594, 95.08308251328332, 247.27970969212623, 60.46230978438382, 62.30434638428627, 118.7603027028048, 106.3465609386034, 68.95173494138784, 197.05191646419647, 91.496747159629, 112.3724028707724, 195.32633305384917, 305.8542896629783, 425.0566047937912, 100.35362567263174, 77.23506796075687, 2319.713553244058, 707.1083817590542, 334.1835031152465, 615.1083618158154, 870.7770959157618, 449.7351294588571, 322.0685275882209, 2964.7717764419854, 7957.444559699231, 986.5906376460202, 2166.8723388321905, 949.9349585278319, 1590.6333470833767, 169.5420472101638, 846.3796563696575, 289.5029149777819, 334.32144293990234, 2359.143792735894, 1207.9362627194944, 648.6240401523081, 907.8179682744031, 8827.681902967277, 1377.2106005083522, 6496.390330271746, 386.4895754883191, 4863.879749628921, 2902.543216245343, 1042.0241092370272, 808.5712693873073, 4623.349309128172, 1337.0120090166972, 1904.5114054971866, 3893.1177226046384, 6359.768043017152, 5567.374401305769, 211.0054568790427, 102.74851300761023, 522.9876492833367, 447.34137232197315, 181.13507288116625, 192.95382316673948, 263.4159184743796, 182.89781395774716, 285.4200193905607, 107.462383579042, 877.7298759035648, 186.17204068985987, 364.18708125163374, 1224.7389378409432, 69.26024572093868, 89.6003684650564, 189.19733352025497, 173.39202077953135, 114.12113021181796, 2748.1808857932456, 70.22945069213517, 125.85949602512682, 2445.98124743591, 142.73105594465196, 145.12347393583445, 266.200019496202, 369.7620717438614, 1025.849961464342, 90.17660881143453, 211.46304344682184, 6359.768043017152, 1042.0241092370272, 548.9706005512106, 711.118833534281, 321.52535718440896, 1025.8176299061133, 3496.7891390995283, 5567.374401305769, 2520.6357194936086, 4863.879749628921, 679.9962263222282, 7957.444559699231, 1692.2682526247881, 2964.7717764419854, 1904.5114054971866, 506.9610462524489, 8827.681902967277, 895.8495491796724, 1110.4356606028614, 2166.8723388321905, 1337.0120090166972, 1590.6333470833767, 1241.8441305559097, 986.5906376460202], \"Category\": [\"Default\", \"Default\", \"Default\", \"Default\", \"Default\", \"Default\", \"Default\", \"Default\", \"Default\", \"Default\", \"Default\", \"Default\", \"Default\", \"Default\", \"Default\", \"Default\", \"Default\", \"Default\", \"Default\", \"Default\", \"Default\", \"Default\", \"Default\", \"Default\", \"Default\", \"Default\", \"Default\", \"Default\", \"Default\", \"Default\", \"Topic1\", \"Topic1\", \"Topic1\", \"Topic1\", \"Topic1\", \"Topic1\", \"Topic1\", \"Topic1\", \"Topic1\", \"Topic1\", \"Topic1\", \"Topic1\", \"Topic1\", \"Topic1\", \"Topic1\", \"Topic1\", \"Topic1\", \"Topic1\", \"Topic1\", \"Topic1\", \"Topic1\", \"Topic1\", \"Topic1\", \"Topic1\", \"Topic1\", \"Topic1\", \"Topic1\", \"Topic1\", \"Topic1\", \"Topic1\", \"Topic1\", \"Topic1\", \"Topic1\", \"Topic1\", \"Topic1\", \"Topic1\", \"Topic1\", \"Topic1\", \"Topic1\", \"Topic1\", \"Topic1\", \"Topic1\", \"Topic1\", \"Topic1\", \"Topic1\", \"Topic1\", \"Topic1\", \"Topic1\", \"Topic1\", \"Topic1\", \"Topic1\", \"Topic1\", \"Topic1\", \"Topic1\", \"Topic1\", \"Topic1\", \"Topic1\", \"Topic1\", \"Topic1\", \"Topic1\", \"Topic1\", \"Topic1\", \"Topic1\", \"Topic1\", \"Topic1\", \"Topic1\", \"Topic1\", \"Topic1\", \"Topic1\", \"Topic1\", \"Topic1\", \"Topic1\", \"Topic1\", \"Topic1\", \"Topic1\", \"Topic2\", \"Topic2\", \"Topic2\", \"Topic2\", \"Topic2\", \"Topic2\", \"Topic2\", \"Topic2\", \"Topic2\", \"Topic2\", \"Topic2\", \"Topic2\", \"Topic2\", \"Topic2\", \"Topic2\", \"Topic2\", \"Topic2\", \"Topic2\", \"Topic2\", \"Topic2\", \"Topic2\", \"Topic2\", \"Topic2\", \"Topic2\", \"Topic2\", \"Topic2\", \"Topic2\", \"Topic2\", \"Topic2\", \"Topic2\", \"Topic2\", \"Topic2\", \"Topic2\", \"Topic2\", \"Topic2\", \"Topic2\", \"Topic2\", \"Topic2\", \"Topic2\", \"Topic2\", \"Topic2\", \"Topic2\", \"Topic2\", \"Topic2\", \"Topic2\", \"Topic2\", \"Topic2\", \"Topic2\", \"Topic2\", \"Topic2\", \"Topic2\", \"Topic2\", \"Topic2\", \"Topic2\", \"Topic2\", \"Topic2\", \"Topic2\", \"Topic2\", \"Topic2\", \"Topic2\", \"Topic2\", \"Topic2\", \"Topic2\", \"Topic2\", \"Topic2\", \"Topic2\", \"Topic3\", \"Topic3\", \"Topic3\", \"Topic3\", \"Topic3\", \"Topic3\", \"Topic3\", \"Topic3\", \"Topic3\", \"Topic3\", \"Topic3\", \"Topic3\", \"Topic3\", \"Topic3\", \"Topic3\", \"Topic3\", \"Topic3\", \"Topic3\", \"Topic3\", \"Topic3\", \"Topic3\", \"Topic3\", \"Topic3\", \"Topic3\", \"Topic3\", \"Topic3\", \"Topic3\", \"Topic3\", \"Topic3\", \"Topic3\", \"Topic3\", \"Topic3\", \"Topic3\", \"Topic3\", \"Topic3\", \"Topic3\", \"Topic3\", \"Topic3\", \"Topic3\", \"Topic3\", \"Topic3\", \"Topic3\", \"Topic3\", \"Topic3\", \"Topic3\", \"Topic3\", \"Topic3\", \"Topic3\", \"Topic3\", \"Topic3\", \"Topic3\", \"Topic3\", \"Topic3\", \"Topic3\", \"Topic3\", \"Topic4\", \"Topic4\", \"Topic4\", \"Topic4\", \"Topic4\", \"Topic4\", \"Topic4\", \"Topic4\", \"Topic4\", \"Topic4\", \"Topic4\", \"Topic4\", \"Topic4\", \"Topic4\", \"Topic4\", \"Topic4\", \"Topic4\", \"Topic4\", \"Topic4\", \"Topic4\", \"Topic4\", \"Topic4\", \"Topic4\", \"Topic4\", \"Topic4\", \"Topic4\", \"Topic4\", \"Topic4\", \"Topic4\", \"Topic4\", \"Topic4\", \"Topic4\", \"Topic4\", \"Topic4\", \"Topic4\", \"Topic4\", \"Topic4\", \"Topic4\", \"Topic4\", \"Topic4\", \"Topic4\", \"Topic4\", \"Topic4\", \"Topic4\", \"Topic4\", \"Topic4\", \"Topic4\", \"Topic4\", \"Topic4\", \"Topic4\", \"Topic4\", \"Topic4\", \"Topic4\", \"Topic4\", \"Topic4\", \"Topic4\", \"Topic4\", \"Topic4\", \"Topic4\", \"Topic4\", \"Topic4\", \"Topic4\", \"Topic4\", \"Topic4\", \"Topic5\", \"Topic5\", \"Topic5\", \"Topic5\", \"Topic5\", \"Topic5\", \"Topic5\", \"Topic5\", \"Topic5\", \"Topic5\", \"Topic5\", \"Topic5\", \"Topic5\", \"Topic5\", \"Topic5\", \"Topic5\", \"Topic5\", \"Topic5\", \"Topic5\", \"Topic5\", \"Topic5\", \"Topic5\", \"Topic5\", \"Topic5\", \"Topic5\", \"Topic5\", \"Topic5\", \"Topic5\", \"Topic5\", \"Topic5\", \"Topic5\", \"Topic5\", \"Topic5\", \"Topic5\", \"Topic5\", \"Topic5\", \"Topic5\", \"Topic5\", \"Topic5\", \"Topic5\", \"Topic5\", \"Topic5\", \"Topic5\", \"Topic5\", \"Topic5\", \"Topic5\", \"Topic5\", \"Topic5\", \"Topic5\", \"Topic5\", \"Topic5\", \"Topic5\", \"Topic5\", \"Topic5\"], \"logprob\": [30.0, 29.0, 28.0, 27.0, 26.0, 25.0, 24.0, 23.0, 22.0, 21.0, 20.0, 19.0, 18.0, 17.0, 16.0, 15.0, 14.0, 13.0, 12.0, 11.0, 10.0, 9.0, 8.0, 7.0, 6.0, 5.0, 4.0, 3.0, 2.0, 1.0, -5.422299861907959, -6.390500068664551, -5.980500221252441, -6.963099956512451, -6.53410005569458, -7.476600170135498, -5.9822998046875, -6.975599765777588, -6.122600078582764, -6.259300231933594, -6.678699970245361, -7.3572998046875, -6.803299903869629, -7.122200012207031, -6.300099849700928, -6.4741997718811035, -5.317500114440918, -6.081299781799316, -6.773900032043457, -7.5142998695373535, -6.839700222015381, -6.379499912261963, -6.376200199127197, -6.240200042724609, -7.128900051116943, -6.948500156402588, -6.0131001472473145, -6.27370023727417, -4.107500076293945, -6.691999912261963, -5.62060022354126, -5.537499904632568, -5.952300071716309, -6.417099952697754, -5.137199878692627, -5.323999881744385, -5.662899971008301, -5.396299839019775, -5.371799945831299, -4.933700084686279, -3.860599994659424, -5.657700061798096, -5.030099868774414, -5.631100177764893, -5.74370002746582, -5.438899993896484, -4.411099910736084, -4.0584001541137695, -5.648600101470947, -5.013199806213379, -4.912300109863281, -5.1097002029418945, -4.282199859619141, -4.3190999031066895, -4.724899768829346, -4.968699932098389, -5.167399883270264, -5.0920000076293945, -4.68120002746582, -4.258800029754639, -5.414299964904785, -4.934299945831299, -4.154099941253662, -4.565100193023682, -5.382500171661377, -4.540800094604492, -4.842299938201904, -5.113900184631348, -4.617099761962891, -5.027100086212158, -4.680500030517578, -4.979400157928467, -5.110799789428711, -5.155200004577637, -5.151899814605713, -6.611400127410889, -7.00439977645874, -6.992199897766113, -7.089300155639648, -7.451600074768066, -6.190999984741211, -7.026299953460693, -5.8979997634887695, -6.365699768066406, -5.843299865722656, -3.242799997329712, -7.10230016708374, -5.665800094604492, -6.453499794006348, -6.7220001220703125, -6.651800155639648, -6.957099914550781, -6.256800174713135, -5.265999794006348, -7.444399833679199, -6.9527997970581055, -6.734899997711182, -7.001699924468994, -5.573999881744385, -3.5404999256134033, -6.470600128173828, -6.837600231170654, -6.625400066375732, -5.633399963378906, -5.709000110626221, -4.809899806976318, -6.124599933624268, -4.446100234985352, -5.468999862670898, -6.002699851989746, -3.81030011177063, -3.4244000911712646, -4.925000190734863, -4.455900192260742, -4.512199878692627, -4.131899833679199, -5.730299949645996, -3.9456000328063965, -3.561300039291382, -5.001399993896484, -5.462399959564209, -4.635000228881836, -4.559800148010254, -5.53410005569458, -4.48960018157959, -5.619999885559082, -3.6298999786376953, -3.5927000045776367, -5.031000137329102, -4.9882001876831055, -5.105800151824951, -4.859300136566162, -4.220699787139893, -5.130099773406982, -4.6992998123168945, -5.339799880981445, -4.9653000831604, -4.472799777984619, -4.886300086975098, -4.576000213623047, -4.9781999588012695, -6.9028000831604, -4.377099990844727, -6.4882001876831055, -5.134399890899658, -4.310800075531006, -7.277500152587891, -4.914700031280518, -6.440899848937988, -7.19320011138916, -7.398799896240234, -6.356200218200684, -7.07889986038208, -5.652100086212158, -4.308499813079834, -2.421600103378296, -5.67609977722168, -2.8317999839782715, -6.958399772644043, -5.999899864196777, -7.311600208282471, -3.0689001083374023, -6.612100124359131, -6.015900135040283, -6.379499912261963, -4.234099864959717, -7.211999893188477, -5.672999858856201, -6.230100154876709, -7.130799770355225, -6.621200084686279, -3.8292999267578125, -5.340199947357178, -2.451200008392334, -3.8187999725341797, -4.4857001304626465, -5.393400192260742, -4.870800018310547, -5.269400119781494, -4.930600166320801, -4.5233001708984375, -3.4398999214172363, -5.289899826049805, -5.254700183868408, -3.786799907684326, -5.085299968719482, -5.544300079345703, -5.025300025939941, -4.745100021362305, -5.185800075531006, -4.87470006942749, -4.3225998878479, -5.011300086975098, -4.73199987411499, -5.004799842834473, -5.021599769592285, -6.920300006866455, -4.896100044250488, -5.365900039672852, -5.410900115966797, -6.647500038146973, -5.961599826812744, -5.884699821472168, -6.246399879455566, -6.811200141906738, -6.585700035095215, -6.51639986038208, -6.451499938964844, -6.501999855041504, -5.503600120544434, -6.508399963378906, -5.554999828338623, -6.969299793243408, -6.9421000480651855, -6.314499855041504, -6.429800033569336, -6.870699882507324, -5.827600002288818, -6.597499847412109, -6.3927001953125, -5.8420000076293945, -5.399799823760986, -5.071300029754639, -6.518099784851074, -6.780700206756592, -3.382200002670288, -4.620500087738037, -5.359300136566162, -4.789299964904785, -4.46120023727417, -5.097099781036377, -5.430600166320801, -3.428800106048584, -2.6691999435424805, -4.5096001625061035, -3.8828999996185303, -4.5854997634887695, -4.2459001541137695, -6.032899856567383, -4.792399883270264, -5.660799980163574, -5.566199779510498, -4.182400226593018, -4.681399822235107, -5.114299774169922, -4.934700012207031, -3.5111000537872314, -4.703000068664551, -4.07889986038208, -5.491300106048584, -4.281400203704834, -4.5524001121521, -5.0655999183654785, -5.184599876403809, -4.722300052642822, -5.054699897766113, -5.0457000732421875, -4.918099880218506, -4.83650016784668, -4.873300075531006, -5.3933000564575195, -6.142099857330322, -4.519899845123291, -4.6778998374938965, -5.5854997634887695, -5.523900032043457, -5.23799991607666, -5.6230998039245605, -5.210999965667725, -6.190000057220459, -4.102099895477295, -5.6554999351501465, -4.986000061035156, -3.7844998836517334, -6.662399768829346, -6.408699989318848, -5.697199821472168, -5.820099830627441, -6.256400108337402, -3.0754001140594482, -6.762800216674805, -6.190199851989746, -3.225600004196167, -6.088500022888184, -6.087900161743164, -5.48390007019043, -5.16480016708374, -4.16349983215332, -6.610300064086914, -5.763400077819824, -2.3608999252319336, -4.262800216674805, -4.867800235748291, -4.650000095367432, -5.411200046539307, -4.469900131225586, -3.5697999000549316, -3.2125000953674316, -3.8819000720977783, -3.39490008354187, -4.876299858093262, -3.310499906539917, -4.344699859619141, -4.017000198364258, -4.375899791717529, -5.127299785614014, -3.6596999168395996, -4.835999965667725, -4.747700214385986, -4.599999904632568, -4.847400188446045, -4.850100040435791, -5.01639986038208, -5.056600093841553], \"loglift\": [30.0, 29.0, 28.0, 27.0, 26.0, 25.0, 24.0, 23.0, 22.0, 21.0, 20.0, 19.0, 18.0, 17.0, 16.0, 15.0, 14.0, 13.0, 12.0, 11.0, 10.0, 9.0, 8.0, 7.0, 6.0, 5.0, 4.0, 3.0, 2.0, 1.0, 1.3456, 1.339, 1.3342, 1.3339, 1.3306, 1.33, 1.3293, 1.3261, 1.3253, 1.3236, 1.3233, 1.3192, 1.3189, 1.3181, 1.3151, 1.315, 1.3144, 1.3131, 1.3122, 1.3118, 1.3067, 1.3046, 1.3025, 1.3024, 1.3002, 1.2963, 1.2947, 1.2872, 1.2872, 1.2866, 1.2744, 1.2628, 1.2687, 1.2808, 1.2143, 1.2225, 1.2345, 1.2104, 1.202, 1.1371, 1.0082, 1.197, 1.1114, 1.1607, 1.1699, 1.082, 0.8315, 0.6835, 1.1044, 0.8854, 0.8211, 0.8917, 0.5523, 0.5355, 0.6895, 0.7796, 0.8619, 0.799, 0.548, 0.2757, 0.9678, 0.558, -0.2709, 0.1105, 0.929, -0.2998, 0.0146, 0.432, -0.5988, 0.237, -0.6115, 0.0947, 0.3329, 0.1545, -0.1117, 1.6109, 1.6093, 1.6066, 1.5971, 1.5743, 1.5675, 1.5614, 1.5396, 1.5325, 1.5157, 1.502, 1.4951, 1.473, 1.4729, 1.4646, 1.4544, 1.4258, 1.4035, 1.3894, 1.3771, 1.3758, 1.3661, 1.3567, 1.3534, 1.3425, 1.3202, 1.3098, 1.3088, 1.3065, 1.2982, 1.2966, 1.2905, 1.2136, 1.2383, 1.2756, 1.0466, 0.9239, 1.1277, 1.0306, 0.8853, 0.7026, 1.1577, 0.5889, 0.457, 0.9237, 1.0702, 0.7486, 0.7043, 1.0724, 0.5505, 1.0757, -0.1038, -0.1705, 0.6792, 0.6467, 0.6633, 0.4208, -0.4706, 0.6306, -0.0237, 0.8829, 0.2639, -0.5895, -0.1042, -0.8471, -0.9091, 1.5765, 1.5527, 1.5148, 1.456, 1.4531, 1.4343, 1.4226, 1.3824, 1.3643, 1.3595, 1.3389, 1.3295, 1.3284, 1.3082, 1.3073, 1.2606, 1.2372, 1.2254, 1.1916, 1.1839, 1.172, 1.1616, 1.1349, 1.1323, 1.1103, 1.1069, 1.0912, 1.0889, 1.0537, 1.0439, 1.0253, 1.032, 0.971, 0.9633, 0.9579, 1.0179, 0.8899, 0.9293, 0.8552, 0.7192, 0.4433, 0.854, 0.6893, -0.2608, 0.5185, 0.7794, 0.3722, 0.1238, 0.4373, 0.0812, -0.5725, 0.0288, -0.7136, -0.4702, -0.5083, 1.6033, 1.5982, 1.5887, 1.5777, 1.5694, 1.5386, 1.5308, 1.5284, 1.5035, 1.4684, 1.4684, 1.4682, 1.4595, 1.4466, 1.4448, 1.4424, 1.4366, 1.4338, 1.4163, 1.4114, 1.4038, 1.3968, 1.3941, 1.3934, 1.3912, 1.385, 1.3844, 1.3811, 1.3804, 1.3765, 1.3263, 1.3369, 1.2968, 1.2774, 1.3022, 1.3025, 1.0846, 0.8569, 1.1041, 0.9439, 1.066, 0.8901, 1.3419, 0.9746, 1.1789, 1.1296, 0.5594, 0.7299, 0.9187, 0.7621, -0.0889, 0.5771, -0.35, 1.0595, -0.2631, -0.0179, 0.4934, 0.6281, -0.6533, 0.2551, -0.0898, -0.6771, -1.0864, -0.9901, 1.7627, 1.7335, 1.7285, 1.7267, 1.7232, 1.7216, 1.6962, 1.6759, 1.643, 1.6408, 1.6284, 1.6257, 1.6242, 1.6129, 1.6076, 1.6039, 1.5679, 1.5322, 1.5142, 1.5138, 1.4934, 1.4825, 1.4801, 1.4585, 1.4424, 1.4398, 1.4303, 1.4112, 1.3958, 1.3904, 1.3892, 1.2962, 1.332, 1.2911, 1.3237, 1.1048, 0.7785, 0.6707, 0.7938, 0.6234, 1.1096, 0.2156, 0.7294, 0.4964, 0.58, 1.1521, -0.2375, 0.8741, 0.7477, 0.2269, 0.4623, 0.286, 0.3672, 0.557]}, \"token.table\": {\"Topic\": [1, 2, 3, 4, 5, 1, 2, 3, 4, 5, 1, 2, 3, 4, 5, 1, 2, 3, 4, 5, 1, 2, 3, 4, 5, 1, 2, 3, 4, 5, 1, 2, 3, 4, 1, 2, 3, 4, 5, 1, 3, 1, 2, 3, 1, 3, 1, 2, 3, 4, 2, 3, 4, 1, 2, 3, 4, 5, 1, 2, 3, 4, 5, 1, 2, 3, 4, 5, 1, 2, 3, 5, 1, 3, 1, 2, 3, 4, 5, 2, 3, 4, 1, 2, 3, 4, 5, 1, 2, 3, 4, 5, 1, 2, 3, 5, 1, 2, 3, 4, 5, 1, 2, 3, 4, 5, 1, 2, 3, 4, 5, 1, 2, 3, 1, 2, 3, 4, 5, 1, 2, 3, 4, 1, 2, 3, 4, 2, 3, 5, 1, 3, 5, 1, 2, 3, 4, 5, 1, 2, 3, 4, 5, 1, 2, 3, 4, 5, 1, 2, 3, 4, 2, 3, 4, 5, 1, 2, 3, 4, 5, 1, 2, 3, 4, 5, 1, 3, 1, 2, 3, 4, 5, 1, 2, 3, 4, 1, 2, 4, 5, 1, 2, 4, 1, 3, 4, 1, 3, 1, 2, 3, 4, 5, 1, 2, 3, 4, 5, 2, 3, 1, 2, 3, 4, 5, 1, 2, 3, 4, 5, 1, 2, 3, 4, 1, 2, 3, 4, 5, 1, 2, 3, 4, 5, 1, 2, 3, 4, 5, 1, 2, 3, 4, 5, 1, 2, 3, 4, 5, 1, 2, 3, 4, 1, 2, 3, 4, 5, 1, 4, 5, 1, 2, 3, 4, 1, 2, 3, 4, 5, 1, 2, 3, 1, 3, 4, 1, 2, 3, 4, 5, 1, 2, 3, 4, 5, 1, 2, 3, 4, 5, 1, 2, 3, 4, 5, 1, 2, 3, 4, 5, 1, 2, 3, 4, 5, 1, 2, 3, 4, 5, 2, 3, 1, 2, 3, 4, 1, 2, 3, 4, 5, 1, 2, 3, 4, 5, 1, 2, 3, 4, 1, 2, 3, 1, 2, 3, 4, 5, 1, 2, 3, 4, 1, 2, 3, 4, 5, 1, 2, 3, 4, 5, 1, 3, 1, 2, 3, 4, 5, 1, 2, 3, 4, 1, 2, 3, 4, 5, 1, 2, 3, 4, 5, 1, 2, 3, 4, 5, 1, 2, 3, 4, 5, 1, 2, 3, 1, 2, 3, 4, 5, 1, 2, 3, 4, 5, 1, 2, 3, 4, 1, 2, 3, 4, 5, 1, 2, 3, 4, 1, 2, 3, 1, 2, 3, 4, 5, 1, 3, 1, 2, 3, 4, 5, 1, 2, 3, 4, 5, 1, 2, 3, 4, 5, 1, 2, 3, 4, 5, 1, 2, 3, 4, 5, 1, 2, 3, 4, 5, 1, 2, 3, 4, 5, 1, 2, 3, 4, 5, 1, 2, 3, 4, 5, 1, 2, 3, 4, 5, 1, 3, 4, 1, 2, 3, 4, 5, 1, 2, 3, 4, 5, 1, 2, 3, 4, 5, 1, 4, 5, 1, 2, 3, 4, 5, 1, 2, 3, 4, 5, 1, 2, 3, 4, 5, 1, 2, 3, 4, 5, 1, 2, 3, 4, 5, 1, 2, 3, 4, 5, 1, 2, 3, 4, 5, 1, 2, 3, 5, 1, 2, 3, 4, 5, 1, 2, 3, 5, 1, 2, 3, 4, 5, 1, 2, 3, 4, 5, 1, 3, 1, 2, 3, 4, 5, 1, 2, 3, 4, 1, 2, 3, 4, 5, 1, 2, 3, 1, 2, 3, 4, 5, 1, 2, 3, 4, 5, 1, 2, 3, 4, 5, 1, 2, 3, 4, 5, 1, 2, 3, 4, 2, 3, 4, 5, 1, 3, 1, 2, 3, 4, 5, 1, 2, 3, 4, 5, 1, 2, 3, 4, 1, 2, 3, 4, 5, 1, 2, 3, 4, 5, 1, 2, 3, 1, 2, 3, 4, 5, 1, 2, 3, 4, 5, 1, 2, 3, 4, 5, 1, 2, 3, 4, 5, 1, 2, 3, 4, 5, 1, 2, 3, 4, 5, 1, 2, 3, 4, 2, 3, 4, 5, 1, 2, 3, 4, 5, 1, 2, 3, 4, 5, 1, 3, 1, 2, 3, 4, 5, 1, 2, 3, 4, 1, 2, 3, 4, 5, 1, 2, 3, 4, 5, 1, 2, 3, 4, 5, 1, 2, 3, 4, 5, 1, 2, 3, 4, 5, 1, 2, 3, 4, 5, 1, 2, 3, 4, 5, 1, 2, 3, 4, 5, 2, 3, 4, 5, 1, 2, 3, 4, 5, 1, 2, 3, 4, 5, 1, 2, 3, 4, 5, 1, 2, 3, 4, 5, 1, 2, 3, 4, 5, 1, 2, 3, 4, 5, 1, 2, 3, 4, 5, 1, 2, 3, 4, 5, 1, 2, 3, 4, 5, 1, 2, 3, 4, 5, 1, 2, 3, 4, 5, 1, 2, 3, 4, 5, 1, 2, 3, 1, 2, 3, 4, 1, 2, 3, 1, 2, 1, 2, 3, 4, 5, 1, 2, 3, 4, 5, 1, 2, 3, 5, 1, 2, 3, 4, 5, 1, 2, 3, 1, 2, 3, 2, 3, 5, 1, 2, 3, 4, 5, 1, 2, 3, 4, 1, 2, 4, 5, 1, 2, 3, 4, 5, 1, 2, 3, 4, 1, 2, 3, 4, 5, 1, 2, 3, 4, 5, 1, 2, 3, 4, 5, 1, 2, 3, 4, 5, 1, 2, 3, 4, 5, 1, 4, 5, 1, 2, 3, 4, 5, 1, 2, 3, 1, 2, 3, 4, 5, 1, 2, 3, 1, 2, 3, 4, 5, 1, 2, 3, 4, 5, 1, 2, 3, 4, 5, 1, 2, 3, 4, 1, 2, 3, 4, 5, 1, 2, 3, 4, 5, 1, 2, 3, 4, 3, 4, 5, 1, 2, 3, 4, 5, 1, 2, 3, 4, 5, 1, 2, 3, 4, 5, 1, 2, 3, 4, 5, 1, 2, 3, 4, 5, 1, 2, 3, 5, 1, 2, 3, 1, 2, 3, 4, 5, 1, 2, 4, 5, 1, 2, 4, 1, 2, 3, 4, 5, 1, 2, 3, 4, 5, 1, 2, 3, 4, 1, 2, 3, 4, 5, 1, 2, 3, 4, 5, 1, 2, 3, 4, 1, 2, 3, 4, 5, 1, 2, 3, 4, 5, 2, 4, 1, 2, 3, 4, 5, 1, 2, 3, 4, 1, 2, 3, 4, 5, 1, 2, 3, 1, 2, 3, 4, 1, 2, 3, 4, 1, 2, 3, 4, 5, 1, 2, 3, 4, 5, 1, 2, 3, 4, 5, 1, 2, 3, 4, 5, 1, 2, 3, 4, 1, 2, 3, 4, 5, 1, 2, 3, 4, 5, 1, 2, 3, 4, 1, 2, 3, 4, 5, 1, 2, 3, 4, 5, 1, 2, 3, 4, 5, 1, 2, 3, 4, 5, 2, 3, 1, 2, 3, 4, 5, 1, 2, 3, 4, 5, 1, 2, 3, 4, 5, 1, 2, 3, 4, 5, 1, 2, 3, 4, 5, 1, 2, 3, 4, 5, 1, 2, 3, 4, 5, 1, 2, 3, 4, 5], \"Freq\": [0.2836761540417602, 0.005848992866840417, 0.05556543223498397, 0.14817448595995725, 0.5059378829816961, 0.3023404666860584, 0.012656112558951283, 0.014062347287723648, 0.06046809333721168, 0.6103058722872063, 0.3323547855880393, 0.03529431351377409, 0.06911803063114093, 0.05441206666706838, 0.5088263531569097, 0.21895173370919285, 0.1637206657465136, 0.02761553398133964, 0.0591761442457278, 0.530612760070026, 0.28298366869864455, 0.3765222035404559, 0.04499321929099787, 0.09117047066860096, 0.20483755098270084, 0.17915778402256108, 0.020672052002603202, 0.03445342000433867, 0.055125472006941865, 0.7097404520893765, 0.8485234179384178, 0.0035062951154480075, 0.1437580997333683, 0.0035062951154480075, 0.12660176266515608, 0.7106034420560374, 0.1143499791814313, 0.04492320610699087, 0.004083927827908261, 0.9629490884603457, 0.024691002268213993, 0.9153846961300418, 0.005057374011768186, 0.08091798418829098, 0.9589898434277989, 0.02490882710202075, 0.026488789688241907, 0.29137668657066096, 0.6489753473619266, 0.03973318453236286, 0.3458400789626833, 0.5689627105515113, 0.08367098684581048, 0.047713191346106514, 0.21470936105747931, 0.7236500687492822, 0.00795219855768442, 0.00795219855768442, 0.03645768576244271, 0.030761172362061037, 0.06721885812450375, 0.010253724120687011, 0.854477010057251, 0.956879530605693, 0.0028060983302219734, 0.03647927829288566, 0.0028060983302219734, 0.0028060983302219734, 0.0497714435630062, 0.8958859841341117, 0.0497714435630062, 0.00995428871260124, 0.9754710143019002, 0.008409232881912932, 0.32513565412799017, 0.3915919526640409, 0.037158360471770305, 0.190793889345436, 0.055022956852429104, 0.2321723141397391, 0.6736803213562922, 0.09134648425170064, 0.18284549768101183, 0.005898241860677801, 0.07077890232813361, 0.7313819907240473, 0.005898241860677801, 0.10462498346928822, 0.0915468605356272, 0.039234368800983084, 0.7618006608857549, 0.003269530733415257, 0.188217377216737, 0.023527172152092126, 0.752869508866948, 0.023527172152092126, 0.22145839335171413, 0.7140124061512162, 0.019091240806182252, 0.022909488967418703, 0.019091240806182252, 0.44594839892115473, 0.3910767502530669, 0.032085964051678496, 0.046036383204582185, 0.08509755683271253, 0.10514408979358277, 0.040440034535993374, 0.04448403798959271, 0.8047566872662681, 0.004044003453599337, 0.9789836526758283, 0.01483308564660346, 0.01483308564660346, 0.008798783607501135, 0.07918905246751022, 0.01759756721500227, 0.8798783607501135, 0.008798783607501135, 0.11188332860572049, 0.010171211691429136, 0.04068484676571654, 0.8238681470057599, 0.08483728565583369, 0.07423262494885448, 0.021209321413958423, 0.8165588744373993, 0.9223251000281256, 0.030744170000937522, 0.030744170000937522, 0.948951349567811, 0.036036127198777634, 0.012012042399592544, 0.052554127184310864, 0.03153247631058652, 0.02802886783163246, 0.017518042394770287, 0.8688949027806063, 0.015564716966679335, 0.25125900246210925, 0.0066705929857197145, 0.7004122635005701, 0.024458840947638952, 0.03086342780294435, 0.05786892713052065, 0.03086342780294435, 0.8101649798272891, 0.06944271255662478, 0.19901532149947193, 0.7654435442287382, 0.015308870884574765, 0.015308870884574765, 0.020478549601897492, 0.01535891220142312, 0.767945610071156, 0.19454622121802617, 0.05138439405207987, 0.010817767168858919, 0.013522208961073649, 0.22446866875382257, 0.700450424183615, 0.08635491632931792, 0.21761438914988118, 0.017270983265863585, 0.6183012009179164, 0.05872134310393619, 0.9687515527560366, 0.014903870042400564, 0.017243508339234843, 0.06811185793997762, 0.06724968252301589, 0.755265665258486, 0.09182168190642553, 0.9525994848807252, 0.007500783345517521, 0.022502350036552564, 0.007500783345517521, 0.06308503671581805, 0.7570204405898167, 0.17348385096849964, 0.015771259178954514, 0.1616276120908149, 0.8081380604540744, 0.01616276120908149, 0.022457058266405688, 0.8084540975906047, 0.1796564661312455, 0.9538726450205146, 0.02167892375046624, 0.4384223198856068, 0.01565793999591453, 0.5333189259214525, 0.010913109694122248, 0.0014234490905376844, 0.10241173547953643, 0.014630247925648062, 0.7942134588208948, 0.043890743776944185, 0.043890743776944185, 0.9772924913037325, 0.020360260235494428, 0.213137993319684, 0.4871725561592777, 0.1660815532361174, 0.0830407766180587, 0.0484404530272009, 0.01093506782132474, 0.054675339106623706, 0.016402601731987113, 0.02187013564264948, 0.8966755613486287, 0.07856608234183517, 0.1816840654154938, 0.6285286587346813, 0.10311798307365866, 0.07468687661774774, 0.7414991214533256, 0.03661121402830772, 0.13961076282794677, 0.00781039232603898, 0.7584260394015169, 0.010045378005318104, 0.20844159361035067, 0.02009075601063621, 0.002511344501329526, 0.00876261914111716, 0.05257571484670297, 0.10515142969340593, 0.07010095312893729, 0.762347865277193, 0.5895332147396514, 0.013986553137358278, 0.3923228155028997, 0.0020979829706037414, 0.0020979829706037414, 0.06356294322363142, 0.12712588644726283, 0.03178147161181571, 0.047672207417723565, 0.7389192149747152, 0.015096548666404197, 0.09057929199842518, 0.030193097332808394, 0.8605032739850392, 0.04435740102363213, 0.04435740102363213, 0.04435740102363213, 0.18851895435043653, 0.67645036561039, 0.08143614614782449, 0.8259951966422199, 0.08143614614782449, 0.9065299896600995, 0.07305369880044757, 0.013282490690990467, 0.003320622672747617, 0.19578349171996623, 0.10741149362251358, 0.2979860667554348, 0.07076944563088687, 0.3279822531015214, 0.9644716809395759, 0.02538083370893621, 0.006345208427234053, 0.9607717428569139, 0.022086706732342847, 0.011043353366171424, 0.0658320946274032, 0.09575577400349557, 0.09276340606588633, 0.7271454088390444, 0.020946575563264656, 0.13952691676183643, 0.7504285523136609, 0.022625986501919423, 0.03770997750319904, 0.05279396850447866, 0.7759175443450863, 0.1646845400242632, 0.05067216616131175, 0.006334020770163969, 0.0031670103850819846, 0.9298825797547909, 0.021984964670209595, 0.019542190817964083, 0.024427738522455104, 0.004885547704491021, 0.9198984351401672, 0.05840624985016935, 0.007300781231271169, 0.010951171846906752, 0.0036503906156355845, 0.37442662469531335, 0.07705242437459825, 0.4502751049390585, 0.08427608915971684, 0.013243385439384074, 0.027366973666424915, 0.06588345512287479, 0.03953007307372487, 0.5747064469949232, 0.29292797739247406, 0.9634454737582082, 0.021896488039959278, 0.09984966387730203, 0.6686901732389015, 0.13010713777951474, 0.09984966387730203, 0.4488559897046227, 0.09156662189974303, 0.11221399742615568, 0.20378061932589872, 0.14453162868488853, 0.06127792430224711, 0.8333797705105607, 0.08578909402314595, 0.012255584860449422, 0.012255584860449422, 0.004008804410200679, 0.016035217640802717, 0.05612326174280951, 0.9220250143461562, 0.09297908062625873, 0.8368117256363286, 0.053130903215004986, 0.03515774836154741, 0.3339986094347004, 0.6152605963270797, 0.008789437090386853, 0.008789437090386853, 0.20726665883354506, 0.7559136969223409, 0.012192156401973239, 0.024384312803946477, 0.0028790120817805335, 0.039346498451000626, 0.032628803593512716, 0.31189297552622447, 0.6132295734192537, 0.5711222916421393, 0.08560146759975859, 0.12706467846839165, 0.08827651346225104, 0.12706467846839165, 0.9659502603552286, 0.02905113564978131, 0.011123198956800197, 0.043102395957600764, 0.903759915240016, 0.04171199608800074, 0.0013903998696000246, 0.03559841904166833, 0.017799209520834164, 0.9255588950833765, 0.017799209520834164, 0.162499698076658, 0.008124984903832901, 0.731248641344961, 0.0731248641344961, 0.0243749547114987, 0.44374218516595926, 0.251890976027333, 0.037956174469872095, 0.18840064782318333, 0.07798268572900995, 0.8818877781345097, 0.06220785156965421, 0.03659285386450248, 0.010977856159350742, 0.007318570772900495, 0.09761395929989278, 0.15962753344335406, 0.04708438036818357, 0.6832977150992494, 0.01148399521175209, 0.9722510063589583, 0.00962624758771246, 0.00962624758771246, 0.01866104761547232, 0.11507646029541263, 0.040432269833523354, 0.19594099996245934, 0.6313654443234801, 0.019220890471848932, 0.016475048975870512, 0.02471257346380577, 0.08786692787130941, 0.8512108637533099, 0.0229813620526617, 0.778493639533915, 0.017236021539496275, 0.18097822616471088, 0.009437229037063974, 0.48787614355245873, 0.06806243972185531, 0.06920634627180247, 0.3651921660706271, 0.03462734983366927, 0.9262816080506528, 0.008656837458417317, 0.03462734983366927, 0.020030995554518965, 0.8613328088443154, 0.10015497777259481, 0.06473743251628263, 0.012947486503256526, 0.12947486503256525, 0.763901703692135, 0.025894973006513052, 0.9481749574623316, 0.04017690497721744, 0.055812943195411434, 0.3817605314566142, 0.01786014182253166, 0.14176487571634505, 0.4018531910069623, 0.007885277077705609, 0.11039387908787852, 0.544084118361687, 0.023655831233116827, 0.31541108310822435, 0.3806689355409354, 0.07234432259148998, 0.4495682903899735, 0.09473661291742735, 0.003444967742451904, 0.05224958799319852, 0.8824374861073527, 0.029027548885110287, 0.017416529331066175, 0.02322203910808823, 0.3582908096578331, 0.06840874647404928, 0.49852873992963415, 0.06755363714312367, 0.0068408746474049285, 0.04109823559828609, 0.36401294387053396, 0.4661714152148451, 0.11390082437239288, 0.015265058936506263, 0.06802121480481998, 0.34752657018462574, 0.16572441425174325, 0.3574205650653268, 0.06060071864429417, 0.5601480158691677, 0.22382726099948108, 0.05102797660091797, 0.08813923231067648, 0.07654196490137695, 0.33112587976642555, 0.07141930740060158, 0.5367269162227029, 0.034627542982109856, 0.023806435800200528, 0.2999225117618163, 0.05609523287315766, 0.13163681314234332, 0.24607108820358495, 0.2662653720379217, 0.9479231898171337, 0.03385439963632621, 0.016927199818163104, 0.03414032600371009, 0.12192973572753604, 0.1089238972499322, 0.6974380883615062, 0.03739178562311105, 0.002352627835262394, 0.004705255670524788, 0.004705255670524788, 0.7622514186250157, 0.2282049000204522, 0.1569081823173943, 0.06368626223470711, 0.07891558581257185, 0.49010732241491994, 0.21044156216685828, 0.08684445292138457, 0.8250223027531534, 0.0759888963062115, 0.16907223504704585, 0.14964468008822382, 0.2074022759117488, 0.17432292557645723, 0.29928936017644764, 0.002449501609941963, 0.013880509123004457, 0.13390608801016063, 0.00898150590312053, 0.8418120532833879, 0.028478081207945077, 0.028478081207945077, 0.17086848724767045, 0.014239040603972538, 0.740430111406572, 0.5838788993877918, 0.047990046525023984, 0.14397013957507196, 0.1393996589536411, 0.08455389149647083, 0.05864795380668923, 0.08296915249817716, 0.7070080100633167, 0.1343823193523352, 0.01693248010166881, 0.06142981966682018, 0.02457192786672807, 0.02457192786672807, 0.8784464212355285, 0.012285963933364036, 0.005371375832238307, 0.005371375832238307, 0.02148550332895323, 0.11817026830924275, 0.8540487573258908, 0.029197502836637648, 0.009732500945545883, 0.009732500945545883, 0.9537850926634965, 0.008941717103512185, 0.015648004931146323, 0.011177146379390232, 0.020118863482902417, 0.9433511544205356, 0.0055207419750014424, 0.02208296790000577, 0.027603709875007213, 0.9385261357502452, 0.0325055477376866, 0.0038241820867866588, 0.0076483641735733176, 0.013384637303753307, 0.9445729754363048, 0.02492160483558551, 0.16334979169506503, 0.5051156180085263, 0.17445123384909858, 0.13231106567256307, 0.941684671615834, 0.04882809408378399, 0.14338043958124339, 0.15417251567875634, 0.1387552641108807, 0.4779347986041446, 0.08633660878010355, 0.0444949104252044, 0.0889898208504088, 0.0889898208504088, 0.7653124593135157, 0.6082387273970352, 0.06451016805726131, 0.16281137652546904, 0.09215738293894474, 0.07218994996884004, 0.9868937632114955, 0.006429275330368049, 0.006429275330368049, 0.014840939983854096, 0.03069376223933461, 0.11501728487486924, 0.5639557193864557, 0.2755692719729272, 0.28246112828660547, 0.17254947585708955, 0.10991165242951595, 0.08745658365359334, 0.3480535660268005, 0.31732312286059416, 0.5662576416564051, 0.046504250764052596, 0.03829761827627861, 0.03282652995109595, 0.7800790009786942, 0.0034364713699501946, 0.20618828219701169, 0.0051547070549252914, 0.0051547070549252914, 0.9551467754108968, 0.017853210755343865, 0.017853210755343865, 0.008926605377671933, 0.055803341946634624, 0.011160668389326923, 0.08928534711461539, 0.8370501291995193, 0.9307349684234919, 0.06394362378482006, 0.04736137048849958, 0.08197160276855697, 0.016394320553711393, 0.21676934954351731, 0.6357353192494751, 0.018915834818228696, 0.004728958704557174, 0.014186876113671521, 0.2884664809779876, 0.6715121360471187, 0.9585590354756053, 0.01711712563349295, 0.01711712563349295, 0.01711712563349295, 0.2531439587620707, 0.012199708856003405, 0.7075831136481975, 0.02033284809333901, 0.007116496832668654, 0.23032320648612253, 0.6516979206565863, 0.019105150768434127, 0.08915737025269259, 0.01061397264913007, 0.039673795851888675, 0.9323342025193839, 0.039673795851888675, 0.012560910661397997, 0.9043855676206558, 0.025121821322795994, 0.0062804553306989985, 0.05652409797629099, 0.3383239892876739, 0.3490042781552074, 0.11955033022690717, 0.18742184335284584, 0.0058569326047764325, 0.015498150594610967, 0.027121763540569194, 0.007749075297305483, 0.9337635733253108, 0.015498150594610967, 0.07522575181926762, 0.12224184670630989, 0.018806437954816905, 0.7804671751249016, 0.009403218977408452, 0.05891381678984706, 0.6908983968991155, 0.048202213737147594, 0.1981646564749401, 0.005355801526349732, 0.172904385888072, 0.3696219506709084, 0.14184371776446625, 0.24020250015588446, 0.0745456034966538, 0.143574398273426, 0.20638819751804985, 0.05982266594726083, 0.5892532595805192, 0.04974496275068437, 0.7295927870100375, 0.16581654250228126, 0.04974496275068437, 0.7036440619474781, 0.023101857027003382, 0.2165799096281567, 0.054385621751070465, 0.0024064434403128524, 0.8198539295972828, 0.02963327456375721, 0.04938879093959535, 0.05926654912751442, 0.03951103275167628, 0.9566722890096364, 0.025175586552885168, 0.21488122868155576, 0.25376449863345635, 0.29571750042366485, 0.19236986186729754, 0.041953001790208506, 0.9277789077994428, 0.021576253669754485, 0.021576253669754485, 0.021576253669754485, 0.2400788923639951, 0.1448751936679281, 0.13080160342590078, 0.3957162432758264, 0.08858083269981888, 0.03396350284145378, 0.1209163596531387, 0.10786556920943191, 0.06431052158404905, 0.6728232808267627, 0.2031547843691646, 0.4678151456574341, 0.1546958449783547, 0.14351301281124473, 0.029820885778959944, 0.0031049292754197484, 0.08072816116091347, 0.14282674666930845, 0.7017140162448632, 0.07141337333465422, 0.033681288351124515, 0.09262354296559241, 0.0589422546144679, 0.7830899541636449, 0.025260966263343385, 0.10142749069327255, 0.09391434323451162, 0.07888804831698976, 0.01502629491752186, 0.7062358611235274, 0.2834993006386088, 0.08603710118883151, 0.38081995608171326, 0.24400686074865333, 0.005641777127136493, 0.6496851165489517, 0.012219782756406615, 0.05498902240382976, 0.07535532699784078, 0.20773630685891245, 0.1614837861287868, 0.0057672780760281, 0.051905502684252904, 0.7785825402637936, 0.920656832694328, 0.00814740559906485, 0.05703183919345394, 0.00814740559906485, 0.00814740559906485, 0.08034219571352848, 0.2351190727498848, 0.1772254317210187, 0.5056832318439733, 0.003544508634420374, 0.08384353603590816, 0.5640383333324731, 0.06097711711702412, 0.2794784534530272, 0.012703566066046692, 0.22961899206674055, 0.3358606152617996, 0.19706107528115793, 0.17535579742410284, 0.06283106748094891, 0.0051825871267440924, 0.015547761380232276, 0.031095522760464553, 0.010365174253488185, 0.9380482699406807, 0.5115944724258951, 0.212610689839333, 0.07889849818256499, 0.09467819781907798, 0.10215279238374203, 0.058793682557636076, 0.469532881536677, 0.2776368342999481, 0.11922052296409537, 0.07512526104586832, 0.009478427854813655, 0.0047392139274068275, 0.0047392139274068275, 0.0047392139274068275, 0.9762780690458065, 0.9563007397707508, 0.012028940122902525, 0.02405788024580505, 0.0060144700614512625, 0.0060144700614512625, 0.3106866238862406, 0.012811819541700641, 0.5701259696056785, 0.09929160144817997, 0.009608864656275482, 0.07932520058157512, 0.04257361682589124, 0.0331128130868043, 0.08260009418356676, 0.7619585780633867, 0.4535704768227534, 0.05566546761006519, 0.41646016508270994, 0.022678523841137672, 0.05154209963894925, 0.3517555836476909, 0.047351713183343004, 0.5952786800191693, 0.8256451087071304, 0.15992225078561534, 0.00743824422258676, 0.00371912211129338, 0.9432078854269323, 0.0399664358231751, 0.00799328716463502, 0.013764230659022592, 0.9634961461315815, 0.06393886878727735, 0.23684397874723864, 0.08735310242768878, 0.25755657004452565, 0.35391514694929577, 0.08255573240939847, 0.7120431920310618, 0.020638933102349617, 0.08255573240939847, 0.10319466551174808, 0.014438297028704895, 0.05775318811481958, 0.08662978217222937, 0.837421227664884, 0.1691150260952625, 0.07104088456789838, 0.07292692575111692, 0.46396613107176105, 0.22318154001419402, 0.9720075171129349, 0.016662986007650312, 0.005554328669216771, 0.9690462547445131, 0.011074814339937292, 0.01661222150990594, 0.7769173236347645, 0.17543294404655974, 0.025061849149508535, 0.17195201004961538, 0.7062314698466347, 0.09211714824086539, 0.012282286432115385, 0.02456457286423077, 0.8707688115608985, 0.0025762390874582795, 0.10562580258578946, 0.020609912699666236, 0.10517118014766694, 0.07361982610336686, 0.8098180871370354, 0.010517118014766694, 0.01585646025861579, 0.1057097350574386, 0.042283894022975436, 0.03171292051723158, 0.8033939864365334, 0.9433136514246011, 0.04223792469065378, 0.014079308230217927, 0.014079308230217927, 0.15465990762016038, 0.06550301969795028, 0.48399453443485485, 0.21106528569339533, 0.08369830294738091, 0.13929295775435138, 0.0780819219709951, 0.6590460283812246, 0.09927867641187466, 0.0244411556308101, 0.6226684865195181, 0.06334506248142284, 0.13612449597071719, 0.07008389891561677, 0.1091691502339415, 0.12885609012320665, 0.17430875205022817, 0.5013031451368587, 0.08340342819618511, 0.11208714688799482, 0.033432167002700144, 0.060177900604860265, 0.006686433400540029, 0.8892956422718239, 0.013372866801080059, 0.0165392292085123, 0.7938830020085905, 0.18193152129363532, 0.28683240279767575, 0.1892379752897529, 0.04284633402786858, 0.11068636290532716, 0.3709381695931215, 0.11263375116313473, 0.8396334177615499, 0.040957727695685356, 0.27721163100952173, 0.10298644392253181, 0.5807506236232997, 0.03794237407672225, 0.0015486683296621325, 0.23095828955855494, 0.01924652412987958, 0.7506144410653036, 0.0969278541886075, 0.8697999546925042, 0.016154642364767918, 0.014879275862286238, 0.0029758551724572476, 0.10120473277898537, 0.7084331294528976, 0.011613657859883568, 0.17752305585822026, 0.0016590939799833667, 0.07408337144438275, 0.409069051018983, 0.2029240174346136, 0.07166760933206592, 0.2423814652691218, 0.8618904103636225, 0.002736160032900389, 0.13133568157921865, 0.002736160032900389, 0.6258538015201347, 0.11800107474961968, 0.06124106411056211, 0.05676001063905756, 0.13741897312613938, 0.6754258436322518, 0.1333364934031306, 0.16830999986952552, 0.01748675323319746, 0.004371688308299365, 0.11602318646224594, 0.05801159323112297, 0.04350869492334223, 0.7831565086201601, 0.543466532631942, 0.013255281283705903, 0.4241690010785889, 0.2542861649433514, 0.13726952266853482, 0.528825210280421, 0.07876120153112652, 0.0022503200437464723, 0.2606062766094331, 0.5516483227498948, 0.08845395519955211, 0.077991659423261, 0.021875709350426865, 0.03985904817279435, 0.09964762043198587, 0.06975333430239011, 0.7573219152830926, 0.02989428612959576, 0.2235382239451542, 0.7242638455822996, 0.008941528957806168, 0.026824586873418505, 0.017883057915612337, 0.06499100267000472, 0.165231362720351, 0.09803727521407493, 0.4086722371283348, 0.2632686379344259, 0.24257056549486727, 0.04548198103028762, 0.5761050930503098, 0.12128528274743364, 0.04421991589273116, 0.07738485281227953, 0.8733433388814404, 0.018611163584780682, 0.037222327169561364, 0.05583349075434205, 0.018611163584780682, 0.8654191066923017, 0.9441591936729328, 0.0127589080226072, 0.0127589080226072, 0.0255178160452144, 0.16050244614269948, 0.0321004892285399, 0.8025122307134974, 0.1321112594172388, 0.5427273359843323, 0.19370367090230284, 0.052665975037953304, 0.07855264073457442, 0.20440813686072382, 0.5975007077467311, 0.0644671816253052, 0.12421725239997831, 0.009434221701264175, 0.09236377369099934, 0.06465464158369955, 0.7666193216352946, 0.07389101895279947, 0.06336209235434023, 0.053614078145980196, 0.06238729093350422, 0.13257299323369648, 0.6882098031102185, 0.020936059317984857, 0.568264467202446, 0.3648856052563075, 0.038881253019114735, 0.008972596850564939, 0.2900085521998714, 0.6162681734247268, 0.06162681734247268, 0.03262596212248554, 0.06468479769063158, 0.19664178497951998, 0.1319569872888884, 0.551114476324181, 0.056922621967755785, 0.3803543443018525, 0.08931803863552737, 0.32114350970077254, 0.19469325275609337, 0.0140500285494088, 0.03721224563367915, 0.9489122636588182, 0.12257547016005821, 0.0848599408800403, 0.594019586160282, 0.15557655828007388, 0.04714441160002239, 0.15301090404421724, 0.032788050866617985, 0.043717401155490644, 0.7650545202210863, 0.020860968462251446, 0.17455352526546541, 0.14740913256759605, 0.44901349587725553, 0.20810701068366502, 0.1726371134608915, 0.7847141520949614, 0.031388566083798454, 0.9377194149074627, 0.005515996558279192, 0.033095979349675154, 0.02206398623311677, 0.2426802716598395, 0.7152681691026848, 0.025545291753667314, 0.012772645876833657, 0.005383559500036812, 0.07536983300051536, 0.8209928237556139, 0.010767119000073624, 0.0915205115006258, 0.5086591176404566, 0.1131766536750016, 0.026704603676123973, 0.3335956046525328, 0.018226951715449694, 0.23515686100901068, 0.07235595723354174, 0.6331146257934903, 0.018088989308385435, 0.05426696792515631, 0.0070061837165121136, 0.14712985804675438, 0.0070061837165121136, 0.11910512318070593, 0.7216369228007476, 0.06597246163988488, 0.07104726638141448, 0.0913464853475329, 0.7713703207125001, 0.8005286116085732, 0.05763806003581727, 0.04963277391973154, 0.0896592045001602, 0.003202114446434293, 0.8648831584430132, 0.02331792829135575, 0.016958493302804183, 0.06147453822266516, 0.033916986605608365, 0.02738182702168372, 0.01369091351084186, 0.02738182702168372, 0.9172912052264046, 0.14103967106759513, 0.30592861596003146, 0.09375231779420319, 0.14659079514751508, 0.31291892035696767, 0.014670582973763373, 0.024450971622938956, 0.0024450971622938956, 0.9413624074831498, 0.017115680136057267, 0.04594002923217941, 0.007067696804950678, 0.817496930439295, 0.128396491956604, 0.0011779494674917796, 0.04949736264323647, 0.14000682576229745, 0.08909525275782565, 0.7184188635075465, 0.0028284207224706552, 0.9627745373839938, 0.020057802862166536, 0.22436655649175424, 0.2947987764907839, 0.05227958597866118, 0.3398173088612977, 0.08858485401939813, 0.17159069527519058, 0.13369336380336935, 0.11790280902344383, 0.553722120949388, 0.023159480343890752, 0.8552380406978846, 0.01059118316653727, 0.04766032424941772, 0.08208166954066384, 0.005295591583268635, 0.03726567905045665, 0.8431359885165817, 0.03726567905045665, 0.06521493833829914, 0.009316419762614162, 0.39497306436038176, 0.23679440309375405, 0.21311496278437866, 0.08429880750137644, 0.0700911433157512, 0.19033588316570194, 0.05137270800693709, 0.6174999502433839, 0.09683755459307641, 0.0441805288859659, 0.12142366189901954, 0.008585511447405422, 0.029027205369799285, 0.10384380512576082, 0.7367186489630748, 0.00379627778682351, 0.04555533344188212, 0.03416650008141159, 0.00379627778682351, 0.9149029466244659], \"Term\": [\"2\", \"2\", \"2\", \"2\", \"2\", \"3\", \"3\", \"3\", \"3\", \"3\", \"4\", \"4\", \"4\", \"4\", \"4\", \"5\", \"5\", \"5\", \"5\", \"5\", \"8\", \"8\", \"8\", \"8\", \"8\", \"9\", \"9\", \"9\", \"9\", \"9\", \"AA\", \"AA\", \"AA\", \"AA\", \"Alexa\", \"Alexa\", \"Alexa\", \"Alexa\", \"Alexa\", \"Alkaline\", \"Alkaline\", \"AmazonBasics\", \"AmazonBasics\", \"AmazonBasics\", \"Batteries\", \"Batteries\", \"Best\", \"Best\", \"Best\", \"Best\", \"Black\", \"Black\", \"Black\", \"Buy\", \"Buy\", \"Buy\", \"Buy\", \"Buy\", \"Christmas\", \"Christmas\", \"Christmas\", \"Christmas\", \"Christmas\", \"Duracell\", \"Duracell\", \"Duracell\", \"Duracell\", \"Duracell\", \"Echo\", \"Echo\", \"Echo\", \"Echo\", \"Energizer\", \"Energizer\", \"Fire\", \"Fire\", \"Fire\", \"Fire\", \"Fire\", \"Friday\", \"Friday\", \"Friday\", \"GB\", \"GB\", \"GB\", \"GB\", \"GB\", \"Google\", \"Google\", \"Google\", \"Google\", \"Google\", \"Great\", \"Great\", \"Great\", \"Great\", \"HD\", \"HD\", \"HD\", \"HD\", \"HD\", \"Kindle\", \"Kindle\", \"Kindle\", \"Kindle\", \"Kindle\", \"Netflix\", \"Netflix\", \"Netflix\", \"Netflix\", \"Netflix\", \"Paperwhite\", \"Paperwhite\", \"Paperwhite\", \"Play\", \"Play\", \"Play\", \"Play\", \"Play\", \"SD\", \"SD\", \"SD\", \"SD\", \"Store\", \"Store\", \"Store\", \"Store\", \"Tap\", \"Tap\", \"Tap\", \"Xbox\", \"Xbox\", \"Xbox\", \"absolutely\", \"absolutely\", \"absolutely\", \"absolutely\", \"absolutely\", \"access\", \"access\", \"access\", \"access\", \"access\", \"account\", \"account\", \"account\", \"account\", \"account\", \"adjust\", \"adjust\", \"adjust\", \"adjust\", \"adult\", \"adult\", \"adult\", \"adult\", \"age\", \"age\", \"age\", \"age\", \"age\", \"allow\", \"allow\", \"allow\", \"allow\", \"allow\", \"anymore\", \"anymore\", \"app\", \"app\", \"app\", \"app\", \"app\", \"appear\", \"appear\", \"appear\", \"appear\", \"avid\", \"avid\", \"avid\", \"avid\", \"bag\", \"bag\", \"bag\", \"bang\", \"bang\", \"bang\", \"batch\", \"batch\", \"battery\", \"battery\", \"battery\", \"battery\", \"battery\", \"beat\", \"beat\", \"beat\", \"beat\", \"beat\", \"bed\", \"bed\", \"big\", \"big\", \"big\", \"big\", \"big\", \"birthday\", \"birthday\", \"birthday\", \"birthday\", \"birthday\", \"black\", \"black\", \"black\", \"black\", \"book\", \"book\", \"book\", \"book\", \"book\", \"box\", \"box\", \"box\", \"box\", \"box\", \"boy\", \"boy\", \"boy\", \"boy\", \"boy\", \"brand\", \"brand\", \"brand\", \"brand\", \"brand\", \"bring\", \"bring\", \"bring\", \"bring\", \"bring\", \"browsing\", \"browsing\", \"browsing\", \"browsing\", \"bumper\", \"bumper\", \"bumper\", \"bumper\", \"bumper\", \"busy\", \"busy\", \"busy\", \"button\", \"button\", \"button\", \"button\", \"buy\", \"buy\", \"buy\", \"buy\", \"buy\", \"cable\", \"cable\", \"cable\", \"candle\", \"candle\", \"candle\", \"card\", \"card\", \"card\", \"card\", \"card\", \"carry\", \"carry\", \"carry\", \"carry\", \"carry\", \"change\", \"change\", \"change\", \"change\", \"change\", \"charge\", \"charge\", \"charge\", \"charge\", \"charge\", \"charger\", \"charger\", \"charger\", \"charger\", \"charger\", \"cheap\", \"cheap\", \"cheap\", \"cheap\", \"cheap\", \"child\", \"child\", \"child\", \"child\", \"child\", \"class\", \"class\", \"clear\", \"clear\", \"clear\", \"clear\", \"come\", \"come\", \"come\", \"come\", \"come\", \"compact\", \"compact\", \"compact\", \"compact\", \"compact\", \"content\", \"content\", \"content\", \"content\", \"crisp\", \"crisp\", \"crisp\", \"customer\", \"customer\", \"customer\", \"customer\", \"customer\", \"dark\", \"dark\", \"dark\", \"dark\", \"daughter\", \"daughter\", \"daughter\", \"daughter\", \"daughter\", \"day\", \"day\", \"day\", \"day\", \"day\", \"dead\", \"dead\", \"deal\", \"deal\", \"deal\", \"deal\", \"deal\", \"delivery\", \"delivery\", \"delivery\", \"delivery\", \"describe\", \"describe\", \"describe\", \"describe\", \"describe\", \"device\", \"device\", \"device\", \"device\", \"device\", \"difference\", \"difference\", \"difference\", \"difference\", \"difference\", \"download\", \"download\", \"download\", \"download\", \"download\", \"drain\", \"drain\", \"drain\", \"drop\", \"drop\", \"drop\", \"drop\", \"drop\", \"durable\", \"durable\", \"durable\", \"durable\", \"durable\", \"e\", \"e\", \"e\", \"e\", \"easy\", \"easy\", \"easy\", \"easy\", \"easy\", \"ebook\", \"ebook\", \"ebook\", \"ebook\", \"echo\", \"echo\", \"echo\", \"edition\", \"edition\", \"edition\", \"edition\", \"edition\", \"energizer\", \"energizer\", \"enjoy\", \"enjoy\", \"enjoy\", \"enjoy\", \"enjoy\", \"everyday\", \"everyday\", \"everyday\", \"everyday\", \"everyday\", \"expect\", \"expect\", \"expect\", \"expect\", \"expect\", \"eye\", \"eye\", \"eye\", \"eye\", \"eye\", \"far\", \"far\", \"far\", \"far\", \"far\", \"fast\", \"fast\", \"fast\", \"fast\", \"fast\", \"feature\", \"feature\", \"feature\", \"feature\", \"feature\", \"find\", \"find\", \"find\", \"find\", \"find\", \"fine\", \"fine\", \"fine\", \"fine\", \"fine\", \"fire\", \"fire\", \"fire\", \"fire\", \"fire\", \"flash\", \"flash\", \"flash\", \"free\", \"free\", \"free\", \"free\", \"free\", \"friendly\", \"friendly\", \"friendly\", \"friendly\", \"friendly\", \"game\", \"game\", \"game\", \"game\", \"game\", \"gb\", \"gb\", \"gb\", \"get\", \"get\", \"get\", \"get\", \"get\", \"gift\", \"gift\", \"gift\", \"gift\", \"gift\", \"girl\", \"girl\", \"girl\", \"girl\", \"girl\", \"go\", \"go\", \"go\", \"go\", \"go\", \"good\", \"good\", \"good\", \"good\", \"good\", \"google\", \"google\", \"google\", \"google\", \"google\", \"grand\", \"grand\", \"grand\", \"grand\", \"grand\", \"grandchild\", \"grandchild\", \"grandchild\", \"grandchild\", \"granddaughter\", \"granddaughter\", \"granddaughter\", \"granddaughter\", \"granddaughter\", \"grandkid\", \"grandkid\", \"grandkid\", \"grandkid\", \"grandson\", \"grandson\", \"grandson\", \"grandson\", \"grandson\", \"great\", \"great\", \"great\", \"great\", \"great\", \"half\", \"half\", \"iPad\", \"iPad\", \"iPad\", \"iPad\", \"iPad\", \"install\", \"install\", \"install\", \"install\", \"issue\", \"issue\", \"issue\", \"issue\", \"issue\", \"keyboard\", \"keyboard\", \"keyboard\", \"kid\", \"kid\", \"kid\", \"kid\", \"kid\", \"kindle\", \"kindle\", \"kindle\", \"kindle\", \"kindle\", \"large\", \"large\", \"large\", \"large\", \"large\", \"last\", \"last\", \"last\", \"last\", \"last\", \"lasting\", \"lasting\", \"lasting\", \"lasting\", \"law\", \"law\", \"law\", \"law\", \"leak\", \"leak\", \"learn\", \"learn\", \"learn\", \"learn\", \"learn\", \"learning\", \"learning\", \"learning\", \"learning\", \"learning\", \"led\", \"led\", \"led\", \"led\", \"life\", \"life\", \"life\", \"life\", \"life\", \"light\", \"light\", \"light\", \"light\", \"light\", \"lighting\", \"lighting\", \"lighting\", \"lightweight\", \"lightweight\", \"lightweight\", \"lightweight\", \"lightweight\", \"like\", \"like\", \"like\", \"like\", \"like\", \"limit\", \"limit\", \"limit\", \"limit\", \"limit\", \"limited\", \"limited\", \"limited\", \"limited\", \"limited\", \"listen\", \"listen\", \"listen\", \"listen\", \"listen\", \"little\", \"little\", \"little\", \"little\", \"little\", \"load\", \"load\", \"load\", \"load\", \"lol\", \"lol\", \"lol\", \"lol\", \"long\", \"long\", \"long\", \"long\", \"long\", \"longer\", \"longer\", \"longer\", \"longer\", \"longer\", \"longevity\", \"longevity\", \"look\", \"look\", \"look\", \"look\", \"look\", \"loose\", \"loose\", \"loose\", \"loose\", \"lot\", \"lot\", \"lot\", \"lot\", \"lot\", \"love\", \"love\", \"love\", \"love\", \"love\", \"make\", \"make\", \"make\", \"make\", \"make\", \"memory\", \"memory\", \"memory\", \"memory\", \"memory\", \"mode\", \"mode\", \"mode\", \"mode\", \"mode\", \"mom\", \"mom\", \"mom\", \"mom\", \"mom\", \"money\", \"money\", \"money\", \"money\", \"money\", \"month\", \"month\", \"month\", \"month\", \"month\", \"mother\", \"mother\", \"mother\", \"mother\", \"mouse\", \"mouse\", \"mouse\", \"mouse\", \"mouse\", \"movie\", \"movie\", \"movie\", \"movie\", \"movie\", \"music\", \"music\", \"music\", \"music\", \"music\", \"need\", \"need\", \"need\", \"need\", \"need\", \"nephew\", \"nephew\", \"nephew\", \"nephew\", \"nephew\", \"new\", \"new\", \"new\", \"new\", \"new\", \"nice\", \"nice\", \"nice\", \"nice\", \"nice\", \"niece\", \"niece\", \"niece\", \"niece\", \"niece\", \"notice\", \"notice\", \"notice\", \"notice\", \"notice\", \"ok\", \"ok\", \"ok\", \"ok\", \"ok\", \"old\", \"old\", \"old\", \"old\", \"old\", \"order\", \"order\", \"order\", \"order\", \"order\", \"packaging\", \"packaging\", \"packaging\", \"page\", \"page\", \"page\", \"page\", \"pair\", \"pair\", \"pair\", \"paper\", \"paper\", \"perfect\", \"perfect\", \"perfect\", \"perfect\", \"perfect\", \"person\", \"person\", \"person\", \"person\", \"person\", \"pink\", \"pink\", \"pink\", \"pink\", \"play\", \"play\", \"play\", \"play\", \"play\", \"plug\", \"plug\", \"plug\", \"port\", \"port\", \"port\", \"portability\", \"portability\", \"portability\", \"portable\", \"portable\", \"portable\", \"portable\", \"portable\", \"power\", \"power\", \"power\", \"power\", \"pre\", \"pre\", \"pre\", \"pre\", \"present\", \"present\", \"present\", \"present\", \"present\", \"press\", \"press\", \"press\", \"press\", \"pretty\", \"pretty\", \"pretty\", \"pretty\", \"pretty\", \"price\", \"price\", \"price\", \"price\", \"price\", \"problem\", \"problem\", \"problem\", \"problem\", \"problem\", \"product\", \"product\", \"product\", \"product\", \"product\", \"profile\", \"profile\", \"profile\", \"profile\", \"profile\", \"proof\", \"proof\", \"proof\", \"purchase\", \"purchase\", \"purchase\", \"purchase\", \"purchase\", \"purse\", \"purse\", \"purse\", \"quality\", \"quality\", \"quality\", \"quality\", \"quality\", \"quantity\", \"quantity\", \"quantity\", \"read\", \"read\", \"read\", \"read\", \"read\", \"reader\", \"reader\", \"reader\", \"reader\", \"reader\", \"recommend\", \"recommend\", \"recommend\", \"recommend\", \"recommend\", \"remote\", \"remote\", \"remote\", \"remote\", \"replace\", \"replace\", \"replace\", \"replace\", \"replace\", \"review\", \"review\", \"review\", \"review\", \"review\", \"road\", \"road\", \"road\", \"road\", \"rough\", \"rough\", \"rough\", \"sale\", \"sale\", \"sale\", \"sale\", \"sale\", \"screen\", \"screen\", \"screen\", \"screen\", \"screen\", \"sd\", \"sd\", \"sd\", \"sd\", \"sd\", \"search\", \"search\", \"search\", \"search\", \"search\", \"set\", \"set\", \"set\", \"set\", \"set\", \"ship\", \"ship\", \"ship\", \"ship\", \"shipping\", \"shipping\", \"shipping\", \"sister\", \"sister\", \"sister\", \"sister\", \"sister\", \"sit\", \"sit\", \"sit\", \"sit\", \"site\", \"site\", \"site\", \"size\", \"size\", \"size\", \"size\", \"size\", \"small\", \"small\", \"small\", \"small\", \"small\", \"solid\", \"solid\", \"solid\", \"solid\", \"son\", \"son\", \"son\", \"son\", \"son\", \"sound\", \"sound\", \"sound\", \"sound\", \"sound\", \"speaker\", \"speaker\", \"speaker\", \"speaker\", \"storage\", \"storage\", \"storage\", \"storage\", \"storage\", \"store\", \"store\", \"store\", \"store\", \"store\", \"streaming\", \"streaming\", \"stuff\", \"stuff\", \"stuff\", \"stuff\", \"stuff\", \"subscription\", \"subscription\", \"subscription\", \"subscription\", \"tablet\", \"tablet\", \"tablet\", \"tablet\", \"tablet\", \"tap\", \"tap\", \"tap\", \"test\", \"test\", \"test\", \"test\", \"text\", \"text\", \"text\", \"text\", \"thank\", \"thank\", \"thank\", \"thank\", \"thank\", \"time\", \"time\", \"time\", \"time\", \"time\", \"today\", \"today\", \"today\", \"today\", \"today\", \"tool\", \"tool\", \"tool\", \"tool\", \"tool\", \"trip\", \"trip\", \"trip\", \"trip\", \"try\", \"try\", \"try\", \"try\", \"try\", \"turn\", \"turn\", \"turn\", \"turn\", \"turn\", \"unlimited\", \"unlimited\", \"unlimited\", \"unlimited\", \"use\", \"use\", \"use\", \"use\", \"use\", \"user\", \"user\", \"user\", \"user\", \"user\", \"value\", \"value\", \"value\", \"value\", \"value\", \"video\", \"video\", \"video\", \"video\", \"video\", \"voice\", \"voice\", \"want\", \"want\", \"want\", \"want\", \"want\", \"watch\", \"watch\", \"watch\", \"watch\", \"watch\", \"week\", \"week\", \"week\", \"week\", \"week\", \"weight\", \"weight\", \"weight\", \"weight\", \"weight\", \"well\", \"well\", \"well\", \"well\", \"well\", \"work\", \"work\", \"work\", \"work\", \"work\", \"year\", \"year\", \"year\", \"year\", \"year\", \"yr\", \"yr\", \"yr\", \"yr\", \"yr\"]}, \"R\": 30, \"lambda.step\": 0.01, \"plot.opts\": {\"xlab\": \"PC1\", \"ylab\": \"PC2\"}, \"topic.order\": [5, 3, 2, 1, 4]};\n",
       "\n",
       "function LDAvis_load_lib(url, callback){\n",
       "  var s = document.createElement('script');\n",
       "  s.src = url;\n",
       "  s.async = true;\n",
       "  s.onreadystatechange = s.onload = callback;\n",
       "  s.onerror = function(){console.warn(\"failed to load library \" + url);};\n",
       "  document.getElementsByTagName(\"head\")[0].appendChild(s);\n",
       "}\n",
       "\n",
       "if(typeof(LDAvis) !== \"undefined\"){\n",
       "   // already loaded: just create the visualization\n",
       "   !function(LDAvis){\n",
       "       new LDAvis(\"#\" + \"ldavis_el1021400840000144087418241643\", ldavis_el1021400840000144087418241643_data);\n",
       "   }(LDAvis);\n",
       "}else if(typeof define === \"function\" && define.amd){\n",
       "   // require.js is available: use it to load d3/LDAvis\n",
       "   require.config({paths: {d3: \"https://cdnjs.cloudflare.com/ajax/libs/d3/3.5.5/d3.min\"}});\n",
       "   require([\"d3\"], function(d3){\n",
       "      window.d3 = d3;\n",
       "      LDAvis_load_lib(\"https://cdn.rawgit.com/bmabey/pyLDAvis/files/ldavis.v1.0.0.js\", function(){\n",
       "        new LDAvis(\"#\" + \"ldavis_el1021400840000144087418241643\", ldavis_el1021400840000144087418241643_data);\n",
       "      });\n",
       "    });\n",
       "}else{\n",
       "    // require.js not available: dynamically load d3 & LDAvis\n",
       "    LDAvis_load_lib(\"https://cdnjs.cloudflare.com/ajax/libs/d3/3.5.5/d3.min.js\", function(){\n",
       "         LDAvis_load_lib(\"https://cdn.rawgit.com/bmabey/pyLDAvis/files/ldavis.v1.0.0.js\", function(){\n",
       "                 new LDAvis(\"#\" + \"ldavis_el1021400840000144087418241643\", ldavis_el1021400840000144087418241643_data);\n",
       "            })\n",
       "         });\n",
       "}\n",
       "</script>"
      ],
      "text/plain": [
       "PreparedData(topic_coordinates=              x         y  topics  cluster       Freq\n",
       "topic                                                \n",
       "4      0.130953  0.119080       1        1  25.671860\n",
       "2      0.014103 -0.015073       2        1  19.366561\n",
       "1      0.090668 -0.089514       3        1  19.127367\n",
       "0     -0.032921 -0.060069       4        1  19.062865\n",
       "3     -0.202804  0.045575       5        1  16.771346, topic_info=          Term         Freq        Total Category  logprob  loglift\n",
       "70        love  6359.000000  6359.000000  Default  30.0000  30.0000\n",
       "27        good  6496.000000  6496.000000  Default  29.0000  29.0000\n",
       "18       great  8827.000000  8827.000000  Default  28.0000  28.0000\n",
       "425       read  2352.000000  2352.000000  Default  27.0000  27.0000\n",
       "15       price  4623.000000  4623.000000  Default  26.0000  26.0000\n",
       "..         ...          ...          ...      ...      ...      ...\n",
       "130       game   455.978949  2166.872339   Topic5  -4.6000   0.2269\n",
       "426       fire   356.025124  1337.012009   Topic5  -4.8474   0.4623\n",
       "257       play   355.082112  1590.633347   Topic5  -4.8501   0.2860\n",
       "123  recommend   300.680074  1241.844131   Topic5  -5.0164   0.3672\n",
       "254      child   288.812077   986.590638   Topic5  -5.0566   0.5570\n",
       "\n",
       "[344 rows x 6 columns], token_table=      Topic      Freq Term\n",
       "term                      \n",
       "154       1  0.283676    2\n",
       "154       2  0.005849    2\n",
       "154       3  0.055565    2\n",
       "154       4  0.148174    2\n",
       "154       5  0.505938    2\n",
       "...     ...       ...  ...\n",
       "541       1  0.003796   yr\n",
       "541       2  0.045555   yr\n",
       "541       3  0.034167   yr\n",
       "541       4  0.003796   yr\n",
       "541       5  0.914903   yr\n",
       "\n",
       "[1130 rows x 3 columns], R=30, lambda_step=0.01, plot_opts={'xlab': 'PC1', 'ylab': 'PC2'}, topic_order=[5, 3, 2, 1, 4])"
      ]
     },
     "execution_count": 20,
     "metadata": {},
     "output_type": "execute_result"
    }
   ],
   "source": [
    "pyLDAvis.gensim.prepare(lda, corpus, id2word)"
   ]
  },
  {
   "cell_type": "markdown",
   "metadata": {},
   "source": [
    "### Label Our Review with the most common topic"
   ]
  },
  {
   "cell_type": "code",
   "execution_count": 21,
   "metadata": {},
   "outputs": [
    {
     "name": "stderr",
     "output_type": "stream",
     "text": [
      "/home/jepoy/miniconda3/envs/ds-unit-4/lib/python3.7/site-packages/ipykernel/ipkernel.py:287: DeprecationWarning: `should_run_async` will not call `transform_cell` automatically in the future. Please pass the result to `transformed_cell` argument and any exception that happen during thetransform in `preprocessing_exc_tuple` in IPython 7.17 and above.\n",
      "  and should_run_async(code)\n"
     ]
    }
   ],
   "source": [
    "doc_topics = [lda[doc] for doc in corpus]"
   ]
  },
  {
   "cell_type": "code",
   "execution_count": 22,
   "metadata": {},
   "outputs": [
    {
     "name": "stderr",
     "output_type": "stream",
     "text": [
      "/home/jepoy/miniconda3/envs/ds-unit-4/lib/python3.7/site-packages/ipykernel/ipkernel.py:287: DeprecationWarning: `should_run_async` will not call `transform_cell` automatically in the future. Please pass the result to `transformed_cell` argument and any exception that happen during thetransform in `preprocessing_exc_tuple` in IPython 7.17 and above.\n",
      "  and should_run_async(code)\n"
     ]
    },
    {
     "data": {
      "text/plain": [
       "[(0, 0.022384925),\n",
       " (1, 0.25606683),\n",
       " (2, 0.022340572),\n",
       " (3, 0.022637269),\n",
       " (4, 0.67657036)]"
      ]
     },
     "execution_count": 22,
     "metadata": {},
     "output_type": "execute_result"
    }
   ],
   "source": [
    "doc_topics[0]"
   ]
  },
  {
   "cell_type": "code",
   "execution_count": 23,
   "metadata": {},
   "outputs": [
    {
     "name": "stderr",
     "output_type": "stream",
     "text": [
      "/home/jepoy/miniconda3/envs/ds-unit-4/lib/python3.7/site-packages/ipykernel/ipkernel.py:287: DeprecationWarning: `should_run_async` will not call `transform_cell` automatically in the future. Please pass the result to `transformed_cell` argument and any exception that happen during thetransform in `preprocessing_exc_tuple` in IPython 7.17 and above.\n",
      "  and should_run_async(code)\n"
     ]
    }
   ],
   "source": [
    "def update(doc):\n",
    "    d_dist = {k:0 for k in range(0,5)}\n",
    "    for t in doc:\n",
    "        d_dist[t[0]] = t[1]\n",
    "    return d_dist\n",
    "\n",
    "new_distro = [update(d) for d in doc_topics]"
   ]
  },
  {
   "cell_type": "code",
   "execution_count": 24,
   "metadata": {},
   "outputs": [
    {
     "name": "stderr",
     "output_type": "stream",
     "text": [
      "/home/jepoy/miniconda3/envs/ds-unit-4/lib/python3.7/site-packages/ipykernel/ipkernel.py:287: DeprecationWarning: `should_run_async` will not call `transform_cell` automatically in the future. Please pass the result to `transformed_cell` argument and any exception that happen during thetransform in `preprocessing_exc_tuple` in IPython 7.17 and above.\n",
      "  and should_run_async(code)\n"
     ]
    }
   ],
   "source": [
    "dft = pd.DataFrame.from_records(new_distro)\n",
    "dft.columns = topics"
   ]
  },
  {
   "cell_type": "code",
   "execution_count": 25,
   "metadata": {},
   "outputs": [
    {
     "name": "stderr",
     "output_type": "stream",
     "text": [
      "/home/jepoy/miniconda3/envs/ds-unit-4/lib/python3.7/site-packages/ipykernel/ipkernel.py:287: DeprecationWarning: `should_run_async` will not call `transform_cell` automatically in the future. Please pass the result to `transformed_cell` argument and any exception that happen during thetransform in `preprocessing_exc_tuple` in IPython 7.17 and above.\n",
      "  and should_run_async(code)\n"
     ]
    },
    {
     "data": {
      "text/html": [
       "<div>\n",
       "<style scoped>\n",
       "    .dataframe tbody tr th:only-of-type {\n",
       "        vertical-align: middle;\n",
       "    }\n",
       "\n",
       "    .dataframe tbody tr th {\n",
       "        vertical-align: top;\n",
       "    }\n",
       "\n",
       "    .dataframe thead th {\n",
       "        text-align: right;\n",
       "    }\n",
       "</style>\n",
       "<table border=\"1\" class=\"dataframe\">\n",
       "  <thead>\n",
       "    <tr style=\"text-align: right;\">\n",
       "      <th></th>\n",
       "      <th>tablet app kid great game</th>\n",
       "      <th>good great price work buy</th>\n",
       "      <th>read easy book use great</th>\n",
       "      <th>love old buy year tablet</th>\n",
       "      <th>long time charge buy like</th>\n",
       "    </tr>\n",
       "  </thead>\n",
       "  <tbody>\n",
       "    <tr>\n",
       "      <th>0</th>\n",
       "      <td>0.022385</td>\n",
       "      <td>0.256067</td>\n",
       "      <td>0.022341</td>\n",
       "      <td>0.022637</td>\n",
       "      <td>0.676570</td>\n",
       "    </tr>\n",
       "    <tr>\n",
       "      <th>1</th>\n",
       "      <td>0.033798</td>\n",
       "      <td>0.223600</td>\n",
       "      <td>0.034137</td>\n",
       "      <td>0.033530</td>\n",
       "      <td>0.674935</td>\n",
       "    </tr>\n",
       "    <tr>\n",
       "      <th>2</th>\n",
       "      <td>0.050537</td>\n",
       "      <td>0.238379</td>\n",
       "      <td>0.050961</td>\n",
       "      <td>0.050920</td>\n",
       "      <td>0.609203</td>\n",
       "    </tr>\n",
       "    <tr>\n",
       "      <th>3</th>\n",
       "      <td>0.040198</td>\n",
       "      <td>0.838395</td>\n",
       "      <td>0.040379</td>\n",
       "      <td>0.040140</td>\n",
       "      <td>0.040888</td>\n",
       "    </tr>\n",
       "    <tr>\n",
       "      <th>4</th>\n",
       "      <td>0.040216</td>\n",
       "      <td>0.837573</td>\n",
       "      <td>0.040155</td>\n",
       "      <td>0.040105</td>\n",
       "      <td>0.041951</td>\n",
       "    </tr>\n",
       "  </tbody>\n",
       "</table>\n",
       "</div>"
      ],
      "text/plain": [
       "   tablet app kid great game  good great price work buy  \\\n",
       "0                   0.022385                   0.256067   \n",
       "1                   0.033798                   0.223600   \n",
       "2                   0.050537                   0.238379   \n",
       "3                   0.040198                   0.838395   \n",
       "4                   0.040216                   0.837573   \n",
       "\n",
       "   read easy book use great  love old buy year tablet  \\\n",
       "0                  0.022341                  0.022637   \n",
       "1                  0.034137                  0.033530   \n",
       "2                  0.050961                  0.050920   \n",
       "3                  0.040379                  0.040140   \n",
       "4                  0.040155                  0.040105   \n",
       "\n",
       "   long time charge buy like  \n",
       "0                   0.676570  \n",
       "1                   0.674935  \n",
       "2                   0.609203  \n",
       "3                   0.040888  \n",
       "4                   0.041951  "
      ]
     },
     "execution_count": 25,
     "metadata": {},
     "output_type": "execute_result"
    }
   ],
   "source": [
    "dft.head()"
   ]
  },
  {
   "cell_type": "code",
   "execution_count": 26,
   "metadata": {},
   "outputs": [
    {
     "name": "stderr",
     "output_type": "stream",
     "text": [
      "/home/jepoy/miniconda3/envs/ds-unit-4/lib/python3.7/site-packages/ipykernel/ipkernel.py:287: DeprecationWarning: `should_run_async` will not call `transform_cell` automatically in the future. Please pass the result to `transformed_cell` argument and any exception that happen during thetransform in `preprocessing_exc_tuple` in IPython 7.17 and above.\n",
      "  and should_run_async(code)\n"
     ]
    }
   ],
   "source": [
    "df['primary_topic'] = dft.idxmax(axis=1)"
   ]
  },
  {
   "cell_type": "code",
   "execution_count": 27,
   "metadata": {},
   "outputs": [
    {
     "name": "stderr",
     "output_type": "stream",
     "text": [
      "/home/jepoy/miniconda3/envs/ds-unit-4/lib/python3.7/site-packages/ipykernel/ipkernel.py:287: DeprecationWarning: `should_run_async` will not call `transform_cell` automatically in the future. Please pass the result to `transformed_cell` argument and any exception that happen during thetransform in `preprocessing_exc_tuple` in IPython 7.17 and above.\n",
      "  and should_run_async(code)\n"
     ]
    },
    {
     "data": {
      "text/html": [
       "<div>\n",
       "<style scoped>\n",
       "    .dataframe tbody tr th:only-of-type {\n",
       "        vertical-align: middle;\n",
       "    }\n",
       "\n",
       "    .dataframe tbody tr th {\n",
       "        vertical-align: top;\n",
       "    }\n",
       "\n",
       "    .dataframe thead th {\n",
       "        text-align: right;\n",
       "    }\n",
       "</style>\n",
       "<table border=\"1\" class=\"dataframe\">\n",
       "  <thead>\n",
       "    <tr style=\"text-align: right;\">\n",
       "      <th></th>\n",
       "      <th>id</th>\n",
       "      <th>dateAdded</th>\n",
       "      <th>dateUpdated</th>\n",
       "      <th>name</th>\n",
       "      <th>asins</th>\n",
       "      <th>brand</th>\n",
       "      <th>categories</th>\n",
       "      <th>primaryCategories</th>\n",
       "      <th>imageURLs</th>\n",
       "      <th>keys</th>\n",
       "      <th>...</th>\n",
       "      <th>reviews.id</th>\n",
       "      <th>reviews.numHelpful</th>\n",
       "      <th>reviews.rating</th>\n",
       "      <th>reviews.sourceURLs</th>\n",
       "      <th>reviews.text</th>\n",
       "      <th>reviews.title</th>\n",
       "      <th>reviews.username</th>\n",
       "      <th>sourceURLs</th>\n",
       "      <th>lemmas</th>\n",
       "      <th>primary_topic</th>\n",
       "    </tr>\n",
       "  </thead>\n",
       "  <tbody>\n",
       "    <tr>\n",
       "      <th>0</th>\n",
       "      <td>AVpgNzjwLJeJML43Kpxn</td>\n",
       "      <td>2015-10-30T08:59:32Z</td>\n",
       "      <td>2019-04-25T09:08:16Z</td>\n",
       "      <td>AmazonBasics AAA Performance Alkaline Batterie...</td>\n",
       "      <td>B00QWO9P0O,B00LH3DMUO</td>\n",
       "      <td>Amazonbasics</td>\n",
       "      <td>AA,AAA,Health,Electronics,Health &amp; Household,C...</td>\n",
       "      <td>Health &amp; Beauty</td>\n",
       "      <td>https://images-na.ssl-images-amazon.com/images...</td>\n",
       "      <td>amazonbasics/hl002619,amazonbasicsaaaperforman...</td>\n",
       "      <td>...</td>\n",
       "      <td>NaN</td>\n",
       "      <td>NaN</td>\n",
       "      <td>3</td>\n",
       "      <td>https://www.amazon.com/product-reviews/B00QWO9...</td>\n",
       "      <td>I order 3 of them and one of the item is bad q...</td>\n",
       "      <td>... 3 of them and one of the item is bad quali...</td>\n",
       "      <td>Byger yang</td>\n",
       "      <td>https://www.barcodable.com/upc/841710106442,ht...</td>\n",
       "      <td>[order, 3, item, bad, quality, miss, backup, s...</td>\n",
       "      <td>long time charge buy like</td>\n",
       "    </tr>\n",
       "    <tr>\n",
       "      <th>1</th>\n",
       "      <td>AVpgNzjwLJeJML43Kpxn</td>\n",
       "      <td>2015-10-30T08:59:32Z</td>\n",
       "      <td>2019-04-25T09:08:16Z</td>\n",
       "      <td>AmazonBasics AAA Performance Alkaline Batterie...</td>\n",
       "      <td>B00QWO9P0O,B00LH3DMUO</td>\n",
       "      <td>Amazonbasics</td>\n",
       "      <td>AA,AAA,Health,Electronics,Health &amp; Household,C...</td>\n",
       "      <td>Health &amp; Beauty</td>\n",
       "      <td>https://images-na.ssl-images-amazon.com/images...</td>\n",
       "      <td>amazonbasics/hl002619,amazonbasicsaaaperforman...</td>\n",
       "      <td>...</td>\n",
       "      <td>NaN</td>\n",
       "      <td>NaN</td>\n",
       "      <td>4</td>\n",
       "      <td>https://www.amazon.com/product-reviews/B00QWO9...</td>\n",
       "      <td>Bulk is always the less expensive way to go fo...</td>\n",
       "      <td>... always the less expensive way to go for pr...</td>\n",
       "      <td>ByMG</td>\n",
       "      <td>https://www.barcodable.com/upc/841710106442,ht...</td>\n",
       "      <td>[bulk, expensive, way, product, like]</td>\n",
       "      <td>long time charge buy like</td>\n",
       "    </tr>\n",
       "    <tr>\n",
       "      <th>2</th>\n",
       "      <td>AVpgNzjwLJeJML43Kpxn</td>\n",
       "      <td>2015-10-30T08:59:32Z</td>\n",
       "      <td>2019-04-25T09:08:16Z</td>\n",
       "      <td>AmazonBasics AAA Performance Alkaline Batterie...</td>\n",
       "      <td>B00QWO9P0O,B00LH3DMUO</td>\n",
       "      <td>Amazonbasics</td>\n",
       "      <td>AA,AAA,Health,Electronics,Health &amp; Household,C...</td>\n",
       "      <td>Health &amp; Beauty</td>\n",
       "      <td>https://images-na.ssl-images-amazon.com/images...</td>\n",
       "      <td>amazonbasics/hl002619,amazonbasicsaaaperforman...</td>\n",
       "      <td>...</td>\n",
       "      <td>NaN</td>\n",
       "      <td>NaN</td>\n",
       "      <td>5</td>\n",
       "      <td>https://www.amazon.com/product-reviews/B00QWO9...</td>\n",
       "      <td>Well they are not Duracell but for the price i...</td>\n",
       "      <td>... are not Duracell but for the price i am ha...</td>\n",
       "      <td>BySharon Lambert</td>\n",
       "      <td>https://www.barcodable.com/upc/841710106442,ht...</td>\n",
       "      <td>[Duracell, price, happy]</td>\n",
       "      <td>long time charge buy like</td>\n",
       "    </tr>\n",
       "    <tr>\n",
       "      <th>3</th>\n",
       "      <td>AVpgNzjwLJeJML43Kpxn</td>\n",
       "      <td>2015-10-30T08:59:32Z</td>\n",
       "      <td>2019-04-25T09:08:16Z</td>\n",
       "      <td>AmazonBasics AAA Performance Alkaline Batterie...</td>\n",
       "      <td>B00QWO9P0O,B00LH3DMUO</td>\n",
       "      <td>Amazonbasics</td>\n",
       "      <td>AA,AAA,Health,Electronics,Health &amp; Household,C...</td>\n",
       "      <td>Health &amp; Beauty</td>\n",
       "      <td>https://images-na.ssl-images-amazon.com/images...</td>\n",
       "      <td>amazonbasics/hl002619,amazonbasicsaaaperforman...</td>\n",
       "      <td>...</td>\n",
       "      <td>NaN</td>\n",
       "      <td>NaN</td>\n",
       "      <td>5</td>\n",
       "      <td>https://www.amazon.com/product-reviews/B00QWO9...</td>\n",
       "      <td>Seem to work as well as name brand batteries a...</td>\n",
       "      <td>... as well as name brand batteries at a much ...</td>\n",
       "      <td>Bymark sexson</td>\n",
       "      <td>https://www.barcodable.com/upc/841710106442,ht...</td>\n",
       "      <td>[work, brand, well, price]</td>\n",
       "      <td>good great price work buy</td>\n",
       "    </tr>\n",
       "    <tr>\n",
       "      <th>4</th>\n",
       "      <td>AVpgNzjwLJeJML43Kpxn</td>\n",
       "      <td>2015-10-30T08:59:32Z</td>\n",
       "      <td>2019-04-25T09:08:16Z</td>\n",
       "      <td>AmazonBasics AAA Performance Alkaline Batterie...</td>\n",
       "      <td>B00QWO9P0O,B00LH3DMUO</td>\n",
       "      <td>Amazonbasics</td>\n",
       "      <td>AA,AAA,Health,Electronics,Health &amp; Household,C...</td>\n",
       "      <td>Health &amp; Beauty</td>\n",
       "      <td>https://images-na.ssl-images-amazon.com/images...</td>\n",
       "      <td>amazonbasics/hl002619,amazonbasicsaaaperforman...</td>\n",
       "      <td>...</td>\n",
       "      <td>NaN</td>\n",
       "      <td>NaN</td>\n",
       "      <td>5</td>\n",
       "      <td>https://www.amazon.com/product-reviews/B00QWO9...</td>\n",
       "      <td>These batteries are very long lasting the pric...</td>\n",
       "      <td>... batteries are very long lasting the price ...</td>\n",
       "      <td>Bylinda</td>\n",
       "      <td>https://www.barcodable.com/upc/841710106442,ht...</td>\n",
       "      <td>[long, last, price, great]</td>\n",
       "      <td>good great price work buy</td>\n",
       "    </tr>\n",
       "  </tbody>\n",
       "</table>\n",
       "<p>5 rows × 26 columns</p>\n",
       "</div>"
      ],
      "text/plain": [
       "                     id             dateAdded           dateUpdated  \\\n",
       "0  AVpgNzjwLJeJML43Kpxn  2015-10-30T08:59:32Z  2019-04-25T09:08:16Z   \n",
       "1  AVpgNzjwLJeJML43Kpxn  2015-10-30T08:59:32Z  2019-04-25T09:08:16Z   \n",
       "2  AVpgNzjwLJeJML43Kpxn  2015-10-30T08:59:32Z  2019-04-25T09:08:16Z   \n",
       "3  AVpgNzjwLJeJML43Kpxn  2015-10-30T08:59:32Z  2019-04-25T09:08:16Z   \n",
       "4  AVpgNzjwLJeJML43Kpxn  2015-10-30T08:59:32Z  2019-04-25T09:08:16Z   \n",
       "\n",
       "                                                name                  asins  \\\n",
       "0  AmazonBasics AAA Performance Alkaline Batterie...  B00QWO9P0O,B00LH3DMUO   \n",
       "1  AmazonBasics AAA Performance Alkaline Batterie...  B00QWO9P0O,B00LH3DMUO   \n",
       "2  AmazonBasics AAA Performance Alkaline Batterie...  B00QWO9P0O,B00LH3DMUO   \n",
       "3  AmazonBasics AAA Performance Alkaline Batterie...  B00QWO9P0O,B00LH3DMUO   \n",
       "4  AmazonBasics AAA Performance Alkaline Batterie...  B00QWO9P0O,B00LH3DMUO   \n",
       "\n",
       "          brand                                         categories  \\\n",
       "0  Amazonbasics  AA,AAA,Health,Electronics,Health & Household,C...   \n",
       "1  Amazonbasics  AA,AAA,Health,Electronics,Health & Household,C...   \n",
       "2  Amazonbasics  AA,AAA,Health,Electronics,Health & Household,C...   \n",
       "3  Amazonbasics  AA,AAA,Health,Electronics,Health & Household,C...   \n",
       "4  Amazonbasics  AA,AAA,Health,Electronics,Health & Household,C...   \n",
       "\n",
       "  primaryCategories                                          imageURLs  \\\n",
       "0   Health & Beauty  https://images-na.ssl-images-amazon.com/images...   \n",
       "1   Health & Beauty  https://images-na.ssl-images-amazon.com/images...   \n",
       "2   Health & Beauty  https://images-na.ssl-images-amazon.com/images...   \n",
       "3   Health & Beauty  https://images-na.ssl-images-amazon.com/images...   \n",
       "4   Health & Beauty  https://images-na.ssl-images-amazon.com/images...   \n",
       "\n",
       "                                                keys  ... reviews.id  \\\n",
       "0  amazonbasics/hl002619,amazonbasicsaaaperforman...  ...        NaN   \n",
       "1  amazonbasics/hl002619,amazonbasicsaaaperforman...  ...        NaN   \n",
       "2  amazonbasics/hl002619,amazonbasicsaaaperforman...  ...        NaN   \n",
       "3  amazonbasics/hl002619,amazonbasicsaaaperforman...  ...        NaN   \n",
       "4  amazonbasics/hl002619,amazonbasicsaaaperforman...  ...        NaN   \n",
       "\n",
       "  reviews.numHelpful reviews.rating  \\\n",
       "0                NaN              3   \n",
       "1                NaN              4   \n",
       "2                NaN              5   \n",
       "3                NaN              5   \n",
       "4                NaN              5   \n",
       "\n",
       "                                  reviews.sourceURLs  \\\n",
       "0  https://www.amazon.com/product-reviews/B00QWO9...   \n",
       "1  https://www.amazon.com/product-reviews/B00QWO9...   \n",
       "2  https://www.amazon.com/product-reviews/B00QWO9...   \n",
       "3  https://www.amazon.com/product-reviews/B00QWO9...   \n",
       "4  https://www.amazon.com/product-reviews/B00QWO9...   \n",
       "\n",
       "                                        reviews.text  \\\n",
       "0  I order 3 of them and one of the item is bad q...   \n",
       "1  Bulk is always the less expensive way to go fo...   \n",
       "2  Well they are not Duracell but for the price i...   \n",
       "3  Seem to work as well as name brand batteries a...   \n",
       "4  These batteries are very long lasting the pric...   \n",
       "\n",
       "                                       reviews.title  reviews.username  \\\n",
       "0  ... 3 of them and one of the item is bad quali...        Byger yang   \n",
       "1  ... always the less expensive way to go for pr...              ByMG   \n",
       "2  ... are not Duracell but for the price i am ha...  BySharon Lambert   \n",
       "3  ... as well as name brand batteries at a much ...     Bymark sexson   \n",
       "4  ... batteries are very long lasting the price ...           Bylinda   \n",
       "\n",
       "                                          sourceURLs  \\\n",
       "0  https://www.barcodable.com/upc/841710106442,ht...   \n",
       "1  https://www.barcodable.com/upc/841710106442,ht...   \n",
       "2  https://www.barcodable.com/upc/841710106442,ht...   \n",
       "3  https://www.barcodable.com/upc/841710106442,ht...   \n",
       "4  https://www.barcodable.com/upc/841710106442,ht...   \n",
       "\n",
       "                                              lemmas  \\\n",
       "0  [order, 3, item, bad, quality, miss, backup, s...   \n",
       "1              [bulk, expensive, way, product, like]   \n",
       "2                           [Duracell, price, happy]   \n",
       "3                         [work, brand, well, price]   \n",
       "4                         [long, last, price, great]   \n",
       "\n",
       "               primary_topic  \n",
       "0  long time charge buy like  \n",
       "1  long time charge buy like  \n",
       "2  long time charge buy like  \n",
       "3  good great price work buy  \n",
       "4  good great price work buy  \n",
       "\n",
       "[5 rows x 26 columns]"
      ]
     },
     "execution_count": 27,
     "metadata": {},
     "output_type": "execute_result"
    }
   ],
   "source": [
    "df.head()"
   ]
  },
  {
   "cell_type": "code",
   "execution_count": 28,
   "metadata": {},
   "outputs": [
    {
     "name": "stderr",
     "output_type": "stream",
     "text": [
      "/home/jepoy/miniconda3/envs/ds-unit-4/lib/python3.7/site-packages/ipykernel/ipkernel.py:287: DeprecationWarning: `should_run_async` will not call `transform_cell` automatically in the future. Please pass the result to `transformed_cell` argument and any exception that happen during thetransform in `preprocessing_exc_tuple` in IPython 7.17 and above.\n",
      "  and should_run_async(code)\n"
     ]
    },
    {
     "data": {
      "text/html": [
       "<div>\n",
       "<style scoped>\n",
       "    .dataframe tbody tr th:only-of-type {\n",
       "        vertical-align: middle;\n",
       "    }\n",
       "\n",
       "    .dataframe tbody tr th {\n",
       "        vertical-align: top;\n",
       "    }\n",
       "\n",
       "    .dataframe thead th {\n",
       "        text-align: right;\n",
       "    }\n",
       "</style>\n",
       "<table border=\"1\" class=\"dataframe\">\n",
       "  <thead>\n",
       "    <tr style=\"text-align: right;\">\n",
       "      <th></th>\n",
       "      <th>reviews.text</th>\n",
       "      <th>lemmas</th>\n",
       "      <th>primary_topic</th>\n",
       "    </tr>\n",
       "  </thead>\n",
       "  <tbody>\n",
       "    <tr>\n",
       "      <th>0</th>\n",
       "      <td>I order 3 of them and one of the item is bad q...</td>\n",
       "      <td>[order, 3, item, bad, quality, miss, backup, s...</td>\n",
       "      <td>long time charge buy like</td>\n",
       "    </tr>\n",
       "    <tr>\n",
       "      <th>1</th>\n",
       "      <td>Bulk is always the less expensive way to go fo...</td>\n",
       "      <td>[bulk, expensive, way, product, like]</td>\n",
       "      <td>long time charge buy like</td>\n",
       "    </tr>\n",
       "    <tr>\n",
       "      <th>2</th>\n",
       "      <td>Well they are not Duracell but for the price i...</td>\n",
       "      <td>[Duracell, price, happy]</td>\n",
       "      <td>long time charge buy like</td>\n",
       "    </tr>\n",
       "    <tr>\n",
       "      <th>3</th>\n",
       "      <td>Seem to work as well as name brand batteries a...</td>\n",
       "      <td>[work, brand, well, price]</td>\n",
       "      <td>good great price work buy</td>\n",
       "    </tr>\n",
       "    <tr>\n",
       "      <th>4</th>\n",
       "      <td>These batteries are very long lasting the pric...</td>\n",
       "      <td>[long, last, price, great]</td>\n",
       "      <td>good great price work buy</td>\n",
       "    </tr>\n",
       "    <tr>\n",
       "      <th>...</th>\n",
       "      <td>...</td>\n",
       "      <td>...</td>\n",
       "      <td>...</td>\n",
       "    </tr>\n",
       "    <tr>\n",
       "      <th>28327</th>\n",
       "      <td>I got 2 of these for my 8 yr old twins. My 11 ...</td>\n",
       "      <td>[get, 2, 8, yr, old, twin, 11, yr, old, well, ...</td>\n",
       "      <td>love old buy year tablet</td>\n",
       "    </tr>\n",
       "    <tr>\n",
       "      <th>28328</th>\n",
       "      <td>I bought this for my niece for a Christmas gif...</td>\n",
       "      <td>[buy, niece, Christmas, gift.she, 9, year, old...</td>\n",
       "      <td>love old buy year tablet</td>\n",
       "    </tr>\n",
       "    <tr>\n",
       "      <th>28329</th>\n",
       "      <td>Very nice for light internet browsing, keeping...</td>\n",
       "      <td>[nice, light, internet, browsing, keep, email,...</td>\n",
       "      <td>read easy book use great</td>\n",
       "    </tr>\n",
       "    <tr>\n",
       "      <th>28330</th>\n",
       "      <td>This Tablet does absolutely everything I want!...</td>\n",
       "      <td>[Tablet, absolutely, want, watch, tv, show, mo...</td>\n",
       "      <td>tablet app kid great game</td>\n",
       "    </tr>\n",
       "    <tr>\n",
       "      <th>28331</th>\n",
       "      <td>At ninety dollars, the expectionations are low...</td>\n",
       "      <td>[ninety, dollar, expectionation, low, good, ta...</td>\n",
       "      <td>tablet app kid great game</td>\n",
       "    </tr>\n",
       "  </tbody>\n",
       "</table>\n",
       "<p>28332 rows × 3 columns</p>\n",
       "</div>"
      ],
      "text/plain": [
       "                                            reviews.text  \\\n",
       "0      I order 3 of them and one of the item is bad q...   \n",
       "1      Bulk is always the less expensive way to go fo...   \n",
       "2      Well they are not Duracell but for the price i...   \n",
       "3      Seem to work as well as name brand batteries a...   \n",
       "4      These batteries are very long lasting the pric...   \n",
       "...                                                  ...   \n",
       "28327  I got 2 of these for my 8 yr old twins. My 11 ...   \n",
       "28328  I bought this for my niece for a Christmas gif...   \n",
       "28329  Very nice for light internet browsing, keeping...   \n",
       "28330  This Tablet does absolutely everything I want!...   \n",
       "28331  At ninety dollars, the expectionations are low...   \n",
       "\n",
       "                                                  lemmas  \\\n",
       "0      [order, 3, item, bad, quality, miss, backup, s...   \n",
       "1                  [bulk, expensive, way, product, like]   \n",
       "2                               [Duracell, price, happy]   \n",
       "3                             [work, brand, well, price]   \n",
       "4                             [long, last, price, great]   \n",
       "...                                                  ...   \n",
       "28327  [get, 2, 8, yr, old, twin, 11, yr, old, well, ...   \n",
       "28328  [buy, niece, Christmas, gift.she, 9, year, old...   \n",
       "28329  [nice, light, internet, browsing, keep, email,...   \n",
       "28330  [Tablet, absolutely, want, watch, tv, show, mo...   \n",
       "28331  [ninety, dollar, expectionation, low, good, ta...   \n",
       "\n",
       "                   primary_topic  \n",
       "0      long time charge buy like  \n",
       "1      long time charge buy like  \n",
       "2      long time charge buy like  \n",
       "3      good great price work buy  \n",
       "4      good great price work buy  \n",
       "...                          ...  \n",
       "28327   love old buy year tablet  \n",
       "28328   love old buy year tablet  \n",
       "28329   read easy book use great  \n",
       "28330  tablet app kid great game  \n",
       "28331  tablet app kid great game  \n",
       "\n",
       "[28332 rows x 3 columns]"
      ]
     },
     "execution_count": 28,
     "metadata": {},
     "output_type": "execute_result"
    }
   ],
   "source": [
    "df[['reviews.text', 'lemmas','primary_topic']]"
   ]
  },
  {
   "cell_type": "code",
   "execution_count": 29,
   "metadata": {},
   "outputs": [
    {
     "name": "stderr",
     "output_type": "stream",
     "text": [
      "/home/jepoy/miniconda3/envs/ds-unit-4/lib/python3.7/site-packages/ipykernel/ipkernel.py:287: DeprecationWarning: `should_run_async` will not call `transform_cell` automatically in the future. Please pass the result to `transformed_cell` argument and any exception that happen during thetransform in `preprocessing_exc_tuple` in IPython 7.17 and above.\n",
      "  and should_run_async(code)\n"
     ]
    },
    {
     "data": {
      "text/plain": [
       "(array([0, 1, 2, 3, 4]),\n",
       " [Text(0, 0, 'long time charge buy like'),\n",
       "  Text(1, 0, 'good great price work buy'),\n",
       "  Text(2, 0, 'read easy book use great'),\n",
       "  Text(3, 0, 'tablet app kid great game'),\n",
       "  Text(4, 0, 'love old buy year tablet')])"
      ]
     },
     "execution_count": 29,
     "metadata": {},
     "output_type": "execute_result"
    },
    {
     "data": {
      "image/png": "[encoded data removed]",
      "text/plain": [
       "<Figure size 432x288 with 1 Axes>"
      ]
     },
     "metadata": {
      "needs_background": "light"
     },
     "output_type": "display_data"
    }
   ],
   "source": [
    "# Simple Bar Graph?\n",
    "import seaborn as sns\n",
    "import matplotlib.pyplot as plt\n",
    "\n",
    "ax = sns.countplot(x=\"primary_topic\", hue=\"reviews.rating\", data=df)\n",
    "plt.xticks(rotation=90)"
   ]
  },
  {
   "cell_type": "markdown",
   "metadata": {},
   "source": [
    "## Create more visualizations of the LDA results and provide written analysis"
   ]
  },
  {
   "cell_type": "code",
   "execution_count": 30,
   "metadata": {},
   "outputs": [
    {
     "name": "stderr",
     "output_type": "stream",
     "text": [
      "/home/jepoy/miniconda3/envs/ds-unit-4/lib/python3.7/site-packages/ipykernel/ipkernel.py:287: DeprecationWarning: `should_run_async` will not call `transform_cell` automatically in the future. Please pass the result to `transformed_cell` argument and any exception that happen during thetransform in `preprocessing_exc_tuple` in IPython 7.17 and above.\n",
      "  and should_run_async(code)\n"
     ]
    }
   ],
   "source": [
    "from gensim.models.coherencemodel import CoherenceModel\n",
    "\n",
    "def compute_coherence_values(dictionary, corpus, limit, start=2, step=3, passes=5):\n",
    "    \"\"\"\n",
    "    Compute c_v coherence for various number of topics\n",
    "\n",
    "    Parameters:\n",
    "    ----------\n",
    "    dictionary : Gensim dictionary\n",
    "    corpus : Gensim corpus\n",
    "    path : path to input texts\n",
    "    limit : Max num of topics\n",
    "\n",
    "    Returns:\n",
    "    -------\n",
    "    model_list : List of LDA topic models\n",
    "    coherence_values : Coherence values corresponding to the LDA model with respective number of topics\n",
    "    \"\"\"\n",
    "    coherence_values = []\n",
    "    \n",
    "    for iter_ in range(passes):\n",
    "        for num_topics in range(start, limit, step):\n",
    "            model = LdaMulticore(corpus=corpus, num_topics=num_topics, passes=3, id2word=id2word, workers=12)\n",
    "            coherencemodel = CoherenceModel(model=model, dictionary=dictionary, corpus=corpus, coherence='u_mass')\n",
    "            coherence_values.append({'pass': iter_,\n",
    "                                    'num_topics': num_topics,\n",
    "                                    'coherence_score':coherencemodel.get_coherence()})\n",
    "\n",
    "    return coherence_values"
   ]
  },
  {
   "cell_type": "code",
   "execution_count": 31,
   "metadata": {},
   "outputs": [
    {
     "name": "stderr",
     "output_type": "stream",
     "text": [
      "/home/jepoy/miniconda3/envs/ds-unit-4/lib/python3.7/site-packages/ipykernel/ipkernel.py:287: DeprecationWarning: `should_run_async` will not call `transform_cell` automatically in the future. Please pass the result to `transformed_cell` argument and any exception that happen during thetransform in `preprocessing_exc_tuple` in IPython 7.17 and above.\n",
      "  and should_run_async(code)\n"
     ]
    }
   ],
   "source": [
    "coherence_values = compute_coherence_values(dictionary=id2word, \n",
    "                                            corpus=corpus,  \n",
    "                                            start=5, \n",
    "                                            limit=50, \n",
    "                                            step=15,\n",
    "                                            passes=5)"
   ]
  },
  {
   "cell_type": "code",
   "execution_count": 32,
   "metadata": {},
   "outputs": [
    {
     "name": "stderr",
     "output_type": "stream",
     "text": [
      "/home/jepoy/miniconda3/envs/ds-unit-4/lib/python3.7/site-packages/ipykernel/ipkernel.py:287: DeprecationWarning: `should_run_async` will not call `transform_cell` automatically in the future. Please pass the result to `transformed_cell` argument and any exception that happen during thetransform in `preprocessing_exc_tuple` in IPython 7.17 and above.\n",
      "  and should_run_async(code)\n"
     ]
    },
    {
     "data": {
      "text/html": [
       "<div>\n",
       "<style scoped>\n",
       "    .dataframe tbody tr th:only-of-type {\n",
       "        vertical-align: middle;\n",
       "    }\n",
       "\n",
       "    .dataframe tbody tr th {\n",
       "        vertical-align: top;\n",
       "    }\n",
       "\n",
       "    .dataframe thead th {\n",
       "        text-align: right;\n",
       "    }\n",
       "</style>\n",
       "<table border=\"1\" class=\"dataframe\">\n",
       "  <thead>\n",
       "    <tr style=\"text-align: right;\">\n",
       "      <th></th>\n",
       "      <th>pass</th>\n",
       "      <th>num_topics</th>\n",
       "      <th>coherence_score</th>\n",
       "    </tr>\n",
       "  </thead>\n",
       "  <tbody>\n",
       "    <tr>\n",
       "      <th>0</th>\n",
       "      <td>0</td>\n",
       "      <td>5</td>\n",
       "      <td>-2.461492</td>\n",
       "    </tr>\n",
       "    <tr>\n",
       "      <th>1</th>\n",
       "      <td>0</td>\n",
       "      <td>20</td>\n",
       "      <td>-2.529788</td>\n",
       "    </tr>\n",
       "    <tr>\n",
       "      <th>2</th>\n",
       "      <td>0</td>\n",
       "      <td>35</td>\n",
       "      <td>-2.638251</td>\n",
       "    </tr>\n",
       "    <tr>\n",
       "      <th>3</th>\n",
       "      <td>1</td>\n",
       "      <td>5</td>\n",
       "      <td>-2.384219</td>\n",
       "    </tr>\n",
       "    <tr>\n",
       "      <th>4</th>\n",
       "      <td>1</td>\n",
       "      <td>20</td>\n",
       "      <td>-2.549600</td>\n",
       "    </tr>\n",
       "    <tr>\n",
       "      <th>5</th>\n",
       "      <td>1</td>\n",
       "      <td>35</td>\n",
       "      <td>-2.646253</td>\n",
       "    </tr>\n",
       "    <tr>\n",
       "      <th>6</th>\n",
       "      <td>2</td>\n",
       "      <td>5</td>\n",
       "      <td>-2.467680</td>\n",
       "    </tr>\n",
       "    <tr>\n",
       "      <th>7</th>\n",
       "      <td>2</td>\n",
       "      <td>20</td>\n",
       "      <td>-2.496980</td>\n",
       "    </tr>\n",
       "    <tr>\n",
       "      <th>8</th>\n",
       "      <td>2</td>\n",
       "      <td>35</td>\n",
       "      <td>-2.627383</td>\n",
       "    </tr>\n",
       "    <tr>\n",
       "      <th>9</th>\n",
       "      <td>3</td>\n",
       "      <td>5</td>\n",
       "      <td>-2.463011</td>\n",
       "    </tr>\n",
       "  </tbody>\n",
       "</table>\n",
       "</div>"
      ],
      "text/plain": [
       "   pass  num_topics  coherence_score\n",
       "0     0           5        -2.461492\n",
       "1     0          20        -2.529788\n",
       "2     0          35        -2.638251\n",
       "3     1           5        -2.384219\n",
       "4     1          20        -2.549600\n",
       "5     1          35        -2.646253\n",
       "6     2           5        -2.467680\n",
       "7     2          20        -2.496980\n",
       "8     2          35        -2.627383\n",
       "9     3           5        -2.463011"
      ]
     },
     "execution_count": 32,
     "metadata": {},
     "output_type": "execute_result"
    }
   ],
   "source": [
    "import seaborn as sns\n",
    "\n",
    "topic_coherence = pd.DataFrame.from_records(coherence_values)\n",
    "\n",
    "topic_coherence.head(10)"
   ]
  },
  {
   "cell_type": "code",
   "execution_count": 33,
   "metadata": {},
   "outputs": [
    {
     "name": "stderr",
     "output_type": "stream",
     "text": [
      "/home/jepoy/miniconda3/envs/ds-unit-4/lib/python3.7/site-packages/ipykernel/ipkernel.py:287: DeprecationWarning: `should_run_async` will not call `transform_cell` automatically in the future. Please pass the result to `transformed_cell` argument and any exception that happen during thetransform in `preprocessing_exc_tuple` in IPython 7.17 and above.\n",
      "  and should_run_async(code)\n"
     ]
    },
    {
     "data": {
      "image/png": "[encoded data removed]",
      "text/plain": [
       "<Figure size 432x288 with 1 Axes>"
      ]
     },
     "metadata": {
      "needs_background": "light"
     },
     "output_type": "display_data"
    }
   ],
   "source": [
    "import seaborn as sns\n",
    "\n",
    "ax = sns.lineplot(x='num_topics', y='coherence_score', data=topic_coherence)"
   ]
  },
  {
   "cell_type": "code",
   "execution_count": 38,
   "metadata": {},
   "outputs": [
    {
     "name": "stderr",
     "output_type": "stream",
     "text": [
      "/home/jepoy/miniconda3/envs/ds-unit-4/lib/python3.7/site-packages/ipykernel/ipkernel.py:287: DeprecationWarning: `should_run_async` will not call `transform_cell` automatically in the future. Please pass the result to `transformed_cell` argument and any exception that happen during thetransform in `preprocessing_exc_tuple` in IPython 7.17 and above.\n",
      "  and should_run_async(code)\n"
     ]
    },
    {
     "data": {
      "text/html": [
       "<div>\n",
       "<style scoped>\n",
       "    .dataframe tbody tr th:only-of-type {\n",
       "        vertical-align: middle;\n",
       "    }\n",
       "\n",
       "    .dataframe tbody tr th {\n",
       "        vertical-align: top;\n",
       "    }\n",
       "\n",
       "    .dataframe thead th {\n",
       "        text-align: right;\n",
       "    }\n",
       "</style>\n",
       "<table border=\"1\" class=\"dataframe\">\n",
       "  <thead>\n",
       "    <tr style=\"text-align: right;\">\n",
       "      <th></th>\n",
       "      <th>id</th>\n",
       "      <th>dateAdded</th>\n",
       "      <th>dateUpdated</th>\n",
       "      <th>name</th>\n",
       "      <th>asins</th>\n",
       "      <th>brand</th>\n",
       "      <th>categories</th>\n",
       "      <th>primaryCategories</th>\n",
       "      <th>imageURLs</th>\n",
       "      <th>keys</th>\n",
       "      <th>...</th>\n",
       "      <th>reviews.numHelpful</th>\n",
       "      <th>reviews.rating</th>\n",
       "      <th>reviews.sourceURLs</th>\n",
       "      <th>reviews.text</th>\n",
       "      <th>reviews.title</th>\n",
       "      <th>reviews.username</th>\n",
       "      <th>sourceURLs</th>\n",
       "      <th>lemmas</th>\n",
       "      <th>primary_topic</th>\n",
       "      <th>sentiment</th>\n",
       "    </tr>\n",
       "  </thead>\n",
       "  <tbody>\n",
       "    <tr>\n",
       "      <th>0</th>\n",
       "      <td>AVpgNzjwLJeJML43Kpxn</td>\n",
       "      <td>2015-10-30T08:59:32Z</td>\n",
       "      <td>2019-04-25T09:08:16Z</td>\n",
       "      <td>AmazonBasics AAA Performance Alkaline Batterie...</td>\n",
       "      <td>B00QWO9P0O,B00LH3DMUO</td>\n",
       "      <td>Amazonbasics</td>\n",
       "      <td>AA,AAA,Health,Electronics,Health &amp; Household,C...</td>\n",
       "      <td>Health &amp; Beauty</td>\n",
       "      <td>https://images-na.ssl-images-amazon.com/images...</td>\n",
       "      <td>amazonbasics/hl002619,amazonbasicsaaaperforman...</td>\n",
       "      <td>...</td>\n",
       "      <td>NaN</td>\n",
       "      <td>3</td>\n",
       "      <td>https://www.amazon.com/product-reviews/B00QWO9...</td>\n",
       "      <td>I order 3 of them and one of the item is bad q...</td>\n",
       "      <td>... 3 of them and one of the item is bad quali...</td>\n",
       "      <td>Byger yang</td>\n",
       "      <td>https://www.barcodable.com/upc/841710106442,ht...</td>\n",
       "      <td>[order, 3, item, bad, quality, miss, backup, s...</td>\n",
       "      <td>long time charge buy like</td>\n",
       "      <td>neutral</td>\n",
       "    </tr>\n",
       "    <tr>\n",
       "      <th>1</th>\n",
       "      <td>AVpgNzjwLJeJML43Kpxn</td>\n",
       "      <td>2015-10-30T08:59:32Z</td>\n",
       "      <td>2019-04-25T09:08:16Z</td>\n",
       "      <td>AmazonBasics AAA Performance Alkaline Batterie...</td>\n",
       "      <td>B00QWO9P0O,B00LH3DMUO</td>\n",
       "      <td>Amazonbasics</td>\n",
       "      <td>AA,AAA,Health,Electronics,Health &amp; Household,C...</td>\n",
       "      <td>Health &amp; Beauty</td>\n",
       "      <td>https://images-na.ssl-images-amazon.com/images...</td>\n",
       "      <td>amazonbasics/hl002619,amazonbasicsaaaperforman...</td>\n",
       "      <td>...</td>\n",
       "      <td>NaN</td>\n",
       "      <td>4</td>\n",
       "      <td>https://www.amazon.com/product-reviews/B00QWO9...</td>\n",
       "      <td>Bulk is always the less expensive way to go fo...</td>\n",
       "      <td>... always the less expensive way to go for pr...</td>\n",
       "      <td>ByMG</td>\n",
       "      <td>https://www.barcodable.com/upc/841710106442,ht...</td>\n",
       "      <td>[bulk, expensive, way, product, like]</td>\n",
       "      <td>long time charge buy like</td>\n",
       "      <td>positive</td>\n",
       "    </tr>\n",
       "    <tr>\n",
       "      <th>2</th>\n",
       "      <td>AVpgNzjwLJeJML43Kpxn</td>\n",
       "      <td>2015-10-30T08:59:32Z</td>\n",
       "      <td>2019-04-25T09:08:16Z</td>\n",
       "      <td>AmazonBasics AAA Performance Alkaline Batterie...</td>\n",
       "      <td>B00QWO9P0O,B00LH3DMUO</td>\n",
       "      <td>Amazonbasics</td>\n",
       "      <td>AA,AAA,Health,Electronics,Health &amp; Household,C...</td>\n",
       "      <td>Health &amp; Beauty</td>\n",
       "      <td>https://images-na.ssl-images-amazon.com/images...</td>\n",
       "      <td>amazonbasics/hl002619,amazonbasicsaaaperforman...</td>\n",
       "      <td>...</td>\n",
       "      <td>NaN</td>\n",
       "      <td>5</td>\n",
       "      <td>https://www.amazon.com/product-reviews/B00QWO9...</td>\n",
       "      <td>Well they are not Duracell but for the price i...</td>\n",
       "      <td>... are not Duracell but for the price i am ha...</td>\n",
       "      <td>BySharon Lambert</td>\n",
       "      <td>https://www.barcodable.com/upc/841710106442,ht...</td>\n",
       "      <td>[Duracell, price, happy]</td>\n",
       "      <td>long time charge buy like</td>\n",
       "      <td>positive</td>\n",
       "    </tr>\n",
       "    <tr>\n",
       "      <th>3</th>\n",
       "      <td>AVpgNzjwLJeJML43Kpxn</td>\n",
       "      <td>2015-10-30T08:59:32Z</td>\n",
       "      <td>2019-04-25T09:08:16Z</td>\n",
       "      <td>AmazonBasics AAA Performance Alkaline Batterie...</td>\n",
       "      <td>B00QWO9P0O,B00LH3DMUO</td>\n",
       "      <td>Amazonbasics</td>\n",
       "      <td>AA,AAA,Health,Electronics,Health &amp; Household,C...</td>\n",
       "      <td>Health &amp; Beauty</td>\n",
       "      <td>https://images-na.ssl-images-amazon.com/images...</td>\n",
       "      <td>amazonbasics/hl002619,amazonbasicsaaaperforman...</td>\n",
       "      <td>...</td>\n",
       "      <td>NaN</td>\n",
       "      <td>5</td>\n",
       "      <td>https://www.amazon.com/product-reviews/B00QWO9...</td>\n",
       "      <td>Seem to work as well as name brand batteries a...</td>\n",
       "      <td>... as well as name brand batteries at a much ...</td>\n",
       "      <td>Bymark sexson</td>\n",
       "      <td>https://www.barcodable.com/upc/841710106442,ht...</td>\n",
       "      <td>[work, brand, well, price]</td>\n",
       "      <td>good great price work buy</td>\n",
       "      <td>positive</td>\n",
       "    </tr>\n",
       "    <tr>\n",
       "      <th>4</th>\n",
       "      <td>AVpgNzjwLJeJML43Kpxn</td>\n",
       "      <td>2015-10-30T08:59:32Z</td>\n",
       "      <td>2019-04-25T09:08:16Z</td>\n",
       "      <td>AmazonBasics AAA Performance Alkaline Batterie...</td>\n",
       "      <td>B00QWO9P0O,B00LH3DMUO</td>\n",
       "      <td>Amazonbasics</td>\n",
       "      <td>AA,AAA,Health,Electronics,Health &amp; Household,C...</td>\n",
       "      <td>Health &amp; Beauty</td>\n",
       "      <td>https://images-na.ssl-images-amazon.com/images...</td>\n",
       "      <td>amazonbasics/hl002619,amazonbasicsaaaperforman...</td>\n",
       "      <td>...</td>\n",
       "      <td>NaN</td>\n",
       "      <td>5</td>\n",
       "      <td>https://www.amazon.com/product-reviews/B00QWO9...</td>\n",
       "      <td>These batteries are very long lasting the pric...</td>\n",
       "      <td>... batteries are very long lasting the price ...</td>\n",
       "      <td>Bylinda</td>\n",
       "      <td>https://www.barcodable.com/upc/841710106442,ht...</td>\n",
       "      <td>[long, last, price, great]</td>\n",
       "      <td>good great price work buy</td>\n",
       "      <td>positive</td>\n",
       "    </tr>\n",
       "  </tbody>\n",
       "</table>\n",
       "<p>5 rows × 27 columns</p>\n",
       "</div>"
      ],
      "text/plain": [
       "                     id             dateAdded           dateUpdated  \\\n",
       "0  AVpgNzjwLJeJML43Kpxn  2015-10-30T08:59:32Z  2019-04-25T09:08:16Z   \n",
       "1  AVpgNzjwLJeJML43Kpxn  2015-10-30T08:59:32Z  2019-04-25T09:08:16Z   \n",
       "2  AVpgNzjwLJeJML43Kpxn  2015-10-30T08:59:32Z  2019-04-25T09:08:16Z   \n",
       "3  AVpgNzjwLJeJML43Kpxn  2015-10-30T08:59:32Z  2019-04-25T09:08:16Z   \n",
       "4  AVpgNzjwLJeJML43Kpxn  2015-10-30T08:59:32Z  2019-04-25T09:08:16Z   \n",
       "\n",
       "                                                name                  asins  \\\n",
       "0  AmazonBasics AAA Performance Alkaline Batterie...  B00QWO9P0O,B00LH3DMUO   \n",
       "1  AmazonBasics AAA Performance Alkaline Batterie...  B00QWO9P0O,B00LH3DMUO   \n",
       "2  AmazonBasics AAA Performance Alkaline Batterie...  B00QWO9P0O,B00LH3DMUO   \n",
       "3  AmazonBasics AAA Performance Alkaline Batterie...  B00QWO9P0O,B00LH3DMUO   \n",
       "4  AmazonBasics AAA Performance Alkaline Batterie...  B00QWO9P0O,B00LH3DMUO   \n",
       "\n",
       "          brand                                         categories  \\\n",
       "0  Amazonbasics  AA,AAA,Health,Electronics,Health & Household,C...   \n",
       "1  Amazonbasics  AA,AAA,Health,Electronics,Health & Household,C...   \n",
       "2  Amazonbasics  AA,AAA,Health,Electronics,Health & Household,C...   \n",
       "3  Amazonbasics  AA,AAA,Health,Electronics,Health & Household,C...   \n",
       "4  Amazonbasics  AA,AAA,Health,Electronics,Health & Household,C...   \n",
       "\n",
       "  primaryCategories                                          imageURLs  \\\n",
       "0   Health & Beauty  https://images-na.ssl-images-amazon.com/images...   \n",
       "1   Health & Beauty  https://images-na.ssl-images-amazon.com/images...   \n",
       "2   Health & Beauty  https://images-na.ssl-images-amazon.com/images...   \n",
       "3   Health & Beauty  https://images-na.ssl-images-amazon.com/images...   \n",
       "4   Health & Beauty  https://images-na.ssl-images-amazon.com/images...   \n",
       "\n",
       "                                                keys  ... reviews.numHelpful  \\\n",
       "0  amazonbasics/hl002619,amazonbasicsaaaperforman...  ...                NaN   \n",
       "1  amazonbasics/hl002619,amazonbasicsaaaperforman...  ...                NaN   \n",
       "2  amazonbasics/hl002619,amazonbasicsaaaperforman...  ...                NaN   \n",
       "3  amazonbasics/hl002619,amazonbasicsaaaperforman...  ...                NaN   \n",
       "4  amazonbasics/hl002619,amazonbasicsaaaperforman...  ...                NaN   \n",
       "\n",
       "  reviews.rating                                 reviews.sourceURLs  \\\n",
       "0              3  https://www.amazon.com/product-reviews/B00QWO9...   \n",
       "1              4  https://www.amazon.com/product-reviews/B00QWO9...   \n",
       "2              5  https://www.amazon.com/product-reviews/B00QWO9...   \n",
       "3              5  https://www.amazon.com/product-reviews/B00QWO9...   \n",
       "4              5  https://www.amazon.com/product-reviews/B00QWO9...   \n",
       "\n",
       "                                        reviews.text  \\\n",
       "0  I order 3 of them and one of the item is bad q...   \n",
       "1  Bulk is always the less expensive way to go fo...   \n",
       "2  Well they are not Duracell but for the price i...   \n",
       "3  Seem to work as well as name brand batteries a...   \n",
       "4  These batteries are very long lasting the pric...   \n",
       "\n",
       "                                       reviews.title  reviews.username  \\\n",
       "0  ... 3 of them and one of the item is bad quali...        Byger yang   \n",
       "1  ... always the less expensive way to go for pr...              ByMG   \n",
       "2  ... are not Duracell but for the price i am ha...  BySharon Lambert   \n",
       "3  ... as well as name brand batteries at a much ...     Bymark sexson   \n",
       "4  ... batteries are very long lasting the price ...           Bylinda   \n",
       "\n",
       "                                          sourceURLs  \\\n",
       "0  https://www.barcodable.com/upc/841710106442,ht...   \n",
       "1  https://www.barcodable.com/upc/841710106442,ht...   \n",
       "2  https://www.barcodable.com/upc/841710106442,ht...   \n",
       "3  https://www.barcodable.com/upc/841710106442,ht...   \n",
       "4  https://www.barcodable.com/upc/841710106442,ht...   \n",
       "\n",
       "                                              lemmas  \\\n",
       "0  [order, 3, item, bad, quality, miss, backup, s...   \n",
       "1              [bulk, expensive, way, product, like]   \n",
       "2                           [Duracell, price, happy]   \n",
       "3                         [work, brand, well, price]   \n",
       "4                         [long, last, price, great]   \n",
       "\n",
       "               primary_topic sentiment  \n",
       "0  long time charge buy like   neutral  \n",
       "1  long time charge buy like  positive  \n",
       "2  long time charge buy like  positive  \n",
       "3  good great price work buy  positive  \n",
       "4  good great price work buy  positive  \n",
       "\n",
       "[5 rows x 27 columns]"
      ]
     },
     "execution_count": 38,
     "metadata": {},
     "output_type": "execute_result"
    }
   ],
   "source": [
    "def sentimentalize(stars):\n",
    "    if stars == 3:\n",
    "        return \"neutral\"\n",
    "    elif stars > 3:\n",
    "        return \"positive\"\n",
    "    else: \n",
    "        return \"negative\"\n",
    "    \n",
    "df['sentiment'] = df['reviews.rating'].apply(sentimentalize)\n",
    "\n",
    "df.head()"
   ]
  },
  {
   "cell_type": "code",
   "execution_count": 39,
   "metadata": {},
   "outputs": [
    {
     "name": "stderr",
     "output_type": "stream",
     "text": [
      "/home/jepoy/miniconda3/envs/ds-unit-4/lib/python3.7/site-packages/ipykernel/ipkernel.py:287: DeprecationWarning: `should_run_async` will not call `transform_cell` automatically in the future. Please pass the result to `transformed_cell` argument and any exception that happen during thetransform in `preprocessing_exc_tuple` in IPython 7.17 and above.\n",
      "  and should_run_async(code)\n"
     ]
    }
   ],
   "source": [
    "doc_topics = [lda[doc] for doc in corpus]"
   ]
  },
  {
   "cell_type": "code",
   "execution_count": 40,
   "metadata": {},
   "outputs": [
    {
     "name": "stderr",
     "output_type": "stream",
     "text": [
      "/home/jepoy/miniconda3/envs/ds-unit-4/lib/python3.7/site-packages/ipykernel/ipkernel.py:287: DeprecationWarning: `should_run_async` will not call `transform_cell` automatically in the future. Please pass the result to `transformed_cell` argument and any exception that happen during thetransform in `preprocessing_exc_tuple` in IPython 7.17 and above.\n",
      "  and should_run_async(code)\n"
     ]
    }
   ],
   "source": [
    "def update(doc):\n",
    "        d_dist = {k:0 for k in range(0,5)}\n",
    "        for t in doc:\n",
    "            d_dist[t[0]] = t[1]\n",
    "        return d_dist\n",
    "    \n",
    "new_distro = [update(d) for d in doc_topics]"
   ]
  },
  {
   "cell_type": "code",
   "execution_count": 41,
   "metadata": {},
   "outputs": [
    {
     "name": "stderr",
     "output_type": "stream",
     "text": [
      "/home/jepoy/miniconda3/envs/ds-unit-4/lib/python3.7/site-packages/ipykernel/ipkernel.py:287: DeprecationWarning: `should_run_async` will not call `transform_cell` automatically in the future. Please pass the result to `transformed_cell` argument and any exception that happen during thetransform in `preprocessing_exc_tuple` in IPython 7.17 and above.\n",
      "  and should_run_async(code)\n"
     ]
    }
   ],
   "source": [
    "dft = pd.DataFrame.from_records(new_distro)\n",
    "dft.columns = topics"
   ]
  },
  {
   "cell_type": "code",
   "execution_count": 42,
   "metadata": {},
   "outputs": [
    {
     "name": "stderr",
     "output_type": "stream",
     "text": [
      "/home/jepoy/miniconda3/envs/ds-unit-4/lib/python3.7/site-packages/ipykernel/ipkernel.py:287: DeprecationWarning: `should_run_async` will not call `transform_cell` automatically in the future. Please pass the result to `transformed_cell` argument and any exception that happen during thetransform in `preprocessing_exc_tuple` in IPython 7.17 and above.\n",
      "  and should_run_async(code)\n"
     ]
    }
   ],
   "source": [
    "df['primary_topic'] = dft.idxmax(axis=1)"
   ]
  },
  {
   "cell_type": "code",
   "execution_count": 43,
   "metadata": {},
   "outputs": [
    {
     "name": "stderr",
     "output_type": "stream",
     "text": [
      "/home/jepoy/miniconda3/envs/ds-unit-4/lib/python3.7/site-packages/ipykernel/ipkernel.py:287: DeprecationWarning: `should_run_async` will not call `transform_cell` automatically in the future. Please pass the result to `transformed_cell` argument and any exception that happen during thetransform in `preprocessing_exc_tuple` in IPython 7.17 and above.\n",
      "  and should_run_async(code)\n"
     ]
    },
    {
     "data": {
      "text/plain": [
       "(array([0, 1, 2, 3, 4]),\n",
       " [Text(0, 0, 'long time charge buy like'),\n",
       "  Text(1, 0, 'good great price work buy'),\n",
       "  Text(2, 0, 'read easy book use great'),\n",
       "  Text(3, 0, 'tablet app kid great game'),\n",
       "  Text(4, 0, 'love old buy year tablet')])"
      ]
     },
     "execution_count": 43,
     "metadata": {},
     "output_type": "execute_result"
    },
    {
     "data": {
      "image/png": "[encoded data removed]",
      "text/plain": [
       "<Figure size 432x288 with 1 Axes>"
      ]
     },
     "metadata": {
      "needs_background": "light"
     },
     "output_type": "display_data"
    }
   ],
   "source": [
    "import seaborn as sns\n",
    "import matplotlib.pyplot as plt\n",
    "\n",
    "ax = sns.countplot(x=\"primary_topic\", hue=\"sentiment\", data=df)\n",
    "plt.xticks(rotation=90)"
   ]
  },
  {
   "cell_type": "markdown",
   "metadata": {},
   "source": [
    "I created a sentiment analysis of the LSA results to show how the sentiments range between the different top 5 topics. As expected, since my model's parameters were not hyptertuned well, the distribution of sentiment aligns closely with the general distribution of ratings; that is to say, since most of the ratings were positive to begin with, and neutral ratings of 3 were the least frequent, the sentiment between the models showed the same distribution. I think yelp reviews are particularly difficult to find good topics for, since the range of descriptors are so few that the same words repeat. It would be beneficial in the future to lower the max_df parameter of the vectorizer so that it doesn't pull words that show up in the vast majority of the reviews. This would increase the salience of specific words"
   ]
  },
  {
   "cell_type": "markdown",
   "metadata": {},
   "source": [
    "## Compare vectorization methods in the classification section"
   ]
  },
  {
   "cell_type": "markdown",
   "metadata": {},
   "source": [
    "## Incorporate RandomizedSearchCV into document classification pipeline"
   ]
  },
  {
   "cell_type": "code",
   "execution_count": null,
   "metadata": {},
   "outputs": [],
   "source": []
  },
  {
   "cell_type": "code",
   "execution_count": null,
   "metadata": {},
   "outputs": [],
   "source": []
  },
  {
   "cell_type": "markdown",
   "metadata": {},
   "source": [
    "## Stretch Goals\n",
    "\n",
    "* Incorporate Named Entity Recognition in your analysis\n",
    "* Incorporate some custom pre-processing from our previous lessons (like spacy lemmatization)\n",
    "* Analyze a dataset of interest to you with topic modeling"
   ]
  },
  {
   "cell_type": "code",
   "execution_count": null,
   "metadata": {},
   "outputs": [],
   "source": []
  }
 ],
 "metadata": {
  "kernelspec": {
   "display_name": "ds-unit-4 (Python3)",
   "language": "python",
   "name": "ds-unit-4"
  },
  "language_info": {
   "codemirror_mode": {
    "name": "ipython",
    "version": 3
   },
   "file_extension": ".py",
   "mimetype": "text/x-python",
   "name": "python",
   "nbconvert_exporter": "python",
   "pygments_lexer": "ipython3",
   "version": "3.7.0"
  }
 },
 "nbformat": 4,
 "nbformat_minor": 4
}
