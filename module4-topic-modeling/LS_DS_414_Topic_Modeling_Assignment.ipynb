{
 "cells": [
  {
   "cell_type": "markdown",
   "metadata": {},
   "source": [
    "<img align=\"left\" src=\"https://lever-client-logos.s3.amazonaws.com/864372b1-534c-480e-acd5-9711f850815c-1524247202159.png\" width=200>\n",
    "<br></br>\n",
    "<br></br>\n",
    "\n",
    "# Topic Modeling\n",
    "## *Data Science Unit 4 Sprint 1 Assignment 4*\n",
    "\n",
    "Analyze a corpus of Amazon reviews from Unit 4 Sprint 1 Module 1's lecture using topic modeling: \n",
    "\n",
    "- Fit a Gensim LDA topic model on Amazon Reviews\n",
    "- Select appropriate number of topics\n",
    "- Create some dope visualization of the topics\n",
    "- Write a few bullets on your findings in markdown at the end\n",
    "- **Note**: You don't *have* to use generators for this assignment"
   ]
  },
  {
   "cell_type": "code",
   "execution_count": 1,
   "metadata": {},
   "outputs": [],
   "source": [
    "#Start Here"
   ]
  },
  {
   "cell_type": "markdown",
   "metadata": {},
   "source": [
    "## Approach\n",
    "* Apply NLP to Amazon Reviews\n",
    "* Estimate a topic model on the Amazon Reviews\n",
    "* Create visualizations relating the topics to the review scores\n"
   ]
  },
  {
   "cell_type": "code",
   "execution_count": 2,
   "metadata": {},
   "outputs": [],
   "source": [
    "import pandas as pd\n",
    "\n",
    "df = pd.read_csv('../module1-text-data/data/Datafiniti_Amazon_Consumer_Reviews_of_Amazon_Products_May19.csv')"
   ]
  },
  {
   "cell_type": "code",
   "execution_count": 4,
   "metadata": {},
   "outputs": [
    {
     "data": {
      "text/html": [
       "<div>\n",
       "<style scoped>\n",
       "    .dataframe tbody tr th:only-of-type {\n",
       "        vertical-align: middle;\n",
       "    }\n",
       "\n",
       "    .dataframe tbody tr th {\n",
       "        vertical-align: top;\n",
       "    }\n",
       "\n",
       "    .dataframe thead th {\n",
       "        text-align: right;\n",
       "    }\n",
       "</style>\n",
       "<table border=\"1\" class=\"dataframe\">\n",
       "  <thead>\n",
       "    <tr style=\"text-align: right;\">\n",
       "      <th></th>\n",
       "      <th>id</th>\n",
       "      <th>dateAdded</th>\n",
       "      <th>dateUpdated</th>\n",
       "      <th>name</th>\n",
       "      <th>asins</th>\n",
       "      <th>brand</th>\n",
       "      <th>categories</th>\n",
       "      <th>primaryCategories</th>\n",
       "      <th>imageURLs</th>\n",
       "      <th>keys</th>\n",
       "      <th>...</th>\n",
       "      <th>reviews.didPurchase</th>\n",
       "      <th>reviews.doRecommend</th>\n",
       "      <th>reviews.id</th>\n",
       "      <th>reviews.numHelpful</th>\n",
       "      <th>reviews.rating</th>\n",
       "      <th>reviews.sourceURLs</th>\n",
       "      <th>reviews.text</th>\n",
       "      <th>reviews.title</th>\n",
       "      <th>reviews.username</th>\n",
       "      <th>sourceURLs</th>\n",
       "    </tr>\n",
       "  </thead>\n",
       "  <tbody>\n",
       "    <tr>\n",
       "      <th>0</th>\n",
       "      <td>AVpgNzjwLJeJML43Kpxn</td>\n",
       "      <td>2015-10-30T08:59:32Z</td>\n",
       "      <td>2019-04-25T09:08:16Z</td>\n",
       "      <td>AmazonBasics AAA Performance Alkaline Batterie...</td>\n",
       "      <td>B00QWO9P0O,B00LH3DMUO</td>\n",
       "      <td>Amazonbasics</td>\n",
       "      <td>AA,AAA,Health,Electronics,Health &amp; Household,C...</td>\n",
       "      <td>Health &amp; Beauty</td>\n",
       "      <td>https://images-na.ssl-images-amazon.com/images...</td>\n",
       "      <td>amazonbasics/hl002619,amazonbasicsaaaperforman...</td>\n",
       "      <td>...</td>\n",
       "      <td>NaN</td>\n",
       "      <td>NaN</td>\n",
       "      <td>NaN</td>\n",
       "      <td>NaN</td>\n",
       "      <td>3</td>\n",
       "      <td>https://www.amazon.com/product-reviews/B00QWO9...</td>\n",
       "      <td>I order 3 of them and one of the item is bad q...</td>\n",
       "      <td>... 3 of them and one of the item is bad quali...</td>\n",
       "      <td>Byger yang</td>\n",
       "      <td>https://www.barcodable.com/upc/841710106442,ht...</td>\n",
       "    </tr>\n",
       "    <tr>\n",
       "      <th>1</th>\n",
       "      <td>AVpgNzjwLJeJML43Kpxn</td>\n",
       "      <td>2015-10-30T08:59:32Z</td>\n",
       "      <td>2019-04-25T09:08:16Z</td>\n",
       "      <td>AmazonBasics AAA Performance Alkaline Batterie...</td>\n",
       "      <td>B00QWO9P0O,B00LH3DMUO</td>\n",
       "      <td>Amazonbasics</td>\n",
       "      <td>AA,AAA,Health,Electronics,Health &amp; Household,C...</td>\n",
       "      <td>Health &amp; Beauty</td>\n",
       "      <td>https://images-na.ssl-images-amazon.com/images...</td>\n",
       "      <td>amazonbasics/hl002619,amazonbasicsaaaperforman...</td>\n",
       "      <td>...</td>\n",
       "      <td>NaN</td>\n",
       "      <td>NaN</td>\n",
       "      <td>NaN</td>\n",
       "      <td>NaN</td>\n",
       "      <td>4</td>\n",
       "      <td>https://www.amazon.com/product-reviews/B00QWO9...</td>\n",
       "      <td>Bulk is always the less expensive way to go fo...</td>\n",
       "      <td>... always the less expensive way to go for pr...</td>\n",
       "      <td>ByMG</td>\n",
       "      <td>https://www.barcodable.com/upc/841710106442,ht...</td>\n",
       "    </tr>\n",
       "  </tbody>\n",
       "</table>\n",
       "<p>2 rows × 24 columns</p>\n",
       "</div>"
      ],
      "text/plain": [
       "                     id             dateAdded           dateUpdated  \\\n",
       "0  AVpgNzjwLJeJML43Kpxn  2015-10-30T08:59:32Z  2019-04-25T09:08:16Z   \n",
       "1  AVpgNzjwLJeJML43Kpxn  2015-10-30T08:59:32Z  2019-04-25T09:08:16Z   \n",
       "\n",
       "                                                name                  asins  \\\n",
       "0  AmazonBasics AAA Performance Alkaline Batterie...  B00QWO9P0O,B00LH3DMUO   \n",
       "1  AmazonBasics AAA Performance Alkaline Batterie...  B00QWO9P0O,B00LH3DMUO   \n",
       "\n",
       "          brand                                         categories  \\\n",
       "0  Amazonbasics  AA,AAA,Health,Electronics,Health & Household,C...   \n",
       "1  Amazonbasics  AA,AAA,Health,Electronics,Health & Household,C...   \n",
       "\n",
       "  primaryCategories                                          imageURLs  \\\n",
       "0   Health & Beauty  https://images-na.ssl-images-amazon.com/images...   \n",
       "1   Health & Beauty  https://images-na.ssl-images-amazon.com/images...   \n",
       "\n",
       "                                                keys  ... reviews.didPurchase  \\\n",
       "0  amazonbasics/hl002619,amazonbasicsaaaperforman...  ...                 NaN   \n",
       "1  amazonbasics/hl002619,amazonbasicsaaaperforman...  ...                 NaN   \n",
       "\n",
       "  reviews.doRecommend reviews.id reviews.numHelpful reviews.rating  \\\n",
       "0                 NaN        NaN                NaN              3   \n",
       "1                 NaN        NaN                NaN              4   \n",
       "\n",
       "                                  reviews.sourceURLs  \\\n",
       "0  https://www.amazon.com/product-reviews/B00QWO9...   \n",
       "1  https://www.amazon.com/product-reviews/B00QWO9...   \n",
       "\n",
       "                                        reviews.text  \\\n",
       "0  I order 3 of them and one of the item is bad q...   \n",
       "1  Bulk is always the less expensive way to go fo...   \n",
       "\n",
       "                                       reviews.title  reviews.username  \\\n",
       "0  ... 3 of them and one of the item is bad quali...        Byger yang   \n",
       "1  ... always the less expensive way to go for pr...              ByMG   \n",
       "\n",
       "                                          sourceURLs  \n",
       "0  https://www.barcodable.com/upc/841710106442,ht...  \n",
       "1  https://www.barcodable.com/upc/841710106442,ht...  \n",
       "\n",
       "[2 rows x 24 columns]"
      ]
     },
     "execution_count": 4,
     "metadata": {},
     "output_type": "execute_result"
    }
   ],
   "source": [
    "df.head(2)"
   ]
  },
  {
   "cell_type": "code",
   "execution_count": 8,
   "metadata": {},
   "outputs": [
    {
     "data": {
      "text/plain": [
       "'I order 3 of them and one of the item is bad quality. Is missing backup spring so I have to put a pcs of aluminum to make the battery work.'"
      ]
     },
     "execution_count": 8,
     "metadata": {},
     "output_type": "execute_result"
    }
   ],
   "source": [
    "df['reviews.text'][0]"
   ]
  },
  {
   "cell_type": "markdown",
   "metadata": {},
   "source": [
    "# Applying NLP\n",
    "* We need to tokenize the text\n",
    "* How should we do it?\n",
    "- Use Spacy\n",
    "- Figure our what our unit of analysis (lemmas, adj, keywords, nouns, spacy tokens, etc.) Try different ones\n",
    "- Keyword extraction NEW TECHNIQUE"
   ]
  },
  {
   "cell_type": "code",
   "execution_count": 9,
   "metadata": {},
   "outputs": [],
   "source": [
    "import spacy\n",
    "\n",
    "nlp = spacy.load('en_core_web_lg')"
   ]
  },
  {
   "cell_type": "code",
   "execution_count": 11,
   "metadata": {},
   "outputs": [],
   "source": [
    "# Try Lemmatization as our first Experiment\n",
    "\n",
    "def get_lemmas(text):\n",
    "    \n",
    "    lemmas = []\n",
    "    \n",
    "    doc = nlp(text)\n",
    "    \n",
    "    STOP_WORDS = nlp.Defaults.stop_words.union(['batteries','I', 'amazon', 'i', 'Amazon', 'it', \"it's\", 'it.', 'the', 'this', 'tablet.'])\n",
    "    \n",
    "    for token in doc:\n",
    "        conditions = (token.is_stop == False) and (token.is_punct == False) and (token.pos_ != 'PRON') and (token.text not in STOP_WORDS)\n",
    "        if conditions:\n",
    "            lemmas.append(token.lemma_)\n",
    "    \n",
    "    return lemmas"
   ]
  },
  {
   "cell_type": "code",
   "execution_count": 12,
   "metadata": {},
   "outputs": [
    {
     "name": "stderr",
     "output_type": "stream",
     "text": [
      "/home/jepoy/miniconda3/envs/ds-unit-4/lib/python3.7/site-packages/tqdm/std.py:668: FutureWarning: The Panel class is removed from pandas. Accessing it from the top-level namespace will also be removed in the next version\n",
      "  from pandas import Panel\n"
     ]
    }
   ],
   "source": [
    "from tqdm import tqdm\n",
    "tqdm.pandas()"
   ]
  },
  {
   "cell_type": "code",
   "execution_count": 13,
   "metadata": {},
   "outputs": [
    {
     "name": "stderr",
     "output_type": "stream",
     "text": [
      "100%|██████████| 28332/28332 [02:57<00:00, 159.85it/s]\n"
     ]
    }
   ],
   "source": [
    "df['lemmas'] = df['reviews.text'].progress_apply(get_lemmas)"
   ]
  },
  {
   "cell_type": "markdown",
   "metadata": {},
   "source": [
    "## Topic Modeling w/ Gensim\n",
    "* Learn a Vocabulary\n",
    "* Create a Bag of Words (BoW) representation of each document\n",
    "* Estimate our LDA model\n",
    "* Clean up the results\n",
    "* Add topic information back to dataframe"
   ]
  },
  {
   "cell_type": "code",
   "execution_count": 17,
   "metadata": {},
   "outputs": [],
   "source": [
    "import gensim\n",
    "from gensim import corpora\n",
    "from gensim.models.ldamulticore import LdaMulticore"
   ]
  },
  {
   "cell_type": "code",
   "execution_count": 18,
   "metadata": {},
   "outputs": [],
   "source": [
    "# like countVectorizer fit\n",
    "\n",
    "id2word = corpora.Dictionary(df['lemmas'])"
   ]
  },
  {
   "cell_type": "code",
   "execution_count": 19,
   "metadata": {},
   "outputs": [],
   "source": [
    "# for statistical trimming\n",
    "id2word.filter_extremes(no_below=50, no_above=.90)"
   ]
  },
  {
   "cell_type": "code",
   "execution_count": 20,
   "metadata": {},
   "outputs": [
    {
     "data": {
      "text/plain": [
       "787"
      ]
     },
     "execution_count": 20,
     "metadata": {},
     "output_type": "execute_result"
    }
   ],
   "source": [
    "#how big is corpus\n",
    "len(id2word.keys())"
   ]
  },
  {
   "cell_type": "code",
   "execution_count": 21,
   "metadata": {},
   "outputs": [
    {
     "data": {
      "text/plain": [
       "'3'"
      ]
     },
     "execution_count": 21,
     "metadata": {},
     "output_type": "execute_result"
    }
   ],
   "source": [
    "id2word[0]"
   ]
  },
  {
   "cell_type": "code",
   "execution_count": 22,
   "metadata": {},
   "outputs": [],
   "source": [
    "# Transform\n",
    "\n",
    "corpus = [id2word.doc2bow(doc) for doc in df['lemmas']]"
   ]
  },
  {
   "cell_type": "code",
   "execution_count": 24,
   "metadata": {},
   "outputs": [
    {
     "data": {
      "text/html": [
       "<div>\n",
       "<style scoped>\n",
       "    .dataframe tbody tr th:only-of-type {\n",
       "        vertical-align: middle;\n",
       "    }\n",
       "\n",
       "    .dataframe tbody tr th {\n",
       "        vertical-align: top;\n",
       "    }\n",
       "\n",
       "    .dataframe thead th {\n",
       "        text-align: right;\n",
       "    }\n",
       "</style>\n",
       "<table border=\"1\" class=\"dataframe\">\n",
       "  <thead>\n",
       "    <tr style=\"text-align: right;\">\n",
       "      <th></th>\n",
       "      <th>reviews.text</th>\n",
       "      <th>lemmas</th>\n",
       "    </tr>\n",
       "  </thead>\n",
       "  <tbody>\n",
       "    <tr>\n",
       "      <th>0</th>\n",
       "      <td>I order 3 of them and one of the item is bad q...</td>\n",
       "      <td>[order, 3, item, bad, quality, miss, backup, s...</td>\n",
       "    </tr>\n",
       "    <tr>\n",
       "      <th>1</th>\n",
       "      <td>Bulk is always the less expensive way to go fo...</td>\n",
       "      <td>[bulk, expensive, way, product, like]</td>\n",
       "    </tr>\n",
       "    <tr>\n",
       "      <th>2</th>\n",
       "      <td>Well they are not Duracell but for the price i...</td>\n",
       "      <td>[Duracell, price, happy]</td>\n",
       "    </tr>\n",
       "    <tr>\n",
       "      <th>3</th>\n",
       "      <td>Seem to work as well as name brand batteries a...</td>\n",
       "      <td>[work, brand, well, price]</td>\n",
       "    </tr>\n",
       "    <tr>\n",
       "      <th>4</th>\n",
       "      <td>These batteries are very long lasting the pric...</td>\n",
       "      <td>[long, last, price, great]</td>\n",
       "    </tr>\n",
       "    <tr>\n",
       "      <th>...</th>\n",
       "      <td>...</td>\n",
       "      <td>...</td>\n",
       "    </tr>\n",
       "    <tr>\n",
       "      <th>28327</th>\n",
       "      <td>I got 2 of these for my 8 yr old twins. My 11 ...</td>\n",
       "      <td>[get, 2, 8, yr, old, twin, 11, yr, old, well, ...</td>\n",
       "    </tr>\n",
       "    <tr>\n",
       "      <th>28328</th>\n",
       "      <td>I bought this for my niece for a Christmas gif...</td>\n",
       "      <td>[buy, niece, Christmas, gift.she, 9, year, old...</td>\n",
       "    </tr>\n",
       "    <tr>\n",
       "      <th>28329</th>\n",
       "      <td>Very nice for light internet browsing, keeping...</td>\n",
       "      <td>[nice, light, internet, browsing, keep, email,...</td>\n",
       "    </tr>\n",
       "    <tr>\n",
       "      <th>28330</th>\n",
       "      <td>This Tablet does absolutely everything I want!...</td>\n",
       "      <td>[Tablet, absolutely, want, watch, tv, show, mo...</td>\n",
       "    </tr>\n",
       "    <tr>\n",
       "      <th>28331</th>\n",
       "      <td>At ninety dollars, the expectionations are low...</td>\n",
       "      <td>[ninety, dollar, expectionation, low, good, ta...</td>\n",
       "    </tr>\n",
       "  </tbody>\n",
       "</table>\n",
       "<p>28332 rows × 2 columns</p>\n",
       "</div>"
      ],
      "text/plain": [
       "                                            reviews.text  \\\n",
       "0      I order 3 of them and one of the item is bad q...   \n",
       "1      Bulk is always the less expensive way to go fo...   \n",
       "2      Well they are not Duracell but for the price i...   \n",
       "3      Seem to work as well as name brand batteries a...   \n",
       "4      These batteries are very long lasting the pric...   \n",
       "...                                                  ...   \n",
       "28327  I got 2 of these for my 8 yr old twins. My 11 ...   \n",
       "28328  I bought this for my niece for a Christmas gif...   \n",
       "28329  Very nice for light internet browsing, keeping...   \n",
       "28330  This Tablet does absolutely everything I want!...   \n",
       "28331  At ninety dollars, the expectionations are low...   \n",
       "\n",
       "                                                  lemmas  \n",
       "0      [order, 3, item, bad, quality, miss, backup, s...  \n",
       "1                  [bulk, expensive, way, product, like]  \n",
       "2                               [Duracell, price, happy]  \n",
       "3                             [work, brand, well, price]  \n",
       "4                             [long, last, price, great]  \n",
       "...                                                  ...  \n",
       "28327  [get, 2, 8, yr, old, twin, 11, yr, old, well, ...  \n",
       "28328  [buy, niece, Christmas, gift.she, 9, year, old...  \n",
       "28329  [nice, light, internet, browsing, keep, email,...  \n",
       "28330  [Tablet, absolutely, want, watch, tv, show, mo...  \n",
       "28331  [ninety, dollar, expectionation, low, good, ta...  \n",
       "\n",
       "[28332 rows x 2 columns]"
      ]
     },
     "execution_count": 24,
     "metadata": {},
     "output_type": "execute_result"
    }
   ],
   "source": [
    "df[['reviews.text', 'lemmas']]"
   ]
  },
  {
   "cell_type": "code",
   "execution_count": 25,
   "metadata": {},
   "outputs": [],
   "source": [
    "# the key to LDA is in the preprocessing than it is in the modeling\n",
    "\n",
    "lda = LdaMulticore(corpus=corpus,\n",
    "                   id2word=id2word,\n",
    "                   num_topics = 5, # 15 to 5\n",
    "                   passes=10, # 2 to 15, usually 100 to get better results\n",
    "                   workers=12,\n",
    "                   random_state=42)\n",
    "\n",
    "# parameter to tune are\n",
    "#.num_topics\n",
    "#.passes\n",
    "\n",
    "# need more passes\n",
    "# need more stop words\n",
    "# need statical trimming see id2word\n",
    "\n",
    "# look up coherence scores"
   ]
  },
  {
   "cell_type": "code",
   "execution_count": 26,
   "metadata": {},
   "outputs": [
    {
     "data": {
      "text/plain": [
       "[(0,\n",
       "  '0.069*\"tablet\" + 0.034*\"app\" + 0.032*\"kid\" + 0.030*\"great\" + 0.021*\"game\" + 0.017*\"good\" + 0.015*\"time\" + 0.014*\"play\" + 0.014*\"use\" + 0.012*\"download\"'),\n",
       " (1,\n",
       "  '0.089*\"good\" + 0.086*\"great\" + 0.059*\"price\" + 0.046*\"work\" + 0.032*\"buy\" + 0.023*\"tablet\" + 0.022*\"product\" + 0.022*\"battery\" + 0.014*\"quality\" + 0.013*\"life\"'),\n",
       " (2,\n",
       "  '0.039*\"read\" + 0.033*\"easy\" + 0.029*\"book\" + 0.028*\"use\" + 0.028*\"great\" + 0.027*\"tablet\" + 0.022*\"screen\" + 0.019*\"like\" + 0.016*\"Kindle\" + 0.015*\"love\"'),\n",
       " (3,\n",
       "  '0.094*\"love\" + 0.046*\"old\" + 0.040*\"buy\" + 0.040*\"year\" + 0.036*\"tablet\" + 0.034*\"use\" + 0.028*\"easy\" + 0.026*\"great\" + 0.023*\"gift\" + 0.021*\"purchase\"'),\n",
       " (4,\n",
       "  '0.021*\"long\" + 0.017*\"time\" + 0.016*\"charge\" + 0.016*\"buy\" + 0.014*\"like\" + 0.014*\"Kindle\" + 0.013*\"battery\" + 0.012*\"brand\" + 0.011*\"work\" + 0.010*\"purchase\"')]"
      ]
     },
     "execution_count": 26,
     "metadata": {},
     "output_type": "execute_result"
    }
   ],
   "source": [
    "lda.print_topics()"
   ]
  },
  {
   "cell_type": "code",
   "execution_count": 27,
   "metadata": {},
   "outputs": [],
   "source": [
    "import re\n",
    "\n",
    "words = [re.findall(r'\"([^\"]*)\"', t[1]) for t in lda.print_topics()]"
   ]
  },
  {
   "cell_type": "code",
   "execution_count": 28,
   "metadata": {},
   "outputs": [],
   "source": [
    "topics = [' '.join(t[0:5]) for t in words]"
   ]
  },
  {
   "cell_type": "code",
   "execution_count": 29,
   "metadata": {},
   "outputs": [
    {
     "name": "stdout",
     "output_type": "stream",
     "text": [
      "------- Topic 0 -------\n",
      "tablet app kid great game\n",
      "\n",
      "------- Topic 1 -------\n",
      "good great price work buy\n",
      "\n",
      "------- Topic 2 -------\n",
      "read easy book use great\n",
      "\n",
      "------- Topic 3 -------\n",
      "love old buy year tablet\n",
      "\n",
      "------- Topic 4 -------\n",
      "long time charge buy like\n",
      "\n"
     ]
    }
   ],
   "source": [
    "for id, t in enumerate(topics):\n",
    "    print(f\"------- Topic {id} -------\")\n",
    "    print(t, end=\"\\n\\n\")"
   ]
  },
  {
   "cell_type": "markdown",
   "metadata": {},
   "source": [
    "## Analyzing the Results of LDA\n",
    "- How good are the topics themselves?\n",
    "    * Using tntertopic distance visualization\n",
    "    * Looking at some of the tokens distributions\n",
    "- Using the LDA topics for analysis:\n",
    "    * Score each review with a top topic\n",
    "    * Summary visualization of top topic versus sentiment"
   ]
  },
  {
   "cell_type": "code",
   "execution_count": 30,
   "metadata": {},
   "outputs": [],
   "source": [
    "import pyLDAvis.gensim\n",
    "\n",
    "pyLDAvis.enable_notebook()"
   ]
  },
  {
   "cell_type": "code",
   "execution_count": 31,
   "metadata": {},
   "outputs": [
    {
     "name": "stderr",
     "output_type": "stream",
     "text": [
      "/home/jepoy/miniconda3/envs/ds-unit-4/lib/python3.7/site-packages/ipykernel/ipkernel.py:287: DeprecationWarning: `should_run_async` will not call `transform_cell` automatically in the future. Please pass the result to `transformed_cell` argument and any exception that happen during thetransform in `preprocessing_exc_tuple` in IPython 7.17 and above.\n",
      "  and should_run_async(code)\n"
     ]
    },
    {
     "data": {
      "text/html": [
       "\n",
       "<link rel=\"stylesheet\" type=\"text/css\" href=\"https://cdn.rawgit.com/bmabey/pyLDAvis/files/ldavis.v1.0.0.css\">\n",
       "\n",
       "\n",
       "<div id=\"ldavis_el4391400133932908487849763505\"></div>\n",
       "<script type=\"text/javascript\">\n",
       "\n",
       "var ldavis_el4391400133932908487849763505_data = {\"mdsDat\": {\"x\": [0.13095311777506263, 0.014103500964109072, 0.09066809184054753, -0.03292045403446505, -0.20280425654525422], \"y\": [0.11908040466440697, -0.015073986165041884, -0.08951277468704164, -0.06006914319817812, 0.0455754993858548], \"topics\": [1, 2, 3, 4, 5], \"cluster\": [1, 1, 1, 1, 1], \"Freq\": [25.67186969014439, 19.366536939935276, 19.127379155907597, 19.062871359806252, 16.771342854206484]}, \"tinfo\": {\"Term\": [\"love\", \"good\", \"great\", \"read\", \"price\", \"old\", \"tablet\", \"year\", \"easy\", \"work\", \"app\", \"kid\", \"book\", \"gift\", \"battery\", \"buy\", \"charge\", \"long\", \"Christmas\", \"brand\", \"use\", \"value\", \"deal\", \"daughter\", \"screen\", \"life\", \"son\", \"grandson\", \"time\", \"quality\", \"keyboard\", \"Energizer\", \"plug\", \"Paperwhite\", \"drain\", \"Alkaline\", \"port\", \"anymore\", \"cable\", \"dead\", \"candle\", \"batch\", \"Batteries\", \"led\", \"appear\", \"lasting\", \"Duracell\", \"notice\", \"Xbox\", \"longevity\", \"sit\", \"energizer\", \"pair\", \"half\", \"flash\", \"press\", \"test\", \"leak\", \"charge\", \"loose\", \"charger\", \"button\", \"AmazonBasics\", \"mouse\", \"turn\", \"power\", \"difference\", \"remote\", \"week\", \"try\", \"long\", \"AA\", \"last\", \"longer\", \"page\", \"box\", \"brand\", \"time\", \"change\", \"problem\", \"go\", \"replace\", \"Kindle\", \"battery\", \"new\", \"find\", \"issue\", \"day\", \"device\", \"like\", \"review\", \"come\", \"buy\", \"purchase\", \"month\", \"work\", \"screen\", \"well\", \"use\", \"Fire\", \"price\", \"kindle\", \"far\", \"fire\", \"need\", \"paper\", \"bed\", \"voice\", \"class\", \"Tap\", \"ebook\", \"lighting\", \"lightweight\", \"Echo\", \"eye\", \"read\", \"echo\", \"weight\", \"purse\", \"crisp\", \"compact\", \"bag\", \"tap\", \"e\", \"portability\", \"adjust\", \"dark\", \"avid\", \"carry\", \"book\", \"search\", \"text\", \"person\", \"HD\", \"Alexa\", \"reader\", \"portable\", \"light\", \"clear\", \"listen\", \"screen\", \"easy\", \"small\", \"size\", \"nice\", \"Kindle\", \"speaker\", \"like\", \"use\", \"big\", \"music\", \"recommend\", \"Fire\", \"large\", \"need\", \"sound\", \"tablet\", \"great\", \"enjoy\", \"little\", \"8\", \"want\", \"love\", \"fast\", \"purchase\", \"make\", \"device\", \"buy\", \"product\", \"good\", \"price\", \"delivery\", \"deal\", \"shipping\", \"thank\", \"value\", \"bang\", \"beat\", \"solid\", \"quantity\", \"Great\", \"describe\", \"lol\", \"Buy\", \"life\", \"good\", \"Friday\", \"price\", \"Best\", \"black\", \"today\", \"work\", \"customer\", \"stuff\", \"packaging\", \"quality\", \"ship\", \"ok\", \"Black\", \"rough\", \"everyday\", \"battery\", \"fine\", \"great\", \"product\", \"far\", \"sale\", \"fast\", \"pretty\", \"cheap\", \"brand\", \"buy\", \"expect\", \"money\", \"tablet\", \"store\", \"order\", \"nice\", \"long\", \"look\", \"get\", \"love\", \"need\", \"use\", \"like\", \"kid\", \"streaming\", \"user\", \"limit\", \"content\", \"unlimited\", \"profile\", \"google\", \"Play\", \"browsing\", \"busy\", \"gb\", \"SD\", \"Store\", \"account\", \"pre\", \"Netflix\", \"proof\", \"site\", \"mode\", \"limited\", \"road\", \"trip\", \"subscription\", \"install\", \"adult\", \"Google\", \"friendly\", \"sd\", \"edition\", \"app\", \"video\", \"card\", \"free\", \"download\", \"access\", \"memory\", \"kid\", \"tablet\", \"child\", \"game\", \"watch\", \"play\", \"GB\", \"movie\", \"allow\", \"load\", \"time\", \"lot\", \"iPad\", \"set\", \"great\", \"want\", \"good\", \"storage\", \"use\", \"like\", \"daughter\", \"feature\", \"price\", \"fire\", \"get\", \"work\", \"love\", \"buy\", \"niece\", \"grandchild\", \"grandson\", \"granddaughter\", \"grandkid\", \"nephew\", \"yr\", \"birthday\", \"absolutely\", \"sister\", \"Christmas\", \"grand\", \"durable\", \"gift\", \"pink\", \"law\", \"present\", \"mother\", \"boy\", \"old\", \"girl\", \"bring\", \"year\", \"tool\", \"9\", \"mom\", \"age\", \"son\", \"bumper\", \"learning\", \"love\", \"daughter\", \"learn\", \"3\", \"drop\", \"2\", \"easy\", \"buy\", \"purchase\", \"use\", \"4\", \"tablet\", \"kindle\", \"kid\", \"get\", \"5\", \"great\", \"enjoy\", \"perfect\", \"game\", \"fire\", \"play\", \"recommend\", \"child\"], \"Freq\": [6359.0, 6496.0, 8827.0, 2352.0, 4623.0, 2748.0, 7957.0, 2445.0, 3496.0, 3893.0, 2319.0, 2964.0, 2048.0, 1224.0, 2107.0, 5567.0, 1228.0, 2077.0, 877.0, 1429.0, 4863.0, 848.0, 719.0, 1042.0, 2102.0, 983.0, 1025.0, 522.0, 2359.0, 1291.0, 306.6961864949064, 116.4673035687061, 175.49494017707667, 65.69744781635957, 100.8949789983604, 39.31337733978274, 175.17678527312174, 64.87697029168878, 152.25222096725028, 132.793782976046, 87.3086491173517, 44.29354431997557, 77.0804216146166, 56.03472933891896, 127.48963310191472, 107.11422838155518, 340.5723765498174, 158.67799620908448, 79.37849263860535, 37.85903921797185, 74.32307103046993, 117.76380096873021, 118.14385704784995, 135.36597969256078, 55.65774487726625, 66.65986235922134, 169.87714582674468, 130.89818275548257, 1142.1526962398527, 86.15397961226647, 251.5263478442705, 273.3109379096754, 180.51945969685286, 113.41293565870008, 407.8735522201384, 338.371093808856, 241.10221581276883, 314.77994001341267, 322.5610583793765, 499.9259831039822, 1461.891649488955, 242.35541957291534, 453.9867752684163, 248.8904958973532, 222.38647875868827, 301.627015357004, 843.0920657757875, 1199.637726140254, 244.58111358953587, 461.704036323881, 510.70752207738616, 419.2452620738156, 959.055066338832, 924.2914051656531, 615.9680050679683, 482.70762723227045, 395.73277401834406, 426.7369370759375, 643.4922195322928, 981.7080188285781, 309.14736956642344, 499.61604073514974, 1090.1176857104517, 722.7276637121763, 319.15444061153136, 740.540329064538, 547.7814599123833, 417.47141915300506, 686.127627953121, 455.3165593019385, 643.931234500372, 477.5951624544905, 418.79088901840106, 400.5778787452294, 401.9300047542224, 70.450788126226, 47.55366671034699, 48.14056208941778, 43.682313414514724, 30.407541931499406, 107.25801786556445, 46.52712726253313, 143.77883075687853, 90.07229963144282, 151.8679206279805, 2045.6595955498308, 43.11863871582028, 181.36027017670597, 82.499833311508, 63.07131932044856, 67.66110510049818, 49.85907842223345, 100.42839989230153, 270.51585295843836, 30.628089612132705, 50.07538808478336, 62.266626399097866, 47.68478306261908, 198.78748836503578, 1518.9030468090211, 81.09690907494692, 56.186058304004405, 69.46754353940794, 187.32417996395284, 173.69805543928717, 426.8438150344392, 114.62362012008775, 614.1111384795295, 220.80449843128295, 129.48444090594094, 1159.7543446834989, 1705.9601645571752, 380.4219430670679, 608.1062998039721, 574.821796065698, 840.853130734984, 170.02895622085055, 1012.9724238233897, 1487.7123069399754, 352.42441262183405, 222.2701819226847, 508.4295291878966, 548.1066472074245, 206.89753050971265, 587.9619205310164, 189.85111196637808, 1389.1020777841265, 1441.6719419702576, 342.17816544841753, 357.13545450201065, 317.50963174596114, 406.25660860577705, 769.3696809017273, 309.87085721215755, 476.7422765355095, 251.247420191444, 365.3900405037361, 597.960325967769, 395.4359666821688, 539.3158147161257, 360.722708139562, 51.99151520502649, 649.8727827918278, 78.69865819066143, 304.7486810941143, 694.4154811429614, 35.74376695570084, 379.61012821453545, 82.51199581306314, 38.8862992382544, 31.660880400860215, 89.80660488897742, 43.59503268488184, 181.6003671597003, 696.0312630737687, 4592.890588408591, 177.2827059629909, 3047.4805474734962, 49.18022701123339, 128.24334373687876, 34.54561678666026, 2404.1391642022486, 69.53252498186671, 126.21566653751017, 87.73699859176517, 749.7784162150788, 38.1636456359334, 177.82721811384425, 101.87447016212933, 41.390090317259684, 68.89812604771593, 1123.8724048340691, 248.0522296697213, 4458.833879446064, 1135.71084049183, 582.956014395719, 235.21281961121264, 396.6349559864943, 266.2506144663592, 373.62933568063454, 561.4861963568683, 1658.9630476530385, 260.8517703476317, 270.1949368559258, 1172.6982550842042, 320.0877206391821, 202.26420940883173, 339.8782066408702, 449.78924782476923, 289.45984565126207, 395.0981419285577, 686.2293216506026, 344.65017400918816, 455.7323150112279, 346.9191633447819, 341.1159160284092, 50.91475942881876, 385.45623476596165, 240.94568607300758, 230.34064009972934, 66.88345534062994, 132.80142416123564, 143.42354054409617, 99.8895184279928, 56.78755654148212, 71.15266033794475, 76.25164690090762, 81.3667135015888, 77.36169770180011, 209.94334934304442, 76.86719602674872, 199.4373765696836, 48.4827422571631, 49.81999036589971, 93.31649239399364, 83.15338035767901, 53.50719883567334, 151.84876003805678, 70.317710831843, 86.2998697987502, 149.67544000177259, 232.9062194211828, 323.5069981214017, 76.12467522569536, 58.54520850308542, 1751.5108397402935, 507.768192351569, 242.53244186666896, 428.8705839473774, 595.456557501325, 315.2611019596072, 225.846848774939, 1671.9238364827324, 3573.4933241113567, 567.3020500717877, 1061.6263945392488, 525.8423228100808, 738.4555946532631, 123.66190046096371, 427.5741931797191, 179.40802396609084, 197.20475426663677, 786.8609858667247, 477.7671996053588, 309.86627631524783, 370.8360411886138, 1539.7097448525958, 467.54272052700156, 872.6994564196945, 212.55877137939638, 712.7171624094987, 543.5095484843442, 325.3343482532123, 288.8461917124807, 458.5944166257706, 328.92067084244474, 331.88172665706196, 377.0562487466438, 409.0934460451375, 394.3205311241147, 206.2482444214398, 97.54168418208656, 494.0047501129522, 421.8002036958301, 170.19122705925716, 181.0106061497615, 240.9061326706752, 163.9099690569202, 247.5104867879265, 92.98192266702783, 750.1578678685994, 158.68494131937007, 309.9441428308141, 1030.634614220947, 57.97378479505101, 74.71781426759665, 152.19465094561625, 134.59968482366384, 87.00562675668071, 2094.4450484506187, 52.43863041268047, 92.96083143593852, 1802.3528108854428, 102.9163677756885, 102.97619843373603, 188.38742528547638, 259.21467312278173, 705.5305549626974, 61.07369409593665, 142.44742879815743, 4278.9906532314835, 638.8085457455287, 348.8239738081165, 433.7446631940712, 202.60268268759805, 519.3279573151691, 1277.4767508407247, 1826.0121660366785, 935.0113449055378, 1521.589384324438, 345.8981754186594, 1655.6506143485897, 588.6046564200343, 816.8197612683617, 570.5006280354356, 269.09603634488514, 1167.5595201401804, 360.11022213763067, 393.36064828376885, 455.9788974848832, 356.02496579552155, 355.0819543576137, 300.67999119852493, 288.8119544084271], \"Total\": [6359.0, 6496.0, 8827.0, 2352.0, 4623.0, 2748.0, 7957.0, 2445.0, 3496.0, 3893.0, 2319.0, 2964.0, 2048.0, 1224.0, 2107.0, 5567.0, 1228.0, 2077.0, 877.0, 1429.0, 4863.0, 848.0, 719.0, 1042.0, 2102.0, 983.0, 1025.0, 522.0, 2359.0, 1291.0, 311.077158036418, 118.91696237712758, 180.03983789279343, 67.41687344168673, 103.88265934231111, 40.50060164984873, 180.59000905681347, 67.09669006568829, 157.59927635170592, 137.68829418104087, 90.55224578732, 46.127771483108525, 80.29284362971654, 58.42104654725229, 133.31948241112485, 112.02471561111685, 356.366855584643, 166.26576682422498, 83.24983078448145, 39.72104003891463, 78.3766539988421, 124.44966335122223, 125.10502872122407, 143.36015530733357, 59.07654898099072, 71.02625431186377, 181.290973940466, 140.74904924784585, 1228.1123600774652, 92.69452252161751, 273.94340542580716, 301.1484660818613, 197.7311179049281, 122.7385223367048, 471.74012884770576, 388.16284122442147, 273.27752641530475, 365.4758515569828, 377.67278026772567, 624.5874639495381, 2077.7554195070293, 285.201442599638, 581.9924388615746, 303.71264029066566, 268.8807354246271, 398.1931973575886, 1429.9449866918742, 2359.144384490198, 315.7552775141416, 741.9680080690655, 875.1816475940874, 669.4855796384393, 2150.4733385323398, 2107.5568074608314, 1204.078985503303, 862.2722259707667, 651.0602106055076, 747.6508066639338, 1449.0398551222002, 2902.5435560813403, 457.4892434968181, 1113.943180361499, 5567.373756492052, 2520.6355282049394, 491.00717567680977, 3893.1175260917016, 2102.788609518146, 1055.7682768080085, 4863.878796638261, 1399.4160167370721, 4623.348339207574, 1692.2683141464036, 1169.4409765044493, 1337.0121270083764, 1750.726090951596, 72.65204660399856, 49.11527007707786, 49.85589597590548, 45.66941441882192, 32.52648522159548, 115.51559405647642, 50.41109700601429, 159.22406449806113, 100.45917434310708, 172.25009785968186, 2352.2648094822835, 49.92261520366872, 214.6747003664829, 97.66165715274907, 75.28574426716916, 81.59543502052357, 61.870605792323026, 127.43493060173164, 348.10807071776236, 39.901216092844784, 65.32161157069554, 82.01993183561112, 63.40646650850793, 265.18177413712436, 2048.552353957342, 111.8376792924926, 78.29233442311663, 96.90419335275308, 261.90020643702843, 244.86224428279706, 602.7385372888267, 162.83613058069645, 942.1541434566601, 330.49679328511303, 186.71337896913116, 2102.788609518146, 3496.787647176164, 635.9824267509442, 1120.2678281065507, 1224.6212101747565, 2150.4733385323398, 275.8539694831547, 2902.5435560813403, 4863.878796638261, 722.5365758089953, 393.5901642915255, 1241.8439954118871, 1399.4160167370721, 365.55798030625266, 1750.726090951596, 334.3513241159395, 7957.443737256997, 8827.680393409946, 895.8494309676909, 965.8516568529241, 844.571517371625, 1377.2105269017575, 6359.765877890508, 851.6179674311323, 2520.6355282049394, 536.5367502349899, 1449.0398551222002, 5567.373756492052, 2266.093892851837, 6496.390109270013, 4623.348339207574, 56.18226481935514, 719.2174479014355, 90.45694920006993, 371.50139820515943, 848.9327702902485, 44.52942340909674, 478.46075024079755, 108.26755094252161, 51.95743457514798, 42.504045399470705, 123.07714059475794, 60.307528100334416, 251.50274661376133, 983.6300146566384, 6496.390109270013, 262.73582200974283, 4623.348339207574, 75.50363757715121, 203.6501976216749, 55.28224742691973, 3893.1175260917016, 113.77290516109883, 212.11416311620636, 147.82990745945813, 1291.4318499725173, 65.96018508032664, 312.2117185431528, 179.27356920140704, 75.44161933680215, 126.81857209329034, 2107.5568074608314, 462.05992655757615, 8827.680393409946, 2266.093892851837, 1169.4409765044493, 444.3811411737357, 851.6179674311323, 549.5929644564465, 830.6033474314017, 1429.9449866918742, 5567.373756492052, 580.5569596814512, 708.9964480573701, 7957.443737256997, 996.4393617229377, 485.0403666708544, 1224.6212101747565, 2077.7554195070293, 977.2840470174881, 1904.5112486079342, 6359.765877890508, 1750.726090951596, 4863.878796638261, 2902.5435560813403, 2964.77195880836, 53.74575836631418, 408.98174824546817, 258.0953312935349, 249.45094177702626, 73.04115072752543, 149.5565550083394, 162.78739399758942, 113.65207846279827, 66.24030967265827, 85.95692531242787, 92.11872485015066, 98.31671469774105, 94.29817833904437, 259.20645670184723, 95.08309602984588, 247.2797066102724, 60.46231204129611, 62.304357459538316, 118.76030035934143, 106.34656154839033, 68.9517487443001, 197.0519470057896, 91.49674591978996, 112.37240774014906, 195.32629755540796, 305.85433404553805, 425.0566180612995, 100.35363509839026, 77.23507164412804, 2319.7135770613563, 707.1083923564563, 334.18355063220685, 615.1083987148311, 870.7770841229992, 449.7350934963148, 322.06849540860503, 2964.77195880836, 7957.443737256997, 986.5905232659679, 2166.872512620116, 949.9349916141572, 1590.633460517421, 169.54204524422673, 846.3796875584371, 289.5029052867931, 334.3214650010676, 2359.144384490198, 1207.9363328987324, 648.62391986249, 907.8178564279511, 8827.680393409946, 1377.2105269017575, 6496.390109270013, 386.4895777867, 4863.878796638261, 2902.5435560813403, 1042.0238636721074, 808.5713092929138, 4623.348339207574, 1337.0121270083764, 1904.5112486079342, 3893.1175260917016, 6359.765877890508, 5567.373756492052, 211.0053725521845, 102.74846319036838, 522.9875528352844, 447.3412303383002, 181.13501647933796, 192.95375629801563, 263.4158292497854, 182.89775723589727, 285.41994234980353, 107.4623320596055, 877.7295277872522, 186.1719664580638, 364.1869531925658, 1224.7385506732921, 69.26022168172469, 89.60034080788672, 189.1972670662864, 173.391962943938, 114.1210895591571, 2748.1798094140563, 70.22943370189957, 125.85946567566799, 2445.9804219382777, 142.73102466031844, 145.12343818192278, 266.1999858954239, 369.76197827484197, 1025.8497574348137, 90.17659053680791, 211.46302023791856, 6359.765877890508, 1042.0238636721074, 548.9704578151676, 711.1188445787652, 321.52524776022636, 1025.8175052569798, 3496.787647176164, 5567.373756492052, 2520.6355282049394, 4863.878796638261, 679.9961769110623, 7957.443737256997, 1692.2683141464036, 2964.77195880836, 1904.5112486079342, 506.96099525396977, 8827.680393409946, 895.8494309676909, 1110.4354999087825, 2166.872512620116, 1337.0121270083764, 1590.633460517421, 1241.8439954118871, 986.5905232659679], \"Category\": [\"Default\", \"Default\", \"Default\", \"Default\", \"Default\", \"Default\", \"Default\", \"Default\", \"Default\", \"Default\", \"Default\", \"Default\", \"Default\", \"Default\", \"Default\", \"Default\", \"Default\", \"Default\", \"Default\", \"Default\", \"Default\", \"Default\", \"Default\", \"Default\", \"Default\", \"Default\", \"Default\", \"Default\", \"Default\", \"Default\", \"Topic1\", \"Topic1\", \"Topic1\", \"Topic1\", \"Topic1\", \"Topic1\", \"Topic1\", \"Topic1\", \"Topic1\", \"Topic1\", \"Topic1\", \"Topic1\", \"Topic1\", \"Topic1\", \"Topic1\", \"Topic1\", \"Topic1\", \"Topic1\", \"Topic1\", \"Topic1\", \"Topic1\", \"Topic1\", \"Topic1\", \"Topic1\", \"Topic1\", \"Topic1\", \"Topic1\", \"Topic1\", \"Topic1\", \"Topic1\", \"Topic1\", \"Topic1\", \"Topic1\", \"Topic1\", \"Topic1\", \"Topic1\", \"Topic1\", \"Topic1\", \"Topic1\", \"Topic1\", \"Topic1\", \"Topic1\", \"Topic1\", \"Topic1\", \"Topic1\", \"Topic1\", \"Topic1\", \"Topic1\", \"Topic1\", \"Topic1\", \"Topic1\", \"Topic1\", \"Topic1\", \"Topic1\", \"Topic1\", \"Topic1\", \"Topic1\", \"Topic1\", \"Topic1\", \"Topic1\", \"Topic1\", \"Topic1\", \"Topic1\", \"Topic1\", \"Topic1\", \"Topic1\", \"Topic1\", \"Topic1\", \"Topic1\", \"Topic1\", \"Topic1\", \"Topic1\", \"Topic1\", \"Topic1\", \"Topic1\", \"Topic2\", \"Topic2\", \"Topic2\", \"Topic2\", \"Topic2\", \"Topic2\", \"Topic2\", \"Topic2\", \"Topic2\", \"Topic2\", \"Topic2\", \"Topic2\", \"Topic2\", \"Topic2\", \"Topic2\", \"Topic2\", \"Topic2\", \"Topic2\", \"Topic2\", \"Topic2\", \"Topic2\", \"Topic2\", \"Topic2\", \"Topic2\", \"Topic2\", \"Topic2\", \"Topic2\", \"Topic2\", \"Topic2\", \"Topic2\", \"Topic2\", \"Topic2\", \"Topic2\", \"Topic2\", \"Topic2\", \"Topic2\", \"Topic2\", \"Topic2\", \"Topic2\", \"Topic2\", \"Topic2\", \"Topic2\", \"Topic2\", \"Topic2\", \"Topic2\", \"Topic2\", \"Topic2\", \"Topic2\", \"Topic2\", \"Topic2\", \"Topic2\", \"Topic2\", \"Topic2\", \"Topic2\", \"Topic2\", \"Topic2\", \"Topic2\", \"Topic2\", \"Topic2\", \"Topic2\", \"Topic2\", \"Topic2\", \"Topic2\", \"Topic2\", \"Topic2\", \"Topic2\", \"Topic3\", \"Topic3\", \"Topic3\", \"Topic3\", \"Topic3\", \"Topic3\", \"Topic3\", \"Topic3\", \"Topic3\", \"Topic3\", \"Topic3\", \"Topic3\", \"Topic3\", \"Topic3\", \"Topic3\", \"Topic3\", \"Topic3\", \"Topic3\", \"Topic3\", \"Topic3\", \"Topic3\", \"Topic3\", \"Topic3\", \"Topic3\", \"Topic3\", \"Topic3\", \"Topic3\", \"Topic3\", \"Topic3\", \"Topic3\", \"Topic3\", \"Topic3\", \"Topic3\", \"Topic3\", \"Topic3\", \"Topic3\", \"Topic3\", \"Topic3\", \"Topic3\", \"Topic3\", \"Topic3\", \"Topic3\", \"Topic3\", \"Topic3\", \"Topic3\", \"Topic3\", \"Topic3\", \"Topic3\", \"Topic3\", \"Topic3\", \"Topic3\", \"Topic3\", \"Topic3\", \"Topic3\", \"Topic3\", \"Topic4\", \"Topic4\", \"Topic4\", \"Topic4\", \"Topic4\", \"Topic4\", \"Topic4\", \"Topic4\", \"Topic4\", \"Topic4\", \"Topic4\", \"Topic4\", \"Topic4\", \"Topic4\", \"Topic4\", \"Topic4\", \"Topic4\", \"Topic4\", \"Topic4\", \"Topic4\", \"Topic4\", \"Topic4\", \"Topic4\", \"Topic4\", \"Topic4\", \"Topic4\", \"Topic4\", \"Topic4\", \"Topic4\", \"Topic4\", \"Topic4\", \"Topic4\", \"Topic4\", \"Topic4\", \"Topic4\", \"Topic4\", \"Topic4\", \"Topic4\", \"Topic4\", \"Topic4\", \"Topic4\", \"Topic4\", \"Topic4\", \"Topic4\", \"Topic4\", \"Topic4\", \"Topic4\", \"Topic4\", \"Topic4\", \"Topic4\", \"Topic4\", \"Topic4\", \"Topic4\", \"Topic4\", \"Topic4\", \"Topic4\", \"Topic4\", \"Topic4\", \"Topic4\", \"Topic4\", \"Topic4\", \"Topic4\", \"Topic4\", \"Topic4\", \"Topic5\", \"Topic5\", \"Topic5\", \"Topic5\", \"Topic5\", \"Topic5\", \"Topic5\", \"Topic5\", \"Topic5\", \"Topic5\", \"Topic5\", \"Topic5\", \"Topic5\", \"Topic5\", \"Topic5\", \"Topic5\", \"Topic5\", \"Topic5\", \"Topic5\", \"Topic5\", \"Topic5\", \"Topic5\", \"Topic5\", \"Topic5\", \"Topic5\", \"Topic5\", \"Topic5\", \"Topic5\", \"Topic5\", \"Topic5\", \"Topic5\", \"Topic5\", \"Topic5\", \"Topic5\", \"Topic5\", \"Topic5\", \"Topic5\", \"Topic5\", \"Topic5\", \"Topic5\", \"Topic5\", \"Topic5\", \"Topic5\", \"Topic5\", \"Topic5\", \"Topic5\", \"Topic5\", \"Topic5\", \"Topic5\", \"Topic5\", \"Topic5\", \"Topic5\", \"Topic5\", \"Topic5\"], \"logprob\": [30.0, 29.0, 28.0, 27.0, 26.0, 25.0, 24.0, 23.0, 22.0, 21.0, 20.0, 19.0, 18.0, 17.0, 16.0, 15.0, 14.0, 13.0, 12.0, 11.0, 10.0, 9.0, 8.0, 7.0, 6.0, 5.0, 4.0, 3.0, 2.0, 1.0, -5.422299861907959, -6.390500068664551, -5.980500221252441, -6.963099956512451, -6.53410005569458, -7.476600170135498, -5.9822998046875, -6.975599765777588, -6.122600078582764, -6.259300231933594, -6.678699970245361, -7.3572998046875, -6.803299903869629, -7.122200012207031, -6.300099849700928, -6.4741997718811035, -5.317500114440918, -6.081299781799316, -6.773900032043457, -7.5142998695373535, -6.839700222015381, -6.379499912261963, -6.376200199127197, -6.240200042724609, -7.128900051116943, -6.948500156402588, -6.0131001472473145, -6.27370023727417, -4.107500076293945, -6.691999912261963, -5.62060022354126, -5.537499904632568, -5.952300071716309, -6.417099952697754, -5.137199878692627, -5.323999881744385, -5.662899971008301, -5.396299839019775, -5.371799945831299, -4.933700084686279, -3.860599994659424, -5.657700061798096, -5.030099868774414, -5.631100177764893, -5.74370002746582, -5.438899993896484, -4.411099910736084, -4.0584001541137695, -5.648600101470947, -5.013199806213379, -4.912300109863281, -5.1097002029418945, -4.282199859619141, -4.3190999031066895, -4.724899768829346, -4.968699932098389, -5.167399883270264, -5.0920000076293945, -4.68120002746582, -4.258800029754639, -5.414299964904785, -4.934299945831299, -4.154099941253662, -4.565100193023682, -5.382500171661377, -4.540800094604492, -4.842299938201904, -5.113900184631348, -4.617099761962891, -5.027100086212158, -4.680500030517578, -4.979400157928467, -5.110799789428711, -5.155200004577637, -5.151899814605713, -6.611400127410889, -7.00439977645874, -6.992199897766113, -7.089300155639648, -7.451600074768066, -6.190999984741211, -7.026199817657471, -5.8979997634887695, -6.365699768066406, -5.843299865722656, -3.242799997329712, -7.10230016708374, -5.665800094604492, -6.453499794006348, -6.7220001220703125, -6.651800155639648, -6.957099914550781, -6.256800174713135, -5.265999794006348, -7.444399833679199, -6.9527997970581055, -6.734899997711182, -7.001699924468994, -5.573999881744385, -3.5404999256134033, -6.470600128173828, -6.837600231170654, -6.625400066375732, -5.633399963378906, -5.709000110626221, -4.809899806976318, -6.124599933624268, -4.446100234985352, -5.468999862670898, -6.002699851989746, -3.81030011177063, -3.4244000911712646, -4.925000190734863, -4.455900192260742, -4.512199878692627, -4.131899833679199, -5.730299949645996, -3.9456000328063965, -3.561300039291382, -5.001399993896484, -5.462399959564209, -4.635000228881836, -4.559800148010254, -5.53410005569458, -4.48960018157959, -5.619999885559082, -3.6298999786376953, -3.5927000045776367, -5.031000137329102, -4.9882001876831055, -5.105800151824951, -4.859300136566162, -4.220699787139893, -5.130099773406982, -4.6992998123168945, -5.339799880981445, -4.9653000831604, -4.472799777984619, -4.886300086975098, -4.576000213623047, -4.9781999588012695, -6.9028000831604, -4.377099990844727, -6.4882001876831055, -5.134399890899658, -4.310800075531006, -7.277500152587891, -4.914700031280518, -6.440899848937988, -7.19320011138916, -7.398799896240234, -6.356200218200684, -7.07889986038208, -5.652100086212158, -4.308499813079834, -2.421600103378296, -5.67609977722168, -2.8317999839782715, -6.958399772644043, -5.999899864196777, -7.311600208282471, -3.0689001083374023, -6.612100124359131, -6.015900135040283, -6.379499912261963, -4.234099864959717, -7.211999893188477, -5.672999858856201, -6.230100154876709, -7.130799770355225, -6.621200084686279, -3.8292999267578125, -5.340199947357178, -2.451200008392334, -3.8187999725341797, -4.4857001304626465, -5.393400192260742, -4.870800018310547, -5.269400119781494, -4.930600166320801, -4.5233001708984375, -3.4398999214172363, -5.289899826049805, -5.254700183868408, -3.786799907684326, -5.085299968719482, -5.544300079345703, -5.025300025939941, -4.745100021362305, -5.185800075531006, -4.87470006942749, -4.3225998878479, -5.011300086975098, -4.73199987411499, -5.004799842834473, -5.021599769592285, -6.920300006866455, -4.896100044250488, -5.365900039672852, -5.410900115966797, -6.647500038146973, -5.961599826812744, -5.884699821472168, -6.246399879455566, -6.811200141906738, -6.585700035095215, -6.51639986038208, -6.451499938964844, -6.501999855041504, -5.503600120544434, -6.508399963378906, -5.554999828338623, -6.969299793243408, -6.9421000480651855, -6.314499855041504, -6.429800033569336, -6.870699882507324, -5.827600002288818, -6.597499847412109, -6.3927001953125, -5.8420000076293945, -5.399799823760986, -5.071300029754639, -6.518099784851074, -6.780700206756592, -3.382200002670288, -4.620500087738037, -5.359300136566162, -4.789299964904785, -4.46120023727417, -5.097099781036377, -5.430600166320801, -3.428800106048584, -2.6691999435424805, -4.5096001625061035, -3.8828999996185303, -4.5854997634887695, -4.2459001541137695, -6.032899856567383, -4.792399883270264, -5.660799980163574, -5.566199779510498, -4.182400226593018, -4.681399822235107, -5.114299774169922, -4.934700012207031, -3.5111000537872314, -4.703000068664551, -4.07889986038208, -5.491300106048584, -4.281400203704834, -4.5524001121521, -5.0655999183654785, -5.184599876403809, -4.722300052642822, -5.054699897766113, -5.0457000732421875, -4.918099880218506, -4.83650016784668, -4.873300075531006, -5.3933000564575195, -6.142099857330322, -4.519899845123291, -4.6778998374938965, -5.5854997634887695, -5.523900032043457, -5.23799991607666, -5.6230998039245605, -5.210999965667725, -6.190000057220459, -4.102099895477295, -5.6554999351501465, -4.986000061035156, -3.7844998836517334, -6.662399768829346, -6.408699989318848, -5.697299957275391, -5.820099830627441, -6.256400108337402, -3.0754001140594482, -6.762800216674805, -6.190199851989746, -3.225600004196167, -6.088500022888184, -6.087900161743164, -5.48390007019043, -5.16480016708374, -4.16349983215332, -6.610300064086914, -5.763400077819824, -2.3608999252319336, -4.262800216674805, -4.867800235748291, -4.650000095367432, -5.411200046539307, -4.469900131225586, -3.5697999000549316, -3.2125000953674316, -3.8819000720977783, -3.39490008354187, -4.876299858093262, -3.310499906539917, -4.344699859619141, -4.017000198364258, -4.375899791717529, -5.127299785614014, -3.6596999168395996, -4.835999965667725, -4.747700214385986, -4.599999904632568, -4.847400188446045, -4.850100040435791, -5.01639986038208, -5.056600093841553], \"loglift\": [30.0, 29.0, 28.0, 27.0, 26.0, 25.0, 24.0, 23.0, 22.0, 21.0, 20.0, 19.0, 18.0, 17.0, 16.0, 15.0, 14.0, 13.0, 12.0, 11.0, 10.0, 9.0, 8.0, 7.0, 6.0, 5.0, 4.0, 3.0, 2.0, 1.0, 1.3456, 1.339, 1.3342, 1.3339, 1.3306, 1.33, 1.3293, 1.3261, 1.3253, 1.3236, 1.3233, 1.3192, 1.3189, 1.3181, 1.3151, 1.315, 1.3144, 1.3131, 1.3122, 1.3118, 1.3067, 1.3046, 1.3025, 1.3024, 1.3002, 1.2963, 1.2947, 1.2872, 1.2872, 1.2866, 1.2744, 1.2628, 1.2687, 1.2808, 1.2143, 1.2225, 1.2345, 1.2104, 1.202, 1.1371, 1.0082, 1.197, 1.1114, 1.1607, 1.1699, 1.082, 0.8315, 0.6835, 1.1044, 0.8854, 0.8211, 0.8917, 0.5523, 0.5355, 0.6895, 0.7796, 0.8619, 0.799, 0.548, 0.2757, 0.9678, 0.558, -0.2709, 0.1105, 0.929, -0.2998, 0.0146, 0.432, -0.5988, 0.237, -0.6115, 0.0947, 0.3329, 0.1545, -0.1117, 1.6109, 1.6093, 1.6066, 1.5971, 1.5743, 1.5675, 1.5614, 1.5396, 1.5325, 1.5157, 1.502, 1.4951, 1.473, 1.4729, 1.4646, 1.4544, 1.4258, 1.4035, 1.3894, 1.3771, 1.3758, 1.3661, 1.3567, 1.3534, 1.3425, 1.3202, 1.3098, 1.3088, 1.3065, 1.2982, 1.2966, 1.2905, 1.2136, 1.2383, 1.2756, 1.0466, 0.9239, 1.1277, 1.0307, 0.8853, 0.7026, 1.1577, 0.5889, 0.457, 0.9237, 1.0702, 0.7486, 0.7043, 1.0724, 0.5505, 1.0757, -0.1038, -0.1705, 0.6792, 0.6467, 0.6633, 0.4208, -0.4706, 0.6306, -0.0237, 0.8829, 0.2639, -0.5895, -0.1042, -0.8471, -0.9091, 1.5765, 1.5527, 1.5148, 1.456, 1.4531, 1.4343, 1.4226, 1.3824, 1.3643, 1.3595, 1.3389, 1.3295, 1.3284, 1.3082, 1.3073, 1.2606, 1.2372, 1.2254, 1.1916, 1.1839, 1.172, 1.1616, 1.1349, 1.1323, 1.1103, 1.1069, 1.0912, 1.0889, 1.0537, 1.0439, 1.0253, 1.032, 0.971, 0.9633, 0.9579, 1.0179, 0.8899, 0.9293, 0.8552, 0.7192, 0.4433, 0.854, 0.6893, -0.2608, 0.5185, 0.7794, 0.3722, 0.1238, 0.4373, 0.0812, -0.5725, 0.0288, -0.7136, -0.4702, -0.5083, 1.6033, 1.5982, 1.5887, 1.5777, 1.5694, 1.5386, 1.5308, 1.5284, 1.5035, 1.4684, 1.4684, 1.4682, 1.4595, 1.4466, 1.4448, 1.4424, 1.4366, 1.4338, 1.4163, 1.4114, 1.4038, 1.3968, 1.3941, 1.3934, 1.3912, 1.385, 1.3844, 1.3811, 1.3804, 1.3765, 1.3263, 1.3369, 1.2968, 1.2774, 1.3022, 1.3025, 1.0846, 0.8569, 1.1041, 0.9439, 1.066, 0.8901, 1.3419, 0.9746, 1.1789, 1.1296, 0.5594, 0.7299, 0.9187, 0.7621, -0.0889, 0.5771, -0.35, 1.0595, -0.2631, -0.0179, 0.4934, 0.6281, -0.6533, 0.2551, -0.0898, -0.6771, -1.0864, -0.9901, 1.7627, 1.7335, 1.7285, 1.7267, 1.7232, 1.7216, 1.6962, 1.6759, 1.643, 1.6408, 1.6284, 1.6257, 1.6242, 1.6129, 1.6076, 1.6039, 1.5679, 1.5322, 1.5142, 1.5138, 1.4934, 1.4825, 1.4801, 1.4585, 1.4424, 1.4398, 1.4303, 1.4112, 1.3958, 1.3904, 1.3892, 1.2962, 1.332, 1.2911, 1.3237, 1.1048, 0.7785, 0.6707, 0.7938, 0.6234, 1.1096, 0.2156, 0.7294, 0.4964, 0.58, 1.1521, -0.2375, 0.8741, 0.7477, 0.2269, 0.4623, 0.286, 0.3672, 0.557]}, \"token.table\": {\"Topic\": [1, 2, 3, 4, 5, 1, 2, 3, 4, 5, 1, 2, 3, 4, 5, 1, 2, 3, 4, 5, 1, 2, 3, 4, 5, 1, 2, 3, 4, 5, 1, 2, 3, 4, 1, 2, 3, 4, 5, 1, 3, 1, 2, 3, 1, 3, 1, 2, 3, 4, 2, 3, 4, 1, 2, 3, 4, 5, 1, 2, 3, 4, 5, 1, 2, 3, 4, 5, 1, 2, 3, 5, 1, 3, 1, 2, 3, 4, 5, 2, 3, 4, 1, 2, 3, 4, 5, 1, 2, 3, 4, 5, 1, 2, 3, 5, 1, 2, 3, 4, 5, 1, 2, 3, 4, 5, 1, 2, 3, 4, 5, 1, 2, 3, 1, 2, 3, 4, 5, 1, 2, 3, 4, 1, 2, 3, 4, 2, 3, 5, 1, 3, 5, 1, 2, 3, 4, 5, 1, 2, 3, 4, 5, 1, 2, 3, 4, 5, 1, 2, 3, 4, 2, 3, 4, 5, 1, 2, 3, 4, 5, 1, 2, 3, 4, 5, 1, 3, 1, 2, 3, 4, 5, 1, 2, 3, 4, 1, 2, 4, 5, 1, 2, 4, 1, 3, 4, 1, 3, 1, 2, 3, 4, 5, 1, 2, 3, 4, 5, 2, 3, 1, 2, 3, 4, 5, 1, 2, 3, 4, 5, 1, 2, 3, 4, 1, 2, 3, 4, 5, 1, 2, 3, 4, 5, 1, 2, 3, 4, 5, 1, 2, 3, 4, 5, 1, 2, 3, 4, 5, 1, 2, 3, 4, 1, 2, 3, 4, 5, 1, 4, 5, 1, 2, 3, 4, 1, 2, 3, 4, 5, 1, 2, 3, 1, 3, 4, 1, 2, 3, 4, 5, 1, 2, 3, 4, 5, 1, 2, 3, 4, 5, 1, 2, 3, 4, 5, 1, 2, 3, 4, 5, 1, 2, 3, 4, 5, 1, 2, 3, 4, 5, 2, 3, 1, 2, 3, 4, 1, 2, 3, 4, 5, 1, 2, 3, 4, 5, 1, 2, 3, 4, 1, 2, 3, 1, 2, 3, 4, 5, 1, 2, 3, 4, 1, 2, 3, 4, 5, 1, 2, 3, 4, 5, 1, 3, 1, 2, 3, 4, 5, 1, 2, 3, 4, 1, 2, 3, 4, 5, 1, 2, 3, 4, 5, 1, 2, 3, 4, 5, 1, 2, 3, 4, 5, 1, 2, 3, 1, 2, 3, 4, 5, 1, 2, 3, 4, 5, 1, 2, 3, 4, 1, 2, 3, 4, 5, 1, 2, 3, 4, 1, 2, 3, 1, 2, 3, 4, 5, 1, 3, 1, 2, 3, 4, 5, 1, 2, 3, 4, 5, 1, 2, 3, 4, 5, 1, 2, 3, 4, 5, 1, 2, 3, 4, 5, 1, 2, 3, 4, 5, 1, 2, 3, 4, 5, 1, 2, 3, 4, 5, 1, 2, 3, 4, 5, 1, 2, 3, 4, 5, 1, 3, 4, 1, 2, 3, 4, 5, 1, 2, 3, 4, 5, 1, 2, 3, 4, 5, 1, 4, 5, 1, 2, 3, 4, 5, 1, 2, 3, 4, 5, 1, 2, 3, 4, 5, 1, 2, 3, 4, 5, 1, 2, 3, 4, 5, 1, 2, 3, 4, 5, 1, 2, 3, 4, 5, 1, 2, 3, 5, 1, 2, 3, 4, 5, 1, 2, 3, 5, 1, 2, 3, 4, 5, 1, 2, 3, 4, 5, 1, 3, 1, 2, 3, 4, 5, 1, 2, 3, 4, 1, 2, 3, 4, 5, 1, 2, 3, 1, 2, 3, 4, 5, 1, 2, 3, 4, 5, 1, 2, 3, 4, 5, 1, 2, 3, 4, 5, 1, 2, 3, 4, 2, 3, 4, 5, 1, 3, 1, 2, 3, 4, 5, 1, 2, 3, 4, 5, 1, 2, 3, 4, 1, 2, 3, 4, 5, 1, 2, 3, 4, 5, 1, 2, 3, 1, 2, 3, 4, 5, 1, 2, 3, 4, 5, 1, 2, 3, 4, 5, 1, 2, 3, 4, 5, 1, 2, 3, 4, 5, 1, 2, 3, 4, 5, 1, 2, 3, 4, 2, 3, 4, 5, 1, 2, 3, 4, 5, 1, 2, 3, 4, 5, 1, 3, 1, 2, 3, 4, 5, 1, 2, 3, 4, 1, 2, 3, 4, 5, 1, 2, 3, 4, 5, 1, 2, 3, 4, 5, 1, 2, 3, 4, 5, 1, 2, 3, 4, 5, 1, 2, 3, 4, 5, 1, 2, 3, 4, 5, 1, 2, 3, 4, 5, 2, 3, 4, 5, 1, 2, 3, 4, 5, 1, 2, 3, 4, 5, 1, 2, 3, 4, 5, 1, 2, 3, 4, 5, 1, 2, 3, 4, 5, 1, 2, 3, 4, 5, 1, 2, 3, 4, 5, 1, 2, 3, 4, 5, 1, 2, 3, 4, 5, 1, 2, 3, 4, 5, 1, 2, 3, 4, 5, 1, 2, 3, 4, 5, 1, 2, 3, 1, 2, 3, 4, 1, 2, 3, 1, 2, 1, 2, 3, 4, 5, 1, 2, 3, 4, 5, 1, 2, 3, 5, 1, 2, 3, 4, 5, 1, 2, 3, 1, 2, 3, 2, 3, 5, 1, 2, 3, 4, 5, 1, 2, 3, 4, 1, 2, 4, 5, 1, 2, 3, 4, 5, 1, 2, 3, 4, 1, 2, 3, 4, 5, 1, 2, 3, 4, 5, 1, 2, 3, 4, 5, 1, 2, 3, 4, 5, 1, 2, 3, 4, 5, 1, 4, 5, 1, 2, 3, 4, 5, 1, 2, 3, 1, 2, 3, 4, 5, 1, 2, 3, 1, 2, 3, 4, 5, 1, 2, 3, 4, 5, 1, 2, 3, 4, 5, 1, 2, 3, 4, 1, 2, 3, 4, 5, 1, 2, 3, 4, 5, 1, 2, 3, 4, 3, 4, 5, 1, 2, 3, 4, 5, 1, 2, 3, 4, 5, 1, 2, 3, 4, 5, 1, 2, 3, 4, 5, 1, 2, 3, 4, 5, 1, 2, 3, 5, 1, 2, 3, 1, 2, 3, 4, 5, 1, 2, 4, 5, 1, 2, 4, 1, 2, 3, 4, 5, 1, 2, 3, 4, 5, 1, 2, 3, 4, 1, 2, 3, 4, 5, 1, 2, 3, 4, 5, 1, 2, 3, 4, 1, 2, 3, 4, 5, 1, 2, 3, 4, 5, 2, 4, 1, 2, 3, 4, 5, 1, 2, 3, 4, 1, 2, 3, 4, 5, 1, 2, 3, 1, 2, 3, 4, 1, 2, 3, 4, 1, 2, 3, 4, 5, 1, 2, 3, 4, 5, 1, 2, 3, 4, 5, 1, 2, 3, 4, 5, 1, 2, 3, 4, 1, 2, 3, 4, 5, 1, 2, 3, 4, 5, 1, 2, 3, 4, 1, 2, 3, 4, 5, 1, 2, 3, 4, 5, 1, 2, 3, 4, 5, 1, 2, 3, 4, 5, 2, 3, 1, 2, 3, 4, 5, 1, 2, 3, 4, 5, 1, 2, 3, 4, 5, 1, 2, 3, 4, 5, 1, 2, 3, 4, 5, 1, 2, 3, 4, 5, 1, 2, 3, 4, 5, 1, 2, 3, 4, 5], \"Freq\": [0.2836761885118162, 0.005848993577563221, 0.055565438986850596, 0.14817450396493492, 0.5059379444592186, 0.3023404619903672, 0.012656112362387464, 0.014062347069319404, 0.060468092398073436, 0.6103058628084621, 0.3323548097382301, 0.03529431607839612, 0.06911803565352574, 0.05441207062086069, 0.5088263901302107, 0.21895175573496117, 0.16372068221623223, 0.027615536759364474, 0.05917615019863816, 0.5306128134477888, 0.28298373208675964, 0.3765222878811279, 0.04499322936944296, 0.09117049109071336, 0.2048375968661482, 0.1791578281614794, 0.020672057095555314, 0.03445342849259219, 0.05512548558814751, 0.7097406269473991, 0.8485230572263142, 0.0035062936249021246, 0.1437580386209871, 0.0035062936249021246, 0.12660179641332284, 0.7106036314812315, 0.11435000966364645, 0.04492321808214682, 0.004083928916558802, 0.9629486578292761, 0.024690991226391693, 0.915384497482219, 0.005057372914266403, 0.08091796662826245, 0.9589895751494115, 0.02490882013375095, 0.026488789999771306, 0.2913766899974844, 0.648975354994397, 0.03973318499965696, 0.3458401608010903, 0.5689628451888905, 0.08367100664542507, 0.04771319662138196, 0.21470938479621882, 0.7236501487576263, 0.007952199436896993, 0.007952199436896993, 0.03645770022192565, 0.030761184562249768, 0.06721888478417541, 0.01025372818741659, 0.8544773489513824, 0.9568791111074775, 0.002806097100021928, 0.036479262300285066, 0.002806097100021928, 0.002806097100021928, 0.04977146221531802, 0.8958863198757244, 0.04977146221531802, 0.009954292443063605, 0.9754705946164614, 0.008409229263935012, 0.3251356241161896, 0.3915919165179602, 0.03715835704185024, 0.19079387173411566, 0.055022951773509014, 0.23217237578565889, 0.6736805002305184, 0.09134650850583301, 0.18284549980121004, 0.0058982419290712915, 0.0707789031488555, 0.7313819992048401, 0.0058982419290712915, 0.10462496828714411, 0.09154684725125109, 0.03923436310767904, 0.7618005503407681, 0.0032695302589732535, 0.18821737848274608, 0.02352717231034326, 0.7528695139309843, 0.02352717231034326, 0.2214583974142288, 0.7140124192493238, 0.01909124115639903, 0.02290948938767884, 0.01909124115639903, 0.445948332777053, 0.39107669224765546, 0.032085959292613826, 0.04603637637635896, 0.08509754421084535, 0.10514409110399647, 0.04044003503999864, 0.04448403854399851, 0.804756697295973, 0.004044003503999864, 0.9789834003068641, 0.014833081822831275, 0.014833081822831275, 0.008798783212111074, 0.07918904890899967, 0.01759756642422215, 0.8798783212111074, 0.008798783212111074, 0.11188331540387343, 0.010171210491261221, 0.040684841965044884, 0.8238680497921589, 0.08483726982759308, 0.07423261109914395, 0.02120931745689827, 0.8165587220905833, 0.9223252926228237, 0.03074417642076079, 0.03074417642076079, 0.9489508778043828, 0.03603610928371074, 0.012012036427903579, 0.05255414136975886, 0.03153248482185532, 0.02802887539720473, 0.017518047123252955, 0.8688951373133466, 0.015564718211293776, 0.2512590225537424, 0.006670593519125904, 0.7004123195082199, 0.024458842903461647, 0.030863428719300836, 0.057868928848689064, 0.030863428719300836, 0.8101650038816469, 0.06944271461842688, 0.1990152981135578, 0.7654434542829147, 0.015308869085658294, 0.015308869085658294, 0.02047855332365231, 0.015358914992739234, 0.7679457496369617, 0.19454625657469696, 0.051384407041108505, 0.010817769903391264, 0.01352221237923908, 0.22446872549536873, 0.7004506012445844, 0.08635491922001268, 0.21761439643443195, 0.017270983844002535, 0.6183012216152908, 0.05872134506960862, 0.9687512146480607, 0.014903864840739396, 0.0172435081621898, 0.06811185724064972, 0.06724968183254022, 0.7552656575039133, 0.0918216809636607, 0.9525989578054533, 0.00750077919531853, 0.02250233758595559, 0.00750077919531853, 0.06308504826496326, 0.7570205791795592, 0.17348388272864898, 0.015771262066240816, 0.16162764000673177, 0.8081382000336589, 0.016162764000673176, 0.02245706149870591, 0.8084542139534128, 0.17965649198964728, 0.9538722245906094, 0.021678914195241122, 0.43842234606868236, 0.01565794093102437, 0.5333189577718603, 0.01091311034586547, 0.00142344917554767, 0.10241174427649395, 0.014630249182356279, 0.7942135270421979, 0.043890747547068835, 0.043890747547068835, 0.9772928037384782, 0.020360266744551627, 0.21313799903841874, 0.48717256923067137, 0.16608155769227434, 0.08304077884613717, 0.04844045432691335, 0.01093507121260348, 0.0546753560630174, 0.016402606818905218, 0.02187014242520696, 0.8966758394334853, 0.07856609120371945, 0.18168408590860124, 0.6285287296297556, 0.10311799470488178, 0.07468688789155838, 0.7414992333808965, 0.03661121955468548, 0.1396107839018673, 0.007810393504999569, 0.7584258144138901, 0.010045375025349537, 0.20844153177600291, 0.020090750050699074, 0.0025113437563373843, 0.008762622262571624, 0.05257573357542974, 0.10515146715085948, 0.07010097810057299, 0.7623481368437312, 0.5895331693495774, 0.013986552060488197, 0.3923227852966939, 0.0020979828090732294, 0.0020979828090732294, 0.06356295855105171, 0.12712591710210341, 0.031781479275525854, 0.04767221891328878, 0.7389193931559761, 0.015096547780977023, 0.09057928668586214, 0.030193095561954045, 0.8605032235156903, 0.04435741001282696, 0.04435741001282696, 0.04435741001282696, 0.18851899255451457, 0.6764505026956111, 0.08143613763006391, 0.825995110247791, 0.08143613763006391, 0.9065296049882264, 0.07305366780124901, 0.013282485054772548, 0.003320621263693137, 0.1957835143956274, 0.1074115060629222, 0.29798610126820724, 0.07076945382741028, 0.3279822910884547, 0.9644714336174341, 0.025380827200458794, 0.006345206800114698, 0.9607713121145205, 0.022086696830218862, 0.011043348415109431, 0.0658320852668556, 0.09575576038815362, 0.09276339287602381, 0.7271453054475415, 0.020946572584908604, 0.13952693438451566, 0.7504286470950977, 0.022625989359651186, 0.03770998226608531, 0.052793975172519436, 0.7759173557725485, 0.16468450000070417, 0.05067215384637052, 0.006334019230796315, 0.0031670096153981575, 0.9298823439314352, 0.021984959094701183, 0.019542185861956607, 0.02442773232744576, 0.004885546465489152, 0.9198980337135725, 0.058406224362766504, 0.007300778045345813, 0.01095116706801872, 0.0036503890226729065, 0.374426615257152, 0.07705242243233996, 0.45027509358898665, 0.08427608703537183, 0.01324338510555843, 0.02736697683920613, 0.0658834627610518, 0.03953007765663107, 0.5747065136233287, 0.29292801135298413, 0.9634456793443381, 0.02189649271237132, 0.09984968287281248, 0.6686903004512594, 0.13010716253124052, 0.09984968287281248, 0.4488559280355207, 0.09156660931924622, 0.11221398200888018, 0.2037805913281264, 0.14453160882743765, 0.06127793789863806, 0.8333799554214776, 0.08578911305809328, 0.012255587579727611, 0.012255587579727611, 0.004008804267790089, 0.016035217071160356, 0.05612325974906125, 0.9220249815917206, 0.09297909010713708, 0.8368118109642336, 0.053130908632649756, 0.035157755656640095, 0.3339986787380809, 0.6152607239912017, 0.008789438914160024, 0.008789438914160024, 0.20726669261408726, 0.7559138201219653, 0.012192158389063956, 0.024384316778127912, 0.0028790127602528756, 0.039346507723455965, 0.032628811282865926, 0.31189304902739484, 0.6132297179338625, 0.5711222353993056, 0.08560145916991935, 0.12706466595534904, 0.08827650476897933, 0.12706466595534904, 0.9659499436104828, 0.029051126123623542, 0.011123200672262266, 0.043102402605016285, 0.9037600546213093, 0.041712002520983504, 0.0013904000840327833, 0.035598422499176066, 0.017799211249588033, 0.9255589849785777, 0.017799211249588033, 0.16249971280899123, 0.008124985640449561, 0.7312487076404605, 0.07312487076404606, 0.024374956921348685, 0.44374210807733416, 0.2518909322678491, 0.03795616787597726, 0.18840061509348713, 0.07798267218155329, 0.8818873734744949, 0.06220782302517184, 0.036592837073630494, 0.010977851122089148, 0.007318567414726099, 0.09761396062185941, 0.15962753560515833, 0.04708438100583807, 0.6832977243530158, 0.011483995367277577, 0.9722508129791686, 0.009626245673061074, 0.009626245673061074, 0.018661053966357345, 0.11507649945920362, 0.040432283593774244, 0.19594106664675212, 0.6313656591950901, 0.019220897230491155, 0.016475054768992418, 0.02471258215348863, 0.08786695876795957, 0.8512111630646083, 0.02298136892805972, 0.778493872438023, 0.01723602669604479, 0.1809782803084703, 0.00943723306350879, 0.4878763517074544, 0.0680624687610634, 0.06920637579906445, 0.36519232188184014, 0.03462735947186811, 0.9262818658724719, 0.008656839867967028, 0.03462735947186811, 0.020031001900046932, 0.861333081702018, 0.10015500950023466, 0.06473742942892881, 0.012947485885785762, 0.12947485885785762, 0.76390166726136, 0.025894971771571525, 0.9481745215089898, 0.04017688650461821, 0.05581295056021894, 0.38176058183189754, 0.017860144179270062, 0.14176489442295612, 0.40185324403357636, 0.007885280393035647, 0.11039392550249906, 0.5440843471194596, 0.02365584117910694, 0.3154112157214259, 0.3806689357772261, 0.07234432263639591, 0.44956829066903176, 0.09473661297623275, 0.0034449677445902815, 0.0522496074709436, 0.8824378150648253, 0.02902755970607978, 0.01741653582364787, 0.023222047764863824, 0.3582908487202354, 0.06840875393226452, 0.49852879428137764, 0.06755364450811122, 0.006840875393226452, 0.04109824045349341, 0.3640129868737988, 0.46617147028676814, 0.11390083782825318, 0.015265060739868982, 0.06802121144775326, 0.3475265530330667, 0.16572440607270797, 0.3574205474254672, 0.06060071565345291, 0.5601479271308165, 0.22382722554088527, 0.051027968517093014, 0.08813921834770612, 0.07654195277563952, 0.33112588044558555, 0.07141930754708709, 0.5367269173235635, 0.03462754305313313, 0.023806435849029025, 0.2999224852935741, 0.0560952279227383, 0.1316368015253592, 0.24607106648774532, 0.2662653485399311, 0.9479226692476456, 0.03385438104455877, 0.016927190522279385, 0.03414032395570615, 0.12192972841323627, 0.1089238907158244, 0.6974380465237114, 0.03739178338005912, 0.0023526277618286257, 0.0047052555236572514, 0.0047052555236572514, 0.7622513948324747, 0.2282048928973767, 0.15690816973301414, 0.06368625712692927, 0.07891557948336887, 0.4901072831072383, 0.21044154528898368, 0.08684445006173917, 0.8250222755865222, 0.07598889380402178, 0.16907224897482737, 0.14964469241560807, 0.20740229299707083, 0.17432293993677853, 0.29981445392741124, 0.0024495023842850128, 0.013880513510948406, 0.13390613034091403, 0.00898150874237838, 0.8418123193992827, 0.028478088097496704, 0.028478088097496704, 0.17086852858498022, 0.014239044048748352, 0.7404302905349144, 0.5838787883689761, 0.04799003740018982, 0.14397011220056946, 0.1393996324481704, 0.08455387541938206, 0.05864795580184334, 0.08296915532071801, 0.7070080341151351, 0.13438232392390875, 0.016932480677697554, 0.061429818086209315, 0.024571927234483724, 0.024571927234483724, 0.8784463986327932, 0.012285963617241862, 0.005371377973951063, 0.005371377973951063, 0.021485511895804252, 0.1181703154269234, 0.854049097858219, 0.02919751699294729, 0.009732505664315763, 0.009732505664315763, 0.9537855551029448, 0.008941719941564551, 0.015648009897737965, 0.011177149926955688, 0.02011886986852024, 0.9433514538350601, 0.0055207436940502876, 0.02208297477620115, 0.027603718470251438, 0.9385264279885489, 0.03250555373227816, 0.0038241827920327243, 0.007648365584065449, 0.013384639772114536, 0.9445731496320829, 0.024921609097247648, 0.1633498196283232, 0.5051157043846694, 0.17445126368073352, 0.13231108829811478, 0.9416842476948272, 0.04882807210269474, 0.14338046617170125, 0.1541725442706465, 0.13875528984358185, 0.4779348872390041, 0.08633662479156204, 0.04449490849712898, 0.08898981699425795, 0.08898981699425795, 0.7653124261506183, 0.60823867523974, 0.06451016252542696, 0.1628113625641728, 0.09215737503632423, 0.07218994377845399, 0.9868934187834496, 0.006429273086537131, 0.006429273086537131, 0.014840939070971603, 0.03069376035132763, 0.11501727780002992, 0.5639556846969209, 0.27556925502235907, 0.28246111801786455, 0.17254946958413483, 0.10991164843372972, 0.08745658047415053, 0.3480535533734775, 0.31732312314128375, 0.5662576421572909, 0.046504250805188135, 0.038297618310154935, 0.0328265299801328, 0.7800788630313851, 0.003436470762252798, 0.20618824573516786, 0.005154706143379197, 0.005154706143379197, 0.955146365838056, 0.017853203099776747, 0.017853203099776747, 0.008926601549888374, 0.05580335917159697, 0.011160671834319394, 0.08928537467455515, 0.8370503875739546, 0.9307345285815843, 0.06394359356667373, 0.04736138280277719, 0.08197162408172975, 0.01639432481634595, 0.21676940590501867, 0.6357354845449708, 0.01891583689431642, 0.004728959223579105, 0.014186877670737317, 0.28846651263832546, 0.671512209748233, 0.9585586583887351, 0.01711711889979884, 0.01711711889979884, 0.01711711889979884, 0.2531439629634725, 0.012199709058480604, 0.707583125391875, 0.020332848430801007, 0.007116496950780352, 0.23032324541274193, 0.6516980307991869, 0.0191051539973703, 0.08915738532106139, 0.010613974442983499, 0.03967380435623907, 0.9323344023716181, 0.03967380435623907, 0.012560915376107323, 0.9043859070797272, 0.025121830752214646, 0.0062804576880536615, 0.05652411919248295, 0.33832394967597884, 0.3490042372930413, 0.11955031622969924, 0.18742182140909622, 0.005856931919034257, 0.015498149385161687, 0.027121761424032952, 0.007749074692580843, 0.9337635004559917, 0.015498149385161687, 0.07522575138792617, 0.12224184600538003, 0.018806437846981543, 0.780467170649734, 0.009403218923490771, 0.058913828568324514, 0.6908985350285329, 0.04820222337408369, 0.19816469609345516, 0.00535580259712041, 0.17290439873980573, 0.36962197814437514, 0.1418437283075053, 0.24020251800979, 0.07454560903752103, 0.14357438879925558, 0.2063881838989299, 0.05982266199968982, 0.5892532206969447, 0.049745033406258354, 0.7295938232917892, 0.16581677802086117, 0.049745033406258354, 0.7036439353130773, 0.023101852869376, 0.2165798706504, 0.054385611963322665, 0.0024064430072266666, 0.8198539242940189, 0.02963327437207297, 0.04938879062012162, 0.05926654874414594, 0.0395110324960973, 0.9566718284005522, 0.02517557443159348, 0.21488123196207473, 0.253764502507593, 0.2957175049382838, 0.1923698648041431, 0.04195300243069078, 0.9277786611387283, 0.0215762479334588, 0.0215762479334588, 0.0215762479334588, 0.2400788784157817, 0.14487518525090276, 0.13080159582652934, 0.39571622028532294, 0.08858082755340911, 0.033963514404031135, 0.1209164008180553, 0.1078656059313211, 0.0643105434780034, 0.6728235098835613, 0.20315476983125702, 0.467815112180234, 0.15469583390820488, 0.1435130025413467, 0.029820883644955158, 0.0031049295856501275, 0.08072816922690332, 0.14282676093990587, 0.7017140863569288, 0.07141338046995294, 0.03368128901574784, 0.09262354479330655, 0.05894225577755871, 0.7830899696161372, 0.025260966761810874, 0.1014275034958375, 0.09391435508873842, 0.07888805827454028, 0.01502629681419815, 0.706235950267313, 0.2834993046167357, 0.08603710239612376, 0.38081996142546587, 0.2440068641726133, 0.005641777206303198, 0.6496850062532933, 0.012219780681880123, 0.05498901306846055, 0.07535531420492743, 0.2077362715919621, 0.16148383999235943, 0.005767279999727122, 0.0519055199975441, 0.7785827999631615, 0.9206563501718766, 0.00814740132895466, 0.057031809302682625, 0.00814740132895466, 0.00814740132895466, 0.08034219275294817, 0.2351190640858336, 0.17722542519032683, 0.5056832132097325, 0.003544508503806537, 0.08384355858943025, 0.5640384850561672, 0.06097713351958564, 0.2794785286314342, 0.012703569483247008, 0.22961901469206725, 0.33586064835556106, 0.19706109469841593, 0.17535581470264838, 0.0628310736719587, 0.0051825889227857655, 0.015547766768357297, 0.031095533536714594, 0.010365177845571531, 0.9380485950242236, 0.5115943450690762, 0.21261063691182386, 0.07889847854149713, 0.09467817424979656, 0.10215276695372787, 0.058793690164590094, 0.46953294228665704, 0.27763687022167544, 0.1192205383893077, 0.07512527076586513, 0.009478431642802711, 0.0047392158214013555, 0.0047392158214013555, 0.0047392158214013555, 0.9762784592086792, 0.9563002837986108, 0.012028934387403909, 0.024057868774807818, 0.0060144671937019546, 0.0060144671937019546, 0.3106866086020823, 0.012811818911426074, 0.5701259415584603, 0.09929159656355208, 0.009608864183569555, 0.07932523165086498, 0.04257363350069359, 0.033112826056095016, 0.08260012653553372, 0.761958876499593, 0.45357049663722265, 0.05566547004184096, 0.4164601832759953, 0.022678524831861134, 0.05154210189059348, 0.3517556149066848, 0.04735171739128449, 0.595278732919005, 0.8256448705758291, 0.159922204661084, 0.0074382420772597215, 0.0037191210386298607, 0.9432074889886605, 0.03996641902494324, 0.007993283804988647, 0.013764237165274336, 0.9634966015692035, 0.06393887804004136, 0.23684401302156163, 0.0873531150687889, 0.25755660731622293, 0.3539151981652993, 0.08255576691999487, 0.7120434896849558, 0.02063894172999872, 0.08255576691999487, 0.1031947086499936, 0.014438302040027464, 0.057753208160109856, 0.08662981224016479, 0.837421518321593, 0.16911501403503504, 0.07104087950170616, 0.07292692055042403, 0.4639660979845942, 0.22318152409828043, 0.9720070960306326, 0.01666297878909656, 0.005554326263032186, 0.9690458564900184, 0.011074809788457353, 0.01661221468268603, 0.7769186765603122, 0.17543324954587694, 0.025061892792268135, 0.17195201028265705, 0.70623147080377, 0.09211714836570913, 0.012282286448761217, 0.024564572897522435, 0.8707685643834744, 0.0025762383561641253, 0.10562577260272914, 0.020609906849313003, 0.10517116519703013, 0.07361981563792108, 0.809817972017132, 0.010517116519703013, 0.01585646582806575, 0.105709772187105, 0.042283908874842, 0.0317129316561315, 0.803394268621998, 0.9433131543980174, 0.042237902435732125, 0.014079300811910708, 0.014079300811910708, 0.15465991287582428, 0.06550302192387852, 0.4839945508819913, 0.21106529286583078, 0.08369830579162256, 0.13929298697626996, 0.07808193835160475, 0.6590461666408302, 0.09927869723929801, 0.02444116075825855, 0.6226683562844331, 0.06334504923239903, 0.1361244674994107, 0.07008388425712234, 0.10916912740051748, 0.1288560906152584, 0.17430875271584614, 0.5013031470511423, 0.08340342851467068, 0.11208714731601245, 0.03343216885225256, 0.0601779039340546, 0.006686433770450511, 0.8892956914699179, 0.013372867540901022, 0.016539228591142763, 0.7938829723748526, 0.1819315145025704, 0.28683242456511815, 0.18923798965084557, 0.042846337279436736, 0.11068637130521157, 0.37093819774327175, 0.11263376355364621, 0.8396335101271808, 0.0409577322013259, 0.2772116856244629, 0.10298646421244013, 0.5807507380400759, 0.03794238155195163, 0.0015486686347735358, 0.23095828533727839, 0.019246523778106532, 0.7506144273461547, 0.09692786249273574, 0.8698000292111286, 0.01615464374878929, 0.014879277137042768, 0.0029758554274085533, 0.10120474505310977, 0.7084332153717684, 0.011613659268389646, 0.17752307738824172, 0.0016590941811985207, 0.0740833795065265, 0.4090690955360377, 0.20292403951787696, 0.07166761713131369, 0.24238149164635303, 0.8618900500759545, 0.0027361588891300142, 0.1313356266782407, 0.0027361588891300142, 0.6258536595012011, 0.11800104797278015, 0.061241050213721344, 0.05675999775905881, 0.13741894194298448, 0.6754257163253918, 0.13333646827135567, 0.16830996814580962, 0.017486749937226972, 0.004371687484306743, 0.11602316323647005, 0.058011581618235025, 0.04350868621367627, 0.7831563518461728, 0.5434665952351749, 0.013255282810614022, 0.4241690499396487, 0.2542862185859984, 0.13726955162606996, 0.5288253218381384, 0.07876121814610572, 0.0022503205184601634, 0.26060631939868373, 0.5516484133256808, 0.08845396972291089, 0.07799167222880315, 0.021875712942225276, 0.039859044429016034, 0.09964761107254008, 0.06975332775077805, 0.7573218441513047, 0.029894283321762024, 0.22353825793019824, 0.7242639556938423, 0.00894153031720793, 0.02682459095162379, 0.01788306063441586, 0.06499101067713194, 0.16523138307745408, 0.09803728729262275, 0.4086722874782364, 0.26326867037007684, 0.24257057466584003, 0.045481982749845, 0.5761051148313701, 0.12128528733292002, 0.044219930424061964, 0.07738487824210843, 0.8733436258752239, 0.01861117250731793, 0.03722234501463586, 0.055833517521953785, 0.01861117250731793, 0.8654195215902837, 0.9441587031910451, 0.012758901394473584, 0.012758901394473584, 0.025517802788947167, 0.16050241761170875, 0.03210048352234175, 0.8025120880585438, 0.13211126508037455, 0.5427273592491063, 0.19370367920568432, 0.05266597729555472, 0.07855264410184433, 0.2044081637037261, 0.5975007862108916, 0.06446719009117516, 0.12421726871226432, 0.009434222940171974, 0.09236377763184947, 0.06465464434229462, 0.7666193543443506, 0.07389102210547957, 0.06336210495631993, 0.05361408880919378, 0.06238730334160731, 0.13257301960091553, 0.6882099399871057, 0.020936061846049944, 0.5682645358213556, 0.36488564931687045, 0.03888125771409275, 0.008972597934021404, 0.2900085148308344, 0.6162680940155231, 0.0616268094015523, 0.03262595791846887, 0.06468479730596323, 0.19664178381012823, 0.13195698650416499, 0.5511144730468067, 0.05692262162924765, 0.3803543040940025, 0.08931802919357842, 0.32114347575219204, 0.19469323217476645, 0.014050027064158402, 0.03721223889648424, 0.9489120918603483, 0.12257550188082418, 0.08485996284057058, 0.5940197398839941, 0.15557659854104608, 0.04714442380031699, 0.15301090611761223, 0.0327880513109169, 0.043717401747889205, 0.765054530588061, 0.02086097061833851, 0.17455354330645897, 0.14740914780307873, 0.4490135422850813, 0.20810703219258175, 0.17263712465741363, 0.7847142029882438, 0.03138856811952975, 0.9377190507886298, 0.005515994416403705, 0.03309596649842223, 0.02206397766561482, 0.2426802079666953, 0.7152679813755229, 0.02554528504912582, 0.01277264252456291, 0.005383559818785694, 0.07536983746299972, 0.8209928723648183, 0.010767119637571388, 0.0915205169193568, 0.5086589900513085, 0.11317662528641616, 0.0267045969776937, 0.33359552097531653, 0.018226947143505225, 0.23515686508920114, 0.07235595848898496, 0.6331146367786185, 0.01808898962224624, 0.05426696886673872, 0.007006185252154336, 0.14712989029524107, 0.007006185252154336, 0.11910514928662372, 0.7216370809718967, 0.06597245141464167, 0.0710472553696141, 0.09134647118950386, 0.7713702011558103, 0.8005283949157138, 0.05763804443393139, 0.04963276048477425, 0.08965918023055995, 0.003202113579662855, 0.8648829621440085, 0.023317922998980622, 0.016958489453804088, 0.06147452427003982, 0.033916978907608177, 0.02738182490389357, 0.013690912451946785, 0.02738182490389357, 0.9172911342804346, 0.1410396987018136, 0.30592867590130995, 0.09375233616330467, 0.1465908238693777, 0.3129189816678722, 0.014670581329704814, 0.024450968882841356, 0.002445096888284136, 0.9413623019893923, 0.01711567821798895, 0.04594003361027749, 0.00706769747850423, 0.8174970083469892, 0.12839650419282683, 0.0011779495797507049, 0.04949736190142169, 0.14000682366402134, 0.08909525142255904, 0.7184188527406348, 0.0028284206800812395, 0.9627747944435217, 0.02005780821757337, 0.22436656848328196, 0.2947987922466423, 0.052279588772803566, 0.33981732702322315, 0.08858485875391715, 0.1715906892986705, 0.13369335914681688, 0.11790280491687788, 0.5537221016631944, 0.02315947953724387, 0.855237700135633, 0.010591178949048088, 0.047660305270716394, 0.08208163685512268, 0.005295589474524044, 0.03726568611179036, 0.843136148279257, 0.03726568611179036, 0.06521495069563314, 0.00931642152794759, 0.39497303448134524, 0.23679438518066262, 0.21311494666259637, 0.0842988011243159, 0.07009113801347613, 0.1903358927732884, 0.051372710600077844, 0.6174999814129357, 0.09683755948114674, 0.04418053111606695, 0.12142370287847486, 0.008585514344942667, 0.02902721516623473, 0.10384384017216368, 0.7367188975993659, 0.0037962790727042637, 0.04555534887245116, 0.03416651165433837, 0.0037962790727042637, 0.9149032565217275], \"Term\": [\"2\", \"2\", \"2\", \"2\", \"2\", \"3\", \"3\", \"3\", \"3\", \"3\", \"4\", \"4\", \"4\", \"4\", \"4\", \"5\", \"5\", \"5\", \"5\", \"5\", \"8\", \"8\", \"8\", \"8\", \"8\", \"9\", \"9\", \"9\", \"9\", \"9\", \"AA\", \"AA\", \"AA\", \"AA\", \"Alexa\", \"Alexa\", \"Alexa\", \"Alexa\", \"Alexa\", \"Alkaline\", \"Alkaline\", \"AmazonBasics\", \"AmazonBasics\", \"AmazonBasics\", \"Batteries\", \"Batteries\", \"Best\", \"Best\", \"Best\", \"Best\", \"Black\", \"Black\", \"Black\", \"Buy\", \"Buy\", \"Buy\", \"Buy\", \"Buy\", \"Christmas\", \"Christmas\", \"Christmas\", \"Christmas\", \"Christmas\", \"Duracell\", \"Duracell\", \"Duracell\", \"Duracell\", \"Duracell\", \"Echo\", \"Echo\", \"Echo\", \"Echo\", \"Energizer\", \"Energizer\", \"Fire\", \"Fire\", \"Fire\", \"Fire\", \"Fire\", \"Friday\", \"Friday\", \"Friday\", \"GB\", \"GB\", \"GB\", \"GB\", \"GB\", \"Google\", \"Google\", \"Google\", \"Google\", \"Google\", \"Great\", \"Great\", \"Great\", \"Great\", \"HD\", \"HD\", \"HD\", \"HD\", \"HD\", \"Kindle\", \"Kindle\", \"Kindle\", \"Kindle\", \"Kindle\", \"Netflix\", \"Netflix\", \"Netflix\", \"Netflix\", \"Netflix\", \"Paperwhite\", \"Paperwhite\", \"Paperwhite\", \"Play\", \"Play\", \"Play\", \"Play\", \"Play\", \"SD\", \"SD\", \"SD\", \"SD\", \"Store\", \"Store\", \"Store\", \"Store\", \"Tap\", \"Tap\", \"Tap\", \"Xbox\", \"Xbox\", \"Xbox\", \"absolutely\", \"absolutely\", \"absolutely\", \"absolutely\", \"absolutely\", \"access\", \"access\", \"access\", \"access\", \"access\", \"account\", \"account\", \"account\", \"account\", \"account\", \"adjust\", \"adjust\", \"adjust\", \"adjust\", \"adult\", \"adult\", \"adult\", \"adult\", \"age\", \"age\", \"age\", \"age\", \"age\", \"allow\", \"allow\", \"allow\", \"allow\", \"allow\", \"anymore\", \"anymore\", \"app\", \"app\", \"app\", \"app\", \"app\", \"appear\", \"appear\", \"appear\", \"appear\", \"avid\", \"avid\", \"avid\", \"avid\", \"bag\", \"bag\", \"bag\", \"bang\", \"bang\", \"bang\", \"batch\", \"batch\", \"battery\", \"battery\", \"battery\", \"battery\", \"battery\", \"beat\", \"beat\", \"beat\", \"beat\", \"beat\", \"bed\", \"bed\", \"big\", \"big\", \"big\", \"big\", \"big\", \"birthday\", \"birthday\", \"birthday\", \"birthday\", \"birthday\", \"black\", \"black\", \"black\", \"black\", \"book\", \"book\", \"book\", \"book\", \"book\", \"box\", \"box\", \"box\", \"box\", \"box\", \"boy\", \"boy\", \"boy\", \"boy\", \"boy\", \"brand\", \"brand\", \"brand\", \"brand\", \"brand\", \"bring\", \"bring\", \"bring\", \"bring\", \"bring\", \"browsing\", \"browsing\", \"browsing\", \"browsing\", \"bumper\", \"bumper\", \"bumper\", \"bumper\", \"bumper\", \"busy\", \"busy\", \"busy\", \"button\", \"button\", \"button\", \"button\", \"buy\", \"buy\", \"buy\", \"buy\", \"buy\", \"cable\", \"cable\", \"cable\", \"candle\", \"candle\", \"candle\", \"card\", \"card\", \"card\", \"card\", \"card\", \"carry\", \"carry\", \"carry\", \"carry\", \"carry\", \"change\", \"change\", \"change\", \"change\", \"change\", \"charge\", \"charge\", \"charge\", \"charge\", \"charge\", \"charger\", \"charger\", \"charger\", \"charger\", \"charger\", \"cheap\", \"cheap\", \"cheap\", \"cheap\", \"cheap\", \"child\", \"child\", \"child\", \"child\", \"child\", \"class\", \"class\", \"clear\", \"clear\", \"clear\", \"clear\", \"come\", \"come\", \"come\", \"come\", \"come\", \"compact\", \"compact\", \"compact\", \"compact\", \"compact\", \"content\", \"content\", \"content\", \"content\", \"crisp\", \"crisp\", \"crisp\", \"customer\", \"customer\", \"customer\", \"customer\", \"customer\", \"dark\", \"dark\", \"dark\", \"dark\", \"daughter\", \"daughter\", \"daughter\", \"daughter\", \"daughter\", \"day\", \"day\", \"day\", \"day\", \"day\", \"dead\", \"dead\", \"deal\", \"deal\", \"deal\", \"deal\", \"deal\", \"delivery\", \"delivery\", \"delivery\", \"delivery\", \"describe\", \"describe\", \"describe\", \"describe\", \"describe\", \"device\", \"device\", \"device\", \"device\", \"device\", \"difference\", \"difference\", \"difference\", \"difference\", \"difference\", \"download\", \"download\", \"download\", \"download\", \"download\", \"drain\", \"drain\", \"drain\", \"drop\", \"drop\", \"drop\", \"drop\", \"drop\", \"durable\", \"durable\", \"durable\", \"durable\", \"durable\", \"e\", \"e\", \"e\", \"e\", \"easy\", \"easy\", \"easy\", \"easy\", \"easy\", \"ebook\", \"ebook\", \"ebook\", \"ebook\", \"echo\", \"echo\", \"echo\", \"edition\", \"edition\", \"edition\", \"edition\", \"edition\", \"energizer\", \"energizer\", \"enjoy\", \"enjoy\", \"enjoy\", \"enjoy\", \"enjoy\", \"everyday\", \"everyday\", \"everyday\", \"everyday\", \"everyday\", \"expect\", \"expect\", \"expect\", \"expect\", \"expect\", \"eye\", \"eye\", \"eye\", \"eye\", \"eye\", \"far\", \"far\", \"far\", \"far\", \"far\", \"fast\", \"fast\", \"fast\", \"fast\", \"fast\", \"feature\", \"feature\", \"feature\", \"feature\", \"feature\", \"find\", \"find\", \"find\", \"find\", \"find\", \"fine\", \"fine\", \"fine\", \"fine\", \"fine\", \"fire\", \"fire\", \"fire\", \"fire\", \"fire\", \"flash\", \"flash\", \"flash\", \"free\", \"free\", \"free\", \"free\", \"free\", \"friendly\", \"friendly\", \"friendly\", \"friendly\", \"friendly\", \"game\", \"game\", \"game\", \"game\", \"game\", \"gb\", \"gb\", \"gb\", \"get\", \"get\", \"get\", \"get\", \"get\", \"gift\", \"gift\", \"gift\", \"gift\", \"gift\", \"girl\", \"girl\", \"girl\", \"girl\", \"girl\", \"go\", \"go\", \"go\", \"go\", \"go\", \"good\", \"good\", \"good\", \"good\", \"good\", \"google\", \"google\", \"google\", \"google\", \"google\", \"grand\", \"grand\", \"grand\", \"grand\", \"grand\", \"grandchild\", \"grandchild\", \"grandchild\", \"grandchild\", \"granddaughter\", \"granddaughter\", \"granddaughter\", \"granddaughter\", \"granddaughter\", \"grandkid\", \"grandkid\", \"grandkid\", \"grandkid\", \"grandson\", \"grandson\", \"grandson\", \"grandson\", \"grandson\", \"great\", \"great\", \"great\", \"great\", \"great\", \"half\", \"half\", \"iPad\", \"iPad\", \"iPad\", \"iPad\", \"iPad\", \"install\", \"install\", \"install\", \"install\", \"issue\", \"issue\", \"issue\", \"issue\", \"issue\", \"keyboard\", \"keyboard\", \"keyboard\", \"kid\", \"kid\", \"kid\", \"kid\", \"kid\", \"kindle\", \"kindle\", \"kindle\", \"kindle\", \"kindle\", \"large\", \"large\", \"large\", \"large\", \"large\", \"last\", \"last\", \"last\", \"last\", \"last\", \"lasting\", \"lasting\", \"lasting\", \"lasting\", \"law\", \"law\", \"law\", \"law\", \"leak\", \"leak\", \"learn\", \"learn\", \"learn\", \"learn\", \"learn\", \"learning\", \"learning\", \"learning\", \"learning\", \"learning\", \"led\", \"led\", \"led\", \"led\", \"life\", \"life\", \"life\", \"life\", \"life\", \"light\", \"light\", \"light\", \"light\", \"light\", \"lighting\", \"lighting\", \"lighting\", \"lightweight\", \"lightweight\", \"lightweight\", \"lightweight\", \"lightweight\", \"like\", \"like\", \"like\", \"like\", \"like\", \"limit\", \"limit\", \"limit\", \"limit\", \"limit\", \"limited\", \"limited\", \"limited\", \"limited\", \"limited\", \"listen\", \"listen\", \"listen\", \"listen\", \"listen\", \"little\", \"little\", \"little\", \"little\", \"little\", \"load\", \"load\", \"load\", \"load\", \"lol\", \"lol\", \"lol\", \"lol\", \"long\", \"long\", \"long\", \"long\", \"long\", \"longer\", \"longer\", \"longer\", \"longer\", \"longer\", \"longevity\", \"longevity\", \"look\", \"look\", \"look\", \"look\", \"look\", \"loose\", \"loose\", \"loose\", \"loose\", \"lot\", \"lot\", \"lot\", \"lot\", \"lot\", \"love\", \"love\", \"love\", \"love\", \"love\", \"make\", \"make\", \"make\", \"make\", \"make\", \"memory\", \"memory\", \"memory\", \"memory\", \"memory\", \"mode\", \"mode\", \"mode\", \"mode\", \"mode\", \"mom\", \"mom\", \"mom\", \"mom\", \"mom\", \"money\", \"money\", \"money\", \"money\", \"money\", \"month\", \"month\", \"month\", \"month\", \"month\", \"mother\", \"mother\", \"mother\", \"mother\", \"mouse\", \"mouse\", \"mouse\", \"mouse\", \"mouse\", \"movie\", \"movie\", \"movie\", \"movie\", \"movie\", \"music\", \"music\", \"music\", \"music\", \"music\", \"need\", \"need\", \"need\", \"need\", \"need\", \"nephew\", \"nephew\", \"nephew\", \"nephew\", \"nephew\", \"new\", \"new\", \"new\", \"new\", \"new\", \"nice\", \"nice\", \"nice\", \"nice\", \"nice\", \"niece\", \"niece\", \"niece\", \"niece\", \"niece\", \"notice\", \"notice\", \"notice\", \"notice\", \"notice\", \"ok\", \"ok\", \"ok\", \"ok\", \"ok\", \"old\", \"old\", \"old\", \"old\", \"old\", \"order\", \"order\", \"order\", \"order\", \"order\", \"packaging\", \"packaging\", \"packaging\", \"page\", \"page\", \"page\", \"page\", \"pair\", \"pair\", \"pair\", \"paper\", \"paper\", \"perfect\", \"perfect\", \"perfect\", \"perfect\", \"perfect\", \"person\", \"person\", \"person\", \"person\", \"person\", \"pink\", \"pink\", \"pink\", \"pink\", \"play\", \"play\", \"play\", \"play\", \"play\", \"plug\", \"plug\", \"plug\", \"port\", \"port\", \"port\", \"portability\", \"portability\", \"portability\", \"portable\", \"portable\", \"portable\", \"portable\", \"portable\", \"power\", \"power\", \"power\", \"power\", \"pre\", \"pre\", \"pre\", \"pre\", \"present\", \"present\", \"present\", \"present\", \"present\", \"press\", \"press\", \"press\", \"press\", \"pretty\", \"pretty\", \"pretty\", \"pretty\", \"pretty\", \"price\", \"price\", \"price\", \"price\", \"price\", \"problem\", \"problem\", \"problem\", \"problem\", \"problem\", \"product\", \"product\", \"product\", \"product\", \"product\", \"profile\", \"profile\", \"profile\", \"profile\", \"profile\", \"proof\", \"proof\", \"proof\", \"purchase\", \"purchase\", \"purchase\", \"purchase\", \"purchase\", \"purse\", \"purse\", \"purse\", \"quality\", \"quality\", \"quality\", \"quality\", \"quality\", \"quantity\", \"quantity\", \"quantity\", \"read\", \"read\", \"read\", \"read\", \"read\", \"reader\", \"reader\", \"reader\", \"reader\", \"reader\", \"recommend\", \"recommend\", \"recommend\", \"recommend\", \"recommend\", \"remote\", \"remote\", \"remote\", \"remote\", \"replace\", \"replace\", \"replace\", \"replace\", \"replace\", \"review\", \"review\", \"review\", \"review\", \"review\", \"road\", \"road\", \"road\", \"road\", \"rough\", \"rough\", \"rough\", \"sale\", \"sale\", \"sale\", \"sale\", \"sale\", \"screen\", \"screen\", \"screen\", \"screen\", \"screen\", \"sd\", \"sd\", \"sd\", \"sd\", \"sd\", \"search\", \"search\", \"search\", \"search\", \"search\", \"set\", \"set\", \"set\", \"set\", \"set\", \"ship\", \"ship\", \"ship\", \"ship\", \"shipping\", \"shipping\", \"shipping\", \"sister\", \"sister\", \"sister\", \"sister\", \"sister\", \"sit\", \"sit\", \"sit\", \"sit\", \"site\", \"site\", \"site\", \"size\", \"size\", \"size\", \"size\", \"size\", \"small\", \"small\", \"small\", \"small\", \"small\", \"solid\", \"solid\", \"solid\", \"solid\", \"son\", \"son\", \"son\", \"son\", \"son\", \"sound\", \"sound\", \"sound\", \"sound\", \"sound\", \"speaker\", \"speaker\", \"speaker\", \"speaker\", \"storage\", \"storage\", \"storage\", \"storage\", \"storage\", \"store\", \"store\", \"store\", \"store\", \"store\", \"streaming\", \"streaming\", \"stuff\", \"stuff\", \"stuff\", \"stuff\", \"stuff\", \"subscription\", \"subscription\", \"subscription\", \"subscription\", \"tablet\", \"tablet\", \"tablet\", \"tablet\", \"tablet\", \"tap\", \"tap\", \"tap\", \"test\", \"test\", \"test\", \"test\", \"text\", \"text\", \"text\", \"text\", \"thank\", \"thank\", \"thank\", \"thank\", \"thank\", \"time\", \"time\", \"time\", \"time\", \"time\", \"today\", \"today\", \"today\", \"today\", \"today\", \"tool\", \"tool\", \"tool\", \"tool\", \"tool\", \"trip\", \"trip\", \"trip\", \"trip\", \"try\", \"try\", \"try\", \"try\", \"try\", \"turn\", \"turn\", \"turn\", \"turn\", \"turn\", \"unlimited\", \"unlimited\", \"unlimited\", \"unlimited\", \"use\", \"use\", \"use\", \"use\", \"use\", \"user\", \"user\", \"user\", \"user\", \"user\", \"value\", \"value\", \"value\", \"value\", \"value\", \"video\", \"video\", \"video\", \"video\", \"video\", \"voice\", \"voice\", \"want\", \"want\", \"want\", \"want\", \"want\", \"watch\", \"watch\", \"watch\", \"watch\", \"watch\", \"week\", \"week\", \"week\", \"week\", \"week\", \"weight\", \"weight\", \"weight\", \"weight\", \"weight\", \"well\", \"well\", \"well\", \"well\", \"well\", \"work\", \"work\", \"work\", \"work\", \"work\", \"year\", \"year\", \"year\", \"year\", \"year\", \"yr\", \"yr\", \"yr\", \"yr\", \"yr\"]}, \"R\": 30, \"lambda.step\": 0.01, \"plot.opts\": {\"xlab\": \"PC1\", \"ylab\": \"PC2\"}, \"topic.order\": [5, 3, 2, 1, 4]};\n",
       "\n",
       "function LDAvis_load_lib(url, callback){\n",
       "  var s = document.createElement('script');\n",
       "  s.src = url;\n",
       "  s.async = true;\n",
       "  s.onreadystatechange = s.onload = callback;\n",
       "  s.onerror = function(){console.warn(\"failed to load library \" + url);};\n",
       "  document.getElementsByTagName(\"head\")[0].appendChild(s);\n",
       "}\n",
       "\n",
       "if(typeof(LDAvis) !== \"undefined\"){\n",
       "   // already loaded: just create the visualization\n",
       "   !function(LDAvis){\n",
       "       new LDAvis(\"#\" + \"ldavis_el4391400133932908487849763505\", ldavis_el4391400133932908487849763505_data);\n",
       "   }(LDAvis);\n",
       "}else if(typeof define === \"function\" && define.amd){\n",
       "   // require.js is available: use it to load d3/LDAvis\n",
       "   require.config({paths: {d3: \"https://cdnjs.cloudflare.com/ajax/libs/d3/3.5.5/d3.min\"}});\n",
       "   require([\"d3\"], function(d3){\n",
       "      window.d3 = d3;\n",
       "      LDAvis_load_lib(\"https://cdn.rawgit.com/bmabey/pyLDAvis/files/ldavis.v1.0.0.js\", function(){\n",
       "        new LDAvis(\"#\" + \"ldavis_el4391400133932908487849763505\", ldavis_el4391400133932908487849763505_data);\n",
       "      });\n",
       "    });\n",
       "}else{\n",
       "    // require.js not available: dynamically load d3 & LDAvis\n",
       "    LDAvis_load_lib(\"https://cdnjs.cloudflare.com/ajax/libs/d3/3.5.5/d3.min.js\", function(){\n",
       "         LDAvis_load_lib(\"https://cdn.rawgit.com/bmabey/pyLDAvis/files/ldavis.v1.0.0.js\", function(){\n",
       "                 new LDAvis(\"#\" + \"ldavis_el4391400133932908487849763505\", ldavis_el4391400133932908487849763505_data);\n",
       "            })\n",
       "         });\n",
       "}\n",
       "</script>"
      ],
      "text/plain": [
       "PreparedData(topic_coordinates=              x         y  topics  cluster       Freq\n",
       "topic                                                \n",
       "4      0.130953  0.119080       1        1  25.671870\n",
       "2      0.014104 -0.015074       2        1  19.366537\n",
       "1      0.090668 -0.089513       3        1  19.127379\n",
       "0     -0.032920 -0.060069       4        1  19.062871\n",
       "3     -0.202804  0.045575       5        1  16.771343, topic_info=          Term         Freq        Total Category  logprob  loglift\n",
       "70        love  6359.000000  6359.000000  Default  30.0000  30.0000\n",
       "27        good  6496.000000  6496.000000  Default  29.0000  29.0000\n",
       "18       great  8827.000000  8827.000000  Default  28.0000  28.0000\n",
       "425       read  2352.000000  2352.000000  Default  27.0000  27.0000\n",
       "15       price  4623.000000  4623.000000  Default  26.0000  26.0000\n",
       "..         ...          ...          ...      ...      ...      ...\n",
       "130       game   455.978897  2166.872513   Topic5  -4.6000   0.2269\n",
       "426       fire   356.024966  1337.012127   Topic5  -4.8474   0.4623\n",
       "257       play   355.081954  1590.633461   Topic5  -4.8501   0.2860\n",
       "123  recommend   300.679991  1241.843995   Topic5  -5.0164   0.3672\n",
       "254      child   288.811954   986.590523   Topic5  -5.0566   0.5570\n",
       "\n",
       "[344 rows x 6 columns], token_table=      Topic      Freq Term\n",
       "term                      \n",
       "154       1  0.283676    2\n",
       "154       2  0.005849    2\n",
       "154       3  0.055565    2\n",
       "154       4  0.148175    2\n",
       "154       5  0.505938    2\n",
       "...     ...       ...  ...\n",
       "541       1  0.003796   yr\n",
       "541       2  0.045555   yr\n",
       "541       3  0.034167   yr\n",
       "541       4  0.003796   yr\n",
       "541       5  0.914903   yr\n",
       "\n",
       "[1130 rows x 3 columns], R=30, lambda_step=0.01, plot_opts={'xlab': 'PC1', 'ylab': 'PC2'}, topic_order=[5, 3, 2, 1, 4])"
      ]
     },
     "execution_count": 31,
     "metadata": {},
     "output_type": "execute_result"
    }
   ],
   "source": [
    "pyLDAvis.gensim.prepare(lda, corpus, id2word)"
   ]
  },
  {
   "cell_type": "markdown",
   "metadata": {},
   "source": [
    "### Label Our Review with the most common topic"
   ]
  },
  {
   "cell_type": "code",
   "execution_count": 32,
   "metadata": {},
   "outputs": [
    {
     "name": "stderr",
     "output_type": "stream",
     "text": [
      "/home/jepoy/miniconda3/envs/ds-unit-4/lib/python3.7/site-packages/ipykernel/ipkernel.py:287: DeprecationWarning: `should_run_async` will not call `transform_cell` automatically in the future. Please pass the result to `transformed_cell` argument and any exception that happen during thetransform in `preprocessing_exc_tuple` in IPython 7.17 and above.\n",
      "  and should_run_async(code)\n"
     ]
    }
   ],
   "source": [
    "doc_topics = [lda[doc] for doc in corpus]"
   ]
  },
  {
   "cell_type": "code",
   "execution_count": 33,
   "metadata": {},
   "outputs": [
    {
     "name": "stderr",
     "output_type": "stream",
     "text": [
      "/home/jepoy/miniconda3/envs/ds-unit-4/lib/python3.7/site-packages/ipykernel/ipkernel.py:287: DeprecationWarning: `should_run_async` will not call `transform_cell` automatically in the future. Please pass the result to `transformed_cell` argument and any exception that happen during thetransform in `preprocessing_exc_tuple` in IPython 7.17 and above.\n",
      "  and should_run_async(code)\n"
     ]
    },
    {
     "data": {
      "text/plain": [
       "[(0, 0.022384927),\n",
       " (1, 0.2560677),\n",
       " (2, 0.02234057),\n",
       " (3, 0.02263727),\n",
       " (4, 0.6765695)]"
      ]
     },
     "execution_count": 33,
     "metadata": {},
     "output_type": "execute_result"
    }
   ],
   "source": [
    "doc_topics[0]"
   ]
  },
  {
   "cell_type": "code",
   "execution_count": 34,
   "metadata": {},
   "outputs": [
    {
     "name": "stderr",
     "output_type": "stream",
     "text": [
      "/home/jepoy/miniconda3/envs/ds-unit-4/lib/python3.7/site-packages/ipykernel/ipkernel.py:287: DeprecationWarning: `should_run_async` will not call `transform_cell` automatically in the future. Please pass the result to `transformed_cell` argument and any exception that happen during thetransform in `preprocessing_exc_tuple` in IPython 7.17 and above.\n",
      "  and should_run_async(code)\n"
     ]
    }
   ],
   "source": [
    "def update(doc):\n",
    "    d_dist = {k:0 for k in range(0,5)}\n",
    "    for t in doc:\n",
    "        d_dist[t[0]] = t[1]\n",
    "    return d_dist\n",
    "\n",
    "new_distro = [update(d) for d in doc_topics]"
   ]
  },
  {
   "cell_type": "code",
   "execution_count": 35,
   "metadata": {},
   "outputs": [
    {
     "name": "stderr",
     "output_type": "stream",
     "text": [
      "/home/jepoy/miniconda3/envs/ds-unit-4/lib/python3.7/site-packages/ipykernel/ipkernel.py:287: DeprecationWarning: `should_run_async` will not call `transform_cell` automatically in the future. Please pass the result to `transformed_cell` argument and any exception that happen during thetransform in `preprocessing_exc_tuple` in IPython 7.17 and above.\n",
      "  and should_run_async(code)\n"
     ]
    }
   ],
   "source": [
    "dft = pd.DataFrame.from_records(new_distro)\n",
    "dft.columns = topics"
   ]
  },
  {
   "cell_type": "code",
   "execution_count": 36,
   "metadata": {},
   "outputs": [
    {
     "name": "stderr",
     "output_type": "stream",
     "text": [
      "/home/jepoy/miniconda3/envs/ds-unit-4/lib/python3.7/site-packages/ipykernel/ipkernel.py:287: DeprecationWarning: `should_run_async` will not call `transform_cell` automatically in the future. Please pass the result to `transformed_cell` argument and any exception that happen during thetransform in `preprocessing_exc_tuple` in IPython 7.17 and above.\n",
      "  and should_run_async(code)\n"
     ]
    },
    {
     "data": {
      "text/html": [
       "<div>\n",
       "<style scoped>\n",
       "    .dataframe tbody tr th:only-of-type {\n",
       "        vertical-align: middle;\n",
       "    }\n",
       "\n",
       "    .dataframe tbody tr th {\n",
       "        vertical-align: top;\n",
       "    }\n",
       "\n",
       "    .dataframe thead th {\n",
       "        text-align: right;\n",
       "    }\n",
       "</style>\n",
       "<table border=\"1\" class=\"dataframe\">\n",
       "  <thead>\n",
       "    <tr style=\"text-align: right;\">\n",
       "      <th></th>\n",
       "      <th>tablet app kid great game</th>\n",
       "      <th>good great price work buy</th>\n",
       "      <th>read easy book use great</th>\n",
       "      <th>love old buy year tablet</th>\n",
       "      <th>long time charge buy like</th>\n",
       "    </tr>\n",
       "  </thead>\n",
       "  <tbody>\n",
       "    <tr>\n",
       "      <th>0</th>\n",
       "      <td>0.022385</td>\n",
       "      <td>0.256068</td>\n",
       "      <td>0.022341</td>\n",
       "      <td>0.022637</td>\n",
       "      <td>0.676570</td>\n",
       "    </tr>\n",
       "    <tr>\n",
       "      <th>1</th>\n",
       "      <td>0.033798</td>\n",
       "      <td>0.223605</td>\n",
       "      <td>0.034137</td>\n",
       "      <td>0.033530</td>\n",
       "      <td>0.674930</td>\n",
       "    </tr>\n",
       "    <tr>\n",
       "      <th>2</th>\n",
       "      <td>0.050537</td>\n",
       "      <td>0.238379</td>\n",
       "      <td>0.050961</td>\n",
       "      <td>0.050920</td>\n",
       "      <td>0.609202</td>\n",
       "    </tr>\n",
       "    <tr>\n",
       "      <th>3</th>\n",
       "      <td>0.040198</td>\n",
       "      <td>0.838395</td>\n",
       "      <td>0.040379</td>\n",
       "      <td>0.040140</td>\n",
       "      <td>0.040888</td>\n",
       "    </tr>\n",
       "    <tr>\n",
       "      <th>4</th>\n",
       "      <td>0.040216</td>\n",
       "      <td>0.837573</td>\n",
       "      <td>0.040155</td>\n",
       "      <td>0.040105</td>\n",
       "      <td>0.041951</td>\n",
       "    </tr>\n",
       "  </tbody>\n",
       "</table>\n",
       "</div>"
      ],
      "text/plain": [
       "   tablet app kid great game  good great price work buy  \\\n",
       "0                   0.022385                   0.256068   \n",
       "1                   0.033798                   0.223605   \n",
       "2                   0.050537                   0.238379   \n",
       "3                   0.040198                   0.838395   \n",
       "4                   0.040216                   0.837573   \n",
       "\n",
       "   read easy book use great  love old buy year tablet  \\\n",
       "0                  0.022341                  0.022637   \n",
       "1                  0.034137                  0.033530   \n",
       "2                  0.050961                  0.050920   \n",
       "3                  0.040379                  0.040140   \n",
       "4                  0.040155                  0.040105   \n",
       "\n",
       "   long time charge buy like  \n",
       "0                   0.676570  \n",
       "1                   0.674930  \n",
       "2                   0.609202  \n",
       "3                   0.040888  \n",
       "4                   0.041951  "
      ]
     },
     "execution_count": 36,
     "metadata": {},
     "output_type": "execute_result"
    }
   ],
   "source": [
    "dft.head()"
   ]
  },
  {
   "cell_type": "code",
   "execution_count": 37,
   "metadata": {},
   "outputs": [
    {
     "name": "stderr",
     "output_type": "stream",
     "text": [
      "/home/jepoy/miniconda3/envs/ds-unit-4/lib/python3.7/site-packages/ipykernel/ipkernel.py:287: DeprecationWarning: `should_run_async` will not call `transform_cell` automatically in the future. Please pass the result to `transformed_cell` argument and any exception that happen during thetransform in `preprocessing_exc_tuple` in IPython 7.17 and above.\n",
      "  and should_run_async(code)\n"
     ]
    }
   ],
   "source": [
    "df['primary_topic'] = dft.idxmax(axis=1)"
   ]
  },
  {
   "cell_type": "code",
   "execution_count": 38,
   "metadata": {},
   "outputs": [
    {
     "name": "stderr",
     "output_type": "stream",
     "text": [
      "/home/jepoy/miniconda3/envs/ds-unit-4/lib/python3.7/site-packages/ipykernel/ipkernel.py:287: DeprecationWarning: `should_run_async` will not call `transform_cell` automatically in the future. Please pass the result to `transformed_cell` argument and any exception that happen during thetransform in `preprocessing_exc_tuple` in IPython 7.17 and above.\n",
      "  and should_run_async(code)\n"
     ]
    },
    {
     "data": {
      "text/html": [
       "<div>\n",
       "<style scoped>\n",
       "    .dataframe tbody tr th:only-of-type {\n",
       "        vertical-align: middle;\n",
       "    }\n",
       "\n",
       "    .dataframe tbody tr th {\n",
       "        vertical-align: top;\n",
       "    }\n",
       "\n",
       "    .dataframe thead th {\n",
       "        text-align: right;\n",
       "    }\n",
       "</style>\n",
       "<table border=\"1\" class=\"dataframe\">\n",
       "  <thead>\n",
       "    <tr style=\"text-align: right;\">\n",
       "      <th></th>\n",
       "      <th>id</th>\n",
       "      <th>dateAdded</th>\n",
       "      <th>dateUpdated</th>\n",
       "      <th>name</th>\n",
       "      <th>asins</th>\n",
       "      <th>brand</th>\n",
       "      <th>categories</th>\n",
       "      <th>primaryCategories</th>\n",
       "      <th>imageURLs</th>\n",
       "      <th>keys</th>\n",
       "      <th>...</th>\n",
       "      <th>reviews.id</th>\n",
       "      <th>reviews.numHelpful</th>\n",
       "      <th>reviews.rating</th>\n",
       "      <th>reviews.sourceURLs</th>\n",
       "      <th>reviews.text</th>\n",
       "      <th>reviews.title</th>\n",
       "      <th>reviews.username</th>\n",
       "      <th>sourceURLs</th>\n",
       "      <th>lemmas</th>\n",
       "      <th>primary_topic</th>\n",
       "    </tr>\n",
       "  </thead>\n",
       "  <tbody>\n",
       "    <tr>\n",
       "      <th>0</th>\n",
       "      <td>AVpgNzjwLJeJML43Kpxn</td>\n",
       "      <td>2015-10-30T08:59:32Z</td>\n",
       "      <td>2019-04-25T09:08:16Z</td>\n",
       "      <td>AmazonBasics AAA Performance Alkaline Batterie...</td>\n",
       "      <td>B00QWO9P0O,B00LH3DMUO</td>\n",
       "      <td>Amazonbasics</td>\n",
       "      <td>AA,AAA,Health,Electronics,Health &amp; Household,C...</td>\n",
       "      <td>Health &amp; Beauty</td>\n",
       "      <td>https://images-na.ssl-images-amazon.com/images...</td>\n",
       "      <td>amazonbasics/hl002619,amazonbasicsaaaperforman...</td>\n",
       "      <td>...</td>\n",
       "      <td>NaN</td>\n",
       "      <td>NaN</td>\n",
       "      <td>3</td>\n",
       "      <td>https://www.amazon.com/product-reviews/B00QWO9...</td>\n",
       "      <td>I order 3 of them and one of the item is bad q...</td>\n",
       "      <td>... 3 of them and one of the item is bad quali...</td>\n",
       "      <td>Byger yang</td>\n",
       "      <td>https://www.barcodable.com/upc/841710106442,ht...</td>\n",
       "      <td>[order, 3, item, bad, quality, miss, backup, s...</td>\n",
       "      <td>long time charge buy like</td>\n",
       "    </tr>\n",
       "    <tr>\n",
       "      <th>1</th>\n",
       "      <td>AVpgNzjwLJeJML43Kpxn</td>\n",
       "      <td>2015-10-30T08:59:32Z</td>\n",
       "      <td>2019-04-25T09:08:16Z</td>\n",
       "      <td>AmazonBasics AAA Performance Alkaline Batterie...</td>\n",
       "      <td>B00QWO9P0O,B00LH3DMUO</td>\n",
       "      <td>Amazonbasics</td>\n",
       "      <td>AA,AAA,Health,Electronics,Health &amp; Household,C...</td>\n",
       "      <td>Health &amp; Beauty</td>\n",
       "      <td>https://images-na.ssl-images-amazon.com/images...</td>\n",
       "      <td>amazonbasics/hl002619,amazonbasicsaaaperforman...</td>\n",
       "      <td>...</td>\n",
       "      <td>NaN</td>\n",
       "      <td>NaN</td>\n",
       "      <td>4</td>\n",
       "      <td>https://www.amazon.com/product-reviews/B00QWO9...</td>\n",
       "      <td>Bulk is always the less expensive way to go fo...</td>\n",
       "      <td>... always the less expensive way to go for pr...</td>\n",
       "      <td>ByMG</td>\n",
       "      <td>https://www.barcodable.com/upc/841710106442,ht...</td>\n",
       "      <td>[bulk, expensive, way, product, like]</td>\n",
       "      <td>long time charge buy like</td>\n",
       "    </tr>\n",
       "    <tr>\n",
       "      <th>2</th>\n",
       "      <td>AVpgNzjwLJeJML43Kpxn</td>\n",
       "      <td>2015-10-30T08:59:32Z</td>\n",
       "      <td>2019-04-25T09:08:16Z</td>\n",
       "      <td>AmazonBasics AAA Performance Alkaline Batterie...</td>\n",
       "      <td>B00QWO9P0O,B00LH3DMUO</td>\n",
       "      <td>Amazonbasics</td>\n",
       "      <td>AA,AAA,Health,Electronics,Health &amp; Household,C...</td>\n",
       "      <td>Health &amp; Beauty</td>\n",
       "      <td>https://images-na.ssl-images-amazon.com/images...</td>\n",
       "      <td>amazonbasics/hl002619,amazonbasicsaaaperforman...</td>\n",
       "      <td>...</td>\n",
       "      <td>NaN</td>\n",
       "      <td>NaN</td>\n",
       "      <td>5</td>\n",
       "      <td>https://www.amazon.com/product-reviews/B00QWO9...</td>\n",
       "      <td>Well they are not Duracell but for the price i...</td>\n",
       "      <td>... are not Duracell but for the price i am ha...</td>\n",
       "      <td>BySharon Lambert</td>\n",
       "      <td>https://www.barcodable.com/upc/841710106442,ht...</td>\n",
       "      <td>[Duracell, price, happy]</td>\n",
       "      <td>long time charge buy like</td>\n",
       "    </tr>\n",
       "    <tr>\n",
       "      <th>3</th>\n",
       "      <td>AVpgNzjwLJeJML43Kpxn</td>\n",
       "      <td>2015-10-30T08:59:32Z</td>\n",
       "      <td>2019-04-25T09:08:16Z</td>\n",
       "      <td>AmazonBasics AAA Performance Alkaline Batterie...</td>\n",
       "      <td>B00QWO9P0O,B00LH3DMUO</td>\n",
       "      <td>Amazonbasics</td>\n",
       "      <td>AA,AAA,Health,Electronics,Health &amp; Household,C...</td>\n",
       "      <td>Health &amp; Beauty</td>\n",
       "      <td>https://images-na.ssl-images-amazon.com/images...</td>\n",
       "      <td>amazonbasics/hl002619,amazonbasicsaaaperforman...</td>\n",
       "      <td>...</td>\n",
       "      <td>NaN</td>\n",
       "      <td>NaN</td>\n",
       "      <td>5</td>\n",
       "      <td>https://www.amazon.com/product-reviews/B00QWO9...</td>\n",
       "      <td>Seem to work as well as name brand batteries a...</td>\n",
       "      <td>... as well as name brand batteries at a much ...</td>\n",
       "      <td>Bymark sexson</td>\n",
       "      <td>https://www.barcodable.com/upc/841710106442,ht...</td>\n",
       "      <td>[work, brand, well, price]</td>\n",
       "      <td>good great price work buy</td>\n",
       "    </tr>\n",
       "    <tr>\n",
       "      <th>4</th>\n",
       "      <td>AVpgNzjwLJeJML43Kpxn</td>\n",
       "      <td>2015-10-30T08:59:32Z</td>\n",
       "      <td>2019-04-25T09:08:16Z</td>\n",
       "      <td>AmazonBasics AAA Performance Alkaline Batterie...</td>\n",
       "      <td>B00QWO9P0O,B00LH3DMUO</td>\n",
       "      <td>Amazonbasics</td>\n",
       "      <td>AA,AAA,Health,Electronics,Health &amp; Household,C...</td>\n",
       "      <td>Health &amp; Beauty</td>\n",
       "      <td>https://images-na.ssl-images-amazon.com/images...</td>\n",
       "      <td>amazonbasics/hl002619,amazonbasicsaaaperforman...</td>\n",
       "      <td>...</td>\n",
       "      <td>NaN</td>\n",
       "      <td>NaN</td>\n",
       "      <td>5</td>\n",
       "      <td>https://www.amazon.com/product-reviews/B00QWO9...</td>\n",
       "      <td>These batteries are very long lasting the pric...</td>\n",
       "      <td>... batteries are very long lasting the price ...</td>\n",
       "      <td>Bylinda</td>\n",
       "      <td>https://www.barcodable.com/upc/841710106442,ht...</td>\n",
       "      <td>[long, last, price, great]</td>\n",
       "      <td>good great price work buy</td>\n",
       "    </tr>\n",
       "  </tbody>\n",
       "</table>\n",
       "<p>5 rows × 26 columns</p>\n",
       "</div>"
      ],
      "text/plain": [
       "                     id             dateAdded           dateUpdated  \\\n",
       "0  AVpgNzjwLJeJML43Kpxn  2015-10-30T08:59:32Z  2019-04-25T09:08:16Z   \n",
       "1  AVpgNzjwLJeJML43Kpxn  2015-10-30T08:59:32Z  2019-04-25T09:08:16Z   \n",
       "2  AVpgNzjwLJeJML43Kpxn  2015-10-30T08:59:32Z  2019-04-25T09:08:16Z   \n",
       "3  AVpgNzjwLJeJML43Kpxn  2015-10-30T08:59:32Z  2019-04-25T09:08:16Z   \n",
       "4  AVpgNzjwLJeJML43Kpxn  2015-10-30T08:59:32Z  2019-04-25T09:08:16Z   \n",
       "\n",
       "                                                name                  asins  \\\n",
       "0  AmazonBasics AAA Performance Alkaline Batterie...  B00QWO9P0O,B00LH3DMUO   \n",
       "1  AmazonBasics AAA Performance Alkaline Batterie...  B00QWO9P0O,B00LH3DMUO   \n",
       "2  AmazonBasics AAA Performance Alkaline Batterie...  B00QWO9P0O,B00LH3DMUO   \n",
       "3  AmazonBasics AAA Performance Alkaline Batterie...  B00QWO9P0O,B00LH3DMUO   \n",
       "4  AmazonBasics AAA Performance Alkaline Batterie...  B00QWO9P0O,B00LH3DMUO   \n",
       "\n",
       "          brand                                         categories  \\\n",
       "0  Amazonbasics  AA,AAA,Health,Electronics,Health & Household,C...   \n",
       "1  Amazonbasics  AA,AAA,Health,Electronics,Health & Household,C...   \n",
       "2  Amazonbasics  AA,AAA,Health,Electronics,Health & Household,C...   \n",
       "3  Amazonbasics  AA,AAA,Health,Electronics,Health & Household,C...   \n",
       "4  Amazonbasics  AA,AAA,Health,Electronics,Health & Household,C...   \n",
       "\n",
       "  primaryCategories                                          imageURLs  \\\n",
       "0   Health & Beauty  https://images-na.ssl-images-amazon.com/images...   \n",
       "1   Health & Beauty  https://images-na.ssl-images-amazon.com/images...   \n",
       "2   Health & Beauty  https://images-na.ssl-images-amazon.com/images...   \n",
       "3   Health & Beauty  https://images-na.ssl-images-amazon.com/images...   \n",
       "4   Health & Beauty  https://images-na.ssl-images-amazon.com/images...   \n",
       "\n",
       "                                                keys  ... reviews.id  \\\n",
       "0  amazonbasics/hl002619,amazonbasicsaaaperforman...  ...        NaN   \n",
       "1  amazonbasics/hl002619,amazonbasicsaaaperforman...  ...        NaN   \n",
       "2  amazonbasics/hl002619,amazonbasicsaaaperforman...  ...        NaN   \n",
       "3  amazonbasics/hl002619,amazonbasicsaaaperforman...  ...        NaN   \n",
       "4  amazonbasics/hl002619,amazonbasicsaaaperforman...  ...        NaN   \n",
       "\n",
       "  reviews.numHelpful reviews.rating  \\\n",
       "0                NaN              3   \n",
       "1                NaN              4   \n",
       "2                NaN              5   \n",
       "3                NaN              5   \n",
       "4                NaN              5   \n",
       "\n",
       "                                  reviews.sourceURLs  \\\n",
       "0  https://www.amazon.com/product-reviews/B00QWO9...   \n",
       "1  https://www.amazon.com/product-reviews/B00QWO9...   \n",
       "2  https://www.amazon.com/product-reviews/B00QWO9...   \n",
       "3  https://www.amazon.com/product-reviews/B00QWO9...   \n",
       "4  https://www.amazon.com/product-reviews/B00QWO9...   \n",
       "\n",
       "                                        reviews.text  \\\n",
       "0  I order 3 of them and one of the item is bad q...   \n",
       "1  Bulk is always the less expensive way to go fo...   \n",
       "2  Well they are not Duracell but for the price i...   \n",
       "3  Seem to work as well as name brand batteries a...   \n",
       "4  These batteries are very long lasting the pric...   \n",
       "\n",
       "                                       reviews.title  reviews.username  \\\n",
       "0  ... 3 of them and one of the item is bad quali...        Byger yang   \n",
       "1  ... always the less expensive way to go for pr...              ByMG   \n",
       "2  ... are not Duracell but for the price i am ha...  BySharon Lambert   \n",
       "3  ... as well as name brand batteries at a much ...     Bymark sexson   \n",
       "4  ... batteries are very long lasting the price ...           Bylinda   \n",
       "\n",
       "                                          sourceURLs  \\\n",
       "0  https://www.barcodable.com/upc/841710106442,ht...   \n",
       "1  https://www.barcodable.com/upc/841710106442,ht...   \n",
       "2  https://www.barcodable.com/upc/841710106442,ht...   \n",
       "3  https://www.barcodable.com/upc/841710106442,ht...   \n",
       "4  https://www.barcodable.com/upc/841710106442,ht...   \n",
       "\n",
       "                                              lemmas  \\\n",
       "0  [order, 3, item, bad, quality, miss, backup, s...   \n",
       "1              [bulk, expensive, way, product, like]   \n",
       "2                           [Duracell, price, happy]   \n",
       "3                         [work, brand, well, price]   \n",
       "4                         [long, last, price, great]   \n",
       "\n",
       "               primary_topic  \n",
       "0  long time charge buy like  \n",
       "1  long time charge buy like  \n",
       "2  long time charge buy like  \n",
       "3  good great price work buy  \n",
       "4  good great price work buy  \n",
       "\n",
       "[5 rows x 26 columns]"
      ]
     },
     "execution_count": 38,
     "metadata": {},
     "output_type": "execute_result"
    }
   ],
   "source": [
    "df.head()"
   ]
  },
  {
   "cell_type": "code",
   "execution_count": 39,
   "metadata": {},
   "outputs": [
    {
     "name": "stderr",
     "output_type": "stream",
     "text": [
      "/home/jepoy/miniconda3/envs/ds-unit-4/lib/python3.7/site-packages/ipykernel/ipkernel.py:287: DeprecationWarning: `should_run_async` will not call `transform_cell` automatically in the future. Please pass the result to `transformed_cell` argument and any exception that happen during thetransform in `preprocessing_exc_tuple` in IPython 7.17 and above.\n",
      "  and should_run_async(code)\n"
     ]
    },
    {
     "data": {
      "text/html": [
       "<div>\n",
       "<style scoped>\n",
       "    .dataframe tbody tr th:only-of-type {\n",
       "        vertical-align: middle;\n",
       "    }\n",
       "\n",
       "    .dataframe tbody tr th {\n",
       "        vertical-align: top;\n",
       "    }\n",
       "\n",
       "    .dataframe thead th {\n",
       "        text-align: right;\n",
       "    }\n",
       "</style>\n",
       "<table border=\"1\" class=\"dataframe\">\n",
       "  <thead>\n",
       "    <tr style=\"text-align: right;\">\n",
       "      <th></th>\n",
       "      <th>reviews.text</th>\n",
       "      <th>lemmas</th>\n",
       "      <th>primary_topic</th>\n",
       "    </tr>\n",
       "  </thead>\n",
       "  <tbody>\n",
       "    <tr>\n",
       "      <th>0</th>\n",
       "      <td>I order 3 of them and one of the item is bad q...</td>\n",
       "      <td>[order, 3, item, bad, quality, miss, backup, s...</td>\n",
       "      <td>long time charge buy like</td>\n",
       "    </tr>\n",
       "    <tr>\n",
       "      <th>1</th>\n",
       "      <td>Bulk is always the less expensive way to go fo...</td>\n",
       "      <td>[bulk, expensive, way, product, like]</td>\n",
       "      <td>long time charge buy like</td>\n",
       "    </tr>\n",
       "    <tr>\n",
       "      <th>2</th>\n",
       "      <td>Well they are not Duracell but for the price i...</td>\n",
       "      <td>[Duracell, price, happy]</td>\n",
       "      <td>long time charge buy like</td>\n",
       "    </tr>\n",
       "    <tr>\n",
       "      <th>3</th>\n",
       "      <td>Seem to work as well as name brand batteries a...</td>\n",
       "      <td>[work, brand, well, price]</td>\n",
       "      <td>good great price work buy</td>\n",
       "    </tr>\n",
       "    <tr>\n",
       "      <th>4</th>\n",
       "      <td>These batteries are very long lasting the pric...</td>\n",
       "      <td>[long, last, price, great]</td>\n",
       "      <td>good great price work buy</td>\n",
       "    </tr>\n",
       "    <tr>\n",
       "      <th>...</th>\n",
       "      <td>...</td>\n",
       "      <td>...</td>\n",
       "      <td>...</td>\n",
       "    </tr>\n",
       "    <tr>\n",
       "      <th>28327</th>\n",
       "      <td>I got 2 of these for my 8 yr old twins. My 11 ...</td>\n",
       "      <td>[get, 2, 8, yr, old, twin, 11, yr, old, well, ...</td>\n",
       "      <td>love old buy year tablet</td>\n",
       "    </tr>\n",
       "    <tr>\n",
       "      <th>28328</th>\n",
       "      <td>I bought this for my niece for a Christmas gif...</td>\n",
       "      <td>[buy, niece, Christmas, gift.she, 9, year, old...</td>\n",
       "      <td>love old buy year tablet</td>\n",
       "    </tr>\n",
       "    <tr>\n",
       "      <th>28329</th>\n",
       "      <td>Very nice for light internet browsing, keeping...</td>\n",
       "      <td>[nice, light, internet, browsing, keep, email,...</td>\n",
       "      <td>read easy book use great</td>\n",
       "    </tr>\n",
       "    <tr>\n",
       "      <th>28330</th>\n",
       "      <td>This Tablet does absolutely everything I want!...</td>\n",
       "      <td>[Tablet, absolutely, want, watch, tv, show, mo...</td>\n",
       "      <td>tablet app kid great game</td>\n",
       "    </tr>\n",
       "    <tr>\n",
       "      <th>28331</th>\n",
       "      <td>At ninety dollars, the expectionations are low...</td>\n",
       "      <td>[ninety, dollar, expectionation, low, good, ta...</td>\n",
       "      <td>tablet app kid great game</td>\n",
       "    </tr>\n",
       "  </tbody>\n",
       "</table>\n",
       "<p>28332 rows × 3 columns</p>\n",
       "</div>"
      ],
      "text/plain": [
       "                                            reviews.text  \\\n",
       "0      I order 3 of them and one of the item is bad q...   \n",
       "1      Bulk is always the less expensive way to go fo...   \n",
       "2      Well they are not Duracell but for the price i...   \n",
       "3      Seem to work as well as name brand batteries a...   \n",
       "4      These batteries are very long lasting the pric...   \n",
       "...                                                  ...   \n",
       "28327  I got 2 of these for my 8 yr old twins. My 11 ...   \n",
       "28328  I bought this for my niece for a Christmas gif...   \n",
       "28329  Very nice for light internet browsing, keeping...   \n",
       "28330  This Tablet does absolutely everything I want!...   \n",
       "28331  At ninety dollars, the expectionations are low...   \n",
       "\n",
       "                                                  lemmas  \\\n",
       "0      [order, 3, item, bad, quality, miss, backup, s...   \n",
       "1                  [bulk, expensive, way, product, like]   \n",
       "2                               [Duracell, price, happy]   \n",
       "3                             [work, brand, well, price]   \n",
       "4                             [long, last, price, great]   \n",
       "...                                                  ...   \n",
       "28327  [get, 2, 8, yr, old, twin, 11, yr, old, well, ...   \n",
       "28328  [buy, niece, Christmas, gift.she, 9, year, old...   \n",
       "28329  [nice, light, internet, browsing, keep, email,...   \n",
       "28330  [Tablet, absolutely, want, watch, tv, show, mo...   \n",
       "28331  [ninety, dollar, expectionation, low, good, ta...   \n",
       "\n",
       "                   primary_topic  \n",
       "0      long time charge buy like  \n",
       "1      long time charge buy like  \n",
       "2      long time charge buy like  \n",
       "3      good great price work buy  \n",
       "4      good great price work buy  \n",
       "...                          ...  \n",
       "28327   love old buy year tablet  \n",
       "28328   love old buy year tablet  \n",
       "28329   read easy book use great  \n",
       "28330  tablet app kid great game  \n",
       "28331  tablet app kid great game  \n",
       "\n",
       "[28332 rows x 3 columns]"
      ]
     },
     "execution_count": 39,
     "metadata": {},
     "output_type": "execute_result"
    }
   ],
   "source": [
    "df[['reviews.text', 'lemmas','primary_topic']]"
   ]
  },
  {
   "cell_type": "code",
   "execution_count": 40,
   "metadata": {},
   "outputs": [
    {
     "name": "stderr",
     "output_type": "stream",
     "text": [
      "/home/jepoy/miniconda3/envs/ds-unit-4/lib/python3.7/site-packages/ipykernel/ipkernel.py:287: DeprecationWarning: `should_run_async` will not call `transform_cell` automatically in the future. Please pass the result to `transformed_cell` argument and any exception that happen during thetransform in `preprocessing_exc_tuple` in IPython 7.17 and above.\n",
      "  and should_run_async(code)\n"
     ]
    },
    {
     "data": {
      "text/plain": [
       "(array([0, 1, 2, 3, 4]),\n",
       " [Text(0, 0, 'long time charge buy like'),\n",
       "  Text(1, 0, 'good great price work buy'),\n",
       "  Text(2, 0, 'read easy book use great'),\n",
       "  Text(3, 0, 'tablet app kid great game'),\n",
       "  Text(4, 0, 'love old buy year tablet')])"
      ]
     },
     "execution_count": 40,
     "metadata": {},
     "output_type": "execute_result"
    },
    {
     "data": {
      "image/png": "[encoded data removed]",
      "text/plain": [
       "<Figure size 432x288 with 1 Axes>"
      ]
     },
     "metadata": {
      "needs_background": "light"
     },
     "output_type": "display_data"
    }
   ],
   "source": [
    "# Simple Bar Graph?\n",
    "import seaborn as sns\n",
    "import matplotlib.pyplot as plt\n",
    "\n",
    "ax = sns.countplot(x=\"primary_topic\", hue=\"reviews.rating\", data=df)\n",
    "plt.xticks(rotation=90)"
   ]
  },
  {
   "cell_type": "code",
   "execution_count": null,
   "metadata": {},
   "outputs": [],
   "source": []
  },
  {
   "cell_type": "code",
   "execution_count": null,
   "metadata": {},
   "outputs": [],
   "source": []
  },
  {
   "cell_type": "code",
   "execution_count": null,
   "metadata": {},
   "outputs": [],
   "source": []
  },
  {
   "cell_type": "markdown",
   "metadata": {},
   "source": [
    "## Stretch Goals\n",
    "\n",
    "* Incorporate Named Entity Recognition in your analysis\n",
    "* Incorporate some custom pre-processing from our previous lessons (like spacy lemmatization)\n",
    "* Analyze a dataset of interest to you with topic modeling"
   ]
  }
 ],
 "metadata": {
  "kernelspec": {
   "display_name": "ds-unit-4 (Python3)",
   "language": "python",
   "name": "ds-unit-4"
  },
  "language_info": {
   "codemirror_mode": {
    "name": "ipython",
    "version": 3
   },
   "file_extension": ".py",
   "mimetype": "text/x-python",
   "name": "python",
   "nbconvert_exporter": "python",
   "pygments_lexer": "ipython3",
   "version": "3.7.0"
  }
 },
 "nbformat": 4,
 "nbformat_minor": 4
}
