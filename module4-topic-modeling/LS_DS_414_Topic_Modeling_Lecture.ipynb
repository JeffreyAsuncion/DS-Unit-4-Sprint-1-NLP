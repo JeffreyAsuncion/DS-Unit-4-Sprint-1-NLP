{
 "cells": [
  {
   "cell_type": "markdown",
   "metadata": {},
   "source": [
    "Lambda School Data Science\n",
    "\n",
    "*Unit 4, Sprint 1, Module 4*\n",
    "\n",
    "---"
   ]
  },
  {
   "cell_type": "markdown",
   "metadata": {},
   "source": [
    "# Topic Modeling (Prepare)\n",
    "\n",
    "On Monday we talked about summarizing your documents using just token counts. Today, we're going to learn about a much more sophisticated approach - learning 'topics' from documents. Topics are a latent structure. They are not directly observable in the data, but we know they're there by reading them.\n",
    "\n",
    "> **latent**: existing but not yet developed or manifest; hidden or concealed.\n",
    "\n",
    "## Use Cases\n",
    "Primary use case: what the hell are your documents about? Who might want to know that in industry - \n",
    "* Identifying common themes in customer reviews\n",
    "* Discovering the needle in a haystack \n",
    "* Monitoring communications (Email - State Department) \n",
    "\n",
    "## Learning Objectives\n",
    "*At the end of the lesson you should be able to:*\n",
    "* <a href=\"#p1\">Part 1</a>: Describe how an LDA Model works https://lettier.com/projects/lda-topic-modeling/\n",
    "* <a href=\"#p2\">Part 2</a>: Estimate a LDA Model with Gensim\n",
    "* <a href=\"#p3\">Part 3</a>: Interpret LDA results\n",
    "* <a href=\"#p4\">Part 4</a>: Select the appropriate number of topics\n"
   ]
  },
  {
   "cell_type": "markdown",
   "metadata": {},
   "source": [
    "# Latent Dirchilet Allocation Models (Learn)\n",
    "<a id=\"#p1\"></a>"
   ]
  },
  {
   "cell_type": "markdown",
   "metadata": {},
   "source": [
    "## Overview\n",
    "LDA is a \"generative probabilistic model\". \n",
    "\n",
    "Let's play with a model available [here](https://lettier.com/projects/lda-topic-modeling/)"
   ]
  },
  {
   "cell_type": "markdown",
   "metadata": {},
   "source": [
    "## Follow Along"
   ]
  },
  {
   "cell_type": "markdown",
   "metadata": {},
   "source": [
    "## Challenge "
   ]
  },
  {
   "cell_type": "markdown",
   "metadata": {},
   "source": [
    "# Estimating LDA Models with Gensim (Learn)\n",
    "<a id=\"#p1\"></a>"
   ]
  },
  {
   "cell_type": "markdown",
   "metadata": {
    "toc-hr-collapsed": true
   },
   "source": [
    "## Overview\n",
    "### A Literary Introduction: *Jane Austen V. Charlotte Bronte*\n",
    "Despite being born nearly forty years apart, modern fans often pit Jane Austen & Charlotte Bronte against one another in a battle for literary  supremacy. The battle centers around the topics of education for women, courting, and marriage. The authors' similar backgrounds naturally draw comparisons, but the modern fascination is probably due to novelty of British women publishing novels during the early 19th century. \n",
    "\n",
    "Can we help close a literary battle for supremacy and simply acknowledge that the authors addressed different topics and deserve to be acknowledged as excellent authors each in their own right?\n",
    "\n",
    "We're going to apply Latent Dirichlet Allocation a machine learning algorithm for topic modeling to each of the author's novels to compare the distribution of topics in their novels."
   ]
  },
  {
   "cell_type": "code",
   "execution_count": 1,
   "metadata": {},
   "outputs": [],
   "source": [
    "import numpy as np\n",
    "import gensim\n",
    "import os\n",
    "import re\n",
    "\n",
    "from gensim.utils import simple_preprocess\n",
    "from gensim.parsing.preprocessing import STOPWORDS\n",
    "from gensim import corpora\n",
    "\n",
    "from gensim.models.ldamulticore import LdaMulticore\n",
    "\n",
    "import pandas as pd"
   ]
  },
  {
   "cell_type": "code",
   "execution_count": 2,
   "metadata": {},
   "outputs": [
    {
     "data": {
      "text/plain": [
       "'3.8.1'"
      ]
     },
     "execution_count": 2,
     "metadata": {},
     "output_type": "execute_result"
    }
   ],
   "source": [
    "gensim.__version__"
   ]
  },
  {
   "cell_type": "markdown",
   "metadata": {},
   "source": [
    "### Novel Data\n",
    "I grabbed the novel data pre-split into a bunch of smaller chunks"
   ]
  },
  {
   "cell_type": "code",
   "execution_count": 3,
   "metadata": {},
   "outputs": [],
   "source": [
    "path = './data/austen-brontë-split'"
   ]
  },
  {
   "cell_type": "markdown",
   "metadata": {},
   "source": [
    "### Text Preprocessing\n",
    "**Activity**: update the function `tokenize` with any technique you have learned so far this week. "
   ]
  },
  {
   "cell_type": "code",
   "execution_count": 4,
   "metadata": {},
   "outputs": [],
   "source": [
    "# 1) Plain Python - ''.split command\n",
    "# 2) Spacy - just the lemmas from the document\n",
    "# 3) Gensim - simple_preprocess\n",
    "\n",
    "STOPWORDS = set(STOPWORDS).union(set(['said', 'mr', 'mrs']))\n",
    "\n",
    "def tokenize(text):\n",
    "    return [token for token in simple_preprocess(text) if token not in STOPWORDS]"
   ]
  },
  {
   "cell_type": "code",
   "execution_count": 5,
   "metadata": {},
   "outputs": [
    {
     "data": {
      "text/plain": [
       "['example', 'gensim', 'utility', 'function']"
      ]
     },
     "execution_count": 5,
     "metadata": {},
     "output_type": "execute_result"
    }
   ],
   "source": [
    "ex_str = \"This is an example of Gensim simple_preprocess utility function.\"\n",
    "tokenize(ex_str)"
   ]
  },
  {
   "cell_type": "code",
   "execution_count": 6,
   "metadata": {},
   "outputs": [
    {
     "data": {
      "text/plain": [
       "['example', 'gensim', 'simple_preprocess', 'utility', 'function']"
      ]
     },
     "execution_count": 6,
     "metadata": {},
     "output_type": "execute_result"
    }
   ],
   "source": [
    "# Addition code snippet from Bruno\n",
    "\n",
    "from gensim.parsing.preprocessing import preprocess_string, strip_tags, strip_punctuation, strip_numeric, stem_text\n",
    "from gensim.parsing.preprocessing import strip_multiple_whitespaces, strip_non_alphanum, remove_stopwords, strip_short\n",
    "\n",
    "CUSTOM_FILTERS = [\n",
    "    lambda x : x.lower(),         # Lowercase\n",
    "    strip_multiple_whitespaces,   # Remove repeating white space\n",
    "    strip_numeric,                # Remove numbers\n",
    "    remove_stopwords,             # Remove stopwords\n",
    "    strip_non_alphanum,           # Remove non-alpha numeric characters\n",
    "    strip_short                   # Remove words less that 3 characters long\n",
    "]\n",
    "\n",
    "# Preprocess text with custom filters\n",
    "preprocess_string(ex_str, CUSTOM_FILTERS)"
   ]
  },
  {
   "cell_type": "code",
   "execution_count": 7,
   "metadata": {},
   "outputs": [],
   "source": [
    "# Read in the data and tokenize\n",
    "\n",
    "import os\n",
    "\n",
    "def gather_data(path_to_data): \n",
    "    data = []\n",
    "    for f in os.listdir(path):\n",
    "        if os.path.isdir(f) == False:\n",
    "            if f[-3:] == 'txt':\n",
    "                with open(os.path.join(path,f)) as t:\n",
    "                    text = t.read().strip('\\n')\n",
    "                    data.append(tokenize(str(text)))       \n",
    "    return data"
   ]
  },
  {
   "cell_type": "code",
   "execution_count": 8,
   "metadata": {},
   "outputs": [],
   "source": [
    "tokens = gather_data(path)"
   ]
  },
  {
   "cell_type": "code",
   "execution_count": 9,
   "metadata": {},
   "outputs": [
    {
     "data": {
      "text/plain": [
       "['emma',\n",
       " 'jane',\n",
       " 'austen',\n",
       " 'volume',\n",
       " 'chapter',\n",
       " 'emma',\n",
       " 'woodhouse',\n",
       " 'handsome',\n",
       " 'clever',\n",
       " 'rich']"
      ]
     },
     "execution_count": 9,
     "metadata": {},
     "output_type": "execute_result"
    }
   ],
   "source": [
    "tokens[0][0:10]"
   ]
  },
  {
   "cell_type": "code",
   "execution_count": 10,
   "metadata": {},
   "outputs": [
    {
     "data": {
      "text/plain": [
       "'this is a sample string with a  newline character'"
      ]
     },
     "execution_count": 10,
     "metadata": {},
     "output_type": "execute_result"
    }
   ],
   "source": [
    "# Remove \\n character\n",
    "ex_text = \"this is a sample string with a \\n newline character\".replace('\\n', '')\n",
    "ex_text"
   ]
  },
  {
   "cell_type": "code",
   "execution_count": 11,
   "metadata": {},
   "outputs": [
    {
     "data": {
      "text/plain": [
       "'this is a sample string with a newline character'"
      ]
     },
     "execution_count": 11,
     "metadata": {},
     "output_type": "execute_result"
    }
   ],
   "source": [
    "# Remove duplicate spaces\n",
    "' '.join(ex_text.split())"
   ]
  },
  {
   "cell_type": "markdown",
   "metadata": {
    "toc-hr-collapsed": true
   },
   "source": [
    "## Follow Along"
   ]
  },
  {
   "cell_type": "code",
   "execution_count": 12,
   "metadata": {},
   "outputs": [],
   "source": [
    "titles = [t[:-4] for t in os.listdir(path) if os.path.isdir(t) == False]"
   ]
  },
  {
   "cell_type": "code",
   "execution_count": 13,
   "metadata": {},
   "outputs": [
    {
     "data": {
      "text/plain": [
       "813"
      ]
     },
     "execution_count": 13,
     "metadata": {},
     "output_type": "execute_result"
    }
   ],
   "source": [
    "len(titles)"
   ]
  },
  {
   "cell_type": "code",
   "execution_count": 14,
   "metadata": {},
   "outputs": [
    {
     "data": {
      "text/plain": [
       "813"
      ]
     },
     "execution_count": 14,
     "metadata": {},
     "output_type": "execute_result"
    }
   ],
   "source": [
    "len(tokens)"
   ]
  },
  {
   "cell_type": "markdown",
   "metadata": {},
   "source": [
    "### Author DataFrame\n"
   ]
  },
  {
   "cell_type": "code",
   "execution_count": 15,
   "metadata": {},
   "outputs": [],
   "source": [
    "df = pd.DataFrame(index=titles, data={'tokens':tokens})"
   ]
  },
  {
   "cell_type": "code",
   "execution_count": 16,
   "metadata": {},
   "outputs": [
    {
     "data": {
      "text/html": [
       "<div>\n",
       "<style scoped>\n",
       "    .dataframe tbody tr th:only-of-type {\n",
       "        vertical-align: middle;\n",
       "    }\n",
       "\n",
       "    .dataframe tbody tr th {\n",
       "        vertical-align: top;\n",
       "    }\n",
       "\n",
       "    .dataframe thead th {\n",
       "        text-align: right;\n",
       "    }\n",
       "</style>\n",
       "<table border=\"1\" class=\"dataframe\">\n",
       "  <thead>\n",
       "    <tr style=\"text-align: right;\">\n",
       "      <th></th>\n",
       "      <th>tokens</th>\n",
       "    </tr>\n",
       "  </thead>\n",
       "  <tbody>\n",
       "    <tr>\n",
       "      <th>Austen_Emma0000</th>\n",
       "      <td>[emma, jane, austen, volume, chapter, emma, wo...</td>\n",
       "    </tr>\n",
       "    <tr>\n",
       "      <th>Austen_Emma0001</th>\n",
       "      <td>[taylor, wish, pity, weston, thought, agree, p...</td>\n",
       "    </tr>\n",
       "    <tr>\n",
       "      <th>Austen_Emma0002</th>\n",
       "      <td>[behaved, charmingly, body, punctual, body, be...</td>\n",
       "    </tr>\n",
       "    <tr>\n",
       "      <th>Austen_Emma0003</th>\n",
       "      <td>[native, highbury, born, respectable, family, ...</td>\n",
       "    </tr>\n",
       "    <tr>\n",
       "      <th>Austen_Emma0004</th>\n",
       "      <td>[mention, handsome, letter, weston, received, ...</td>\n",
       "    </tr>\n",
       "  </tbody>\n",
       "</table>\n",
       "</div>"
      ],
      "text/plain": [
       "                                                            tokens\n",
       "Austen_Emma0000  [emma, jane, austen, volume, chapter, emma, wo...\n",
       "Austen_Emma0001  [taylor, wish, pity, weston, thought, agree, p...\n",
       "Austen_Emma0002  [behaved, charmingly, body, punctual, body, be...\n",
       "Austen_Emma0003  [native, highbury, born, respectable, family, ...\n",
       "Austen_Emma0004  [mention, handsome, letter, weston, received, ..."
      ]
     },
     "execution_count": 16,
     "metadata": {},
     "output_type": "execute_result"
    }
   ],
   "source": [
    "df.head()"
   ]
  },
  {
   "cell_type": "code",
   "execution_count": 17,
   "metadata": {},
   "outputs": [],
   "source": [
    "# Use index to map author book section\n",
    "\n",
    "df['author'] = df.reset_index()['index'].apply(lambda x: x.split('_')[0]).tolist()\n",
    "df['book'] = df.reset_index()['index'].apply(lambda x: x.split('_')[1][:-4]).tolist()\n",
    "df['section'] = df.reset_index()['index'].apply(lambda x: x[-4:]).tolist()\n",
    "df['section'] = df['section'].astype('int')"
   ]
  },
  {
   "cell_type": "code",
   "execution_count": 18,
   "metadata": {},
   "outputs": [],
   "source": [
    "df['author'] = df['author'].map({'Austen':1, 'CBronte':0})"
   ]
  },
  {
   "cell_type": "code",
   "execution_count": 19,
   "metadata": {},
   "outputs": [
    {
     "data": {
      "text/plain": [
       "0    441\n",
       "1    372\n",
       "Name: author, dtype: int64"
      ]
     },
     "execution_count": 19,
     "metadata": {},
     "output_type": "execute_result"
    }
   ],
   "source": [
    "#0 : CBronte\n",
    "#1 : Austen\n",
    "df.author.value_counts()"
   ]
  },
  {
   "cell_type": "code",
   "execution_count": 20,
   "metadata": {},
   "outputs": [
    {
     "data": {
      "text/html": [
       "<div>\n",
       "<style scoped>\n",
       "    .dataframe tbody tr th:only-of-type {\n",
       "        vertical-align: middle;\n",
       "    }\n",
       "\n",
       "    .dataframe tbody tr th {\n",
       "        vertical-align: top;\n",
       "    }\n",
       "\n",
       "    .dataframe thead th {\n",
       "        text-align: right;\n",
       "    }\n",
       "</style>\n",
       "<table border=\"1\" class=\"dataframe\">\n",
       "  <thead>\n",
       "    <tr style=\"text-align: right;\">\n",
       "      <th></th>\n",
       "      <th>tokens</th>\n",
       "      <th>author</th>\n",
       "      <th>book</th>\n",
       "      <th>section</th>\n",
       "    </tr>\n",
       "  </thead>\n",
       "  <tbody>\n",
       "    <tr>\n",
       "      <th>Austen_Emma0000</th>\n",
       "      <td>[emma, jane, austen, volume, chapter, emma, wo...</td>\n",
       "      <td>1</td>\n",
       "      <td>Emma</td>\n",
       "      <td>0</td>\n",
       "    </tr>\n",
       "    <tr>\n",
       "      <th>Austen_Emma0001</th>\n",
       "      <td>[taylor, wish, pity, weston, thought, agree, p...</td>\n",
       "      <td>1</td>\n",
       "      <td>Emma</td>\n",
       "      <td>1</td>\n",
       "    </tr>\n",
       "    <tr>\n",
       "      <th>Austen_Emma0002</th>\n",
       "      <td>[behaved, charmingly, body, punctual, body, be...</td>\n",
       "      <td>1</td>\n",
       "      <td>Emma</td>\n",
       "      <td>2</td>\n",
       "    </tr>\n",
       "    <tr>\n",
       "      <th>Austen_Emma0003</th>\n",
       "      <td>[native, highbury, born, respectable, family, ...</td>\n",
       "      <td>1</td>\n",
       "      <td>Emma</td>\n",
       "      <td>3</td>\n",
       "    </tr>\n",
       "    <tr>\n",
       "      <th>Austen_Emma0004</th>\n",
       "      <td>[mention, handsome, letter, weston, received, ...</td>\n",
       "      <td>1</td>\n",
       "      <td>Emma</td>\n",
       "      <td>4</td>\n",
       "    </tr>\n",
       "  </tbody>\n",
       "</table>\n",
       "</div>"
      ],
      "text/plain": [
       "                                                            tokens  author  \\\n",
       "Austen_Emma0000  [emma, jane, austen, volume, chapter, emma, wo...       1   \n",
       "Austen_Emma0001  [taylor, wish, pity, weston, thought, agree, p...       1   \n",
       "Austen_Emma0002  [behaved, charmingly, body, punctual, body, be...       1   \n",
       "Austen_Emma0003  [native, highbury, born, respectable, family, ...       1   \n",
       "Austen_Emma0004  [mention, handsome, letter, weston, received, ...       1   \n",
       "\n",
       "                 book  section  \n",
       "Austen_Emma0000  Emma        0  \n",
       "Austen_Emma0001  Emma        1  \n",
       "Austen_Emma0002  Emma        2  \n",
       "Austen_Emma0003  Emma        3  \n",
       "Austen_Emma0004  Emma        4  "
      ]
     },
     "execution_count": 20,
     "metadata": {},
     "output_type": "execute_result"
    }
   ],
   "source": [
    "df.head()"
   ]
  },
  {
   "cell_type": "code",
   "execution_count": 21,
   "metadata": {},
   "outputs": [
    {
     "data": {
      "text/html": [
       "<div>\n",
       "<style scoped>\n",
       "    .dataframe tbody tr th:only-of-type {\n",
       "        vertical-align: middle;\n",
       "    }\n",
       "\n",
       "    .dataframe tbody tr th {\n",
       "        vertical-align: top;\n",
       "    }\n",
       "\n",
       "    .dataframe thead th {\n",
       "        text-align: right;\n",
       "    }\n",
       "</style>\n",
       "<table border=\"1\" class=\"dataframe\">\n",
       "  <thead>\n",
       "    <tr style=\"text-align: right;\">\n",
       "      <th></th>\n",
       "      <th>tokens</th>\n",
       "      <th>author</th>\n",
       "      <th>book</th>\n",
       "      <th>section</th>\n",
       "    </tr>\n",
       "  </thead>\n",
       "  <tbody>\n",
       "    <tr>\n",
       "      <th>CBronte_Villette0170</th>\n",
       "      <td>[think, sole, faithful, god, creatures, ferven...</td>\n",
       "      <td>0</td>\n",
       "      <td>Villette</td>\n",
       "      <td>170</td>\n",
       "    </tr>\n",
       "    <tr>\n",
       "      <th>CBronte_Villette0171</th>\n",
       "      <td>[establishment, faubourg, goodness, accept, pr...</td>\n",
       "      <td>0</td>\n",
       "      <td>Villette</td>\n",
       "      <td>171</td>\n",
       "    </tr>\n",
       "    <tr>\n",
       "      <th>CBronte_Villette0172</th>\n",
       "      <td>[assailable, magnificent, minded, grand, heart...</td>\n",
       "      <td>0</td>\n",
       "      <td>Villette</td>\n",
       "      <td>172</td>\n",
       "    </tr>\n",
       "    <tr>\n",
       "      <th>CBronte_Villette0173</th>\n",
       "      <td>[grand, morning, dew, bathe, sunrise, course, ...</td>\n",
       "      <td>0</td>\n",
       "      <td>Villette</td>\n",
       "      <td>173</td>\n",
       "    </tr>\n",
       "    <tr>\n",
       "      <th>CBronte_Villette0174</th>\n",
       "      <td>[autumn, ere, mists, november, come, school, f...</td>\n",
       "      <td>0</td>\n",
       "      <td>Villette</td>\n",
       "      <td>174</td>\n",
       "    </tr>\n",
       "  </tbody>\n",
       "</table>\n",
       "</div>"
      ],
      "text/plain": [
       "                                                                 tokens  \\\n",
       "CBronte_Villette0170  [think, sole, faithful, god, creatures, ferven...   \n",
       "CBronte_Villette0171  [establishment, faubourg, goodness, accept, pr...   \n",
       "CBronte_Villette0172  [assailable, magnificent, minded, grand, heart...   \n",
       "CBronte_Villette0173  [grand, morning, dew, bathe, sunrise, course, ...   \n",
       "CBronte_Villette0174  [autumn, ere, mists, november, come, school, f...   \n",
       "\n",
       "                      author      book  section  \n",
       "CBronte_Villette0170       0  Villette      170  \n",
       "CBronte_Villette0171       0  Villette      171  \n",
       "CBronte_Villette0172       0  Villette      172  \n",
       "CBronte_Villette0173       0  Villette      173  \n",
       "CBronte_Villette0174       0  Villette      174  "
      ]
     },
     "execution_count": 21,
     "metadata": {},
     "output_type": "execute_result"
    }
   ],
   "source": [
    "df.tail()"
   ]
  },
  {
   "cell_type": "markdown",
   "metadata": {},
   "source": [
    "### Streaming Documents\n",
    "Here we use a new pythonic thingy: the `yield` statement in our function. This allows us to iterate over a bunch of documents without actually reading them into memory. You can see how we use this function later on. "
   ]
  },
  {
   "cell_type": "code",
   "execution_count": 22,
   "metadata": {},
   "outputs": [],
   "source": [
    "def doc_stream(path):\n",
    "    for f in os.listdir(path):\n",
    "        if os.path.isdir(f) == False:\n",
    "            if f[-3:] == 'txt':\n",
    "                with open(os.path.join(path,f)) as t:\n",
    "                    text = t.read().strip('\\n')\n",
    "                    tokens = tokenize(text)\n",
    "                yield tokens"
   ]
  },
  {
   "cell_type": "code",
   "execution_count": 23,
   "metadata": {},
   "outputs": [],
   "source": [
    "streaming_data = doc_stream(path)"
   ]
  },
  {
   "cell_type": "code",
   "execution_count": 24,
   "metadata": {},
   "outputs": [
    {
     "data": {
      "text/plain": [
       "generator"
      ]
     },
     "execution_count": 24,
     "metadata": {},
     "output_type": "execute_result"
    }
   ],
   "source": [
    "type(streaming_data)"
   ]
  },
  {
   "cell_type": "code",
   "execution_count": null,
   "metadata": {},
   "outputs": [],
   "source": [
    "# gather_data => returns a list\n",
    "# doc_stream => returns a generator"
   ]
  },
  {
   "cell_type": "code",
   "execution_count": 25,
   "metadata": {},
   "outputs": [
    {
     "data": {
      "text/plain": [
       "['emma',\n",
       " 'jane',\n",
       " 'austen',\n",
       " 'volume',\n",
       " 'chapter',\n",
       " 'emma',\n",
       " 'woodhouse',\n",
       " 'handsome',\n",
       " 'clever',\n",
       " 'rich',\n",
       " 'comfortable',\n",
       " 'home',\n",
       " 'happy',\n",
       " 'disposition',\n",
       " 'unite',\n",
       " 'best',\n",
       " 'blessings',\n",
       " 'existence',\n",
       " 'lived',\n",
       " 'nearly',\n",
       " 'years',\n",
       " 'world',\n",
       " 'little',\n",
       " 'distress',\n",
       " 'vex',\n",
       " 'youngest',\n",
       " 'daughters',\n",
       " 'affectionate',\n",
       " 'indulgent',\n",
       " 'father',\n",
       " 'consequence',\n",
       " 'sister',\n",
       " 'marriage',\n",
       " 'mistress',\n",
       " 'house',\n",
       " 'early',\n",
       " 'period',\n",
       " 'mother',\n",
       " 'died',\n",
       " 'long',\n",
       " 'ago',\n",
       " 'indistinct',\n",
       " 'remembrance',\n",
       " 'caresses',\n",
       " 'place',\n",
       " 'supplied',\n",
       " 'excellent',\n",
       " 'woman',\n",
       " 'governess',\n",
       " 'fallen',\n",
       " 'little',\n",
       " 'short',\n",
       " 'mother',\n",
       " 'affection',\n",
       " 'sixteen',\n",
       " 'years',\n",
       " 'miss',\n",
       " 'taylor',\n",
       " 'woodhouse',\n",
       " 'family',\n",
       " 'governess',\n",
       " 'friend',\n",
       " 'fond',\n",
       " 'daughters',\n",
       " 'particularly',\n",
       " 'emma',\n",
       " 'intimacy',\n",
       " 'sisters',\n",
       " 'miss',\n",
       " 'taylor',\n",
       " 'ceased',\n",
       " 'hold',\n",
       " 'nominal',\n",
       " 'office',\n",
       " 'governess',\n",
       " 'mildness',\n",
       " 'temper',\n",
       " 'hardly',\n",
       " 'allowed',\n",
       " 'impose',\n",
       " 'restraint',\n",
       " 'shadow',\n",
       " 'authority',\n",
       " 'long',\n",
       " 'passed',\n",
       " 'away',\n",
       " 'living',\n",
       " 'friend',\n",
       " 'friend',\n",
       " 'mutually',\n",
       " 'attached',\n",
       " 'emma',\n",
       " 'liked',\n",
       " 'highly',\n",
       " 'esteeming',\n",
       " 'miss',\n",
       " 'taylor',\n",
       " 'judgment',\n",
       " 'directed',\n",
       " 'chiefly',\n",
       " 'real',\n",
       " 'evils',\n",
       " 'emma',\n",
       " 'situation',\n",
       " 'power',\n",
       " 'having',\n",
       " 'way',\n",
       " 'disposition',\n",
       " 'think',\n",
       " 'little',\n",
       " 'disadvantages',\n",
       " 'threatened',\n",
       " 'alloy',\n",
       " 'enjoyments',\n",
       " 'danger',\n",
       " 'present',\n",
       " 'unperceived',\n",
       " 'means',\n",
       " 'rank',\n",
       " 'misfortunes',\n",
       " 'sorrow',\n",
       " 'came',\n",
       " 'gentle',\n",
       " 'sorrow',\n",
       " 'shape',\n",
       " 'disagreeable',\n",
       " 'consciousness',\n",
       " 'miss',\n",
       " 'taylor',\n",
       " 'married',\n",
       " 'miss',\n",
       " 'taylor',\n",
       " 'loss',\n",
       " 'brought',\n",
       " 'grief',\n",
       " 'wedding',\n",
       " 'day',\n",
       " 'beloved',\n",
       " 'friend',\n",
       " 'emma',\n",
       " 'sat',\n",
       " 'mournful',\n",
       " 'thought',\n",
       " 'continuance',\n",
       " 'wedding',\n",
       " 'bride',\n",
       " 'people',\n",
       " 'gone',\n",
       " 'father',\n",
       " 'left',\n",
       " 'dine',\n",
       " 'prospect',\n",
       " 'cheer',\n",
       " 'long',\n",
       " 'evening',\n",
       " 'father',\n",
       " 'composed',\n",
       " 'sleep',\n",
       " 'dinner',\n",
       " 'usual',\n",
       " 'sit',\n",
       " 'think',\n",
       " 'lost',\n",
       " 'event',\n",
       " 'promise',\n",
       " 'happiness',\n",
       " 'friend',\n",
       " 'weston',\n",
       " 'man',\n",
       " 'unexceptionable',\n",
       " 'character',\n",
       " 'easy',\n",
       " 'fortune',\n",
       " 'suitable',\n",
       " 'age',\n",
       " 'pleasant',\n",
       " 'manners',\n",
       " 'satisfaction',\n",
       " 'considering',\n",
       " 'self',\n",
       " 'denying',\n",
       " 'generous',\n",
       " 'friendship',\n",
       " 'wished',\n",
       " 'promoted',\n",
       " 'match',\n",
       " 'black',\n",
       " 'morning',\n",
       " 'work',\n",
       " 'want',\n",
       " 'miss',\n",
       " 'taylor',\n",
       " 'felt',\n",
       " 'hour',\n",
       " 'day',\n",
       " 'recalled',\n",
       " 'past',\n",
       " 'kindness',\n",
       " 'kindness',\n",
       " 'affection',\n",
       " 'sixteen',\n",
       " 'years',\n",
       " 'taught',\n",
       " 'played',\n",
       " 'years',\n",
       " 'old',\n",
       " 'devoted',\n",
       " 'powers',\n",
       " 'attach',\n",
       " 'amuse',\n",
       " 'health',\n",
       " 'nursed',\n",
       " 'illnesses',\n",
       " 'childhood',\n",
       " 'large',\n",
       " 'debt',\n",
       " 'gratitude',\n",
       " 'owing',\n",
       " 'intercourse',\n",
       " 'seven',\n",
       " 'years',\n",
       " 'equal',\n",
       " 'footing',\n",
       " 'perfect',\n",
       " 'unreserve',\n",
       " 'soon',\n",
       " 'followed',\n",
       " 'isabella',\n",
       " 'marriage',\n",
       " 'left',\n",
       " 'dearer',\n",
       " 'tenderer',\n",
       " 'recollection',\n",
       " 'friend',\n",
       " 'companion',\n",
       " 'possessed',\n",
       " 'intelligent',\n",
       " 'informed',\n",
       " 'useful',\n",
       " 'gentle',\n",
       " 'knowing',\n",
       " 'ways',\n",
       " 'family',\n",
       " 'interested',\n",
       " 'concerns',\n",
       " 'peculiarly',\n",
       " 'interested',\n",
       " 'pleasure',\n",
       " 'scheme',\n",
       " 'speak',\n",
       " 'thought',\n",
       " 'arose',\n",
       " 'affection',\n",
       " 'fault',\n",
       " 'bear',\n",
       " 'change',\n",
       " 'true',\n",
       " 'friend',\n",
       " 'going',\n",
       " 'half',\n",
       " 'mile',\n",
       " 'emma',\n",
       " 'aware',\n",
       " 'great',\n",
       " 'difference',\n",
       " 'weston',\n",
       " 'half',\n",
       " 'mile',\n",
       " 'miss',\n",
       " 'taylor',\n",
       " 'house',\n",
       " 'advantages',\n",
       " 'natural',\n",
       " 'domestic',\n",
       " 'great',\n",
       " 'danger',\n",
       " 'suffering',\n",
       " 'intellectual',\n",
       " 'solitude',\n",
       " 'dearly',\n",
       " 'loved',\n",
       " 'father',\n",
       " 'companion',\n",
       " 'meet',\n",
       " 'conversation',\n",
       " 'rational',\n",
       " 'playful',\n",
       " 'evil',\n",
       " 'actual',\n",
       " 'disparity',\n",
       " 'ages',\n",
       " 'woodhouse',\n",
       " 'married',\n",
       " 'early',\n",
       " 'increased',\n",
       " 'constitution',\n",
       " 'habits',\n",
       " 'having',\n",
       " 'valetudinarian',\n",
       " 'life',\n",
       " 'activity',\n",
       " 'mind',\n",
       " 'body',\n",
       " 'older',\n",
       " 'man',\n",
       " 'ways',\n",
       " 'years',\n",
       " 'beloved',\n",
       " 'friendliness',\n",
       " 'heart',\n",
       " 'amiable',\n",
       " 'temper',\n",
       " 'talents',\n",
       " 'recommended',\n",
       " 'time',\n",
       " 'sister',\n",
       " 'comparatively',\n",
       " 'little',\n",
       " 'removed',\n",
       " 'matrimony',\n",
       " 'settled',\n",
       " 'london',\n",
       " 'sixteen',\n",
       " 'miles',\n",
       " 'daily',\n",
       " 'reach',\n",
       " 'long',\n",
       " 'october',\n",
       " 'november',\n",
       " 'evening',\n",
       " 'struggled',\n",
       " 'hartfield',\n",
       " 'christmas',\n",
       " 'brought',\n",
       " 'visit',\n",
       " 'isabella',\n",
       " 'husband',\n",
       " 'little',\n",
       " 'children',\n",
       " 'house',\n",
       " 'pleasant',\n",
       " 'society',\n",
       " 'highbury',\n",
       " 'large',\n",
       " 'populous',\n",
       " 'village',\n",
       " 'amounting',\n",
       " 'town',\n",
       " 'hartfield',\n",
       " 'spite',\n",
       " 'separate',\n",
       " 'lawn',\n",
       " 'shrubberies',\n",
       " 'belong',\n",
       " 'afforded',\n",
       " 'equals',\n",
       " 'woodhouses',\n",
       " 'consequence',\n",
       " 'looked',\n",
       " 'acquaintance',\n",
       " 'place',\n",
       " 'father',\n",
       " 'universally',\n",
       " 'civil',\n",
       " 'accepted',\n",
       " 'lieu',\n",
       " 'miss',\n",
       " 'taylor',\n",
       " 'half',\n",
       " 'day',\n",
       " 'melancholy',\n",
       " 'change',\n",
       " 'emma',\n",
       " 'sigh',\n",
       " 'wish',\n",
       " 'impossible',\n",
       " 'things',\n",
       " 'till',\n",
       " 'father',\n",
       " 'awoke',\n",
       " 'necessary',\n",
       " 'cheerful',\n",
       " 'spirits',\n",
       " 'required',\n",
       " 'support',\n",
       " 'nervous',\n",
       " 'man',\n",
       " 'easily',\n",
       " 'depressed',\n",
       " 'fond',\n",
       " 'body',\n",
       " 'hating',\n",
       " 'hating',\n",
       " 'change',\n",
       " 'kind',\n",
       " 'matrimony',\n",
       " 'origin',\n",
       " 'change',\n",
       " 'disagreeable',\n",
       " 'means',\n",
       " 'reconciled',\n",
       " 'daughter',\n",
       " 'marrying',\n",
       " 'speak',\n",
       " 'compassion',\n",
       " 'entirely',\n",
       " 'match',\n",
       " 'affection',\n",
       " 'obliged',\n",
       " 'miss',\n",
       " 'taylor',\n",
       " 'habits',\n",
       " 'gentle',\n",
       " 'selfishness',\n",
       " 'able',\n",
       " 'suppose',\n",
       " 'people',\n",
       " 'feel',\n",
       " 'differently',\n",
       " 'disposed',\n",
       " 'think',\n",
       " 'miss',\n",
       " 'taylor',\n",
       " 'sad',\n",
       " 'thing',\n",
       " 'great',\n",
       " 'deal',\n",
       " 'happier',\n",
       " 'spent',\n",
       " 'rest',\n",
       " 'life',\n",
       " 'hartfield',\n",
       " 'emma',\n",
       " 'smiled',\n",
       " 'chatted',\n",
       " 'cheerfully',\n",
       " 'thoughts',\n",
       " 'tea',\n",
       " 'came',\n",
       " 'impossible',\n",
       " 'exactly',\n",
       " 'dinner',\n",
       " 'poor',\n",
       " 'miss']"
      ]
     },
     "execution_count": 25,
     "metadata": {},
     "output_type": "execute_result"
    }
   ],
   "source": [
    "next(streaming_data) # Returns one document at a time from the generator"
   ]
  },
  {
   "cell_type": "markdown",
   "metadata": {},
   "source": [
    "### Gensim LDA Topic Modeling"
   ]
  },
  {
   "cell_type": "code",
   "execution_count": 26,
   "metadata": {},
   "outputs": [],
   "source": [
    "# A Dictionary Representation of all the words in our corpus\n",
    "id2word = corpora.Dictionary(doc_stream(path))"
   ]
  },
  {
   "cell_type": "code",
   "execution_count": 27,
   "metadata": {},
   "outputs": [
    {
     "data": {
      "text/plain": [
       "3986"
      ]
     },
     "execution_count": 27,
     "metadata": {},
     "output_type": "execute_result"
    }
   ],
   "source": [
    "id2word.token2id['england']"
   ]
  },
  {
   "cell_type": "code",
   "execution_count": 28,
   "metadata": {},
   "outputs": [
    {
     "data": {
      "text/plain": [
       "[(2753, 1), (3986, 3), (6601, 1), (6818, 1)]"
      ]
     },
     "execution_count": 28,
     "metadata": {},
     "output_type": "execute_result"
    }
   ],
   "source": [
    "# produces Bag of Words representation\n",
    "id2word.doc2bow(tokenize(\"This is a sample message Darcy England England England\"))"
   ]
  },
  {
   "cell_type": "code",
   "execution_count": 29,
   "metadata": {},
   "outputs": [
    {
     "name": "stdout",
     "output_type": "stream",
     "text": [
      "56\n",
      "7056\n"
     ]
    }
   ],
   "source": [
    "import sys\n",
    "print(sys.getsizeof(id2word))\n",
    "print(sys.getsizeof(tokens))\n",
    "# this is only 800 docs"
   ]
  },
  {
   "cell_type": "code",
   "execution_count": 30,
   "metadata": {},
   "outputs": [
    {
     "data": {
      "text/plain": [
       "22095"
      ]
     },
     "execution_count": 30,
     "metadata": {},
     "output_type": "execute_result"
    }
   ],
   "source": [
    "len(id2word.keys())"
   ]
  },
  {
   "cell_type": "code",
   "execution_count": 31,
   "metadata": {},
   "outputs": [],
   "source": [
    "# Let's remove extreme values from the dataset\n",
    "# removes really\n",
    "## Rare words\n",
    "## Common words\n",
    "\n",
    "id2word.filter_extremes(no_below=5, no_above=0.95)\n"
   ]
  },
  {
   "cell_type": "code",
   "execution_count": 32,
   "metadata": {},
   "outputs": [
    {
     "data": {
      "text/plain": [
       "8102"
      ]
     },
     "execution_count": 32,
     "metadata": {},
     "output_type": "execute_result"
    }
   ],
   "source": [
    "len(id2word.keys())"
   ]
  },
  {
   "cell_type": "code",
   "execution_count": 33,
   "metadata": {},
   "outputs": [],
   "source": [
    "# a bag of words(bow) representation of our corpus\n",
    "# Note: we haven't actually read any text into memory here\n",
    "# Although abstracted away - tokenization IS happening in the doc_stream f(x)\n",
    "corpus = [id2word.doc2bow(text) for text in doc_stream(path)]\n",
    "\n",
    "### This is the main input to our LDA model"
   ]
  },
  {
   "cell_type": "code",
   "execution_count": 34,
   "metadata": {},
   "outputs": [
    {
     "data": {
      "text/plain": [
       "[(0, 1),\n",
       " (2, 1),\n",
       " (11, 1),\n",
       " (21, 2),\n",
       " (32, 1),\n",
       " (34, 1),\n",
       " (35, 1),\n",
       " (37, 1),\n",
       " (53, 1),\n",
       " (54, 1)]"
      ]
     },
     "execution_count": 34,
     "metadata": {},
     "output_type": "execute_result"
    }
   ],
   "source": [
    "corpus[345][:10]\n",
    "# this is the 345th section : first 10 tokens"
   ]
  },
  {
   "cell_type": "code",
   "execution_count": 35,
   "metadata": {},
   "outputs": [],
   "source": [
    "# We train the LDA model\n",
    "\n",
    "lda = LdaMulticore(corpus=corpus,          # input(our data)\n",
    "                   id2word=id2word,        # mapping that tells model which word(num) is which word\n",
    "                   random_state=42,        # random state we like 42\n",
    "                   num_topics = 15,        # 15 is our starting point we can change it\n",
    "                   passes=10,              # we can adjust the num of passes\n",
    "                   workers=12\n",
    "                  )"
   ]
  },
  {
   "cell_type": "code",
   "execution_count": 36,
   "metadata": {},
   "outputs": [
    {
     "data": {
      "text/plain": [
       "[(0,\n",
       "  '0.009*\"monsieur\" + 0.008*\"little\" + 0.008*\"paul\" + 0.006*\"pelet\" + 0.006*\"madame\" + 0.005*\"vous\" + 0.004*\"thought\" + 0.004*\"est\" + 0.004*\"reuter\" + 0.004*\"like\"'),\n",
       " (1,\n",
       "  '0.009*\"elinor\" + 0.007*\"marianne\" + 0.006*\"think\" + 0.006*\"time\" + 0.005*\"know\" + 0.004*\"man\" + 0.004*\"good\" + 0.004*\"sister\" + 0.004*\"little\" + 0.004*\"soon\"'),\n",
       " (2,\n",
       "  '0.007*\"sir\" + 0.007*\"jane\" + 0.005*\"know\" + 0.005*\"good\" + 0.005*\"like\" + 0.004*\"thought\" + 0.004*\"rochester\" + 0.004*\"long\" + 0.004*\"little\" + 0.004*\"shall\"'),\n",
       " (3,\n",
       "  '0.006*\"little\" + 0.005*\"like\" + 0.004*\"thought\" + 0.004*\"day\" + 0.004*\"long\" + 0.004*\"good\" + 0.003*\"time\" + 0.003*\"come\" + 0.003*\"heart\" + 0.003*\"madame\"'),\n",
       " (4,\n",
       "  '0.005*\"little\" + 0.005*\"white\" + 0.004*\"like\" + 0.004*\"rochester\" + 0.004*\"long\" + 0.004*\"good\" + 0.004*\"eye\" + 0.004*\"think\" + 0.004*\"room\" + 0.003*\"time\"'),\n",
       " (5,\n",
       "  '0.009*\"little\" + 0.008*\"like\" + 0.007*\"graham\" + 0.007*\"bretton\" + 0.006*\"know\" + 0.006*\"miss\" + 0.005*\"think\" + 0.005*\"papa\" + 0.005*\"good\" + 0.004*\"thought\"'),\n",
       " (6,\n",
       "  '0.014*\"elizabeth\" + 0.008*\"miss\" + 0.008*\"darcy\" + 0.008*\"bennet\" + 0.007*\"bingley\" + 0.007*\"sister\" + 0.007*\"lady\" + 0.007*\"jane\" + 0.006*\"know\" + 0.006*\"soon\"'),\n",
       " (7,\n",
       "  '0.005*\"like\" + 0.005*\"little\" + 0.004*\"night\" + 0.004*\"long\" + 0.004*\"time\" + 0.004*\"door\" + 0.004*\"thought\" + 0.004*\"eyes\" + 0.004*\"room\" + 0.004*\"looked\"'),\n",
       " (8,\n",
       "  '0.008*\"think\" + 0.005*\"little\" + 0.005*\"sir\" + 0.005*\"miss\" + 0.004*\"come\" + 0.004*\"good\" + 0.004*\"jane\" + 0.004*\"words\" + 0.004*\"half\" + 0.004*\"night\"'),\n",
       " (9,\n",
       "  '0.006*\"miss\" + 0.006*\"time\" + 0.005*\"elinor\" + 0.005*\"know\" + 0.005*\"house\" + 0.005*\"little\" + 0.005*\"marianne\" + 0.004*\"room\" + 0.004*\"lucy\" + 0.004*\"sure\"'),\n",
       " (10,\n",
       "  '0.020*\"emma\" + 0.014*\"miss\" + 0.011*\"weston\" + 0.009*\"elton\" + 0.009*\"knightley\" + 0.009*\"thing\" + 0.008*\"harriet\" + 0.008*\"woodhouse\" + 0.007*\"think\" + 0.007*\"jane\"'),\n",
       " (11,\n",
       "  '0.009*\"madame\" + 0.007*\"dr\" + 0.007*\"little\" + 0.006*\"john\" + 0.005*\"know\" + 0.005*\"good\" + 0.004*\"like\" + 0.004*\"night\" + 0.004*\"day\" + 0.004*\"beck\"'),\n",
       " (12,\n",
       "  '0.006*\"john\" + 0.006*\"st\" + 0.004*\"hand\" + 0.004*\"little\" + 0.004*\"jane\" + 0.004*\"life\" + 0.004*\"time\" + 0.004*\"like\" + 0.004*\"diana\" + 0.004*\"know\"'),\n",
       " (13,\n",
       "  '0.006*\"hand\" + 0.005*\"thought\" + 0.004*\"madame\" + 0.004*\"good\" + 0.004*\"like\" + 0.004*\"little\" + 0.004*\"shall\" + 0.004*\"saw\" + 0.004*\"come\" + 0.003*\"think\"'),\n",
       " (14,\n",
       "  '0.010*\"like\" + 0.006*\"little\" + 0.004*\"time\" + 0.004*\"hunsden\" + 0.004*\"thought\" + 0.004*\"room\" + 0.004*\"shall\" + 0.003*\"house\" + 0.003*\"crimsworth\" + 0.003*\"day\"')]"
      ]
     },
     "execution_count": 36,
     "metadata": {},
     "output_type": "execute_result"
    }
   ],
   "source": [
    "# let's looks at which words have the highest probability on the topic\n",
    "\n",
    "lda.print_topics()"
   ]
  },
  {
   "cell_type": "code",
   "execution_count": null,
   "metadata": {},
   "outputs": [],
   "source": []
  },
  {
   "cell_type": "code",
   "execution_count": 37,
   "metadata": {},
   "outputs": [],
   "source": [
    "words = [re.findall(r'\"([^\"]*)\"',t[1]) for t in lda.print_topics()]"
   ]
  },
  {
   "cell_type": "code",
   "execution_count": 38,
   "metadata": {},
   "outputs": [],
   "source": [
    "topics = [' '.join(t[0:5]) for t in words]"
   ]
  },
  {
   "cell_type": "code",
   "execution_count": 39,
   "metadata": {},
   "outputs": [
    {
     "name": "stdout",
     "output_type": "stream",
     "text": [
      "------ Topic 0 ------\n",
      "monsieur little paul pelet madame\n",
      "\n",
      "------ Topic 1 ------\n",
      "elinor marianne think time know\n",
      "\n",
      "------ Topic 2 ------\n",
      "sir jane know good like\n",
      "\n",
      "------ Topic 3 ------\n",
      "little like thought day long\n",
      "\n",
      "------ Topic 4 ------\n",
      "little white like rochester long\n",
      "\n",
      "------ Topic 5 ------\n",
      "little like graham bretton know\n",
      "\n",
      "------ Topic 6 ------\n",
      "elizabeth miss darcy bennet bingley\n",
      "\n",
      "------ Topic 7 ------\n",
      "like little night long time\n",
      "\n",
      "------ Topic 8 ------\n",
      "think little sir miss come\n",
      "\n",
      "------ Topic 9 ------\n",
      "miss time elinor know house\n",
      "\n",
      "------ Topic 10 ------\n",
      "emma miss weston elton knightley\n",
      "\n",
      "------ Topic 11 ------\n",
      "madame dr little john know\n",
      "\n",
      "------ Topic 12 ------\n",
      "john st hand little jane\n",
      "\n",
      "------ Topic 13 ------\n",
      "hand thought madame good like\n",
      "\n",
      "------ Topic 14 ------\n",
      "like little time hunsden thought\n",
      "\n"
     ]
    }
   ],
   "source": [
    "for id, t in enumerate(topics): \n",
    "    print(f\"------ Topic {id} ------\")\n",
    "    print(t, end=\"\\n\\n\")"
   ]
  },
  {
   "cell_type": "markdown",
   "metadata": {},
   "source": [
    "## Challenge \n",
    "\n",
    "You will apply an LDA model to a customer review dataset to practice the fitting and estimation of LDA. "
   ]
  },
  {
   "cell_type": "markdown",
   "metadata": {},
   "source": [
    "# Interpret LDA Results (Learn)\n",
    "<a id=\"#p3\"></a>"
   ]
  },
  {
   "cell_type": "markdown",
   "metadata": {},
   "source": [
    "## Overview"
   ]
  },
  {
   "cell_type": "markdown",
   "metadata": {
    "toc-hr-collapsed": true
   },
   "source": [
    "## Follow Along"
   ]
  },
  {
   "cell_type": "markdown",
   "metadata": {},
   "source": [
    "### Topic Distance Visualization"
   ]
  },
  {
   "cell_type": "code",
   "execution_count": 40,
   "metadata": {},
   "outputs": [],
   "source": [
    "import pyLDAvis.gensim\n",
    "\n",
    "pyLDAvis.enable_notebook()"
   ]
  },
  {
   "cell_type": "code",
   "execution_count": 41,
   "metadata": {},
   "outputs": [
    {
     "name": "stderr",
     "output_type": "stream",
     "text": [
      "/home/jepoy/miniconda3/envs/ds-unit-4/lib/python3.7/site-packages/ipykernel/ipkernel.py:287: DeprecationWarning: `should_run_async` will not call `transform_cell` automatically in the future. Please pass the result to `transformed_cell` argument and any exception that happen during thetransform in `preprocessing_exc_tuple` in IPython 7.17 and above.\n",
      "  and should_run_async(code)\n"
     ]
    },
    {
     "data": {
      "text/html": [
       "\n",
       "<link rel=\"stylesheet\" type=\"text/css\" href=\"https://cdn.rawgit.com/bmabey/pyLDAvis/files/ldavis.v1.0.0.css\">\n",
       "\n",
       "\n",
       "<div id=\"ldavis_el31011396510466518485577795515\"></div>\n",
       "<script type=\"text/javascript\">\n",
       "\n",
       "var ldavis_el31011396510466518485577795515_data = {\"mdsDat\": {\"x\": [0.14508574742149505, 0.1577310458168949, 0.1670004491083345, -0.06639472294862958, -0.008240355266208092, -0.0030245646302212706, -0.06019552177833846, -0.053950099238253585, -0.10341848401013587, -0.04600481196216062, -0.055329496016088844, 0.03670131306767236, -0.0698596492877146, -0.013534722491919634, -0.02656612778472623], \"y\": [0.009637437167119773, 0.01813735398231745, -0.0016888408402628585, -0.019817619161848862, -0.01342177918202298, -0.024663091407788693, -0.027090858208393968, -0.0026988373735540787, 0.11674155491335995, 0.00358289971474371, 0.046048720735036394, -0.01551739686102918, -0.11800781985991902, 0.047659078772946215, -0.01890080239070407], \"topics\": [1, 2, 3, 4, 5, 6, 7, 8, 9, 10, 11, 12, 13, 14, 15], \"cluster\": [1, 1, 1, 1, 1, 1, 1, 1, 1, 1, 1, 1, 1, 1, 1], \"Freq\": [17.776600507811043, 13.188303026962151, 12.624997088882559, 11.432452086067686, 7.893300578322232, 7.6459113542967225, 6.496879310563994, 5.953219971175965, 4.8670123504022476, 3.6806070950608025, 3.218541343859645, 2.411992767976665, 1.383577867657898, 1.1197575066705279, 0.3068471442898484]}, \"tinfo\": {\"Term\": [\"emma\", \"elizabeth\", \"elinor\", \"weston\", \"miss\", \"think\", \"little\", \"jane\", \"marianne\", \"knightley\", \"elton\", \"sir\", \"bennet\", \"madame\", \"like\", \"darcy\", \"harriet\", \"good\", \"woodhouse\", \"bingley\", \"come\", \"rochester\", \"monsieur\", \"thing\", \"night\", \"lucy\", \"know\", \"hand\", \"john\", \"churchill\", \"stopt\", \"sussex\", \"delaford\", \"somersetshire\", \"norland\", \"occurrences\", \"inconveniences\", \"saucy\", \"dorsetshire\", \"outlived\", \"palmers\", \"brandon\", \"unavoidable\", \"acquit\", \"intentionally\", \"enquire\", \"boarder\", \"vindication\", \"gentility\", \"improving\", \"unceasing\", \"illiterate\", \"prepossession\", \"devonshire\", \"militia\", \"attaching\", \"overcoming\", \"unfortunate\", \"avoiding\", \"coxcomb\", \"willoughby\", \"marianne\", \"robert\", \"elinor\", \"dashwood\", \"barton\", \"fanny\", \"recollecting\", \"increase\", \"colonel\", \"attachment\", \"recovery\", \"edward\", \"behaviour\", \"engagement\", \"affection\", \"jennings\", \"sink\", \"unhappy\", \"ferrars\", \"conduct\", \"feelings\", \"sister\", \"cottage\", \"acquaintance\", \"gardiner\", \"happiness\", \"opinion\", \"mother\", \"harriet\", \"man\", \"replied\", \"think\", \"time\", \"mind\", \"present\", \"felt\", \"soon\", \"family\", \"good\", \"know\", \"great\", \"thing\", \"heart\", \"thought\", \"little\", \"house\", \"having\", \"love\", \"saw\", \"long\", \"day\", \"miss\", \"bates\", \"weston\", \"cole\", \"churchill\", \"woodhouse\", \"dixon\", \"maple\", \"campbell\", \"enscombe\", \"randalls\", \"perry\", \"eltons\", \"ford\", \"hawkins\", \"campbells\", \"coles\", \"weymouth\", \"taylor\", \"suckling\", \"elton\", \"patty\", \"churchills\", \"larkins\", \"exploring\", \"knightley\", \"selina\", \"richmond\", \"vicarage\", \"brunswick\", \"emma\", \"isabella\", \"hartfield\", \"frank\", \"highbury\", \"abbey\", \"donwell\", \"surprized\", \"harriet\", \"fairfax\", \"body\", \"goddard\", \"surprize\", \"thing\", \"miss\", \"extremely\", \"dear\", \"jane\", \"oh\", \"think\", \"great\", \"father\", \"know\", \"sure\", \"good\", \"little\", \"shall\", \"young\", \"time\", \"come\", \"like\", \"soon\", \"thought\", \"day\", \"collins\", \"bennet\", \"lucas\", \"bingley\", \"bourgh\", \"catherine\", \"lucases\", \"charlotte\", \"lizzy\", \"longbourn\", \"kitty\", \"bennets\", \"netherfield\", \"judgement\", \"jenkinson\", \"hunsford\", \"rosings\", \"phillips\", \"elizabeth\", \"ladyship\", \"hertfordshire\", \"meryton\", \"conduit\", \"palmer\", \"hurst\", \"bingleys\", \"enumerating\", \"apologising\", \"gracechurch\", \"chooses\", \"darcy\", \"lydia\", \"maria\", \"forster\", \"wickham\", \"middleton\", \"sister\", \"lady\", \"everybody\", \"sisters\", \"jane\", \"town\", \"miss\", \"mother\", \"soon\", \"family\", \"dear\", \"know\", \"room\", \"elinor\", \"good\", \"shall\", \"time\", \"think\", \"sir\", \"young\", \"day\", \"great\", \"sure\", \"little\", \"come\", \"away\", \"whitcross\", \"lowton\", \"monitor\", \"hail\", \"jar\", \"fragrant\", \"misty\", \"efficient\", \"genii\", \"jocund\", \"unlocked\", \"chimneys\", \"consumed\", \"vehicle\", \"tramp\", \"slate\", \"trod\", \"simultaneously\", \"walravens\", \"gaping\", \"retiring\", \"mantle\", \"traveller\", \"tap\", \"flinging\", \"blanched\", \"coward\", \"inside\", \"curb\", \"hazel\", \"costly\", \"waiter\", \"marie\", \"casement\", \"justine\", \"straw\", \"ivy\", \"nun\", \"amidst\", \"hollow\", \"wall\", \"dormitory\", \"sophie\", \"dark\", \"fields\", \"beck\", \"rochester\", \"curtain\", \"reader\", \"temple\", \"city\", \"white\", \"road\", \"door\", \"broad\", \"black\", \"madame\", \"night\", \"ingram\", \"eyes\", \"face\", \"chamber\", \"light\", \"high\", \"deep\", \"like\", \"looked\", \"sound\", \"bed\", \"round\", \"saw\", \"new\", \"long\", \"went\", \"room\", \"little\", \"heard\", \"morning\", \"thought\", \"day\", \"time\", \"stood\", \"felt\", \"look\", \"came\", \"house\", \"come\", \"far\", \"hand\", \"left\", \"life\", \"miss\", \"good\", \"polly\", \"warren\", \"missis\", \"countess\", \"bassompierre\", \"bessie\", \"graham\", \"sire\", \"scotch\", \"papa\", \"opaque\", \"sedate\", \"glittered\", \"paulina\", \"bretton\", \"studious\", \"preaching\", \"chide\", \"appealing\", \"snowe\", \"kinsfolk\", \"instruments\", \"coaxing\", \"naughty\", \"couldn\", \"isidore\", \"lloyd\", \"caressing\", \"ache\", \"cholmondeley\", \"gateshead\", \"reed\", \"fanshawe\", \"count\", \"ginevra\", \"alfred\", \"dr\", \"doll\", \"audience\", \"child\", \"mamma\", \"lucy\", \"little\", \"like\", \"cup\", \"georgiana\", \"know\", \"miss\", \"face\", \"think\", \"john\", \"good\", \"hand\", \"eyes\", \"thought\", \"look\", \"room\", \"tell\", \"long\", \"night\", \"shall\", \"come\", \"day\", \"looked\", \"old\", \"backwards\", \"absolved\", \"patrician\", \"abstracted\", \"eton\", \"vandenhuten\", \"helen\", \"seacombe\", \"benefactress\", \"yorke\", \"announcement\", \"sympathies\", \"victor\", \"victims\", \"india\", \"blot\", \"workings\", \"pope\", \"behest\", \"vigilance\", \"members\", \"tynedale\", \"urgency\", \"pioneer\", \"omission\", \"notre\", \"indies\", \"burns\", \"curate\", \"automaton\", \"uncles\", \"lad\", \"mason\", \"poole\", \"scatcherd\", \"lowood\", \"hunsden\", \"pilot\", \"adele\", \"brocklehurst\", \"sir\", \"rochester\", \"bride\", \"ll\", \"eyre\", \"jane\", \"thornfield\", \"frances\", \"god\", \"temple\", \"yes\", \"know\", \"long\", \"good\", \"like\", \"shall\", \"heart\", \"thought\", \"man\", \"come\", \"wife\", \"night\", \"school\", \"looked\", \"hand\", \"little\", \"room\", \"time\", \"life\", \"eyes\", \"day\", \"think\", \"miss\", \"love\", \"left\", \"house\", \"face\", \"wages\", \"antiquity\", \"potatoes\", \"revolted\", \"sand\", \"swiss\", \"passively\", \"pervaded\", \"alight\", \"traversed\", \"damask\", \"grapes\", \"coal\", \"nation\", \"jack\", \"crimsworth\", \"employer\", \"dispensed\", \"whip\", \"irritating\", \"deeming\", \"porridge\", \"strangest\", \"swam\", \"slavery\", \"strove\", \"rubbed\", \"repast\", \"healed\", \"miller\", \"featured\", \"grate\", \"switzerland\", \"hunsden\", \"tyrant\", \"hearth\", \"apartments\", \"german\", \"frances\", \"counting\", \"like\", \"french\", \"england\", \"ll\", \"wood\", \"hall\", \"bright\", \"light\", \"little\", \"eye\", \"chair\", \"land\", \"reed\", \"english\", \"house\", \"room\", \"work\", \"shall\", \"old\", \"liked\", \"thought\", \"took\", \"looking\", \"time\", \"night\", \"saw\", \"door\", \"day\", \"long\", \"place\", \"good\", \"come\", \"face\", \"came\", \"man\", \"looked\", \"knew\", \"life\", \"know\", \"soon\", \"briggs\", \"diana\", \"hannah\", \"average\", \"translation\", \"henri\", \"insuperable\", \"harangue\", \"aspire\", \"foul\", \"marsh\", \"pencils\", \"beast\", \"margin\", \"turbulent\", \"relinquish\", \"combination\", \"flint\", \"scholars\", \"moor\", \"mysteries\", \"flimsy\", \"woes\", \"clouded\", \"idiot\", \"startling\", \"sternness\", \"rivers\", \"cursed\", \"carlo\", \"st\", \"austerity\", \"composition\", \"ye\", \"essay\", \"mason\", \"mary\", \"mdlle\", \"thy\", \"frances\", \"despair\", \"english\", \"morton\", \"monsieur\", \"john\", \"directress\", \"rochester\", \"god\", \"england\", \"hand\", \"life\", \"brow\", \"words\", \"school\", \"voice\", \"yes\", \"felt\", \"head\", \"jane\", \"heart\", \"face\", \"eye\", \"eyes\", \"asked\", \"little\", \"time\", \"day\", \"like\", \"thought\", \"know\", \"long\", \"tell\", \"looked\", \"moment\", \"saw\", \"grec\", \"allez\", \"pelet\", \"zelie\", \"paletot\", \"une\", \"garcon\", \"reuter\", \"peut\", \"pierre\", \"soit\", \"fait\", \"comme\", \"etre\", \"zoraide\", \"eulalie\", \"reflex\", \"tinged\", \"mes\", \"dites\", \"jour\", \"estrade\", \"demoiselles\", \"anglais\", \"ce\", \"des\", \"qu\", \"bouquet\", \"moi\", \"sais\", \"sylvie\", \"paul\", \"que\", \"je\", \"vous\", \"est\", \"il\", \"monsieur\", \"pas\", \"ne\", \"les\", \"professor\", \"emanuel\", \"et\", \"classe\", \"la\", \"mdlle\", \"mademoiselle\", \"pupils\", \"madame\", \"desk\", \"little\", \"thought\", \"hand\", \"like\", \"day\", \"eyes\", \"eye\", \"looked\", \"time\", \"man\", \"good\", \"know\", \"took\", \"destruction\", \"magnanimity\", \"venerable\", \"lull\", \"collation\", \"roared\", \"bas\", \"furnace\", \"holy\", \"soir\", \"rupture\", \"beef\", \"eighty\", \"coquette\", \"turk\", \"realized\", \"dispositions\", \"balcony\", \"caprices\", \"scent\", \"elders\", \"suave\", \"glory\", \"petty\", \"haunting\", \"glossy\", \"radiant\", \"intellectual\", \"disapproved\", \"bonnets\", \"cloaks\", \"scrupulously\", \"boughs\", \"medical\", \"chestnut\", \"creed\", \"vestibule\", \"poured\", \"rome\", \"god\", \"moon\", \"rue\", \"graham\", \"paulina\", \"ears\", \"faith\", \"hotel\", \"wind\", \"madame\", \"fossette\", \"filled\", \"little\", \"like\", \"long\", \"certain\", \"day\", \"thought\", \"beck\", \"door\", \"heart\", \"world\", \"watched\", \"bretton\", \"hand\", \"hour\", \"come\", \"half\", \"eyes\", \"good\", \"evening\", \"came\", \"great\", \"round\", \"time\", \"night\", \"old\", \"let\", \"life\", \"know\", \"head\", \"look\", \"away\", \"think\", \"georgette\", \"fifine\", \"grisette\", \"chambre\", \"wheel\", \"plebeian\", \"motherly\", \"phase\", \"morbid\", \"trampling\", \"reverence\", \"sardonic\", \"sleeve\", \"ca\", \"portress\", \"hauteur\", \"femme\", \"sa\", \"lottery\", \"spy\", \"platform\", \"confidences\", \"imperious\", \"concentrated\", \"shawls\", \"miracles\", \"fabric\", \"etes\", \"confessional\", \"turban\", \"rosine\", \"dr\", \"hamal\", \"madame\", \"doctor\", \"desiree\", \"beck\", \"cleopatra\", \"isidore\", \"et\", \"les\", \"john\", \"le\", \"penetrated\", \"english\", \"night\", \"bed\", \"pas\", \"little\", \"monsieur\", \"door\", \"know\", \"good\", \"like\", \"came\", \"saw\", \"day\", \"way\", \"lucy\", \"change\", \"feel\", \"think\", \"time\", \"thought\", \"better\", \"looked\", \"hour\", \"hand\", \"look\", \"heart\", \"took\", \"man\", \"half\", \"eyes\", \"enquiry\", \"downs\", \"harry\", \"await\", \"repelled\", \"footman\", \"disappoint\", \"savings\", \"expedients\", \"rained\", \"exacted\", \"hostess\", \"forte\", \"margaret\", \"aching\", \"liberated\", \"faubourg\", \"tis\", \"seasons\", \"eshton\", \"comer\", \"disposal\", \"unkind\", \"showy\", \"sketches\", \"dispersed\", \"compass\", \"gray\", \"rupture\", \"feasted\", \"ecstasy\", \"lynn\", \"steele\", \"ingram\", \"board\", \"ma\", \"jennings\", \"lucy\", \"basket\", \"elinor\", \"marianne\", \"house\", \"ay\", \"sure\", \"cottage\", \"time\", \"room\", \"miss\", \"thing\", \"know\", \"got\", \"dashwood\", \"come\", \"till\", \"came\", \"john\", \"little\", \"home\", \"tell\", \"good\", \"day\", \"knew\", \"soon\", \"shall\", \"thought\", \"better\", \"away\", \"heart\", \"think\", \"like\", \"heard\", \"sloping\", \"gems\", \"feather\", \"bust\", \"blocked\", \"majesty\", \"portfolio\", \"majestic\", \"ringlets\", \"consistency\", \"dutch\", \"bloomed\", \"satin\", \"discussing\", \"paler\", \"fascination\", \"xix\", \"asunder\", \"disordered\", \"displeasing\", \"petit\", \"richly\", \"emphatic\", \"josef\", \"summits\", \"science\", \"enclosing\", \"conferred\", \"lilies\", \"platform\", \"dent\", \"godmother\", \"splendour\", \"blanche\", \"queen\", \"braided\", \"bracelet\", \"white\", \"adele\", \"moulded\", \"pictures\", \"hair\", \"ingram\", \"rochester\", \"bretton\", \"dark\", \"features\", \"eye\", \"fine\", \"liked\", \"crimson\", \"blue\", \"face\", \"little\", \"dr\", \"long\", \"large\", \"like\", \"days\", \"room\", \"good\", \"mother\", \"think\", \"black\", \"time\", \"saw\", \"miss\", \"having\", \"thought\", \"lady\", \"day\", \"night\", \"know\", \"charade\", \"soliloquy\", \"testified\", \"anecdote\", \"monde\", \"suite\", \"undressed\", \"settlement\", \"brittle\", \"dubious\", \"chained\", \"clay\", \"bustling\", \"conquer\", \"alleged\", \"interrupting\", \"unction\", \"pretended\", \"traitor\", \"soup\", \"intricate\", \"inheritance\", \"generation\", \"divisions\", \"ominous\", \"cries\", \"captive\", \"augmented\", \"demonstration\", \"david\", \"betray\", \"powerless\", \"blent\", \"possessor\", \"grasp\", \"joyous\", \"highest\", \"lamp\", \"hand\", \"madame\", \"lines\", \"doors\", \"eye\", \"beck\", \"softly\", \"write\", \"rosine\", \"thought\", \"love\", \"let\", \"shall\", \"read\", \"moment\", \"oh\", \"lost\", \"saw\", \"good\", \"like\", \"come\", \"door\", \"little\", \"caught\", \"room\", \"think\", \"look\", \"night\", \"stood\", \"open\", \"soon\", \"looked\", \"jane\", \"thing\", \"came\", \"yes\", \"looking\", \"morning\", \"way\", \"experiment\", \"landlord\", \"rent\", \"narrated\", \"deserted\", \"cushion\", \"savings\", \"sprite\", \"recalling\", \"spurred\", \"eventful\", \"unaccountably\", \"necks\", \"adoption\", \"fetters\", \"disdainful\", \"hide\", \"rudeness\", \"haply\", \"cooled\", \"ornamented\", \"tinged\", \"conjectured\", \"vouchsafed\", \"justine\", \"unction\", \"fade\", \"lure\", \"froze\", \"imperious\", \"station\", \"marie\", \"bible\", \"belonged\", \"indignant\", \"jealous\", \"flame\", \"tidings\", \"ingram\", \"janet\", \"moonlight\", \"changes\", \"spectacles\", \"entreated\", \"confidence\", \"paul\", \"think\", \"sir\", \"words\", \"finger\", \"half\", \"come\", \"near\", \"little\", \"miss\", \"night\", \"jane\", \"good\", \"heart\", \"tell\", \"god\", \"heard\", \"want\", \"lucy\", \"rochester\", \"know\", \"love\", \"great\", \"chair\", \"eyes\", \"day\", \"like\"], \"Freq\": [883.0, 638.0, 675.0, 450.0, 1541.0, 1312.0, 1715.0, 939.0, 558.0, 398.0, 394.0, 597.0, 318.0, 398.0, 1319.0, 412.0, 531.0, 1349.0, 320.0, 302.0, 822.0, 356.0, 283.0, 795.0, 613.0, 364.0, 1434.0, 605.0, 615.0, 230.0, 14.407057635009853, 9.02341032526571, 27.815836370256516, 7.94904907692301, 47.26810682314571, 6.9178302134640655, 6.925125070289023, 6.022662821679832, 5.987547860381214, 5.962303293609507, 9.382570740233726, 123.37486078116561, 5.0524355126216625, 11.015752724032616, 5.048265517217555, 5.888665536930322, 5.035247153187154, 5.892439046284924, 7.5979943286971405, 7.35474729949059, 5.882648111129897, 5.0245444622802475, 5.010400288679829, 22.75656410841311, 7.551534109632244, 4.910512560931621, 4.877506921632573, 32.37285405051649, 9.598234826867394, 5.55656833537827, 166.8581425865053, 407.14183019418937, 61.58868671562775, 479.2465723467451, 179.9886837905691, 67.27559720464885, 36.5084289520195, 15.084370942574088, 27.470518913004685, 188.85475401897435, 81.15037758846155, 11.766912977234671, 174.1992674685772, 88.24238923157601, 71.28547386630974, 137.86931399552952, 119.42123486831967, 16.890360844023657, 42.37158357112032, 72.19973015597438, 67.26752802435297, 168.75113077044952, 234.23258076329927, 47.96970064449011, 113.93321929522493, 53.14600845302037, 122.66636858904576, 109.9311523546864, 215.1357499186681, 177.65659987435086, 249.294445244192, 130.21231054267915, 312.7641266434689, 311.08853930100094, 175.12089239876926, 140.1587039047482, 186.10294299778394, 219.59625527286514, 132.72080075096054, 247.4143262352534, 252.955803371048, 187.29117520170672, 183.15326841088185, 162.74112225914726, 195.742461022395, 226.9419077175146, 164.45769117806964, 142.44783435479337, 142.5644482803233, 149.8817029184331, 152.0087751687097, 151.42190446416834, 155.35963850263735, 152.6487643820073, 442.4941687148686, 61.911783299051635, 224.92948481343436, 311.92613062090226, 44.52543280756039, 31.627344128610652, 51.37816575653526, 36.388745107137666, 89.39511557332901, 79.38548596625016, 22.337065848176263, 16.37248032286835, 19.257479378524305, 25.989245300240594, 17.285668350672182, 18.203262004129392, 48.80210428219571, 14.319170032690616, 368.18934360996536, 12.285689870214833, 15.136627737040024, 13.224949529240467, 11.248281726193735, 367.0885676029147, 10.2484465190324, 13.06094524187865, 16.764402952332844, 11.132925796162722, 806.5680275582922, 64.6983523523984, 148.00215990808016, 216.994007402273, 113.49364247192325, 29.21681242861503, 44.697557786664504, 29.93826671365438, 328.5237562200265, 243.76581308754913, 181.95331156114057, 48.46473585832319, 32.11488399337791, 358.1093876093328, 594.9027338627279, 67.22807174586195, 224.39291762572165, 302.7593301653066, 182.25288448104632, 305.8039904420741, 222.25906451024574, 168.73348949681946, 301.2541894259768, 184.95595116810438, 270.87183997749815, 293.1780784767552, 188.24415038869034, 155.44059804973395, 196.12815584792546, 162.27672388332945, 178.46299734607985, 159.1168580597114, 163.9789363667957, 158.70514981596637, 173.83484792902243, 311.75951948686264, 68.27350247324104, 293.45750859392524, 37.98226884368124, 123.58136072265656, 13.651638639633632, 103.90088164945625, 89.09447589635292, 80.59860100782139, 66.5638481337847, 9.779934144992437, 65.99586746400784, 10.624506760801328, 8.833730423482681, 23.04663774499543, 44.31807216234162, 28.10774611289095, 557.4673288760205, 47.70057777240385, 35.498423323626575, 48.99997164088578, 6.631775726659344, 65.08251655079786, 30.859027727264003, 4.941296850225913, 4.937842387683138, 6.515369725155425, 7.934414452022179, 7.839786709122654, 323.79326154472307, 131.10487724912275, 19.548245540866123, 29.53751239969835, 114.21310246269589, 62.87932610191305, 278.1808214430666, 269.52723096245046, 39.88781925270781, 86.20188090877646, 269.291643411942, 100.71051763392194, 329.99456712922927, 188.2361297015467, 226.4014050182725, 132.3428681754708, 163.14486703919317, 233.71342712855093, 169.54763360842435, 148.42104131014955, 202.6039667025283, 170.40247459830604, 196.28432375006236, 189.5132961564345, 134.98062874538934, 135.9618596460209, 153.6495278608061, 139.9682115931462, 126.45305963809562, 157.2112486151278, 132.69011335306615, 125.19604296705458, 10.169890377615639, 10.885993853571176, 6.138088195908903, 6.080642002984409, 6.000691223439281, 5.994106397454635, 5.100151610677019, 5.08882110039666, 5.052201479362154, 5.024129408813893, 4.98549022561289, 5.778385558416771, 8.181460650980604, 9.080707597951298, 7.298865054039029, 8.066918677157407, 5.667314332277592, 5.50687724766578, 19.47407950237242, 6.317852693818223, 4.683307826443558, 7.045272079553044, 13.084500804132274, 6.911143012091799, 4.583111366372625, 6.041054830106489, 5.0903082657204015, 6.006297815851929, 4.917656819066749, 6.695689153645012, 10.268102733879827, 10.187899052798228, 21.070264681852365, 17.028108659097867, 14.980761739055072, 11.502671045887466, 10.275131832254315, 25.267078598025467, 33.413054816930114, 25.306616754935494, 37.41308735119145, 20.390628043116518, 16.76345893372667, 85.79817593621283, 23.200146148684027, 63.111516895607394, 115.95747154452195, 25.641220609633915, 45.68866387499188, 34.44001860415797, 22.039454286328013, 76.91586516132791, 41.33649645581326, 134.168768309453, 34.49144365472859, 61.45381354774254, 107.16620949433826, 139.35175429863736, 34.29624747007635, 128.84343994950643, 107.71089995899915, 39.37023446138121, 77.03122580610422, 57.72484140171709, 55.6469523192121, 189.0382606327294, 126.08855900474596, 50.95662478043045, 61.10569588640664, 80.36161678750821, 125.91633149406994, 71.66033553966143, 137.35854395079335, 95.28684134915429, 126.40729211477628, 173.4730919374117, 99.317113606927, 89.85477081163717, 131.3567952339191, 123.07724320225462, 135.09452350901756, 70.50056350887311, 94.13314312681301, 91.8288920472191, 91.23730477310657, 93.01934181655102, 91.61710135020263, 77.78076547241353, 82.43689029453498, 80.15587486950837, 79.80032346733962, 86.8582390593768, 80.69127107234233, 71.7097078153013, 7.690539051567095, 16.812139434832144, 12.517248935692862, 56.80638316075767, 97.60086783731164, 163.95547091229395, 4.835202801938306, 11.475088355243429, 126.04651896644586, 4.789865597732496, 5.580299910450989, 4.80574940616706, 56.56161431722034, 161.40672287532462, 3.8945133281743445, 3.8713253944078283, 3.872375938459417, 3.823483157470368, 39.14166998457091, 3.7660463355518083, 3.797021544107862, 3.798108450376452, 7.960983940570917, 4.2196124294412325, 14.99577541125907, 7.693877895136127, 6.056115000859999, 5.778503154887368, 14.044775988898344, 26.429539726979026, 75.11215718237426, 49.77278696294521, 17.496425955728036, 60.55351466307357, 11.64452188559258, 96.28786490362502, 11.345408448669623, 7.666872648628351, 84.95315270710506, 26.68875265117083, 96.08770998019493, 230.47388685493402, 190.60975650201073, 21.278171408453794, 20.817526202951488, 148.33809888233745, 146.0099722966408, 74.09010382786082, 131.40775848080156, 81.68070294609797, 121.73994215479301, 78.49022298278305, 79.14908619362171, 106.54118636783625, 76.39741826464235, 88.04359841133899, 69.1875783612649, 88.3552334117007, 71.97546737864118, 82.77737012981075, 76.864928368697, 79.2128532814961, 66.19474180825331, 63.70098208391712, 9.572128038610623, 4.619284130721941, 5.945654658000339, 5.796817701696509, 5.74861719165619, 15.379171792341747, 45.85309421582158, 12.646373685056025, 7.709964067728719, 9.609924291364829, 5.713695937127724, 8.061831906134529, 15.665238998138507, 3.9767066827856197, 14.705586630644701, 3.976626472985532, 3.8798352147905564, 4.533460342104996, 3.8131759885823087, 4.4729117077103595, 3.800323588702225, 7.427945015668542, 5.617045917928555, 3.639156293695401, 4.9448511756791085, 3.662963957314372, 4.7601517202797, 19.625533012134948, 4.65408088569114, 3.6231335142822996, 11.687893078120018, 10.294448674840746, 31.256520375737338, 17.76153956033453, 12.773393924474357, 26.847562034066193, 62.61419716648572, 12.765524994347526, 54.27922438694589, 25.20631607944401, 174.52000874602643, 103.50906469935623, 20.372491309045817, 46.095531475229954, 34.608171267046586, 163.76662819162328, 32.316327581955875, 34.19793789576156, 50.36535999009915, 24.176014920033264, 83.78106401634795, 129.51506272099982, 99.81866620050589, 122.0778984606569, 119.89182848515615, 97.93897255218403, 80.24566154023337, 106.4824238542048, 94.09312048599918, 86.46543911858268, 48.602334634648685, 69.01082131206762, 44.92863651365306, 69.39908696280003, 64.805244334451, 98.46449042291982, 72.68177416547069, 82.54829379217409, 60.18634276960166, 61.87546909254033, 73.4853787156328, 76.8256384203766, 79.98736645460946, 57.824748642354976, 55.578930038030904, 56.763713877456844, 54.341539729372016, 12.99826987094, 4.733237382571273, 4.707018133302034, 5.289257041958528, 6.519099850708085, 10.919574125824075, 5.644328143358631, 4.968932668763254, 4.694793052734646, 6.787972206838855, 5.419648023688308, 6.660465698124297, 5.215320418465429, 5.957823599291139, 4.679270711920662, 68.15718976294951, 8.449847673760779, 4.484514555063475, 5.722742900836324, 3.68959035914986, 5.591697623193497, 5.5087270933574715, 5.545681181279825, 3.681331058566313, 4.291001797504816, 3.595399306330338, 4.140886223899941, 6.385063421368561, 3.5736220388258575, 15.100029546990866, 7.174698428988702, 10.531785265474868, 7.101476552661485, 79.43709484182976, 10.720352873487808, 30.539133727094626, 9.447763324411795, 18.514901854594786, 40.2994744781189, 10.16187812277827, 198.66265431241325, 44.60213388487159, 34.425561366379455, 37.217434915442894, 23.53899006864776, 36.909802045716795, 27.33975709734536, 48.89153194619823, 125.7370033479177, 52.55675067157607, 32.36859251272398, 16.42973664010673, 27.21331678278621, 36.97929253882974, 71.21013449323118, 77.70737351146764, 39.271404912830235, 75.93404667739317, 53.594663123208846, 32.9036169186079, 79.06114494448694, 52.113375106266176, 45.063303454251546, 80.08900589368739, 56.422421010083184, 61.81589601193089, 51.006486589828896, 65.47368041852859, 58.86647701542749, 47.02762779963922, 65.20808843185318, 53.36001743671071, 44.870760287375624, 47.42239581639427, 50.04169881839132, 46.892103202693114, 43.74689326612222, 44.14779175110605, 45.28344084006905, 44.087553855633054, 14.300179474928822, 68.10332388848552, 35.07688066663104, 6.693131563023495, 6.590222267811193, 40.34748619745863, 4.777799598496236, 4.819633568100447, 3.892436822379778, 3.870517067013444, 8.830277028036669, 4.937105166415796, 3.7481592362845344, 4.951802692844318, 3.6948527351045852, 7.2785513536017366, 3.5186021639192115, 4.119820003291753, 10.03873964841284, 17.12828354919422, 3.464718112511775, 3.4162011780749664, 3.884617221321387, 4.5343223980574905, 5.6420455416829745, 3.8374487186803967, 4.389643758043112, 34.1334172065342, 3.8823276569028735, 4.917213217866048, 109.02455668222069, 5.044383967157358, 7.605279147362846, 15.436594129972978, 5.649623478565313, 26.533512235994312, 52.71666463713738, 41.99178011263306, 11.191134550748073, 38.745877235627454, 16.783184933528585, 61.32499239829709, 16.133958740620074, 65.52566536044543, 112.84983231474757, 16.89059569920224, 65.24378826549746, 46.639439479333134, 31.686515832771153, 78.83027640665817, 72.9214537080388, 23.807505573922793, 52.46376552069317, 40.125559196269805, 50.131963634861215, 61.162120518817666, 64.41573058230989, 49.64910449140308, 74.08470014647715, 61.19895774216601, 52.90195426310547, 46.94630627928166, 58.35862057300226, 46.026709464598675, 78.80961384807287, 70.58082374839579, 64.68023392372913, 69.043652774146, 64.50749128455547, 66.61097102911502, 58.2386639066653, 50.54399833970339, 52.37023659697067, 49.053409357285304, 48.11311088329641, 13.985112835025728, 6.170225389865714, 96.75071823145994, 15.37287067197997, 17.666480490282993, 31.855217356267822, 4.8192880933849915, 64.42450270456554, 5.145970772217989, 25.069880758571273, 7.626399558628621, 9.913871806223893, 18.130763917030517, 5.122545089112299, 21.509123648982857, 11.23579727125945, 5.137880580273788, 4.1282248920250995, 5.033485048883618, 5.816203349846237, 5.114537033350168, 28.398988971878342, 11.255271982017899, 8.451420657233399, 37.421301380392336, 24.819677076770663, 22.060306268401582, 9.533680734617594, 17.702813985395803, 5.461808811141589, 19.269530135843883, 115.64692032868366, 41.93424149372802, 46.436671727593655, 72.93042271650943, 68.05877569292075, 27.39561159579533, 143.46848572489972, 35.11517311998314, 22.40611291429662, 23.579818533024422, 36.329474435704135, 53.50015962000397, 44.03883153822333, 33.360609301244445, 47.203985276614226, 49.40153749595558, 49.8206007366697, 53.77645685689977, 89.20186854808615, 38.28450381621682, 117.0231497975102, 68.19829176780527, 55.503770998283215, 61.408469202629625, 51.97762651979841, 42.46004092503161, 38.41067209554594, 40.624981871947, 42.34748682887541, 39.963534313965326, 40.00696970296133, 39.866839160639046, 37.50814729554003, 3.4590161929455983, 3.3429709196364126, 3.800668959806333, 3.5212993662355148, 3.513814426465527, 3.517399596109089, 3.976959721954529, 3.239967968372944, 6.8064798223591705, 4.546137803026489, 2.578873497343981, 2.5449335780155358, 3.2299702537750465, 4.536150832521923, 2.6581806865176936, 5.097640507556428, 2.5867158460937003, 5.138195095095008, 2.605219692957456, 3.371298057457887, 2.545083323816344, 3.6868843108846825, 10.57157542489775, 2.399444788437147, 2.3639970027602066, 2.840504592824456, 4.292851174782523, 5.555543021252564, 2.6908593500148927, 2.7360414521266505, 3.7941167416386876, 3.3884416013799967, 5.763374748140026, 3.2916997705054727, 4.313824987977321, 5.500238808087304, 7.306030470843285, 7.0950641547263515, 6.871342585307402, 34.38379542829661, 15.38617286622273, 14.882687193555945, 30.387734051410302, 15.680171550123164, 10.942738187105176, 11.060970890666077, 8.151248819564957, 15.484193915709538, 34.608228793898775, 10.39916563071265, 15.516817012099038, 66.75512547875917, 56.18765966956072, 47.05911804797302, 27.35338184067519, 48.02797203618969, 49.08870413853086, 18.206706875567217, 31.769773636877304, 34.76045379424311, 26.992818126539312, 14.860977409967939, 20.692914246691405, 31.911829352883355, 27.02415596076403, 36.242708910259886, 30.933762304634914, 31.986100584060832, 42.83548603023175, 27.251960285648956, 31.3496634714748, 32.437132250071464, 23.344849257454317, 37.290096848683305, 27.532832373521604, 25.474398392368634, 25.035848676785903, 25.305713441040407, 30.14594897507773, 22.052349602800554, 23.929932289939014, 23.763020114010487, 25.131113866333173, 13.672351293320116, 9.248602252475454, 6.792950344247862, 3.2521608422954604, 4.615200042690389, 3.6442141355245266, 5.479948019214941, 5.367261114442484, 3.3251072101445707, 2.64204120672613, 4.1695114845272085, 2.8052506050355497, 5.47804547642551, 2.708358035040467, 8.108112994874089, 3.6416639061003, 5.934291091854051, 3.5202963562487875, 3.441936549518272, 3.3960412279506627, 2.790108948131772, 2.808308179203624, 2.7433245988532997, 3.642443126557576, 2.7599921068182915, 2.401029258818037, 2.230715419282193, 5.709352400891535, 3.5129645200547066, 4.616176857483666, 13.839022262538082, 72.47362824466512, 9.980144047920808, 93.76782197363167, 14.940661478938374, 6.534024253084049, 35.77912104765218, 4.761879632505225, 7.504049787184444, 17.32745543109815, 10.075735078998369, 60.41163849350192, 11.24550411780632, 6.0949549583757605, 25.32214927710768, 41.924028911137206, 23.20192270911136, 11.479956109920549, 68.69375488099261, 26.147129411696632, 31.90358266512698, 51.21388228427854, 48.699890428144954, 42.934410666146974, 31.936625840388338, 32.60745068385003, 36.48573953255601, 30.124622948370956, 22.986453866162776, 18.279581795659226, 23.133590888333465, 35.74524404190904, 35.41354157861758, 33.01654201112438, 26.22696339548667, 27.27513058982182, 23.118938960036598, 25.215818274542876, 25.39033077351703, 24.483665786350297, 22.982282364935582, 25.31109573838292, 23.610767410468558, 23.613691689200458, 4.081729971544777, 5.021692253247067, 5.73815444404249, 3.2982809452839272, 3.971662693978273, 5.581128525267298, 4.093813864372982, 2.4010059171087166, 2.469098829217396, 6.341565348630911, 2.3442615669864386, 2.3452109842762003, 3.0636030334837896, 14.084918592292127, 2.2108131009387035, 2.4765548903293655, 3.330511847047081, 4.098912334231233, 2.3748455652933083, 10.227460126953845, 2.6276083912799257, 3.3296579215542503, 2.61844161882893, 2.384328956859012, 2.4831552657310496, 3.274165086042439, 2.4727490801645904, 4.031710312181939, 1.7031866294329912, 1.6801501135321575, 2.649549281828646, 5.9094658476276605, 10.18090677581416, 18.581915105318505, 5.755748697613403, 17.660619049617193, 27.242450776488827, 33.334526423490594, 5.621402300636464, 41.1165780478988, 34.50380367446216, 37.50935385617311, 5.763412244357875, 31.747098954791856, 10.521324030513453, 42.17708794189434, 33.66212401446551, 43.59602387537073, 30.11462048055123, 38.552324943447566, 17.471663226263644, 16.356590111599683, 27.59803230456248, 22.27557301495187, 24.92857100282912, 23.749596713898253, 34.777753357845235, 21.223392469953133, 21.50900887462759, 29.549164704889446, 26.921154764002612, 21.313197004287026, 25.045660667932133, 24.3537596713943, 24.99993901953991, 20.89731394664183, 21.05856746768944, 20.090518276167302, 22.228751230650307, 20.39475426108018, 19.086747231614492, 4.30226902063017, 3.517391282632284, 3.397554604374585, 3.2428480628278424, 2.593028790534038, 2.167891047316607, 2.94578845152366, 2.1914340550072606, 2.1972779673347325, 2.8553222855996974, 2.3899140266701635, 2.504976826048456, 9.871762574273042, 2.575205754047243, 1.7416844065677226, 1.713110550417542, 1.7014623566310452, 1.7405895091671608, 1.7390904778788063, 1.7155785185755348, 1.746355674313221, 2.8796109594393444, 1.681685543572411, 2.5580016659007763, 1.6049948908224345, 4.038146699819942, 1.6065738149124669, 2.386579480350527, 2.1332556877013675, 1.7334189724503741, 7.683581784441214, 7.811204287580281, 3.592933018836172, 6.556440002518367, 5.13362316542784, 3.214710146230577, 2.643171178878113, 19.9717444268026, 13.635183550352956, 2.3817182621049886, 6.244984793783257, 13.804764288862952, 8.409304771699116, 18.53177171491512, 14.681068925812244, 14.378033635853653, 10.151080935086458, 16.35062502559374, 11.722276753345657, 10.273941675789976, 4.6889390740109596, 8.08607288438745, 14.979913945603844, 23.77243659388834, 10.32927444577102, 17.5884863666242, 10.70294759370855, 19.15807473666512, 10.74366995180613, 15.441637291045563, 17.326155260097405, 13.488752287534195, 15.727001757343304, 9.017897591345733, 15.055038926624256, 12.794018619994423, 14.238606687287524, 11.279661039865422, 12.884787949440708, 11.418984998658772, 12.011059066514548, 10.234624825179734, 10.421929901644278, 11.938827212340083, 2.240744438358591, 2.259014804735639, 2.2380730980022725, 1.830542107968957, 2.00792678905994, 2.2683669475034236, 1.554253174836527, 1.5135504750122948, 1.5082086114732143, 1.5021226092642124, 1.4568886820689841, 2.2410968444548476, 1.6586012328182327, 1.8924844764346078, 1.580867598252677, 1.5212604053715242, 2.2732844936732723, 1.523269835147048, 1.8069251793048782, 1.5235242825632147, 1.532359256616406, 1.5384933699185488, 1.5297936380889643, 1.514207788991834, 1.5179672980853758, 1.478465026215696, 1.4668616724463475, 2.249955618687873, 1.4011990192178685, 4.317976533921967, 2.024678029795386, 2.1558186550285665, 2.1941647284624413, 3.6152134041020596, 2.2362505966778063, 4.291538109260556, 5.051466206641211, 19.66881836520891, 15.556343411524464, 5.030281390774775, 5.89878366133146, 11.358416619032973, 7.370980659928436, 3.9023081296126585, 6.645110313450339, 3.541923967923729, 16.095829953120216, 11.809252904521395, 10.628524552896382, 14.011012648311677, 8.992898563206957, 11.346009472924075, 11.21658552503979, 6.566374415517692, 12.59156828865693, 15.542835532634912, 14.993451384922388, 12.370492606192155, 10.062756892548851, 14.71763242873166, 5.737993323653068, 10.615290427148269, 11.997586076922858, 9.382621707096224, 9.014494825959108, 7.481536070392289, 6.84760592076014, 8.884635324569189, 8.39038996258398, 8.875299933859313, 8.503688624677126, 8.004500179848426, 7.767217494236857, 7.312967874802781, 7.5199652912355415, 7.4980062034242865, 1.8206115606391542, 1.2436345845676675, 1.8423228121393413, 1.2466636865685137, 1.2449947357876823, 1.2057162825860555, 0.6422083080982453, 0.6429461576652437, 0.6418375918742192, 0.641222903843442, 0.6457278169433178, 0.641163450410957, 0.6414646363495345, 0.6399579788839329, 0.6432424731248888, 0.6418544985941913, 1.2469282599413236, 0.6414941391357112, 0.641238578948052, 0.6424055345037487, 0.6347107935982579, 0.6398822905216733, 1.2358505515484164, 1.2283762138102452, 2.4447217848323293, 0.6448726840043268, 0.6466083099622671, 0.6437418371717496, 0.6424718737857588, 0.6407842248444283, 3.061496619893198, 2.4437347011020325, 1.2495002087127227, 1.8364651375116239, 1.2426504119282265, 1.8586287277448421, 1.853878611222853, 1.1428662788621353, 3.053064533263357, 1.2457123196837205, 1.8450519598169721, 1.2056721683630816, 1.2515284552842214, 1.2481485668352106, 2.4658312242805263, 3.129453796629116, 7.31102374970114, 4.946367040265611, 3.7869395655228977, 1.2523487111154552, 3.7525967549028225, 4.18822089995804, 3.1319591262059228, 5.225125039167159, 4.553011486581407, 3.482004813712878, 3.925014396270121, 4.11331853222957, 3.2670041831621024, 3.1175875185092936, 2.5185371960211294, 3.1577171298912425, 2.648819036546467, 2.66998221921047, 2.6037244477443395, 3.20278148813448, 2.7179964082112393, 2.8071187829817528, 2.274101182243532, 2.3356759042423976, 2.3482506970905908, 2.3704947901824847], \"Total\": [883.0, 638.0, 675.0, 450.0, 1541.0, 1312.0, 1715.0, 939.0, 558.0, 398.0, 394.0, 597.0, 318.0, 398.0, 1319.0, 412.0, 531.0, 1349.0, 320.0, 302.0, 822.0, 356.0, 283.0, 795.0, 613.0, 364.0, 1434.0, 605.0, 615.0, 230.0, 15.821817800239794, 9.944828120347857, 30.831546462375133, 8.921185392183245, 53.088939550382, 7.904195717454791, 7.924746508016444, 6.919310668111983, 6.926257338305613, 6.908585288121723, 10.908213855892821, 144.6022144592594, 5.926927467632327, 12.925459348478611, 5.927357374515353, 6.914866864501217, 5.912749019811678, 6.919872719600772, 8.935942058580068, 8.656386545806326, 6.927165106183377, 5.921117977231899, 5.9193317938143375, 26.904787176613926, 8.935058652816629, 5.919050064606079, 5.897840351528418, 39.84316136598042, 11.871065767395342, 6.909987755179897, 213.25226017485863, 558.1683020536511, 79.9766077849113, 675.8893719089647, 249.2246500607047, 88.75043798519911, 48.28911621331833, 18.92235769249972, 36.393518801508606, 307.47676786521464, 124.74848118897306, 14.802109801860732, 315.8753389305263, 146.43155368191918, 116.54933260144621, 263.63341846135967, 223.86905809359902, 22.79935572468695, 67.80239705775817, 129.34948435143443, 120.12576405130184, 383.33379236277335, 586.4487145744182, 83.08000217229538, 245.9829379960519, 95.47543722907349, 279.62389388940255, 261.4687924216408, 665.7092764096782, 531.0121029758822, 910.4108643106779, 351.84141819873287, 1312.9098675705682, 1311.934479540164, 572.1126302290743, 416.57537050426896, 669.2953838634518, 922.2692240021538, 385.19166218289286, 1349.733777474706, 1434.4393604089494, 829.5333326736189, 795.0038752053186, 646.2794916035659, 1138.0276056817643, 1715.2542987975478, 745.6027230959903, 543.1521952724008, 566.6620350356235, 771.3258802821865, 936.5316506435072, 1053.97730350874, 1541.2334907714046, 155.37713358384124, 450.8596930979042, 63.303195138740286, 230.07997729056245, 320.70417971282455, 45.916829463177336, 32.63992226374219, 53.07935825657926, 37.740066632078474, 92.90239352696193, 82.57029186694437, 23.411348629394443, 17.287075258182927, 20.353899441311036, 27.505651260085575, 18.29816388540636, 19.327802805157134, 51.93109335610775, 15.239689613151763, 394.89665302467944, 13.191953193699662, 16.253592703437928, 14.211156048421731, 12.168476735337766, 398.37200138612053, 11.146076125184827, 14.206548300585402, 18.285238298192183, 12.152530515400398, 883.7936809119134, 71.12415315185933, 164.21828270995482, 243.79676244195582, 128.53894043247604, 32.55846024198427, 50.93210968817864, 33.58756345001641, 531.0121029758822, 379.98650829944194, 282.9837577302433, 61.005411589649135, 38.65426573781174, 795.0038752053186, 1541.2334907714046, 103.97853822049248, 595.7596426533572, 939.1009703967361, 562.0738861467357, 1312.9098675705682, 829.5333326736189, 518.7356258313972, 1434.4393604089494, 617.9180532934774, 1349.733777474706, 1715.2542987975478, 923.4571340735853, 667.4424902942186, 1311.934479540164, 822.8587910076433, 1319.6918394756387, 922.2692240021538, 1138.0276056817643, 1053.97730350874, 177.1413197184154, 318.85156343505116, 69.83338096340327, 302.1827321736497, 39.31159709759008, 128.50595518382582, 14.689157670100954, 111.83628065883963, 96.42901505412834, 87.63962766374752, 73.13529869768205, 10.754889337919495, 72.83865096964765, 11.739814169157965, 9.772670068295731, 25.550108493044473, 49.21439663430223, 31.463811888595654, 638.0914522880261, 55.053551773826655, 41.36275852617894, 57.15169031267039, 7.765713339088091, 76.39333225407606, 36.290153702449786, 5.832773260329402, 5.830491969048253, 7.798706045397771, 9.780236819857276, 9.76559263145445, 412.1406789797106, 169.9528127541787, 24.631072411998204, 39.463776878912284, 193.40068811354206, 100.48611147088852, 586.4487145744182, 617.4220119076781, 65.63058127264196, 186.02629359315037, 939.1009703967361, 237.92284382208138, 1541.2334907714046, 665.7092764096782, 922.2692240021538, 385.19166218289286, 595.7596426533572, 1434.4393604089494, 880.3743448071632, 675.8893719089647, 1349.733777474706, 923.4571340735853, 1311.934479540164, 1312.9098675705682, 597.0454092691358, 667.4424902942186, 1053.97730350874, 829.5333326736189, 617.9180532934774, 1715.2542987975478, 822.8587910076433, 678.4929397534602, 11.102073519701488, 12.097168272085357, 7.02746254409035, 7.004511362692387, 7.002344167300229, 7.000618030293498, 6.004293301974532, 5.993236717949497, 5.992525390662104, 5.989605722340548, 5.959398832165825, 6.985574746762907, 9.984740219038127, 11.094382378218825, 8.953844908433345, 9.9336364608605, 6.988317930342664, 6.938113669477548, 24.538375597433284, 8.004612951219492, 5.934651402883329, 8.947574527817297, 16.894133794763416, 8.969396609053538, 5.95255680093318, 7.975738668258867, 6.744382091552842, 7.980456785380132, 6.58911620887975, 8.975899070102843, 13.774185888496408, 13.734834093017444, 28.956842670174467, 24.968836521297053, 21.960240951494956, 16.94082480518949, 14.935529917577638, 44.015239053118336, 63.92675593610282, 45.57567666369779, 75.89332351017441, 35.27863844544435, 27.59420521235315, 224.8730704191574, 43.003540618294075, 159.52798469218772, 356.2692421527396, 49.182985615531145, 107.05526274214768, 75.07374711862649, 41.28386139880587, 231.36924487277807, 99.07516785671746, 528.0643980173863, 78.34885603873609, 179.43631090779084, 398.5553018393205, 613.7553001724435, 83.7756777236678, 635.3162027736921, 495.3571100219095, 103.90842008209711, 303.96581665529396, 192.04065617481308, 181.1780233628021, 1319.6918394756387, 697.2513565004797, 157.83899191361414, 218.86097308741242, 351.0172261568673, 771.3258802821865, 296.2808665696882, 936.5316506435072, 492.5056704535126, 880.3743448071632, 1715.2542987975478, 622.4584819408963, 513.9312030903951, 1138.0276056817643, 1053.97730350874, 1311.934479540164, 320.67014748820105, 669.2953838634518, 639.1023462481924, 684.2765878307603, 745.6027230959903, 822.8587910076433, 463.4589448111585, 605.9275124442993, 535.8475872766367, 579.2025118497218, 1541.2334907714046, 1349.733777474706, 77.63598844790015, 8.634326144392691, 20.275124095937645, 15.329055112775677, 72.44453732198518, 127.8862236677009, 215.070535682774, 6.347390079127822, 15.199439540083437, 170.92205792539224, 6.569753500287044, 7.681517325487903, 6.742483800657018, 79.92510117975908, 232.36761016454523, 5.6183774067034005, 5.738642477067709, 5.749207383090642, 5.683406635106457, 58.74749101391041, 5.677666603578045, 5.758591095363024, 5.79371487550863, 12.25664043067987, 6.543921081489596, 23.717753623884057, 12.278207155347793, 9.684580100600853, 9.261420082800806, 22.559193814918153, 42.67433687748921, 126.30756269647124, 84.42531585203945, 29.047905913050982, 109.15721603891299, 19.46588152780534, 223.15225650393074, 21.1900275959797, 13.160098923185314, 293.924098585747, 65.61726781801585, 364.9886450705443, 1715.2542987975478, 1319.6918394756387, 56.01899690981879, 59.160193415063624, 1434.4393604089494, 1541.2334907714046, 495.3571100219095, 1312.9098675705682, 615.4303980264829, 1349.733777474706, 605.9275124442993, 635.3162027736921, 1138.0276056817643, 639.1023462481924, 880.3743448071632, 537.2731744241471, 936.5316506435072, 613.7553001724435, 923.4571340735853, 822.8587910076433, 1053.97730350874, 697.2513565004797, 478.31216364451865, 11.50870972733823, 5.784592298653889, 7.660883153433722, 7.783588349629599, 7.846819526167288, 21.049613425314224, 63.06138916007064, 17.543676968129535, 10.753413697041335, 13.628997888114965, 8.193532972457325, 11.724763605417209, 22.87928566469927, 5.8200371272290585, 21.544231963618238, 5.851514378992086, 5.711829490239819, 6.791461057581193, 5.824410901403385, 6.865120232311508, 5.871214647647369, 11.642686782994561, 8.888713397604558, 5.762571097106094, 7.846549541193547, 5.865816438307042, 7.666575847443254, 31.652842101974578, 7.532326756999988, 5.888182887424536, 19.57618507980646, 17.647259555502163, 60.691220794502826, 32.71539123904298, 22.850422569232997, 54.82660898476919, 146.77138103263408, 23.840039945410624, 133.41844038387066, 55.95391698518304, 597.0454092691358, 356.2692421527396, 46.01761497499171, 147.03713112871472, 100.39049863898455, 939.1009703967361, 98.57411285926985, 114.94648680946736, 221.64880325103655, 75.07374711862649, 599.3360556428001, 1434.4393604089494, 936.5316506435072, 1349.733777474706, 1319.6918394756387, 923.4571340735853, 646.2794916035659, 1138.0276056817643, 910.4108643106779, 822.8587910076433, 282.695648412519, 613.7553001724435, 245.11290125745597, 697.2513565004797, 605.9275124442993, 1715.2542987975478, 880.3743448071632, 1311.934479540164, 579.2025118497218, 635.3162027736921, 1053.97730350874, 1312.9098675705682, 1541.2334907714046, 566.6620350356235, 535.8475872766367, 745.6027230959903, 495.3571100219095, 15.139988237635372, 5.636065239573797, 5.641439117404594, 6.610384056991518, 8.150846889518421, 14.23259025063272, 7.437187312256924, 6.616296076168912, 6.461213281403799, 9.353386082093907, 7.6097259390697225, 9.38266779524675, 7.354550364251821, 8.420432282196604, 6.692198716737585, 97.49480651087337, 12.13917577297605, 6.582263843731491, 8.492832160894604, 5.522902331649509, 8.397469172790162, 8.360424889113947, 8.518965677084685, 5.665214266875966, 6.688358521397767, 5.652909625907513, 6.543006500109673, 10.151812181735693, 5.712469714080121, 24.17068845013434, 11.565502761494558, 17.234693230547936, 11.45230080134588, 146.77138103263408, 18.709222096950132, 68.01926306761801, 17.06103420950335, 40.88717629942187, 114.94648680946736, 19.25803458761478, 1319.6918394756387, 157.08403700849234, 125.69925049012718, 147.03713112871472, 73.95449005634738, 169.42529830698408, 109.36980599733941, 303.96581665529396, 1715.2542987975478, 388.0299072051417, 168.70587540504008, 50.46401792481856, 126.30756269647124, 224.75222612358579, 745.6027230959903, 880.3743448071632, 250.81292586149266, 923.4571340735853, 478.31216364451865, 190.5035336132725, 1138.0276056817643, 492.3070059264296, 371.61123555241, 1311.934479540164, 613.7553001724435, 771.3258802821865, 528.0643980173863, 1053.97730350874, 936.5316506435072, 508.5536152140459, 1349.733777474706, 822.8587910076433, 495.3571100219095, 684.2765878307603, 910.4108643106779, 697.2513565004797, 541.8180888521458, 579.2025118497218, 1434.4393604089494, 922.2692240021538, 15.434239116285145, 74.62094801042366, 40.71295700163985, 8.604301905214731, 8.622711104313677, 54.182451865204165, 6.47110079505071, 6.728781038668649, 5.752238850965041, 5.763747181228239, 13.454341886205977, 7.63200060719692, 5.7964486509168, 7.682287485546159, 5.797540960652243, 11.587810953824627, 5.709523721653459, 6.7036455081820545, 16.379795088672772, 28.418019391714694, 5.804121159604912, 5.797432401676315, 6.594541999776357, 7.745782414230454, 9.651004853718113, 6.590864204763989, 7.565086033389605, 58.92017313979476, 6.7055366085028485, 8.52834498063712, 194.7885806671263, 8.756718358413572, 13.534070609483065, 30.168891043141347, 10.137979960056304, 60.691220794502826, 146.99857873541697, 114.5243995436783, 23.150659194147902, 114.94648680946736, 41.026576649775045, 224.75222612358579, 41.378920951681216, 283.8636988308964, 615.4303980264829, 45.93873479384687, 356.2692421527396, 221.64880325103655, 125.69925049012718, 605.9275124442993, 579.2025118497218, 90.09198596822824, 338.6500062693355, 245.11290125745597, 393.3013927588517, 599.3360556428001, 669.2953838634518, 406.3782196688879, 939.1009703967361, 646.2794916035659, 495.3571100219095, 388.0299072051417, 635.3162027736921, 394.44711849707915, 1715.2542987975478, 1311.934479540164, 1053.97730350874, 1319.6918394756387, 1138.0276056817643, 1434.4393604089494, 936.5316506435072, 537.2731744241471, 697.2513565004797, 573.4233610574844, 771.3258802821865, 15.352429823468725, 7.111661604512845, 113.14803748903036, 18.348195460574455, 21.289805973542904, 39.45483610720087, 6.05628925866254, 81.64907810535927, 6.682338658720134, 32.6575234256989, 9.94035525172234, 12.957055303014657, 24.227262734321453, 6.852515250916812, 28.916082213467757, 15.198274755368443, 6.99509976711091, 5.642088104840143, 6.935715937105317, 8.049464736406792, 7.09132714293189, 39.51771217996299, 15.671965920242352, 11.884226195575776, 52.82908363113502, 35.28052374770136, 31.65835314486244, 13.87442969768983, 25.80691828562188, 8.026671916741918, 28.432206090833468, 183.3796750506632, 64.27853769330208, 72.25707982891089, 119.45599917593918, 111.60965339423988, 43.017266379586246, 283.8636988308964, 60.83129942466551, 36.43919167116637, 38.97664190667872, 65.369424259775, 107.1927267836826, 84.71878953090759, 63.91701801230285, 104.62792102727754, 114.5243995436783, 120.15965448280944, 155.50724895434215, 398.5553018393205, 102.81361887576354, 1715.2542987975478, 1138.0276056817643, 605.9275124442993, 1319.6918394756387, 1053.97730350874, 635.3162027736921, 388.0299072051417, 697.2513565004797, 1311.934479540164, 910.4108643106779, 1349.733777474706, 1434.4393604089494, 492.3070059264296, 5.392715121815428, 5.420367976394275, 6.273418126100176, 6.3268826549936215, 6.353908881599478, 6.3912573462347115, 7.2454174958643485, 6.1492060990688415, 12.951195948434089, 8.702920253993671, 5.1492584447199725, 5.082412239726798, 6.485324640751794, 9.166436683475911, 5.424807718599341, 10.484131577981161, 5.3421938292264155, 10.8203906610175, 5.554052233100091, 7.192032086653231, 5.434629066422183, 8.11462818760494, 23.85484224107626, 5.5241858640592145, 5.483488480152713, 6.590229294554322, 9.987219198233673, 13.095964030440841, 6.433537086410997, 6.543226671253712, 9.12855368848813, 8.218657535561832, 14.716724042115787, 8.029784755495854, 11.174213099882538, 15.71297512166569, 22.932538479767913, 22.573799299955642, 21.985424174483022, 221.64880325103655, 74.76361100452776, 71.56604496457284, 215.070535682774, 79.92510117975908, 49.73202380445232, 51.36418208438286, 31.329240804755493, 95.00465489585673, 398.5553018393205, 48.420368770992745, 102.29754739116528, 1715.2542987975478, 1319.6918394756387, 936.5316506435072, 336.15515931788076, 1053.97730350874, 1138.0276056817643, 159.52798469218772, 528.0643980173863, 646.2794916035659, 411.0395150538414, 113.02785575812912, 232.36761016454523, 605.9275124442993, 428.42474376105775, 822.8587910076433, 586.352572381175, 635.3162027736921, 1349.733777474706, 484.10919472892505, 684.2765878307603, 829.5333326736189, 351.0172261568673, 1311.934479540164, 613.7553001724435, 478.31216364451865, 459.8931988215595, 579.2025118497218, 1434.4393604089494, 406.3782196688879, 639.1023462481924, 678.4929397534602, 1312.9098675705682, 15.670665162710614, 11.629993990349881, 10.18747247657471, 5.3467250865891005, 8.055255586316406, 6.562136121461635, 10.397592069341604, 10.324925917909487, 6.540700007899699, 5.270642031293137, 8.362075169114304, 5.642832179159101, 11.103567042822476, 5.490932465642296, 16.63545391123311, 7.54376900953156, 12.568238130508634, 7.5200654027504585, 7.5443545522756645, 7.505060054966577, 6.192028176978071, 6.357972873906996, 6.266586954264413, 8.430565366922952, 6.390552257476529, 5.612022233200265, 5.235411115704341, 13.545701362432402, 8.438394979406024, 11.161518194485378, 34.28629378892148, 223.15225650393074, 27.47661714881807, 398.5553018393205, 46.905000519346316, 17.602404180998402, 159.52798469218772, 12.1908959452433, 23.717753623884057, 84.71878953090759, 38.97664190667872, 615.4303980264829, 46.37138179710193, 18.84327285282265, 224.75222612358579, 613.7553001724435, 218.86097308741242, 60.83129942466551, 1715.2542987975478, 283.8636988308964, 528.0643980173863, 1434.4393604089494, 1349.733777474706, 1319.6918394756387, 684.2765878307603, 771.3258802821865, 1053.97730350874, 688.8903775851155, 364.9886450705443, 215.3255649450396, 400.1599723367031, 1312.9098675705682, 1311.934479540164, 1138.0276056817643, 613.8550759214919, 697.2513565004797, 428.42474376105775, 605.9275124442993, 639.1023462481924, 646.2794916035659, 492.3070059264296, 910.4108643106779, 586.352572381175, 635.3162027736921, 5.003675909387284, 6.677551661288634, 8.631384373466965, 5.222910176555094, 6.774533967654816, 9.566140127164813, 8.005476631110525, 4.859600250667583, 5.283416048689525, 13.573719856739634, 5.119541736352325, 5.312188396811082, 7.255087552091784, 33.752797621636255, 5.326208346928789, 6.272244011955828, 8.465919494495937, 10.666856876415732, 6.238462242174163, 27.1227483619896, 7.22581819157421, 9.201144103214723, 7.347271020060943, 6.816138185560538, 7.274454610321857, 9.659071055289342, 7.305537671282589, 12.110220608234194, 5.1492584447199725, 5.22247789724227, 8.282933544691852, 19.51438110803661, 36.47997885116038, 83.7756777236678, 22.96110466382646, 118.22832053929623, 223.86905809359902, 364.9886450705443, 24.23505028685304, 675.8893719089647, 558.1683020536511, 745.6027230959903, 26.587947538564226, 617.9180532934774, 83.08000217229538, 1311.934479540164, 880.3743448071632, 1541.2334907714046, 795.0038752053186, 1434.4393604089494, 284.82483841693534, 249.2246500607047, 822.8587910076433, 516.5075123865656, 684.2765878307603, 615.4303980264829, 1715.2542987975478, 489.875246434891, 537.2731744241471, 1349.733777474706, 1053.97730350874, 541.8180888521458, 922.2692240021538, 923.4571340735853, 1138.0276056817643, 613.8550759214919, 678.4929397534602, 646.2794916035659, 1312.9098675705682, 1319.6918394756387, 622.4584819408963, 6.901992111476933, 6.117273332189, 7.113795545199036, 7.222927577675734, 6.275916272326521, 5.412680655347533, 8.394838812270093, 6.28680620516882, 6.319584898513673, 8.26798907238205, 6.99979563326414, 7.3604947295275664, 29.66964469238889, 7.947300903973545, 5.431333124823066, 5.443179837510092, 5.439993762349757, 5.615923912924854, 5.612079219416735, 5.567916809229356, 5.711970329964063, 9.448353690136198, 5.548384568461973, 8.529945648777971, 5.358258471450725, 13.713064492825827, 5.514345064998242, 8.330887568871605, 7.5221008204580775, 6.192028176978071, 27.91486134340427, 29.05266109164344, 13.30290813773912, 27.680634378449813, 23.13952408065712, 13.216468716737712, 10.241497511245372, 231.36924487277807, 133.41844038387066, 9.175996538110153, 42.75566985473955, 186.6013042734024, 83.7756777236678, 356.2692421527396, 232.36761016454523, 224.8730704191574, 130.2251671942191, 388.0299072051417, 245.82516346616774, 190.5035336132725, 31.360844123673136, 112.03276447675078, 495.3571100219095, 1715.2542987975478, 223.15225650393074, 936.5316506435072, 266.56735316124207, 1319.6918394756387, 285.6521463458711, 880.3743448071632, 1349.733777474706, 665.7092764096782, 1312.9098675705682, 179.43631090779084, 1311.934479540164, 771.3258802821865, 1541.2334907714046, 543.1521952724008, 1138.0276056817643, 617.4220119076781, 1053.97730350874, 613.7553001724435, 1434.4393604089494, 19.92358436598048, 5.994416522857148, 6.053020942690473, 6.102873009306482, 5.257226752455645, 6.104912077765165, 7.006272817681936, 4.949383645080649, 5.255112572185168, 5.265865969998867, 5.279658455221993, 5.167566060061527, 8.006672917239099, 6.1252260821505295, 7.008509271126999, 6.114413749065236, 5.925901696355558, 8.998582010874681, 6.081319843183914, 7.268153447074667, 6.207660963216578, 6.2831466089870736, 6.34331820673329, 6.345787453419417, 6.323513395403515, 6.432925357046696, 6.286890180417065, 6.281363313488476, 9.742966250286075, 6.154228615974378, 19.173277517961104, 9.002758075284937, 9.720405715054829, 9.96603927519538, 19.22685889563879, 11.334295418788484, 38.201153376776034, 52.71223091589979, 605.9275124442993, 398.5553018393205, 56.0871343750545, 83.66519830607184, 388.0299072051417, 159.52798469218772, 40.51737664840413, 132.71595326104503, 34.28629378892148, 1138.0276056817643, 566.6620350356235, 459.8931988215595, 923.4571340735853, 314.8019925944099, 573.4233610574844, 562.0738861467357, 150.23438676741478, 771.3258802821865, 1349.733777474706, 1319.6918394756387, 822.8587910076433, 528.0643980173863, 1715.2542987975478, 118.20784830995096, 880.3743448071632, 1312.9098675705682, 639.1023462481924, 613.7553001724435, 320.67014748820105, 251.8149707809538, 922.2692240021538, 697.2513565004797, 939.1009703967361, 795.0038752053186, 684.2765878307603, 599.3360556428001, 371.61123555241, 513.9312030903951, 688.8903775851155, 8.198223248442847, 6.824621091338578, 11.56110275340646, 7.876043638599231, 8.867973084137972, 8.841397530780306, 4.859600250667583, 5.144907179572765, 5.18255178566651, 5.284261912590065, 5.342221682949733, 5.382729295376933, 5.394561077382182, 5.393043034959283, 5.422545666425944, 5.490105783412105, 10.672881249011999, 5.521306915517533, 5.53839105602225, 5.570304196403676, 5.53740022677473, 5.642088104840143, 10.963329165727815, 10.965676551286785, 21.960240951494956, 5.925901696355558, 6.169285506840634, 6.201807366482058, 6.243515491848288, 6.266586954264413, 33.2349658004038, 28.956842670174467, 14.18845777082673, 28.262050420120783, 16.775893840306868, 32.018021962338175, 32.98496843256887, 14.729137755858565, 83.7756777236678, 19.786303994380965, 43.46139436436492, 20.568863321560407, 22.33399297128546, 22.52428348631462, 107.2035408190036, 183.3796750506632, 1312.9098675705682, 597.0454092691358, 338.6500062693355, 29.025321918705398, 586.352572381175, 822.8587910076433, 358.54440478068324, 1715.2542987975478, 1541.2334907714046, 613.7553001724435, 939.1009703967361, 1349.733777474706, 646.2794916035659, 537.2731744241471, 221.64880325103655, 622.4584819408963, 326.98296095890936, 364.9886450705443, 356.2692421527396, 1434.4393604089494, 566.6620350356235, 829.5333326736189, 168.70587540504008, 635.3162027736921, 1053.97730350874, 1319.6918394756387], \"Category\": [\"Default\", \"Default\", \"Default\", \"Default\", \"Default\", \"Default\", \"Default\", \"Default\", \"Default\", \"Default\", \"Default\", \"Default\", \"Default\", \"Default\", \"Default\", \"Default\", \"Default\", \"Default\", \"Default\", \"Default\", \"Default\", \"Default\", \"Default\", \"Default\", \"Default\", \"Default\", \"Default\", \"Default\", \"Default\", \"Default\", \"Topic1\", \"Topic1\", \"Topic1\", \"Topic1\", \"Topic1\", \"Topic1\", \"Topic1\", \"Topic1\", \"Topic1\", \"Topic1\", \"Topic1\", \"Topic1\", \"Topic1\", \"Topic1\", \"Topic1\", \"Topic1\", \"Topic1\", \"Topic1\", \"Topic1\", \"Topic1\", \"Topic1\", \"Topic1\", \"Topic1\", \"Topic1\", \"Topic1\", \"Topic1\", \"Topic1\", \"Topic1\", \"Topic1\", \"Topic1\", \"Topic1\", \"Topic1\", \"Topic1\", \"Topic1\", \"Topic1\", \"Topic1\", \"Topic1\", \"Topic1\", \"Topic1\", \"Topic1\", \"Topic1\", \"Topic1\", \"Topic1\", \"Topic1\", \"Topic1\", \"Topic1\", \"Topic1\", \"Topic1\", \"Topic1\", \"Topic1\", \"Topic1\", \"Topic1\", \"Topic1\", \"Topic1\", \"Topic1\", \"Topic1\", \"Topic1\", \"Topic1\", \"Topic1\", \"Topic1\", \"Topic1\", \"Topic1\", \"Topic1\", \"Topic1\", \"Topic1\", \"Topic1\", \"Topic1\", \"Topic1\", \"Topic1\", \"Topic1\", \"Topic1\", \"Topic1\", \"Topic1\", \"Topic1\", \"Topic1\", \"Topic1\", \"Topic1\", \"Topic1\", \"Topic1\", \"Topic1\", \"Topic1\", \"Topic1\", \"Topic1\", \"Topic2\", \"Topic2\", \"Topic2\", \"Topic2\", \"Topic2\", \"Topic2\", \"Topic2\", \"Topic2\", \"Topic2\", \"Topic2\", \"Topic2\", \"Topic2\", \"Topic2\", \"Topic2\", \"Topic2\", \"Topic2\", \"Topic2\", \"Topic2\", \"Topic2\", \"Topic2\", \"Topic2\", \"Topic2\", \"Topic2\", \"Topic2\", \"Topic2\", \"Topic2\", \"Topic2\", \"Topic2\", \"Topic2\", \"Topic2\", \"Topic2\", \"Topic2\", \"Topic2\", \"Topic2\", \"Topic2\", \"Topic2\", \"Topic2\", \"Topic2\", \"Topic2\", \"Topic2\", \"Topic2\", \"Topic2\", \"Topic2\", \"Topic2\", \"Topic2\", \"Topic2\", \"Topic2\", \"Topic2\", \"Topic2\", \"Topic2\", \"Topic2\", \"Topic2\", \"Topic2\", \"Topic2\", \"Topic2\", \"Topic2\", \"Topic2\", \"Topic2\", \"Topic2\", \"Topic2\", \"Topic2\", \"Topic2\", \"Topic2\", \"Topic3\", \"Topic3\", \"Topic3\", \"Topic3\", \"Topic3\", \"Topic3\", \"Topic3\", \"Topic3\", \"Topic3\", \"Topic3\", \"Topic3\", \"Topic3\", \"Topic3\", \"Topic3\", \"Topic3\", \"Topic3\", \"Topic3\", \"Topic3\", \"Topic3\", \"Topic3\", \"Topic3\", \"Topic3\", \"Topic3\", \"Topic3\", \"Topic3\", \"Topic3\", \"Topic3\", \"Topic3\", \"Topic3\", \"Topic3\", \"Topic3\", \"Topic3\", \"Topic3\", \"Topic3\", \"Topic3\", \"Topic3\", \"Topic3\", \"Topic3\", \"Topic3\", \"Topic3\", \"Topic3\", \"Topic3\", \"Topic3\", \"Topic3\", \"Topic3\", \"Topic3\", \"Topic3\", \"Topic3\", \"Topic3\", \"Topic3\", \"Topic3\", \"Topic3\", \"Topic3\", \"Topic3\", \"Topic3\", \"Topic3\", \"Topic3\", \"Topic3\", \"Topic3\", \"Topic3\", \"Topic3\", \"Topic3\", \"Topic4\", \"Topic4\", \"Topic4\", \"Topic4\", \"Topic4\", \"Topic4\", \"Topic4\", \"Topic4\", \"Topic4\", \"Topic4\", \"Topic4\", \"Topic4\", \"Topic4\", \"Topic4\", \"Topic4\", \"Topic4\", \"Topic4\", \"Topic4\", \"Topic4\", \"Topic4\", \"Topic4\", \"Topic4\", \"Topic4\", \"Topic4\", \"Topic4\", \"Topic4\", \"Topic4\", \"Topic4\", \"Topic4\", \"Topic4\", \"Topic4\", \"Topic4\", \"Topic4\", \"Topic4\", \"Topic4\", \"Topic4\", \"Topic4\", \"Topic4\", \"Topic4\", \"Topic4\", \"Topic4\", \"Topic4\", \"Topic4\", \"Topic4\", \"Topic4\", \"Topic4\", \"Topic4\", \"Topic4\", \"Topic4\", \"Topic4\", \"Topic4\", \"Topic4\", \"Topic4\", \"Topic4\", \"Topic4\", \"Topic4\", \"Topic4\", \"Topic4\", \"Topic4\", \"Topic4\", \"Topic4\", \"Topic4\", \"Topic4\", \"Topic4\", \"Topic4\", \"Topic4\", \"Topic4\", \"Topic4\", \"Topic4\", \"Topic4\", \"Topic4\", \"Topic4\", \"Topic4\", \"Topic4\", \"Topic4\", \"Topic4\", \"Topic4\", \"Topic4\", \"Topic4\", \"Topic4\", \"Topic4\", \"Topic4\", \"Topic4\", \"Topic4\", \"Topic4\", \"Topic4\", \"Topic4\", \"Topic4\", \"Topic4\", \"Topic4\", \"Topic4\", \"Topic4\", \"Topic4\", \"Topic5\", \"Topic5\", \"Topic5\", \"Topic5\", \"Topic5\", \"Topic5\", \"Topic5\", \"Topic5\", \"Topic5\", \"Topic5\", \"Topic5\", \"Topic5\", \"Topic5\", \"Topic5\", \"Topic5\", \"Topic5\", \"Topic5\", \"Topic5\", \"Topic5\", \"Topic5\", \"Topic5\", \"Topic5\", \"Topic5\", \"Topic5\", \"Topic5\", \"Topic5\", \"Topic5\", \"Topic5\", \"Topic5\", \"Topic5\", \"Topic5\", \"Topic5\", \"Topic5\", \"Topic5\", \"Topic5\", \"Topic5\", \"Topic5\", \"Topic5\", \"Topic5\", \"Topic5\", \"Topic5\", \"Topic5\", \"Topic5\", \"Topic5\", \"Topic5\", \"Topic5\", \"Topic5\", \"Topic5\", \"Topic5\", \"Topic5\", \"Topic5\", \"Topic5\", \"Topic5\", \"Topic5\", \"Topic5\", \"Topic5\", \"Topic5\", \"Topic5\", \"Topic5\", \"Topic5\", \"Topic5\", \"Topic5\", \"Topic5\", \"Topic5\", \"Topic5\", \"Topic6\", \"Topic6\", \"Topic6\", \"Topic6\", \"Topic6\", \"Topic6\", \"Topic6\", \"Topic6\", \"Topic6\", \"Topic6\", \"Topic6\", \"Topic6\", \"Topic6\", \"Topic6\", \"Topic6\", \"Topic6\", \"Topic6\", \"Topic6\", \"Topic6\", \"Topic6\", \"Topic6\", \"Topic6\", \"Topic6\", \"Topic6\", \"Topic6\", \"Topic6\", \"Topic6\", \"Topic6\", \"Topic6\", \"Topic6\", \"Topic6\", \"Topic6\", \"Topic6\", \"Topic6\", \"Topic6\", \"Topic6\", \"Topic6\", \"Topic6\", \"Topic6\", \"Topic6\", \"Topic6\", \"Topic6\", \"Topic6\", \"Topic6\", \"Topic6\", \"Topic6\", \"Topic6\", \"Topic6\", \"Topic6\", \"Topic6\", \"Topic6\", \"Topic6\", \"Topic6\", \"Topic6\", \"Topic6\", \"Topic6\", \"Topic6\", \"Topic6\", \"Topic6\", \"Topic6\", \"Topic6\", \"Topic6\", \"Topic6\", \"Topic6\", \"Topic6\", \"Topic6\", \"Topic6\", \"Topic6\", \"Topic6\", \"Topic6\", \"Topic6\", \"Topic6\", \"Topic6\", \"Topic6\", \"Topic6\", \"Topic6\", \"Topic6\", \"Topic7\", \"Topic7\", \"Topic7\", \"Topic7\", \"Topic7\", \"Topic7\", \"Topic7\", \"Topic7\", \"Topic7\", \"Topic7\", \"Topic7\", \"Topic7\", \"Topic7\", \"Topic7\", \"Topic7\", \"Topic7\", \"Topic7\", \"Topic7\", \"Topic7\", \"Topic7\", \"Topic7\", \"Topic7\", \"Topic7\", \"Topic7\", \"Topic7\", \"Topic7\", \"Topic7\", \"Topic7\", \"Topic7\", \"Topic7\", \"Topic7\", \"Topic7\", \"Topic7\", \"Topic7\", \"Topic7\", \"Topic7\", \"Topic7\", \"Topic7\", \"Topic7\", \"Topic7\", \"Topic7\", \"Topic7\", \"Topic7\", \"Topic7\", \"Topic7\", \"Topic7\", \"Topic7\", \"Topic7\", \"Topic7\", \"Topic7\", \"Topic7\", \"Topic7\", \"Topic7\", \"Topic7\", \"Topic7\", \"Topic7\", \"Topic7\", \"Topic7\", \"Topic7\", \"Topic7\", \"Topic7\", \"Topic7\", \"Topic7\", \"Topic7\", \"Topic7\", \"Topic7\", \"Topic7\", \"Topic7\", \"Topic7\", \"Topic7\", \"Topic7\", \"Topic7\", \"Topic7\", \"Topic7\", \"Topic7\", \"Topic7\", \"Topic7\", \"Topic7\", \"Topic7\", \"Topic7\", \"Topic8\", \"Topic8\", \"Topic8\", \"Topic8\", \"Topic8\", \"Topic8\", \"Topic8\", \"Topic8\", \"Topic8\", \"Topic8\", \"Topic8\", \"Topic8\", \"Topic8\", \"Topic8\", \"Topic8\", \"Topic8\", \"Topic8\", \"Topic8\", \"Topic8\", \"Topic8\", \"Topic8\", \"Topic8\", \"Topic8\", \"Topic8\", \"Topic8\", \"Topic8\", \"Topic8\", \"Topic8\", \"Topic8\", \"Topic8\", \"Topic8\", \"Topic8\", \"Topic8\", \"Topic8\", \"Topic8\", \"Topic8\", \"Topic8\", \"Topic8\", \"Topic8\", \"Topic8\", \"Topic8\", \"Topic8\", \"Topic8\", \"Topic8\", \"Topic8\", \"Topic8\", \"Topic8\", \"Topic8\", \"Topic8\", \"Topic8\", \"Topic8\", \"Topic8\", \"Topic8\", \"Topic8\", \"Topic8\", \"Topic8\", \"Topic8\", \"Topic8\", \"Topic8\", \"Topic8\", \"Topic8\", \"Topic8\", \"Topic8\", \"Topic8\", \"Topic8\", \"Topic8\", \"Topic8\", \"Topic8\", \"Topic8\", \"Topic8\", \"Topic8\", \"Topic8\", \"Topic8\", \"Topic8\", \"Topic8\", \"Topic9\", \"Topic9\", \"Topic9\", \"Topic9\", \"Topic9\", \"Topic9\", \"Topic9\", \"Topic9\", \"Topic9\", \"Topic9\", \"Topic9\", \"Topic9\", \"Topic9\", \"Topic9\", \"Topic9\", \"Topic9\", \"Topic9\", \"Topic9\", \"Topic9\", \"Topic9\", \"Topic9\", \"Topic9\", \"Topic9\", \"Topic9\", \"Topic9\", \"Topic9\", \"Topic9\", \"Topic9\", \"Topic9\", \"Topic9\", \"Topic9\", \"Topic9\", \"Topic9\", \"Topic9\", \"Topic9\", \"Topic9\", \"Topic9\", \"Topic9\", \"Topic9\", \"Topic9\", \"Topic9\", \"Topic9\", \"Topic9\", \"Topic9\", \"Topic9\", \"Topic9\", \"Topic9\", \"Topic9\", \"Topic9\", \"Topic9\", \"Topic9\", \"Topic9\", \"Topic9\", \"Topic9\", \"Topic9\", \"Topic9\", \"Topic9\", \"Topic9\", \"Topic9\", \"Topic9\", \"Topic9\", \"Topic9\", \"Topic9\", \"Topic9\", \"Topic10\", \"Topic10\", \"Topic10\", \"Topic10\", \"Topic10\", \"Topic10\", \"Topic10\", \"Topic10\", \"Topic10\", \"Topic10\", \"Topic10\", \"Topic10\", \"Topic10\", \"Topic10\", \"Topic10\", \"Topic10\", \"Topic10\", \"Topic10\", \"Topic10\", \"Topic10\", \"Topic10\", \"Topic10\", \"Topic10\", \"Topic10\", \"Topic10\", \"Topic10\", \"Topic10\", \"Topic10\", \"Topic10\", \"Topic10\", \"Topic10\", \"Topic10\", \"Topic10\", \"Topic10\", \"Topic10\", \"Topic10\", \"Topic10\", \"Topic10\", \"Topic10\", \"Topic10\", \"Topic10\", \"Topic10\", \"Topic10\", \"Topic10\", \"Topic10\", \"Topic10\", \"Topic10\", \"Topic10\", \"Topic10\", \"Topic10\", \"Topic10\", \"Topic10\", \"Topic10\", \"Topic10\", \"Topic10\", \"Topic10\", \"Topic10\", \"Topic10\", \"Topic10\", \"Topic10\", \"Topic10\", \"Topic10\", \"Topic10\", \"Topic10\", \"Topic10\", \"Topic10\", \"Topic10\", \"Topic10\", \"Topic10\", \"Topic10\", \"Topic10\", \"Topic10\", \"Topic10\", \"Topic10\", \"Topic10\", \"Topic10\", \"Topic10\", \"Topic10\", \"Topic10\", \"Topic10\", \"Topic10\", \"Topic10\", \"Topic10\", \"Topic11\", \"Topic11\", \"Topic11\", \"Topic11\", \"Topic11\", \"Topic11\", \"Topic11\", \"Topic11\", \"Topic11\", \"Topic11\", \"Topic11\", \"Topic11\", \"Topic11\", \"Topic11\", \"Topic11\", \"Topic11\", \"Topic11\", \"Topic11\", \"Topic11\", \"Topic11\", \"Topic11\", \"Topic11\", \"Topic11\", \"Topic11\", \"Topic11\", \"Topic11\", \"Topic11\", \"Topic11\", \"Topic11\", \"Topic11\", \"Topic11\", \"Topic11\", \"Topic11\", \"Topic11\", \"Topic11\", \"Topic11\", \"Topic11\", \"Topic11\", \"Topic11\", \"Topic11\", \"Topic11\", \"Topic11\", \"Topic11\", \"Topic11\", \"Topic11\", \"Topic11\", \"Topic11\", \"Topic11\", \"Topic11\", \"Topic11\", \"Topic11\", \"Topic11\", \"Topic11\", \"Topic11\", \"Topic11\", \"Topic11\", \"Topic11\", \"Topic11\", \"Topic11\", \"Topic11\", \"Topic11\", \"Topic11\", \"Topic11\", \"Topic11\", \"Topic11\", \"Topic11\", \"Topic11\", \"Topic11\", \"Topic11\", \"Topic11\", \"Topic11\", \"Topic11\", \"Topic11\", \"Topic11\", \"Topic12\", \"Topic12\", \"Topic12\", \"Topic12\", \"Topic12\", \"Topic12\", \"Topic12\", \"Topic12\", \"Topic12\", \"Topic12\", \"Topic12\", \"Topic12\", \"Topic12\", \"Topic12\", \"Topic12\", \"Topic12\", \"Topic12\", \"Topic12\", \"Topic12\", \"Topic12\", \"Topic12\", \"Topic12\", \"Topic12\", \"Topic12\", \"Topic12\", \"Topic12\", \"Topic12\", \"Topic12\", \"Topic12\", \"Topic12\", \"Topic12\", \"Topic12\", \"Topic12\", \"Topic12\", \"Topic12\", \"Topic12\", \"Topic12\", \"Topic12\", \"Topic12\", \"Topic12\", \"Topic12\", \"Topic12\", \"Topic12\", \"Topic12\", \"Topic12\", \"Topic12\", \"Topic12\", \"Topic12\", \"Topic12\", \"Topic12\", \"Topic12\", \"Topic12\", \"Topic12\", \"Topic12\", \"Topic12\", \"Topic12\", \"Topic12\", \"Topic12\", \"Topic12\", \"Topic12\", \"Topic12\", \"Topic12\", \"Topic12\", \"Topic12\", \"Topic12\", \"Topic12\", \"Topic12\", \"Topic12\", \"Topic12\", \"Topic12\", \"Topic12\", \"Topic13\", \"Topic13\", \"Topic13\", \"Topic13\", \"Topic13\", \"Topic13\", \"Topic13\", \"Topic13\", \"Topic13\", \"Topic13\", \"Topic13\", \"Topic13\", \"Topic13\", \"Topic13\", \"Topic13\", \"Topic13\", \"Topic13\", \"Topic13\", \"Topic13\", \"Topic13\", \"Topic13\", \"Topic13\", \"Topic13\", \"Topic13\", \"Topic13\", \"Topic13\", \"Topic13\", \"Topic13\", \"Topic13\", \"Topic13\", \"Topic13\", \"Topic13\", \"Topic13\", \"Topic13\", \"Topic13\", \"Topic13\", \"Topic13\", \"Topic13\", \"Topic13\", \"Topic13\", \"Topic13\", \"Topic13\", \"Topic13\", \"Topic13\", \"Topic13\", \"Topic13\", \"Topic13\", \"Topic13\", \"Topic13\", \"Topic13\", \"Topic13\", \"Topic13\", \"Topic13\", \"Topic13\", \"Topic13\", \"Topic13\", \"Topic13\", \"Topic13\", \"Topic13\", \"Topic13\", \"Topic13\", \"Topic13\", \"Topic13\", \"Topic13\", \"Topic13\", \"Topic13\", \"Topic13\", \"Topic13\", \"Topic13\", \"Topic13\", \"Topic13\", \"Topic13\", \"Topic13\", \"Topic14\", \"Topic14\", \"Topic14\", \"Topic14\", \"Topic14\", \"Topic14\", \"Topic14\", \"Topic14\", \"Topic14\", \"Topic14\", \"Topic14\", \"Topic14\", \"Topic14\", \"Topic14\", \"Topic14\", \"Topic14\", \"Topic14\", \"Topic14\", \"Topic14\", \"Topic14\", \"Topic14\", \"Topic14\", \"Topic14\", \"Topic14\", \"Topic14\", \"Topic14\", \"Topic14\", \"Topic14\", \"Topic14\", \"Topic14\", \"Topic14\", \"Topic14\", \"Topic14\", \"Topic14\", \"Topic14\", \"Topic14\", \"Topic14\", \"Topic14\", \"Topic14\", \"Topic14\", \"Topic14\", \"Topic14\", \"Topic14\", \"Topic14\", \"Topic14\", \"Topic14\", \"Topic14\", \"Topic14\", \"Topic14\", \"Topic14\", \"Topic14\", \"Topic14\", \"Topic14\", \"Topic14\", \"Topic14\", \"Topic14\", \"Topic14\", \"Topic14\", \"Topic14\", \"Topic14\", \"Topic14\", \"Topic14\", \"Topic14\", \"Topic14\", \"Topic14\", \"Topic14\", \"Topic14\", \"Topic14\", \"Topic14\", \"Topic14\", \"Topic14\", \"Topic14\", \"Topic14\", \"Topic14\", \"Topic14\", \"Topic14\", \"Topic14\", \"Topic15\", \"Topic15\", \"Topic15\", \"Topic15\", \"Topic15\", \"Topic15\", \"Topic15\", \"Topic15\", \"Topic15\", \"Topic15\", \"Topic15\", \"Topic15\", \"Topic15\", \"Topic15\", \"Topic15\", \"Topic15\", \"Topic15\", \"Topic15\", \"Topic15\", \"Topic15\", \"Topic15\", \"Topic15\", \"Topic15\", \"Topic15\", \"Topic15\", \"Topic15\", \"Topic15\", \"Topic15\", \"Topic15\", \"Topic15\", \"Topic15\", \"Topic15\", \"Topic15\", \"Topic15\", \"Topic15\", \"Topic15\", \"Topic15\", \"Topic15\", \"Topic15\", \"Topic15\", \"Topic15\", \"Topic15\", \"Topic15\", \"Topic15\", \"Topic15\", \"Topic15\", \"Topic15\", \"Topic15\", \"Topic15\", \"Topic15\", \"Topic15\", \"Topic15\", \"Topic15\", \"Topic15\", \"Topic15\", \"Topic15\", \"Topic15\", \"Topic15\", \"Topic15\", \"Topic15\", \"Topic15\", \"Topic15\", \"Topic15\", \"Topic15\", \"Topic15\", \"Topic15\", \"Topic15\", \"Topic15\", \"Topic15\", \"Topic15\", \"Topic15\", \"Topic15\"], \"logprob\": [30.0, 29.0, 28.0, 27.0, 26.0, 25.0, 24.0, 23.0, 22.0, 21.0, 20.0, 19.0, 18.0, 17.0, 16.0, 15.0, 14.0, 13.0, 12.0, 11.0, 10.0, 9.0, 8.0, 7.0, 6.0, 5.0, 4.0, 3.0, 2.0, 1.0, -8.260299682617188, -8.72819995880127, -7.602499961853027, -8.854999542236328, -7.072199821472168, -8.994000434875488, -8.992899894714355, -9.132499694824219, -9.138400077819824, -9.142600059509277, -8.689200401306152, -6.112800121307373, -9.308199882507324, -8.52869987487793, -9.309000015258789, -9.154999732971191, -9.311599731445312, -9.154399871826172, -8.900199890136719, -8.932700157165527, -9.156100273132324, -9.313699722290039, -9.31659984588623, -7.803199768066406, -8.906299591064453, -9.336700439453125, -9.343400001525879, -7.450699806213379, -8.666500091552734, -9.21310043334961, -5.8109002113342285, -4.918900012969971, -6.807600021362305, -4.755899906158447, -5.735199928283691, -6.719299793243408, -7.33050012588501, -8.214400291442871, -7.614999771118164, -5.687099933624268, -6.531799793243408, -8.462800025939941, -5.767899990081787, -6.447999954223633, -6.661399841308594, -6.001800060272217, -6.145400047302246, -8.101300239562988, -7.181600093841553, -6.648600101470947, -6.719399929046631, -5.799600124359131, -5.471799850463867, -7.057499885559082, -6.192500114440918, -6.954999923706055, -6.118599891662598, -6.2281999588012695, -5.55679988861084, -5.748199939727783, -5.40939998626709, -6.058899879455566, -5.182600021362305, -5.188000202178955, -5.762599945068359, -5.985300064086914, -5.7017998695373535, -5.536300182342529, -6.03980016708374, -5.416999816894531, -5.394899845123291, -5.695400238037109, -5.717700004577637, -5.835899829864502, -5.651299953460693, -5.503399848937988, -5.825399875640869, -5.969099998474121, -5.968299865722656, -5.9182000160217285, -5.904099941253662, -5.9079999923706055, -5.882299900054932, -5.601399898529053, -4.537099838256836, -6.503799915313721, -5.213699817657471, -4.88670015335083, -6.833499908447266, -7.17549991607666, -6.690299987792969, -7.035299777984619, -6.13640022277832, -6.255199909210205, -7.5233001708984375, -7.833899974822998, -7.671599864959717, -7.371799945831299, -7.779600143432617, -7.72790002822876, -6.741700172424316, -7.967899799346924, -4.720900058746338, -8.121100425720215, -7.912399768829346, -8.04740047454834, -8.20930004119873, -4.723899841308594, -8.302399635314941, -8.059900283813477, -7.810299873352051, -8.219599723815918, -3.9367001056671143, -6.459799766540527, -5.632299900054932, -5.249599933624268, -5.897799968719482, -7.254799842834473, -6.829599857330322, -7.230400085449219, -4.83489990234375, -5.133299827575684, -5.42579984664917, -6.748700141906738, -7.160200119018555, -4.748700141906738, -4.241099834442139, -6.42140007019043, -5.216100215911865, -4.916600227355957, -5.424099922180176, -4.906599998474121, -5.2256999015808105, -5.501200199127197, -4.921599864959717, -5.40939998626709, -5.027900218963623, -4.948699951171875, -5.3917999267578125, -5.583199977874756, -5.3506999015808105, -5.540200233459473, -5.445099830627441, -5.559899806976318, -5.529799938201904, -5.5625, -5.427800178527832, -4.843599796295166, -6.362299919128418, -4.904099941253662, -6.948699951171875, -5.769000053405762, -7.9720001220703125, -5.942399978637695, -6.096199989318848, -6.196400165557861, -6.387700080871582, -8.305500030517578, -6.396299839019775, -8.222700119018555, -8.407299995422363, -7.448299884796143, -6.79449987411499, -7.249800205230713, -4.262499809265137, -6.720900058746338, -7.01639986038208, -6.693999767303467, -8.694000244140625, -6.410200119018555, -7.156400203704834, -8.988200187683105, -8.988900184631348, -8.711700439453125, -8.514699935913086, -8.526700019836426, -4.805799961090088, -5.70989990234375, -7.61299991607666, -7.200200080871582, -5.847799777984619, -6.4446001052856445, -4.957600116729736, -4.989200115203857, -6.899799823760986, -6.129199981689453, -4.990099906921387, -5.973599910736084, -4.786799907684326, -5.348199844360352, -5.163599967956543, -5.700500011444092, -5.491199970245361, -5.131800174713135, -5.452700138092041, -5.5858001708984375, -5.274600028991699, -5.447700023651123, -5.306300163269043, -5.341400146484375, -5.680699825286865, -5.673500061035156, -5.551199913024902, -5.644400119781494, -5.745999813079834, -5.528299808502197, -5.697800159454346, -5.75600004196167, -8.167200088500977, -8.099200248718262, -8.672100067138672, -8.681500434875488, -8.69480037689209, -8.695899963378906, -8.857399940490723, -8.859600067138672, -8.866800308227539, -8.872400283813477, -8.88010025024414, -8.732500076293945, -8.38479995727539, -8.280500411987305, -8.498900413513184, -8.398900032043457, -8.751899719238281, -8.780599594116211, -7.517600059509277, -8.64330005645752, -8.94260025024414, -8.534299850463867, -7.915200233459473, -8.553500175476074, -8.964300155639648, -8.68809986114502, -8.859299659729004, -8.69379997253418, -8.893799781799316, -8.585200309753418, -8.157600402832031, -8.165399551391602, -7.438799858093262, -7.651800155639648, -7.779900074005127, -8.044099807739258, -8.156900405883789, -7.2571001052856445, -6.977700233459473, -7.2555999755859375, -6.86460018157959, -7.47160005569458, -7.667399883270264, -6.034599781036377, -7.34250020980835, -6.341700077056885, -5.733399868011475, -7.242400169372559, -6.66480016708374, -6.947400093078613, -7.393799781799316, -6.143899917602539, -6.764900207519531, -5.587500095367432, -6.945899963378906, -6.3684000968933105, -5.812300205230713, -5.549600124359131, -6.951600074768066, -5.627999782562256, -5.807199954986572, -6.813600063323975, -6.142399787902832, -6.431000232696533, -6.467599868774414, -5.244699954986572, -5.649700164794922, -6.555699825286865, -6.374000072479248, -6.100100040435791, -5.651000022888184, -6.214700222015381, -5.564000129699707, -5.929699897766113, -5.64709997177124, -5.330599784851074, -5.888299942016602, -5.988399982452393, -5.608699798583984, -5.673799991607666, -5.580699920654297, -6.230999946594238, -5.94189977645874, -5.966700077056885, -5.973199844360352, -5.953800201416016, -5.968999862670898, -6.132699966430664, -6.0746002197265625, -6.102700233459473, -6.107100009918213, -6.02239990234375, -6.0960001945495605, -5.843599796295166, -8.076199531555176, -7.294099807739258, -7.589099884033203, -6.076499938964844, -5.535299777984619, -5.016600131988525, -8.540300369262695, -7.676000118255615, -5.2795000076293945, -8.549699783325195, -8.397000312805176, -8.54640007019043, -6.080900192260742, -5.032299995422363, -8.756600379943848, -8.76259994506836, -8.762299537658691, -8.774999618530273, -6.448999881744385, -8.790200233459473, -8.781999588012695, -8.781700134277344, -8.041600227355957, -8.67650032043457, -7.408400058746338, -8.075799942016602, -8.315099716186523, -8.362099647521973, -7.473899841308594, -6.841700077056885, -5.7972002029418945, -6.208700180053711, -7.254199981689453, -6.012700080871582, -7.661399841308594, -5.548900127410889, -7.687399864196777, -8.079299926757812, -5.674099922180176, -6.831999778747559, -5.550899982452393, -4.67609977722168, -4.866000175476074, -7.058499813079834, -7.080399990081787, -5.116700172424316, -5.132500171661377, -5.8109002113342285, -5.2378997802734375, -5.713399887084961, -5.314300060272217, -5.753200054168701, -5.744900226593018, -5.447700023651123, -5.780200004577637, -5.638400077819824, -5.87939977645874, -5.634799957275391, -5.839900016784668, -5.699999809265137, -5.774099826812744, -5.744100093841553, -5.923600196838379, -5.961999893188477, -7.825500011444092, -8.554100036621094, -8.3016996383667, -8.32699966430664, -8.335399627685547, -7.35129976272583, -6.258900165557861, -7.546999931335449, -8.041799545288086, -7.821599960327148, -8.341500282287598, -7.997200012207031, -7.332900047302246, -8.703900337219238, -7.396100044250488, -8.703900337219238, -8.728599548339844, -8.57289981842041, -8.74590015411377, -8.586299896240234, -8.749300003051758, -8.079099655151367, -8.358499526977539, -8.79259967803955, -8.486000061035156, -8.786100387573242, -8.524100303649902, -7.107500076293945, -8.546600341796875, -8.79699993133545, -7.625800132751465, -7.752699851989746, -6.642099857330322, -7.207300186157227, -7.5370001792907715, -6.7941999435424805, -5.947400093078613, -7.537600040435791, -6.090199947357178, -6.8572998046875, -4.922299861907959, -5.444699764251709, -7.070199966430664, -6.253600120544434, -6.540299892425537, -4.985899925231934, -6.608799934387207, -6.552199840545654, -6.16510009765625, -6.89900016784668, -5.656099796295166, -5.220600128173828, -5.480999946594238, -5.279699802398682, -5.297800064086914, -5.5, -5.6992998123168945, -5.416399955749512, -5.54010009765625, -5.624599933624268, -6.200699806213379, -5.850100040435791, -6.279300212860107, -5.8445000648498535, -5.913000106811523, -5.494699954986572, -5.798299789428711, -5.671000003814697, -5.9868998527526855, -5.959199905395508, -5.787300109863281, -5.742800235748291, -5.702499866485596, -6.026899814605713, -6.0665998458862305, -6.045499801635742, -6.089099884033203, -7.3566999435424805, -8.366900444030762, -8.3725004196167, -8.255800247192383, -8.046799659729004, -7.530900001525879, -8.190899848937988, -8.318300247192383, -8.375100135803223, -8.006400108337402, -8.231499671936035, -8.025300025939941, -8.26990032196045, -8.136799812316895, -8.378399848937988, -5.699699878692627, -7.787399768829346, -8.420900344848633, -8.17710018157959, -8.616000175476074, -8.200200080871582, -8.215200424194336, -8.208499908447266, -8.618200302124023, -8.46500015258789, -8.641900062561035, -8.50059986114502, -8.067500114440918, -8.647899627685547, -7.2067999839782715, -7.950900077819824, -7.5671000480651855, -7.96120023727417, -5.546500205993652, -7.5493998527526855, -6.502500057220459, -7.6757001876831055, -7.002900123596191, -6.225200176239014, -7.60290002822876, -4.629899978637695, -6.123700141906738, -6.382699966430664, -6.304699897766113, -6.762800216674805, -6.313000202178955, -6.6132001876831055, -6.031899929046631, -5.087299823760986, -5.95959997177124, -6.444300174713135, -7.122399806976318, -6.617800235748291, -6.311100006103516, -5.655900001525879, -5.568600177764893, -6.250999927520752, -5.591599941253662, -5.940100193023682, -6.4278998374938965, -5.551300048828125, -5.968100070953369, -6.113399982452393, -5.538400173187256, -5.888599872589111, -5.797299861907959, -5.98960018157959, -5.7399001121521, -5.846199989318848, -6.070799827575684, -5.743899822235107, -5.944399833679199, -6.117700099945068, -6.062399864196777, -6.008600234985352, -6.073699951171875, -6.143099784851074, -6.133999824523926, -6.10860013961792, -6.135300159454346, -7.173799991607666, -5.613100051879883, -6.276599884033203, -7.933000087738037, -7.948500156402588, -6.136600017547607, -8.270099639892578, -8.26140022277832, -8.475099563598633, -8.48069953918457, -7.655900001525879, -8.237299919128418, -8.512900352478027, -8.234399795532227, -8.527199745178223, -7.8491997718811035, -8.57610034942627, -8.418299674987793, -7.527699947357178, -6.9934000968933105, -8.591500282287598, -8.605600357055664, -8.477100372314453, -8.322400093078613, -8.103899955749512, -8.489299774169922, -8.354900360107422, -6.303800106048584, -8.477700233459473, -8.241399765014648, -5.142499923706055, -8.215800285339355, -7.805300235748291, -7.097400188446045, -8.102499961853027, -6.555699825286865, -5.869200229644775, -6.09660005569458, -7.419000148773193, -6.17710018157959, -7.013700008392334, -5.717899799346924, -7.053199768066406, -5.651700019836426, -5.108099937438965, -7.007400035858154, -5.656000137329102, -5.991700172424316, -6.378200054168701, -5.466800212860107, -5.5447001457214355, -6.664100170135498, -5.874000072479248, -6.142099857330322, -5.91949987411499, -5.720600128173828, -5.668799877166748, -5.929100036621094, -5.528900146484375, -5.71999979019165, -5.865699768066406, -5.985099792480469, -5.767499923706055, -6.004899978637695, -5.467100143432617, -5.577400207519531, -5.664700031280518, -5.599400043487549, -5.667300224304199, -5.635200023651123, -5.769599914550781, -5.911300182342529, -5.875800132751465, -5.941199779510498, -5.960599899291992, -6.994699954986572, -7.812900066375732, -5.060500144958496, -6.900100231170654, -6.761000156402588, -6.171500205993652, -8.0600004196167, -5.467199802398682, -7.9944000244140625, -6.410999774932861, -7.60099983215332, -7.338699817657471, -6.735099792480469, -7.999000072479248, -6.564199924468994, -7.213600158691406, -7.995999813079834, -8.214799880981445, -8.016599655151367, -7.872000217437744, -8.00059986114502, -6.286300182342529, -7.2118000984191895, -7.498300075531006, -6.01039981842041, -6.421000003814697, -6.538899898529053, -7.377799987792969, -6.758900165557861, -7.934899806976318, -6.674099922180176, -4.8821001052856445, -5.896599769592285, -5.794600009918213, -5.343200206756592, -5.412300109863281, -6.322299957275391, -4.666500091552734, -6.073999881744385, -6.5233001708984375, -6.472300052642822, -6.039999961853027, -5.6529998779296875, -5.847599983215332, -6.12529993057251, -5.778200149536133, -5.732699871063232, -5.7241997718811035, -5.647799968719482, -5.1417999267578125, -5.987599849700928, -4.870299816131592, -5.410200119018555, -5.616199970245361, -5.515100002288818, -5.6819000244140625, -5.884099960327148, -5.984300136566162, -5.928299903869629, -5.8867998123168945, -5.944699764251709, -5.943600177764893, -5.9471001625061035, -6.0081000328063965, -8.112299919128418, -8.146400451660156, -8.018099784851074, -8.094400405883789, -8.096599578857422, -8.095499992370605, -7.972700119018555, -8.17770004272461, -7.435400009155273, -7.839000225067139, -8.405900001525879, -8.41919994354248, -8.180800437927246, -7.84119987487793, -8.37559986114502, -7.7245001792907715, -8.402899742126465, -7.716599941253662, -8.395700454711914, -8.137999534606934, -8.419099807739258, -8.048500061035156, -6.995100021362305, -8.477999687194824, -8.492899894714355, -8.309300422668457, -7.896299839019775, -7.638500213623047, -8.36340045928955, -8.346699714660645, -8.019800186157227, -8.13290023803711, -7.6016998291015625, -8.16189956665039, -7.89139986038208, -7.648499965667725, -7.36460018157959, -7.393899917602539, -7.425899982452393, -5.815700054168701, -6.619800090789795, -6.65310001373291, -5.939199924468994, -6.600900173187256, -6.960599899291992, -6.94980001449585, -7.255099773406982, -6.613399982452393, -5.809199810028076, -7.011499881744385, -6.611299991607666, -5.152200222015381, -5.3246002197265625, -5.5019001960754395, -6.044400215148926, -5.481500148773193, -5.45959997177124, -6.451499938964844, -5.894700050354004, -5.804800033569336, -6.057700157165527, -6.6545000076293945, -6.323500156402588, -5.8902997970581055, -6.05649995803833, -5.763000011444092, -5.92140007019043, -5.888000011444092, -5.595900058746338, -6.048099994659424, -5.908100128173828, -5.874000072479248, -6.202899932861328, -5.734499931335449, -6.037899971008301, -6.115600109100342, -6.132999897003174, -6.122200012207031, -5.947199821472168, -6.259799957275391, -6.178100109100342, -6.185100078582764, -6.129199981689453, -6.603700160980225, -6.99459981918335, -7.303199768066406, -8.039799690246582, -7.689799785614014, -7.926000118255615, -7.51800012588501, -7.53879976272583, -8.017600059509277, -8.247599601745605, -7.791299819946289, -8.187600135803223, -7.518400192260742, -8.222800254821777, -7.126200199127197, -7.926700115203857, -7.438399791717529, -7.960599899291992, -7.983099937438965, -7.996500015258789, -8.192999839782715, -8.18649959564209, -8.20989990234375, -7.926499843597412, -8.203900337219238, -8.343199729919434, -8.416799545288086, -7.4770002365112305, -7.962699890136719, -7.689499855041504, -6.591599941253662, -4.9359002113342285, -6.918499946594238, -4.678299903869629, -6.514999866485596, -7.342100143432617, -5.64169979095459, -7.6585001945495605, -7.203700065612793, -6.366799831390381, -6.908999919891357, -5.1178998947143555, -6.799099922180176, -7.411600112915039, -5.987400054931641, -5.48330020904541, -6.074900150299072, -6.778500080108643, -4.989500045776367, -5.955399990081787, -5.756400108337402, -5.283100128173828, -5.333399772644043, -5.459400177001953, -5.75540018081665, -5.734600067138672, -5.622200012207031, -5.813799858093262, -6.084199905395508, -6.313300132751465, -6.0777997970581055, -5.6427001953125, -5.6519999504089355, -5.722099781036377, -5.952300071716309, -5.913099765777588, -6.078499794006348, -5.991600036621094, -5.9847002029418945, -6.021100044250488, -6.084400177001953, -5.9878997802734375, -6.057400226593018, -6.057300090789795, -7.524099826812744, -7.31689977645874, -7.183499813079834, -7.737199783325195, -7.551499843597412, -7.21120023727417, -7.521200180053711, -8.054699897766113, -8.026800155639648, -7.083499908447266, -8.078700065612793, -8.078300476074219, -7.810999870300293, -6.2855000495910645, -8.137299537658691, -8.023799896240234, -7.727499961853027, -7.519899845123291, -8.065699577331543, -6.605599880218506, -7.964600086212158, -7.727799892425537, -7.968100070953369, -8.061699867248535, -8.021100044250488, -7.74459981918335, -8.025300025939941, -7.536399841308594, -8.398099899291992, -8.411800384521484, -7.956200122833252, -7.154099941253662, -6.610099792480469, -6.008399963378906, -7.1803998947143555, -6.059299945831299, -5.625899791717529, -5.423999786376953, -7.204100131988525, -5.214200019836426, -5.389599800109863, -5.306000232696533, -7.179100036621094, -5.472799777984619, -6.577199935913086, -5.188799858093262, -5.414299964904785, -5.155700206756592, -5.525599956512451, -5.278600215911865, -6.070099830627441, -6.136000156402588, -5.6128997802734375, -5.827099800109863, -5.714600086212158, -5.7631001472473145, -5.381700038909912, -5.875500202178955, -5.862199783325195, -5.544600009918213, -5.637700080871582, -5.871300220489502, -5.70989990234375, -5.73799991607666, -5.7118000984191895, -5.890999794006348, -5.883299827575684, -5.9303998947143555, -5.82919979095459, -5.91540002822876, -5.981599807739258, -6.9156999588012695, -7.117099761962891, -7.151800155639648, -7.198400020599365, -7.421999931335449, -7.601099967956543, -7.29449987411499, -7.5903000831604, -7.587600231170654, -7.325699806213379, -7.503600120544434, -7.456600189208984, -6.08519983291626, -7.428899765014648, -7.820000171661377, -7.83650016784668, -7.843400001525879, -7.8206000328063965, -7.821499824523926, -7.835100173950195, -7.817299842834473, -7.317200183868408, -7.855100154876709, -7.4355998039245605, -7.901700019836426, -6.979100227355957, -7.9008002281188965, -7.505000114440918, -7.617199897766113, -7.82480001449585, -6.3358001708984375, -6.319300174713135, -7.095900058746338, -6.4944000244140625, -6.738999843597412, -7.207099914550781, -7.402900218963623, -5.380499839782715, -5.762199878692627, -7.506999969482422, -6.543099880218506, -5.749800205230713, -6.245500087738037, -5.455399990081787, -5.688300132751465, -5.709199905395508, -6.057300090789795, -5.580599784851074, -5.913400173187256, -6.045199871063232, -6.829599857330322, -6.2846999168396, -5.668099880218506, -5.206299781799316, -6.039899826049805, -5.507599830627441, -6.004300117492676, -5.422100067138672, -6.000500202178955, -5.637800216674805, -5.522600173950195, -5.7729997634887695, -5.619500160217285, -6.175600051879883, -5.663099765777588, -5.825900077819824, -5.718900203704834, -5.951900005340576, -5.81879997253418, -5.939599990844727, -5.888999938964844, -6.049099922180176, -6.030900001525879, -5.683499813079834, -7.356500148773193, -7.348400115966797, -7.357699871063232, -7.558700084686279, -7.46619987487793, -7.344200134277344, -7.722300052642822, -7.748799800872803, -7.752399921417236, -7.756400108337402, -7.7870001792907715, -7.356299877166748, -7.657299995422363, -7.525400161743164, -7.7052998542785645, -7.743800163269043, -7.342100143432617, -7.742400169372559, -7.571700096130371, -7.742300033569336, -7.736499786376953, -7.732500076293945, -7.7382001876831055, -7.7484002113342285, -7.7459001541137695, -7.772299766540527, -7.780200004577637, -7.352399826049805, -7.826000213623047, -6.700500011444092, -7.457900047302246, -7.395100116729736, -7.377500057220459, -6.8780999183654785, -7.358500003814697, -6.706600189208984, -6.543600082397461, -5.184299945831299, -5.418799877166748, -6.547800064086914, -6.388500213623047, -5.73330020904541, -6.1656999588012695, -6.801700115203857, -6.269400119781494, -6.898600101470947, -5.384699821472168, -5.694399833679199, -5.799799919128418, -5.523499965667725, -5.966899871826172, -5.734399795532227, -5.7459001541137695, -6.281300067901611, -5.630300045013428, -5.4197001457214355, -5.455699920654297, -5.6479997634887695, -5.854499816894531, -5.4741997718811035, -6.416200160980225, -5.801000118255615, -5.678599834442139, -5.9243998527526855, -5.9644999504089355, -6.150899887084961, -6.2393999099731445, -5.979000091552734, -6.036200046539307, -5.980000019073486, -6.022799968719482, -6.0833001136779785, -6.113399982452393, -6.173600196838379, -6.145699977874756, -6.14870023727417, -6.269599914550781, -6.650700092315674, -6.257800102233887, -6.6483001708984375, -6.649600028991699, -6.681700229644775, -7.311600208282471, -7.310500144958496, -7.31220006942749, -7.313199996948242, -7.30620002746582, -7.313199996948242, -7.31279993057251, -7.315100193023682, -7.309999942779541, -7.31220006942749, -6.648099899291992, -7.312699794769287, -7.3130998611450195, -7.311299800872803, -7.323400020599365, -7.315199851989746, -6.6570000648498535, -6.663099765777588, -5.974800109863281, -7.307499885559082, -7.304800033569336, -7.309199810028076, -7.311200141906738, -7.313799858093262, -5.749899864196777, -5.975299835205078, -6.645999908447266, -6.260900020599365, -6.651500225067139, -6.248899936676025, -6.251500129699707, -6.735199928283691, -5.752600193023682, -6.649099826812744, -6.25629997253418, -6.681700229644775, -6.644400119781494, -6.64709997177124, -5.96619987487793, -5.72790002822876, -4.87939977645874, -5.270100116729736, -5.537199974060059, -6.643799781799316, -5.546299934387207, -5.436500072479248, -5.727099895477295, -5.2153000831604, -5.353000164031982, -5.621200084686279, -5.501399993896484, -5.454500198364258, -5.684899806976318, -5.7316999435424805, -5.945099830627441, -5.718900203704834, -5.894700050354004, -5.88670015335083, -5.911799907684326, -5.704800128936768, -5.868899822235107, -5.836599826812744, -6.0472002029418945, -6.020500183105469, -6.015100002288818, -6.00570011138916], \"loglift\": [30.0, 29.0, 28.0, 27.0, 26.0, 25.0, 24.0, 23.0, 22.0, 21.0, 20.0, 19.0, 18.0, 17.0, 16.0, 15.0, 14.0, 13.0, 12.0, 11.0, 10.0, 9.0, 8.0, 7.0, 6.0, 5.0, 4.0, 3.0, 2.0, 1.0, 1.6336, 1.6301, 1.6244, 1.6119, 1.6112, 1.594, 1.5925, 1.5885, 1.5816, 1.58, 1.5766, 1.5685, 1.5677, 1.5674, 1.5668, 1.5666, 1.5666, 1.5666, 1.5651, 1.5643, 1.5638, 1.5631, 1.5606, 1.5598, 1.5591, 1.5405, 1.5373, 1.5197, 1.5148, 1.5093, 1.482, 1.4118, 1.466, 1.3835, 1.4018, 1.4503, 1.4476, 1.5006, 1.446, 1.2399, 1.2973, 1.4978, 1.1321, 1.2208, 1.2357, 1.079, 1.0989, 1.4273, 1.2572, 1.1442, 1.1474, 0.9068, 0.8095, 1.1781, 0.9576, 1.1415, 0.9033, 0.8608, 0.5977, 0.6324, 0.432, 0.7333, 0.2927, 0.2881, 0.5434, 0.638, 0.4474, 0.2922, 0.6618, 0.0307, -0.008, 0.2391, 0.2593, 0.3482, -0.033, -0.2953, 0.2157, 0.3889, 0.3473, 0.089, -0.091, -0.213, -0.5673, 2.0081, 2.0071, 2.0036, 2.0032, 1.9981, 1.9951, 1.9943, 1.9933, 1.9894, 1.9874, 1.9865, 1.9789, 1.9715, 1.9705, 1.9691, 1.9689, 1.9659, 1.9637, 1.9635, 1.9558, 1.9547, 1.9546, 1.9539, 1.9472, 1.9441, 1.9419, 1.9418, 1.939, 1.9382, 1.9344, 1.9311, 1.9219, 1.9094, 1.9014, 1.9175, 1.8953, 1.9108, 1.5457, 1.5819, 1.5842, 1.7957, 1.8405, 1.2283, 1.0739, 1.5897, 1.0494, 0.8939, 0.8996, 0.5688, 0.7088, 0.9028, 0.4653, 0.8196, 0.4198, 0.2593, 0.4355, 0.5687, 0.1254, 0.4024, 0.0251, 0.2686, 0.0885, 0.1326, 2.0506, 2.047, 2.0469, 2.0402, 2.0351, 2.0304, 1.9962, 1.9959, 1.9904, 1.9857, 1.9753, 1.9745, 1.9708, 1.9697, 1.9685, 1.9664, 1.9647, 1.9567, 1.9344, 1.9261, 1.9166, 1.9156, 1.9116, 1.9093, 1.9074, 1.9036, 1.9033, 1.8897, 1.8603, 1.8498, 1.8282, 1.81, 1.8384, 1.7798, 1.5428, 1.6007, 1.3237, 1.2406, 1.5715, 1.3003, 0.8204, 1.2098, 0.5282, 0.8063, 0.665, 1.0011, 0.7743, 0.2551, 0.4223, 0.5535, 0.1731, 0.3795, 0.1698, 0.1339, 0.5826, 0.4784, 0.1438, 0.29, 0.483, -0.3202, 0.2447, 0.3795, 2.081, 2.0632, 2.0334, 2.0273, 2.0143, 2.0135, 2.0055, 2.0051, 1.998, 1.9929, 1.9903, 1.979, 1.9695, 1.9684, 1.9644, 1.9606, 1.9592, 1.9377, 1.9376, 1.9321, 1.9319, 1.9297, 1.9132, 1.908, 1.9073, 1.8909, 1.8873, 1.8845, 1.8761, 1.8756, 1.875, 1.87, 1.8508, 1.786, 1.7862, 1.7816, 1.7947, 1.6137, 1.5199, 1.5804, 1.4614, 1.6205, 1.6703, 1.2052, 1.5516, 1.2414, 1.0463, 1.5174, 1.3172, 1.3895, 1.5411, 1.0674, 1.2946, 0.7986, 1.3483, 1.0972, 0.8552, 0.6861, 1.2756, 0.5732, 0.6429, 1.1982, 0.796, 0.9667, 0.9883, 0.2255, 0.4586, 1.0381, 0.8929, 0.6944, 0.3562, 0.7493, 0.2491, 0.5261, 0.2279, -0.1226, 0.3334, 0.4248, 0.0096, 0.0212, -0.1046, 0.6539, 0.2072, 0.2286, 0.1538, 0.0873, -0.0265, 0.3839, 0.174, 0.2688, 0.1866, -0.7073, -0.6483, 2.4598, 2.4234, 2.3519, 2.3365, 2.296, 2.2689, 2.2678, 2.267, 2.2581, 2.2346, 2.2232, 2.2196, 2.2005, 2.1934, 2.1748, 2.1727, 2.1455, 2.144, 2.1428, 2.1331, 2.1286, 2.1227, 2.1169, 2.1076, 2.1004, 2.0807, 2.0718, 2.0697, 2.0674, 2.0653, 2.06, 2.0194, 2.0108, 2.0322, 1.9499, 2.0253, 1.6986, 1.9144, 1.9989, 1.2979, 1.6396, 1.2046, 0.532, 0.6042, 1.5711, 1.4947, 0.2701, 0.1825, 0.6392, 0.2375, 0.5197, 0.1334, 0.4954, 0.4564, 0.1706, 0.415, 0.2366, 0.4895, 0.1783, 0.3959, 0.1272, 0.1684, -0.049, 0.1846, 0.5231, 2.3868, 2.346, 2.3175, 2.2763, 2.2599, 2.2571, 2.2523, 2.2437, 2.2383, 2.2216, 2.2105, 2.1964, 2.1922, 2.1901, 2.1891, 2.1847, 2.1843, 2.1668, 2.1474, 2.1426, 2.136, 2.1216, 2.112, 2.1114, 2.1093, 2.1001, 2.0944, 2.093, 2.0895, 2.0854, 2.0552, 2.032, 1.9074, 1.9602, 1.9894, 1.857, 1.7191, 1.9464, 1.6717, 1.7736, 1.341, 1.335, 1.7562, 1.411, 1.506, 0.8245, 1.4558, 1.3587, 1.0892, 1.4379, 0.6034, 0.1663, 0.3322, 0.168, 0.1724, 0.3272, 0.4849, 0.2019, 0.3014, 0.318, 0.8103, 0.3857, 0.8744, 0.2637, 0.3356, -0.2866, 0.0767, -0.1949, 0.3068, 0.242, -0.0922, -0.2675, -0.3875, 0.2887, 0.305, -0.0043, 0.361, 2.5813, 2.5593, 2.5528, 2.5109, 2.5105, 2.4689, 2.458, 2.4475, 2.4145, 2.4133, 2.3945, 2.3912, 2.3901, 2.3879, 2.376, 2.3759, 2.3716, 2.3501, 2.3391, 2.3305, 2.3272, 2.3167, 2.3046, 2.3028, 2.29, 2.2813, 2.2764, 2.2702, 2.2648, 2.2634, 2.2564, 2.2413, 2.256, 2.1199, 2.177, 1.9331, 2.1428, 1.9416, 1.6857, 2.0946, 0.8403, 1.4748, 1.4388, 1.3599, 1.5891, 1.2099, 1.3475, 0.9065, 0.1207, 0.7347, 1.0829, 1.6117, 1.1988, 0.9292, 0.3853, 0.3065, 0.8796, 0.2356, 0.545, 0.9778, 0.067, 0.4882, 0.6241, -0.0623, 0.3471, 0.2099, 0.3966, -0.0448, -0.0331, 0.353, -0.2962, -0.0019, 0.3324, 0.0646, -0.1672, 0.0346, 0.2173, 0.1597, -0.7217, -0.3068, 2.7449, 2.7298, 2.6722, 2.5701, 2.5524, 2.5264, 2.5179, 2.4875, 2.4307, 2.423, 2.4001, 2.3857, 2.3853, 2.3821, 2.3707, 2.3562, 2.3372, 2.3344, 2.3316, 2.3149, 2.3053, 2.2924, 2.292, 2.2858, 2.2844, 2.2804, 2.2769, 2.2753, 2.2747, 2.2706, 2.2409, 2.2697, 2.2449, 2.1512, 2.2365, 1.9938, 1.7957, 1.8179, 2.0943, 1.7338, 1.9274, 1.5224, 1.8794, 1.3552, 1.125, 1.8207, 1.1237, 1.2626, 1.4432, 0.7818, 0.749, 1.4904, 0.9564, 1.0115, 0.7613, 0.5389, 0.4804, 0.7189, 0.2815, 0.4641, 0.5844, 0.7092, 0.4337, 0.673, -0.259, -0.1013, 0.0304, -0.1292, -0.049, -0.2484, 0.0436, 0.4576, 0.2324, 0.3625, 0.0467, 2.9294, 2.8807, 2.8661, 2.8458, 2.8361, 2.8087, 2.7942, 2.7858, 2.7614, 2.7583, 2.7577, 2.755, 2.7328, 2.7317, 2.7268, 2.7206, 2.7141, 2.7103, 2.7021, 2.6977, 2.6959, 2.6923, 2.6917, 2.6818, 2.6779, 2.671, 2.6615, 2.6475, 2.6458, 2.6377, 2.6337, 2.5617, 2.5956, 2.5805, 2.5292, 2.5281, 2.5715, 2.3403, 2.4732, 2.5364, 2.5201, 2.4353, 2.3277, 2.3684, 2.3725, 2.2268, 2.1819, 2.1423, 1.9608, 1.5257, 2.0348, 0.3377, 0.2081, 0.6324, -0.0449, 0.0132, 0.3171, 0.7099, 0.1799, -0.4107, -0.1032, -0.4959, -0.5603, 0.4481, 2.858, 2.8188, 2.8009, 2.7161, 2.7097, 2.7049, 2.7022, 2.6613, 2.6588, 2.6527, 2.6106, 2.6104, 2.605, 2.5986, 2.5888, 2.581, 2.5768, 2.5574, 2.5451, 2.5444, 2.5435, 2.5132, 2.4883, 2.4682, 2.4607, 2.4605, 2.4577, 2.4446, 2.4304, 2.4302, 2.4241, 2.4161, 2.3646, 2.4103, 2.3503, 2.2524, 2.1582, 2.1447, 2.1391, 1.4386, 1.7212, 1.7317, 1.3452, 1.6734, 1.7881, 1.7666, 1.9557, 1.488, 0.8583, 1.7639, 1.4161, 0.0558, 0.1456, 0.3113, 0.7934, 0.2135, 0.1587, 1.1317, 0.4914, 0.3793, 0.579, 1.2732, 0.8836, 0.3583, 0.5387, 0.1795, 0.36, 0.3133, -0.1482, 0.4249, 0.2189, 0.0605, 0.5916, -0.2584, 0.1979, 0.3695, 0.3914, 0.1715, -0.5604, 0.3882, 0.0172, -0.0497, -0.6538, 3.2998, 3.2071, 3.031, 2.9391, 2.8793, 2.8481, 2.7958, 2.782, 2.7597, 2.7456, 2.7403, 2.7373, 2.7297, 2.7295, 2.7176, 2.708, 2.6858, 2.6772, 2.6515, 2.6433, 2.6391, 2.6191, 2.6102, 2.597, 2.5966, 2.5872, 2.5831, 2.5723, 2.5599, 2.5533, 2.529, 2.3116, 2.4235, 1.9892, 2.2922, 2.4452, 1.9414, 2.4962, 2.2855, 1.8492, 2.0834, 1.1151, 2.0195, 2.3075, 1.2529, 0.7525, 1.192, 1.7687, 0.2186, 1.0515, 0.6297, 0.1037, 0.1143, 0.0108, 0.3716, 0.2727, 0.0728, 0.3065, 0.6713, 0.9699, 0.5857, -0.1673, -0.1759, -0.1038, 0.2833, 0.1951, 0.5168, 0.257, 0.2105, 0.163, 0.3719, -0.1464, 0.224, 0.1439, 3.5211, 3.4397, 3.3164, 3.2651, 3.1907, 3.1859, 3.0541, 3.0196, 2.964, 2.9637, 2.9436, 2.9071, 2.8626, 2.8508, 2.8454, 2.7955, 2.7918, 2.7683, 2.7589, 2.7494, 2.7131, 2.7083, 2.693, 2.6743, 2.6499, 2.6429, 2.6414, 2.6249, 2.6184, 2.5906, 2.5849, 2.5301, 2.4485, 2.2188, 2.3411, 1.8234, 1.6184, 1.3314, 2.2635, 0.9251, 0.9411, 0.7351, 2.1958, 0.7562, 1.6583, 0.2873, 0.4607, 0.1593, 0.4514, 0.1082, 0.9334, 1.001, 0.3297, 0.5811, 0.4124, 0.47, -0.1736, 0.5857, 0.5067, -0.0969, 0.0573, 0.4891, 0.1186, 0.0893, -0.0935, 0.3446, 0.2522, 0.2537, -0.3539, -0.4452, 0.24, 3.8078, 3.7271, 3.5415, 3.4797, 3.3966, 3.3655, 3.2333, 3.2266, 3.2241, 3.2173, 3.2059, 3.2026, 3.1801, 3.1536, 3.1432, 3.1244, 3.1182, 3.1091, 3.1089, 3.1032, 3.0955, 3.0923, 3.0868, 3.0761, 3.075, 3.0579, 3.0472, 3.0304, 3.0203, 3.0073, 2.9904, 2.9669, 2.9715, 2.8402, 2.7748, 2.8668, 2.926, 1.8308, 1.9997, 2.9317, 2.3568, 1.6765, 1.9817, 1.3243, 1.5187, 1.5307, 1.7288, 1.1137, 1.2374, 1.3604, 2.3801, 1.6518, 0.7819, 0.0017, 1.2076, 0.3056, 1.0654, 0.0481, 1.0, 0.2372, -0.0749, 0.3815, -0.1441, 1.2899, -0.187, 0.1814, -0.4039, 0.4061, -0.2005, 0.2902, -0.194, 0.1867, -0.6441, 3.9799, 3.508, 3.5064, 3.4889, 3.4371, 3.3801, 3.3643, 3.3338, 3.2473, 3.2417, 3.2351, 3.226, 3.2187, 3.1856, 3.1828, 3.1394, 3.1323, 3.1162, 3.1077, 3.1002, 3.0873, 3.081, 3.0755, 3.0694, 3.0627, 3.048, 3.0446, 3.0376, 3.0264, 3.0122, 3.0013, 2.9999, 2.986, 2.9787, 2.8209, 2.869, 2.3058, 2.1469, 1.0643, 1.2487, 2.0806, 1.84, 0.9609, 1.4174, 2.1519, 1.4977, 2.222, 0.2336, 0.6212, 0.7246, 0.3038, 0.9365, 0.5693, 0.5778, 1.3618, 0.377, 0.028, 0.0145, 0.2946, 0.5317, -0.2662, 1.4667, 0.074, -0.2032, 0.2709, 0.2713, 0.7341, 0.8873, -0.1505, 0.072, -0.1696, -0.0458, 0.0437, 0.1461, 0.5639, 0.2675, -0.0284, 4.2818, 4.0841, 3.95, 3.9432, 3.8233, 3.7942, 3.7628, 3.7069, 3.6979, 3.6775, 3.6736, 3.6589, 3.6572, 3.6551, 3.6548, 3.6402, 3.6396, 3.634, 3.6305, 3.6266, 3.6205, 3.6099, 3.6038, 3.5975, 3.5913, 3.5685, 3.531, 3.5213, 3.5126, 3.5063, 3.4019, 3.3143, 3.3569, 3.0529, 3.1839, 2.9401, 2.9078, 3.2303, 2.4746, 3.0213, 2.6272, 2.9498, 2.9048, 2.8936, 2.0144, 1.7159, 0.596, 0.9932, 1.2932, 2.6434, 0.7351, 0.5061, 1.0462, -0.0073, -0.038, 0.6146, 0.309, -0.0069, 0.4992, 0.6371, 1.3092, 0.5027, 0.9708, 0.8688, 0.8678, -0.3179, 0.4467, 0.0979, 1.48, 0.1808, -0.3201, -0.5355]}, \"token.table\": {\"Topic\": [1, 2, 6, 6, 8, 5, 10, 12, 1, 7, 12, 1, 2, 3, 4, 5, 6, 7, 8, 9, 10, 11, 12, 13, 14, 1, 3, 4, 5, 6, 7, 8, 9, 10, 11, 13, 14, 2, 9, 12, 15, 1, 2, 3, 4, 5, 6, 7, 8, 9, 10, 11, 12, 13, 14, 15, 4, 5, 6, 11, 7, 12, 3, 6, 10, 14, 9, 1, 3, 4, 5, 6, 7, 8, 11, 12, 14, 6, 14, 9, 10, 11, 6, 14, 15, 7, 1, 2, 3, 5, 7, 12, 3, 5, 11, 1, 2, 3, 4, 5, 6, 7, 8, 9, 10, 11, 12, 13, 14, 15, 3, 8, 1, 13, 1, 1, 2, 3, 4, 5, 6, 8, 10, 14, 3, 5, 10, 13, 1, 3, 5, 7, 14, 1, 8, 9, 4, 6, 5, 8, 1, 6, 9, 12, 1, 2, 3, 4, 5, 6, 7, 8, 9, 10, 11, 12, 13, 14, 1, 3, 5, 7, 10, 11, 12, 6, 14, 9, 10, 12, 13, 1, 3, 12, 9, 10, 11, 2, 4, 5, 7, 12, 13, 14, 4, 5, 9, 10, 13, 1, 2, 4, 8, 4, 5, 7, 8, 9, 10, 11, 12, 13, 14, 1, 2, 3, 4, 5, 6, 7, 8, 9, 10, 11, 12, 13, 14, 10, 13, 14, 1, 2, 3, 5, 9, 14, 5, 6, 1, 2, 3, 4, 5, 6, 7, 9, 11, 15, 1, 6, 7, 1, 2, 3, 5, 14, 3, 4, 5, 7, 8, 10, 1, 2, 3, 6, 7, 9, 10, 13, 14, 1, 2, 3, 4, 5, 6, 7, 8, 9, 10, 11, 12, 13, 14, 15, 5, 6, 7, 10, 11, 15, 1, 2, 3, 5, 14, 3, 1, 2, 3, 4, 5, 6, 7, 8, 9, 10, 11, 12, 13, 14, 15, 2, 4, 6, 8, 9, 11, 12, 13, 4, 5, 7, 8, 10, 11, 14, 7, 11, 13, 4, 7, 9, 10, 13, 1, 6, 1, 2, 3, 4, 5, 6, 7, 8, 9, 10, 11, 13, 14, 15, 3, 4, 5, 6, 7, 11, 12, 1, 1, 2, 3, 4, 5, 6, 7, 8, 9, 10, 12, 13, 14, 4, 10, 4, 7, 10, 12, 14, 5, 9, 14, 3, 5, 8, 9, 11, 13, 4, 5, 8, 9, 13, 1, 3, 10, 12, 4, 5, 7, 9, 10, 11, 13, 15, 1, 2, 3, 5, 6, 8, 10, 12, 13, 14, 8, 2, 4, 5, 6, 7, 8, 9, 10, 11, 12, 13, 14, 3, 9, 12, 14, 1, 2, 4, 5, 6, 7, 8, 9, 10, 11, 12, 14, 4, 5, 6, 7, 1, 4, 5, 6, 7, 8, 9, 10, 11, 12, 13, 2, 4, 6, 10, 7, 8, 13, 4, 5, 7, 14, 5, 10, 11, 1, 2, 3, 4, 5, 6, 7, 8, 9, 10, 11, 12, 13, 14, 2, 1, 2, 2, 4, 10, 5, 9, 10, 14, 4, 5, 4, 8, 13, 2, 4, 5, 6, 7, 11, 1, 3, 12, 14, 1, 2, 3, 4, 5, 6, 7, 8, 9, 10, 11, 12, 13, 14, 4, 5, 8, 9, 10, 11, 14, 1, 2, 3, 4, 5, 6, 7, 8, 9, 10, 11, 12, 13, 3, 8, 14, 1, 2, 3, 4, 5, 6, 7, 8, 9, 10, 11, 12, 14, 15, 1, 2, 3, 4, 5, 6, 7, 8, 9, 10, 11, 12, 13, 14, 11, 14, 1, 2, 3, 4, 5, 6, 7, 8, 9, 10, 11, 12, 13, 14, 1, 3, 4, 5, 6, 7, 9, 10, 11, 13, 15, 1, 2, 4, 14, 1, 3, 6, 10, 13, 6, 7, 10, 5, 6, 1, 2, 3, 4, 5, 6, 7, 8, 9, 10, 11, 12, 13, 14, 4, 4, 5, 10, 11, 12, 13, 3, 6, 1, 2, 2, 3, 4, 6, 7, 8, 10, 11, 12, 13, 4, 5, 9, 10, 11, 12, 14, 8, 10, 11, 14, 4, 7, 11, 13, 6, 8, 10, 12, 1, 4, 8, 7, 12, 4, 5, 2, 2, 2, 8, 10, 1, 3, 1, 2, 3, 4, 5, 6, 10, 11, 12, 13, 4, 8, 10, 1, 2, 3, 4, 5, 6, 7, 8, 9, 10, 11, 12, 13, 14, 15, 1, 5, 8, 12, 4, 5, 9, 10, 14, 2, 4, 11, 12, 1, 3, 5, 8, 11, 12, 13, 14, 15, 1, 2, 3, 4, 5, 6, 7, 8, 9, 10, 12, 14, 3, 2, 4, 7, 8, 13, 4, 10, 11, 1, 2, 3, 4, 5, 6, 7, 8, 9, 10, 11, 12, 14, 15, 7, 10, 11, 1, 3, 4, 5, 7, 15, 1, 8, 10, 14, 1, 5, 8, 13, 4, 7, 2, 5, 9, 15, 4, 5, 10, 4, 11, 13, 1, 3, 4, 5, 6, 7, 8, 12, 5, 10, 5, 6, 9, 10, 11, 12, 14, 5, 7, 3, 4, 5, 6, 7, 4, 14, 1, 3, 4, 5, 7, 8, 10, 12, 1, 4, 14, 4, 5, 7, 8, 9, 10, 11, 13, 4, 6, 7, 9, 15, 4, 5, 6, 7, 8, 9, 10, 13, 6, 12, 13, 4, 15, 5, 8, 2, 4, 5, 6, 7, 9, 10, 13, 5, 7, 8, 15, 7, 9, 1, 2, 3, 5, 1, 2, 3, 4, 5, 6, 7, 8, 9, 10, 11, 12, 13, 14, 1, 3, 6, 12, 6, 9, 12, 13, 14, 1, 2, 3, 4, 5, 6, 7, 8, 9, 10, 11, 12, 13, 14, 15, 1, 2, 3, 4, 5, 6, 7, 8, 9, 10, 11, 12, 13, 14, 15, 1, 2, 3, 4, 5, 6, 7, 8, 9, 10, 11, 12, 14, 15, 7, 8, 12, 1, 2, 3, 4, 5, 6, 7, 8, 9, 10, 11, 12, 13, 14, 15, 1, 3, 12, 4, 9, 11, 15, 7, 11, 14, 4, 6, 12, 13, 4, 5, 7, 9, 10, 11, 1, 4, 11, 12, 15, 4, 11, 14, 1, 4, 5, 6, 7, 8, 9, 10, 11, 12, 14, 1, 2, 3, 4, 6, 7, 8, 10, 12, 6, 10, 1, 3, 4, 5, 6, 8, 4, 7, 8, 9, 10, 11, 12, 1, 12, 1, 10, 11, 5, 11, 12, 13, 5, 6, 9, 15, 3, 4, 13, 7, 11, 5, 8, 11, 12, 13, 9, 11, 13, 1, 12, 3, 10, 13, 5, 8, 9, 1, 4, 5, 14, 2, 3, 4, 5, 6, 9, 11, 12, 13, 14, 4, 5, 7, 9, 13, 1, 2, 1, 2, 3, 4, 5, 6, 7, 8, 9, 10, 11, 12, 13, 14, 15, 1, 2, 3, 4, 5, 6, 7, 8, 9, 10, 11, 12, 14, 4, 5, 6, 9, 10, 11, 12, 14, 1, 5, 12, 2, 4, 5, 7, 8, 9, 10, 11, 12, 13, 14, 6, 7, 14, 5, 10, 13, 14, 4, 5, 6, 7, 9, 10, 11, 12, 13, 14, 3, 4, 6, 12, 1, 3, 4, 6, 7, 8, 10, 12, 13, 4, 4, 10, 7, 10, 1, 3, 6, 10, 12, 14, 1, 2, 3, 4, 5, 8, 13, 14, 1, 2, 14, 2, 4, 5, 8, 9, 10, 11, 12, 13, 14, 15, 1, 2, 4, 12, 14, 3, 5, 6, 13, 7, 11, 6, 11, 13, 1, 2, 3, 5, 12, 1, 2, 3, 4, 5, 6, 7, 8, 9, 10, 11, 12, 1, 2, 4, 5, 6, 7, 8, 9, 10, 11, 12, 13, 14, 15, 1, 12, 2, 1, 2, 4, 5, 6, 7, 8, 10, 15, 3, 4, 12, 13, 2, 7, 8, 10, 15, 4, 5, 6, 7, 8, 9, 10, 11, 14, 4, 8, 9, 11, 4, 5, 8, 9, 10, 11, 14, 4, 9, 11, 4, 6, 9, 13, 4, 6, 9, 11, 1, 2, 3, 4, 5, 6, 7, 8, 9, 10, 11, 12, 13, 14, 6, 9, 12, 15, 1, 3, 4, 5, 6, 8, 9, 10, 11, 14, 10, 12, 1, 7, 12, 9, 10, 11, 12, 15, 2, 1, 2, 3, 4, 5, 6, 7, 9, 10, 1, 2, 3, 4, 5, 6, 7, 8, 9, 10, 11, 12, 13, 14, 15, 1, 2, 3, 4, 5, 6, 7, 8, 9, 10, 11, 12, 13, 14, 15, 4, 5, 6, 7, 8, 9, 10, 13, 14, 11, 13, 14, 1, 2, 3, 4, 5, 6, 7, 8, 9, 10, 11, 12, 13, 14, 15, 5, 8, 10, 13, 15, 1, 2, 4, 5, 6, 7, 8, 9, 10, 11, 12, 13, 14, 15, 4, 9, 14, 1, 2, 4, 5, 6, 7, 8, 10, 11, 12, 1, 2, 3, 4, 5, 6, 7, 8, 10, 11, 12, 13, 14, 1, 3, 12, 4, 5, 7, 8, 9, 10, 11, 12, 13, 1, 2, 3, 4, 5, 6, 7, 8, 9, 10, 11, 12, 13, 14, 15, 7, 8, 11, 13, 1, 2, 3, 4, 5, 6, 7, 8, 10, 11, 12, 13, 14, 5, 6, 10, 12, 13, 15, 8, 12, 1, 8, 12, 13, 4, 7, 1, 2, 3, 4, 5, 6, 7, 8, 9, 10, 11, 13, 14, 1, 2, 3, 4, 5, 6, 7, 8, 9, 10, 11, 12, 13, 14, 15, 1, 2, 3, 4, 5, 6, 7, 8, 9, 10, 11, 12, 13, 14, 15, 1, 2, 3, 4, 5, 6, 7, 8, 9, 10, 11, 12, 13, 14, 15, 9, 11, 1, 3, 12, 4, 13, 15, 2, 4, 6, 7, 8, 10, 11, 12, 13, 14, 11, 14, 1, 3, 4, 5, 6, 7, 8, 9, 10, 11, 13, 14, 1, 2, 3, 4, 5, 6, 7, 8, 9, 10, 11, 12, 13, 14, 1, 2, 4, 5, 6, 7, 9, 10, 11, 14, 15, 4, 5, 7, 8, 9, 10, 13, 14, 15, 4, 8, 4, 11, 5, 8, 5, 8, 12, 2, 1, 3, 1, 6, 9, 12, 4, 5, 8, 9, 10, 11, 14, 15, 1, 8, 4, 6, 7, 8, 1, 2, 4, 5, 6, 8, 10, 11, 14, 1, 4, 5, 6, 7, 8, 9, 10, 11, 12, 13, 4, 6, 13, 15, 10, 11, 14, 4, 6, 9, 1, 3, 4, 5, 6, 7, 8, 8, 10, 13, 5, 9, 14, 4, 1, 2, 5, 11, 1, 3, 5, 6, 7, 8, 4, 5, 7, 8, 9, 10, 11, 12, 13, 4, 5, 7, 8, 9, 10, 11, 12, 13, 4, 5, 1, 4, 5, 6, 8, 9, 10, 13, 9, 10, 1, 2, 3, 4, 5, 6, 7, 8, 9, 10, 11, 12, 13, 14, 15, 1, 2, 4, 5, 6, 7, 10, 11, 13, 1, 2, 3, 4, 5, 6, 7, 8, 9, 10, 11, 12, 13, 14, 15, 1, 2, 3, 4, 5, 6, 7, 8, 9, 10, 11, 12, 13, 14, 1, 3, 2, 4, 5, 7, 10, 11, 12, 13, 14, 7, 11, 1, 5, 6, 7, 8, 14, 1, 5, 6, 7, 1, 4, 6, 9, 12, 1, 2, 3, 4, 5, 6, 7, 8, 9, 10, 11, 12, 13, 14, 15, 9, 5, 7, 11, 4, 1, 2, 3, 4, 5, 6, 7, 8, 9, 10, 11, 12, 13, 14, 15, 1, 2, 3, 4, 5, 6, 7, 8, 9, 10, 11, 12, 13, 14, 15, 1, 2, 3, 4, 5, 6, 7, 8, 9, 10, 11, 12, 13, 14, 15, 4, 5, 10, 11, 1, 2, 3, 4, 5, 6, 7, 8, 9, 10, 11, 12, 13, 14, 15, 2, 4, 5, 8, 4, 6, 15, 1, 2, 3, 4, 5, 6, 7, 8, 9, 10, 11, 12, 14, 6, 8, 1, 2, 4, 5, 7, 9, 10, 14, 2, 5, 12, 1, 2, 2, 10, 11, 3, 11, 1, 2, 3, 4, 5, 6, 7, 8, 9, 10, 11, 12, 13, 14, 15, 2, 4, 8, 1, 2, 3, 4, 5, 6, 7, 8, 9, 10, 11, 12, 13, 14, 15, 2, 7, 1, 2, 3, 4, 5, 6, 7, 8, 9, 10, 11, 12, 13, 14, 15, 1, 2, 3, 4, 5, 6, 7, 8, 9, 10, 11, 12, 13, 14, 15, 3, 4, 5, 6, 7, 8, 9, 10, 11, 14, 4, 6, 10, 13, 4, 6, 7, 8, 1, 3, 3, 5, 6, 7, 9, 12, 15, 1, 2, 3, 4, 5, 6, 7, 8, 9, 10, 11, 12, 13, 14, 15, 1, 2, 1, 2, 3, 5, 8, 9, 10, 14, 1, 4, 5, 6, 7, 8, 9, 11, 12, 14, 4, 6, 9, 10, 1, 2, 3, 4, 5, 6, 7, 8, 9, 10, 11, 12, 13, 14, 15, 1, 7, 12, 3, 4, 5, 6, 9, 10, 13, 1, 2, 3, 4, 5, 6, 7, 8, 9, 10, 11, 12, 13, 14, 15, 1, 2, 3, 4, 5, 6, 7, 8, 9, 10, 11, 12, 13, 14, 15, 4, 5, 6, 7, 1, 3, 1, 2, 3, 5, 8, 9, 10, 7, 8, 9, 10, 11, 13, 14, 1, 4, 5, 11, 15, 1, 1, 1, 3, 4, 5, 11, 12, 3, 5, 6, 8, 1, 6, 12, 1, 2, 3, 5, 6, 11, 15, 4, 5, 6, 12, 13, 15, 2, 4, 10, 14, 4, 5, 2, 5, 8, 14, 1, 2, 4, 10, 11, 1, 5, 9, 12, 14, 9, 10, 14, 7, 12, 1, 2, 14, 5, 11, 4, 6, 7, 7, 9, 1, 2, 3, 4, 5, 6, 7, 8, 10, 11, 13, 14, 15, 4, 6, 7, 8, 11, 15, 4, 4, 5, 8, 9, 10, 11, 12, 14, 1, 2, 3, 4, 5, 9, 10, 11, 14, 15, 3, 1, 3, 10, 12, 4, 1, 2, 3, 4, 5, 6, 7, 8, 9, 10, 11, 12, 13, 14, 4, 8, 13, 4, 9, 2, 4, 9, 14, 3, 4, 10, 14, 15, 5, 7, 1, 3, 14, 1, 2, 3, 4, 5, 6, 7, 8, 9, 10, 11, 12, 13, 14, 15, 1, 2, 1, 2, 3, 4, 5, 6, 7, 8, 9, 10, 11, 12, 13, 14, 15, 2, 3, 4, 5, 8, 9, 10, 11, 12, 13, 14, 1, 4, 5, 6, 7, 1, 2, 3, 4, 5, 6, 7, 8, 9, 10, 11, 12, 13, 14, 15, 1, 3, 5, 2, 4, 6, 7, 9, 10, 11, 13, 14, 1, 2, 3, 4, 5, 6, 7, 8, 9, 10, 11, 12, 13, 14, 15, 1, 7, 12, 15, 1, 2, 3, 4, 5, 6, 7, 8, 9, 10, 11, 12, 13, 2, 4, 5, 6, 7, 8, 9, 10, 11, 12, 14, 1, 2, 3, 4, 5, 6, 7, 8, 9, 10, 11, 12, 13, 14, 7, 9, 10, 11, 14, 1, 2, 3, 4, 5, 6, 7, 8, 9, 10, 11, 12, 13, 14, 7, 9, 11, 12, 1, 2, 3, 4, 5, 6, 7, 8, 9, 10, 11, 12, 13, 14, 15, 1, 2, 3, 4, 5, 6, 7, 8, 9, 10, 11, 12, 13, 14, 1, 2, 3, 4, 5, 6, 7, 8, 9, 10, 11, 12, 13, 14, 15, 1, 2, 3, 4, 5, 6, 7, 8, 9, 10, 11, 12, 13, 14, 15, 4, 7, 13, 1, 2, 3, 4, 5, 6, 8, 9, 12, 13, 14, 1, 2, 3, 4, 5, 6, 7, 8, 9, 10, 11, 12, 13, 14, 15, 1, 3, 7, 4, 5, 6, 7, 8, 9, 10, 12, 13, 14, 5, 7, 12, 1, 2, 3, 4, 5, 6, 7, 8, 9, 10, 11, 12, 13, 14, 15, 1, 3, 1, 2, 3, 4, 5, 6, 7, 8, 9, 10, 11, 12, 13, 14, 15, 1, 2, 3, 4, 5, 6, 7, 8, 9, 10, 11, 12, 13, 14, 15, 1, 2, 3, 4, 5, 6, 7, 8, 9, 10, 11, 12, 13, 14, 1, 2, 3, 4, 5, 6, 7, 8, 9, 10, 12, 13, 14, 15, 3, 11, 1, 2, 3, 4, 5, 6, 7, 8, 9, 10, 11, 12, 13, 14, 15, 4, 5, 6, 7, 8, 10, 4, 3, 3, 1, 3, 4, 5, 7, 9, 10, 11, 12, 13, 14, 15, 4, 10, 11, 6, 10, 11, 15, 1, 3, 5, 4, 12, 13, 1, 2, 3, 4, 5, 6, 7, 8, 9, 10, 11, 12, 13, 2, 4, 5, 6, 7, 8, 9, 10, 11, 12, 14, 15, 4, 5, 6, 7, 8, 9, 10, 11, 14, 1, 10, 8, 10, 13, 7, 13, 1, 3, 4, 5, 7, 10, 11, 13, 1, 2, 3, 4, 5, 6, 7, 8, 9, 10, 11, 12, 13, 14, 15, 4, 11, 2, 1, 3, 12, 6, 7, 8, 3, 4, 1, 3, 6, 10, 12, 14, 4, 10, 14, 15, 5, 6, 7, 8, 1, 3, 4, 5, 6, 7, 8, 12, 13, 14, 4, 6, 8, 4, 6, 7, 8, 9, 11, 2, 10, 11, 13, 4, 6, 1, 3, 9, 10, 1, 3, 12, 1, 2, 3, 4, 7, 1, 2, 3, 4, 5, 6, 7, 8, 9, 10, 11, 12, 13, 14, 15, 5, 6, 11, 1, 2, 3, 4, 5, 6, 7, 8, 9, 10, 11, 12, 13, 14, 15, 4, 5, 7, 4, 4, 5, 8, 9, 10, 11, 14, 1, 2, 3, 4, 5, 6, 7, 8, 9, 10, 11, 12, 13, 14, 15, 5, 9, 14, 4, 4, 5, 6, 7, 8, 9, 10, 11, 12, 13, 15, 4, 5, 6, 7, 8, 10, 11, 12, 13, 14, 2, 4, 5, 6, 7, 8, 9, 10, 11, 15, 4, 6, 8, 9, 5, 11, 1, 2, 3, 4, 5, 6, 7, 8, 9, 10, 11, 12, 13, 14, 15, 1, 3, 4, 6, 7, 8, 12, 1, 2, 3, 4, 5, 6, 7, 8, 9, 10, 11, 12, 13, 14, 15, 1, 2, 3, 5, 11, 4, 9, 10, 13, 8, 9, 6, 7, 9, 10, 15, 7, 8, 10, 5, 7, 10, 13, 4, 7, 8, 9, 10, 11, 12, 13, 15, 1, 2, 3, 4, 5, 6, 7, 8, 9, 10, 11, 12, 13, 14, 15, 7, 9, 15, 1, 3, 1, 2, 3, 4, 5, 6, 7, 8, 9, 10, 11, 12, 13, 14, 1, 2, 3, 4, 5, 6, 7, 8, 9, 10, 11, 12, 13, 14, 15, 1, 12, 4, 6, 4, 5, 6, 9, 10, 11, 12, 14, 1, 1, 2, 3, 4, 5, 6, 7, 8, 9, 10, 11, 12, 13, 14, 1, 2, 3, 4, 5, 6, 7, 8, 9, 10, 11, 12, 13, 15, 5, 6, 14, 1, 6, 5, 13, 1, 2, 3, 4, 5, 6, 7, 8, 9, 10, 11, 12, 13, 14, 15, 1, 2, 3, 4, 5, 6, 7, 8, 9, 10, 11, 12, 14, 1, 9, 15, 1, 1, 3, 11, 13, 9, 11, 1, 3, 10, 1, 3, 1, 2, 3, 4, 5, 6, 7, 10, 14, 15, 4, 5, 8, 9, 10, 11, 12, 14, 7, 13, 6, 12, 2, 4, 5, 6, 7, 8, 9, 10, 11, 12, 13, 14, 15, 4, 5, 7, 10, 13, 14, 1, 4, 5, 6, 7, 8, 9, 10, 11, 13, 7, 8, 2, 4, 5, 8, 10, 11, 14, 1, 2, 14, 7, 9, 13, 1, 6, 10, 9, 15, 5, 6, 8, 11, 1, 3, 1, 2, 4, 5, 6, 7, 8, 11, 13, 4, 5, 8, 9, 11, 4, 6, 8, 9, 10, 11, 13, 14, 6, 8, 1, 2, 3, 4, 5, 6, 7, 8, 9, 10, 11, 12, 13, 14, 11, 12, 13, 6, 11, 5, 7, 10, 13, 4, 6, 7, 8, 1, 6, 5, 7, 10, 4, 8, 9, 13, 5, 9, 11, 13, 14, 1, 5, 6, 13, 14, 7, 3, 4, 5, 6, 10, 11, 1, 5, 6, 7, 8, 14, 4, 5, 1, 1, 2, 3, 4, 5, 6, 7, 8, 9, 10, 11, 12, 13, 14, 3, 6, 7, 14, 4, 5, 6, 7, 8, 9, 10, 11, 15, 4, 5, 6, 7, 8, 9, 10, 11, 12, 13, 14, 15, 4, 7, 8, 9, 10, 14, 4, 5, 8, 9, 10, 11, 14, 4, 6, 7, 11, 12, 13, 14, 7, 8, 10, 4, 8, 12, 1, 2, 1, 2, 3, 4, 5, 6, 7, 8, 9, 10, 11, 12, 14, 1, 3, 4, 5, 6, 7, 8, 9, 10, 11, 13, 14, 6, 10, 11, 12, 15, 7, 8, 10, 12, 15, 1, 3, 4, 6, 1, 5, 11, 4, 5, 6, 7, 8, 10, 13, 9, 11, 3, 6, 7, 8, 1, 3, 4, 6, 7, 8, 15, 4, 7, 10, 14, 1, 12, 14, 1, 2, 3, 4, 5, 6, 7, 8, 9, 10, 11, 12, 14, 15, 4, 4, 6, 8, 9, 11, 4, 6, 10, 11, 7, 1, 4, 13, 2, 4, 8, 13, 14, 4, 5, 6, 7, 8, 13, 14, 1, 2, 3, 4, 5, 6, 7, 8, 10, 11, 12, 13, 5, 9, 10, 1, 2, 3, 4, 5, 4, 5, 6, 7, 8, 9, 10, 11, 12, 13, 14, 15, 4, 7, 8, 9, 10, 1, 2, 3, 4, 5, 6, 7, 8, 9, 10, 11, 12, 13, 14, 15, 4, 5, 9, 11, 12, 14, 1, 3, 1, 2, 3, 4, 5, 6, 7, 8, 9, 10, 11, 12, 13, 14, 5, 7, 13, 2, 5, 15, 4, 5, 6, 7, 8, 9, 10, 11, 13, 14, 15, 10, 12, 6, 8, 11, 5, 8, 9, 7, 15, 1, 11, 1, 4, 7, 9, 10, 13, 1, 11, 12, 15, 1, 2, 3, 4, 5, 6, 7, 8, 9, 10, 11, 12, 13, 14, 15, 4, 5, 6, 10, 13, 7, 10, 4, 6, 7, 8, 1, 2, 3, 4, 5, 6, 7, 8, 9, 10, 11, 12, 13, 15, 4, 5, 8, 11, 12, 13, 2, 5, 13, 4, 5, 10, 12, 6, 7, 4, 8, 10, 12, 2, 5, 2, 5, 12, 14, 1, 2, 3, 4, 5, 6, 7, 8, 9, 10, 11, 12, 13, 14, 15, 4, 11, 13, 8, 11, 12, 13, 14, 4, 1, 4, 6, 7, 1, 2, 3, 4, 5, 6, 7, 8, 10, 11, 12, 13, 14, 15, 5, 15, 1, 2, 3, 4, 5, 6, 7, 8, 9, 10, 12, 14, 1, 2, 3, 4, 5, 6, 7, 8, 11, 12, 13, 14, 7, 8, 9, 12, 4, 10, 2, 7, 9, 5, 7, 8, 10, 11, 10, 11, 13, 4, 5, 7, 9, 10, 11, 12, 13, 1, 4, 5, 6, 7, 8, 10, 11, 12, 14, 6, 8, 10, 14, 9, 13, 7, 9, 10, 14, 1, 1, 2, 3, 4, 5, 6, 7, 8, 9, 10, 11, 12, 13, 14, 15, 4, 6, 7, 10, 13, 1, 2, 3, 4, 5, 6, 7, 8, 9, 10, 11, 12, 13, 14, 5, 9, 14, 2, 4, 7, 15, 2, 4, 9, 10, 13, 5, 10, 11, 15, 5, 9, 11, 13, 15, 8, 11, 1, 3, 4, 5, 6, 7, 8, 9, 10, 12, 5, 8, 10, 2, 3, 4, 5, 6, 7, 8, 10, 11, 15, 1, 3, 12, 6, 8, 12, 1, 2, 3, 4, 5, 6, 7, 8, 9, 10, 11, 12, 13, 14, 1, 1, 7, 8, 4, 7, 8, 9, 10, 5, 7, 5, 13, 7, 10, 11, 2, 5, 8, 14, 4, 10, 12, 13, 1, 2, 3, 4, 5, 6, 7, 8, 9, 10, 11, 12, 14, 15, 1, 2, 1, 2, 1, 7, 8, 7, 8, 6, 7, 8, 4, 5, 6, 8, 9, 4, 6, 9, 10, 4, 7, 1, 2, 12, 1, 2, 3, 4, 5, 6, 7, 8, 9, 10, 11, 12, 13, 14, 15, 1, 4, 5, 6, 7, 10, 12, 14, 1, 4, 8, 14, 1, 2, 3, 4, 5, 6, 7, 8, 9, 10, 11, 12, 13, 14, 15, 1, 2, 3, 4, 5, 6, 7, 8, 9, 10, 11, 12, 13, 14, 15, 4, 5, 6, 7, 8, 10, 11, 12, 13, 14, 1, 2, 3, 4, 5, 6, 7, 8, 9, 10, 11, 12, 13, 14, 15, 4, 8, 9, 10, 11, 12, 14, 1, 2, 3, 5, 7, 8, 10, 13, 15, 1, 2, 3, 4, 5, 6, 7, 8, 9, 10, 11, 12, 13, 14, 15, 1, 2, 3, 4, 5, 6, 7, 8, 9, 10, 11, 12, 13, 14, 15, 9, 15, 3, 12, 14, 1, 2, 3, 4, 5, 6, 7, 8, 9, 10, 11, 12, 13, 14, 15, 1, 2, 3, 4, 5, 6, 7, 8, 9, 10, 11, 12, 14, 8, 10, 14, 4, 11, 13, 14, 7, 8, 4, 5, 11, 7, 10, 11, 4, 4, 7, 8, 10, 11, 13, 4, 8, 7, 10, 6, 7, 7, 8, 9, 10, 11, 12, 14, 1, 5, 6, 11, 15, 1, 1, 3, 4, 5, 6, 7, 5, 9, 11, 14, 15, 5, 14, 4, 9, 11, 13, 1, 3, 5, 6, 1, 2, 3, 5, 6, 9, 10, 1, 12, 4, 2, 6, 9, 6, 7, 10, 15, 2, 4, 7, 10, 3, 4, 5, 9, 10, 11, 12, 13, 14, 1, 2, 5, 6, 4, 6, 10, 14, 15, 4, 6, 1, 1, 2, 3, 4, 5, 6, 7, 8, 9, 10, 11, 12, 13, 14, 1, 4, 6, 9, 12, 15, 4, 5, 8, 9, 10, 11, 14, 5, 7, 1, 4, 12, 4, 5, 6, 7, 8, 9, 10, 11, 12, 13, 15, 4, 10, 14, 1, 2, 3, 4, 5, 6, 7, 8, 9, 10, 11, 12, 13, 14, 15, 5, 1, 2, 3, 4, 5, 6, 7, 8, 9, 10, 11, 12, 13, 14, 15, 1, 2, 3, 4, 5, 6, 7, 8, 9, 10, 11, 12, 13, 14, 15, 1, 2, 3, 4, 5, 6, 7, 8, 9, 10, 11, 12, 13, 14, 15, 1, 2, 14, 2, 6, 11, 12, 14, 3, 7, 11, 4, 1, 2, 3, 4, 5, 6, 7, 8, 9, 10, 11, 12, 13, 14, 1, 3, 5, 1, 2, 3, 4, 5, 6, 7, 8, 9, 10, 12, 13, 14, 1, 3, 10, 12, 14, 1, 2, 3, 4, 5, 6, 7, 8, 10, 11, 12, 13, 7, 8, 10, 1, 4, 5, 6, 7, 8, 9, 10, 14, 1, 2, 12, 14, 1, 2, 3, 4, 5, 6, 7, 8, 9, 10, 11, 12, 13, 14, 15, 1, 2, 3, 4, 5, 6, 7, 8, 9, 10, 11, 12, 13, 14, 6, 13, 1, 2, 3, 4, 5, 6, 7, 8, 9, 10, 11, 12, 13, 14, 15, 1, 2, 3, 4, 5, 6, 7, 8, 9, 10, 11, 12, 14, 5, 7, 11, 13, 2, 5, 7, 8, 12, 1, 2, 3, 4, 5, 6, 7, 8, 9, 10, 11, 12, 13, 14, 6, 7, 1, 2, 3, 4, 5, 6, 7, 8, 9, 10, 11, 12, 13, 14, 6, 9, 11, 5, 7, 9, 11, 15], \"Freq\": [0.06142796634531849, 0.8907055120071181, 0.8643651517434567, 0.7708526877947656, 0.12847544796579427, 0.6478488122078037, 0.21594960406926786, 0.10797480203463393, 0.1877508228863451, 0.1877508228863451, 0.3755016457726902, 0.46344677776728455, 0.1504169366437678, 0.1341556461957929, 0.032522580895949796, 0.044718548731930964, 0.04065322611993724, 0.04878387134392469, 0.012195967835981172, 0.0040653226119937245, 0.044718548731930964, 0.0040653226119937245, 0.008130645223987449, 0.012195967835981172, 0.0040653226119937245, 0.8510335844501149, 0.07736668949546499, 0.25483733659436747, 0.007495215782187279, 0.4047416522381131, 0.06745694203968551, 0.0374760789109364, 0.022485647346561836, 0.06745694203968551, 0.007495215782187279, 0.1049330209506219, 0.029980863128749115, 0.18542407199751743, 0.37084814399503485, 0.18542407199751743, 0.18542407199751743, 0.523454123553105, 0.02655202075994011, 0.18586414531958076, 0.041724604051334456, 0.034138312405637285, 0.05310404151988022, 0.030345166582788696, 0.030345166582788696, 0.02275887493709152, 0.01137943746854576, 0.02655202075994011, 0.003793145822848587, 0.003793145822848587, 0.007586291645697174, 0.003793145822848587, 0.20548773988408095, 0.6164632196522428, 0.10274386994204047, 0.05137193497102024, 0.7738484681183087, 0.15476969362366172, 0.1426836951075611, 0.2853673902151222, 0.1426836951075611, 0.2853673902151222, 0.8436846877236934, 0.046928707018992356, 0.03128580467932824, 0.516215777208916, 0.06257160935865648, 0.03128580467932824, 0.046928707018992356, 0.1564290233966412, 0.06257160935865648, 0.01564290233966412, 0.01564290233966412, 0.4915717557001754, 0.3277145038001169, 0.6731612027864478, 0.16829030069661194, 0.08414515034830597, 0.7322848422248478, 0.12204747370414129, 0.12204747370414129, 0.8871437407949706, 0.05861309389104789, 0.05861309389104789, 0.11722618778209579, 0.11722618778209579, 0.527517845019431, 0.05861309389104789, 0.8975847992284426, 0.7038032392917237, 0.17595080982293093, 0.06337985201984718, 0.08366140466619827, 0.09126698690857993, 0.12929489812048825, 0.14704125668604545, 0.12675970403969436, 0.09633737507016771, 0.1166189277165188, 0.048168687535083854, 0.025351940807938872, 0.015211164484763322, 0.03802791121190831, 0.015211164484763322, 0.002535194080793887, 0.002535194080793887, 0.1738453541149864, 0.6953814164599456, 0.534195271608934, 0.3561301810726227, 0.8447301417330987, 0.6493065023957972, 0.17635485250256222, 0.08016129659207373, 0.008016129659207373, 0.016032259318414746, 0.016032259318414746, 0.008016129659207373, 0.02404838897762212, 0.008016129659207373, 0.15197454150412368, 0.6078981660164947, 0.15197454150412368, 0.07598727075206184, 0.15920110811814048, 0.15920110811814048, 0.15920110811814048, 0.15920110811814048, 0.15920110811814048, 0.11419803162210723, 0.5709901581105361, 0.22839606324421446, 0.16983168137248458, 0.6793267254899383, 0.11622093355347504, 0.8135465348743253, 0.8423843482921014, 0.08423843482921015, 0.19146413899455111, 0.5743924169836534, 0.1635978703630039, 0.1665455797389139, 0.18423183599437376, 0.0913789906532094, 0.08695742658934442, 0.0751665890857045, 0.06337575158206457, 0.042741785950694715, 0.02505552969523483, 0.03537251251091977, 0.01916011094341487, 0.030950948447054795, 0.007369273439774951, 0.008843128127729942, 0.037611026520552586, 0.07522205304110517, 0.2632771856438681, 0.22566615912331553, 0.07522205304110517, 0.07522205304110517, 0.22566615912331553, 0.8689071352842983, 0.08689071352842984, 0.2772543149304273, 0.46209052488404545, 0.09241810497680909, 0.09241810497680909, 0.7549258518721178, 0.16901325041913084, 0.056337750139710284, 0.1380182716276592, 0.5520730865106368, 0.1380182716276592, 0.16505020425601957, 0.28883785744803425, 0.1237876531920147, 0.04126255106400489, 0.2475753063840294, 0.04126255106400489, 0.04126255106400489, 0.041410989853745285, 0.7868088072211604, 0.027607326569163523, 0.06901831642290882, 0.05521465313832705, 0.006435953456821892, 0.9847008788937496, 0.1725194270187892, 0.6900777080751568, 0.39491503714260356, 0.05641643387751479, 0.025073970612228796, 0.031342463265285996, 0.07522191183668639, 0.11283286775502958, 0.22566573551005917, 0.025073970612228796, 0.006268492653057199, 0.043879448571400394, 0.05939843827162296, 0.05026021699906558, 0.022845553181393446, 0.27871574881300004, 0.1690570935423115, 0.09595132336185247, 0.06396754890790164, 0.03655288509022951, 0.009138221272557378, 0.03655288509022951, 0.10508954463440985, 0.04569110636278689, 0.013707331908836067, 0.013707331908836067, 0.590270890769235, 0.196756963589745, 0.196756963589745, 0.6009633701705775, 0.06146216285835453, 0.3004816850852888, 0.006829129206483836, 0.006829129206483836, 0.006829129206483836, 0.17169118335367636, 0.6867647334147055, 0.17691568466102225, 0.10614941079661336, 0.0707662738644089, 0.10614941079661336, 0.03538313693220445, 0.03538313693220445, 0.2830650954576356, 0.0707662738644089, 0.03538313693220445, 0.0707662738644089, 0.0929937253576636, 0.7439498028613089, 0.0929937253576636, 0.012545022382538152, 0.003136255595634538, 0.9785117458379758, 0.003136255595634538, 0.003136255595634538, 0.9298096601275186, 0.11729175801590597, 0.7663061523705856, 0.09383340641272477, 0.007819450534393731, 0.007819450534393731, 0.05215592373621161, 0.20862369494484645, 0.15646777120863484, 0.05215592373621161, 0.05215592373621161, 0.15646777120863484, 0.05215592373621161, 0.05215592373621161, 0.20862369494484645, 0.1873406354543328, 0.23132495856100224, 0.12543677330420544, 0.05538766613432448, 0.07167815617383168, 0.07982340119358527, 0.04561337211062016, 0.05538766613432448, 0.02280668605531008, 0.03095193107506368, 0.04235527410271872, 0.034210029082965124, 0.0081452450197536, 0.0081452450197536, 0.00162904900395072, 0.28191929416208344, 0.07047982354052086, 0.14095964708104172, 0.28191929416208344, 0.07047982354052086, 0.07047982354052086, 0.013237023741321508, 0.006618511870660754, 0.9696119890518006, 0.003309255935330377, 0.003309255935330377, 0.8572251614864982, 0.005573008021291089, 0.016719024063873267, 0.005573008021291089, 0.3399534892987564, 0.12817918448969504, 0.0501570721916198, 0.15604422459615047, 0.07802211229807524, 0.0501570721916198, 0.03901105614903762, 0.04458406417032871, 0.022292032085164355, 0.0501570721916198, 0.011146016042582177, 0.005573008021291089, 0.036126339675890136, 0.25288437773123096, 0.07225267935178027, 0.07225267935178027, 0.036126339675890136, 0.14450535870356054, 0.14450535870356054, 0.25288437773123096, 0.7522814186325167, 0.1253802364387528, 0.20575272870580164, 0.10287636435290082, 0.10287636435290082, 0.20575272870580164, 0.20575272870580164, 0.3186785663185063, 0.15933928315925314, 0.47801784947775944, 0.13586043285764093, 0.13586043285764093, 0.27172086571528187, 0.13586043285764093, 0.40758129857292286, 0.17089593141737242, 0.6835837256694897, 0.008925960228425154, 0.008925960228425154, 0.008925960228425154, 0.21422304548220372, 0.11603748296952701, 0.07140768182740123, 0.11603748296952701, 0.08925960228425155, 0.1338894034263773, 0.07140768182740123, 0.05355576137055093, 0.07140768182740123, 0.017851920456850308, 0.008925960228425154, 0.0871038231514555, 0.04355191157572775, 0.0871038231514555, 0.13065573472718323, 0.30486338103009425, 0.0871038231514555, 0.26131146945436645, 0.845630346095639, 0.18728990110634794, 0.6431464528557609, 0.03887148890886467, 0.01413508687595079, 0.010601315156963092, 0.02827017375190158, 0.01413508687595079, 0.01413508687595079, 0.0035337717189876973, 0.007067543437975395, 0.02473640203291388, 0.0035337717189876973, 0.007067543437975395, 0.4584893892152427, 0.4584893892152427, 0.33974952480532905, 0.0679499049610658, 0.40769942976639484, 0.0679499049610658, 0.0679499049610658, 0.1441500691255808, 0.720750345627904, 0.0720750345627904, 0.9666358735226638, 0.2929259121242708, 0.19528394141618052, 0.09764197070809026, 0.09764197070809026, 0.2929259121242708, 0.07566317610494334, 0.07566317610494334, 0.3783158805247167, 0.1513263522098867, 0.22698952831483002, 0.8506093800842472, 0.11756389806042442, 0.006915523415319084, 0.013831046830638167, 0.07315993820292717, 0.6928676500394867, 0.017214103106571097, 0.008607051553285549, 0.09037404130949826, 0.04733878354307052, 0.06455288664964162, 0.004303525776642774, 0.02173080896399021, 0.26076970756788254, 0.06519242689197063, 0.08692323585596085, 0.4346161792798042, 0.02173080896399021, 0.02173080896399021, 0.02173080896399021, 0.02173080896399021, 0.02173080896399021, 0.9070741935848438, 0.009143291339698696, 0.21029570081307003, 0.08228962205728826, 0.10057620473668566, 0.2468688661718648, 0.04571645669849348, 0.10057620473668566, 0.09143291339698696, 0.04571645669849348, 0.01828658267939739, 0.02742987401909609, 0.01828658267939739, 0.19029088078777015, 0.19029088078777015, 0.19029088078777015, 0.3805817615755403, 0.03829028465350897, 0.051053712871345296, 0.433956559406435, 0.025526856435672648, 0.012763428217836324, 0.12763428217836323, 0.08934399752485427, 0.07658056930701794, 0.03829028465350897, 0.051053712871345296, 0.012763428217836324, 0.025526856435672648, 0.17871849798554879, 0.23233404738121344, 0.446796244963872, 0.12510294858988416, 0.03329929924131073, 0.16649649620655366, 0.08879813131016195, 0.11099766413770244, 0.11099766413770244, 0.26639439393048586, 0.0998978977239322, 0.05549883206885122, 0.02219953282754049, 0.02219953282754049, 0.03329929924131073, 0.9051612737001693, 0.12637095863661704, 0.6318547931830852, 0.22114917761407984, 0.1384480169911644, 0.2768960339823288, 0.4153440509734932, 0.2497916451281302, 0.1248958225640651, 0.2497916451281302, 0.2497916451281302, 0.18211843002207204, 0.18211843002207204, 0.5463552900662161, 0.12714157045150493, 0.14613973615115508, 0.13737135198208578, 0.1329871598975511, 0.07891545752162374, 0.07599266279860065, 0.06868567599104289, 0.042380523483834975, 0.04091912612232342, 0.045303318206858074, 0.04676471556836963, 0.03653493403778877, 0.007306986807557754, 0.011691178892092407, 0.9608254823555347, 0.03635616515836276, 0.9452602941174318, 0.18004872083131862, 0.18004872083131862, 0.5401461624939559, 0.31812230571956995, 0.15906115285978498, 0.15906115285978498, 0.15906115285978498, 0.20651385803251457, 0.6195415740975436, 0.11725604466873873, 0.5862802233436937, 0.11725604466873873, 0.04004992379789321, 0.6808487045641846, 0.04004992379789321, 0.08009984759578642, 0.04004992379789321, 0.04004992379789321, 0.007781740531553695, 0.9649358259126581, 0.007781740531553695, 0.007781740531553695, 0.050758051058230017, 0.17765317870380506, 0.10151610211646003, 0.13535480282194673, 0.11843545246920338, 0.050758051058230017, 0.10997577729283171, 0.03383870070548668, 0.025379025529115008, 0.050758051058230017, 0.06767740141097336, 0.01691935035274334, 0.00845967517637167, 0.050758051058230017, 0.056786902096328216, 0.01892896736544274, 0.03785793473088548, 0.7003717925213814, 0.03785793473088548, 0.0946448368272137, 0.03785793473088548, 0.13981638745444647, 0.056521518332648575, 0.15171565447184618, 0.13386675394574662, 0.0594963350869985, 0.08032005236744798, 0.0832948691217979, 0.04164743456089895, 0.08032005236744798, 0.08032005236744798, 0.04462225131524888, 0.020823717280449475, 0.020823717280449475, 0.1894061914196215, 0.378812382839243, 0.378812382839243, 0.04149233085803291, 0.0533472825317566, 0.035564855021171064, 0.1066945650635132, 0.1363319442478224, 0.09483961338978951, 0.18967922677957902, 0.11854951673723689, 0.06520223420548028, 0.06520223420548028, 0.023709903347447377, 0.035564855021171064, 0.017782427510585532, 0.011854951673723689, 0.009623859156071366, 0.019247718312142732, 0.009623859156071366, 0.3753305070867832, 0.06736701409249955, 0.11548630987285638, 0.05774315493642819, 0.08661473240464229, 0.04811929578035683, 0.05774315493642819, 0.10586245071678502, 0.019247718312142732, 0.009623859156071366, 0.019247718312142732, 0.5610911261408852, 0.18703037538029504, 0.25078304108377997, 0.19969760678893592, 0.06966195585660555, 0.06966195585660555, 0.06966195585660555, 0.0464413039044037, 0.05108543429484407, 0.0464413039044037, 0.02786478234264222, 0.02322065195220185, 0.08359434702792666, 0.02322065195220185, 0.01393239117132111, 0.01857652156176148, 0.09723434731094682, 0.04861717365547341, 0.24308586827736706, 0.14585152096642023, 0.09723434731094682, 0.04861717365547341, 0.04861717365547341, 0.04861717365547341, 0.04861717365547341, 0.04861717365547341, 0.04861717365547341, 0.0501917718032454, 0.250958859016227, 0.1003835436064908, 0.6023012616389448, 0.026824926422147406, 0.9299307826344434, 0.008941642140715802, 0.017883284281431603, 0.008941642140715802, 0.4474588013765873, 0.08949176027531745, 0.3579670411012698, 0.6957480802944512, 0.1739370200736128, 0.19732985583378274, 0.04082686672423091, 0.04082686672423091, 0.07825149455477591, 0.2891903059633023, 0.07144701676740409, 0.09186045012951954, 0.051033583405288636, 0.020413433362115454, 0.023815672255801366, 0.03402238893685909, 0.03402238893685909, 0.017011194468429545, 0.0068044777873718185, 0.858912862220876, 0.0886556503928532, 0.6205895527499724, 0.0443278251964266, 0.0443278251964266, 0.0443278251964266, 0.1329834755892798, 0.8192027152794015, 0.10240033940992518, 0.013038944263330538, 0.9779208197497904, 0.922872885625295, 0.048445080770905063, 0.5328958884799557, 0.048445080770905063, 0.0726676211563576, 0.048445080770905063, 0.048445080770905063, 0.048445080770905063, 0.12111270192726266, 0.024222540385452532, 0.12516228461190332, 0.10951699903541541, 0.5162944240241012, 0.12516228461190332, 0.046935856729463744, 0.015645285576487915, 0.015645285576487915, 0.19351470080444286, 0.19351470080444286, 0.19351470080444286, 0.19351470080444286, 0.24608527654364518, 0.24608527654364518, 0.41014212757274193, 0.08202842551454839, 0.21909275754407484, 0.10954637877203742, 0.4381855150881497, 0.10954637877203742, 0.12910251624972224, 0.12910251624972224, 0.6455125812486112, 0.6798512148755473, 0.13597024297510946, 0.17260083063928996, 0.6904033225571599, 0.9794134382019091, 0.929054964556214, 0.15738343414019318, 0.15738343414019318, 0.6295337365607727, 0.0056452102851531445, 0.982266589616647, 0.6146805864788131, 0.09756834706012905, 0.18863213764958284, 0.029270504118038717, 0.003252278235337635, 0.00650455647067527, 0.00650455647067527, 0.01300911294135054, 0.029270504118038717, 0.01300911294135054, 0.17514595765798893, 0.7005838306319557, 0.17514595765798893, 0.06562486855596882, 0.19687460566790643, 0.16163162070266393, 0.1118053316138728, 0.09357620145943701, 0.10451367955209848, 0.06440959321233976, 0.05468739046330734, 0.015798579467177675, 0.04374991237064587, 0.02309023152895199, 0.03402770962161346, 0.009722202749032417, 0.014583304123548625, 0.0048611013745162085, 0.1383926322926402, 0.2767852645852804, 0.1383926322926402, 0.41517789687792056, 0.12382744319481302, 0.04127581439827101, 0.7429646591688781, 0.04127581439827101, 0.04127581439827101, 0.13688246437095383, 0.27376492874190766, 0.13688246437095383, 0.27376492874190766, 0.1477752006553474, 0.0738876003276737, 0.1477752006553474, 0.5911008026213896, 0.4744640277262862, 0.2372320138631431, 0.11861600693157155, 0.11861600693157155, 0.11861600693157155, 0.5577487937673925, 0.08324608862199888, 0.09157069748419877, 0.03329843544879955, 0.04162304431099944, 0.049947653173199325, 0.04162304431099944, 0.016649217724399774, 0.04162304431099944, 0.024973826586599662, 0.008324608862199887, 0.008324608862199887, 0.9013981967073218, 0.1200352293477713, 0.1200352293477713, 0.1200352293477713, 0.2400704586955426, 0.2400704586955426, 0.3555178451970459, 0.11850594839901529, 0.47402379359606117, 0.3264817536119634, 0.1026085511351885, 0.12126465134158641, 0.01865610020639791, 0.01865610020639791, 0.13059270144478538, 0.01865610020639791, 0.05596830061919373, 0.046640250515994776, 0.046640250515994776, 0.06529635072239269, 0.01865610020639791, 0.009328050103198956, 0.01865610020639791, 0.15728283524202843, 0.31456567048405687, 0.4718485057260853, 0.2736395080956087, 0.18242633873040584, 0.09121316936520292, 0.18242633873040584, 0.09121316936520292, 0.09121316936520292, 0.32651855999702334, 0.16325927999851167, 0.16325927999851167, 0.32651855999702334, 0.12094839401038236, 0.3628451820311471, 0.12094839401038236, 0.3628451820311471, 0.8012226482113397, 0.10015283102641746, 0.3590468185366337, 0.17952340926831686, 0.17952340926831686, 0.17952340926831686, 0.1090936461496181, 0.3272809384488543, 0.5454682307480905, 0.7259957198887201, 0.07259957198887201, 0.14519914397774403, 0.5777563642867419, 0.1083293183037641, 0.012036590922640457, 0.012036590922640457, 0.024073181845280914, 0.024073181845280914, 0.1083293183037641, 0.13240250014904503, 0.6112543152934048, 0.1528135788233512, 0.5852401219862821, 0.03442588952860483, 0.06885177905720966, 0.06885177905720966, 0.06885177905720966, 0.06885177905720966, 0.03442588952860483, 0.8480627086509347, 0.13047118594629764, 0.05192637885504264, 0.15577913656512793, 0.10385275771008529, 0.15577913656512793, 0.5192637885504264, 0.7413577600033021, 0.14827155200066042, 0.8683083404167036, 0.14471805673611726, 0.2545666857503413, 0.12728334287517065, 0.06364167143758533, 0.06364167143758533, 0.38185002862551193, 0.06364167143758533, 0.15545027254273813, 0.46635081762821445, 0.31090054508547627, 0.35075586475354176, 0.15943448397888263, 0.09566069038732958, 0.031886896795776526, 0.031886896795776526, 0.09566069038732958, 0.06377379359155305, 0.15943448397888263, 0.010256956609155097, 0.23591000201056722, 0.6974730494225466, 0.03077086982746529, 0.010256956609155097, 0.24991522112646283, 0.3748728316896942, 0.16065978500986897, 0.05355326166995632, 0.01785108722331877, 0.10710652333991263, 0.01785108722331877, 0.01785108722331877, 0.6638055094135911, 0.13276110188271822, 0.13276110188271822, 0.7588271084461684, 0.15176542168923368, 0.29826099188899097, 0.5965219837779819, 0.02033223456211282, 0.5286380986149333, 0.02033223456211282, 0.12199340737267692, 0.08132893824845128, 0.08132893824845128, 0.06099670368633846, 0.08132893824845128, 0.22620858218819262, 0.33931287328228893, 0.22620858218819262, 0.11310429109409631, 0.6570538860445797, 0.13141077720891595, 0.19896119015234798, 0.0072790679324029745, 0.7861393366995213, 0.004852711954935317, 0.02223476555320801, 0.008893906221283204, 0.004446953110641602, 0.3824379675151778, 0.06670429665962403, 0.031128671774491214, 0.15119640576181448, 0.08893906221283204, 0.031128671774491214, 0.04002257799577442, 0.07559820288090724, 0.02223476555320801, 0.06225734354898243, 0.004446953110641602, 0.7222399548205068, 0.20463465386581028, 0.00401244419344726, 0.06419910709515617, 0.16248990123706566, 0.16248990123706566, 0.16248990123706566, 0.16248990123706566, 0.16248990123706566, 0.14326684217706956, 0.15085713845135137, 0.14611320327992525, 0.11670080521708315, 0.07495417570853308, 0.0692614535028217, 0.06167115722853987, 0.06167115722853987, 0.0493369257828319, 0.045541777645690985, 0.03415633323426824, 0.025617249925701177, 0.011385444411422746, 0.005692722205711373, 0.0018975740685704577, 0.15403350040550462, 0.14003045491409513, 0.12252664804983322, 0.1750380686426189, 0.07001522745704757, 0.04901065921993329, 0.01750380686426189, 0.09802131843986658, 0.010502284118557133, 0.06651446608419519, 0.010502284118557133, 0.038508375101376155, 0.038508375101376155, 0.007001522745704756, 0.003500761372852378, 0.18799527860125162, 0.37599055720250324, 0.2736002715357501, 0.02014235127870553, 0.04196323183063652, 0.02182088055193099, 0.003357058546450922, 0.003357058546450922, 0.011749704912578226, 0.015106763459029149, 0.0050355878196763825, 0.030213526918058297, 0.008392646366127304, 0.001678529273225461, 0.7145009855399597, 0.11908349758999327, 0.11908349758999327, 0.05519433215128625, 0.05519433215128625, 0.027597166075643127, 0.309088260047203, 0.08831093144205801, 0.08279149822692938, 0.04967489893615763, 0.08279149822692938, 0.07727206501180076, 0.07727206501180076, 0.05519433215128625, 0.005519433215128626, 0.016558299645385875, 0.005519433215128626, 0.005519433215128626, 0.9081607383583379, 0.032434312084226355, 0.032434312084226355, 0.06380820409444433, 0.7018902450388876, 0.12761640818888867, 0.06380820409444433, 0.6158288806372316, 0.10263814677287195, 0.2052762935457439, 0.5015249700786325, 0.03582321214847375, 0.143292848593895, 0.28658569718779, 0.08503275125544188, 0.05668850083696126, 0.02834425041848063, 0.7086062604620157, 0.02834425041848063, 0.11337700167392252, 0.45106136002540964, 0.11276534000635241, 0.11276534000635241, 0.11276534000635241, 0.11276534000635241, 0.4544833715746574, 0.3976729501278252, 0.17043126434049652, 0.009726337920352417, 0.04863168960176209, 0.06808436544246692, 0.029179013761057252, 0.14589506880528627, 0.23343211008845802, 0.36960084097339185, 0.03890535168140967, 0.009726337920352417, 0.009726337920352417, 0.019452675840704835, 0.12187222060184774, 0.07312333236110864, 0.0487488882407391, 0.17062110884258685, 0.0487488882407391, 0.07312333236110864, 0.41436555004628234, 0.02437444412036955, 0.02437444412036955, 0.18543534702114128, 0.5563060410634239, 0.8548664536544623, 0.11150432004188639, 0.040203187978541034, 0.013401062659513678, 0.013401062659513678, 0.9112722608469301, 0.06530436707633983, 0.15237685651145957, 0.370058080099259, 0.15237685651145957, 0.02176812235877994, 0.19591310122901945, 0.04353624471755988, 0.37474345853956204, 0.49965794471941605, 0.3108709832767463, 0.4663064749151194, 0.15543549163837314, 0.2516577671043041, 0.12582888355215205, 0.2516577671043041, 0.3774866506564562, 0.3642917056430557, 0.18214585282152784, 0.3642917056430557, 0.18214585282152784, 0.17818707842544146, 0.3563741568508829, 0.3563741568508829, 0.6076936590454868, 0.1519234147613717, 0.20705924912984183, 0.10352962456492092, 0.10352962456492092, 0.31058887369476273, 0.20705924912984183, 0.35920076907126347, 0.17960038453563174, 0.35920076907126347, 0.5434106828359623, 0.32604640970157733, 0.18718901484426417, 0.5615670445327925, 0.18718901484426417, 0.12423186295569646, 0.12423186295569646, 0.7453911777341788, 0.3151697113527342, 0.1575848556763671, 0.1575848556763671, 0.3151697113527342, 0.9800328229562849, 0.08527875398594592, 0.1065984424824324, 0.27715595045432423, 0.02131968849648648, 0.04263937699297296, 0.3197953274472972, 0.08527875398594592, 0.02131968849648648, 0.02131968849648648, 0.09438402054650707, 0.519112113005789, 0.18876804109301415, 0.09438402054650707, 0.04719201027325354, 0.09816989774449696, 0.8835290797004726, 0.03787416852014611, 0.07385462861428492, 0.07764204546629953, 0.25375692908497893, 0.08332317074432144, 0.05681125278021917, 0.09657912972637259, 0.08521687917032875, 0.04355529379816803, 0.06059866963223378, 0.06059866963223378, 0.03598046009413881, 0.011362250556043833, 0.018937084260073057, 0.0018937084260073056, 0.011952401001210882, 0.10757160901089793, 0.10757160901089793, 0.29881002503027204, 0.023904802002421763, 0.011952401001210882, 0.10757160901089793, 0.023904802002421763, 0.16733361401695232, 0.023904802002421763, 0.023904802002421763, 0.011952401001210882, 0.07171440600726528, 0.5669153028943685, 0.11338306057887372, 0.02834576514471843, 0.05669153028943686, 0.02834576514471843, 0.11338306057887372, 0.02834576514471843, 0.02834576514471843, 0.8662687086165635, 0.1497554868496547, 0.7487774342482736, 0.008962490594240398, 0.04033120767408179, 0.4301995485235391, 0.026887471782721193, 0.004481245297120199, 0.022406226485600995, 0.04481245297120199, 0.32264966139265433, 0.022406226485600995, 0.04481245297120199, 0.022406226485600995, 0.18990228875882598, 0.37980457751765195, 0.37980457751765195, 0.28572262745724786, 0.14286131372862393, 0.28572262745724786, 0.14286131372862393, 0.14075437644613442, 0.2010776806373349, 0.12064660838240093, 0.060323304191200466, 0.08043107225493396, 0.22118544870106838, 0.060323304191200466, 0.04021553612746698, 0.02010776806373349, 0.02010776806373349, 0.36219051907310795, 0.12073017302436932, 0.12073017302436932, 0.36219051907310795, 0.5508502201821763, 0.27225930422797223, 0.006331611726231912, 0.047487087946739344, 0.06648192312543508, 0.018994835178695737, 0.003165805863115956, 0.02216064104181169, 0.009497417589347868, 0.8342737380996826, 0.3083885712416943, 0.4625828568625414, 0.36801039694815346, 0.5520155954222302, 0.7086958604588273, 0.21897074602903221, 0.0014795320677637312, 0.005918128271054925, 0.06066081477831298, 0.0014795320677637312, 0.10656779644386413, 0.007835867385578245, 0.8729156267534165, 0.001567173477115649, 0.003134346954231298, 0.001567173477115649, 0.001567173477115649, 0.001567173477115649, 0.055710778583441395, 0.9318893872139289, 0.005064616234858309, 0.9397151931853083, 0.16792184078239203, 0.06530293808204135, 0.01865798230915467, 0.5037655223471761, 0.11194789385492802, 0.06530293808204135, 0.01865798230915467, 0.009328991154577335, 0.027986973463732006, 0.009328991154577335, 0.07807252019363232, 0.9131090405255259, 0.001131485799907715, 0.001131485799907715, 0.0033944573997231444, 0.18023264026869765, 0.18023264026869765, 0.18023264026869765, 0.3604652805373953, 0.6590233265926847, 0.16475583164817117, 0.36269039685144144, 0.18134519842572072, 0.36269039685144144, 0.6091840975425628, 0.08580057711867081, 0.2659817890678795, 0.008580057711867081, 0.017160115423734162, 0.03182198767616496, 0.07159947227137117, 0.05568847843328869, 0.10342145994753613, 0.047732981514247444, 0.07955496919041241, 0.2704868952474022, 0.2545759014093197, 0.023866490757123722, 0.03182198767616496, 0.00795549691904124, 0.023866490757123722, 0.008898688277731446, 0.013348032416597167, 0.12458163588824024, 0.057841473805254395, 0.044493441388657226, 0.16462573313803175, 0.2714099924708091, 0.11568294761050879, 0.04894278552752295, 0.11123360347164307, 0.004449344138865723, 0.022246720694328613, 0.013348032416597167, 0.004449344138865723, 0.8676956646558359, 0.7994122865742943, 0.9538933873900625, 0.17758611511129016, 0.1331895863334676, 0.04439652877782254, 0.1331895863334676, 0.1331895863334676, 0.08879305755564508, 0.1331895863334676, 0.08879305755564508, 0.04439652877782254, 0.8575605671945006, 0.4055636196299205, 0.3686941996635641, 0.14747767986542565, 0.09863897975139085, 0.09863897975139085, 0.5918338785083451, 0.09863897975139085, 0.09863897975139085, 0.11647737990978227, 0.008959798454598636, 0.008959798454598636, 0.008959798454598636, 0.10751758145518364, 0.6092662949127073, 0.08063818609138773, 0.035839193818394545, 0.017919596909197272, 0.05061021728413917, 0.1518306518524175, 0.7085430419779484, 0.025305108642069585, 0.05901878470744523, 0.011803756941489047, 0.011803756941489047, 0.5193653054255181, 0.11803756941489046, 0.2006638680053138, 0.05901878470744523, 0.14764831635420464, 0.3691207908855116, 0.4429449490626139, 0.127440168168165, 0.76464100900899, 0.7296590838423949, 0.145931816768479, 0.06579694183030695, 0.06579694183030695, 0.7237663601333765, 0.06579694183030695, 0.09501988497813496, 0.17144892289533048, 0.1631863242015796, 0.08469163661094638, 0.0867572862843841, 0.07642903791719552, 0.07849468759063323, 0.028919095428128032, 0.07642903791719552, 0.05577254118281835, 0.022722146407814885, 0.03305039477500347, 0.016525197387501734, 0.008262598693750867, 0.3743760777249683, 0.18718803886248414, 0.18718803886248414, 0.18718803886248414, 0.07618399689664557, 0.6094719751731645, 0.015236799379329114, 0.12189439503463291, 0.09142079627597469, 0.015236799379329114, 0.030473598758658228, 0.015236799379329114, 0.015236799379329114, 0.015236799379329114, 0.39065996587128143, 0.39065996587128143, 0.1892714847334492, 0.1892714847334492, 0.3785429694668984, 0.2439552985312855, 0.2439552985312855, 0.12197764926564275, 0.12197764926564275, 0.2439552985312855, 0.9039751021634072, 0.0961736928710656, 0.6443637422361396, 0.18273001645502465, 0.00961736928710656, 0.01923473857421312, 0.00961736928710656, 0.00961736928710656, 0.01923473857421312, 0.00961736928710656, 0.04896529789894565, 0.04123393507279634, 0.02319408847844794, 0.10823907956609038, 0.14689589369683695, 0.08762211202969222, 0.13658740992863788, 0.12112468427633924, 0.0979305957978913, 0.0360796931886968, 0.051542418840995426, 0.030925451304597253, 0.04123393507279634, 0.028348330362547483, 0.002577120942049771, 0.08971910326093814, 0.05666469679638199, 0.08342302583911793, 0.20304849685370213, 0.12434752908094936, 0.09758920003821342, 0.05823871615183704, 0.0912931226163932, 0.06610881292911232, 0.05036861937456177, 0.03777646453092132, 0.01888823226546066, 0.012592154843640442, 0.006296077421820221, 0.0031480387109101104, 0.12949432641777636, 0.2091831426748695, 0.3486385711247825, 0.08964991828922979, 0.09961102032136644, 0.009961102032136643, 0.09961102032136644, 0.009961102032136643, 0.009961102032136643, 0.38201393468427397, 0.19100696734213699, 0.19100696734213699, 0.06863735134133069, 0.03633742129835154, 0.03835616692603774, 0.21802452779010922, 0.14938717644877855, 0.10901226389505461, 0.09084355324587885, 0.10699351826736841, 0.0605623688305859, 0.032299930042979146, 0.026243693159920554, 0.01816871064917577, 0.03028118441529295, 0.01211247376611718, 0.0020187456276861966, 0.16209332489008313, 0.48627997467024936, 0.16209332489008313, 0.16209332489008313, 0.16209332489008313, 0.007895017150545516, 0.642128061577702, 0.10526689534060688, 0.0026316723835151717, 0.12895194679224342, 0.04210675813624275, 0.021053379068121374, 0.0026316723835151717, 0.0026316723835151717, 0.007895017150545516, 0.007895017150545516, 0.023685051451636546, 0.0026316723835151717, 0.005263344767030343, 0.07717802977713113, 0.7717802977713113, 0.07717802977713113, 0.13628173789470951, 0.07787527879697688, 0.0973440984962211, 0.2141570166916864, 0.07787527879697688, 0.058406459097732656, 0.058406459097732656, 0.2141570166916864, 0.03893763939848844, 0.01946881969924422, 0.3452826555130632, 0.13240161978320467, 0.34268654532123566, 0.031153322301930512, 0.012980550959137714, 0.051922203836550856, 0.025961101918275428, 0.015576661150965256, 0.007788330575482628, 0.012980550959137714, 0.005192220383655085, 0.015576661150965256, 0.0025961101918275426, 0.7662182061181574, 0.16566880132284484, 0.062125800496066814, 0.07106873026706076, 0.5922394188921729, 0.01184478837784346, 0.01184478837784346, 0.1184478837784346, 0.03553436513353038, 0.09475830702274768, 0.01184478837784346, 0.04737915351137384, 0.23518803816466044, 0.09062291378821778, 0.09062291378821778, 0.1682996970352616, 0.07551909482351482, 0.07767678324704382, 0.06473065270586985, 0.07336140639998583, 0.025892261082347937, 0.023734572658818943, 0.032365326352934924, 0.01726150738823196, 0.010788442117644974, 0.010788442117644974, 0.002157688423528995, 0.18371614200743297, 0.18371614200743297, 0.18371614200743297, 0.36743228401486594, 0.2409705325321695, 0.32579215998349315, 0.15807666934110318, 0.021205406862830914, 0.10602703431415457, 0.06361622058849274, 0.019277642602573558, 0.025060935383345626, 0.021205406862830914, 0.0038555285205147116, 0.0038555285205147116, 0.0038555285205147116, 0.0038555285205147116, 0.11812066021300387, 0.11812066021300387, 0.11812066021300387, 0.3543619806390116, 0.11812066021300387, 0.11812066021300387, 0.3829599740491195, 0.3829599740491195, 0.14057193429952886, 0.14057193429952886, 0.14057193429952886, 0.4217158028985866, 0.2593920957753784, 0.6052482234758829, 0.04607404336100057, 0.030716028907333714, 0.06143205781466743, 0.19965418789766914, 0.107506101175668, 0.15358014453666857, 0.08446907949516771, 0.08446907949516771, 0.11518510840250143, 0.007679007226833429, 0.015358014453666857, 0.07679007226833429, 0.015358014453666857, 0.2873850658487065, 0.15243903492844432, 0.054978012597143855, 0.07497001717792344, 0.09746102233130047, 0.06997201603272854, 0.059976013742338755, 0.054978012597143855, 0.017493004008182135, 0.02499000572597448, 0.057477013169741305, 0.02249100515337703, 0.004998001145194896, 0.01249500286298724, 0.002499000572597448, 0.4408690372907809, 0.10956508619060829, 0.15130416664417334, 0.05217385056695632, 0.057391235623651955, 0.05478254309530414, 0.02086954022678253, 0.02608692528347816, 0.015652155170086897, 0.028695617811825978, 0.015652155170086897, 0.007826077585043448, 0.010434770113391265, 0.007826077585043448, 0.002608692528347816, 0.27790420266509314, 0.0956229514546557, 0.10608171177000866, 0.14044620994902557, 0.06125845327563881, 0.046317367110848856, 0.03884682402845388, 0.0956229514546557, 0.05229380157676484, 0.031376280946058904, 0.023905737863663925, 0.022411629247184928, 0.0014941086164789953, 0.004482325849436986, 0.0014941086164789953, 0.39782823559515507, 0.4773938827141861, 0.5566315193370275, 0.39428065953039443, 0.0386549666206269, 0.5532456865369897, 0.18441522884566325, 0.18441522884566325, 0.023253899228348453, 0.5348396822520145, 0.09301559691339381, 0.16277729459843918, 0.046507798456696905, 0.023253899228348453, 0.023253899228348453, 0.023253899228348453, 0.023253899228348453, 0.023253899228348453, 0.7738611049556734, 0.08598456721729704, 0.04887702713810922, 0.01955081085524369, 0.3030375682562772, 0.0879786488485966, 0.09775405427621844, 0.14663108141432768, 0.03910162171048738, 0.06842783799335292, 0.15640648684194952, 0.009775405427621845, 0.01955081085524369, 0.009775405427621845, 0.11797002223489295, 0.1545814084457218, 0.10576622683128332, 0.14644554484331537, 0.09356243142767372, 0.06508690881925128, 0.08542656782526731, 0.04474724981323525, 0.028475522608422434, 0.05288311341564166, 0.028475522608422434, 0.028475522608422434, 0.04881518161443846, 0.004067931801203205, 0.034452675591361795, 0.06890535118272359, 0.24116872913953258, 0.10335802677408538, 0.10335802677408538, 0.172263377956809, 0.10335802677408538, 0.034452675591361795, 0.034452675591361795, 0.06890535118272359, 0.034452675591361795, 0.21221787779818832, 0.18190103811273284, 0.2425347174836438, 0.09095051905636642, 0.030316839685455475, 0.09095051905636642, 0.030316839685455475, 0.030316839685455475, 0.06063367937091095, 0.1724901526597968, 0.5174704579793904, 0.8399751849854087, 0.16799503699708174, 0.2983451314003588, 0.5966902628007176, 0.10453537024408792, 0.20907074048817584, 0.6272122214645275, 0.9255469627475773, 0.2280572391136036, 0.7601907970453453, 0.13783431182876357, 0.13783431182876357, 0.13783431182876357, 0.41350293548629075, 0.3923968462500095, 0.10326232796052881, 0.020652465592105762, 0.08260986236842305, 0.20652465592105762, 0.14456725914474033, 0.020652465592105762, 0.020652465592105762, 0.17349824143169698, 0.6939929657267879, 0.8570671866450129, 0.2957898144060515, 0.3479880169482959, 0.3392883165245885, 0.032814217546899026, 0.8900856509596361, 0.008203554386724756, 0.012305331580087134, 0.016407108773449513, 0.004101777193362378, 0.008203554386724756, 0.016407108773449513, 0.004101777193362378, 0.0063660192279495435, 0.19734659606643587, 0.08275824996334406, 0.038196115367697264, 0.28647086525772947, 0.1018563076471927, 0.12732038455899086, 0.057294173051545896, 0.05092815382359635, 0.0063660192279495435, 0.044562134595646806, 0.16016617581963696, 0.3203323516392739, 0.3203323516392739, 0.16016617581963696, 0.4878678567066214, 0.16262261890220714, 0.16262261890220714, 0.7495677850464847, 0.12492796417441412, 0.8255880435116785, 0.5551165989723357, 0.42942982184652384, 0.11716643692330013, 0.6092654720011607, 0.07029986215398007, 0.0937331495386401, 0.11716643692330013, 0.16347152492565847, 0.16347152492565847, 0.6538860997026339, 0.31529239663194647, 0.31529239663194647, 0.31529239663194647, 0.8343727684143459, 0.895260952628783, 0.11190761907859788, 0.0638135005513082, 0.8933890077183148, 0.10141954671960647, 0.15212932007940969, 0.3549684135186226, 0.016903257786601077, 0.10141954671960647, 0.27045212458561724, 0.07337263835562104, 0.04891509223708069, 0.46469337625226653, 0.26903300730394375, 0.024457546118540344, 0.024457546118540344, 0.024457546118540344, 0.024457546118540344, 0.024457546118540344, 0.10077208268190585, 0.5588270039632961, 0.01832219685125561, 0.009161098425627805, 0.1557386732356727, 0.009161098425627805, 0.08244988583065024, 0.009161098425627805, 0.06412768897939464, 0.14831329663744325, 0.7415664831872162, 0.08384042031332947, 0.041920210156664736, 0.041920210156664736, 0.08384042031332947, 0.12576063046999422, 0.08384042031332947, 0.4611223117233121, 0.08384042031332947, 0.45521936580855815, 0.45521936580855815, 0.04511641774430936, 0.018046567097723745, 0.013534925323292809, 0.11730268613520434, 0.09925611903748059, 0.2255820887215468, 0.03609313419544749, 0.212047163398254, 0.018046567097723745, 0.15339582033065183, 0.013534925323292809, 0.009023283548861873, 0.013534925323292809, 0.013534925323292809, 0.013534925323292809, 0.18031187255962033, 0.786815443896525, 0.27536203911803037, 0.3097822940077842, 0.034420254889753796, 0.034420254889753796, 0.034420254889753796, 0.06884050977950759, 0.27536203911803037, 0.18299905071808042, 0.20078033499837974, 0.1504000295375317, 0.06001183444601019, 0.09038819509152152, 0.09038819509152152, 0.04815764492581064, 0.030376360645511327, 0.029635473800498857, 0.03185813433553627, 0.0363034554056111, 0.022226605350374143, 0.012595076365212014, 0.011854189520199543, 0.0029635473800498856, 0.06670766533425437, 0.10181696287859877, 0.09830603312416433, 0.14043719017737763, 0.08426231410642658, 0.11586068189633654, 0.11586068189633654, 0.09128417361529545, 0.03862022729877885, 0.03510929754434441, 0.024576508281041083, 0.05968580582538549, 0.007021859508868881, 0.014043719017737762, 0.10224701287085941, 0.8179761029668753, 0.004649637370481031, 0.018598549481924125, 0.7625405287588891, 0.013948912111443093, 0.13948912111443093, 0.027897824222886187, 0.004649637370481031, 0.013948912111443093, 0.004649637370481031, 0.7460564684541205, 0.2131589909868916, 0.05201057569662765, 0.05201057569662765, 0.2080423027865106, 0.15603172708988294, 0.3120634541797659, 0.2080423027865106, 0.058022500698041574, 0.058022500698041574, 0.2320900027921663, 0.6382475076784573, 0.08257487888536584, 0.24772463665609754, 0.08257487888536584, 0.16514975777073168, 0.33029951554146336, 0.22542795163793064, 0.2676203490033187, 0.16876958946155235, 0.08197380059561114, 0.04460339150055312, 0.037370409095058024, 0.04942537977088319, 0.016876958946155235, 0.01808245601373775, 0.03857590616264054, 0.01928795308132027, 0.016876958946155235, 0.007232982405495101, 0.0024109941351650338, 0.0036164912027475504, 0.9119077671078937, 0.0981597743993342, 0.0981597743993342, 0.6871184207953394, 0.8565908011738489, 0.10182136761574717, 0.04823117413377498, 0.01607705804459166, 0.23579685132067765, 0.1393345030531277, 0.04287215478557776, 0.09646234826754996, 0.09110332891935273, 0.09646234826754996, 0.01071803869639444, 0.02143607739278888, 0.01607705804459166, 0.07502627087476108, 0.00535901934819722, 0.00535901934819722, 0.13984759999772559, 0.16713493658264764, 0.09550567804722722, 0.13473122438805268, 0.0818620097547662, 0.0648074243891899, 0.06310196585263227, 0.04945829756017124, 0.0528692146332865, 0.0528692146332865, 0.0409310048773831, 0.028992795121479693, 0.011938209755903402, 0.010232751219345774, 0.006821834146230516, 0.011804612534169319, 0.029511531335423297, 0.05312075640376193, 0.24199455695047103, 0.08853459400626988, 0.11804612534169319, 0.21838533188213238, 0.05312075640376193, 0.01770691880125398, 0.029511531335423297, 0.05312075640376193, 0.023609225068338638, 0.03541383760250796, 0.01770691880125398, 0.0059023062670846595, 0.10918374644707846, 0.47312956793733996, 0.03639458214902615, 0.3639458214902615, 0.07756703406716581, 0.05776268494363412, 0.03795833582010242, 0.13532971901079993, 0.12872826930295603, 0.10727355775246336, 0.07096558435932192, 0.130378631729917, 0.09242029590981458, 0.05281159766275119, 0.04125906067402437, 0.023105073977453646, 0.009902174561765849, 0.0330072485392195, 0.0033007248539219493, 0.04912441019500115, 0.024562205097500574, 0.04912441019500115, 0.8596771784125201, 0.5416735600022152, 0.18055785333407173, 0.18055785333407173, 0.43987657238136174, 0.11801566576085315, 0.2324550992259229, 0.025033626070484004, 0.03218609066205086, 0.03218609066205086, 0.007152464591566858, 0.03576232295783429, 0.025033626070484004, 0.03576232295783429, 0.003576232295783429, 0.003576232295783429, 0.003576232295783429, 0.1486153278362375, 0.7430766391811875, 0.3352089321551387, 0.6195715656125877, 0.003766392496125154, 0.028247943720938654, 0.001883196248062577, 0.001883196248062577, 0.001883196248062577, 0.009415981240312885, 0.11585627018002101, 0.11585627018002101, 0.695137621080126, 0.08525238340682835, 0.9012394817293283, 0.18236566076858987, 0.36473132153717974, 0.18236566076858987, 0.39767919672639723, 0.5302389289685296, 0.2614368518363152, 0.1693816223164859, 0.12335400755657126, 0.13255953050855418, 0.06443866066388051, 0.042345405579121476, 0.036822091807931716, 0.02761656885594879, 0.05891534689269075, 0.018411045903965858, 0.012887732132776102, 0.022093255084759032, 0.020252150494362447, 0.0036822091807931718, 0.0018411045903965859, 0.9334820610067911, 0.7798661666457215, 0.11140945237796021, 0.07874437765408102, 0.08366590125746108, 0.08858742486084115, 0.1722533261183022, 0.11565580467943148, 0.07874437765408102, 0.061519045042250795, 0.12303809008450159, 0.0541367596371807, 0.0541367596371807, 0.03937218882704051, 0.024607618016900316, 0.01722533261183022, 0.0049215236033800635, 0.0024607618016900317, 0.17505563268636604, 0.7002225307454641, 0.13976835808988275, 0.1783251465284711, 0.12048996387058858, 0.15904675230917692, 0.059441715509490366, 0.07711357687717668, 0.06104824836109821, 0.07068744547074529, 0.0337371898837648, 0.02570452562572556, 0.024097992774117713, 0.030524124180549107, 0.004819598554823543, 0.009639197109647085, 0.004819598554823543, 0.2522128616452923, 0.04177759057928154, 0.06498736312332684, 0.1005756810241963, 0.06808199946253288, 0.12378545356824161, 0.06344004495372382, 0.09438640834578423, 0.04951418142729664, 0.0541561359361057, 0.03713563607047248, 0.030946363392060403, 0.00464195450880906, 0.007736590848015101, 0.00464195450880906, 0.01470171764439581, 0.1470171764439581, 0.1617188940883539, 0.04410515293318743, 0.4557532469762701, 0.05880687057758324, 0.02940343528879162, 0.04410515293318743, 0.02940343528879162, 0.01470171764439581, 0.20614832900369043, 0.7294479333976739, 0.015857563769514648, 0.031715127539029296, 0.05536847995479128, 0.05536847995479128, 0.11073695990958256, 0.738246399397217, 0.12088168628394175, 0.8461718039875923, 0.18739082290315395, 0.18739082290315395, 0.09369541145157698, 0.09369541145157698, 0.09369541145157698, 0.09369541145157698, 0.09369541145157698, 0.07810846046238053, 0.05727953767241239, 0.07810846046238053, 0.302019380454538, 0.07810846046238053, 0.06769399906739645, 0.12497353673980884, 0.05207230697492035, 0.015621692092476104, 0.06248676836990442, 0.026036153487460176, 0.02082892278996814, 0.026036153487460176, 0.005207230697492035, 0.005207230697492035, 0.10891641048927478, 0.879111027520575, 0.2355949808958242, 0.2355949808958242, 0.15706332059721614, 0.07853166029860807, 0.052354440199072046, 0.052354440199072046, 0.052354440199072046, 0.10470888039814409, 0.021941528315179704, 0.5485382078794926, 0.021941528315179704, 0.06582458494553911, 0.021941528315179704, 0.08776611326071881, 0.13164916989107822, 0.021941528315179704, 0.021941528315179704, 0.021941528315179704, 0.07721294650946182, 0.23163883952838546, 0.07721294650946182, 0.5404906255662327, 0.17555490020341374, 0.2184229572298287, 0.12452149898149115, 0.04490939307529189, 0.12860417107924496, 0.06940542566181473, 0.04490939307529189, 0.053074737270799505, 0.006124008146630712, 0.026537368635399752, 0.04286805702641498, 0.04286805702641498, 0.012248016293261424, 0.012248016293261424, 0.002041336048876904, 0.18824633565336316, 0.18824633565336316, 0.3764926713067263, 0.031919062649236274, 0.22343343854465392, 0.2553525011938902, 0.031919062649236274, 0.1276762505969451, 0.2553525011938902, 0.06383812529847255, 0.10737008230704632, 0.16105512346056947, 0.08169462784231785, 0.12137487565144367, 0.07002396672198673, 0.06535570227385427, 0.07469223117011918, 0.07469223117011918, 0.06302157004978806, 0.06302157004978806, 0.05368504115352316, 0.035011983360993364, 0.014004793344397345, 0.014004793344397345, 0.0023341322240662244, 0.21995627821612224, 0.08181300592185034, 0.13948446911266288, 0.124731304110362, 0.05633026637242155, 0.0764482186482864, 0.09522497410576024, 0.05767146319081254, 0.01877675545747385, 0.028165133186210774, 0.030847526822992754, 0.05096547909885759, 0.006705984091954946, 0.009388377728736925, 0.0026823936367819786, 0.02043995211391355, 0.006813317371304517, 0.42923899439218455, 0.5382520723330568, 0.07827755410684309, 0.9001918722286956, 0.027555683786825474, 0.027555683786825474, 0.8542261973915897, 0.08266705136047642, 0.6216969207810998, 0.2072323069270333, 0.10361615346351664, 0.023246479475844795, 0.09298591790337918, 0.6276549458478095, 0.09298591790337918, 0.06973943842753438, 0.023246479475844795, 0.04649295895168959, 0.844435125127752, 0.15957649790840292, 0.15957649790840292, 0.47872949372520873, 0.15957649790840292, 0.8086515040610358, 0.8833090109467858, 0.7418903389710363, 0.05495483992378046, 0.05495483992378046, 0.05495483992378046, 0.02747741996189023, 0.05495483992378046, 0.04641613596106377, 0.04641613596106377, 0.6962420394159565, 0.18566454384425507, 0.1304363277555641, 0.6521816387778205, 0.1304363277555641, 0.23843736960169218, 0.059609342400423045, 0.11921868480084609, 0.29804671200211524, 0.059609342400423045, 0.11921868480084609, 0.059609342400423045, 0.405845717084477, 0.023873277475557467, 0.19098621980445973, 0.22679613601779594, 0.09549310990222987, 0.0358099162133362, 0.1591559233346002, 0.3183118466692004, 0.1591559233346002, 0.3183118466692004, 0.7518366631583988, 0.12530611052639978, 0.17365358703889003, 0.6946143481555601, 0.7726660669269978, 0.15453321338539955, 0.07635940337615127, 0.2290782101284538, 0.15271880675230254, 0.4581564202569076, 0.07635940337615127, 0.8435462355446085, 0.32709595426147886, 0.16354797713073943, 0.16354797713073943, 0.32709595426147886, 0.3221825437714747, 0.3221825437714747, 0.3221825437714747, 0.7242568779602756, 0.1810642194900689, 0.05623968543371587, 0.9138948882978829, 0.014059921358428968, 0.6324376346035918, 0.3373000717885823, 0.6695443720567954, 0.13390887441135907, 0.13390887441135907, 0.7471386029668701, 0.149427720593374, 0.028750902034094885, 0.3226490117159537, 0.28644417211746387, 0.023426660916669905, 0.03833453604545985, 0.1746351086515393, 0.011713330458334953, 0.07879876853788968, 0.015972723352274936, 0.0031945446704549872, 0.0010648482234849957, 0.009583634011364962, 0.004259392893939983, 0.1516200297363246, 0.4043200792968656, 0.1010800198242164, 0.2021600396484328, 0.0505400099121082, 0.0505400099121082, 0.856855912341326, 0.05535789723956647, 0.027678948619783234, 0.06919737154945808, 0.6366158182550143, 0.05535789723956647, 0.09687632016924132, 0.013839474309891617, 0.027678948619783234, 0.09369723100099091, 0.09369723100099091, 0.18739446200198182, 0.09369723100099091, 0.09369723100099091, 0.21862687233564543, 0.06246482066732727, 0.031232410333663634, 0.031232410333663634, 0.06246482066732727, 0.920935623233367, 0.531560730247261, 0.32608347317689124, 0.013400690678502379, 0.1206062161065214, 0.83477948829763, 0.22585819687447195, 0.08774347216706105, 0.08774347216706105, 0.03249758228409668, 0.1332400873647964, 0.03249758228409668, 0.04224685696932569, 0.18361133990514625, 0.004874637342614502, 0.009749274685229004, 0.09749274685229005, 0.03899709874091602, 0.01624879114204834, 0.00812439557102417, 0.5861702062212222, 0.11723404124424443, 0.3517021237327333, 0.14101732720041354, 0.7050866360020677, 0.2646834134062714, 0.17645560893751425, 0.2646834134062714, 0.17645560893751425, 0.9369824633935387, 0.6830526146380405, 0.13661052292760809, 0.045536840975869367, 0.09107368195173873, 0.7045147732836611, 0.17612869332091527, 0.0410198639155224, 0.9161102941133336, 0.0273465759436816, 0.15134230784675148, 0.12365773933819939, 0.09043625712793686, 0.11812082563648896, 0.09412753292907713, 0.0830537055256563, 0.08120806762508616, 0.07567115392337574, 0.05167786121596392, 0.04060403381254308, 0.02214765480684168, 0.03875839591197294, 0.01291946530399098, 0.01291946530399098, 0.00369127580114028, 0.07028606403706848, 0.9212494822001476, 0.17637552829550868, 0.20983807911837196, 0.1631299352614586, 0.05298237213620023, 0.10317619837049519, 0.09062774181192144, 0.03137114139643435, 0.04670814385691336, 0.027885459019052754, 0.020914094264289564, 0.03555396024929226, 0.027188322543576435, 0.0069713647547631884, 0.004879955328334231, 0.0020914094264289566, 0.01911535640164904, 0.01911535640164904, 0.10513446020906973, 0.08601910380742069, 0.03823071280329808, 0.4492108754387525, 0.12424981661071877, 0.05734606920494712, 0.05734606920494712, 0.01911535640164904, 0.01911535640164904, 0.05666602210133042, 0.11333204420266084, 0.16999806630399125, 0.5666602210133042, 0.05666602210133042, 0.10365681619004181, 0.10365681619004181, 0.4373021933017389, 0.0939389896722254, 0.06802478562471495, 0.03563203056532688, 0.0469694948361127, 0.00971782651781642, 0.006478551011877613, 0.01943565303563284, 0.021055290788602243, 0.02753384180047986, 0.01781601528266344, 0.00485891325890821, 0.0032392755059388067, 0.05449239700872938, 0.8718783521396701, 0.05449239700872938, 0.037941858374215244, 0.3604476545550448, 0.07588371674843049, 0.07588371674843049, 0.07588371674843049, 0.15176743349686098, 0.0948546459355381, 0.018970929187107622, 0.0948546459355381, 0.05944829847812373, 0.03963219898541582, 0.01981609949270791, 0.17834489543437118, 0.01981609949270791, 0.09908049746353954, 0.31705759188332655, 0.05944829847812373, 0.03963219898541582, 0.01981609949270791, 0.01981609949270791, 0.03963219898541582, 0.03963219898541582, 0.01981609949270791, 0.01981609949270791, 0.2930565628820458, 0.2930565628820458, 0.1465282814410229, 0.1465282814410229, 0.1087905163782693, 0.11254191349476134, 0.07877933944633293, 0.1950726500575863, 0.06002235386387272, 0.06752514809685681, 0.08628213367931703, 0.07127654521334885, 0.10503911926177725, 0.04126536828141249, 0.018756985582460223, 0.018756985582460223, 0.04126536828141249, 0.9147742770331313, 0.04313004966621447, 0.04313004966621447, 0.021565024833107235, 0.08626009933242894, 0.04313004966621447, 0.4313004966621447, 0.04313004966621447, 0.2372152731641796, 0.021565024833107235, 0.021565024833107235, 0.22394427603916559, 0.0746480920130552, 0.11757074492056194, 0.1492961840261104, 0.08584530581501348, 0.10450732881827728, 0.04292265290750674, 0.07838049661370795, 0.02985923680522208, 0.03919024830685398, 0.01679582070293742, 0.01492961840261104, 0.01119721380195828, 0.01119721380195828, 0.025656391907601668, 0.61575340578244, 0.051312783815203336, 0.25656391907601667, 0.051312783815203336, 0.11306973039228661, 0.1609069240197925, 0.13698832720603957, 0.08697671568637433, 0.10654647671580854, 0.10654647671580854, 0.058709283088302665, 0.06088370098046202, 0.03696510416670909, 0.05436044730398395, 0.03261626838239037, 0.015220925245115506, 0.006523253676478074, 0.02391859681375294, 0.15943257279114964, 0.15943257279114964, 0.15943257279114964, 0.3188651455822993, 0.18473676790228064, 0.08287256877859318, 0.06388093843349892, 0.13812094796432198, 0.06906047398216099, 0.10359071097324148, 0.07596652138037709, 0.1260353650174438, 0.031077213291972446, 0.043162796238850616, 0.034530236991080494, 0.02589767774331037, 0.010359071097324148, 0.006906047398216098, 0.0017265118495540246, 0.07566640306163988, 0.016449218056878233, 0.01973906166825388, 0.2533179580759248, 0.12501405723227457, 0.06908671583888858, 0.16120233695740668, 0.06250702861613729, 0.05921718500476164, 0.05921718500476164, 0.04276796694788341, 0.02960859250238082, 0.01973906166825388, 0.003289843611375647, 0.06743998662245491, 0.13487997324490983, 0.05076942813151101, 0.1432152524903818, 0.14473075780774033, 0.09093031904151225, 0.15079277907717448, 0.052284933448869544, 0.046222912179435395, 0.04243414888603905, 0.032583364323208554, 0.015155053173585375, 0.014397300514906106, 0.011366289880189031, 0.0015155053173585376, 0.08398794340728842, 0.07348945048137737, 0.09973568279615501, 0.12598191511093265, 0.08398794340728842, 0.06299095755546633, 0.1732251332775324, 0.04199397170364421, 0.04199397170364421, 0.07348945048137737, 0.052492464629555265, 0.020996985851822105, 0.052492464629555265, 0.005249246462955526, 0.005249246462955526, 0.3988247527659842, 0.1329415842553281, 0.2658831685106562, 0.19612340909490997, 0.21395280992171994, 0.053488202480429986, 0.07131760330723999, 0.08914700413404998, 0.08914700413404998, 0.053488202480429986, 0.10697640496085997, 0.017829400826809998, 0.017829400826809998, 0.08914700413404998, 0.1323418924873908, 0.17082015197711678, 0.0915316172710148, 0.10085968017761503, 0.13409090428237835, 0.05713438530292644, 0.07345849538947684, 0.04605731060133866, 0.06821146000451421, 0.03906126342138848, 0.04022727128471351, 0.02040513760818801, 0.013992094359900351, 0.008745058974937719, 0.0029150196583125733, 0.05185161330532473, 0.9229587168347803, 0.010370322661064947, 0.07481103525048186, 0.19722909293308852, 0.31284614741110595, 0.2516371185698026, 0.06120902884130334, 0.013602006409178519, 0.0340050160229463, 0.027204012818357038, 0.013602006409178519, 0.0068010032045892595, 0.6515609240650079, 0.16289023101625197, 0.08144511550812598, 0.16230097498099308, 0.11211580508555442, 0.10891249636882429, 0.14628443139734243, 0.09396372235741704, 0.10677695722433754, 0.06299840476235916, 0.061930635190115775, 0.03737193502851814, 0.05018516989543865, 0.020287621872624135, 0.01174546529467713, 0.019219852300380758, 0.005338847861216877, 0.002135539144486751, 0.06846218040793804, 0.9242394355071636, 0.12517556924901724, 0.15490476694565883, 0.09231698232115022, 0.14395190463636984, 0.11891679078656639, 0.0813641200118612, 0.04381144923715603, 0.06571717385573406, 0.046940838468381464, 0.03755267077470517, 0.03911736539031789, 0.018776335387352586, 0.010952862309289008, 0.014082251540514441, 0.003129389231225431, 0.08748638411570883, 0.10326261731690223, 0.11760464749980531, 0.1807095803045789, 0.09465739920716038, 0.0989600082620313, 0.06740754185964451, 0.07457855695109605, 0.05880232374990266, 0.030118263384096483, 0.038723481493838335, 0.020078842256064322, 0.012907827164612778, 0.01147362414632247, 0.0028684060365806174, 0.04305574877523704, 0.16684102650404353, 0.09418445044583103, 0.16684102650404353, 0.08072952895356945, 0.07534756035666482, 0.12109429343035417, 0.06189263886440324, 0.04574673307368936, 0.02690984298452315, 0.04036476447678473, 0.034982795879880096, 0.02152787438761852, 0.018836890089166204, 0.23296930052495382, 0.07987518875141274, 0.1397815803149723, 0.15975037750282547, 0.05325012583427516, 0.05325012583427516, 0.09318772020998153, 0.03993759437570637, 0.019968797187853184, 0.03328132864642198, 0.02662506291713758, 0.01331253145856879, 0.04659386010499077, 0.006656265729284395, 0.3976483315057198, 0.3976483315057198, 0.252355003791652, 0.10411849806788438, 0.15353066664247358, 0.0741182528618838, 0.05470632949329519, 0.10235377776164906, 0.06882409194317782, 0.06000049041200117, 0.02294136398105927, 0.033529685818471246, 0.030000245206000586, 0.014117762449882628, 0.005294160918705985, 0.02117664367482394, 0.005294160918705985, 0.21887182560084276, 0.10943591280042138, 0.4924616076018962, 0.05471795640021069, 0.03647863760014046, 0.07295727520028092, 0.9093037108017162, 0.9737463525593287, 0.9530839217892187, 0.21918490090160958, 0.21644508964033946, 0.041097168919051796, 0.2630218810819315, 0.0027398112612701197, 0.04931660270286215, 0.03561754639651155, 0.06301565900921276, 0.09041377162191395, 0.008219433783810359, 0.0027398112612701197, 0.008219433783810359, 0.15805572104466478, 0.6322228841786591, 0.15805572104466478, 0.3224866368486529, 0.16124331842432646, 0.3224866368486529, 0.16124331842432646, 0.2177074883339362, 0.7708021884255578, 0.005883986171187464, 0.5636868491550505, 0.30746555408457305, 0.102488518028191, 0.06766568249898292, 0.10149852374847437, 0.17762241655983016, 0.07612389281135579, 0.07612389281135579, 0.01691642062474573, 0.1945388371845759, 0.03383284124949146, 0.025374630937118593, 0.050749261874237186, 0.008458210312372864, 0.15224778562271157, 0.01691642062474573, 0.002509062093478698, 0.26846964400222073, 0.04516311768261657, 0.005018124186957396, 0.04265405558913787, 0.030108745121744378, 0.22330652631960413, 0.08781717327175444, 0.23585183678699764, 0.01254531046739349, 0.04014499349565917, 0.002509062093478698, 0.08322260947771486, 0.016644521895542972, 0.04161130473885743, 0.11651165326880081, 0.1664452189554297, 0.4161130473885743, 0.04993356568662891, 0.09154487042548634, 0.008322260947771486, 0.18448931960985013, 0.5534679588295504, 0.318126554999526, 0.159063277499763, 0.318126554999526, 0.369502678497035, 0.369502678497035, 0.12191912687049618, 0.18287869030574427, 0.015239890858812022, 0.4114770531879246, 0.030479781717624044, 0.04571967257643607, 0.09143934515287214, 0.09143934515287214, 0.2735028872799443, 0.163662370300047, 0.13180862037587676, 0.07139633603693325, 0.048329827471154815, 0.10325008596110347, 0.05492025848994866, 0.03185374992417022, 0.04393620679195893, 0.02526331890537638, 0.02746012924497433, 0.009885646528190758, 0.002196810339597946, 0.007688836188592812, 0.002196810339597946, 0.7823349197302082, 0.11176213139002973, 0.9803944917953115, 0.35552608511206035, 0.17776304255603018, 0.4147804326307371, 0.13016956237077174, 0.13016956237077174, 0.6508478118538586, 0.811982509955907, 0.1623965019911814, 0.7291707510127996, 0.19169845296896698, 0.0017915743268127756, 0.008957871634063877, 0.06270510143844714, 0.0017915743268127756, 0.72521718749503, 0.13813660714191048, 0.03453415178547762, 0.06906830357095524, 0.07432544887425872, 0.07432544887425872, 0.14865089774851745, 0.6689290398683285, 0.006802786860952595, 0.2789142612990564, 0.1292529503580993, 0.07483065547047854, 0.06122508174857335, 0.006802786860952595, 0.3605477036304875, 0.02721114744381038, 0.04761950802666816, 0.006802786860952595, 0.032953695342064236, 0.5107822778019957, 0.4448748871178672, 0.05239058247768126, 0.04365881873140105, 0.0873176374628021, 0.36673407734376884, 0.4278564235677303, 0.00873176374628021, 0.12453633944740132, 0.37360901834220395, 0.12453633944740132, 0.24907267889480264, 0.17032250735385837, 0.6812900294154335, 0.12248106681891292, 0.8573674677323904, 0.7209061105358353, 0.14418122210716705, 0.28859709640970127, 0.6269523128900406, 0.06966136809889341, 0.8953494667299283, 0.11191868334124104, 0.04137242520266079, 0.28960697641862554, 0.6205863780399119, 0.30588382558505983, 0.12060562265925218, 0.06642048784132729, 0.1013786393367627, 0.06467258026655551, 0.0891432863133603, 0.048941412093609575, 0.06117676511701197, 0.0297144287711201, 0.03845396664497895, 0.03146233634589187, 0.02272279847203302, 0.006991630299087083, 0.012235353023402394, 0.0034958151495435414, 0.17818888779236863, 0.17818888779236863, 0.35637777558473727, 0.10056879825679156, 0.3860544191147805, 0.2141142156434917, 0.056448293215102356, 0.09472931964833269, 0.05190647651963435, 0.02141142156434917, 0.0019464928694862883, 0.007785971477945153, 0.012976619129908587, 0.008434802434440582, 0.028548562085798892, 0.009083633390936012, 0.0025953238259817176, 0.003244154782477147, 0.04932152302832817, 0.8384658914815789, 0.04932152302832817, 0.8327374677642302, 0.03874929927441752, 0.03874929927441752, 0.03874929927441752, 0.6974873869395153, 0.03874929927441752, 0.11624789782325255, 0.03874929927441752, 0.21798902606527926, 0.1534642743499566, 0.11509820576246745, 0.10289082030281181, 0.047085629630100316, 0.04534171742157808, 0.054061278464189254, 0.08545169821758947, 0.06103692729827819, 0.036622156378966916, 0.02964650754487798, 0.015695209876700107, 0.012207385459655638, 0.019183034293744575, 0.003487824417044468, 0.1902143557975507, 0.1902143557975507, 0.3804287115951014, 0.853793237937016, 0.014091269917478545, 0.01056845243810891, 0.04227380975243564, 0.07045634958739272, 0.232505953638396, 0.503762899549858, 0.01761408739684818, 0.09159325446361054, 0.007045634958739272, 0.003522817479369636, 0.003522817479369636, 0.4146402184629981, 0.04012647275448369, 0.10700392734528984, 0.10700392734528984, 0.05350196367264492, 0.20063236377241844, 0.01337549091816123, 0.01337549091816123, 0.01337549091816123, 0.01337549091816123, 0.04601785168770033, 0.39115173934545283, 0.09203570337540067, 0.09203570337540067, 0.0690267775315505, 0.0690267775315505, 0.11504462921925084, 0.023008925843850166, 0.04601785168770033, 0.04601785168770033, 0.1759447036431313, 0.14075576291450503, 0.5982119923866464, 0.03518894072862626, 0.30577766868751793, 0.4586665030312769, 0.15955442967251993, 0.18095807267737016, 0.17901228694965649, 0.17512071549422917, 0.07199407192540533, 0.060319357559123384, 0.019457857277136576, 0.036969928826559494, 0.036969928826559494, 0.029186785915704862, 0.013620500093995604, 0.019457857277136576, 0.0019457857277136576, 0.01556628582170926, 0.0019457857277136576, 0.16916825859654494, 0.14500136451132425, 0.024166894085220707, 0.09666757634088283, 0.07250068225566213, 0.3866703053635313, 0.07250068225566213, 0.32296380359838756, 0.08111649020610665, 0.2824055584953342, 0.022532358390585178, 0.07961433298006763, 0.06158844626759949, 0.022532358390585178, 0.01802588671246814, 0.012017257808312096, 0.021030201164546167, 0.022532358390585178, 0.024034515616624192, 0.019528043938507156, 0.003004314452078024, 0.001502157226039012, 0.09617611398206373, 0.09617611398206373, 0.09617611398206373, 0.09617611398206373, 0.48088056991031863, 0.21795997761044392, 0.10897998880522196, 0.32693996641566586, 0.21795997761044392, 0.5168741171151242, 0.17229137237170808, 0.25393460114902355, 0.25393460114902355, 0.12696730057451178, 0.12696730057451178, 0.12696730057451178, 0.7125524912403671, 0.11875874854006119, 0.11875874854006119, 0.6527074074862327, 0.16317685187155817, 0.08158842593577909, 0.08158842593577909, 0.08232893932095212, 0.02744297977365071, 0.08232893932095212, 0.6037455550203156, 0.02744297977365071, 0.10977191909460284, 0.02744297977365071, 0.02744297977365071, 0.02744297977365071, 0.08646069939081125, 0.10877313794327867, 0.10598408312422024, 0.18686667287691464, 0.10040597348610339, 0.09482786384798653, 0.06693731565740225, 0.11435124758139552, 0.01952338373340899, 0.016734328914350564, 0.04462487710493484, 0.02789054819058427, 0.008367164457175282, 0.008367164457175282, 0.008367164457175282, 0.556115679657076, 0.1853718932190253, 0.1853718932190253, 0.06864487375093663, 0.9061123335123634, 0.1248815032451555, 0.09450492137471227, 0.08100421832118194, 0.24301265496354582, 0.0708786910310342, 0.10463044866486, 0.027001406107060647, 0.06412833950426904, 0.050627636450738714, 0.04725246068735613, 0.06412833950426904, 0.020251054580295486, 0.010125527290147743, 0.003375175763382581, 0.06680186710971042, 0.052138042622213006, 0.05050872879026885, 0.22647462264023777, 0.11731059589997928, 0.1124226544041468, 0.09124157458887276, 0.06843118094165457, 0.04399147346249223, 0.04562078729443638, 0.06843118094165457, 0.019551765983329878, 0.016293138319441566, 0.01466382448749741, 0.0048879414958324695, 0.885306815281109, 0.094181576093735, 0.1704792522093675, 0.68191700883747, 0.5679851010198894, 0.09087761616318231, 0.022719404040795577, 0.09087761616318231, 0.13631642424477347, 0.022719404040795577, 0.022719404040795577, 0.022719404040795577, 0.8856056011545791, 0.13165528914232721, 0.32380084626896694, 0.15834217207658274, 0.05337376586851103, 0.08895627644751838, 0.07828152327381618, 0.021349506347404415, 0.04625726375270956, 0.014233004231602942, 0.017791255289503677, 0.010674753173702207, 0.033803385050056985, 0.0017791255289503678, 0.019570380818454046, 0.11916903715282133, 0.1463479403631139, 0.01672547889864159, 0.1568013646747649, 0.13380383118913272, 0.07526465504388716, 0.11289698256583074, 0.04181369724660398, 0.05226712155825497, 0.05226712155825497, 0.03763232752194358, 0.03763232752194358, 0.014634794036311391, 0.0020906848623301988, 0.1581399354236978, 0.4744198062710934, 0.3162798708473956, 0.25488910628808414, 0.6372227657202104, 0.7610635619405722, 0.15221271238811446, 0.11913509314780213, 0.14296211177736254, 0.08339456520346149, 0.1747314699501098, 0.05162520703071426, 0.04765403725912085, 0.07148105588868127, 0.039711697715934045, 0.0873657349750549, 0.059567546573901065, 0.04368286748752745, 0.02779818840115383, 0.023827018629560427, 0.02779818840115383, 0.003971169771593404, 0.4207003022472204, 0.18740286191012542, 0.17592921730338307, 0.011473644606742373, 0.04589457842696949, 0.042070030224722034, 0.01912274101123729, 0.03824548202247458, 0.01912274101123729, 0.007649096404494916, 0.01912274101123729, 0.007649096404494916, 0.003824548202247458, 0.5417704838263706, 0.18059016127545688, 0.18059016127545688, 0.8684846100570113, 0.8477679458895926, 0.18411685989755536, 0.3682337197951107, 0.3682337197951107, 0.8454750608046318, 0.09394167342273686, 0.09163103367082807, 0.850859598371975, 0.039270443001783464, 0.8250663324810076, 0.09167403694233417, 0.005850619938337635, 0.1872198380268043, 0.005850619938337635, 0.01170123987667527, 0.737178112230542, 0.005850619938337635, 0.029253099691688173, 0.005850619938337635, 0.005850619938337635, 0.005850619938337635, 0.01643890578465148, 0.03287781156930296, 0.08219452892325739, 0.5753617024628017, 0.03287781156930296, 0.18082796363116627, 0.01643890578465148, 0.03287781156930296, 0.8067566067768182, 0.134459434462803, 0.7831995188845441, 0.130533253147424, 0.9096454348951961, 0.07089117153473212, 0.03817216928793268, 0.00545316704113324, 0.02181266816453296, 0.02181266816453296, 0.6325673767714558, 0.08725067265813184, 0.059984837452465634, 0.027265835205666198, 0.01090633408226648, 0.00545316704113324, 0.01635950112339972, 0.025023427815271844, 0.7131676927352476, 0.012511713907635922, 0.20018742252217475, 0.025023427815271844, 0.012511713907635922, 0.00883797918365972, 0.00883797918365972, 0.00883797918365972, 0.01767595836731944, 0.026513937550979163, 0.01767595836731944, 0.8572839808149929, 0.00883797918365972, 0.03535191673463888, 0.00883797918365972, 0.26205448648864293, 0.6551362162216073, 0.05306933714809547, 0.2653466857404774, 0.10613867429619094, 0.05306933714809547, 0.10613867429619094, 0.31841602288857285, 0.05306933714809547, 0.024221786731998537, 0.9567605759139423, 0.012110893365999268, 0.7557098325767777, 0.5252128121643928, 0.35014187477626185, 0.1810221496177524, 0.1810221496177524, 0.3620442992355048, 0.7482410358647773, 0.14964820717295546, 0.19370599032878533, 0.09685299516439266, 0.09685299516439266, 0.48426497582196326, 0.06356508890535664, 0.8899112446749929, 0.023388710863318354, 0.04677742172663671, 0.18710968690654683, 0.07016613258995506, 0.023388710863318354, 0.2572758194965019, 0.11694355431659177, 0.09355484345327342, 0.14033226517991013, 0.12248326206059812, 0.06124163103029906, 0.03062081551514953, 0.7655203878787382, 0.03062081551514953, 0.16778495376514788, 0.5453010997367306, 0.04194623844128697, 0.04194623844128697, 0.04194623844128697, 0.04194623844128697, 0.04194623844128697, 0.04194623844128697, 0.694134602870021, 0.17353365071750526, 0.21040062797501619, 0.13567890962874873, 0.13961163164697335, 0.12977982660141185, 0.05505810825514442, 0.07865444036449203, 0.09241896742827813, 0.05899083027336902, 0.02556269311845991, 0.03342813715490911, 0.003932722018224601, 0.021629971100235307, 0.005899083027336902, 0.007865444036449202, 0.4844939193193572, 0.1614979731064524, 0.3229959462129048, 0.3047788041852635, 0.609557608370527, 0.9274049501967462, 0.012880624308288142, 0.025761248616576284, 0.025761248616576284, 0.3056665264044242, 0.5501997475279636, 0.030566652640442424, 0.09169995792132726, 0.1472437214204029, 0.7362186071020145, 0.11961114575672982, 0.7176668745403789, 0.11961114575672982, 0.23824162020559028, 0.23824162020559028, 0.11912081010279514, 0.3573624303083854, 0.12022515349878717, 0.24045030699757433, 0.48090061399514866, 0.06011257674939358, 0.06011257674939358, 0.3010222935270528, 0.10034076450901759, 0.20068152901803518, 0.10034076450901759, 0.20068152901803518, 0.8862986723678948, 0.044299144628346415, 0.22149572314173208, 0.17719657851338566, 0.13289743388503925, 0.3100940123984249, 0.08859828925669283, 0.11107707123056841, 0.11107707123056841, 0.11107707123056841, 0.11107707123056841, 0.22215414246113682, 0.22215414246113682, 0.17425724010445287, 0.6970289604178115, 0.844689937000147, 0.33607363736009765, 0.13923050690632616, 0.10082209120802929, 0.10082209120802929, 0.06001314952858886, 0.0528115715851582, 0.028806311773722653, 0.050411045604014645, 0.04801051962287109, 0.0264057857925791, 0.021604733830291992, 0.021604733830291992, 0.009602103924574218, 0.004801051962287109, 0.4445144796331296, 0.1111286199082824, 0.1111286199082824, 0.2222572398165648, 0.09178603097613777, 0.03059534365871259, 0.12238137463485035, 0.015297671829356294, 0.03059534365871259, 0.5507161858568266, 0.09178603097613777, 0.045893015488068886, 0.015297671829356294, 0.1864864833954755, 0.012861136785894862, 0.0643056839294743, 0.03858341035768458, 0.1671947782166332, 0.34725069321916124, 0.025722273571789724, 0.09002795750126404, 0.03215284196473715, 0.012861136785894862, 0.012861136785894862, 0.006430568392947431, 0.031587240038172405, 0.031587240038172405, 0.06317448007634481, 0.6949192808397928, 0.06317448007634481, 0.06317448007634481, 0.09334375384562005, 0.015557292307603342, 0.015557292307603342, 0.6534062769193404, 0.06222916923041337, 0.1089010461532234, 0.031114584615206685, 0.2592966034688476, 0.043216100578141264, 0.17286440231256506, 0.17286440231256506, 0.043216100578141264, 0.21608050289070632, 0.043216100578141264, 0.30038391472679166, 0.20025594315119444, 0.4005118863023889, 0.44203063444107216, 0.07367177240684536, 0.44203063444107216, 0.02152797063747948, 0.9579946933678368, 0.15882999846325582, 0.0952979990779535, 0.07941499923162791, 0.0952979990779535, 0.13659379867840002, 0.10482779898574884, 0.0571787994467721, 0.08576819917015815, 0.050825599508241864, 0.050825599508241864, 0.03176599969265117, 0.022236199784855817, 0.02858939972338605, 0.009340970022264023, 0.018681940044528045, 0.42968462102414506, 0.09340970022264022, 0.06538679015584815, 0.018681940044528045, 0.1587964903784884, 0.08406873020037621, 0.05604582013358414, 0.02802291006679207, 0.02802291006679207, 0.009340970022264023, 0.1907644887059995, 0.4769112217649988, 0.09538224435299975, 0.09538224435299975, 0.09538224435299975, 0.1929551389656579, 0.3859102779313158, 0.1929551389656579, 0.1929551389656579, 0.1929551389656579, 0.7927130563621874, 0.05284753709081249, 0.05284753709081249, 0.05284753709081249, 0.8106952428154204, 0.06755793690128503, 0.06755793690128503, 0.05542027611459535, 0.5937886726563788, 0.07125464071876546, 0.21376392215629636, 0.0316687292083402, 0.00791718230208505, 0.00791718230208505, 0.7147860883283844, 0.14295721766567687, 0.08629757630538008, 0.17259515261076017, 0.08629757630538008, 0.6040830341376606, 0.17299387806329317, 0.08649693903164658, 0.08649693903164658, 0.17299387806329317, 0.08649693903164658, 0.17299387806329317, 0.17299387806329317, 0.09850458047274731, 0.5910274828364839, 0.09850458047274731, 0.09850458047274731, 0.147611629785093, 0.590446519140372, 0.147611629785093, 0.36948464073826365, 0.17053137264842938, 0.26432362760506556, 0.03410627452968588, 0.031264084985545386, 0.02557970589726441, 0.03979065361796686, 0.02273751635312392, 0.01136875817656196, 0.00284218954414049, 0.00284218954414049, 0.01705313726484294, 0.00284218954414049, 0.00284218954414049, 0.8425094686388434, 0.02449507142529175, 0.06123767856322938, 0.08573274998852112, 0.783842285609336, 0.012247535712645875, 0.11958754014715682, 0.11958754014715682, 0.11958754014715682, 0.4783501605886273, 0.7563857042030282, 0.21167708847393604, 0.31751563271090405, 0.31751563271090405, 0.9150709746620378, 0.31647648257251637, 0.15823824128625819, 0.31647648257251637, 0.15823824128625819, 0.033944231549604825, 0.016972115774802413, 0.25458173662203615, 0.08486057887401205, 0.577051936343282, 0.016972115774802413, 0.016972115774802413, 0.21196027677056484, 0.12112015815460847, 0.0504667325644202, 0.4138272070282456, 0.020186693025768077, 0.040373386051536155, 0.040373386051536155, 0.010093346512884039, 0.0504667325644202, 0.010093346512884039, 0.020186693025768077, 0.020186693025768077, 0.1564637356668373, 0.1564637356668373, 0.6258549426673492, 0.7752266783650352, 0.0625182805133093, 0.03751096830798557, 0.03751096830798557, 0.07502193661597115, 0.3255964486270991, 0.008420597809321528, 0.29191405738981296, 0.07297851434745324, 0.1824462858686331, 0.005613731872881019, 0.03648925717372662, 0.008420597809321528, 0.0028068659364405093, 0.05333045279236968, 0.008420597809321528, 0.008420597809321528, 0.40936212686065365, 0.09096936152458969, 0.09096936152458969, 0.09096936152458969, 0.3183927653360639, 0.07951163094755194, 0.12267508774765157, 0.19309967515834042, 0.1431209357055935, 0.09995747890549386, 0.08291927227387559, 0.08859867448441502, 0.04316345680009962, 0.03634817414745232, 0.026125250168481353, 0.017038206631618272, 0.038619935031668086, 0.017038206631618272, 0.012494684863186733, 0.001135880442107885, 0.29166173694840064, 0.05833234738968013, 0.05833234738968013, 0.4083264317277609, 0.05833234738968013, 0.11666469477936026, 0.0812770301690952, 0.8940473318600473, 0.045581808548762516, 0.09686134316612034, 0.05127953461735783, 0.22790904274381257, 0.09401248013182269, 0.07122157585744143, 0.09116361709752503, 0.08261702799463207, 0.06837271282314378, 0.06552384978884612, 0.04273294551446486, 0.02848863034297657, 0.017093178205785944, 0.014244315171488286, 0.1528349391037955, 0.611339756415182, 0.1528349391037955, 0.543349617382898, 0.18111653912763265, 0.18111653912763265, 0.3633007805988261, 0.11178485556886956, 0.02794621389221739, 0.041919320838326085, 0.013973106946108696, 0.11178485556886956, 0.20959660419163043, 0.08383864167665217, 0.02794621389221739, 0.013973106946108696, 0.013973106946108696, 0.5826081623609681, 0.38840544157397877, 0.1329775668751831, 0.2659551337503662, 0.5319102675007324, 0.12458463611976145, 0.12458463611976145, 0.6229231805988072, 0.8588064645161778, 0.1226866377880254, 0.354431947734806, 0.531647921602209, 0.03370448181526517, 0.3370448181526517, 0.10111344544579551, 0.03370448181526517, 0.13481792726106068, 0.3370448181526517, 0.8671384026231579, 0.2057782427397451, 0.4115564854794902, 0.2057782427397451, 0.19447033197579613, 0.09723516598789807, 0.11538573030563905, 0.16335507885966877, 0.08038107054999574, 0.06741638175160933, 0.08038107054999574, 0.06223050623225476, 0.01426115767822505, 0.02722584647661146, 0.04278347303467515, 0.019447033197579615, 0.016854095437902332, 0.016854095437902332, 0.001296468879838641, 0.08752573366817752, 0.04376286683408876, 0.5689172688431539, 0.2188143341704438, 0.04376286683408876, 0.4171282836136556, 0.4171282836136556, 0.061050824786662725, 0.061050824786662725, 0.18315247435998816, 0.6105082478666273, 0.04079752615508571, 0.020398763077542854, 0.00407975261550857, 0.14279134154279996, 0.17542936246686852, 0.18358886769788568, 0.0693557944636457, 0.16319010462034284, 0.08567480492567998, 0.044877278770594276, 0.044877278770594276, 0.00815950523101714, 0.012239257846525712, 0.00407975261550857, 0.07292316028435245, 0.1458463205687049, 0.2187694808530573, 0.07292316028435245, 0.07292316028435245, 0.2916926411374098, 0.06579189958701007, 0.7237108954571108, 0.13158379917402013, 0.24334874538159948, 0.12167437269079974, 0.36502311807239923, 0.12167437269079974, 0.7410077159774578, 0.2280023741469101, 0.16029591286770226, 0.16029591286770226, 0.16029591286770226, 0.3205918257354045, 0.13018261335972234, 0.781095680158334, 0.8971767183075988, 0.20204535992960093, 0.20204535992960093, 0.40409071985920186, 0.1396924613392187, 0.20358281187421018, 0.18409084052455177, 0.05522725215736553, 0.08987964566786939, 0.10612295512591807, 0.08229943458744667, 0.04439837918533307, 0.016243309458048683, 0.022740633241268158, 0.010828872972032456, 0.025989295132877895, 0.002165774594406491, 0.01516042216084544, 0.0010828872972032456, 0.15648099877910632, 0.469442996337319, 0.31296199755821263, 0.14671064065549944, 0.14671064065549944, 0.29342128131099887, 0.14671064065549944, 0.14671064065549944, 0.8647883683998234, 0.7456351050127501, 0.04386088853016177, 0.04386088853016177, 0.13158266559048531, 0.08542063837729007, 0.11389418450305343, 0.2261134545281208, 0.0502474343395824, 0.0753711515093736, 0.293110033647564, 0.021773888213819037, 0.06699657911944319, 0.006699657911944319, 0.01842405925784688, 0.01004948686791648, 0.013399315823888638, 0.011724401345902559, 0.008374572389930399, 0.7877253387091402, 0.15754506774182803, 0.39901187296456464, 0.028988042052981194, 0.47403974651345715, 0.006820715777172045, 0.020462147331516137, 0.017051789442930114, 0.0017051789442930113, 0.01364143155434409, 0.005115536832879034, 0.005115536832879034, 0.022167326275809147, 0.0017051789442930113, 0.2472768720566164, 0.005375584175143834, 0.4623002390623698, 0.0161267525254315, 0.021502336700575338, 0.03762908922600684, 0.02687792087571917, 0.1397651885537397, 0.005375584175143834, 0.0161267525254315, 0.010751168350287669, 0.005375584175143834, 0.27493470055640506, 0.13746735027820253, 0.13746735027820253, 0.27493470055640506, 0.805344551466201, 0.10066806893327512, 0.14951351617900635, 0.5980540647160254, 0.14951351617900635, 0.09006114847087955, 0.1801222969417591, 0.09006114847087955, 0.09006114847087955, 0.45030574235439774, 0.14488570601770992, 0.14488570601770992, 0.5795428240708397, 0.05106601061974971, 0.6638581380567463, 0.05106601061974971, 0.119154024779416, 0.03404400707983314, 0.03404400707983314, 0.03404400707983314, 0.01702200353991657, 0.024680768665692656, 0.3455307613196972, 0.1727653806598486, 0.07404230599707796, 0.04936153733138531, 0.09872307466277062, 0.07404230599707796, 0.04936153733138531, 0.024680768665692656, 0.09872307466277062, 0.1149039599140428, 0.1149039599140428, 0.574519799570214, 0.2298079198280856, 0.8048002105974895, 0.10060002632468619, 0.16682190771811184, 0.16682190771811184, 0.16682190771811184, 0.3336438154362237, 0.896741817181561, 0.2385420593840462, 0.17240085200937885, 0.24504775191270203, 0.05746695066979295, 0.05638266858168365, 0.053129822317355746, 0.04770841187680924, 0.04337128352437204, 0.007589974616765107, 0.024938488026513925, 0.006505692528655806, 0.027107052202732525, 0.008674256704874409, 0.009758538792983709, 0.002168564176218602, 0.6160713769132071, 0.14495797103840166, 0.10871847827880125, 0.036239492759600415, 0.036239492759600415, 0.06335570114052069, 0.050684560912416556, 0.03801342068431242, 0.3231140758166555, 0.050684560912416556, 0.06335570114052069, 0.08869798159672897, 0.08236241148267691, 0.10136912182483311, 0.05702013102646863, 0.044348990798364483, 0.0063355701140520694, 0.012671140228104139, 0.0063355701140520694, 0.275173056617974, 0.275173056617974, 0.275173056617974, 0.4029731724000804, 0.3581983754667381, 0.08954959386668453, 0.04477479693334226, 0.1503430662898577, 0.3006861325797154, 0.1503430662898577, 0.07517153314492885, 0.3006861325797154, 0.1943669662244597, 0.3887339324489194, 0.1943669662244597, 0.1943669662244597, 0.18924118761362702, 0.18924118761362702, 0.18924118761362702, 0.18924118761362702, 0.18924118761362702, 0.39973031235302486, 0.39973031235302486, 0.005133771171673032, 0.030802627030038197, 0.08214033874676852, 0.06160525406007639, 0.08214033874676852, 0.035936398201711225, 0.5595810577123606, 0.12321050812015279, 0.005133771171673032, 0.005133771171673032, 0.15172517122673881, 0.6069006849069553, 0.15172517122673881, 0.06017758561905005, 0.09026637842857509, 0.2407103424762002, 0.09026637842857509, 0.15044396404762514, 0.030088792809525026, 0.06017758561905005, 0.06017758561905005, 0.1203551712381001, 0.09026637842857509, 0.2741229659370242, 0.4111844489055363, 0.2741229659370242, 0.13218620324823208, 0.5287448129929283, 0.13218620324823208, 0.04989550828266206, 0.02494775414133103, 0.031184692676663787, 0.22141131800431288, 0.14344958631265342, 0.09979101656532412, 0.08419867022699222, 0.11538336290365601, 0.08108020095932585, 0.03742163121199654, 0.05301397755032844, 0.006236938535332757, 0.02806622340899741, 0.021829284873664652, 0.8848540778789538, 0.1173851425050247, 0.7043108550301482, 0.1173851425050247, 0.7083480372410224, 0.059029003103418534, 0.059029003103418534, 0.11805800620683707, 0.059029003103418534, 0.176900050801619, 0.707600203206476, 0.711949324591032, 0.177987331147758, 0.12323423536860208, 0.4929369414744083, 0.24646847073720415, 0.9186538804516124, 0.16380252283110222, 0.32760504566220444, 0.32760504566220444, 0.18662780179942579, 0.18662780179942579, 0.18662780179942579, 0.37325560359885157, 0.1812538076902668, 0.29939245020267286, 0.20391053365155015, 0.058260152471871475, 0.05178680219721909, 0.05178680219721909, 0.02265672596128335, 0.030748413804598834, 0.014565038117967869, 0.012946700549304772, 0.011328362980641675, 0.05178680219721909, 0.009710025411978579, 0.0016183375686630965, 0.155222195674274, 0.8278517102627948, 0.0893187743274225, 0.893187743274225, 0.9049930165796763, 0.7060633210976088, 0.1765158302744022, 0.7728740732566924, 0.1405225587739441, 0.17463739685958643, 0.6112308890085525, 0.08731869842979322, 0.10551414794953948, 0.03517138264984649, 0.03517138264984649, 0.10551414794953948, 0.6682562703470833, 0.08528956605470225, 0.682316528437618, 0.08528956605470225, 0.08528956605470225, 0.7804315390551839, 0.11149021986502626, 0.038512572540796985, 0.9435580272495261, 0.019256286270398493, 0.16006754867703074, 0.10609128226268318, 0.15076129584697082, 0.08747877660256331, 0.128426289054827, 0.08189502490452737, 0.048392514716311626, 0.09492377886661126, 0.022335006792143827, 0.03350251018821574, 0.027918758490179784, 0.04094751245226368, 0.007445002264047942, 0.007445002264047942, 0.005583751698035957, 0.03996070684016347, 0.452888010855186, 0.03996070684016347, 0.3196856547213078, 0.09324164929371476, 0.026640471226775646, 0.013320235613387823, 0.013320235613387823, 0.16520676360910055, 0.16520676360910055, 0.16520676360910055, 0.3304135272182011, 0.23018755720245793, 0.4503122703742073, 0.07672918573415263, 0.033962098603641334, 0.05031422015354271, 0.01886783255757852, 0.03647780961131847, 0.01132069953454711, 0.01760997705373995, 0.006289277519192839, 0.013836410542224247, 0.03773566511515704, 0.0050314220153542715, 0.01132069953454711, 0.0025157110076771357, 0.23840174236726608, 0.23307007400761476, 0.1447167126191072, 0.049508349053905096, 0.0997783650163318, 0.058648351956164496, 0.029705009432343055, 0.031228343249386288, 0.026658341798256588, 0.01904167271304042, 0.027420008706778205, 0.01675667198747557, 0.012186670536345869, 0.009140002902259402, 0.005331668359651318, 0.3550627947315949, 0.010144651278045569, 0.3246288408974582, 0.1318804666145924, 0.060867907668273415, 0.030433953834136707, 0.030433953834136707, 0.010144651278045569, 0.030433953834136707, 0.010144651278045569, 0.1722278080263099, 0.14410898222609603, 0.07469063103181807, 0.1151114431196255, 0.0940223237694651, 0.09314361046320842, 0.06941835119427797, 0.057116364906684404, 0.05975250482545445, 0.04305695200657748, 0.028997539106470543, 0.02196783265641708, 0.011423272981336881, 0.01405941290010693, 0.0008787133062566831, 0.08639062858761129, 0.4751484572318621, 0.08639062858761129, 0.043195314293805645, 0.12958594288141695, 0.043195314293805645, 0.12958594288141695, 0.0678926367975781, 0.20367791039273428, 0.2715705471903124, 0.0678926367975781, 0.0678926367975781, 0.0678926367975781, 0.0678926367975781, 0.0678926367975781, 0.0678926367975781, 0.19748018674249398, 0.1471420999257798, 0.1723111433341369, 0.0735710499628899, 0.08325145127379648, 0.08325145127379648, 0.0425937657679889, 0.04065768550580758, 0.01742472235963182, 0.04452984603017021, 0.030977284194901016, 0.0425937657679889, 0.01161648157308788, 0.01161648157308788, 0.0019360802621813135, 0.23705452128143337, 0.14939770473042102, 0.14939770473042102, 0.10290148029901448, 0.045733991244006435, 0.06326535455420891, 0.06097865499200859, 0.05411855630540762, 0.032013793870804504, 0.02820262793380397, 0.026678161559003755, 0.032013793870804504, 0.011433497811001609, 0.005335632311800751, 0.0007622331874001073, 0.7089573799048875, 0.17723934497622187, 0.4687416413221901, 0.3749933130577521, 0.09374832826443802, 0.0792188604478811, 0.07718760761588414, 0.13812519257579267, 0.13812519257579267, 0.11578141142382622, 0.06093758495990854, 0.10562514726384147, 0.07312510195189025, 0.07718760761588414, 0.04468756230393293, 0.046718815135929875, 0.020312528319969513, 0.012187516991981708, 0.012187516991981708, 0.0020312528319969513, 0.22276129163802944, 0.07145173505370755, 0.42450736708379194, 0.06304564857680078, 0.033624345907627085, 0.0882639080075211, 0.021015216192266928, 0.012609129715360157, 0.0042030432384533856, 0.008406086476906771, 0.016812172953813542, 0.016812172953813542, 0.008406086476906771, 0.32887597619810227, 0.32887597619810227, 0.32887597619810227, 0.7817870503214681, 0.5691906189394461, 0.1897302063131487, 0.1897302063131487, 0.11597280575708153, 0.8118096402995707, 0.7694978717422932, 0.0591921439801764, 0.0591921439801764, 0.7483920730483667, 0.10691315329262381, 0.10691315329262381, 0.8585757058860368, 0.17918709311320652, 0.08959354655660326, 0.08959354655660326, 0.08959354655660326, 0.44796773278301627, 0.08959354655660326, 0.17248692278105038, 0.6899476911242015, 0.36867666168938246, 0.5530149925340737, 0.6012357912285572, 0.25767248195509596, 0.5879453428367369, 0.05344957662152154, 0.10689915324304308, 0.10689915324304308, 0.05344957662152154, 0.05344957662152154, 0.05344957662152154, 0.18577935934078468, 0.18577935934078468, 0.18577935934078468, 0.18577935934078468, 0.18577935934078468, 0.8436074217721762, 0.866155188742973, 0.15324742730873586, 0.10216495153915724, 0.05108247576957862, 0.6129897092349434, 0.05108247576957862, 0.16875068997769607, 0.16875068997769607, 0.16875068997769607, 0.33750137995539214, 0.16875068997769607, 0.5709169631398142, 0.2854584815699071, 0.025345435405762357, 0.8110539329843954, 0.10138174162304943, 0.025345435405762357, 0.8031491202734429, 0.10039364003418036, 0.02509841000854509, 0.02509841000854509, 0.619447126098239, 0.11798992878061697, 0.04424622329273136, 0.0737437054878856, 0.0737437054878856, 0.029497482195154242, 0.014748741097577121, 0.5444198245958839, 0.40831486844691295, 0.8390108030717, 0.11250222110541808, 0.6750133266325085, 0.11250222110541808, 0.7126021602829546, 0.14252043205659093, 0.04750681068553031, 0.04750681068553031, 0.09013570705506434, 0.811221363495579, 0.31880546773681817, 0.6376109354736363, 0.21803081261201057, 0.13081848756720635, 0.08721232504480424, 0.04360616252240212, 0.3052431376568148, 0.08721232504480424, 0.04360616252240212, 0.04360616252240212, 0.04360616252240212, 0.05468892358372313, 0.9297117009232934, 0.1718202097580267, 0.6872808390321068, 0.13112297490252225, 0.6993225328134521, 0.08741531660168152, 0.04370765830084076, 0.04370765830084076, 0.2913277455195557, 0.5826554910391114, 0.867067971207736, 0.12458638820545391, 0.09661801534300507, 0.07373480118281966, 0.11695865015205878, 0.09153285664074165, 0.1017031740452685, 0.08644769793847823, 0.12712896755658562, 0.07373480118281966, 0.01779805545792199, 0.0406812696181074, 0.015255476106790275, 0.022883214160185412, 0.012712896755658563, 0.09119364366831095, 0.09119364366831095, 0.1823872873366219, 0.27358093100493286, 0.09119364366831095, 0.09119364366831095, 0.10882668170439161, 0.01674256641606025, 0.09208411528833137, 0.611103674186199, 0.05859898245621087, 0.08371283208030124, 0.01674256641606025, 0.06605024946546353, 0.8586532430510261, 0.07280757766913129, 0.728075776691313, 0.14561515533826258, 0.48752641587819917, 0.026352779236659414, 0.013176389618329707, 0.1712930650382862, 0.07905833770997825, 0.07905833770997825, 0.05270555847331883, 0.026352779236659414, 0.026352779236659414, 0.013176389618329707, 0.013176389618329707, 0.7742973826673107, 0.12225748147378591, 0.0407524938245953, 0.20490364330763897, 0.22936974997123766, 0.11009747998619407, 0.07951484665669571, 0.08563137332259539, 0.06116526665899671, 0.039757423328347856, 0.09786442665439472, 0.01834957999769901, 0.03364089666244819, 0.01223305333179934, 0.015291316664749177, 0.003058263332949835, 0.003058263332949835, 0.009174789998849506, 0.9265343775779612, 0.09732114199829775, 0.026542129635899386, 0.05308425927179877, 0.13271064817949693, 0.05308425927179877, 0.06193163581709857, 0.13271064817949693, 0.05308425927179877, 0.10616851854359755, 0.13271064817949693, 0.07077901236239836, 0.03538950618119918, 0.008847376545299795, 0.026542129635899386, 0.008847376545299795, 0.15096741569329053, 0.18580605008404988, 0.14370936686188232, 0.10016107387343313, 0.0841933664443351, 0.07693531761292689, 0.0624192199501105, 0.06387082971639214, 0.023225756260506235, 0.030483805091914434, 0.043548292988449186, 0.013064487896534756, 0.007258048831408198, 0.010161268363971477, 0.0029032195325632794, 0.08121733900681166, 0.07512603858130079, 0.15228251063777187, 0.1928911801411777, 0.10355210723368487, 0.08324777248198195, 0.08730863943232253, 0.058882570779938456, 0.04669996992891671, 0.03248693560272466, 0.03654780255306525, 0.034517369077894954, 0.010152167375851458, 0.0020304334751702915, 0.0020304334751702915, 0.011089924596373821, 0.9803493343194458, 0.002217984919274764, 0.9313008923702987, 0.12414255380036808, 0.6207127690018405, 0.12414255380036808, 0.12414255380036808, 0.11774635140024521, 0.7064781084014713, 0.11774635140024521, 0.9007326408219354, 0.01728838248229345, 0.012966286861720088, 0.008644191241146725, 0.3328013627841489, 0.09940819927318734, 0.05186514744688035, 0.10805239051433406, 0.056187243067453714, 0.09076400803204061, 0.0691535299291738, 0.04322095620573362, 0.02161047810286681, 0.08644191241146724, 0.004322095620573362, 0.39813715634142255, 0.5894498158821061, 0.005170612420018475, 0.2016302702927485, 0.1980928971297178, 0.19455552396668713, 0.028298985304245402, 0.031836358467276074, 0.1733312849885031, 0.05306059744546013, 0.0707474632606135, 0.014149492652122701, 0.014149492652122701, 0.010612119489092025, 0.0070747463260613505, 0.0035373731630306752, 0.7831101056704695, 0.12192133381695933, 0.014067846209649152, 0.06564994897836271, 0.004689282069883051, 0.031577400110432204, 0.031577400110432204, 0.010525800036810735, 0.25261920088345763, 0.07368060025767514, 0.12630960044172881, 0.08420640029448588, 0.07368060025767514, 0.15788700055216104, 0.07368060025767514, 0.05262900018405368, 0.02105160007362147, 0.15164055366300092, 0.6065622146520037, 0.15164055366300092, 0.06760914714157858, 0.12169646485484144, 0.013521829428315715, 0.13521829428315715, 0.32452390627957717, 0.18930561199642001, 0.05408731771326286, 0.05408731771326286, 0.02704365885663143, 0.015590691722437992, 0.9728591634801307, 0.0031181383444875985, 0.0031181383444875985, 0.15355086088096304, 0.10630444214835903, 0.059058023415755015, 0.07086962809890603, 0.12992765151466104, 0.09153993629442028, 0.059058023415755015, 0.15355086088096304, 0.06791672692811827, 0.03838771522024076, 0.026576110537089758, 0.011811604683151004, 0.005905802341575502, 0.008858703512363253, 0.011811604683151004, 0.05980553015151821, 0.05980553015151821, 0.07974070686869095, 0.09967588358586368, 0.09170181289899458, 0.04784442412121456, 0.15549437839394734, 0.13954623702020916, 0.09568884824242913, 0.04784442412121456, 0.051831459464649114, 0.03588331809091092, 0.007974070686869094, 0.02392221206060728, 0.7003010168344599, 0.17507525420861497, 0.2651813171434923, 0.1386727988732024, 0.16056850395844488, 0.07055282749689246, 0.04135855404990247, 0.07785139585863994, 0.05838854689397996, 0.02919427344698998, 0.019462848964659985, 0.06568711525572746, 0.02676141732640748, 0.03162712956757248, 0.004865712241164996, 0.004865712241164996, 0.004865712241164996, 0.12055822685106193, 0.11302333767287057, 0.3089304563058462, 0.0527442242473396, 0.09041867013829645, 0.015069778356382742, 0.03767444589095686, 0.1054884484946792, 0.022604667534574113, 0.030139556712765483, 0.015069778356382742, 0.030139556712765483, 0.0527442242473396, 0.18382374018900693, 0.18382374018900693, 0.18382374018900693, 0.36764748037801387, 0.26517381724638284, 0.13258690862319142, 0.033146727155797855, 0.49720090733696787, 0.033146727155797855, 0.150166169968655, 0.18186791696203772, 0.10011077997910334, 0.07174605898502406, 0.09343672798049645, 0.14015509197074466, 0.053392415988855114, 0.10177929297875506, 0.02836472099407928, 0.02335918199512411, 0.02335918199512411, 0.011679590997562056, 0.008342564998258611, 0.013348103997213779, 0.7337296609841287, 0.22011889829523862, 0.19627159179250522, 0.2322297460140329, 0.20376287392199016, 0.08240410342433425, 0.07041805201715837, 0.04494769277690959, 0.02097558996255781, 0.029965128517939726, 0.026968615666145754, 0.02097558996255781, 0.0329616413697337, 0.02097558996255781, 0.008989538555381918, 0.007491282129484932, 0.05450127246293742, 0.8175190869440614, 0.05450127246293742, 0.1037484946215411, 0.034582831540513705, 0.7608222938913014, 0.06916566308102741, 0.034582831540513705], \"Term\": [\"abbey\", \"abbey\", \"absolved\", \"abstracted\", \"abstracted\", \"ache\", \"ache\", \"ache\", \"aching\", \"aching\", \"aching\", \"acquaintance\", \"acquaintance\", \"acquaintance\", \"acquaintance\", \"acquaintance\", \"acquaintance\", \"acquaintance\", \"acquaintance\", \"acquaintance\", \"acquaintance\", \"acquaintance\", \"acquaintance\", \"acquaintance\", \"acquaintance\", \"acquit\", \"acquit\", \"adele\", \"adele\", \"adele\", \"adele\", \"adele\", \"adele\", \"adele\", \"adele\", \"adele\", \"adele\", \"adoption\", \"adoption\", \"adoption\", \"adoption\", \"affection\", \"affection\", \"affection\", \"affection\", \"affection\", \"affection\", \"affection\", \"affection\", \"affection\", \"affection\", \"affection\", \"affection\", \"affection\", \"affection\", \"affection\", \"alfred\", \"alfred\", \"alfred\", \"alfred\", \"alight\", \"alight\", \"alleged\", \"alleged\", \"alleged\", \"alleged\", \"allez\", \"amidst\", \"amidst\", \"amidst\", \"amidst\", \"amidst\", \"amidst\", \"amidst\", \"amidst\", \"amidst\", \"amidst\", \"anecdote\", \"anecdote\", \"anglais\", \"anglais\", \"anglais\", \"announcement\", \"announcement\", \"announcement\", \"antiquity\", \"apartments\", \"apartments\", \"apartments\", \"apartments\", \"apartments\", \"apartments\", \"apologising\", \"appealing\", \"appealing\", \"asked\", \"asked\", \"asked\", \"asked\", \"asked\", \"asked\", \"asked\", \"asked\", \"asked\", \"asked\", \"asked\", \"asked\", \"asked\", \"asked\", \"asked\", \"aspire\", \"aspire\", \"asunder\", \"asunder\", \"attaching\", \"attachment\", \"attachment\", \"attachment\", \"attachment\", \"attachment\", \"attachment\", \"attachment\", \"attachment\", \"attachment\", \"audience\", \"audience\", \"audience\", \"audience\", \"augmented\", \"augmented\", \"augmented\", \"augmented\", \"augmented\", \"austerity\", \"austerity\", \"austerity\", \"automaton\", \"automaton\", \"average\", \"average\", \"avoiding\", \"avoiding\", \"await\", \"await\", \"away\", \"away\", \"away\", \"away\", \"away\", \"away\", \"away\", \"away\", \"away\", \"away\", \"away\", \"away\", \"away\", \"away\", \"ay\", \"ay\", \"ay\", \"ay\", \"ay\", \"ay\", \"ay\", \"backwards\", \"backwards\", \"balcony\", \"balcony\", \"balcony\", \"balcony\", \"barton\", \"barton\", \"barton\", \"bas\", \"bas\", \"bas\", \"basket\", \"basket\", \"basket\", \"basket\", \"basket\", \"basket\", \"basket\", \"bassompierre\", \"bassompierre\", \"bassompierre\", \"bassompierre\", \"bassompierre\", \"bates\", \"bates\", \"beast\", \"beast\", \"beck\", \"beck\", \"beck\", \"beck\", \"beck\", \"beck\", \"beck\", \"beck\", \"beck\", \"beck\", \"bed\", \"bed\", \"bed\", \"bed\", \"bed\", \"bed\", \"bed\", \"bed\", \"bed\", \"bed\", \"bed\", \"bed\", \"bed\", \"bed\", \"beef\", \"beef\", \"beef\", \"behaviour\", \"behaviour\", \"behaviour\", \"behaviour\", \"behaviour\", \"behaviour\", \"behest\", \"behest\", \"belonged\", \"belonged\", \"belonged\", \"belonged\", \"belonged\", \"belonged\", \"belonged\", \"belonged\", \"belonged\", \"belonged\", \"benefactress\", \"benefactress\", \"benefactress\", \"bennet\", \"bennet\", \"bennet\", \"bennet\", \"bennet\", \"bennets\", \"bessie\", \"bessie\", \"bessie\", \"bessie\", \"bessie\", \"betray\", \"betray\", \"betray\", \"betray\", \"betray\", \"betray\", \"betray\", \"betray\", \"betray\", \"better\", \"better\", \"better\", \"better\", \"better\", \"better\", \"better\", \"better\", \"better\", \"better\", \"better\", \"better\", \"better\", \"better\", \"better\", \"bible\", \"bible\", \"bible\", \"bible\", \"bible\", \"bible\", \"bingley\", \"bingley\", \"bingley\", \"bingley\", \"bingley\", \"bingleys\", \"black\", \"black\", \"black\", \"black\", \"black\", \"black\", \"black\", \"black\", \"black\", \"black\", \"black\", \"black\", \"black\", \"black\", \"black\", \"blanche\", \"blanche\", \"blanche\", \"blanche\", \"blanche\", \"blanche\", \"blanche\", \"blanche\", \"blanched\", \"blanched\", \"blent\", \"blent\", \"blent\", \"blent\", \"blent\", \"blocked\", \"blocked\", \"blocked\", \"bloomed\", \"bloomed\", \"bloomed\", \"bloomed\", \"bloomed\", \"blot\", \"blot\", \"blue\", \"blue\", \"blue\", \"blue\", \"blue\", \"blue\", \"blue\", \"blue\", \"blue\", \"blue\", \"blue\", \"blue\", \"blue\", \"blue\", \"board\", \"board\", \"board\", \"board\", \"board\", \"board\", \"board\", \"boarder\", \"body\", \"body\", \"body\", \"body\", \"body\", \"body\", \"body\", \"body\", \"body\", \"body\", \"body\", \"body\", \"body\", \"bonnets\", \"bonnets\", \"boughs\", \"boughs\", \"boughs\", \"boughs\", \"boughs\", \"bouquet\", \"bouquet\", \"bouquet\", \"bourgh\", \"bracelet\", \"bracelet\", \"bracelet\", \"bracelet\", \"bracelet\", \"braided\", \"braided\", \"braided\", \"braided\", \"braided\", \"brandon\", \"brandon\", \"brandon\", \"brandon\", \"bretton\", \"bretton\", \"bretton\", \"bretton\", \"bretton\", \"bretton\", \"bretton\", \"bretton\", \"bride\", \"bride\", \"bride\", \"bride\", \"bride\", \"bride\", \"bride\", \"bride\", \"bride\", \"bride\", \"briggs\", \"bright\", \"bright\", \"bright\", \"bright\", \"bright\", \"bright\", \"bright\", \"bright\", \"bright\", \"bright\", \"bright\", \"bright\", \"brittle\", \"brittle\", \"brittle\", \"brittle\", \"broad\", \"broad\", \"broad\", \"broad\", \"broad\", \"broad\", \"broad\", \"broad\", \"broad\", \"broad\", \"broad\", \"broad\", \"brocklehurst\", \"brocklehurst\", \"brocklehurst\", \"brocklehurst\", \"brow\", \"brow\", \"brow\", \"brow\", \"brow\", \"brow\", \"brow\", \"brow\", \"brow\", \"brow\", \"brow\", \"brunswick\", \"burns\", \"burns\", \"burns\", \"bust\", \"bust\", \"bust\", \"bustling\", \"bustling\", \"bustling\", \"bustling\", \"ca\", \"ca\", \"ca\", \"came\", \"came\", \"came\", \"came\", \"came\", \"came\", \"came\", \"came\", \"came\", \"came\", \"came\", \"came\", \"came\", \"came\", \"campbell\", \"campbells\", \"campbells\", \"caprices\", \"caprices\", \"caprices\", \"captive\", \"captive\", \"captive\", \"captive\", \"caressing\", \"caressing\", \"carlo\", \"carlo\", \"carlo\", \"casement\", \"casement\", \"casement\", \"casement\", \"casement\", \"casement\", \"catherine\", \"catherine\", \"catherine\", \"catherine\", \"caught\", \"caught\", \"caught\", \"caught\", \"caught\", \"caught\", \"caught\", \"caught\", \"caught\", \"caught\", \"caught\", \"caught\", \"caught\", \"caught\", \"ce\", \"ce\", \"ce\", \"ce\", \"ce\", \"ce\", \"ce\", \"certain\", \"certain\", \"certain\", \"certain\", \"certain\", \"certain\", \"certain\", \"certain\", \"certain\", \"certain\", \"certain\", \"certain\", \"certain\", \"chained\", \"chained\", \"chained\", \"chair\", \"chair\", \"chair\", \"chair\", \"chair\", \"chair\", \"chair\", \"chair\", \"chair\", \"chair\", \"chair\", \"chair\", \"chair\", \"chair\", \"chamber\", \"chamber\", \"chamber\", \"chamber\", \"chamber\", \"chamber\", \"chamber\", \"chamber\", \"chamber\", \"chamber\", \"chamber\", \"chamber\", \"chamber\", \"chamber\", \"chambre\", \"chambre\", \"change\", \"change\", \"change\", \"change\", \"change\", \"change\", \"change\", \"change\", \"change\", \"change\", \"change\", \"change\", \"change\", \"change\", \"changes\", \"changes\", \"changes\", \"changes\", \"changes\", \"changes\", \"changes\", \"changes\", \"changes\", \"changes\", \"changes\", \"charade\", \"charade\", \"charade\", \"charade\", \"charlotte\", \"charlotte\", \"charlotte\", \"charlotte\", \"charlotte\", \"chestnut\", \"chestnut\", \"chestnut\", \"chide\", \"chide\", \"child\", \"child\", \"child\", \"child\", \"child\", \"child\", \"child\", \"child\", \"child\", \"child\", \"child\", \"child\", \"child\", \"child\", \"chimneys\", \"cholmondeley\", \"cholmondeley\", \"cholmondeley\", \"cholmondeley\", \"cholmondeley\", \"cholmondeley\", \"chooses\", \"chooses\", \"churchill\", \"churchill\", \"churchills\", \"city\", \"city\", \"city\", \"city\", \"city\", \"city\", \"city\", \"city\", \"city\", \"classe\", \"classe\", \"classe\", \"classe\", \"classe\", \"classe\", \"classe\", \"clay\", \"clay\", \"clay\", \"clay\", \"cleopatra\", \"cleopatra\", \"cleopatra\", \"cleopatra\", \"cloaks\", \"cloaks\", \"cloaks\", \"cloaks\", \"clouded\", \"clouded\", \"clouded\", \"coal\", \"coal\", \"coaxing\", \"coaxing\", \"cole\", \"coles\", \"collation\", \"collation\", \"collation\", \"collins\", \"collins\", \"colonel\", \"colonel\", \"colonel\", \"colonel\", \"colonel\", \"colonel\", \"colonel\", \"colonel\", \"colonel\", \"colonel\", \"combination\", \"combination\", \"combination\", \"come\", \"come\", \"come\", \"come\", \"come\", \"come\", \"come\", \"come\", \"come\", \"come\", \"come\", \"come\", \"come\", \"come\", \"come\", \"comer\", \"comer\", \"comer\", \"comer\", \"comme\", \"comme\", \"comme\", \"comme\", \"comme\", \"compass\", \"compass\", \"compass\", \"compass\", \"composition\", \"composition\", \"composition\", \"composition\", \"concentrated\", \"concentrated\", \"concentrated\", \"concentrated\", \"concentrated\", \"conduct\", \"conduct\", \"conduct\", \"conduct\", \"conduct\", \"conduct\", \"conduct\", \"conduct\", \"conduct\", \"conduct\", \"conduct\", \"conduct\", \"conduit\", \"conferred\", \"conferred\", \"conferred\", \"conferred\", \"conferred\", \"confessional\", \"confessional\", \"confessional\", \"confidence\", \"confidence\", \"confidence\", \"confidence\", \"confidence\", \"confidence\", \"confidence\", \"confidence\", \"confidence\", \"confidence\", \"confidence\", \"confidence\", \"confidence\", \"confidence\", \"confidences\", \"confidences\", \"confidences\", \"conjectured\", \"conjectured\", \"conjectured\", \"conjectured\", \"conjectured\", \"conjectured\", \"conquer\", \"conquer\", \"conquer\", \"conquer\", \"consistency\", \"consistency\", \"consistency\", \"consistency\", \"consumed\", \"consumed\", \"cooled\", \"cooled\", \"cooled\", \"cooled\", \"coquette\", \"coquette\", \"coquette\", \"costly\", \"costly\", \"costly\", \"cottage\", \"cottage\", \"cottage\", \"cottage\", \"cottage\", \"cottage\", \"cottage\", \"cottage\", \"couldn\", \"couldn\", \"count\", \"count\", \"count\", \"count\", \"count\", \"count\", \"count\", \"countess\", \"countess\", \"counting\", \"counting\", \"counting\", \"counting\", \"counting\", \"coward\", \"coward\", \"coxcomb\", \"coxcomb\", \"creed\", \"creed\", \"creed\", \"creed\", \"creed\", \"creed\", \"cries\", \"cries\", \"cries\", \"crimson\", \"crimson\", \"crimson\", \"crimson\", \"crimson\", \"crimson\", \"crimson\", \"crimson\", \"crimsworth\", \"crimsworth\", \"crimsworth\", \"crimsworth\", \"crimsworth\", \"cup\", \"cup\", \"cup\", \"cup\", \"cup\", \"cup\", \"cup\", \"cup\", \"curate\", \"curate\", \"curate\", \"curb\", \"curb\", \"cursed\", \"cursed\", \"curtain\", \"curtain\", \"curtain\", \"curtain\", \"curtain\", \"curtain\", \"curtain\", \"curtain\", \"cushion\", \"cushion\", \"cushion\", \"cushion\", \"damask\", \"damask\", \"darcy\", \"darcy\", \"darcy\", \"darcy\", \"dark\", \"dark\", \"dark\", \"dark\", \"dark\", \"dark\", \"dark\", \"dark\", \"dark\", \"dark\", \"dark\", \"dark\", \"dark\", \"dark\", \"dashwood\", \"dashwood\", \"dashwood\", \"dashwood\", \"david\", \"david\", \"david\", \"david\", \"david\", \"day\", \"day\", \"day\", \"day\", \"day\", \"day\", \"day\", \"day\", \"day\", \"day\", \"day\", \"day\", \"day\", \"day\", \"day\", \"days\", \"days\", \"days\", \"days\", \"days\", \"days\", \"days\", \"days\", \"days\", \"days\", \"days\", \"days\", \"days\", \"days\", \"days\", \"dear\", \"dear\", \"dear\", \"dear\", \"dear\", \"dear\", \"dear\", \"dear\", \"dear\", \"dear\", \"dear\", \"dear\", \"dear\", \"dear\", \"deeming\", \"deeming\", \"deeming\", \"deep\", \"deep\", \"deep\", \"deep\", \"deep\", \"deep\", \"deep\", \"deep\", \"deep\", \"deep\", \"deep\", \"deep\", \"deep\", \"deep\", \"deep\", \"delaford\", \"delaford\", \"delaford\", \"demoiselles\", \"demoiselles\", \"demoiselles\", \"demoiselles\", \"demonstration\", \"demonstration\", \"demonstration\", \"dent\", \"dent\", \"dent\", \"dent\", \"des\", \"des\", \"des\", \"des\", \"des\", \"des\", \"deserted\", \"deserted\", \"deserted\", \"deserted\", \"deserted\", \"desiree\", \"desiree\", \"desiree\", \"desk\", \"desk\", \"desk\", \"desk\", \"desk\", \"desk\", \"desk\", \"desk\", \"desk\", \"desk\", \"desk\", \"despair\", \"despair\", \"despair\", \"despair\", \"despair\", \"despair\", \"despair\", \"despair\", \"despair\", \"destruction\", \"destruction\", \"devonshire\", \"devonshire\", \"diana\", \"diana\", \"diana\", \"diana\", \"directress\", \"directress\", \"directress\", \"directress\", \"directress\", \"directress\", \"directress\", \"disappoint\", \"disappoint\", \"disapproved\", \"disapproved\", \"disapproved\", \"discussing\", \"discussing\", \"discussing\", \"discussing\", \"disdainful\", \"disdainful\", \"disdainful\", \"disdainful\", \"disordered\", \"disordered\", \"disordered\", \"dispensed\", \"dispensed\", \"dispersed\", \"dispersed\", \"dispersed\", \"dispersed\", \"dispersed\", \"displeasing\", \"displeasing\", \"displeasing\", \"disposal\", \"disposal\", \"dispositions\", \"dispositions\", \"dispositions\", \"dites\", \"dites\", \"dites\", \"divisions\", \"divisions\", \"divisions\", \"divisions\", \"dixon\", \"doctor\", \"doctor\", \"doctor\", \"doctor\", \"doctor\", \"doctor\", \"doctor\", \"doctor\", \"doctor\", \"doll\", \"doll\", \"doll\", \"doll\", \"doll\", \"donwell\", \"donwell\", \"door\", \"door\", \"door\", \"door\", \"door\", \"door\", \"door\", \"door\", \"door\", \"door\", \"door\", \"door\", \"door\", \"door\", \"door\", \"doors\", \"doors\", \"doors\", \"doors\", \"doors\", \"doors\", \"doors\", \"doors\", \"doors\", \"doors\", \"doors\", \"doors\", \"doors\", \"dormitory\", \"dormitory\", \"dormitory\", \"dormitory\", \"dormitory\", \"dormitory\", \"dormitory\", \"dormitory\", \"dorsetshire\", \"downs\", \"downs\", \"dr\", \"dr\", \"dr\", \"dr\", \"dr\", \"dr\", \"dr\", \"dr\", \"dr\", \"dr\", \"dr\", \"dubious\", \"dubious\", \"dubious\", \"dutch\", \"dutch\", \"dutch\", \"dutch\", \"ears\", \"ears\", \"ears\", \"ears\", \"ears\", \"ears\", \"ears\", \"ears\", \"ears\", \"ears\", \"ecstasy\", \"ecstasy\", \"ecstasy\", \"ecstasy\", \"edward\", \"edward\", \"edward\", \"edward\", \"edward\", \"edward\", \"edward\", \"edward\", \"edward\", \"efficient\", \"eighty\", \"eighty\", \"elders\", \"elders\", \"elinor\", \"elinor\", \"elinor\", \"elinor\", \"elinor\", \"elinor\", \"elizabeth\", \"elizabeth\", \"elizabeth\", \"elizabeth\", \"elizabeth\", \"elizabeth\", \"elizabeth\", \"elizabeth\", \"elton\", \"elton\", \"elton\", \"eltons\", \"emanuel\", \"emanuel\", \"emanuel\", \"emanuel\", \"emanuel\", \"emanuel\", \"emanuel\", \"emanuel\", \"emanuel\", \"emanuel\", \"emma\", \"emma\", \"emma\", \"emma\", \"emma\", \"emphatic\", \"emphatic\", \"emphatic\", \"emphatic\", \"employer\", \"employer\", \"enclosing\", \"enclosing\", \"enclosing\", \"engagement\", \"engagement\", \"engagement\", \"engagement\", \"engagement\", \"england\", \"england\", \"england\", \"england\", \"england\", \"england\", \"england\", \"england\", \"england\", \"england\", \"england\", \"england\", \"english\", \"english\", \"english\", \"english\", \"english\", \"english\", \"english\", \"english\", \"english\", \"english\", \"english\", \"english\", \"english\", \"english\", \"enquire\", \"enquiry\", \"enscombe\", \"entreated\", \"entreated\", \"entreated\", \"entreated\", \"entreated\", \"entreated\", \"entreated\", \"entreated\", \"entreated\", \"enumerating\", \"eshton\", \"eshton\", \"eshton\", \"essay\", \"essay\", \"essay\", \"essay\", \"essay\", \"est\", \"est\", \"est\", \"est\", \"est\", \"est\", \"est\", \"est\", \"est\", \"estrade\", \"estrade\", \"estrade\", \"estrade\", \"et\", \"et\", \"et\", \"et\", \"et\", \"et\", \"et\", \"etes\", \"etes\", \"etes\", \"eton\", \"eton\", \"etre\", \"etre\", \"eulalie\", \"eulalie\", \"eulalie\", \"eulalie\", \"evening\", \"evening\", \"evening\", \"evening\", \"evening\", \"evening\", \"evening\", \"evening\", \"evening\", \"evening\", \"evening\", \"evening\", \"evening\", \"evening\", \"eventful\", \"eventful\", \"eventful\", \"eventful\", \"everybody\", \"everybody\", \"everybody\", \"everybody\", \"everybody\", \"everybody\", \"everybody\", \"everybody\", \"everybody\", \"everybody\", \"exacted\", \"exacted\", \"expedients\", \"expedients\", \"expedients\", \"experiment\", \"experiment\", \"experiment\", \"experiment\", \"experiment\", \"exploring\", \"extremely\", \"extremely\", \"extremely\", \"extremely\", \"extremely\", \"extremely\", \"extremely\", \"extremely\", \"extremely\", \"eye\", \"eye\", \"eye\", \"eye\", \"eye\", \"eye\", \"eye\", \"eye\", \"eye\", \"eye\", \"eye\", \"eye\", \"eye\", \"eye\", \"eye\", \"eyes\", \"eyes\", \"eyes\", \"eyes\", \"eyes\", \"eyes\", \"eyes\", \"eyes\", \"eyes\", \"eyes\", \"eyes\", \"eyes\", \"eyes\", \"eyes\", \"eyes\", \"eyre\", \"eyre\", \"eyre\", \"eyre\", \"eyre\", \"eyre\", \"eyre\", \"eyre\", \"eyre\", \"fabric\", \"fabric\", \"fabric\", \"face\", \"face\", \"face\", \"face\", \"face\", \"face\", \"face\", \"face\", \"face\", \"face\", \"face\", \"face\", \"face\", \"face\", \"face\", \"fade\", \"fade\", \"fade\", \"fade\", \"fade\", \"fairfax\", \"fairfax\", \"fairfax\", \"fairfax\", \"fairfax\", \"fairfax\", \"fairfax\", \"fairfax\", \"fairfax\", \"fairfax\", \"fairfax\", \"fairfax\", \"fairfax\", \"fairfax\", \"fait\", \"fait\", \"fait\", \"faith\", \"faith\", \"faith\", \"faith\", \"faith\", \"faith\", \"faith\", \"faith\", \"faith\", \"faith\", \"family\", \"family\", \"family\", \"family\", \"family\", \"family\", \"family\", \"family\", \"family\", \"family\", \"family\", \"family\", \"family\", \"fanny\", \"fanny\", \"fanny\", \"fanshawe\", \"fanshawe\", \"fanshawe\", \"fanshawe\", \"fanshawe\", \"fanshawe\", \"fanshawe\", \"fanshawe\", \"fanshawe\", \"far\", \"far\", \"far\", \"far\", \"far\", \"far\", \"far\", \"far\", \"far\", \"far\", \"far\", \"far\", \"far\", \"far\", \"far\", \"fascination\", \"fascination\", \"fascination\", \"fascination\", \"father\", \"father\", \"father\", \"father\", \"father\", \"father\", \"father\", \"father\", \"father\", \"father\", \"father\", \"father\", \"father\", \"faubourg\", \"faubourg\", \"faubourg\", \"faubourg\", \"faubourg\", \"faubourg\", \"feasted\", \"feasted\", \"feather\", \"feather\", \"feather\", \"feather\", \"featured\", \"featured\", \"features\", \"features\", \"features\", \"features\", \"features\", \"features\", \"features\", \"features\", \"features\", \"features\", \"features\", \"features\", \"features\", \"feel\", \"feel\", \"feel\", \"feel\", \"feel\", \"feel\", \"feel\", \"feel\", \"feel\", \"feel\", \"feel\", \"feel\", \"feel\", \"feel\", \"feel\", \"feelings\", \"feelings\", \"feelings\", \"feelings\", \"feelings\", \"feelings\", \"feelings\", \"feelings\", \"feelings\", \"feelings\", \"feelings\", \"feelings\", \"feelings\", \"feelings\", \"feelings\", \"felt\", \"felt\", \"felt\", \"felt\", \"felt\", \"felt\", \"felt\", \"felt\", \"felt\", \"felt\", \"felt\", \"felt\", \"felt\", \"felt\", \"felt\", \"femme\", \"femme\", \"ferrars\", \"ferrars\", \"ferrars\", \"fetters\", \"fetters\", \"fetters\", \"fields\", \"fields\", \"fields\", \"fields\", \"fields\", \"fields\", \"fields\", \"fields\", \"fields\", \"fields\", \"fifine\", \"fifine\", \"filled\", \"filled\", \"filled\", \"filled\", \"filled\", \"filled\", \"filled\", \"filled\", \"filled\", \"filled\", \"filled\", \"filled\", \"fine\", \"fine\", \"fine\", \"fine\", \"fine\", \"fine\", \"fine\", \"fine\", \"fine\", \"fine\", \"fine\", \"fine\", \"fine\", \"fine\", \"finger\", \"finger\", \"finger\", \"finger\", \"finger\", \"finger\", \"finger\", \"finger\", \"finger\", \"finger\", \"finger\", \"flame\", \"flame\", \"flame\", \"flame\", \"flame\", \"flame\", \"flame\", \"flame\", \"flame\", \"flimsy\", \"flimsy\", \"flinging\", \"flinging\", \"flint\", \"flint\", \"footman\", \"footman\", \"footman\", \"ford\", \"forster\", \"forster\", \"forte\", \"forte\", \"forte\", \"forte\", \"fossette\", \"fossette\", \"fossette\", \"fossette\", \"fossette\", \"fossette\", \"fossette\", \"fossette\", \"foul\", \"foul\", \"fragrant\", \"frances\", \"frances\", \"frances\", \"frank\", \"frank\", \"frank\", \"frank\", \"frank\", \"frank\", \"frank\", \"frank\", \"frank\", \"french\", \"french\", \"french\", \"french\", \"french\", \"french\", \"french\", \"french\", \"french\", \"french\", \"french\", \"froze\", \"froze\", \"froze\", \"froze\", \"furnace\", \"furnace\", \"furnace\", \"gaping\", \"gaping\", \"garcon\", \"gardiner\", \"gardiner\", \"gateshead\", \"gateshead\", \"gateshead\", \"gateshead\", \"gateshead\", \"gems\", \"gems\", \"gems\", \"generation\", \"generation\", \"generation\", \"genii\", \"gentility\", \"gentility\", \"georgette\", \"georgette\", \"georgiana\", \"georgiana\", \"georgiana\", \"georgiana\", \"georgiana\", \"georgiana\", \"german\", \"german\", \"german\", \"german\", \"german\", \"german\", \"german\", \"german\", \"german\", \"ginevra\", \"ginevra\", \"ginevra\", \"ginevra\", \"ginevra\", \"ginevra\", \"ginevra\", \"ginevra\", \"ginevra\", \"glittered\", \"glittered\", \"glory\", \"glory\", \"glory\", \"glory\", \"glory\", \"glory\", \"glory\", \"glory\", \"glossy\", \"glossy\", \"god\", \"god\", \"god\", \"god\", \"god\", \"god\", \"god\", \"god\", \"god\", \"god\", \"god\", \"god\", \"god\", \"god\", \"god\", \"goddard\", \"goddard\", \"godmother\", \"godmother\", \"godmother\", \"godmother\", \"godmother\", \"godmother\", \"godmother\", \"good\", \"good\", \"good\", \"good\", \"good\", \"good\", \"good\", \"good\", \"good\", \"good\", \"good\", \"good\", \"good\", \"good\", \"good\", \"got\", \"got\", \"got\", \"got\", \"got\", \"got\", \"got\", \"got\", \"got\", \"got\", \"got\", \"got\", \"got\", \"got\", \"gracechurch\", \"gracechurch\", \"graham\", \"graham\", \"graham\", \"graham\", \"graham\", \"graham\", \"graham\", \"graham\", \"graham\", \"grapes\", \"grapes\", \"grasp\", \"grasp\", \"grasp\", \"grasp\", \"grasp\", \"grasp\", \"grate\", \"grate\", \"grate\", \"grate\", \"gray\", \"gray\", \"gray\", \"gray\", \"gray\", \"great\", \"great\", \"great\", \"great\", \"great\", \"great\", \"great\", \"great\", \"great\", \"great\", \"great\", \"great\", \"great\", \"great\", \"great\", \"grec\", \"grisette\", \"grisette\", \"grisette\", \"hail\", \"hair\", \"hair\", \"hair\", \"hair\", \"hair\", \"hair\", \"hair\", \"hair\", \"hair\", \"hair\", \"hair\", \"hair\", \"hair\", \"hair\", \"hair\", \"half\", \"half\", \"half\", \"half\", \"half\", \"half\", \"half\", \"half\", \"half\", \"half\", \"half\", \"half\", \"half\", \"half\", \"half\", \"hall\", \"hall\", \"hall\", \"hall\", \"hall\", \"hall\", \"hall\", \"hall\", \"hall\", \"hall\", \"hall\", \"hall\", \"hall\", \"hall\", \"hall\", \"hamal\", \"hamal\", \"hamal\", \"hamal\", \"hand\", \"hand\", \"hand\", \"hand\", \"hand\", \"hand\", \"hand\", \"hand\", \"hand\", \"hand\", \"hand\", \"hand\", \"hand\", \"hand\", \"hand\", \"hannah\", \"hannah\", \"hannah\", \"hannah\", \"haply\", \"haply\", \"haply\", \"happiness\", \"happiness\", \"happiness\", \"happiness\", \"happiness\", \"happiness\", \"happiness\", \"happiness\", \"happiness\", \"happiness\", \"happiness\", \"happiness\", \"happiness\", \"harangue\", \"harangue\", \"harriet\", \"harriet\", \"harriet\", \"harriet\", \"harriet\", \"harriet\", \"harriet\", \"harriet\", \"harry\", \"harry\", \"harry\", \"hartfield\", \"hartfield\", \"haunting\", \"haunting\", \"haunting\", \"hauteur\", \"hauteur\", \"having\", \"having\", \"having\", \"having\", \"having\", \"having\", \"having\", \"having\", \"having\", \"having\", \"having\", \"having\", \"having\", \"having\", \"having\", \"hawkins\", \"hazel\", \"hazel\", \"head\", \"head\", \"head\", \"head\", \"head\", \"head\", \"head\", \"head\", \"head\", \"head\", \"head\", \"head\", \"head\", \"head\", \"head\", \"healed\", \"healed\", \"heard\", \"heard\", \"heard\", \"heard\", \"heard\", \"heard\", \"heard\", \"heard\", \"heard\", \"heard\", \"heard\", \"heard\", \"heard\", \"heard\", \"heard\", \"heart\", \"heart\", \"heart\", \"heart\", \"heart\", \"heart\", \"heart\", \"heart\", \"heart\", \"heart\", \"heart\", \"heart\", \"heart\", \"heart\", \"heart\", \"hearth\", \"hearth\", \"hearth\", \"hearth\", \"hearth\", \"hearth\", \"hearth\", \"hearth\", \"hearth\", \"hearth\", \"helen\", \"helen\", \"helen\", \"helen\", \"henri\", \"henri\", \"henri\", \"henri\", \"hertfordshire\", \"hertfordshire\", \"hide\", \"hide\", \"hide\", \"hide\", \"hide\", \"hide\", \"hide\", \"high\", \"high\", \"high\", \"high\", \"high\", \"high\", \"high\", \"high\", \"high\", \"high\", \"high\", \"high\", \"high\", \"high\", \"high\", \"highbury\", \"highbury\", \"highest\", \"highest\", \"highest\", \"highest\", \"highest\", \"highest\", \"highest\", \"highest\", \"hollow\", \"hollow\", \"hollow\", \"hollow\", \"hollow\", \"hollow\", \"hollow\", \"hollow\", \"hollow\", \"hollow\", \"holy\", \"holy\", \"holy\", \"holy\", \"home\", \"home\", \"home\", \"home\", \"home\", \"home\", \"home\", \"home\", \"home\", \"home\", \"home\", \"home\", \"home\", \"home\", \"home\", \"hostess\", \"hostess\", \"hostess\", \"hotel\", \"hotel\", \"hotel\", \"hotel\", \"hotel\", \"hotel\", \"hotel\", \"hour\", \"hour\", \"hour\", \"hour\", \"hour\", \"hour\", \"hour\", \"hour\", \"hour\", \"hour\", \"hour\", \"hour\", \"hour\", \"hour\", \"hour\", \"house\", \"house\", \"house\", \"house\", \"house\", \"house\", \"house\", \"house\", \"house\", \"house\", \"house\", \"house\", \"house\", \"house\", \"house\", \"hunsden\", \"hunsden\", \"hunsden\", \"hunsden\", \"hunsford\", \"hunsford\", \"hurst\", \"hurst\", \"hurst\", \"hurst\", \"idiot\", \"idiot\", \"idiot\", \"il\", \"il\", \"il\", \"il\", \"il\", \"il\", \"il\", \"illiterate\", \"imperious\", \"imperious\", \"imperious\", \"imperious\", \"improving\", \"inconveniences\", \"increase\", \"increase\", \"increase\", \"increase\", \"increase\", \"increase\", \"india\", \"india\", \"india\", \"india\", \"indies\", \"indies\", \"indies\", \"indignant\", \"indignant\", \"indignant\", \"indignant\", \"indignant\", \"indignant\", \"indignant\", \"ingram\", \"ingram\", \"ingram\", \"ingram\", \"ingram\", \"ingram\", \"inheritance\", \"inheritance\", \"inheritance\", \"inheritance\", \"inside\", \"inside\", \"instruments\", \"instruments\", \"insuperable\", \"insuperable\", \"intellectual\", \"intellectual\", \"intellectual\", \"intellectual\", \"intellectual\", \"intentionally\", \"interrupting\", \"interrupting\", \"interrupting\", \"interrupting\", \"intricate\", \"intricate\", \"intricate\", \"irritating\", \"irritating\", \"isabella\", \"isabella\", \"isabella\", \"isidore\", \"isidore\", \"ivy\", \"ivy\", \"ivy\", \"jack\", \"jack\", \"jane\", \"jane\", \"jane\", \"jane\", \"jane\", \"jane\", \"jane\", \"jane\", \"jane\", \"jane\", \"jane\", \"jane\", \"jane\", \"janet\", \"janet\", \"janet\", \"janet\", \"janet\", \"janet\", \"jar\", \"je\", \"je\", \"je\", \"je\", \"je\", \"je\", \"je\", \"je\", \"jealous\", \"jealous\", \"jealous\", \"jealous\", \"jealous\", \"jealous\", \"jealous\", \"jealous\", \"jealous\", \"jealous\", \"jenkinson\", \"jennings\", \"jennings\", \"jennings\", \"jennings\", \"jocund\", \"john\", \"john\", \"john\", \"john\", \"john\", \"john\", \"john\", \"john\", \"john\", \"john\", \"john\", \"john\", \"john\", \"john\", \"josef\", \"josef\", \"josef\", \"jour\", \"jour\", \"joyous\", \"joyous\", \"joyous\", \"joyous\", \"judgement\", \"justine\", \"justine\", \"justine\", \"justine\", \"kinsfolk\", \"kinsfolk\", \"kitty\", \"kitty\", \"kitty\", \"knew\", \"knew\", \"knew\", \"knew\", \"knew\", \"knew\", \"knew\", \"knew\", \"knew\", \"knew\", \"knew\", \"knew\", \"knew\", \"knew\", \"knew\", \"knightley\", \"knightley\", \"know\", \"know\", \"know\", \"know\", \"know\", \"know\", \"know\", \"know\", \"know\", \"know\", \"know\", \"know\", \"know\", \"know\", \"know\", \"la\", \"la\", \"la\", \"la\", \"la\", \"la\", \"la\", \"la\", \"la\", \"la\", \"la\", \"lad\", \"lad\", \"lad\", \"lad\", \"lad\", \"lady\", \"lady\", \"lady\", \"lady\", \"lady\", \"lady\", \"lady\", \"lady\", \"lady\", \"lady\", \"lady\", \"lady\", \"lady\", \"lady\", \"lady\", \"ladyship\", \"ladyship\", \"ladyship\", \"lamp\", \"lamp\", \"lamp\", \"lamp\", \"lamp\", \"lamp\", \"lamp\", \"lamp\", \"lamp\", \"land\", \"land\", \"land\", \"land\", \"land\", \"land\", \"land\", \"land\", \"land\", \"land\", \"land\", \"land\", \"land\", \"land\", \"land\", \"landlord\", \"landlord\", \"landlord\", \"landlord\", \"large\", \"large\", \"large\", \"large\", \"large\", \"large\", \"large\", \"large\", \"large\", \"large\", \"large\", \"large\", \"large\", \"larkins\", \"le\", \"le\", \"le\", \"le\", \"le\", \"le\", \"le\", \"le\", \"le\", \"le\", \"left\", \"left\", \"left\", \"left\", \"left\", \"left\", \"left\", \"left\", \"left\", \"left\", \"left\", \"left\", \"left\", \"left\", \"les\", \"les\", \"les\", \"les\", \"les\", \"let\", \"let\", \"let\", \"let\", \"let\", \"let\", \"let\", \"let\", \"let\", \"let\", \"let\", \"let\", \"let\", \"let\", \"liberated\", \"liberated\", \"liberated\", \"liberated\", \"life\", \"life\", \"life\", \"life\", \"life\", \"life\", \"life\", \"life\", \"life\", \"life\", \"life\", \"life\", \"life\", \"life\", \"life\", \"light\", \"light\", \"light\", \"light\", \"light\", \"light\", \"light\", \"light\", \"light\", \"light\", \"light\", \"light\", \"light\", \"light\", \"like\", \"like\", \"like\", \"like\", \"like\", \"like\", \"like\", \"like\", \"like\", \"like\", \"like\", \"like\", \"like\", \"like\", \"like\", \"liked\", \"liked\", \"liked\", \"liked\", \"liked\", \"liked\", \"liked\", \"liked\", \"liked\", \"liked\", \"liked\", \"liked\", \"liked\", \"liked\", \"liked\", \"lilies\", \"lilies\", \"lilies\", \"lines\", \"lines\", \"lines\", \"lines\", \"lines\", \"lines\", \"lines\", \"lines\", \"lines\", \"lines\", \"lines\", \"little\", \"little\", \"little\", \"little\", \"little\", \"little\", \"little\", \"little\", \"little\", \"little\", \"little\", \"little\", \"little\", \"little\", \"little\", \"lizzy\", \"lizzy\", \"lizzy\", \"ll\", \"ll\", \"ll\", \"ll\", \"ll\", \"ll\", \"ll\", \"ll\", \"ll\", \"ll\", \"lloyd\", \"lloyd\", \"lloyd\", \"long\", \"long\", \"long\", \"long\", \"long\", \"long\", \"long\", \"long\", \"long\", \"long\", \"long\", \"long\", \"long\", \"long\", \"long\", \"longbourn\", \"longbourn\", \"look\", \"look\", \"look\", \"look\", \"look\", \"look\", \"look\", \"look\", \"look\", \"look\", \"look\", \"look\", \"look\", \"look\", \"look\", \"looked\", \"looked\", \"looked\", \"looked\", \"looked\", \"looked\", \"looked\", \"looked\", \"looked\", \"looked\", \"looked\", \"looked\", \"looked\", \"looked\", \"looked\", \"looking\", \"looking\", \"looking\", \"looking\", \"looking\", \"looking\", \"looking\", \"looking\", \"looking\", \"looking\", \"looking\", \"looking\", \"looking\", \"looking\", \"lost\", \"lost\", \"lost\", \"lost\", \"lost\", \"lost\", \"lost\", \"lost\", \"lost\", \"lost\", \"lost\", \"lost\", \"lost\", \"lost\", \"lottery\", \"lottery\", \"love\", \"love\", \"love\", \"love\", \"love\", \"love\", \"love\", \"love\", \"love\", \"love\", \"love\", \"love\", \"love\", \"love\", \"love\", \"lowood\", \"lowood\", \"lowood\", \"lowood\", \"lowood\", \"lowood\", \"lowton\", \"lucas\", \"lucases\", \"lucy\", \"lucy\", \"lucy\", \"lucy\", \"lucy\", \"lucy\", \"lucy\", \"lucy\", \"lucy\", \"lucy\", \"lucy\", \"lucy\", \"lull\", \"lull\", \"lull\", \"lure\", \"lure\", \"lure\", \"lure\", \"lydia\", \"lydia\", \"lydia\", \"lynn\", \"lynn\", \"lynn\", \"ma\", \"ma\", \"ma\", \"ma\", \"ma\", \"ma\", \"ma\", \"ma\", \"ma\", \"ma\", \"ma\", \"ma\", \"ma\", \"madame\", \"madame\", \"madame\", \"madame\", \"madame\", \"madame\", \"madame\", \"madame\", \"madame\", \"madame\", \"madame\", \"madame\", \"mademoiselle\", \"mademoiselle\", \"mademoiselle\", \"mademoiselle\", \"mademoiselle\", \"mademoiselle\", \"mademoiselle\", \"mademoiselle\", \"mademoiselle\", \"magnanimity\", \"magnanimity\", \"majestic\", \"majestic\", \"majestic\", \"majesty\", \"majesty\", \"mamma\", \"mamma\", \"mamma\", \"mamma\", \"mamma\", \"mamma\", \"mamma\", \"mamma\", \"man\", \"man\", \"man\", \"man\", \"man\", \"man\", \"man\", \"man\", \"man\", \"man\", \"man\", \"man\", \"man\", \"man\", \"man\", \"mantle\", \"mantle\", \"maple\", \"margaret\", \"margaret\", \"margaret\", \"margin\", \"margin\", \"margin\", \"maria\", \"maria\", \"marianne\", \"marianne\", \"marianne\", \"marianne\", \"marianne\", \"marianne\", \"marie\", \"marie\", \"marie\", \"marie\", \"marsh\", \"marsh\", \"marsh\", \"marsh\", \"mary\", \"mary\", \"mary\", \"mary\", \"mary\", \"mary\", \"mary\", \"mary\", \"mary\", \"mary\", \"mason\", \"mason\", \"mason\", \"mdlle\", \"mdlle\", \"mdlle\", \"mdlle\", \"mdlle\", \"mdlle\", \"medical\", \"medical\", \"medical\", \"medical\", \"members\", \"members\", \"meryton\", \"meryton\", \"mes\", \"mes\", \"middleton\", \"middleton\", \"middleton\", \"militia\", \"militia\", \"miller\", \"miller\", \"miller\", \"mind\", \"mind\", \"mind\", \"mind\", \"mind\", \"mind\", \"mind\", \"mind\", \"mind\", \"mind\", \"mind\", \"mind\", \"mind\", \"mind\", \"mind\", \"miracles\", \"miracles\", \"miracles\", \"miss\", \"miss\", \"miss\", \"miss\", \"miss\", \"miss\", \"miss\", \"miss\", \"miss\", \"miss\", \"miss\", \"miss\", \"miss\", \"miss\", \"miss\", \"missis\", \"missis\", \"missis\", \"misty\", \"moi\", \"moi\", \"moi\", \"moi\", \"moi\", \"moi\", \"moi\", \"moment\", \"moment\", \"moment\", \"moment\", \"moment\", \"moment\", \"moment\", \"moment\", \"moment\", \"moment\", \"moment\", \"moment\", \"moment\", \"moment\", \"moment\", \"monde\", \"monde\", \"monde\", \"monitor\", \"monsieur\", \"monsieur\", \"monsieur\", \"monsieur\", \"monsieur\", \"monsieur\", \"monsieur\", \"monsieur\", \"monsieur\", \"monsieur\", \"monsieur\", \"moon\", \"moon\", \"moon\", \"moon\", \"moon\", \"moon\", \"moon\", \"moon\", \"moon\", \"moon\", \"moonlight\", \"moonlight\", \"moonlight\", \"moonlight\", \"moonlight\", \"moonlight\", \"moonlight\", \"moonlight\", \"moonlight\", \"moonlight\", \"moor\", \"moor\", \"moor\", \"moor\", \"morbid\", \"morbid\", \"morning\", \"morning\", \"morning\", \"morning\", \"morning\", \"morning\", \"morning\", \"morning\", \"morning\", \"morning\", \"morning\", \"morning\", \"morning\", \"morning\", \"morning\", \"morton\", \"morton\", \"morton\", \"morton\", \"morton\", \"morton\", \"morton\", \"mother\", \"mother\", \"mother\", \"mother\", \"mother\", \"mother\", \"mother\", \"mother\", \"mother\", \"mother\", \"mother\", \"mother\", \"mother\", \"mother\", \"mother\", \"motherly\", \"motherly\", \"motherly\", \"motherly\", \"motherly\", \"moulded\", \"moulded\", \"moulded\", \"moulded\", \"mysteries\", \"mysteries\", \"narrated\", \"narrated\", \"narrated\", \"narrated\", \"narrated\", \"nation\", \"nation\", \"nation\", \"naughty\", \"naughty\", \"naughty\", \"naughty\", \"ne\", \"ne\", \"ne\", \"ne\", \"ne\", \"ne\", \"ne\", \"ne\", \"ne\", \"near\", \"near\", \"near\", \"near\", \"near\", \"near\", \"near\", \"near\", \"near\", \"near\", \"near\", \"near\", \"near\", \"near\", \"near\", \"necks\", \"necks\", \"necks\", \"netherfield\", \"netherfield\", \"new\", \"new\", \"new\", \"new\", \"new\", \"new\", \"new\", \"new\", \"new\", \"new\", \"new\", \"new\", \"new\", \"new\", \"night\", \"night\", \"night\", \"night\", \"night\", \"night\", \"night\", \"night\", \"night\", \"night\", \"night\", \"night\", \"night\", \"night\", \"night\", \"norland\", \"norland\", \"notre\", \"notre\", \"nun\", \"nun\", \"nun\", \"nun\", \"nun\", \"nun\", \"nun\", \"nun\", \"occurrences\", \"oh\", \"oh\", \"oh\", \"oh\", \"oh\", \"oh\", \"oh\", \"oh\", \"oh\", \"oh\", \"oh\", \"oh\", \"oh\", \"oh\", \"old\", \"old\", \"old\", \"old\", \"old\", \"old\", \"old\", \"old\", \"old\", \"old\", \"old\", \"old\", \"old\", \"old\", \"ominous\", \"ominous\", \"ominous\", \"omission\", \"omission\", \"opaque\", \"opaque\", \"open\", \"open\", \"open\", \"open\", \"open\", \"open\", \"open\", \"open\", \"open\", \"open\", \"open\", \"open\", \"open\", \"open\", \"open\", \"opinion\", \"opinion\", \"opinion\", \"opinion\", \"opinion\", \"opinion\", \"opinion\", \"opinion\", \"opinion\", \"opinion\", \"opinion\", \"opinion\", \"opinion\", \"ornamented\", \"ornamented\", \"ornamented\", \"outlived\", \"overcoming\", \"paler\", \"paler\", \"paler\", \"paletot\", \"paletot\", \"palmer\", \"palmer\", \"palmer\", \"palmers\", \"palmers\", \"papa\", \"papa\", \"papa\", \"papa\", \"papa\", \"papa\", \"papa\", \"papa\", \"papa\", \"papa\", \"pas\", \"pas\", \"pas\", \"pas\", \"pas\", \"pas\", \"pas\", \"pas\", \"passively\", \"passively\", \"patrician\", \"patrician\", \"patty\", \"paul\", \"paul\", \"paul\", \"paul\", \"paul\", \"paul\", \"paul\", \"paul\", \"paul\", \"paul\", \"paul\", \"paul\", \"paulina\", \"paulina\", \"paulina\", \"paulina\", \"paulina\", \"paulina\", \"pelet\", \"pelet\", \"pelet\", \"pelet\", \"pelet\", \"pelet\", \"pelet\", \"pelet\", \"pelet\", \"pelet\", \"pencils\", \"pencils\", \"penetrated\", \"penetrated\", \"penetrated\", \"penetrated\", \"penetrated\", \"penetrated\", \"penetrated\", \"perry\", \"perry\", \"perry\", \"pervaded\", \"petit\", \"petit\", \"petty\", \"petty\", \"petty\", \"peut\", \"peut\", \"phase\", \"phase\", \"phase\", \"phase\", \"phillips\", \"phillips\", \"pictures\", \"pictures\", \"pictures\", \"pictures\", \"pictures\", \"pictures\", \"pictures\", \"pictures\", \"pictures\", \"pierre\", \"pierre\", \"pierre\", \"pierre\", \"pierre\", \"pilot\", \"pilot\", \"pilot\", \"pilot\", \"pilot\", \"pilot\", \"pilot\", \"pilot\", \"pioneer\", \"pioneer\", \"place\", \"place\", \"place\", \"place\", \"place\", \"place\", \"place\", \"place\", \"place\", \"place\", \"place\", \"place\", \"place\", \"place\", \"platform\", \"platform\", \"platform\", \"plebeian\", \"plebeian\", \"polly\", \"polly\", \"polly\", \"polly\", \"poole\", \"poole\", \"poole\", \"poole\", \"pope\", \"pope\", \"porridge\", \"porridge\", \"porridge\", \"portfolio\", \"portfolio\", \"portfolio\", \"portfolio\", \"portress\", \"portress\", \"portress\", \"portress\", \"portress\", \"possessor\", \"possessor\", \"possessor\", \"possessor\", \"possessor\", \"potatoes\", \"poured\", \"poured\", \"poured\", \"poured\", \"poured\", \"poured\", \"powerless\", \"powerless\", \"powerless\", \"powerless\", \"powerless\", \"powerless\", \"preaching\", \"preaching\", \"prepossession\", \"present\", \"present\", \"present\", \"present\", \"present\", \"present\", \"present\", \"present\", \"present\", \"present\", \"present\", \"present\", \"present\", \"present\", \"pretended\", \"pretended\", \"pretended\", \"pretended\", \"professor\", \"professor\", \"professor\", \"professor\", \"professor\", \"professor\", \"professor\", \"professor\", \"professor\", \"pupils\", \"pupils\", \"pupils\", \"pupils\", \"pupils\", \"pupils\", \"pupils\", \"pupils\", \"pupils\", \"pupils\", \"pupils\", \"pupils\", \"qu\", \"qu\", \"qu\", \"qu\", \"qu\", \"qu\", \"que\", \"que\", \"que\", \"que\", \"que\", \"que\", \"que\", \"queen\", \"queen\", \"queen\", \"queen\", \"queen\", \"queen\", \"queen\", \"radiant\", \"radiant\", \"radiant\", \"rained\", \"rained\", \"rained\", \"randalls\", \"randalls\", \"read\", \"read\", \"read\", \"read\", \"read\", \"read\", \"read\", \"read\", \"read\", \"read\", \"read\", \"read\", \"read\", \"reader\", \"reader\", \"reader\", \"reader\", \"reader\", \"reader\", \"reader\", \"reader\", \"reader\", \"reader\", \"reader\", \"reader\", \"realized\", \"realized\", \"realized\", \"realized\", \"realized\", \"recalling\", \"recalling\", \"recalling\", \"recalling\", \"recalling\", \"recollecting\", \"recollecting\", \"recollecting\", \"recollecting\", \"recovery\", \"recovery\", \"recovery\", \"reed\", \"reed\", \"reed\", \"reed\", \"reed\", \"reed\", \"reed\", \"reflex\", \"reflex\", \"relinquish\", \"relinquish\", \"relinquish\", \"relinquish\", \"rent\", \"rent\", \"rent\", \"rent\", \"rent\", \"rent\", \"rent\", \"repast\", \"repast\", \"repast\", \"repast\", \"repelled\", \"repelled\", \"repelled\", \"replied\", \"replied\", \"replied\", \"replied\", \"replied\", \"replied\", \"replied\", \"replied\", \"replied\", \"replied\", \"replied\", \"replied\", \"replied\", \"replied\", \"retiring\", \"reuter\", \"reuter\", \"reuter\", \"reuter\", \"reuter\", \"reverence\", \"reverence\", \"reverence\", \"reverence\", \"revolted\", \"richly\", \"richly\", \"richly\", \"richmond\", \"ringlets\", \"ringlets\", \"ringlets\", \"ringlets\", \"rivers\", \"rivers\", \"rivers\", \"rivers\", \"rivers\", \"rivers\", \"rivers\", \"road\", \"road\", \"road\", \"road\", \"road\", \"road\", \"road\", \"road\", \"road\", \"road\", \"road\", \"road\", \"roared\", \"roared\", \"roared\", \"robert\", \"robert\", \"robert\", \"robert\", \"robert\", \"rochester\", \"rochester\", \"rochester\", \"rochester\", \"rochester\", \"rochester\", \"rochester\", \"rochester\", \"rochester\", \"rochester\", \"rochester\", \"rochester\", \"rome\", \"rome\", \"rome\", \"rome\", \"rome\", \"room\", \"room\", \"room\", \"room\", \"room\", \"room\", \"room\", \"room\", \"room\", \"room\", \"room\", \"room\", \"room\", \"room\", \"room\", \"rosine\", \"rosine\", \"rosine\", \"rosine\", \"rosine\", \"rosine\", \"rosings\", \"rosings\", \"round\", \"round\", \"round\", \"round\", \"round\", \"round\", \"round\", \"round\", \"round\", \"round\", \"round\", \"round\", \"round\", \"round\", \"rubbed\", \"rubbed\", \"rubbed\", \"rudeness\", \"rudeness\", \"rudeness\", \"rue\", \"rue\", \"rue\", \"rue\", \"rue\", \"rue\", \"rue\", \"rue\", \"rue\", \"rue\", \"rue\", \"rupture\", \"rupture\", \"sa\", \"sa\", \"sa\", \"sais\", \"sais\", \"sais\", \"sand\", \"sand\", \"sardonic\", \"sardonic\", \"satin\", \"satin\", \"satin\", \"satin\", \"satin\", \"satin\", \"saucy\", \"savings\", \"savings\", \"savings\", \"saw\", \"saw\", \"saw\", \"saw\", \"saw\", \"saw\", \"saw\", \"saw\", \"saw\", \"saw\", \"saw\", \"saw\", \"saw\", \"saw\", \"saw\", \"scatcherd\", \"scatcherd\", \"scatcherd\", \"scatcherd\", \"scatcherd\", \"scent\", \"scent\", \"scholars\", \"scholars\", \"scholars\", \"scholars\", \"school\", \"school\", \"school\", \"school\", \"school\", \"school\", \"school\", \"school\", \"school\", \"school\", \"school\", \"school\", \"school\", \"school\", \"science\", \"science\", \"science\", \"science\", \"science\", \"science\", \"scotch\", \"scotch\", \"scotch\", \"scrupulously\", \"scrupulously\", \"scrupulously\", \"scrupulously\", \"seacombe\", \"seacombe\", \"seasons\", \"seasons\", \"seasons\", \"seasons\", \"sedate\", \"sedate\", \"selina\", \"settlement\", \"settlement\", \"settlement\", \"shall\", \"shall\", \"shall\", \"shall\", \"shall\", \"shall\", \"shall\", \"shall\", \"shall\", \"shall\", \"shall\", \"shall\", \"shall\", \"shall\", \"shall\", \"shawls\", \"shawls\", \"shawls\", \"showy\", \"showy\", \"showy\", \"showy\", \"showy\", \"simultaneously\", \"sink\", \"sink\", \"sink\", \"sink\", \"sir\", \"sir\", \"sir\", \"sir\", \"sir\", \"sir\", \"sir\", \"sir\", \"sir\", \"sir\", \"sir\", \"sir\", \"sir\", \"sir\", \"sire\", \"sire\", \"sister\", \"sister\", \"sister\", \"sister\", \"sister\", \"sister\", \"sister\", \"sister\", \"sister\", \"sister\", \"sister\", \"sister\", \"sisters\", \"sisters\", \"sisters\", \"sisters\", \"sisters\", \"sisters\", \"sisters\", \"sisters\", \"sisters\", \"sisters\", \"sisters\", \"sisters\", \"sketches\", \"sketches\", \"sketches\", \"sketches\", \"slate\", \"slate\", \"slavery\", \"slavery\", \"slavery\", \"sleeve\", \"sleeve\", \"sleeve\", \"sleeve\", \"sleeve\", \"sloping\", \"sloping\", \"sloping\", \"snowe\", \"snowe\", \"snowe\", \"snowe\", \"snowe\", \"snowe\", \"snowe\", \"snowe\", \"softly\", \"softly\", \"softly\", \"softly\", \"softly\", \"softly\", \"softly\", \"softly\", \"softly\", \"softly\", \"soir\", \"soir\", \"soir\", \"soir\", \"soit\", \"soit\", \"soliloquy\", \"soliloquy\", \"soliloquy\", \"soliloquy\", \"somersetshire\", \"soon\", \"soon\", \"soon\", \"soon\", \"soon\", \"soon\", \"soon\", \"soon\", \"soon\", \"soon\", \"soon\", \"soon\", \"soon\", \"soon\", \"soon\", \"sophie\", \"sophie\", \"sophie\", \"sophie\", \"sophie\", \"sound\", \"sound\", \"sound\", \"sound\", \"sound\", \"sound\", \"sound\", \"sound\", \"sound\", \"sound\", \"sound\", \"sound\", \"sound\", \"sound\", \"soup\", \"soup\", \"soup\", \"spectacles\", \"spectacles\", \"spectacles\", \"spectacles\", \"splendour\", \"splendour\", \"splendour\", \"splendour\", \"splendour\", \"sprite\", \"sprite\", \"sprite\", \"sprite\", \"spurred\", \"spurred\", \"spurred\", \"spurred\", \"spurred\", \"spy\", \"spy\", \"st\", \"st\", \"st\", \"st\", \"st\", \"st\", \"st\", \"st\", \"st\", \"st\", \"startling\", \"startling\", \"startling\", \"station\", \"station\", \"station\", \"station\", \"station\", \"station\", \"station\", \"station\", \"station\", \"station\", \"steele\", \"steele\", \"steele\", \"sternness\", \"sternness\", \"sternness\", \"stood\", \"stood\", \"stood\", \"stood\", \"stood\", \"stood\", \"stood\", \"stood\", \"stood\", \"stood\", \"stood\", \"stood\", \"stood\", \"stood\", \"stopt\", \"strangest\", \"strangest\", \"strangest\", \"straw\", \"straw\", \"straw\", \"straw\", \"straw\", \"strove\", \"strove\", \"studious\", \"studious\", \"suave\", \"suave\", \"suave\", \"suckling\", \"suite\", \"suite\", \"suite\", \"summits\", \"summits\", \"summits\", \"summits\", \"sure\", \"sure\", \"sure\", \"sure\", \"sure\", \"sure\", \"sure\", \"sure\", \"sure\", \"sure\", \"sure\", \"sure\", \"sure\", \"sure\", \"surprize\", \"surprize\", \"surprized\", \"surprized\", \"sussex\", \"swam\", \"swam\", \"swiss\", \"swiss\", \"switzerland\", \"switzerland\", \"switzerland\", \"sylvie\", \"sylvie\", \"sylvie\", \"sylvie\", \"sylvie\", \"sympathies\", \"sympathies\", \"sympathies\", \"sympathies\", \"tap\", \"tap\", \"taylor\", \"taylor\", \"taylor\", \"tell\", \"tell\", \"tell\", \"tell\", \"tell\", \"tell\", \"tell\", \"tell\", \"tell\", \"tell\", \"tell\", \"tell\", \"tell\", \"tell\", \"tell\", \"temple\", \"temple\", \"temple\", \"temple\", \"temple\", \"temple\", \"temple\", \"temple\", \"testified\", \"testified\", \"testified\", \"testified\", \"thing\", \"thing\", \"thing\", \"thing\", \"thing\", \"thing\", \"thing\", \"thing\", \"thing\", \"thing\", \"thing\", \"thing\", \"thing\", \"thing\", \"thing\", \"think\", \"think\", \"think\", \"think\", \"think\", \"think\", \"think\", \"think\", \"think\", \"think\", \"think\", \"think\", \"think\", \"think\", \"think\", \"thornfield\", \"thornfield\", \"thornfield\", \"thornfield\", \"thornfield\", \"thornfield\", \"thornfield\", \"thornfield\", \"thornfield\", \"thornfield\", \"thought\", \"thought\", \"thought\", \"thought\", \"thought\", \"thought\", \"thought\", \"thought\", \"thought\", \"thought\", \"thought\", \"thought\", \"thought\", \"thought\", \"thought\", \"thy\", \"thy\", \"thy\", \"thy\", \"thy\", \"thy\", \"thy\", \"tidings\", \"tidings\", \"tidings\", \"tidings\", \"tidings\", \"tidings\", \"tidings\", \"tidings\", \"tidings\", \"till\", \"till\", \"till\", \"till\", \"till\", \"till\", \"till\", \"till\", \"till\", \"till\", \"till\", \"till\", \"till\", \"till\", \"till\", \"time\", \"time\", \"time\", \"time\", \"time\", \"time\", \"time\", \"time\", \"time\", \"time\", \"time\", \"time\", \"time\", \"time\", \"time\", \"tinged\", \"tinged\", \"tis\", \"tis\", \"tis\", \"took\", \"took\", \"took\", \"took\", \"took\", \"took\", \"took\", \"took\", \"took\", \"took\", \"took\", \"took\", \"took\", \"took\", \"took\", \"town\", \"town\", \"town\", \"town\", \"town\", \"town\", \"town\", \"town\", \"town\", \"town\", \"town\", \"town\", \"town\", \"traitor\", \"traitor\", \"traitor\", \"tramp\", \"trampling\", \"trampling\", \"trampling\", \"translation\", \"translation\", \"traveller\", \"traveller\", \"traveller\", \"traversed\", \"traversed\", \"traversed\", \"trod\", \"turban\", \"turban\", \"turban\", \"turban\", \"turban\", \"turban\", \"turbulent\", \"turbulent\", \"turk\", \"turk\", \"tynedale\", \"tynedale\", \"tyrant\", \"tyrant\", \"tyrant\", \"tyrant\", \"tyrant\", \"tyrant\", \"tyrant\", \"unaccountably\", \"unaccountably\", \"unaccountably\", \"unaccountably\", \"unaccountably\", \"unavoidable\", \"unceasing\", \"uncles\", \"uncles\", \"uncles\", \"uncles\", \"uncles\", \"unction\", \"unction\", \"unction\", \"unction\", \"unction\", \"undressed\", \"undressed\", \"une\", \"une\", \"une\", \"une\", \"unfortunate\", \"unfortunate\", \"unfortunate\", \"unfortunate\", \"unhappy\", \"unhappy\", \"unhappy\", \"unhappy\", \"unhappy\", \"unhappy\", \"unhappy\", \"unkind\", \"unkind\", \"unlocked\", \"urgency\", \"urgency\", \"urgency\", \"vandenhuten\", \"vandenhuten\", \"vandenhuten\", \"vandenhuten\", \"vehicle\", \"vehicle\", \"venerable\", \"venerable\", \"vestibule\", \"vestibule\", \"vestibule\", \"vestibule\", \"vestibule\", \"vestibule\", \"vestibule\", \"vestibule\", \"vestibule\", \"vicarage\", \"vicarage\", \"victims\", \"victims\", \"victor\", \"victor\", \"victor\", \"victor\", \"victor\", \"vigilance\", \"vigilance\", \"vindication\", \"voice\", \"voice\", \"voice\", \"voice\", \"voice\", \"voice\", \"voice\", \"voice\", \"voice\", \"voice\", \"voice\", \"voice\", \"voice\", \"voice\", \"vouchsafed\", \"vouchsafed\", \"vouchsafed\", \"vouchsafed\", \"vouchsafed\", \"vouchsafed\", \"vous\", \"vous\", \"vous\", \"vous\", \"vous\", \"vous\", \"vous\", \"wages\", \"wages\", \"waiter\", \"waiter\", \"waiter\", \"wall\", \"wall\", \"wall\", \"wall\", \"wall\", \"wall\", \"wall\", \"wall\", \"wall\", \"wall\", \"wall\", \"walravens\", \"walravens\", \"walravens\", \"want\", \"want\", \"want\", \"want\", \"want\", \"want\", \"want\", \"want\", \"want\", \"want\", \"want\", \"want\", \"want\", \"want\", \"want\", \"warren\", \"watched\", \"watched\", \"watched\", \"watched\", \"watched\", \"watched\", \"watched\", \"watched\", \"watched\", \"watched\", \"watched\", \"watched\", \"watched\", \"watched\", \"watched\", \"way\", \"way\", \"way\", \"way\", \"way\", \"way\", \"way\", \"way\", \"way\", \"way\", \"way\", \"way\", \"way\", \"way\", \"way\", \"went\", \"went\", \"went\", \"went\", \"went\", \"went\", \"went\", \"went\", \"went\", \"went\", \"went\", \"went\", \"went\", \"went\", \"went\", \"weston\", \"weston\", \"weston\", \"weymouth\", \"wheel\", \"wheel\", \"wheel\", \"wheel\", \"whip\", \"whip\", \"whip\", \"whitcross\", \"white\", \"white\", \"white\", \"white\", \"white\", \"white\", \"white\", \"white\", \"white\", \"white\", \"white\", \"white\", \"white\", \"white\", \"wickham\", \"wickham\", \"wickham\", \"wife\", \"wife\", \"wife\", \"wife\", \"wife\", \"wife\", \"wife\", \"wife\", \"wife\", \"wife\", \"wife\", \"wife\", \"wife\", \"willoughby\", \"willoughby\", \"willoughby\", \"willoughby\", \"willoughby\", \"wind\", \"wind\", \"wind\", \"wind\", \"wind\", \"wind\", \"wind\", \"wind\", \"wind\", \"wind\", \"wind\", \"wind\", \"woes\", \"woes\", \"woes\", \"wood\", \"wood\", \"wood\", \"wood\", \"wood\", \"wood\", \"wood\", \"wood\", \"wood\", \"woodhouse\", \"woodhouse\", \"woodhouse\", \"woodhouse\", \"words\", \"words\", \"words\", \"words\", \"words\", \"words\", \"words\", \"words\", \"words\", \"words\", \"words\", \"words\", \"words\", \"words\", \"words\", \"work\", \"work\", \"work\", \"work\", \"work\", \"work\", \"work\", \"work\", \"work\", \"work\", \"work\", \"work\", \"work\", \"work\", \"workings\", \"workings\", \"world\", \"world\", \"world\", \"world\", \"world\", \"world\", \"world\", \"world\", \"world\", \"world\", \"world\", \"world\", \"world\", \"world\", \"world\", \"write\", \"write\", \"write\", \"write\", \"write\", \"write\", \"write\", \"write\", \"write\", \"write\", \"write\", \"write\", \"write\", \"xix\", \"xix\", \"xix\", \"xix\", \"ye\", \"ye\", \"ye\", \"ye\", \"ye\", \"yes\", \"yes\", \"yes\", \"yes\", \"yes\", \"yes\", \"yes\", \"yes\", \"yes\", \"yes\", \"yes\", \"yes\", \"yes\", \"yes\", \"yorke\", \"yorke\", \"young\", \"young\", \"young\", \"young\", \"young\", \"young\", \"young\", \"young\", \"young\", \"young\", \"young\", \"young\", \"young\", \"young\", \"zelie\", \"zelie\", \"zelie\", \"zoraide\", \"zoraide\", \"zoraide\", \"zoraide\", \"zoraide\"]}, \"R\": 30, \"lambda.step\": 0.01, \"plot.opts\": {\"xlab\": \"PC1\", \"ylab\": \"PC2\"}, \"topic.order\": [2, 11, 7, 8, 6, 3, 15, 13, 1, 4, 12, 10, 5, 14, 9]};\n",
       "\n",
       "function LDAvis_load_lib(url, callback){\n",
       "  var s = document.createElement('script');\n",
       "  s.src = url;\n",
       "  s.async = true;\n",
       "  s.onreadystatechange = s.onload = callback;\n",
       "  s.onerror = function(){console.warn(\"failed to load library \" + url);};\n",
       "  document.getElementsByTagName(\"head\")[0].appendChild(s);\n",
       "}\n",
       "\n",
       "if(typeof(LDAvis) !== \"undefined\"){\n",
       "   // already loaded: just create the visualization\n",
       "   !function(LDAvis){\n",
       "       new LDAvis(\"#\" + \"ldavis_el31011396510466518485577795515\", ldavis_el31011396510466518485577795515_data);\n",
       "   }(LDAvis);\n",
       "}else if(typeof define === \"function\" && define.amd){\n",
       "   // require.js is available: use it to load d3/LDAvis\n",
       "   require.config({paths: {d3: \"https://cdnjs.cloudflare.com/ajax/libs/d3/3.5.5/d3.min\"}});\n",
       "   require([\"d3\"], function(d3){\n",
       "      window.d3 = d3;\n",
       "      LDAvis_load_lib(\"https://cdn.rawgit.com/bmabey/pyLDAvis/files/ldavis.v1.0.0.js\", function(){\n",
       "        new LDAvis(\"#\" + \"ldavis_el31011396510466518485577795515\", ldavis_el31011396510466518485577795515_data);\n",
       "      });\n",
       "    });\n",
       "}else{\n",
       "    // require.js not available: dynamically load d3 & LDAvis\n",
       "    LDAvis_load_lib(\"https://cdnjs.cloudflare.com/ajax/libs/d3/3.5.5/d3.min.js\", function(){\n",
       "         LDAvis_load_lib(\"https://cdn.rawgit.com/bmabey/pyLDAvis/files/ldavis.v1.0.0.js\", function(){\n",
       "                 new LDAvis(\"#\" + \"ldavis_el31011396510466518485577795515\", ldavis_el31011396510466518485577795515_data);\n",
       "            })\n",
       "         });\n",
       "}\n",
       "</script>"
      ],
      "text/plain": [
       "PreparedData(topic_coordinates=              x         y  topics  cluster       Freq\n",
       "topic                                                \n",
       "1      0.145086  0.009637       1        1  17.776601\n",
       "10     0.157731  0.018137       2        1  13.188303\n",
       "6      0.167000 -0.001689       3        1  12.624997\n",
       "7     -0.066395 -0.019818       4        1  11.432452\n",
       "5     -0.008240 -0.013422       5        1   7.893301\n",
       "2     -0.003025 -0.024663       6        1   7.645911\n",
       "14    -0.060196 -0.027091       7        1   6.496879\n",
       "12    -0.053950 -0.002699       8        1   5.953220\n",
       "0     -0.103418  0.116742       9        1   4.867012\n",
       "3     -0.046005  0.003583      10        1   3.680607\n",
       "11    -0.055329  0.046049      11        1   3.218541\n",
       "9      0.036701 -0.015517      12        1   2.411993\n",
       "4     -0.069860 -0.118008      13        1   1.383578\n",
       "13    -0.013535  0.047659      14        1   1.119758\n",
       "8     -0.026566 -0.018901      15        1   0.306847, topic_info=           Term         Freq        Total Category  logprob  loglift\n",
       "86         emma   883.000000   883.000000  Default  30.0000  30.0000\n",
       "1339  elizabeth   638.000000   638.000000  Default  29.0000  29.0000\n",
       "5851     elinor   675.000000   675.000000  Default  28.0000  28.0000\n",
       "301      weston   450.000000   450.000000  Default  27.0000  27.0000\n",
       "183        miss  1541.000000  1541.000000  Default  26.0000  26.0000\n",
       "...         ...          ...          ...      ...      ...      ...\n",
       "116       great     2.807119   829.533333  Topic15  -5.8366   0.0979\n",
       "2340      chair     2.274101   168.705875  Topic15  -6.0472   1.4800\n",
       "987        eyes     2.335676   635.316203  Topic15  -6.0205   0.1808\n",
       "63          day     2.348251  1053.977304  Topic15  -6.0151  -0.3201\n",
       "403        like     2.370495  1319.691839  Topic15  -6.0057  -0.5355\n",
       "\n",
       "[1142 rows x 6 columns], token_table=      Topic      Freq        Term\n",
       "term                             \n",
       "792       1  0.061428       abbey\n",
       "792       2  0.890706       abbey\n",
       "6814      6  0.864365    absolved\n",
       "6080      6  0.770853  abstracted\n",
       "6080      8  0.128475  abstracted\n",
       "...     ...       ...         ...\n",
       "7898      5  0.103748     zoraide\n",
       "7898      7  0.034583     zoraide\n",
       "7898      9  0.760822     zoraide\n",
       "7898     11  0.069166     zoraide\n",
       "7898     15  0.034583     zoraide\n",
       "\n",
       "[4457 rows x 3 columns], R=30, lambda_step=0.01, plot_opts={'xlab': 'PC1', 'ylab': 'PC2'}, topic_order=[2, 11, 7, 8, 6, 3, 15, 13, 1, 4, 12, 10, 5, 14, 9])"
      ]
     },
     "execution_count": 41,
     "metadata": {},
     "output_type": "execute_result"
    }
   ],
   "source": [
    "import warnings\n",
    "warnings.filterwarnings(\"ignore\", category=FutureWarning)\n",
    "\n",
    "pyLDAvis.gensim.prepare(lda, corpus, id2word)"
   ]
  },
  {
   "cell_type": "markdown",
   "metadata": {},
   "source": [
    "### Overall Model / Documents"
   ]
  },
  {
   "cell_type": "code",
   "execution_count": 42,
   "metadata": {},
   "outputs": [
    {
     "name": "stderr",
     "output_type": "stream",
     "text": [
      "/home/jepoy/miniconda3/envs/ds-unit-4/lib/python3.7/site-packages/ipykernel/ipkernel.py:287: DeprecationWarning: `should_run_async` will not call `transform_cell` automatically in the future. Please pass the result to `transformed_cell` argument and any exception that happen during thetransform in `preprocessing_exc_tuple` in IPython 7.17 and above.\n",
      "  and should_run_async(code)\n"
     ]
    },
    {
     "data": {
      "text/plain": [
       "[(1, 0.52467906), (5, 0.019031946), (10, 0.45443514)]"
      ]
     },
     "execution_count": 42,
     "metadata": {},
     "output_type": "execute_result"
    }
   ],
   "source": [
    "# pass in doc 0\n",
    "lda[corpus[0]]"
   ]
  },
  {
   "cell_type": "code",
   "execution_count": 43,
   "metadata": {},
   "outputs": [
    {
     "name": "stderr",
     "output_type": "stream",
     "text": [
      "/home/jepoy/miniconda3/envs/ds-unit-4/lib/python3.7/site-packages/ipykernel/ipkernel.py:287: DeprecationWarning: `should_run_async` will not call `transform_cell` automatically in the future. Please pass the result to `transformed_cell` argument and any exception that happen during thetransform in `preprocessing_exc_tuple` in IPython 7.17 and above.\n",
      "  and should_run_async(code)\n"
     ]
    }
   ],
   "source": [
    "distro = [lda[d] for d in corpus]"
   ]
  },
  {
   "cell_type": "code",
   "execution_count": 44,
   "metadata": {},
   "outputs": [
    {
     "name": "stderr",
     "output_type": "stream",
     "text": [
      "/home/jepoy/miniconda3/envs/ds-unit-4/lib/python3.7/site-packages/ipykernel/ipkernel.py:287: DeprecationWarning: `should_run_async` will not call `transform_cell` automatically in the future. Please pass the result to `transformed_cell` argument and any exception that happen during thetransform in `preprocessing_exc_tuple` in IPython 7.17 and above.\n",
      "  and should_run_async(code)\n"
     ]
    },
    {
     "data": {
      "text/plain": [
       "[(1, 0.5246731), (5, 0.019040857), (10, 0.45443216)]"
      ]
     },
     "execution_count": 44,
     "metadata": {},
     "output_type": "execute_result"
    }
   ],
   "source": [
    "# gives you the distribution for each document\n",
    "distro[0]"
   ]
  },
  {
   "cell_type": "code",
   "execution_count": 45,
   "metadata": {},
   "outputs": [
    {
     "name": "stderr",
     "output_type": "stream",
     "text": [
      "/home/jepoy/miniconda3/envs/ds-unit-4/lib/python3.7/site-packages/ipykernel/ipkernel.py:287: DeprecationWarning: `should_run_async` will not call `transform_cell` automatically in the future. Please pass the result to `transformed_cell` argument and any exception that happen during thetransform in `preprocessing_exc_tuple` in IPython 7.17 and above.\n",
      "  and should_run_async(code)\n"
     ]
    }
   ],
   "source": [
    "# iterate over distribution \n",
    "# fill in with 0 to populate dataframe\n",
    "\n",
    "distro = [lda[d] for d in corpus]\n",
    "\n",
    "def update(doc):\n",
    "        d_dist = {k:0 for k in range(0,15)}\n",
    "        for t in doc:\n",
    "            d_dist[t[0]] = t[1]\n",
    "        return d_dist\n",
    "    \n",
    "new_distro = [update(d) for d in distro]"
   ]
  },
  {
   "cell_type": "code",
   "execution_count": 46,
   "metadata": {},
   "outputs": [
    {
     "name": "stderr",
     "output_type": "stream",
     "text": [
      "/home/jepoy/miniconda3/envs/ds-unit-4/lib/python3.7/site-packages/ipykernel/ipkernel.py:287: DeprecationWarning: `should_run_async` will not call `transform_cell` automatically in the future. Please pass the result to `transformed_cell` argument and any exception that happen during thetransform in `preprocessing_exc_tuple` in IPython 7.17 and above.\n",
      "  and should_run_async(code)\n"
     ]
    },
    {
     "data": {
      "text/plain": [
       "813"
      ]
     },
     "execution_count": 46,
     "metadata": {},
     "output_type": "execute_result"
    }
   ],
   "source": [
    "len(new_distro)"
   ]
  },
  {
   "cell_type": "code",
   "execution_count": 47,
   "metadata": {},
   "outputs": [
    {
     "name": "stderr",
     "output_type": "stream",
     "text": [
      "/home/jepoy/miniconda3/envs/ds-unit-4/lib/python3.7/site-packages/ipykernel/ipkernel.py:287: DeprecationWarning: `should_run_async` will not call `transform_cell` automatically in the future. Please pass the result to `transformed_cell` argument and any exception that happen during thetransform in `preprocessing_exc_tuple` in IPython 7.17 and above.\n",
      "  and should_run_async(code)\n"
     ]
    },
    {
     "data": {
      "text/html": [
       "<div>\n",
       "<style scoped>\n",
       "    .dataframe tbody tr th:only-of-type {\n",
       "        vertical-align: middle;\n",
       "    }\n",
       "\n",
       "    .dataframe tbody tr th {\n",
       "        vertical-align: top;\n",
       "    }\n",
       "\n",
       "    .dataframe thead th {\n",
       "        text-align: right;\n",
       "    }\n",
       "</style>\n",
       "<table border=\"1\" class=\"dataframe\">\n",
       "  <thead>\n",
       "    <tr style=\"text-align: right;\">\n",
       "      <th></th>\n",
       "      <th>tokens</th>\n",
       "      <th>author</th>\n",
       "      <th>book</th>\n",
       "      <th>section</th>\n",
       "    </tr>\n",
       "  </thead>\n",
       "  <tbody>\n",
       "    <tr>\n",
       "      <th>Austen_Emma0000</th>\n",
       "      <td>[emma, jane, austen, volume, chapter, emma, wo...</td>\n",
       "      <td>1</td>\n",
       "      <td>Emma</td>\n",
       "      <td>0</td>\n",
       "    </tr>\n",
       "    <tr>\n",
       "      <th>Austen_Emma0001</th>\n",
       "      <td>[taylor, wish, pity, weston, thought, agree, p...</td>\n",
       "      <td>1</td>\n",
       "      <td>Emma</td>\n",
       "      <td>1</td>\n",
       "    </tr>\n",
       "    <tr>\n",
       "      <th>Austen_Emma0002</th>\n",
       "      <td>[behaved, charmingly, body, punctual, body, be...</td>\n",
       "      <td>1</td>\n",
       "      <td>Emma</td>\n",
       "      <td>2</td>\n",
       "    </tr>\n",
       "    <tr>\n",
       "      <th>Austen_Emma0003</th>\n",
       "      <td>[native, highbury, born, respectable, family, ...</td>\n",
       "      <td>1</td>\n",
       "      <td>Emma</td>\n",
       "      <td>3</td>\n",
       "    </tr>\n",
       "    <tr>\n",
       "      <th>Austen_Emma0004</th>\n",
       "      <td>[mention, handsome, letter, weston, received, ...</td>\n",
       "      <td>1</td>\n",
       "      <td>Emma</td>\n",
       "      <td>4</td>\n",
       "    </tr>\n",
       "  </tbody>\n",
       "</table>\n",
       "</div>"
      ],
      "text/plain": [
       "                                                            tokens  author  \\\n",
       "Austen_Emma0000  [emma, jane, austen, volume, chapter, emma, wo...       1   \n",
       "Austen_Emma0001  [taylor, wish, pity, weston, thought, agree, p...       1   \n",
       "Austen_Emma0002  [behaved, charmingly, body, punctual, body, be...       1   \n",
       "Austen_Emma0003  [native, highbury, born, respectable, family, ...       1   \n",
       "Austen_Emma0004  [mention, handsome, letter, weston, received, ...       1   \n",
       "\n",
       "                 book  section  \n",
       "Austen_Emma0000  Emma        0  \n",
       "Austen_Emma0001  Emma        1  \n",
       "Austen_Emma0002  Emma        2  \n",
       "Austen_Emma0003  Emma        3  \n",
       "Austen_Emma0004  Emma        4  "
      ]
     },
     "execution_count": 47,
     "metadata": {},
     "output_type": "execute_result"
    }
   ],
   "source": [
    "df.head()"
   ]
  },
  {
   "cell_type": "code",
   "execution_count": 48,
   "metadata": {},
   "outputs": [
    {
     "name": "stderr",
     "output_type": "stream",
     "text": [
      "/home/jepoy/miniconda3/envs/ds-unit-4/lib/python3.7/site-packages/ipykernel/ipkernel.py:287: DeprecationWarning: `should_run_async` will not call `transform_cell` automatically in the future. Please pass the result to `transformed_cell` argument and any exception that happen during thetransform in `preprocessing_exc_tuple` in IPython 7.17 and above.\n",
      "  and should_run_async(code)\n"
     ]
    }
   ],
   "source": [
    "# Fill df with new_distro\n",
    "\n",
    "df = pd.DataFrame.from_records(new_distro, index=titles)\n",
    "df.columns = topics\n",
    "df['author'] = df.reset_index()['index'].apply(lambda x: x.split('_')[0]).tolist()"
   ]
  },
  {
   "cell_type": "code",
   "execution_count": 49,
   "metadata": {},
   "outputs": [
    {
     "name": "stderr",
     "output_type": "stream",
     "text": [
      "/home/jepoy/miniconda3/envs/ds-unit-4/lib/python3.7/site-packages/ipykernel/ipkernel.py:287: DeprecationWarning: `should_run_async` will not call `transform_cell` automatically in the future. Please pass the result to `transformed_cell` argument and any exception that happen during thetransform in `preprocessing_exc_tuple` in IPython 7.17 and above.\n",
      "  and should_run_async(code)\n"
     ]
    },
    {
     "data": {
      "text/html": [
       "<div>\n",
       "<style scoped>\n",
       "    .dataframe tbody tr th:only-of-type {\n",
       "        vertical-align: middle;\n",
       "    }\n",
       "\n",
       "    .dataframe tbody tr th {\n",
       "        vertical-align: top;\n",
       "    }\n",
       "\n",
       "    .dataframe thead th {\n",
       "        text-align: right;\n",
       "    }\n",
       "</style>\n",
       "<table border=\"1\" class=\"dataframe\">\n",
       "  <thead>\n",
       "    <tr style=\"text-align: right;\">\n",
       "      <th></th>\n",
       "      <th>monsieur little paul pelet madame</th>\n",
       "      <th>elinor marianne think time know</th>\n",
       "      <th>sir jane know good like</th>\n",
       "      <th>little like thought day long</th>\n",
       "      <th>little white like rochester long</th>\n",
       "      <th>little like graham bretton know</th>\n",
       "      <th>elizabeth miss darcy bennet bingley</th>\n",
       "      <th>like little night long time</th>\n",
       "      <th>think little sir miss come</th>\n",
       "      <th>miss time elinor know house</th>\n",
       "      <th>emma miss weston elton knightley</th>\n",
       "      <th>madame dr little john know</th>\n",
       "      <th>john st hand little jane</th>\n",
       "      <th>hand thought madame good like</th>\n",
       "      <th>like little time hunsden thought</th>\n",
       "      <th>author</th>\n",
       "    </tr>\n",
       "  </thead>\n",
       "  <tbody>\n",
       "    <tr>\n",
       "      <th>Austen_Emma0000</th>\n",
       "      <td>0.0</td>\n",
       "      <td>0.524679</td>\n",
       "      <td>0.0</td>\n",
       "      <td>0.0</td>\n",
       "      <td>0.0</td>\n",
       "      <td>0.019032</td>\n",
       "      <td>0.0</td>\n",
       "      <td>0.0</td>\n",
       "      <td>0.0</td>\n",
       "      <td>0.000000</td>\n",
       "      <td>0.454435</td>\n",
       "      <td>0.0</td>\n",
       "      <td>0.0</td>\n",
       "      <td>0.0</td>\n",
       "      <td>0.0</td>\n",
       "      <td>Austen</td>\n",
       "    </tr>\n",
       "    <tr>\n",
       "      <th>Austen_Emma0001</th>\n",
       "      <td>0.0</td>\n",
       "      <td>0.000000</td>\n",
       "      <td>0.0</td>\n",
       "      <td>0.0</td>\n",
       "      <td>0.0</td>\n",
       "      <td>0.000000</td>\n",
       "      <td>0.0</td>\n",
       "      <td>0.0</td>\n",
       "      <td>0.0</td>\n",
       "      <td>0.026248</td>\n",
       "      <td>0.971309</td>\n",
       "      <td>0.0</td>\n",
       "      <td>0.0</td>\n",
       "      <td>0.0</td>\n",
       "      <td>0.0</td>\n",
       "      <td>Austen</td>\n",
       "    </tr>\n",
       "    <tr>\n",
       "      <th>Austen_Emma0002</th>\n",
       "      <td>0.0</td>\n",
       "      <td>0.000000</td>\n",
       "      <td>0.0</td>\n",
       "      <td>0.0</td>\n",
       "      <td>0.0</td>\n",
       "      <td>0.000000</td>\n",
       "      <td>0.0</td>\n",
       "      <td>0.0</td>\n",
       "      <td>0.0</td>\n",
       "      <td>0.000000</td>\n",
       "      <td>0.997562</td>\n",
       "      <td>0.0</td>\n",
       "      <td>0.0</td>\n",
       "      <td>0.0</td>\n",
       "      <td>0.0</td>\n",
       "      <td>Austen</td>\n",
       "    </tr>\n",
       "    <tr>\n",
       "      <th>Austen_Emma0003</th>\n",
       "      <td>0.0</td>\n",
       "      <td>0.428409</td>\n",
       "      <td>0.0</td>\n",
       "      <td>0.0</td>\n",
       "      <td>0.0</td>\n",
       "      <td>0.000000</td>\n",
       "      <td>0.0</td>\n",
       "      <td>0.0</td>\n",
       "      <td>0.0</td>\n",
       "      <td>0.000000</td>\n",
       "      <td>0.569459</td>\n",
       "      <td>0.0</td>\n",
       "      <td>0.0</td>\n",
       "      <td>0.0</td>\n",
       "      <td>0.0</td>\n",
       "      <td>Austen</td>\n",
       "    </tr>\n",
       "    <tr>\n",
       "      <th>Austen_Emma0004</th>\n",
       "      <td>0.0</td>\n",
       "      <td>0.019121</td>\n",
       "      <td>0.0</td>\n",
       "      <td>0.0</td>\n",
       "      <td>0.0</td>\n",
       "      <td>0.000000</td>\n",
       "      <td>0.0</td>\n",
       "      <td>0.0</td>\n",
       "      <td>0.0</td>\n",
       "      <td>0.000000</td>\n",
       "      <td>0.978876</td>\n",
       "      <td>0.0</td>\n",
       "      <td>0.0</td>\n",
       "      <td>0.0</td>\n",
       "      <td>0.0</td>\n",
       "      <td>Austen</td>\n",
       "    </tr>\n",
       "  </tbody>\n",
       "</table>\n",
       "</div>"
      ],
      "text/plain": [
       "                 monsieur little paul pelet madame  \\\n",
       "Austen_Emma0000                                0.0   \n",
       "Austen_Emma0001                                0.0   \n",
       "Austen_Emma0002                                0.0   \n",
       "Austen_Emma0003                                0.0   \n",
       "Austen_Emma0004                                0.0   \n",
       "\n",
       "                 elinor marianne think time know  sir jane know good like  \\\n",
       "Austen_Emma0000                         0.524679                      0.0   \n",
       "Austen_Emma0001                         0.000000                      0.0   \n",
       "Austen_Emma0002                         0.000000                      0.0   \n",
       "Austen_Emma0003                         0.428409                      0.0   \n",
       "Austen_Emma0004                         0.019121                      0.0   \n",
       "\n",
       "                 little like thought day long  \\\n",
       "Austen_Emma0000                           0.0   \n",
       "Austen_Emma0001                           0.0   \n",
       "Austen_Emma0002                           0.0   \n",
       "Austen_Emma0003                           0.0   \n",
       "Austen_Emma0004                           0.0   \n",
       "\n",
       "                 little white like rochester long  \\\n",
       "Austen_Emma0000                               0.0   \n",
       "Austen_Emma0001                               0.0   \n",
       "Austen_Emma0002                               0.0   \n",
       "Austen_Emma0003                               0.0   \n",
       "Austen_Emma0004                               0.0   \n",
       "\n",
       "                 little like graham bretton know  \\\n",
       "Austen_Emma0000                         0.019032   \n",
       "Austen_Emma0001                         0.000000   \n",
       "Austen_Emma0002                         0.000000   \n",
       "Austen_Emma0003                         0.000000   \n",
       "Austen_Emma0004                         0.000000   \n",
       "\n",
       "                 elizabeth miss darcy bennet bingley  \\\n",
       "Austen_Emma0000                                  0.0   \n",
       "Austen_Emma0001                                  0.0   \n",
       "Austen_Emma0002                                  0.0   \n",
       "Austen_Emma0003                                  0.0   \n",
       "Austen_Emma0004                                  0.0   \n",
       "\n",
       "                 like little night long time  think little sir miss come  \\\n",
       "Austen_Emma0000                          0.0                         0.0   \n",
       "Austen_Emma0001                          0.0                         0.0   \n",
       "Austen_Emma0002                          0.0                         0.0   \n",
       "Austen_Emma0003                          0.0                         0.0   \n",
       "Austen_Emma0004                          0.0                         0.0   \n",
       "\n",
       "                 miss time elinor know house  \\\n",
       "Austen_Emma0000                     0.000000   \n",
       "Austen_Emma0001                     0.026248   \n",
       "Austen_Emma0002                     0.000000   \n",
       "Austen_Emma0003                     0.000000   \n",
       "Austen_Emma0004                     0.000000   \n",
       "\n",
       "                 emma miss weston elton knightley  madame dr little john know  \\\n",
       "Austen_Emma0000                          0.454435                         0.0   \n",
       "Austen_Emma0001                          0.971309                         0.0   \n",
       "Austen_Emma0002                          0.997562                         0.0   \n",
       "Austen_Emma0003                          0.569459                         0.0   \n",
       "Austen_Emma0004                          0.978876                         0.0   \n",
       "\n",
       "                 john st hand little jane  hand thought madame good like  \\\n",
       "Austen_Emma0000                       0.0                            0.0   \n",
       "Austen_Emma0001                       0.0                            0.0   \n",
       "Austen_Emma0002                       0.0                            0.0   \n",
       "Austen_Emma0003                       0.0                            0.0   \n",
       "Austen_Emma0004                       0.0                            0.0   \n",
       "\n",
       "                 like little time hunsden thought  author  \n",
       "Austen_Emma0000                               0.0  Austen  \n",
       "Austen_Emma0001                               0.0  Austen  \n",
       "Austen_Emma0002                               0.0  Austen  \n",
       "Austen_Emma0003                               0.0  Austen  \n",
       "Austen_Emma0004                               0.0  Austen  "
      ]
     },
     "execution_count": 49,
     "metadata": {},
     "output_type": "execute_result"
    }
   ],
   "source": [
    "df.head()"
   ]
  },
  {
   "cell_type": "code",
   "execution_count": 50,
   "metadata": {},
   "outputs": [
    {
     "name": "stderr",
     "output_type": "stream",
     "text": [
      "/home/jepoy/miniconda3/envs/ds-unit-4/lib/python3.7/site-packages/ipykernel/ipkernel.py:287: DeprecationWarning: `should_run_async` will not call `transform_cell` automatically in the future. Please pass the result to `transformed_cell` argument and any exception that happen during thetransform in `preprocessing_exc_tuple` in IPython 7.17 and above.\n",
      "  and should_run_async(code)\n"
     ]
    },
    {
     "data": {
      "text/html": [
       "<div>\n",
       "<style scoped>\n",
       "    .dataframe tbody tr th:only-of-type {\n",
       "        vertical-align: middle;\n",
       "    }\n",
       "\n",
       "    .dataframe tbody tr th {\n",
       "        vertical-align: top;\n",
       "    }\n",
       "\n",
       "    .dataframe thead th {\n",
       "        text-align: right;\n",
       "    }\n",
       "</style>\n",
       "<table border=\"1\" class=\"dataframe\">\n",
       "  <thead>\n",
       "    <tr style=\"text-align: right;\">\n",
       "      <th></th>\n",
       "      <th>monsieur little paul pelet madame</th>\n",
       "      <th>elinor marianne think time know</th>\n",
       "      <th>sir jane know good like</th>\n",
       "      <th>little like thought day long</th>\n",
       "      <th>little white like rochester long</th>\n",
       "      <th>little like graham bretton know</th>\n",
       "      <th>elizabeth miss darcy bennet bingley</th>\n",
       "      <th>like little night long time</th>\n",
       "      <th>think little sir miss come</th>\n",
       "      <th>miss time elinor know house</th>\n",
       "      <th>emma miss weston elton knightley</th>\n",
       "      <th>madame dr little john know</th>\n",
       "      <th>john st hand little jane</th>\n",
       "      <th>hand thought madame good like</th>\n",
       "      <th>like little time hunsden thought</th>\n",
       "    </tr>\n",
       "    <tr>\n",
       "      <th>author</th>\n",
       "      <th></th>\n",
       "      <th></th>\n",
       "      <th></th>\n",
       "      <th></th>\n",
       "      <th></th>\n",
       "      <th></th>\n",
       "      <th></th>\n",
       "      <th></th>\n",
       "      <th></th>\n",
       "      <th></th>\n",
       "      <th></th>\n",
       "      <th></th>\n",
       "      <th></th>\n",
       "      <th></th>\n",
       "      <th></th>\n",
       "    </tr>\n",
       "  </thead>\n",
       "  <tbody>\n",
       "    <tr>\n",
       "      <th>Austen</th>\n",
       "      <td>0.000083</td>\n",
       "      <td>0.373590</td>\n",
       "      <td>0.003013</td>\n",
       "      <td>0.003411</td>\n",
       "      <td>0.000633</td>\n",
       "      <td>0.003734</td>\n",
       "      <td>0.287900</td>\n",
       "      <td>0.006786</td>\n",
       "      <td>0.000000</td>\n",
       "      <td>0.023369</td>\n",
       "      <td>0.287228</td>\n",
       "      <td>0.000000</td>\n",
       "      <td>0.000146</td>\n",
       "      <td>0.005595</td>\n",
       "      <td>0.001983</td>\n",
       "    </tr>\n",
       "    <tr>\n",
       "      <th>CBronte</th>\n",
       "      <td>0.081623</td>\n",
       "      <td>0.020283</td>\n",
       "      <td>0.143662</td>\n",
       "      <td>0.063030</td>\n",
       "      <td>0.023347</td>\n",
       "      <td>0.137508</td>\n",
       "      <td>0.004458</td>\n",
       "      <td>0.195182</td>\n",
       "      <td>0.007134</td>\n",
       "      <td>0.024015</td>\n",
       "      <td>0.002488</td>\n",
       "      <td>0.055221</td>\n",
       "      <td>0.109612</td>\n",
       "      <td>0.015182</td>\n",
       "      <td>0.114608</td>\n",
       "    </tr>\n",
       "  </tbody>\n",
       "</table>\n",
       "</div>"
      ],
      "text/plain": [
       "         monsieur little paul pelet madame  elinor marianne think time know  \\\n",
       "author                                                                        \n",
       "Austen                            0.000083                         0.373590   \n",
       "CBronte                           0.081623                         0.020283   \n",
       "\n",
       "         sir jane know good like  little like thought day long  \\\n",
       "author                                                           \n",
       "Austen                  0.003013                      0.003411   \n",
       "CBronte                 0.143662                      0.063030   \n",
       "\n",
       "         little white like rochester long  little like graham bretton know  \\\n",
       "author                                                                       \n",
       "Austen                           0.000633                         0.003734   \n",
       "CBronte                          0.023347                         0.137508   \n",
       "\n",
       "         elizabeth miss darcy bennet bingley  like little night long time  \\\n",
       "author                                                                      \n",
       "Austen                              0.287900                     0.006786   \n",
       "CBronte                             0.004458                     0.195182   \n",
       "\n",
       "         think little sir miss come  miss time elinor know house  \\\n",
       "author                                                             \n",
       "Austen                     0.000000                     0.023369   \n",
       "CBronte                    0.007134                     0.024015   \n",
       "\n",
       "         emma miss weston elton knightley  madame dr little john know  \\\n",
       "author                                                                  \n",
       "Austen                           0.287228                    0.000000   \n",
       "CBronte                          0.002488                    0.055221   \n",
       "\n",
       "         john st hand little jane  hand thought madame good like  \\\n",
       "author                                                             \n",
       "Austen                   0.000146                       0.005595   \n",
       "CBronte                  0.109612                       0.015182   \n",
       "\n",
       "         like little time hunsden thought  \n",
       "author                                     \n",
       "Austen                           0.001983  \n",
       "CBronte                          0.114608  "
      ]
     },
     "execution_count": 50,
     "metadata": {},
     "output_type": "execute_result"
    }
   ],
   "source": [
    "df.groupby('author').mean()"
   ]
  },
  {
   "cell_type": "markdown",
   "metadata": {},
   "source": [
    "## Challenge\n",
    "### *Can we see if one of the authors focus more on men than women?*\n",
    "\n",
    "*  Use Spacy for text preprocessing\n",
    "*  Extract the Named Entities from the documents using Spacy (command is fairly straight forward)\n",
    "*  Create unique list of names from the authors (you'll find that there are different types of named entities not all people)\n",
    "*  Label the names with genders (can you this by hand or you use the US census name lists)\n",
    "*  Customize your processing to replace the proper name with your gender from the previous step's lookup table\n",
    "*  Then follow the rest of the LDA flow\n"
   ]
  },
  {
   "cell_type": "markdown",
   "metadata": {},
   "source": [
    "# Selecting the Number of Topics (Learn)\n",
    "<a id=\"#p4\"></a>"
   ]
  },
  {
   "cell_type": "markdown",
   "metadata": {},
   "source": [
    "## Overview"
   ]
  },
  {
   "cell_type": "markdown",
   "metadata": {},
   "source": [
    "## Follow Along"
   ]
  },
  {
   "cell_type": "code",
   "execution_count": 51,
   "metadata": {},
   "outputs": [
    {
     "name": "stderr",
     "output_type": "stream",
     "text": [
      "/home/jepoy/miniconda3/envs/ds-unit-4/lib/python3.7/site-packages/ipykernel/ipkernel.py:287: DeprecationWarning: `should_run_async` will not call `transform_cell` automatically in the future. Please pass the result to `transformed_cell` argument and any exception that happen during thetransform in `preprocessing_exc_tuple` in IPython 7.17 and above.\n",
      "  and should_run_async(code)\n"
     ]
    }
   ],
   "source": [
    "from gensim.models.coherencemodel import CoherenceModel\n",
    "\n",
    "def compute_coherence_values(dictionary, corpus, limit, start=2, step=3, passes=5):\n",
    "    \"\"\"\n",
    "    Compute c_v coherence for various number of topics\n",
    "\n",
    "    Parameters:\n",
    "    ----------\n",
    "    dictionary : Gensim dictionary\n",
    "    corpus : Gensim corpus\n",
    "    limit : Max num of topics\n",
    "    passes: the number of times the entire lda model & coherence values are calculated\n",
    "\n",
    "    Returns:\n",
    "    -------\n",
    "    coherence_values : Coherence values corresponding to the LDA model with respective number of topics\n",
    "    \"\"\"\n",
    "    \n",
    "    coherence_values = []\n",
    "    \n",
    "    for iter_ in range(passes):\n",
    "        for num_topics in range(start, limit, step):\n",
    "            model = LdaMulticore(corpus=corpus, num_topics=num_topics, id2word=dictionary, workers=4)\n",
    "            coherencemodel = CoherenceModel(model=model,dictionary=dictionary,corpus=corpus, coherence='u_mass')\n",
    "            coherence_values.append({'pass': iter_, \n",
    "                                     'num_topics': num_topics, \n",
    "                                     'coherence_score': coherencemodel.get_coherence()\n",
    "                                    })\n",
    "\n",
    "    return coherence_values"
   ]
  },
  {
   "cell_type": "code",
   "execution_count": 55,
   "metadata": {},
   "outputs": [
    {
     "name": "stderr",
     "output_type": "stream",
     "text": [
      "/home/jepoy/miniconda3/envs/ds-unit-4/lib/python3.7/site-packages/ipykernel/ipkernel.py:287: DeprecationWarning: `should_run_async` will not call `transform_cell` automatically in the future. Please pass the result to `transformed_cell` argument and any exception that happen during thetransform in `preprocessing_exc_tuple` in IPython 7.17 and above.\n",
      "  and should_run_async(code)\n"
     ]
    }
   ],
   "source": [
    "# Can take a long time to run.\n",
    "\n",
    "warnings.filterwarnings(\"ignore\", category=DeprecationWarning)\n",
    "\n",
    "\n",
    "coherence_values = compute_coherence_values(dictionary=id2word, \n",
    "                                            corpus=corpus,\n",
    "                                            start=5, \n",
    "                                            limit=40, \n",
    "                                            step=3,\n",
    "                                            passes=5)"
   ]
  },
  {
   "cell_type": "code",
   "execution_count": 56,
   "metadata": {},
   "outputs": [
    {
     "data": {
      "text/html": [
       "<div>\n",
       "<style scoped>\n",
       "    .dataframe tbody tr th:only-of-type {\n",
       "        vertical-align: middle;\n",
       "    }\n",
       "\n",
       "    .dataframe tbody tr th {\n",
       "        vertical-align: top;\n",
       "    }\n",
       "\n",
       "    .dataframe thead th {\n",
       "        text-align: right;\n",
       "    }\n",
       "</style>\n",
       "<table border=\"1\" class=\"dataframe\">\n",
       "  <thead>\n",
       "    <tr style=\"text-align: right;\">\n",
       "      <th></th>\n",
       "      <th>pass</th>\n",
       "      <th>num_topics</th>\n",
       "      <th>coherence_score</th>\n",
       "    </tr>\n",
       "  </thead>\n",
       "  <tbody>\n",
       "    <tr>\n",
       "      <th>0</th>\n",
       "      <td>0</td>\n",
       "      <td>5</td>\n",
       "      <td>-0.738011</td>\n",
       "    </tr>\n",
       "    <tr>\n",
       "      <th>1</th>\n",
       "      <td>0</td>\n",
       "      <td>8</td>\n",
       "      <td>-0.727512</td>\n",
       "    </tr>\n",
       "    <tr>\n",
       "      <th>2</th>\n",
       "      <td>0</td>\n",
       "      <td>11</td>\n",
       "      <td>-0.706856</td>\n",
       "    </tr>\n",
       "    <tr>\n",
       "      <th>3</th>\n",
       "      <td>0</td>\n",
       "      <td>14</td>\n",
       "      <td>-0.802435</td>\n",
       "    </tr>\n",
       "    <tr>\n",
       "      <th>4</th>\n",
       "      <td>0</td>\n",
       "      <td>17</td>\n",
       "      <td>-0.754474</td>\n",
       "    </tr>\n",
       "  </tbody>\n",
       "</table>\n",
       "</div>"
      ],
      "text/plain": [
       "   pass  num_topics  coherence_score\n",
       "0     0           5        -0.738011\n",
       "1     0           8        -0.727512\n",
       "2     0          11        -0.706856\n",
       "3     0          14        -0.802435\n",
       "4     0          17        -0.754474"
      ]
     },
     "execution_count": 56,
     "metadata": {},
     "output_type": "execute_result"
    }
   ],
   "source": [
    "topic_coherence = pd.DataFrame.from_records(coherence_values)\n",
    "topic_coherence.head()"
   ]
  },
  {
   "cell_type": "code",
   "execution_count": null,
   "metadata": {},
   "outputs": [],
   "source": []
  },
  {
   "cell_type": "code",
   "execution_count": 57,
   "metadata": {},
   "outputs": [
    {
     "data": {
      "image/png": "[encoded data removed]",
      "text/plain": [
       "<Figure size 432x288 with 1 Axes>"
      ]
     },
     "metadata": {
      "needs_background": "light"
     },
     "output_type": "display_data"
    }
   ],
   "source": [
    "import seaborn as sns\n",
    "\n",
    "ax = sns.lineplot(x=\"num_topics\", y=\"coherence_score\", data=topic_coherence)"
   ]
  },
  {
   "cell_type": "code",
   "execution_count": 58,
   "metadata": {},
   "outputs": [
    {
     "ename": "NameError",
     "evalue": "name 'x' is not defined",
     "output_type": "error",
     "traceback": [
      "\u001b[0;31m---------------------------------------------------------------------------\u001b[0m",
      "\u001b[0;31mNameError\u001b[0m                                 Traceback (most recent call last)",
      "\u001b[0;32m<ipython-input-58-374779cc73b5>\u001b[0m in \u001b[0;36m<module>\u001b[0;34m\u001b[0m\n\u001b[1;32m      1\u001b[0m \u001b[0;31m# Print the coherence scores\u001b[0m\u001b[0;34m\u001b[0m\u001b[0;34m\u001b[0m\u001b[0m\n\u001b[0;32m----> 2\u001b[0;31m \u001b[0;32mfor\u001b[0m \u001b[0mm\u001b[0m\u001b[0;34m,\u001b[0m \u001b[0mcv\u001b[0m \u001b[0;32min\u001b[0m \u001b[0mzip\u001b[0m\u001b[0;34m(\u001b[0m\u001b[0mx\u001b[0m\u001b[0;34m,\u001b[0m \u001b[0mcoherence_values\u001b[0m\u001b[0;34m)\u001b[0m\u001b[0;34m:\u001b[0m\u001b[0;34m\u001b[0m\u001b[0m\n\u001b[0m\u001b[1;32m      3\u001b[0m     \u001b[0mprint\u001b[0m\u001b[0;34m(\u001b[0m\u001b[0;34m\"Num Topics =\"\u001b[0m\u001b[0;34m,\u001b[0m \u001b[0mm\u001b[0m\u001b[0;34m,\u001b[0m \u001b[0;34m\" has Coherence Value of\"\u001b[0m\u001b[0;34m,\u001b[0m \u001b[0mround\u001b[0m\u001b[0;34m(\u001b[0m\u001b[0mcv\u001b[0m\u001b[0;34m,\u001b[0m \u001b[0;36m4\u001b[0m\u001b[0;34m)\u001b[0m\u001b[0;34m)\u001b[0m\u001b[0;34m\u001b[0m\u001b[0m\n",
      "\u001b[0;31mNameError\u001b[0m: name 'x' is not defined"
     ]
    }
   ],
   "source": [
    "# Print the coherence scores\n",
    "for m, cv in zip(x, coherence_values):\n",
    "    print(\"Num Topics =\", m, \" has Coherence Value of\", round(cv, 4))"
   ]
  },
  {
   "cell_type": "code",
   "execution_count": null,
   "metadata": {},
   "outputs": [],
   "source": [
    "lda[id2word.doc2bow(tokenize(\"This is a sample document to score with a topic distribution.\"))]"
   ]
  },
  {
   "cell_type": "markdown",
   "metadata": {},
   "source": [
    "# Sources\n",
    "\n",
    "### *References*\n",
    "* [Andrew Ng et al paper on LDA](https://ai.stanford.edu/~ang/papers/jair03-lda.pdf)\n",
    "* On [Coherence](https://pdfs.semanticscholar.org/1521/8d9c029cbb903ae7c729b2c644c24994c201.pdf)\n",
    "\n",
    "### *Resources*\n",
    "\n",
    "* [Gensim](https://radimrehurek.com/gensim/): Python package for topic modeling, nlp, word vectorization, and few other things. Well maintained and well documented.\n",
    "* [Topic Modeling with Gensim](http://www.machinelearningplus.com/nlp/topic-modeling-gensim-python/#11createthedictionaryandcorpusneededfortopicmodeling): A kind of cookbook for LDA with gensim. Excellent overview, but the you need to be aware of missing import statements and assumed prior knowledge.\n",
    "* [Chinese Restuarant Process](https://en.wikipedia.org/wiki/Chinese_restaurant_process): That really obscure stats thing I mentioned... \n",
    "* [PyLDAvis](https://github.com/bmabey/pyLDAvis): Library for visualizing the topic model and performing some exploratory work. Works well. Has a direct parrell implementation in R as well. \n",
    "* [Rare Technologies](https://rare-technologies.com/): The people that made & maintain gensim and a few other libraries.\n",
    "* [Jane Austen v. Charlotte Bronte](https://www.literaryladiesguide.com/literary-musings/jane-austen-charlotte-bronte-different-alike/)"
   ]
  }
 ],
 "metadata": {
  "kernelspec": {
   "display_name": "Python 3",
   "language": "python",
   "name": "python3"
  },
  "language_info": {
   "codemirror_mode": {
    "name": "ipython",
    "version": 3
   },
   "file_extension": ".py",
   "mimetype": "text/x-python",
   "name": "python",
   "nbconvert_exporter": "python",
   "pygments_lexer": "ipython3",
   "version": "3.7.0"
  }
 },
 "nbformat": 4,
 "nbformat_minor": 4
}
