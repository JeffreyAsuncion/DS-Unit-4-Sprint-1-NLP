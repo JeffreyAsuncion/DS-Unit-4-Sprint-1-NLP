{
 "cells": [
  {
   "cell_type": "markdown",
   "metadata": {},
   "source": [
    "Lambda School Data Science\n",
    "\n",
    "*Unit 4, Sprint 1, Module 2*\n",
    "\n",
    "---\n",
    "\n",
    "# Vector Representations (Prepare)\n",
    "\n",
    "\n",
    "As we learned yesterday, machines cannot interpret raw text. We need to transform that text into something we/machines can more readily analyze. Yesterday, we did simple counts of counts to summarize the content of Amazon reviews. Today, we'll extend those concepts to talk about vector representations such as Bag of Words (BoW) and word embedding models. We'll use those representations for search, visualization, and prepare for our classification day tomorrow. \n",
    "\n",
    "Processing text data to prepare it for machine learning models often means translating the information from documents into a numerical format. Bag-of-Words approaches (sometimes referred to as Frequency-Based word embeddings) accomplish this by \"vectorizing\" tokenized documents. This is done by representing each document as a row in a DataFrame and creating a column for each unique word in the corpora (group of documents). The presence or lack of a given word in a document is then represented either as a raw count of how many times a given word appears in a document (CountVectorizer) or as that word's TF-IDF score (TfidfVectorizer).\n",
    "\n",
    "On the python side, we will be focusing on `sklearn` and `spacy` today.  \n",
    "\n",
    "## Case Study\n",
    "\n",
    "We're going to pretend we're on the datascience team at the BBC. We want to recommend articles to visitors to on the BBC website based on the article they just read. Our team wants \n",
    "\n",
    "**Dataset:**\n",
    "\n",
    "[D. Greene and P. Cunningham. \"Practical Solutions to the Problem of Diagonal Dominance in Kernel Document Clustering\", Proc. ICML 2006.](http://mlg.ucd.ie/datasets/bbc.html)\n",
    "*Please note that the dataset has been sampled down to tech articles only.* \n",
    "\n",
    "## Learning Objectives\n",
    "* <a href=\"#p1\">Part 1</a>: Represent a document as a vector\n",
    "* <a href=\"#p2\">Part 2</a>: Query Documents by Similarity\n",
    "* <a href=\"#p3\">Part 3</a>: Apply word embedding models to create document vectors"
   ]
  },
  {
   "cell_type": "markdown",
   "metadata": {},
   "source": [
    "# Represent a document as a vector (Learn)\n",
    "<a id=\"p1\"></a>"
   ]
  },
  {
   "cell_type": "markdown",
   "metadata": {},
   "source": [
    "## Overview\n",
    "\n",
    "In this section, we are going to create Document Term Matrices (DTM). Each column represents a word. Each row represents a document. The value in each cell can be range of different things. The most traditional: counts of appearances of words, does the word appear at all (binary), and term-frequency inverse-document frequency (TF-IDF). \n",
    "\n",
    "**Discussion:** Don't we loose all the context and grammar if we do this? So Why does it work?"
   ]
  },
  {
   "cell_type": "markdown",
   "metadata": {
    "toc-hr-collapsed": true
   },
   "source": [
    "## Follow Along"
   ]
  },
  {
   "cell_type": "code",
   "execution_count": 1,
   "metadata": {},
   "outputs": [],
   "source": [
    "\"\"\" Import Statements \"\"\"\n",
    "\n",
    "# Classics\n",
    "import pandas as pd\n",
    "import seaborn as sns\n",
    "import matplotlib.pyplot as plt\n",
    "\n",
    "from sklearn.feature_extraction.text import CountVectorizer, TfidfVectorizer\n",
    "from sklearn.metrics.pairwise import cosine_similarity\n",
    "from sklearn.neighbors import NearestNeighbors\n",
    "from sklearn.decomposition import PCA\n",
    "\n",
    "import spacy\n",
    "nlp = spacy.load(\"en_core_web_lg\")"
   ]
  },
  {
   "cell_type": "markdown",
   "metadata": {},
   "source": [
    "**Warm Up (_3 Minutes_)**\n",
    "\n",
    "Extract the tokens from this sentence using Spacy. Text is from [OpenAI](https://openai.com/blog/better-language-models/)"
   ]
  },
  {
   "cell_type": "code",
   "execution_count": 2,
   "metadata": {},
   "outputs": [],
   "source": [
    "text = \"We created a new dataset which emphasizes diversity of content, by scraping content from the Internet. In order to preserve document quality, we used only pages which have been curated/filtered by humans—specifically, we used outbound links from Reddit which received at least 3 karma. This can be thought of as a heuristic indicator for whether other users found the link interesting (whether educational or funny), leading to higher data quality than other similar datasets, such as CommonCrawl.\""
   ]
  },
  {
   "cell_type": "code",
   "execution_count": 3,
   "metadata": {},
   "outputs": [
    {
     "name": "stdout",
     "output_type": "stream",
     "text": [
      "['create', 'new', 'dataset', 'emphasize', 'diversity', 'content', 'scrape', 'content', 'internet', 'order', 'preserve', 'document', 'quality', 'page', 'curate', 'filter', 'human', 'specifically', 'outbound', 'link', 'Reddit', 'receive', '3', 'karma', 'think', 'heuristic', 'indicator', 'user', 'find', 'link', 'interesting', 'educational', 'funny', 'lead', 'high', 'datum', 'quality', 'similar', 'dataset', 'CommonCrawl']\n"
     ]
    }
   ],
   "source": [
    "doc = nlp(text)\n",
    "\n",
    "print([token.lemma_ for token in doc if (token.is_stop != True) and (token.is_punct != True)])"
   ]
  },
  {
   "cell_type": "code",
   "execution_count": 4,
   "metadata": {},
   "outputs": [
    {
     "name": "stdout",
     "output_type": "stream",
     "text": [
      "001.txt  052.txt  103.txt  154.txt  205.txt  256.txt  307.txt  358.txt\n",
      "002.txt  053.txt  104.txt  155.txt  206.txt  257.txt  308.txt  359.txt\n",
      "003.txt  054.txt  105.txt  156.txt  207.txt  258.txt  309.txt  360.txt\n",
      "004.txt  055.txt  106.txt  157.txt  208.txt  259.txt  310.txt  361.txt\n",
      "005.txt  056.txt  107.txt  158.txt  209.txt  260.txt  311.txt  362.txt\n",
      "006.txt  057.txt  108.txt  159.txt  210.txt  261.txt  312.txt  363.txt\n",
      "007.txt  058.txt  109.txt  160.txt  211.txt  262.txt  313.txt  364.txt\n",
      "008.txt  059.txt  110.txt  161.txt  212.txt  263.txt  314.txt  365.txt\n",
      "009.txt  060.txt  111.txt  162.txt  213.txt  264.txt  315.txt  366.txt\n",
      "010.txt  061.txt  112.txt  163.txt  214.txt  265.txt  316.txt  367.txt\n",
      "011.txt  062.txt  113.txt  164.txt  215.txt  266.txt  317.txt  368.txt\n",
      "012.txt  063.txt  114.txt  165.txt  216.txt  267.txt  318.txt  369.txt\n",
      "013.txt  064.txt  115.txt  166.txt  217.txt  268.txt  319.txt  370.txt\n",
      "014.txt  065.txt  116.txt  167.txt  218.txt  269.txt  320.txt  371.txt\n",
      "015.txt  066.txt  117.txt  168.txt  219.txt  270.txt  321.txt  372.txt\n",
      "016.txt  067.txt  118.txt  169.txt  220.txt  271.txt  322.txt  373.txt\n",
      "017.txt  068.txt  119.txt  170.txt  221.txt  272.txt  323.txt  374.txt\n",
      "018.txt  069.txt  120.txt  171.txt  222.txt  273.txt  324.txt  375.txt\n",
      "019.txt  070.txt  121.txt  172.txt  223.txt  274.txt  325.txt  376.txt\n",
      "020.txt  071.txt  122.txt  173.txt  224.txt  275.txt  326.txt  377.txt\n",
      "021.txt  072.txt  123.txt  174.txt  225.txt  276.txt  327.txt  378.txt\n",
      "022.txt  073.txt  124.txt  175.txt  226.txt  277.txt  328.txt  379.txt\n",
      "023.txt  074.txt  125.txt  176.txt  227.txt  278.txt  329.txt  380.txt\n",
      "024.txt  075.txt  126.txt  177.txt  228.txt  279.txt  330.txt  381.txt\n",
      "025.txt  076.txt  127.txt  178.txt  229.txt  280.txt  331.txt  382.txt\n",
      "026.txt  077.txt  128.txt  179.txt  230.txt  281.txt  332.txt  383.txt\n",
      "027.txt  078.txt  129.txt  180.txt  231.txt  282.txt  333.txt  384.txt\n",
      "028.txt  079.txt  130.txt  181.txt  232.txt  283.txt  334.txt  385.txt\n",
      "029.txt  080.txt  131.txt  182.txt  233.txt  284.txt  335.txt  386.txt\n",
      "030.txt  081.txt  132.txt  183.txt  234.txt  285.txt  336.txt  387.txt\n",
      "031.txt  082.txt  133.txt  184.txt  235.txt  286.txt  337.txt  388.txt\n",
      "032.txt  083.txt  134.txt  185.txt  236.txt  287.txt  338.txt  389.txt\n",
      "033.txt  084.txt  135.txt  186.txt  237.txt  288.txt  339.txt  390.txt\n",
      "034.txt  085.txt  136.txt  187.txt  238.txt  289.txt  340.txt  391.txt\n",
      "035.txt  086.txt  137.txt  188.txt  239.txt  290.txt  341.txt  392.txt\n",
      "036.txt  087.txt  138.txt  189.txt  240.txt  291.txt  342.txt  393.txt\n",
      "037.txt  088.txt  139.txt  190.txt  241.txt  292.txt  343.txt  394.txt\n",
      "038.txt  089.txt  140.txt  191.txt  242.txt  293.txt  344.txt  395.txt\n",
      "039.txt  090.txt  141.txt  192.txt  243.txt  294.txt  345.txt  396.txt\n",
      "040.txt  091.txt  142.txt  193.txt  244.txt  295.txt  346.txt  397.txt\n",
      "041.txt  092.txt  143.txt  194.txt  245.txt  296.txt  347.txt  398.txt\n",
      "042.txt  093.txt  144.txt  195.txt  246.txt  297.txt  348.txt  399.txt\n",
      "043.txt  094.txt  145.txt  196.txt  247.txt  298.txt  349.txt  400.txt\n",
      "044.txt  095.txt  146.txt  197.txt  248.txt  299.txt  350.txt  401.txt\n",
      "045.txt  096.txt  147.txt  198.txt  249.txt  300.txt  351.txt  job_listings.csv\n",
      "046.txt  097.txt  148.txt  199.txt  250.txt  301.txt  352.txt\n",
      "047.txt  098.txt  149.txt  200.txt  251.txt  302.txt  353.txt\n",
      "048.txt  099.txt  150.txt  201.txt  252.txt  303.txt  354.txt\n",
      "049.txt  100.txt  151.txt  202.txt  253.txt  304.txt  355.txt\n",
      "050.txt  101.txt  152.txt  203.txt  254.txt  305.txt  356.txt\n",
      "051.txt  102.txt  153.txt  204.txt  255.txt  306.txt  357.txt\n"
     ]
    }
   ],
   "source": [
    "!ls data/"
   ]
  },
  {
   "cell_type": "code",
   "execution_count": 5,
   "metadata": {},
   "outputs": [],
   "source": [
    "import os \n",
    "\n",
    "def gather_data(filefolder):\n",
    "    \"\"\" Produces List of Documents from a Directory\n",
    "    \n",
    "    filefolder (str): a path of .txt files\n",
    "    \n",
    "    returns list of strings \n",
    "    \"\"\"\n",
    "    \n",
    "    data = []\n",
    "    \n",
    "    files = os.listdir(filefolder) # Causes variation across machines\n",
    "    \n",
    "    for article in files: \n",
    "        \n",
    "        path = os.path.join(filefolder, article)\n",
    "                    \n",
    "        if  path[-3:] == 'txt': # os ~endswith('txt')\n",
    "            with open(path, 'rb') as f:\n",
    "                data.append(f.read())\n",
    "    \n",
    "    return data"
   ]
  },
  {
   "cell_type": "code",
   "execution_count": 6,
   "metadata": {},
   "outputs": [],
   "source": [
    "data = gather_data('./data')"
   ]
  },
  {
   "cell_type": "code",
   "execution_count": null,
   "metadata": {},
   "outputs": [],
   "source": [
    "### to make the above function more concise part one\n",
    "# from glob import glob\n",
    "\n",
    "# filefolder = 'data'\n",
    "# data=[]\n",
    "# file_list = glob(filefolder + '/*.txt')\n",
    "# for article in file_list:\n",
    "#     with open(article, 'rb') as f:\n",
    "#         data.append(f.read())\n",
    "# len(data)"
   ]
  },
  {
   "cell_type": "code",
   "execution_count": 8,
   "metadata": {},
   "outputs": [],
   "source": [
    "### to make the above function more concise two\n",
    "# from glob import glob\n",
    "\n",
    "def gather_data_v2(file_folder):\n",
    "    data=[]\n",
    "    file_list = glob(filefolder + '/*.txt')\n",
    "    for article in file_list:\n",
    "        with open(article, 'rb') as f:\n",
    "            data.append(f.read())\n",
    "    return data"
   ]
  },
  {
   "cell_type": "code",
   "execution_count": 9,
   "metadata": {},
   "outputs": [
    {
     "data": {
      "text/plain": [
       "b'Ink helps drive democracy in Asia\\n\\nThe Kyrgyz Republic, a small, mountainous state of the former Soviet republic, is using invisible ink and ultraviolet readers in the country\\'s elections as part of a drive to prevent multiple voting.\\n\\nThis new technology is causing both worries and guarded optimism among different sectors of the population. In an effort to live up to its reputation in the 1990s as \"an island of democracy\", the Kyrgyz President, Askar Akaev, pushed through the law requiring the use of ink during the upcoming Parliamentary and Presidential elections. The US government agreed to fund all expenses associated with this decision.\\n\\nThe Kyrgyz Republic is seen by many experts as backsliding from the high point it reached in the mid-1990s with a hastily pushed through referendum in 2003, reducing the legislative branch to one chamber with 75 deputies. The use of ink is only one part of a general effort to show commitment towards more open elections - the German Embassy, the Soros Foundation and the Kyrgyz government have all contributed to purchase transparent ballot boxes.\\n\\nThe actual technology behind the ink is not that complicated. The ink is sprayed on a person\\'s left thumb. It dries and is not visible under normal light.\\n\\nHowever, the presence of ultraviolet light (of the kind used to verify money) causes the ink to glow with a neon yellow light. At the entrance to each polling station, one election official will scan voter\\'s fingers with UV lamp before allowing them to enter, and every voter will have his/her left thumb sprayed with ink before receiving the ballot. If the ink shows under the UV light the voter will not be allowed to enter the polling station. Likewise, any voter who refuses to be inked will not receive the ballot. These elections are assuming even greater significance because of two large factors - the upcoming parliamentary elections are a prelude to a potentially regime changing presidential election in the Autumn as well as the echo of recent elections in other former Soviet Republics, notably Ukraine and Georgia. The use of ink has been controversial - especially among groups perceived to be pro-government.\\n\\nWidely circulated articles compared the use of ink to the rural practice of marking sheep - a still common metaphor in this primarily agricultural society.\\n\\nThe author of one such article began a petition drive against the use of the ink. The greatest part of the opposition to ink has often been sheer ignorance. Local newspapers have carried stories that the ink is harmful, radioactive or even that the ultraviolet readers may cause health problems. Others, such as the aggressively middle of the road, Coalition of Non-governmental Organizations, have lauded the move as an important step forward. This type of ink has been used in many elections in the world, in countries as varied as Serbia, South Africa, Indonesia and Turkey. The other common type of ink in elections is indelible visible ink - but as the elections in Afghanistan showed, improper use of this type of ink can cause additional problems. The use of \"invisible\" ink is not without its own problems. In most elections, numerous rumors have spread about it.\\n\\nIn Serbia, for example, both Christian and Islamic leaders assured their populations that its use was not contrary to religion. Other rumours are associated with how to remove the ink - various soft drinks, solvents and cleaning products are put forward. However, in reality, the ink is very effective at getting under the cuticle of the thumb and difficult to wash off. The ink stays on the finger for at least 72 hours and for up to a week. The use of ink and readers by itself is not a panacea for election ills. The passage of the inking law is, nevertheless, a clear step forward towards free and fair elections.\" The country\\'s widely watched parliamentary elections are scheduled for 27 February.\\n\\nDavid Mikosz works for the IFES, an international, non-profit organisation that supports the building of democratic societies.\\n'"
      ]
     },
     "execution_count": 9,
     "metadata": {},
     "output_type": "execute_result"
    }
   ],
   "source": [
    "data[0]"
   ]
  },
  {
   "cell_type": "markdown",
   "metadata": {},
   "source": [
    "### CountVectorizer"
   ]
  },
  {
   "cell_type": "code",
   "execution_count": 10,
   "metadata": {},
   "outputs": [],
   "source": [
    "from sklearn.feature_extraction.text import CountVectorizer\n",
    "\n",
    "# list of text documents \n",
    "##instead of 401 doc like above this only has 3 docs or sentences\n",
    "\n",
    "text = [\"We created a new dataset which emphasizes diversity of content, by scraping content from the Internet.\",\n",
    "        \" In order to preserve document quality, we used only pages which have been curated/filtered by humans—specifically, we used outbound links from Reddit which received at least 3 karma.\",\n",
    "        \" This can be thought of as a heuristic indicator for whether other users found the link interesting (whether educational or funny), leading to higher data quality than other similar datasets, such as CommonCrawl.\"]\n",
    "\n",
    "# create the transformer\n",
    "vect = CountVectorizer()\n",
    "\n",
    "# build vocab\n",
    "vect.fit(text)\n",
    "\n",
    "# transform text\n",
    "dtm = vect.transform(text)\n",
    "\n",
    "# Create a Vocabulary\n",
    "# The vocabulary establishes all of the possible words that we might use.\n",
    "\n",
    "# The vocabulary dictionary does not represent the counts of words!!\n"
   ]
  },
  {
   "cell_type": "code",
   "execution_count": 11,
   "metadata": {},
   "outputs": [
    {
     "data": {
      "text/plain": [
       "<3x61 sparse matrix of type '<class 'numpy.int64'>'\n",
       "\twith 69 stored elements in Compressed Sparse Row format>"
      ]
     },
     "execution_count": 11,
     "metadata": {},
     "output_type": "execute_result"
    }
   ],
   "source": [
    "# the output is a matrix\n",
    "dtm\n",
    "#print(dtm) # just to look at it"
   ]
  },
  {
   "cell_type": "code",
   "execution_count": 13,
   "metadata": {},
   "outputs": [
    {
     "name": "stdout",
     "output_type": "stream",
     "text": [
      "[[0 0 0 0 1 0 0 2 1 0 0 1 0 1 0 0 1 0 0 0 1 0 0 0 0 0 0 0 0 1 0 0 0 0 0 1\n",
      "  1 0 0 0 0 0 0 0 0 0 0 1 0 0 0 0 1 0 0 0 0 0 1 0 1]\n",
      " [0 1 0 1 1 0 0 0 0 1 0 0 0 0 1 0 0 1 0 0 1 0 1 0 0 1 1 0 0 0 1 0 1 0 1 0\n",
      "  0 1 0 1 0 1 1 1 1 1 1 0 0 1 0 0 0 0 0 1 2 0 2 0 2]\n",
      " [2 0 1 0 0 1 1 0 0 0 1 0 1 0 0 1 0 0 1 1 0 1 0 1 1 0 0 1 1 0 0 1 0 1 0 0\n",
      "  1 0 1 0 2 0 0 0 1 0 0 0 1 0 1 1 1 1 1 1 0 1 0 2 0]]\n"
     ]
    }
   ],
   "source": [
    "# looks more like a matrix\n",
    "type(dtm.todense())\n",
    "print(dtm.todense())"
   ]
  },
  {
   "cell_type": "code",
   "execution_count": 14,
   "metadata": {},
   "outputs": [
    {
     "name": "stdout",
     "output_type": "stream",
     "text": [
      "['as', 'at', 'be', 'been', 'by', 'can', 'commoncrawl', 'content', 'created', 'curated', 'data', 'dataset', 'datasets', 'diversity', 'document', 'educational', 'emphasizes', 'filtered', 'for', 'found', 'from', 'funny', 'have', 'heuristic', 'higher', 'humans', 'in', 'indicator', 'interesting', 'internet', 'karma', 'leading', 'least', 'link', 'links', 'new', 'of', 'only', 'or', 'order', 'other', 'outbound', 'pages', 'preserve', 'quality', 'received', 'reddit', 'scraping', 'similar', 'specifically', 'such', 'than', 'the', 'this', 'thought', 'to', 'used', 'users', 'we', 'whether', 'which']\n"
     ]
    }
   ],
   "source": [
    "print(vect.get_feature_names())"
   ]
  },
  {
   "cell_type": "code",
   "execution_count": 11,
   "metadata": {},
   "outputs": [
    {
     "data": {
      "text/plain": [
       "['We created a new dataset which emphasizes diversity of content, by scraping content from the Internet.',\n",
       " ' In order to preserve document quality, we used only pages which have been curated/filtered by humans—specifically, we used outbound links from Reddit which received at least 3 karma.',\n",
       " ' This can be thought of as a heuristic indicator for whether other users found the link interesting (whether educational or funny), leading to higher data quality than other similar datasets, such as CommonCrawl.']"
      ]
     },
     "execution_count": 11,
     "metadata": {},
     "output_type": "execute_result"
    }
   ],
   "source": [
    "text[:25]"
   ]
  },
  {
   "cell_type": "code",
   "execution_count": 9,
   "metadata": {},
   "outputs": [
    {
     "name": "stdout",
     "output_type": "stream",
     "text": [
      "  (0, 4)\t1\n",
      "  (0, 7)\t2\n",
      "  (0, 8)\t1\n",
      "  (0, 11)\t1\n",
      "  (0, 13)\t1\n",
      "  (0, 16)\t1\n",
      "  (0, 20)\t1\n",
      "  (0, 29)\t1\n",
      "  (0, 35)\t1\n",
      "  (0, 36)\t1\n",
      "  (0, 47)\t1\n",
      "  (0, 52)\t1\n",
      "  (0, 58)\t1\n",
      "  (0, 60)\t1\n",
      "  (1, 1)\t1\n",
      "  (1, 3)\t1\n",
      "  (1, 4)\t1\n",
      "  (1, 9)\t1\n",
      "  (1, 14)\t1\n",
      "  (1, 17)\t1\n",
      "  (1, 20)\t1\n",
      "  (1, 22)\t1\n",
      "  (1, 25)\t1\n",
      "  (1, 26)\t1\n",
      "  (1, 30)\t1\n",
      "  :\t:\n",
      "  (2, 10)\t1\n",
      "  (2, 12)\t1\n",
      "  (2, 15)\t1\n",
      "  (2, 18)\t1\n",
      "  (2, 19)\t1\n",
      "  (2, 21)\t1\n",
      "  (2, 23)\t1\n",
      "  (2, 24)\t1\n",
      "  (2, 27)\t1\n",
      "  (2, 28)\t1\n",
      "  (2, 31)\t1\n",
      "  (2, 33)\t1\n",
      "  (2, 36)\t1\n",
      "  (2, 38)\t1\n",
      "  (2, 40)\t2\n",
      "  (2, 44)\t1\n",
      "  (2, 48)\t1\n",
      "  (2, 50)\t1\n",
      "  (2, 51)\t1\n",
      "  (2, 52)\t1\n",
      "  (2, 53)\t1\n",
      "  (2, 54)\t1\n",
      "  (2, 55)\t1\n",
      "  (2, 57)\t1\n",
      "  (2, 59)\t2\n"
     ]
    }
   ],
   "source": [
    "print(dtm)"
   ]
  },
  {
   "cell_type": "code",
   "execution_count": 10,
   "metadata": {},
   "outputs": [
    {
     "data": {
      "text/plain": [
       "matrix([[0, 0, 0, 0, 1, 0, 0, 2, 1, 0, 0, 1, 0, 1, 0, 0, 1, 0, 0, 0, 1,\n",
       "         0, 0, 0, 0, 0, 0, 0, 0, 1, 0, 0, 0, 0, 0, 1, 1, 0, 0, 0, 0, 0,\n",
       "         0, 0, 0, 0, 0, 1, 0, 0, 0, 0, 1, 0, 0, 0, 0, 0, 1, 0, 1],\n",
       "        [0, 1, 0, 1, 1, 0, 0, 0, 0, 1, 0, 0, 0, 0, 1, 0, 0, 1, 0, 0, 1,\n",
       "         0, 1, 0, 0, 1, 1, 0, 0, 0, 1, 0, 1, 0, 1, 0, 0, 1, 0, 1, 0, 1,\n",
       "         1, 1, 1, 1, 1, 0, 0, 1, 0, 0, 0, 0, 0, 1, 2, 0, 2, 0, 2],\n",
       "        [2, 0, 1, 0, 0, 1, 1, 0, 0, 0, 1, 0, 1, 0, 0, 1, 0, 0, 1, 1, 0,\n",
       "         1, 0, 1, 1, 0, 0, 1, 1, 0, 0, 1, 0, 1, 0, 0, 1, 0, 1, 0, 2, 0,\n",
       "         0, 0, 1, 0, 0, 0, 1, 0, 1, 1, 1, 1, 1, 1, 0, 1, 0, 2, 0]])"
      ]
     },
     "execution_count": 10,
     "metadata": {},
     "output_type": "execute_result"
    }
   ],
   "source": [
    "# Dealing with Sparse Matrix\n",
    "dtm.todense()"
   ]
  },
  {
   "cell_type": "code",
   "execution_count": 15,
   "metadata": {},
   "outputs": [
    {
     "data": {
      "text/plain": [
       "scipy.sparse.csr.csr_matrix"
      ]
     },
     "execution_count": 15,
     "metadata": {},
     "output_type": "execute_result"
    }
   ],
   "source": [
    "type(dtm)"
   ]
  },
  {
   "cell_type": "code",
   "execution_count": 16,
   "metadata": {},
   "outputs": [
    {
     "data": {
      "text/html": [
       "<div>\n",
       "<style scoped>\n",
       "    .dataframe tbody tr th:only-of-type {\n",
       "        vertical-align: middle;\n",
       "    }\n",
       "\n",
       "    .dataframe tbody tr th {\n",
       "        vertical-align: top;\n",
       "    }\n",
       "\n",
       "    .dataframe thead th {\n",
       "        text-align: right;\n",
       "    }\n",
       "</style>\n",
       "<table border=\"1\" class=\"dataframe\">\n",
       "  <thead>\n",
       "    <tr style=\"text-align: right;\">\n",
       "      <th></th>\n",
       "      <th>as</th>\n",
       "      <th>at</th>\n",
       "      <th>be</th>\n",
       "      <th>been</th>\n",
       "      <th>by</th>\n",
       "      <th>can</th>\n",
       "      <th>commoncrawl</th>\n",
       "      <th>content</th>\n",
       "      <th>created</th>\n",
       "      <th>curated</th>\n",
       "      <th>...</th>\n",
       "      <th>than</th>\n",
       "      <th>the</th>\n",
       "      <th>this</th>\n",
       "      <th>thought</th>\n",
       "      <th>to</th>\n",
       "      <th>used</th>\n",
       "      <th>users</th>\n",
       "      <th>we</th>\n",
       "      <th>whether</th>\n",
       "      <th>which</th>\n",
       "    </tr>\n",
       "  </thead>\n",
       "  <tbody>\n",
       "    <tr>\n",
       "      <th>0</th>\n",
       "      <td>0</td>\n",
       "      <td>0</td>\n",
       "      <td>0</td>\n",
       "      <td>0</td>\n",
       "      <td>1</td>\n",
       "      <td>0</td>\n",
       "      <td>0</td>\n",
       "      <td>2</td>\n",
       "      <td>1</td>\n",
       "      <td>0</td>\n",
       "      <td>...</td>\n",
       "      <td>0</td>\n",
       "      <td>1</td>\n",
       "      <td>0</td>\n",
       "      <td>0</td>\n",
       "      <td>0</td>\n",
       "      <td>0</td>\n",
       "      <td>0</td>\n",
       "      <td>1</td>\n",
       "      <td>0</td>\n",
       "      <td>1</td>\n",
       "    </tr>\n",
       "    <tr>\n",
       "      <th>1</th>\n",
       "      <td>0</td>\n",
       "      <td>1</td>\n",
       "      <td>0</td>\n",
       "      <td>1</td>\n",
       "      <td>1</td>\n",
       "      <td>0</td>\n",
       "      <td>0</td>\n",
       "      <td>0</td>\n",
       "      <td>0</td>\n",
       "      <td>1</td>\n",
       "      <td>...</td>\n",
       "      <td>0</td>\n",
       "      <td>0</td>\n",
       "      <td>0</td>\n",
       "      <td>0</td>\n",
       "      <td>1</td>\n",
       "      <td>2</td>\n",
       "      <td>0</td>\n",
       "      <td>2</td>\n",
       "      <td>0</td>\n",
       "      <td>2</td>\n",
       "    </tr>\n",
       "    <tr>\n",
       "      <th>2</th>\n",
       "      <td>2</td>\n",
       "      <td>0</td>\n",
       "      <td>1</td>\n",
       "      <td>0</td>\n",
       "      <td>0</td>\n",
       "      <td>1</td>\n",
       "      <td>1</td>\n",
       "      <td>0</td>\n",
       "      <td>0</td>\n",
       "      <td>0</td>\n",
       "      <td>...</td>\n",
       "      <td>1</td>\n",
       "      <td>1</td>\n",
       "      <td>1</td>\n",
       "      <td>1</td>\n",
       "      <td>1</td>\n",
       "      <td>0</td>\n",
       "      <td>1</td>\n",
       "      <td>0</td>\n",
       "      <td>2</td>\n",
       "      <td>0</td>\n",
       "    </tr>\n",
       "  </tbody>\n",
       "</table>\n",
       "<p>3 rows × 61 columns</p>\n",
       "</div>"
      ],
      "text/plain": [
       "   as  at  be  been  by  can  commoncrawl  content  created  curated  ...  \\\n",
       "0   0   0   0     0   1    0            0        2        1        0  ...   \n",
       "1   0   1   0     1   1    0            0        0        0        1  ...   \n",
       "2   2   0   1     0   0    1            1        0        0        0  ...   \n",
       "\n",
       "   than  the  this  thought  to  used  users  we  whether  which  \n",
       "0     0    1     0        0   0     0      0   1        0      1  \n",
       "1     0    0     0        0   1     2      0   2        0      2  \n",
       "2     1    1     1        1   1     0      1   0        2      0  \n",
       "\n",
       "[3 rows x 61 columns]"
      ]
     },
     "execution_count": 16,
     "metadata": {},
     "output_type": "execute_result"
    }
   ],
   "source": [
    "# Get Word Counts for each document\n",
    "dtm = pd.DataFrame(dtm.todense(), columns=vect.get_feature_names())\n",
    "dtm"
   ]
  },
  {
   "cell_type": "code",
   "execution_count": 17,
   "metadata": {},
   "outputs": [
    {
     "data": {
      "text/plain": [
       "' In order to preserve document quality, we used only pages which have been curated/filtered by humans—specifically, we used outbound links from Reddit which received at least 3 karma.'"
      ]
     },
     "execution_count": 17,
     "metadata": {},
     "output_type": "execute_result"
    }
   ],
   "source": [
    "text[1]"
   ]
  },
  {
   "cell_type": "code",
   "execution_count": 19,
   "metadata": {},
   "outputs": [
    {
     "data": {
      "text/plain": [
       "b'Ink helps drive democracy in Asia\\n\\nThe Kyrgyz Republic, a small, mountainous state of the former Sov'"
      ]
     },
     "execution_count": 19,
     "metadata": {},
     "output_type": "execute_result"
    }
   ],
   "source": [
    "data[0][:100]"
   ]
  },
  {
   "cell_type": "code",
   "execution_count": 20,
   "metadata": {},
   "outputs": [
    {
     "data": {
      "text/plain": [
       "401"
      ]
     },
     "execution_count": 20,
     "metadata": {},
     "output_type": "execute_result"
    }
   ],
   "source": [
    "len(data)"
   ]
  },
  {
   "cell_type": "markdown",
   "metadata": {},
   "source": [
    "**Three Minute Challenge:** \n",
    "* Apply CountVectorizer to our BBC Data\n",
    "* Store results in a dataframe called `dtm`\n",
    "* Extra Challenge - Try to Customize CountVectorizer with Spacy Processing"
   ]
  },
  {
   "cell_type": "code",
   "execution_count": 23,
   "metadata": {},
   "outputs": [],
   "source": [
    "# Apply CountVectorizer to our Data\n",
    "# Use custom Spacy Vectorizer\n",
    "# BBC articles in `data` variable\n",
    "\n",
    "from sklearn.feature_extraction.text import CountVectorizer\n",
    "\n",
    "vect = CountVectorizer(stop_words='english', max_features=5000, ngram_range=(1,3)) # max_features are also max words in doc\n",
    "\n",
    "#Learn our Vocab\n",
    "vect.fit(data)\n",
    "\n",
    "# Get sparse dtm\n",
    "dtm = vect.transform(data)\n",
    "\n",
    "dtm = pd.DataFrame(dtm.todense(), columns=vect.get_feature_names())"
   ]
  },
  {
   "cell_type": "code",
   "execution_count": 24,
   "metadata": {},
   "outputs": [
    {
     "data": {
      "text/html": [
       "<div>\n",
       "<style scoped>\n",
       "    .dataframe tbody tr th:only-of-type {\n",
       "        vertical-align: middle;\n",
       "    }\n",
       "\n",
       "    .dataframe tbody tr th {\n",
       "        vertical-align: top;\n",
       "    }\n",
       "\n",
       "    .dataframe thead th {\n",
       "        text-align: right;\n",
       "    }\n",
       "</style>\n",
       "<table border=\"1\" class=\"dataframe\">\n",
       "  <thead>\n",
       "    <tr style=\"text-align: right;\">\n",
       "      <th></th>\n",
       "      <th>000</th>\n",
       "      <th>000 new</th>\n",
       "      <th>000 people</th>\n",
       "      <th>000 times</th>\n",
       "      <th>10</th>\n",
       "      <th>10 000</th>\n",
       "      <th>10 million</th>\n",
       "      <th>10 times</th>\n",
       "      <th>10 years</th>\n",
       "      <th>100</th>\n",
       "      <th>...</th>\n",
       "      <th>yoran</th>\n",
       "      <th>york</th>\n",
       "      <th>young</th>\n",
       "      <th>young people</th>\n",
       "      <th>younger</th>\n",
       "      <th>youth</th>\n",
       "      <th>zafi</th>\n",
       "      <th>zafi virus</th>\n",
       "      <th>zen</th>\n",
       "      <th>zombies</th>\n",
       "    </tr>\n",
       "  </thead>\n",
       "  <tbody>\n",
       "    <tr>\n",
       "      <th>0</th>\n",
       "      <td>0</td>\n",
       "      <td>0</td>\n",
       "      <td>0</td>\n",
       "      <td>0</td>\n",
       "      <td>0</td>\n",
       "      <td>0</td>\n",
       "      <td>0</td>\n",
       "      <td>0</td>\n",
       "      <td>0</td>\n",
       "      <td>0</td>\n",
       "      <td>...</td>\n",
       "      <td>0</td>\n",
       "      <td>0</td>\n",
       "      <td>0</td>\n",
       "      <td>0</td>\n",
       "      <td>0</td>\n",
       "      <td>0</td>\n",
       "      <td>0</td>\n",
       "      <td>0</td>\n",
       "      <td>0</td>\n",
       "      <td>0</td>\n",
       "    </tr>\n",
       "    <tr>\n",
       "      <th>1</th>\n",
       "      <td>1</td>\n",
       "      <td>0</td>\n",
       "      <td>0</td>\n",
       "      <td>0</td>\n",
       "      <td>0</td>\n",
       "      <td>0</td>\n",
       "      <td>0</td>\n",
       "      <td>0</td>\n",
       "      <td>0</td>\n",
       "      <td>1</td>\n",
       "      <td>...</td>\n",
       "      <td>0</td>\n",
       "      <td>0</td>\n",
       "      <td>2</td>\n",
       "      <td>2</td>\n",
       "      <td>0</td>\n",
       "      <td>0</td>\n",
       "      <td>0</td>\n",
       "      <td>0</td>\n",
       "      <td>0</td>\n",
       "      <td>0</td>\n",
       "    </tr>\n",
       "    <tr>\n",
       "      <th>2</th>\n",
       "      <td>0</td>\n",
       "      <td>0</td>\n",
       "      <td>0</td>\n",
       "      <td>0</td>\n",
       "      <td>0</td>\n",
       "      <td>0</td>\n",
       "      <td>0</td>\n",
       "      <td>0</td>\n",
       "      <td>0</td>\n",
       "      <td>0</td>\n",
       "      <td>...</td>\n",
       "      <td>0</td>\n",
       "      <td>0</td>\n",
       "      <td>0</td>\n",
       "      <td>0</td>\n",
       "      <td>0</td>\n",
       "      <td>0</td>\n",
       "      <td>0</td>\n",
       "      <td>0</td>\n",
       "      <td>0</td>\n",
       "      <td>0</td>\n",
       "    </tr>\n",
       "    <tr>\n",
       "      <th>3</th>\n",
       "      <td>0</td>\n",
       "      <td>0</td>\n",
       "      <td>0</td>\n",
       "      <td>0</td>\n",
       "      <td>0</td>\n",
       "      <td>0</td>\n",
       "      <td>0</td>\n",
       "      <td>0</td>\n",
       "      <td>0</td>\n",
       "      <td>2</td>\n",
       "      <td>...</td>\n",
       "      <td>0</td>\n",
       "      <td>0</td>\n",
       "      <td>0</td>\n",
       "      <td>0</td>\n",
       "      <td>0</td>\n",
       "      <td>0</td>\n",
       "      <td>0</td>\n",
       "      <td>0</td>\n",
       "      <td>0</td>\n",
       "      <td>0</td>\n",
       "    </tr>\n",
       "    <tr>\n",
       "      <th>4</th>\n",
       "      <td>0</td>\n",
       "      <td>0</td>\n",
       "      <td>0</td>\n",
       "      <td>0</td>\n",
       "      <td>0</td>\n",
       "      <td>0</td>\n",
       "      <td>0</td>\n",
       "      <td>0</td>\n",
       "      <td>0</td>\n",
       "      <td>1</td>\n",
       "      <td>...</td>\n",
       "      <td>0</td>\n",
       "      <td>0</td>\n",
       "      <td>0</td>\n",
       "      <td>0</td>\n",
       "      <td>0</td>\n",
       "      <td>0</td>\n",
       "      <td>0</td>\n",
       "      <td>0</td>\n",
       "      <td>0</td>\n",
       "      <td>0</td>\n",
       "    </tr>\n",
       "  </tbody>\n",
       "</table>\n",
       "<p>5 rows × 5000 columns</p>\n",
       "</div>"
      ],
      "text/plain": [
       "   000  000 new  000 people  000 times  10  10 000  10 million  10 times  \\\n",
       "0    0        0           0          0   0       0           0         0   \n",
       "1    1        0           0          0   0       0           0         0   \n",
       "2    0        0           0          0   0       0           0         0   \n",
       "3    0        0           0          0   0       0           0         0   \n",
       "4    0        0           0          0   0       0           0         0   \n",
       "\n",
       "   10 years  100  ...  yoran  york  young  young people  younger  youth  zafi  \\\n",
       "0         0    0  ...      0     0      0             0        0      0     0   \n",
       "1         0    1  ...      0     0      2             2        0      0     0   \n",
       "2         0    0  ...      0     0      0             0        0      0     0   \n",
       "3         0    2  ...      0     0      0             0        0      0     0   \n",
       "4         0    1  ...      0     0      0             0        0      0     0   \n",
       "\n",
       "   zafi virus  zen  zombies  \n",
       "0           0    0        0  \n",
       "1           0    0        0  \n",
       "2           0    0        0  \n",
       "3           0    0        0  \n",
       "4           0    0        0  \n",
       "\n",
       "[5 rows x 5000 columns]"
      ]
     },
     "execution_count": 24,
     "metadata": {},
     "output_type": "execute_result"
    }
   ],
   "source": [
    "#Document-Term Matrix\n",
    "dtm.head()"
   ]
  },
  {
   "cell_type": "code",
   "execution_count": 25,
   "metadata": {},
   "outputs": [
    {
     "data": {
      "text/plain": [
       "Index(['000', '000 new', '000 people', '000 times', '10', '10 000',\n",
       "       '10 million', '10 times', '10 years', '100',\n",
       "       ...\n",
       "       'yoran', 'york', 'young', 'young people', 'younger', 'youth', 'zafi',\n",
       "       'zafi virus', 'zen', 'zombies'],\n",
       "      dtype='object', length=5000)"
      ]
     },
     "execution_count": 25,
     "metadata": {},
     "output_type": "execute_result"
    }
   ],
   "source": [
    "dtm.columns"
   ]
  },
  {
   "cell_type": "code",
   "execution_count": 29,
   "metadata": {},
   "outputs": [
    {
     "data": {
      "text/plain": [
       "Index(['ian fogg', 'ibm', 'ibm said', 'icann', 'icstis', 'id', 'id cards',\n",
       "       'idea', 'ideal', 'ideas', 'identification', 'identify', 'identity',\n",
       "       'identity theft', 'idle', 'idn', 'ietf', 'ignore', 'iii', 'illegal',\n",
       "       'illegally', 'illegally sharing', 'illegally sharing music',\n",
       "       'illegitimate', 'illiterate', 'image', 'images', 'images video',\n",
       "       'imagine', 'imaging', 'immediately', 'immersive', 'impact',\n",
       "       'implemented', 'implemented inventions', 'implications', 'importance',\n",
       "       'important', 'impossible', 'impressive', 'improve', 'improved',\n",
       "       'improvements', 'improving', 'inadvertently', 'inappropriate', 'inch',\n",
       "       'incidents', 'include', 'included', 'includes', 'including', 'income',\n",
       "       'incorporate', 'incorporated', 'increase', 'increase number',\n",
       "       'increased', 'increases', 'increasing', 'increasingly',\n",
       "       'increasingly important', 'increasingly sophisticated', 'incredible',\n",
       "       'independent', 'index', 'indexing', 'india', 'indian', 'individual',\n",
       "       'individuals', 'industries', 'industry', 'industry experts',\n",
       "       'industry experts gathered', 'infect', 'infected', 'infected machines',\n",
       "       'infected virus', 'infection', 'infects', 'infested', 'influence',\n",
       "       'influential', 'info', 'information', 'information people', 'informed',\n",
       "       'infrastructure', 'infringed', 'infringed copyright',\n",
       "       'infringed copyright illegally', 'ingram', 'initial', 'initially',\n",
       "       'initiative', 'initiatives', 'ink', 'ink cartridges', 'inkjet'],\n",
       "      dtype='object')"
      ]
     },
     "execution_count": 29,
     "metadata": {},
     "output_type": "execute_result"
    }
   ],
   "source": [
    "dtm.columns[2100:2200]"
   ]
  },
  {
   "cell_type": "code",
   "execution_count": 30,
   "metadata": {},
   "outputs": [],
   "source": [
    "doc_len = [len(doc) for doc in data]"
   ]
  },
  {
   "cell_type": "code",
   "execution_count": 31,
   "metadata": {},
   "outputs": [
    {
     "data": {
      "image/png": "[encoded data removed]",
      "text/plain": [
       "<Figure size 432x288 with 1 Axes>"
      ]
     },
     "metadata": {
      "needs_background": "light"
     },
     "output_type": "display_data"
    }
   ],
   "source": [
    "import seaborn as sns\n",
    "\n",
    "sns.distplot(doc_len);"
   ]
  },
  {
   "cell_type": "markdown",
   "metadata": {},
   "source": [
    "### TfidfVectorizer\n",
    "\n",
    "## Term Frequency - Inverse Document Frequency (TF-IDF)\n",
    "\n",
    "<center><img src=\"https://mungingdata.files.wordpress.com/2017/11/equation.png?w=430&h=336\" width=\"300\"></center>\n",
    "\n",
    "Term Frequency: Percentage of words in document for each word\n",
    "\n",
    "Document Frequency: A penalty for the word existing in a high number of documents.\n",
    "\n",
    "The purpose of TF-IDF is to find what is **unique** to each document. Because of this we will penalize the term frequencies of words that are common across all documents which will allow for each document's most different topics to rise to the top."
   ]
  },
  {
   "cell_type": "code",
   "execution_count": 32,
   "metadata": {},
   "outputs": [
    {
     "data": {
      "text/html": [
       "<div>\n",
       "<style scoped>\n",
       "    .dataframe tbody tr th:only-of-type {\n",
       "        vertical-align: middle;\n",
       "    }\n",
       "\n",
       "    .dataframe tbody tr th {\n",
       "        vertical-align: top;\n",
       "    }\n",
       "\n",
       "    .dataframe thead th {\n",
       "        text-align: right;\n",
       "    }\n",
       "</style>\n",
       "<table border=\"1\" class=\"dataframe\">\n",
       "  <thead>\n",
       "    <tr style=\"text-align: right;\">\n",
       "      <th></th>\n",
       "      <th>000</th>\n",
       "      <th>10</th>\n",
       "      <th>100</th>\n",
       "      <th>101</th>\n",
       "      <th>104</th>\n",
       "      <th>10m</th>\n",
       "      <th>11</th>\n",
       "      <th>12</th>\n",
       "      <th>120</th>\n",
       "      <th>13</th>\n",
       "      <th>...</th>\n",
       "      <th>yoda</th>\n",
       "      <th>yoran</th>\n",
       "      <th>york</th>\n",
       "      <th>young</th>\n",
       "      <th>younger</th>\n",
       "      <th>youngsters</th>\n",
       "      <th>youth</th>\n",
       "      <th>zafi</th>\n",
       "      <th>zen</th>\n",
       "      <th>zombies</th>\n",
       "    </tr>\n",
       "  </thead>\n",
       "  <tbody>\n",
       "    <tr>\n",
       "      <th>0</th>\n",
       "      <td>0.000000</td>\n",
       "      <td>0.0</td>\n",
       "      <td>0.000000</td>\n",
       "      <td>0.0</td>\n",
       "      <td>0.0</td>\n",
       "      <td>0.0</td>\n",
       "      <td>0.0</td>\n",
       "      <td>0.000000</td>\n",
       "      <td>0.0</td>\n",
       "      <td>0.0</td>\n",
       "      <td>...</td>\n",
       "      <td>0.0</td>\n",
       "      <td>0.0</td>\n",
       "      <td>0.0</td>\n",
       "      <td>0.000000</td>\n",
       "      <td>0.0</td>\n",
       "      <td>0.0</td>\n",
       "      <td>0.0</td>\n",
       "      <td>0.0</td>\n",
       "      <td>0.0</td>\n",
       "      <td>0.0</td>\n",
       "    </tr>\n",
       "    <tr>\n",
       "      <th>1</th>\n",
       "      <td>0.021186</td>\n",
       "      <td>0.0</td>\n",
       "      <td>0.030607</td>\n",
       "      <td>0.0</td>\n",
       "      <td>0.0</td>\n",
       "      <td>0.0</td>\n",
       "      <td>0.0</td>\n",
       "      <td>0.062425</td>\n",
       "      <td>0.0</td>\n",
       "      <td>0.0</td>\n",
       "      <td>...</td>\n",
       "      <td>0.0</td>\n",
       "      <td>0.0</td>\n",
       "      <td>0.0</td>\n",
       "      <td>0.085659</td>\n",
       "      <td>0.0</td>\n",
       "      <td>0.0</td>\n",
       "      <td>0.0</td>\n",
       "      <td>0.0</td>\n",
       "      <td>0.0</td>\n",
       "      <td>0.0</td>\n",
       "    </tr>\n",
       "    <tr>\n",
       "      <th>2</th>\n",
       "      <td>0.000000</td>\n",
       "      <td>0.0</td>\n",
       "      <td>0.000000</td>\n",
       "      <td>0.0</td>\n",
       "      <td>0.0</td>\n",
       "      <td>0.0</td>\n",
       "      <td>0.0</td>\n",
       "      <td>0.000000</td>\n",
       "      <td>0.0</td>\n",
       "      <td>0.0</td>\n",
       "      <td>...</td>\n",
       "      <td>0.0</td>\n",
       "      <td>0.0</td>\n",
       "      <td>0.0</td>\n",
       "      <td>0.000000</td>\n",
       "      <td>0.0</td>\n",
       "      <td>0.0</td>\n",
       "      <td>0.0</td>\n",
       "      <td>0.0</td>\n",
       "      <td>0.0</td>\n",
       "      <td>0.0</td>\n",
       "    </tr>\n",
       "    <tr>\n",
       "      <th>3</th>\n",
       "      <td>0.000000</td>\n",
       "      <td>0.0</td>\n",
       "      <td>0.083089</td>\n",
       "      <td>0.0</td>\n",
       "      <td>0.0</td>\n",
       "      <td>0.0</td>\n",
       "      <td>0.0</td>\n",
       "      <td>0.000000</td>\n",
       "      <td>0.0</td>\n",
       "      <td>0.0</td>\n",
       "      <td>...</td>\n",
       "      <td>0.0</td>\n",
       "      <td>0.0</td>\n",
       "      <td>0.0</td>\n",
       "      <td>0.000000</td>\n",
       "      <td>0.0</td>\n",
       "      <td>0.0</td>\n",
       "      <td>0.0</td>\n",
       "      <td>0.0</td>\n",
       "      <td>0.0</td>\n",
       "      <td>0.0</td>\n",
       "    </tr>\n",
       "    <tr>\n",
       "      <th>4</th>\n",
       "      <td>0.000000</td>\n",
       "      <td>0.0</td>\n",
       "      <td>0.026840</td>\n",
       "      <td>0.0</td>\n",
       "      <td>0.0</td>\n",
       "      <td>0.0</td>\n",
       "      <td>0.0</td>\n",
       "      <td>0.000000</td>\n",
       "      <td>0.0</td>\n",
       "      <td>0.0</td>\n",
       "      <td>...</td>\n",
       "      <td>0.0</td>\n",
       "      <td>0.0</td>\n",
       "      <td>0.0</td>\n",
       "      <td>0.000000</td>\n",
       "      <td>0.0</td>\n",
       "      <td>0.0</td>\n",
       "      <td>0.0</td>\n",
       "      <td>0.0</td>\n",
       "      <td>0.0</td>\n",
       "      <td>0.0</td>\n",
       "    </tr>\n",
       "  </tbody>\n",
       "</table>\n",
       "<p>5 rows × 5000 columns</p>\n",
       "</div>"
      ],
      "text/plain": [
       "        000   10       100  101  104  10m   11        12  120   13  ...  yoda  \\\n",
       "0  0.000000  0.0  0.000000  0.0  0.0  0.0  0.0  0.000000  0.0  0.0  ...   0.0   \n",
       "1  0.021186  0.0  0.030607  0.0  0.0  0.0  0.0  0.062425  0.0  0.0  ...   0.0   \n",
       "2  0.000000  0.0  0.000000  0.0  0.0  0.0  0.0  0.000000  0.0  0.0  ...   0.0   \n",
       "3  0.000000  0.0  0.083089  0.0  0.0  0.0  0.0  0.000000  0.0  0.0  ...   0.0   \n",
       "4  0.000000  0.0  0.026840  0.0  0.0  0.0  0.0  0.000000  0.0  0.0  ...   0.0   \n",
       "\n",
       "   yoran  york     young  younger  youngsters  youth  zafi  zen  zombies  \n",
       "0    0.0   0.0  0.000000      0.0         0.0    0.0   0.0  0.0      0.0  \n",
       "1    0.0   0.0  0.085659      0.0         0.0    0.0   0.0  0.0      0.0  \n",
       "2    0.0   0.0  0.000000      0.0         0.0    0.0   0.0  0.0      0.0  \n",
       "3    0.0   0.0  0.000000      0.0         0.0    0.0   0.0  0.0      0.0  \n",
       "4    0.0   0.0  0.000000      0.0         0.0    0.0   0.0  0.0      0.0  \n",
       "\n",
       "[5 rows x 5000 columns]"
      ]
     },
     "execution_count": 32,
     "metadata": {},
     "output_type": "execute_result"
    }
   ],
   "source": [
    "from sklearn.feature_extraction.text import TfidfVectorizer\n",
    "\n",
    "# Instantiate vectorizer object\n",
    "tfidf = TfidfVectorizer(stop_words='english', max_features=5000)\n",
    "\n",
    "# Create a vocabulary and get word counts per document\n",
    "# Similiar to fit_predict\n",
    "dtm = tfidf.fit_transform(data)\n",
    "\n",
    "# Print word counts\n",
    "\n",
    "# Get feature names to use as dataframe column headers\n",
    "dtm = pd.DataFrame(dtm.todense(), columns=tfidf.get_feature_names())\n",
    "\n",
    "# View Feature Matrix as DataFrame\n",
    "dtm.head()"
   ]
  },
  {
   "cell_type": "code",
   "execution_count": 33,
   "metadata": {},
   "outputs": [],
   "source": [
    "def tokenize(document):\n",
    "    \n",
    "    doc = nlp(document)\n",
    "    \n",
    "    return [token.lemma_.strip() for token in doc if (token.is_stop != True) and (token.is_punct != True)]"
   ]
  },
  {
   "cell_type": "markdown",
   "metadata": {},
   "source": [
    "text data machines\n",
    "\n",
    "\"text data\" \"data machines\" \"text machines\""
   ]
  },
  {
   "cell_type": "code",
   "execution_count": 34,
   "metadata": {},
   "outputs": [
    {
     "data": {
      "text/html": [
       "<div>\n",
       "<style scoped>\n",
       "    .dataframe tbody tr th:only-of-type {\n",
       "        vertical-align: middle;\n",
       "    }\n",
       "\n",
       "    .dataframe tbody tr th {\n",
       "        vertical-align: top;\n",
       "    }\n",
       "\n",
       "    .dataframe thead th {\n",
       "        text-align: right;\n",
       "    }\n",
       "</style>\n",
       "<table border=\"1\" class=\"dataframe\">\n",
       "  <thead>\n",
       "    <tr style=\"text-align: right;\">\n",
       "      <th></th>\n",
       "      <th>10</th>\n",
       "      <th>15</th>\n",
       "      <th>2004</th>\n",
       "      <th>50</th>\n",
       "      <th>ability</th>\n",
       "      <th>accord</th>\n",
       "      <th>add</th>\n",
       "      <th>airline</th>\n",
       "      <th>announce</th>\n",
       "      <th>anti</th>\n",
       "      <th>...</th>\n",
       "      <th>£ 11.5</th>\n",
       "      <th>£ 132</th>\n",
       "      <th>£ 2,000</th>\n",
       "      <th>£ 20</th>\n",
       "      <th>£ 339</th>\n",
       "      <th>£ 4.99</th>\n",
       "      <th>£ 40</th>\n",
       "      <th>£ 5</th>\n",
       "      <th>£ 50</th>\n",
       "      <th>£ 99</th>\n",
       "    </tr>\n",
       "  </thead>\n",
       "  <tbody>\n",
       "    <tr>\n",
       "      <th>0</th>\n",
       "      <td>0.0</td>\n",
       "      <td>0.0</td>\n",
       "      <td>0.0</td>\n",
       "      <td>0.0</td>\n",
       "      <td>0.0</td>\n",
       "      <td>0.000000</td>\n",
       "      <td>0.0</td>\n",
       "      <td>0.0</td>\n",
       "      <td>0.0</td>\n",
       "      <td>0.0</td>\n",
       "      <td>...</td>\n",
       "      <td>0.0</td>\n",
       "      <td>0.0</td>\n",
       "      <td>0.0</td>\n",
       "      <td>0.0</td>\n",
       "      <td>0.0</td>\n",
       "      <td>0.0</td>\n",
       "      <td>0.0</td>\n",
       "      <td>0.0</td>\n",
       "      <td>0.0</td>\n",
       "      <td>0.0</td>\n",
       "    </tr>\n",
       "    <tr>\n",
       "      <th>1</th>\n",
       "      <td>0.0</td>\n",
       "      <td>0.0</td>\n",
       "      <td>0.0</td>\n",
       "      <td>0.0</td>\n",
       "      <td>0.0</td>\n",
       "      <td>0.034721</td>\n",
       "      <td>0.0</td>\n",
       "      <td>0.0</td>\n",
       "      <td>0.0</td>\n",
       "      <td>0.0</td>\n",
       "      <td>...</td>\n",
       "      <td>0.0</td>\n",
       "      <td>0.0</td>\n",
       "      <td>0.0</td>\n",
       "      <td>0.0</td>\n",
       "      <td>0.0</td>\n",
       "      <td>0.0</td>\n",
       "      <td>0.0</td>\n",
       "      <td>0.0</td>\n",
       "      <td>0.0</td>\n",
       "      <td>0.0</td>\n",
       "    </tr>\n",
       "    <tr>\n",
       "      <th>2</th>\n",
       "      <td>0.0</td>\n",
       "      <td>0.0</td>\n",
       "      <td>0.0</td>\n",
       "      <td>0.0</td>\n",
       "      <td>0.0</td>\n",
       "      <td>0.000000</td>\n",
       "      <td>0.0</td>\n",
       "      <td>0.0</td>\n",
       "      <td>0.0</td>\n",
       "      <td>0.0</td>\n",
       "      <td>...</td>\n",
       "      <td>0.0</td>\n",
       "      <td>0.0</td>\n",
       "      <td>0.0</td>\n",
       "      <td>0.0</td>\n",
       "      <td>0.0</td>\n",
       "      <td>0.0</td>\n",
       "      <td>0.0</td>\n",
       "      <td>0.0</td>\n",
       "      <td>0.0</td>\n",
       "      <td>0.0</td>\n",
       "    </tr>\n",
       "    <tr>\n",
       "      <th>3</th>\n",
       "      <td>0.0</td>\n",
       "      <td>0.0</td>\n",
       "      <td>0.0</td>\n",
       "      <td>0.0</td>\n",
       "      <td>0.0</td>\n",
       "      <td>0.000000</td>\n",
       "      <td>0.0</td>\n",
       "      <td>0.0</td>\n",
       "      <td>0.0</td>\n",
       "      <td>0.0</td>\n",
       "      <td>...</td>\n",
       "      <td>0.0</td>\n",
       "      <td>0.0</td>\n",
       "      <td>0.0</td>\n",
       "      <td>0.0</td>\n",
       "      <td>0.0</td>\n",
       "      <td>0.0</td>\n",
       "      <td>0.0</td>\n",
       "      <td>0.0</td>\n",
       "      <td>0.0</td>\n",
       "      <td>0.0</td>\n",
       "    </tr>\n",
       "    <tr>\n",
       "      <th>4</th>\n",
       "      <td>0.0</td>\n",
       "      <td>0.0</td>\n",
       "      <td>0.0</td>\n",
       "      <td>0.0</td>\n",
       "      <td>0.0</td>\n",
       "      <td>0.000000</td>\n",
       "      <td>0.0</td>\n",
       "      <td>0.0</td>\n",
       "      <td>0.0</td>\n",
       "      <td>0.0</td>\n",
       "      <td>...</td>\n",
       "      <td>0.0</td>\n",
       "      <td>0.0</td>\n",
       "      <td>0.0</td>\n",
       "      <td>0.0</td>\n",
       "      <td>0.0</td>\n",
       "      <td>0.0</td>\n",
       "      <td>0.0</td>\n",
       "      <td>0.0</td>\n",
       "      <td>0.0</td>\n",
       "      <td>0.0</td>\n",
       "    </tr>\n",
       "  </tbody>\n",
       "</table>\n",
       "<p>5 rows × 8218 columns</p>\n",
       "</div>"
      ],
      "text/plain": [
       "    10   15   2004   50   ability    accord   add   airline   announce   anti  \\\n",
       "0  0.0  0.0    0.0  0.0       0.0  0.000000   0.0       0.0        0.0    0.0   \n",
       "1  0.0  0.0    0.0  0.0       0.0  0.034721   0.0       0.0        0.0    0.0   \n",
       "2  0.0  0.0    0.0  0.0       0.0  0.000000   0.0       0.0        0.0    0.0   \n",
       "3  0.0  0.0    0.0  0.0       0.0  0.000000   0.0       0.0        0.0    0.0   \n",
       "4  0.0  0.0    0.0  0.0       0.0  0.000000   0.0       0.0        0.0    0.0   \n",
       "\n",
       "   ...  £ 11.5  £ 132  £ 2,000  £ 20  £ 339  £ 4.99  £ 40  £ 5  £ 50  £ 99  \n",
       "0  ...     0.0    0.0      0.0   0.0    0.0     0.0   0.0  0.0   0.0   0.0  \n",
       "1  ...     0.0    0.0      0.0   0.0    0.0     0.0   0.0  0.0   0.0   0.0  \n",
       "2  ...     0.0    0.0      0.0   0.0    0.0     0.0   0.0  0.0   0.0   0.0  \n",
       "3  ...     0.0    0.0      0.0   0.0    0.0     0.0   0.0  0.0   0.0   0.0  \n",
       "4  ...     0.0    0.0      0.0   0.0    0.0     0.0   0.0  0.0   0.0   0.0  \n",
       "\n",
       "[5 rows x 8218 columns]"
      ]
     },
     "execution_count": 34,
     "metadata": {},
     "output_type": "execute_result"
    }
   ],
   "source": [
    "# Tunning Parameters\n",
    "\n",
    "# Instantiate vectorizer object\n",
    "tfidf = TfidfVectorizer(stop_words='english', \n",
    "                        ngram_range=(1,2),\n",
    "                        max_df=.97,\n",
    "                        min_df=3,\n",
    "                        tokenizer=tokenize)\n",
    "\n",
    "# Create a vocabulary and get word counts per document\n",
    "dtm = tfidf.fit_transform(data) # Similiar to fit_predict\n",
    "\n",
    "# Print word counts\n",
    "\n",
    "# Get feature names to use as dataframe column headers\n",
    "dtm = pd.DataFrame(dtm.todense(), columns=tfidf.get_feature_names())\n",
    "\n",
    "# View Feature Matrix as DataFrame\n",
    "dtm.head()"
   ]
  },
  {
   "cell_type": "code",
   "execution_count": 35,
   "metadata": {},
   "outputs": [
    {
     "data": {
      "text/plain": [
       "(401, 8218)"
      ]
     },
     "execution_count": 35,
     "metadata": {},
     "output_type": "execute_result"
    }
   ],
   "source": [
    "dtm.shape"
   ]
  },
  {
   "cell_type": "markdown",
   "metadata": {},
   "source": [
    "## Challenge\n",
    "\n",
    "During this module's project assignment, you will transform data science job listings to vector representations for analysis downstream. "
   ]
  },
  {
   "cell_type": "markdown",
   "metadata": {},
   "source": [
    "# Query Documents by Similarity (Learn)\n",
    "<a id=\"p2\"></a>"
   ]
  },
  {
   "cell_type": "markdown",
   "metadata": {},
   "source": [
    "## Overview\n",
    "\n",
    "Have you ever considered how a search bar works? You may just think that search bars simply match your input text againist the documents. While there are many different mechanisms for the 'match', one of the most classic is to search by similarity. We will apply n-dimensional distance to measure similarity, and query for input and output. "
   ]
  },
  {
   "cell_type": "markdown",
   "metadata": {
    "toc-hr-collapsed": true
   },
   "source": [
    "## Follow Along"
   ]
  },
  {
   "cell_type": "markdown",
   "metadata": {},
   "source": [
    "### Cosine Similarity (Brute Force)"
   ]
  },
  {
   "cell_type": "code",
   "execution_count": 36,
   "metadata": {},
   "outputs": [],
   "source": [
    "# Calculate Distance of TF-IDF Vectors\n",
    "from sklearn.metrics.pairwise import cosine_similarity\n",
    "\n",
    "dist_matrix  = cosine_similarity(dtm)"
   ]
  },
  {
   "cell_type": "code",
   "execution_count": 37,
   "metadata": {},
   "outputs": [],
   "source": [
    "# Turn it into a DataFrame\n",
    "\n",
    "df = pd.DataFrame(dist_matrix)"
   ]
  },
  {
   "cell_type": "code",
   "execution_count": 38,
   "metadata": {},
   "outputs": [
    {
     "data": {
      "text/html": [
       "<div>\n",
       "<style scoped>\n",
       "    .dataframe tbody tr th:only-of-type {\n",
       "        vertical-align: middle;\n",
       "    }\n",
       "\n",
       "    .dataframe tbody tr th {\n",
       "        vertical-align: top;\n",
       "    }\n",
       "\n",
       "    .dataframe thead th {\n",
       "        text-align: right;\n",
       "    }\n",
       "</style>\n",
       "<table border=\"1\" class=\"dataframe\">\n",
       "  <thead>\n",
       "    <tr style=\"text-align: right;\">\n",
       "      <th></th>\n",
       "      <th>0</th>\n",
       "      <th>1</th>\n",
       "      <th>2</th>\n",
       "      <th>3</th>\n",
       "      <th>4</th>\n",
       "      <th>5</th>\n",
       "      <th>6</th>\n",
       "      <th>7</th>\n",
       "      <th>8</th>\n",
       "      <th>9</th>\n",
       "      <th>...</th>\n",
       "      <th>391</th>\n",
       "      <th>392</th>\n",
       "      <th>393</th>\n",
       "      <th>394</th>\n",
       "      <th>395</th>\n",
       "      <th>396</th>\n",
       "      <th>397</th>\n",
       "      <th>398</th>\n",
       "      <th>399</th>\n",
       "      <th>400</th>\n",
       "    </tr>\n",
       "  </thead>\n",
       "  <tbody>\n",
       "    <tr>\n",
       "      <th>0</th>\n",
       "      <td>1.000000</td>\n",
       "      <td>0.024832</td>\n",
       "      <td>0.010072</td>\n",
       "      <td>0.017044</td>\n",
       "      <td>0.019938</td>\n",
       "      <td>0.036541</td>\n",
       "      <td>0.005105</td>\n",
       "      <td>0.011131</td>\n",
       "      <td>0.019513</td>\n",
       "      <td>0.013751</td>\n",
       "      <td>...</td>\n",
       "      <td>0.006464</td>\n",
       "      <td>0.011592</td>\n",
       "      <td>0.011717</td>\n",
       "      <td>0.021748</td>\n",
       "      <td>0.015261</td>\n",
       "      <td>0.007037</td>\n",
       "      <td>0.011635</td>\n",
       "      <td>0.032848</td>\n",
       "      <td>0.014017</td>\n",
       "      <td>0.035947</td>\n",
       "    </tr>\n",
       "    <tr>\n",
       "      <th>1</th>\n",
       "      <td>0.024832</td>\n",
       "      <td>1.000000</td>\n",
       "      <td>0.015836</td>\n",
       "      <td>0.056422</td>\n",
       "      <td>0.028211</td>\n",
       "      <td>0.068862</td>\n",
       "      <td>0.015213</td>\n",
       "      <td>0.025758</td>\n",
       "      <td>0.026152</td>\n",
       "      <td>0.028998</td>\n",
       "      <td>...</td>\n",
       "      <td>0.064562</td>\n",
       "      <td>0.037051</td>\n",
       "      <td>0.032582</td>\n",
       "      <td>0.035271</td>\n",
       "      <td>0.028483</td>\n",
       "      <td>0.040928</td>\n",
       "      <td>0.042972</td>\n",
       "      <td>0.034402</td>\n",
       "      <td>0.035064</td>\n",
       "      <td>0.068950</td>\n",
       "    </tr>\n",
       "    <tr>\n",
       "      <th>2</th>\n",
       "      <td>0.010072</td>\n",
       "      <td>0.015836</td>\n",
       "      <td>1.000000</td>\n",
       "      <td>0.015968</td>\n",
       "      <td>0.021622</td>\n",
       "      <td>0.029955</td>\n",
       "      <td>0.228423</td>\n",
       "      <td>0.225291</td>\n",
       "      <td>0.014688</td>\n",
       "      <td>0.072227</td>\n",
       "      <td>...</td>\n",
       "      <td>0.021054</td>\n",
       "      <td>0.031559</td>\n",
       "      <td>0.066702</td>\n",
       "      <td>0.041824</td>\n",
       "      <td>0.031317</td>\n",
       "      <td>0.049609</td>\n",
       "      <td>0.162956</td>\n",
       "      <td>0.049552</td>\n",
       "      <td>0.081064</td>\n",
       "      <td>0.023474</td>\n",
       "    </tr>\n",
       "    <tr>\n",
       "      <th>3</th>\n",
       "      <td>0.017044</td>\n",
       "      <td>0.056422</td>\n",
       "      <td>0.015968</td>\n",
       "      <td>1.000000</td>\n",
       "      <td>0.050694</td>\n",
       "      <td>0.062368</td>\n",
       "      <td>0.017932</td>\n",
       "      <td>0.014285</td>\n",
       "      <td>0.169201</td>\n",
       "      <td>0.040075</td>\n",
       "      <td>...</td>\n",
       "      <td>0.029887</td>\n",
       "      <td>0.017956</td>\n",
       "      <td>0.063700</td>\n",
       "      <td>0.079524</td>\n",
       "      <td>0.092039</td>\n",
       "      <td>0.026580</td>\n",
       "      <td>0.016708</td>\n",
       "      <td>0.042578</td>\n",
       "      <td>0.038320</td>\n",
       "      <td>0.065001</td>\n",
       "    </tr>\n",
       "    <tr>\n",
       "      <th>4</th>\n",
       "      <td>0.019938</td>\n",
       "      <td>0.028211</td>\n",
       "      <td>0.021622</td>\n",
       "      <td>0.050694</td>\n",
       "      <td>1.000000</td>\n",
       "      <td>0.063076</td>\n",
       "      <td>0.013472</td>\n",
       "      <td>0.022063</td>\n",
       "      <td>0.054250</td>\n",
       "      <td>0.050837</td>\n",
       "      <td>...</td>\n",
       "      <td>0.090182</td>\n",
       "      <td>0.083093</td>\n",
       "      <td>0.107852</td>\n",
       "      <td>0.143707</td>\n",
       "      <td>0.228400</td>\n",
       "      <td>0.087640</td>\n",
       "      <td>0.030818</td>\n",
       "      <td>0.070305</td>\n",
       "      <td>0.027914</td>\n",
       "      <td>0.127966</td>\n",
       "    </tr>\n",
       "    <tr>\n",
       "      <th>...</th>\n",
       "      <td>...</td>\n",
       "      <td>...</td>\n",
       "      <td>...</td>\n",
       "      <td>...</td>\n",
       "      <td>...</td>\n",
       "      <td>...</td>\n",
       "      <td>...</td>\n",
       "      <td>...</td>\n",
       "      <td>...</td>\n",
       "      <td>...</td>\n",
       "      <td>...</td>\n",
       "      <td>...</td>\n",
       "      <td>...</td>\n",
       "      <td>...</td>\n",
       "      <td>...</td>\n",
       "      <td>...</td>\n",
       "      <td>...</td>\n",
       "      <td>...</td>\n",
       "      <td>...</td>\n",
       "      <td>...</td>\n",
       "      <td>...</td>\n",
       "    </tr>\n",
       "    <tr>\n",
       "      <th>396</th>\n",
       "      <td>0.007037</td>\n",
       "      <td>0.040928</td>\n",
       "      <td>0.049609</td>\n",
       "      <td>0.026580</td>\n",
       "      <td>0.087640</td>\n",
       "      <td>0.037990</td>\n",
       "      <td>0.040594</td>\n",
       "      <td>0.017127</td>\n",
       "      <td>0.040501</td>\n",
       "      <td>0.078825</td>\n",
       "      <td>...</td>\n",
       "      <td>0.058288</td>\n",
       "      <td>0.053384</td>\n",
       "      <td>0.050067</td>\n",
       "      <td>0.048842</td>\n",
       "      <td>0.026574</td>\n",
       "      <td>1.000000</td>\n",
       "      <td>0.049244</td>\n",
       "      <td>0.045459</td>\n",
       "      <td>0.037288</td>\n",
       "      <td>0.028032</td>\n",
       "    </tr>\n",
       "    <tr>\n",
       "      <th>397</th>\n",
       "      <td>0.011635</td>\n",
       "      <td>0.042972</td>\n",
       "      <td>0.162956</td>\n",
       "      <td>0.016708</td>\n",
       "      <td>0.030818</td>\n",
       "      <td>0.043439</td>\n",
       "      <td>0.065468</td>\n",
       "      <td>0.207893</td>\n",
       "      <td>0.022687</td>\n",
       "      <td>0.038258</td>\n",
       "      <td>...</td>\n",
       "      <td>0.045987</td>\n",
       "      <td>0.049644</td>\n",
       "      <td>0.030245</td>\n",
       "      <td>0.045143</td>\n",
       "      <td>0.018605</td>\n",
       "      <td>0.049244</td>\n",
       "      <td>1.000000</td>\n",
       "      <td>0.039871</td>\n",
       "      <td>0.089227</td>\n",
       "      <td>0.037784</td>\n",
       "    </tr>\n",
       "    <tr>\n",
       "      <th>398</th>\n",
       "      <td>0.032848</td>\n",
       "      <td>0.034402</td>\n",
       "      <td>0.049552</td>\n",
       "      <td>0.042578</td>\n",
       "      <td>0.070305</td>\n",
       "      <td>0.057647</td>\n",
       "      <td>0.046655</td>\n",
       "      <td>0.030330</td>\n",
       "      <td>0.032583</td>\n",
       "      <td>0.059640</td>\n",
       "      <td>...</td>\n",
       "      <td>0.031001</td>\n",
       "      <td>0.026744</td>\n",
       "      <td>0.051187</td>\n",
       "      <td>0.042001</td>\n",
       "      <td>0.049754</td>\n",
       "      <td>0.045459</td>\n",
       "      <td>0.039871</td>\n",
       "      <td>1.000000</td>\n",
       "      <td>0.054993</td>\n",
       "      <td>0.072168</td>\n",
       "    </tr>\n",
       "    <tr>\n",
       "      <th>399</th>\n",
       "      <td>0.014017</td>\n",
       "      <td>0.035064</td>\n",
       "      <td>0.081064</td>\n",
       "      <td>0.038320</td>\n",
       "      <td>0.027914</td>\n",
       "      <td>0.087137</td>\n",
       "      <td>0.147220</td>\n",
       "      <td>0.104911</td>\n",
       "      <td>0.016084</td>\n",
       "      <td>0.018358</td>\n",
       "      <td>...</td>\n",
       "      <td>0.038913</td>\n",
       "      <td>0.029525</td>\n",
       "      <td>0.040204</td>\n",
       "      <td>0.025906</td>\n",
       "      <td>0.053515</td>\n",
       "      <td>0.037288</td>\n",
       "      <td>0.089227</td>\n",
       "      <td>0.054993</td>\n",
       "      <td>1.000000</td>\n",
       "      <td>0.027618</td>\n",
       "    </tr>\n",
       "    <tr>\n",
       "      <th>400</th>\n",
       "      <td>0.035947</td>\n",
       "      <td>0.068950</td>\n",
       "      <td>0.023474</td>\n",
       "      <td>0.065001</td>\n",
       "      <td>0.127966</td>\n",
       "      <td>0.057266</td>\n",
       "      <td>0.026428</td>\n",
       "      <td>0.023966</td>\n",
       "      <td>0.095414</td>\n",
       "      <td>0.033442</td>\n",
       "      <td>...</td>\n",
       "      <td>0.090542</td>\n",
       "      <td>0.033244</td>\n",
       "      <td>0.105648</td>\n",
       "      <td>0.108608</td>\n",
       "      <td>0.231416</td>\n",
       "      <td>0.028032</td>\n",
       "      <td>0.037784</td>\n",
       "      <td>0.072168</td>\n",
       "      <td>0.027618</td>\n",
       "      <td>1.000000</td>\n",
       "    </tr>\n",
       "  </tbody>\n",
       "</table>\n",
       "<p>401 rows × 401 columns</p>\n",
       "</div>"
      ],
      "text/plain": [
       "          0         1         2         3         4         5         6    \\\n",
       "0    1.000000  0.024832  0.010072  0.017044  0.019938  0.036541  0.005105   \n",
       "1    0.024832  1.000000  0.015836  0.056422  0.028211  0.068862  0.015213   \n",
       "2    0.010072  0.015836  1.000000  0.015968  0.021622  0.029955  0.228423   \n",
       "3    0.017044  0.056422  0.015968  1.000000  0.050694  0.062368  0.017932   \n",
       "4    0.019938  0.028211  0.021622  0.050694  1.000000  0.063076  0.013472   \n",
       "..        ...       ...       ...       ...       ...       ...       ...   \n",
       "396  0.007037  0.040928  0.049609  0.026580  0.087640  0.037990  0.040594   \n",
       "397  0.011635  0.042972  0.162956  0.016708  0.030818  0.043439  0.065468   \n",
       "398  0.032848  0.034402  0.049552  0.042578  0.070305  0.057647  0.046655   \n",
       "399  0.014017  0.035064  0.081064  0.038320  0.027914  0.087137  0.147220   \n",
       "400  0.035947  0.068950  0.023474  0.065001  0.127966  0.057266  0.026428   \n",
       "\n",
       "          7         8         9    ...       391       392       393  \\\n",
       "0    0.011131  0.019513  0.013751  ...  0.006464  0.011592  0.011717   \n",
       "1    0.025758  0.026152  0.028998  ...  0.064562  0.037051  0.032582   \n",
       "2    0.225291  0.014688  0.072227  ...  0.021054  0.031559  0.066702   \n",
       "3    0.014285  0.169201  0.040075  ...  0.029887  0.017956  0.063700   \n",
       "4    0.022063  0.054250  0.050837  ...  0.090182  0.083093  0.107852   \n",
       "..        ...       ...       ...  ...       ...       ...       ...   \n",
       "396  0.017127  0.040501  0.078825  ...  0.058288  0.053384  0.050067   \n",
       "397  0.207893  0.022687  0.038258  ...  0.045987  0.049644  0.030245   \n",
       "398  0.030330  0.032583  0.059640  ...  0.031001  0.026744  0.051187   \n",
       "399  0.104911  0.016084  0.018358  ...  0.038913  0.029525  0.040204   \n",
       "400  0.023966  0.095414  0.033442  ...  0.090542  0.033244  0.105648   \n",
       "\n",
       "          394       395       396       397       398       399       400  \n",
       "0    0.021748  0.015261  0.007037  0.011635  0.032848  0.014017  0.035947  \n",
       "1    0.035271  0.028483  0.040928  0.042972  0.034402  0.035064  0.068950  \n",
       "2    0.041824  0.031317  0.049609  0.162956  0.049552  0.081064  0.023474  \n",
       "3    0.079524  0.092039  0.026580  0.016708  0.042578  0.038320  0.065001  \n",
       "4    0.143707  0.228400  0.087640  0.030818  0.070305  0.027914  0.127966  \n",
       "..        ...       ...       ...       ...       ...       ...       ...  \n",
       "396  0.048842  0.026574  1.000000  0.049244  0.045459  0.037288  0.028032  \n",
       "397  0.045143  0.018605  0.049244  1.000000  0.039871  0.089227  0.037784  \n",
       "398  0.042001  0.049754  0.045459  0.039871  1.000000  0.054993  0.072168  \n",
       "399  0.025906  0.053515  0.037288  0.089227  0.054993  1.000000  0.027618  \n",
       "400  0.108608  0.231416  0.028032  0.037784  0.072168  0.027618  1.000000  \n",
       "\n",
       "[401 rows x 401 columns]"
      ]
     },
     "execution_count": 38,
     "metadata": {},
     "output_type": "execute_result"
    }
   ],
   "source": [
    "# what does this look like\n",
    "df"
   ]
  },
  {
   "cell_type": "code",
   "execution_count": 39,
   "metadata": {},
   "outputs": [
    {
     "data": {
      "text/plain": [
       "(401, 401)"
      ]
     },
     "execution_count": 39,
     "metadata": {},
     "output_type": "execute_result"
    }
   ],
   "source": [
    "# Our Similarity Matrix is ? size \n",
    "df.shape"
   ]
  },
  {
   "cell_type": "code",
   "execution_count": 40,
   "metadata": {},
   "outputs": [
    {
     "data": {
      "text/plain": [
       "b'Ink helps drive democracy in Asia\\n\\nThe Kyrgyz Republic, a small, mountainous state of the former Sov'"
      ]
     },
     "execution_count": 40,
     "metadata": {},
     "output_type": "execute_result"
    }
   ],
   "source": [
    "data[0][:100]"
   ]
  },
  {
   "cell_type": "code",
   "execution_count": 41,
   "metadata": {},
   "outputs": [
    {
     "data": {
      "text/plain": [
       "0    1.000000\n",
       "1    0.024832\n",
       "2    0.010072\n",
       "3    0.017044\n",
       "4    0.019938\n",
       "Name: 0, dtype: float64"
      ]
     },
     "execution_count": 41,
     "metadata": {},
     "output_type": "execute_result"
    }
   ],
   "source": [
    "# Each row is the similarity of one document to all other documents (including itself)\n",
    "df[0][:5]"
   ]
  },
  {
   "cell_type": "code",
   "execution_count": 42,
   "metadata": {},
   "outputs": [
    {
     "data": {
      "text/plain": [
       "0      1.000000\n",
       "332    0.250252\n",
       "36     0.206391\n",
       "100    0.104314\n",
       "242    0.101906\n",
       "Name: 0, dtype: float64"
      ]
     },
     "execution_count": 42,
     "metadata": {},
     "output_type": "execute_result"
    }
   ],
   "source": [
    "# Grab the row\n",
    "df[df[0] < 1][0].sort_values(ascending=False)[:5]"
   ]
  },
  {
   "cell_type": "code",
   "execution_count": 43,
   "metadata": {},
   "outputs": [
    {
     "name": "stdout",
     "output_type": "stream",
     "text": [
      "b'Ink helps drive democracy in Asia\\n\\nThe Kyrgyz Republic, a small, mountainous state of the former Soviet republic, is using invisible ink and ultraviol'\n"
     ]
    }
   ],
   "source": [
    "print(data[0][:150])"
   ]
  },
  {
   "cell_type": "code",
   "execution_count": 44,
   "metadata": {},
   "outputs": [
    {
     "name": "stdout",
     "output_type": "stream",
     "text": [
      "b'US woman sues over ink cartridges\\n\\nA US woman is suing Hewlett Packard (HP), saying its printer ink cartridges are secretly programmed to expire on a '\n"
     ]
    }
   ],
   "source": [
    "print(data[332][:150])"
   ]
  },
  {
   "cell_type": "markdown",
   "metadata": {},
   "source": [
    "### NearestNeighbor (K-NN) \n",
    "\n",
    "To address the computational inefficiencies of the brute-force approach, a variety of tree-based data structures have been invented. In general, these structures attempt to reduce the required number of distance calculations by efficiently encoding aggregate distance information for the sample. The basic idea is that if point  is very distant from point , and point  is very close to point , then we know that points  and  are very distant, without having to explicitly calculate their distance. In this way, the computational cost of a nearest neighbors search can be reduced to  or better. This is a significant improvement over brute-force for large data.\n",
    "\n",
    "To address the inefficiencies of KD Trees in higher dimensions, the ball tree data structure was developed. Where KD trees partition data along Cartesian axes, ball trees partition data in a series of nesting hyper-spheres. This makes tree construction more costly than that of the KD tree, but results in a data structure which can be very efficient on highly structured data, even in very high dimensions.\n",
    "\n",
    "A ball tree recursively divides the data into nodes defined by a centroid  and radius , such that each point in the node lies within the hyper-sphere defined by  and . The number of candidate points for a neighbor search is reduced through use of the triangle inequality:\n",
    "\n",
    "With this setup, a single distance calculation between a test point and the centroid is sufficient to determine a lower and upper bound on the distance to all points within the node. Because of the spherical geometry of the ball tree nodes, it can out-perform a KD-tree in high dimensions, though the actual performance is highly dependent on the structure of the training data. In scikit-learn, ball-tree-based neighbors searches are specified using the keyword algorithm = 'ball_tree', and are computed using the class sklearn.neighbors.BallTree. Alternatively, the user can work with the BallTree class directly."
   ]
  },
  {
   "cell_type": "code",
   "execution_count": 45,
   "metadata": {},
   "outputs": [
    {
     "data": {
      "text/html": [
       "<div>\n",
       "<style scoped>\n",
       "    .dataframe tbody tr th:only-of-type {\n",
       "        vertical-align: middle;\n",
       "    }\n",
       "\n",
       "    .dataframe tbody tr th {\n",
       "        vertical-align: top;\n",
       "    }\n",
       "\n",
       "    .dataframe thead th {\n",
       "        text-align: right;\n",
       "    }\n",
       "</style>\n",
       "<table border=\"1\" class=\"dataframe\">\n",
       "  <thead>\n",
       "    <tr style=\"text-align: right;\">\n",
       "      <th></th>\n",
       "      <th>10</th>\n",
       "      <th>15</th>\n",
       "      <th>2004</th>\n",
       "      <th>50</th>\n",
       "      <th>ability</th>\n",
       "      <th>accord</th>\n",
       "      <th>add</th>\n",
       "      <th>airline</th>\n",
       "      <th>announce</th>\n",
       "      <th>anti</th>\n",
       "      <th>...</th>\n",
       "      <th>£ 11.5</th>\n",
       "      <th>£ 132</th>\n",
       "      <th>£ 2,000</th>\n",
       "      <th>£ 20</th>\n",
       "      <th>£ 339</th>\n",
       "      <th>£ 4.99</th>\n",
       "      <th>£ 40</th>\n",
       "      <th>£ 5</th>\n",
       "      <th>£ 50</th>\n",
       "      <th>£ 99</th>\n",
       "    </tr>\n",
       "  </thead>\n",
       "  <tbody>\n",
       "    <tr>\n",
       "      <th>0</th>\n",
       "      <td>0.0</td>\n",
       "      <td>0.0</td>\n",
       "      <td>0.0</td>\n",
       "      <td>0.0</td>\n",
       "      <td>0.0</td>\n",
       "      <td>0.000000</td>\n",
       "      <td>0.0</td>\n",
       "      <td>0.0</td>\n",
       "      <td>0.0</td>\n",
       "      <td>0.0</td>\n",
       "      <td>...</td>\n",
       "      <td>0.0</td>\n",
       "      <td>0.0</td>\n",
       "      <td>0.0</td>\n",
       "      <td>0.0</td>\n",
       "      <td>0.0</td>\n",
       "      <td>0.0</td>\n",
       "      <td>0.0</td>\n",
       "      <td>0.0</td>\n",
       "      <td>0.0</td>\n",
       "      <td>0.0</td>\n",
       "    </tr>\n",
       "    <tr>\n",
       "      <th>1</th>\n",
       "      <td>0.0</td>\n",
       "      <td>0.0</td>\n",
       "      <td>0.0</td>\n",
       "      <td>0.0</td>\n",
       "      <td>0.0</td>\n",
       "      <td>0.034721</td>\n",
       "      <td>0.0</td>\n",
       "      <td>0.0</td>\n",
       "      <td>0.0</td>\n",
       "      <td>0.0</td>\n",
       "      <td>...</td>\n",
       "      <td>0.0</td>\n",
       "      <td>0.0</td>\n",
       "      <td>0.0</td>\n",
       "      <td>0.0</td>\n",
       "      <td>0.0</td>\n",
       "      <td>0.0</td>\n",
       "      <td>0.0</td>\n",
       "      <td>0.0</td>\n",
       "      <td>0.0</td>\n",
       "      <td>0.0</td>\n",
       "    </tr>\n",
       "    <tr>\n",
       "      <th>2</th>\n",
       "      <td>0.0</td>\n",
       "      <td>0.0</td>\n",
       "      <td>0.0</td>\n",
       "      <td>0.0</td>\n",
       "      <td>0.0</td>\n",
       "      <td>0.000000</td>\n",
       "      <td>0.0</td>\n",
       "      <td>0.0</td>\n",
       "      <td>0.0</td>\n",
       "      <td>0.0</td>\n",
       "      <td>...</td>\n",
       "      <td>0.0</td>\n",
       "      <td>0.0</td>\n",
       "      <td>0.0</td>\n",
       "      <td>0.0</td>\n",
       "      <td>0.0</td>\n",
       "      <td>0.0</td>\n",
       "      <td>0.0</td>\n",
       "      <td>0.0</td>\n",
       "      <td>0.0</td>\n",
       "      <td>0.0</td>\n",
       "    </tr>\n",
       "    <tr>\n",
       "      <th>3</th>\n",
       "      <td>0.0</td>\n",
       "      <td>0.0</td>\n",
       "      <td>0.0</td>\n",
       "      <td>0.0</td>\n",
       "      <td>0.0</td>\n",
       "      <td>0.000000</td>\n",
       "      <td>0.0</td>\n",
       "      <td>0.0</td>\n",
       "      <td>0.0</td>\n",
       "      <td>0.0</td>\n",
       "      <td>...</td>\n",
       "      <td>0.0</td>\n",
       "      <td>0.0</td>\n",
       "      <td>0.0</td>\n",
       "      <td>0.0</td>\n",
       "      <td>0.0</td>\n",
       "      <td>0.0</td>\n",
       "      <td>0.0</td>\n",
       "      <td>0.0</td>\n",
       "      <td>0.0</td>\n",
       "      <td>0.0</td>\n",
       "    </tr>\n",
       "    <tr>\n",
       "      <th>4</th>\n",
       "      <td>0.0</td>\n",
       "      <td>0.0</td>\n",
       "      <td>0.0</td>\n",
       "      <td>0.0</td>\n",
       "      <td>0.0</td>\n",
       "      <td>0.000000</td>\n",
       "      <td>0.0</td>\n",
       "      <td>0.0</td>\n",
       "      <td>0.0</td>\n",
       "      <td>0.0</td>\n",
       "      <td>...</td>\n",
       "      <td>0.0</td>\n",
       "      <td>0.0</td>\n",
       "      <td>0.0</td>\n",
       "      <td>0.0</td>\n",
       "      <td>0.0</td>\n",
       "      <td>0.0</td>\n",
       "      <td>0.0</td>\n",
       "      <td>0.0</td>\n",
       "      <td>0.0</td>\n",
       "      <td>0.0</td>\n",
       "    </tr>\n",
       "  </tbody>\n",
       "</table>\n",
       "<p>5 rows × 8218 columns</p>\n",
       "</div>"
      ],
      "text/plain": [
       "    10   15   2004   50   ability    accord   add   airline   announce   anti  \\\n",
       "0  0.0  0.0    0.0  0.0       0.0  0.000000   0.0       0.0        0.0    0.0   \n",
       "1  0.0  0.0    0.0  0.0       0.0  0.034721   0.0       0.0        0.0    0.0   \n",
       "2  0.0  0.0    0.0  0.0       0.0  0.000000   0.0       0.0        0.0    0.0   \n",
       "3  0.0  0.0    0.0  0.0       0.0  0.000000   0.0       0.0        0.0    0.0   \n",
       "4  0.0  0.0    0.0  0.0       0.0  0.000000   0.0       0.0        0.0    0.0   \n",
       "\n",
       "   ...  £ 11.5  £ 132  £ 2,000  £ 20  £ 339  £ 4.99  £ 40  £ 5  £ 50  £ 99  \n",
       "0  ...     0.0    0.0      0.0   0.0    0.0     0.0   0.0  0.0   0.0   0.0  \n",
       "1  ...     0.0    0.0      0.0   0.0    0.0     0.0   0.0  0.0   0.0   0.0  \n",
       "2  ...     0.0    0.0      0.0   0.0    0.0     0.0   0.0  0.0   0.0   0.0  \n",
       "3  ...     0.0    0.0      0.0   0.0    0.0     0.0   0.0  0.0   0.0   0.0  \n",
       "4  ...     0.0    0.0      0.0   0.0    0.0     0.0   0.0  0.0   0.0   0.0  \n",
       "\n",
       "[5 rows x 8218 columns]"
      ]
     },
     "execution_count": 45,
     "metadata": {},
     "output_type": "execute_result"
    }
   ],
   "source": [
    "dtm.head()"
   ]
  },
  {
   "cell_type": "code",
   "execution_count": 46,
   "metadata": {},
   "outputs": [
    {
     "data": {
      "text/plain": [
       "NearestNeighbors(algorithm='kd_tree', leaf_size=30, metric='minkowski',\n",
       "                 metric_params=None, n_jobs=None, n_neighbors=5, p=2,\n",
       "                 radius=1.0)"
      ]
     },
     "execution_count": 46,
     "metadata": {},
     "output_type": "execute_result"
    }
   ],
   "source": [
    "from sklearn.neighbors import NearestNeighbors\n",
    "\n",
    "# Fit on DTM\n",
    "nn = NearestNeighbors(n_neighbors=5, algorithm='kd_tree')\n",
    "nn.fit(dtm)"
   ]
  },
  {
   "cell_type": "code",
   "execution_count": 47,
   "metadata": {},
   "outputs": [
    {
     "data": {
      "text/plain": [
       "(array([[0.        , 1.22453946, 1.25984874, 1.3384218 , 1.3402193 ]]),\n",
       " array([[  0, 332,  36, 100, 242]]))"
      ]
     },
     "execution_count": 47,
     "metadata": {},
     "output_type": "execute_result"
    }
   ],
   "source": [
    "nn.kneighbors([dtm.iloc[0].values]) # this is our first doc vectorized\n",
    "# first array is the distances\n",
    "# second array is area the labels or ids for the articles"
   ]
  },
  {
   "cell_type": "code",
   "execution_count": 48,
   "metadata": {},
   "outputs": [
    {
     "data": {
      "text/plain": [
       "(array([[0.        , 0.61753168, 1.254013  , 1.254013  , 1.26893493]]),\n",
       " array([[100, 122, 298, 269, 213]]))"
      ]
     },
     "execution_count": 48,
     "metadata": {},
     "output_type": "execute_result"
    }
   ],
   "source": [
    "# Query Using kneighbors \n",
    "nn.kneighbors([dtm.iloc[100]])\n",
    "# 100 from ids above"
   ]
  },
  {
   "cell_type": "code",
   "execution_count": 50,
   "metadata": {},
   "outputs": [
    {
     "data": {
      "text/plain": [
       "b'Bush website blocked outside US\\n\\nSurfers outside the US have been unable to visit the official re-election site of President George W Bush.\\n\\nThe blocking of browsers sited outside the US began in the '"
      ]
     },
     "execution_count": 50,
     "metadata": {},
     "output_type": "execute_result"
    }
   ],
   "source": [
    "data[100][:200] \n",
    "# article id #100\n",
    "#first 200 words"
   ]
  },
  {
   "cell_type": "code",
   "execution_count": 52,
   "metadata": {},
   "outputs": [
    {
     "data": {
      "text/plain": [
       "b'Attack prompts Bush site block\\n\\nThe official re-election site of President George W Bush is blocking visits from overseas users for \"security reasons\".\\n\\nThe blocking began early on Monday so those out'"
      ]
     },
     "execution_count": 52,
     "metadata": {},
     "output_type": "execute_result"
    }
   ],
   "source": [
    "data[122][:200]\n",
    "# 122 is second to #100 id labels"
   ]
  },
  {
   "cell_type": "code",
   "execution_count": 53,
   "metadata": {},
   "outputs": [],
   "source": [
    "rndm_tech_article = [ \"\"\"\n",
    "Final Fantasy VII Remake and Marvel’s Avengers, two of this year’s major releases, have both been postponed. Square Enix, the publisher behind the titles, announced the news Tuesday morning.\n",
    "\n",
    "Avengers is being pushed back four months, with its new release date set for September 4. The arrival of Final Fantasy VII Remake has been bumped by one month, moving from March 3 to April 10.\n",
    "\n",
    "Delays for massive blockbuster games are common around this time of year. With the industry preparing for big, anticipated releases slated for spring, summer and the holidays, the news from Square Enix isn’t all that surprising. Early builds for Marvel’s Avengers received a mixed reception at E3 2019 and subsequent, similar events. Final Fantasy VII fans will likely have a critical eye when revisiting the classic, setting a high bar for developers to clear.\n",
    "\n",
    "Final Fantasy VII Remake is among The Washington Post's most anticipated games of 2020.\n",
    "\n",
    "“We are making this tough decision in order to give ourselves a few extra weeks to apply final polish to the game and to deliver you with the best possible experience,” wrote Final Fantasy VII Remake producer Yoshinori Kitase in a statement. “I, on behalf of the whole team, want to apologize to everyone, as I know this means waiting for the game just a little bit longer.”\n",
    "\n",
    "Marvel’s Avengers’s developer Crystal Dynamics released a similar statement, with studio co-heads Scot Amos and Ron Rosenberg citing “fine tuning and polishing” as the reason for the delay. “We will spend this additional development time focusing on fine tuning and polishing the game to the high standards our fans expect and deserve.”\n",
    "\n",
    "\"\"\"]\n"
   ]
  },
  {
   "cell_type": "code",
   "execution_count": 54,
   "metadata": {},
   "outputs": [],
   "source": [
    "# Query for Sim of Random doc to BBC\n",
    "new = tfidf.transform(rndm_tech_article)"
   ]
  },
  {
   "cell_type": "code",
   "execution_count": 55,
   "metadata": {},
   "outputs": [
    {
     "data": {
      "text/plain": [
       "<1x8218 sparse matrix of type '<class 'numpy.float64'>'\n",
       "\twith 98 stored elements in Compressed Sparse Row format>"
      ]
     },
     "execution_count": 55,
     "metadata": {},
     "output_type": "execute_result"
    }
   ],
   "source": [
    "new"
   ]
  },
  {
   "cell_type": "code",
   "execution_count": 56,
   "metadata": {},
   "outputs": [
    {
     "data": {
      "text/plain": [
       "(array([[1.30401736, 1.30702952, 1.30720438, 1.31127454, 1.3120807 ]]),\n",
       " array([[243, 143, 400,  81, 395]]))"
      ]
     },
     "execution_count": 56,
     "metadata": {},
     "output_type": "execute_result"
    }
   ],
   "source": [
    "nn.kneighbors(new.todense())"
   ]
  },
  {
   "cell_type": "code",
   "execution_count": 57,
   "metadata": {},
   "outputs": [
    {
     "data": {
      "text/plain": [
       "b\"The gaming world in 2005\\n\\nIf you have finished Doom 3, Half Life 2 and Halo 2, don't worry. There's a host of gaming gems set for release in 2005.\\n\\n WORLD OF WARCRAFT \\n\\nThe US reception to this game from developers Blizzard has been hugely enthusiastic, with the title topping its competitors in the area of life-eating, high-fantasy, massively multiplayer role-player gaming. Solid, diverse, accessible and visually striking, it may well open up the genre like never before. If nothing else, it will develop a vast and loyal community. Released 25 February on PC. ICO 2 (WORKING TITLE) Ico remains a benchmark for PS2 gaming, a title that took players into a uniquely atmospheric and artistic world of adventure. The (spiritual) sequel has visuals that echo those of the original, but promises to expand the Ico world, with hero Wanda taking on a series of giants. The other known working title is Wanda And Colossus. Release date to be confirmed on PS2. THE LEGEND OF ZELDA \\n\\nThe charismatic cel imagery has been scrapped in favour of a dark, detailed aesthetic (realism isn't quite the right word) that connects more with Ocarina Of Time. Link resumes his more teenage incarnation too, though enemies, elements and moves look familiar from the impressive trailer that has been released. Horseback adventuring across a vast land is promised. Release date to be confirmed on GameCube. ADVANCE WARS DS The UK Nintendo DS launch line-up is still to be confirmed at time of writing, but titles that exploit its two-screen and touch capacity, like WarioWare Touched! and Sega's Feel The Magic, are making a strong impression in other territories. Personally, I can't wait for the latest Advance Wars, the franchise that has been the icing on the cake of Nintendo handheld gaming during the past few years. Release date to be confirmed on DS. S.T.A.L.K.E.R. \\n\\nFollowing in the high-spec footsteps of Far Cry and Half-Life 2, this looks like the key upcoming PC first-person shooter (with role-playing elements). The fact that it is inspired in part by Andrei Tarkovsky's enigmatic 1979 masterpiece Stalker and set in 2012 in the disaster zone, a world of decay and mutation, makes it all the more intriguing. Released 1 March on PC. METAL GEAR SOLID: SNAKE EATER \\n\\nMore Hideo Kojima serious stealth, featuring action in the Soviet-controlled jungle in 1964. The game see Snake having to survive on his wits in the jungle, including eating wildlife. Once again, expect cinematic cut scenes and polished production values. Released March on PS2. DEAD OR ALIVE ULTIMATE Tecmo's Team Ninja are back with retooled and revamped versions of Dead Or Alive 1 and 2. Here's the big, big deal though - they're playable over Xbox Live. Released 11 March on Xbox. KNIGHTS OF THE OLD REPUBLIC II Looks set to build on the acclaimed original Star Wars role playing game with new characters, new Force powers and a new set of moral decisions, despite a different developer. Released 11 February on Xbox and PC.\\n\""
      ]
     },
     "execution_count": 57,
     "metadata": {},
     "output_type": "execute_result"
    }
   ],
   "source": [
    "# Inspect Most relevant result\n",
    "data[243]\n",
    "# the 1st label is the most relevant result"
   ]
  },
  {
   "cell_type": "markdown",
   "metadata": {},
   "source": [
    "## Challenge\n",
    "\n",
    "In the module project assignment, you will apply one of these search techniques to retrieve documents related to a query document. "
   ]
  },
  {
   "cell_type": "markdown",
   "metadata": {},
   "source": [
    "# Apply word embedding models to create document vectors (Learn)\n",
    "<a id=\"p3\"></a>"
   ]
  },
  {
   "cell_type": "markdown",
   "metadata": {},
   "source": [
    "## Overview\n",
    "### BoW discards textual context\n",
    "\n",
    "One of the limitations of Bag-of-Words approaches is that any information about the textual context surrounding that word is lost. This also means that with bag-of-words approaches often the only tools that we have for identifying words with similar usage or meaning and subsequently consolidating them into a single vector is through the processes of stemming and lemmatization which tend to be quite limited at consolidating words unless the two words are very close in their spelling or in their root parts-of-speech.\n",
    "\n",
    "### Embedding approaches preserve more textual context\n",
    "Word2Vec is an increasingly popular word embedding technique. Like Bag-of-words it learns a real-value vector representation for a predefined fixed-size vocabulary that is generated from a corpus of text. However, in contrast to BoW, Word2Vec approaches are much more capable of accounting for textual context, and are better at discovering words with similar meanings or usages (semantic or syntactic similarity).\n",
    "\n",
    "### Word2Vec Intuition\n",
    "### The Distribution Hypothesis\n",
    "\n",
    "In order to understand how Word2Vec preserves textual context we have to understand what's called the Distribution Hypothesis (Reference: Distribution Hypothesis Theory  -https://en.wikipedia.org/wiki/Distributional_semantics. The Distribution Hypothesis operates under the assumption that words that have similar contexts will have similar meanings. Practically speaking, this means that if two words are found to have similar words both to the right and to the left of them throughout the corpora then those words have the same context and are assumed to have the same meaning. \n",
    "\n",
    "> \"You shall know a word by the company it keeps\" - John Firth\n",
    "\n",
    "This means that we let the usage of a word define its meaning and its \"similarity\" to other words. In the following example, which words would you say have a similar meaning? \n",
    "\n",
    "**Sentence 1**: Traffic was light today\n",
    "\n",
    "**Sentence 2**: Traffic was heavy yesterday\n",
    "\n",
    "**Sentence 3**: Prediction is that traffic will be smooth-flowing tomorrow since it is a national holiday\n",
    "\n",
    "What words in the above sentences seem to have a similar meaning if all you knew about them was the context in which they appeared above? \n",
    "\n",
    "Lets take a look at how this might work in action, the following example is simplified, but will give you an idea of the intuition for how this works.\n",
    "\n",
    "#### Corpora:\n",
    "\n",
    "1) \"It was the sunniest of days.\"\n",
    "\n",
    "2) \"It was the raniest of days.\"\n",
    "\n",
    "#### Vocabulary:\n",
    "\n",
    "{\"it\": 1, \"was\": 2, \"the\": 3, \"of\": 4, \"days\": 5, \"sunniest\": 6, \"raniest\": 7}\n",
    "\n",
    "### Vectorization\n",
    "\n",
    "|       doc   | START_was | it_the | was_sunniest | the_of | sunniest_days | of_it | days_was | it_the | was_raniest | raniest_days | of_END |\n",
    "|----------|-----------|--------|--------------|--------|---------------|-------|----------|--------|-------------|--------------|--------|\n",
    "| it       | 1         | 0      | 0            | 0      | 0             | 0     | 1        | 0      | 0           | 0            | 0      |\n",
    "| was      | 0         | 1      | 0            | 0      | 0             | 0     | 0        | 1      | 0           | 0            | 0      |\n",
    "| the      | 0         | 0      | 1            | 0      | 0             | 0     | 0        | 0      | 1           | 0            | 0      |\n",
    "| sunniest | 0         | 0      | 0            | 1      | 0             | 0     | 0        | 0      | 0           | 0            | 0      |\n",
    "| of       | 0         | 0      | 0            | 0      | 1             | 0     | 0        | 0      | 0           | 1            | 0      |\n",
    "| days     | 0         | 0      | 0            | 0      | 0             | 0     | 0        | 0      | 0           | 0            | 1      |\n",
    "| raniest  | 0         | 0      | 0            | 1      | 0             | 0     | 0        | 0      | 0           | 0            | 0      |\n",
    "\n",
    "Each column vector represents the word's context -in this case defined by the words to the left and right of the center word. How far we look to the left and right of a given word is referred to as our \"window of context.\" Each row vector represents the the different usages of a given word. Word2Vec can consider a larger context than only words that are immediately to the left and right of a given word, but we're going to keep our window of context small for this example. What's most important is that this vectorization has translated our documents from a text representation to a numeric one in a way that preserves information about the underlying context. \n",
    "\n",
    "We can see that words that have a similar context will have similar row-vector representations, but before looking that more in-depth, lets simplify our vectorization slightly. You'll notice that we're repeating the column-vector \"it_the\" twice. Lets combine those into a single vector by adding them element-wise. \n",
    "\n",
    "|       *   | START_was | it_the | was_sunniest | the_of | sunniest_days | of_it | days_was | was_raniest | raniest_days | of_END |\n",
    "|----------|-----------|--------|--------------|--------|---------------|-------|----------|-------------|--------------|--------|\n",
    "| it       | 1         | 0      | 0            | 0      | 0             | 0     | 1        | 0           | 0            | 0      |\n",
    "| was      | 0         | 2      | 0            | 0      | 0             | 0     | 0        | 0           | 0            | 0      |\n",
    "| the      | 0         | 0      | 1            | 0      | 0             | 0     | 0        | 1           | 0            | 0      |\n",
    "| sunniest | 0         | 0      | 0            | 1      | 0             | 0     | 0        | 0           | 0            | 0      |\n",
    "| of       | 0         | 0      | 0            | 0      | 1             | 0     | 0        | 0           | 1            | 0      |\n",
    "| days     | 0         | 0      | 0            | 0      | 0             | 0     | 0        | 0           | 0            | 1      |\n",
    "| raniest  | 0         | 0      | 0            | 1      | 0             | 0     | 0        | 0           | 0            | 0      |\n",
    "\n",
    "Now, can you spot which words have a similar row-vector representation? Hint: Look for values that are repeated in a given column. Each column represents the context that word was found in. If there are multiple words that share a context then those words are understood to have a closer meaning with each other than with other words in the text.\n",
    "\n",
    "Lets look specifically at the words sunniest and raniest. You'll notice that these two words have exactly the same 10-dimensional vector representation. Based on this very small corpora of text we would conclude that these two words have the same meaning because they share the same usage. Is this a good assumption? Well, they are both referring to the weather outside so that's better than nothing. You could imagine that as our corpora grows larger we will be exposed a greater number of contexts and the Distribution Hypothesis assumption will improve. \n",
    "\n",
    "### Word2Vec Variants\n",
    "\n",
    "#### Skip-Gram\n",
    "\n",
    "The Skip-Gram method predicts the neighbors’ of a word given a center word. In the skip-gram model, we take a center word and a window of context (neighbors) words to train the model and then predict context words out to some window size for each center word.\n",
    "\n",
    "This notion of “context” or “neighboring” words is best described by considering a center word and a window of words around it. \n",
    "\n",
    "For example, if we consider the sentence **“The speedy Porsche drove past the elegant Rolls-Royce”** and a window size of 2, we’d have the following pairs for the skip-gram model:\n",
    "\n",
    "**Text:**\n",
    "**The**\tspeedy\tPorsche\tdrove\tpast\tthe\telegant\tRolls-Royce\n",
    "\n",
    "*Training Sample with window of 2*: (the, speedy), (the, Porsche)\n",
    "\n",
    "**Text:**\n",
    "The\t**speedy**\tPorsche\tdrove\tpast\tthe\telegant\tRolls-Royce\n",
    "\n",
    "*Training Sample with window of 2*: (speedy, the), (speedy, Porsche), (speedy, drove)\n",
    "\n",
    "**Text:**\n",
    "The\tspeedy\t**Porsche**\tdrove\tpast\tthe\telegant\tRolls-Royce\n",
    "\n",
    "*Training Sample with window of 2*: (Porsche, the), (Porsche, speedy), (Porsche, drove), (Porsche, past)\n",
    "\n",
    "**Text:**\n",
    "The\tspeedy\tPorsche\t**drove**\tpast\tthe\telegant\tRolls-Royce\n",
    "\n",
    "*Training Sample with window of 2*: (drove, speedy), (drove, Porsche), (drove, past), (drove, the)\n",
    "\n",
    "The **Skip-gram model** is going to output a probability distribution i.e. the probability of a word appearing in context given a center word and we are going to select the vector representation that maximizes the probability.\n",
    "\n",
    "With CountVectorizer and TF-IDF the best we could do for context was to look at common bi-grams and tri-grams (n-grams). Well, skip-grams go far beyond that and give our model much stronger contextual information.\n",
    "\n",
    "![alt text](https://www.dropbox.com/s/c7mwy6dk9k99bgh/Image%202%20-%20SkipGrams.jpg?raw=1)\n",
    "\n",
    "## Continuous Bag of Words\n",
    "\n",
    "This model takes thes opposite approach from the skip-gram model in that it tries to predict a center word based on the neighboring words. In the case of the CBOW model, we input the context words within the window (such as “the”, “Proshe”, “drove”) and aim to predict the target or center word “speedy” (the input to the prediction pipeline is reversed as compared to the SkipGram model).\n",
    "\n",
    "A graphical depiction of the input to output prediction pipeline for both variants of the Word2vec model is attached. The graphical depiction will help crystallize the difference between SkipGrams and Continuous Bag of Words.\n",
    "\n",
    "![alt text](https://www.dropbox.com/s/k3ddmbtd52wq2li/Image%203%20-%20CBOW%20Model.jpg?raw=1)\n",
    "\n",
    "## Notable Differences between Word Embedding methods:\n",
    "\n",
    "1) W2V focuses less document topic-modeling. You'll notice that the vectorizations don't really retain much information about the original document that the information came from. At least not in our examples.\n",
    "\n",
    "2) W2V can result in really large and complex vectorizations. In fact, you need Deep Neural Networks to train your Word2Vec models from scratch, but we can use helpful pretrained embeddings (thank you Google) to do really cool things!\n",
    "\n",
    "*^ All that noise....AND Spacy has pretrained a Word2Vec model you can just use? WTF JC?*\n",
    "\n",
    "Let's take a look at how to do it. "
   ]
  },
  {
   "cell_type": "code",
   "execution_count": 58,
   "metadata": {},
   "outputs": [
    {
     "name": "stdout",
     "output_type": "stream",
     "text": [
      "[ 2.07984239e-01 -2.60890484e-01 -1.15457252e-01 -1.96443751e-01\n",
      " -2.83249468e-03  3.55849974e-02 -2.05170006e-01 -2.27374747e-01\n",
      "  8.56052488e-02  1.36894751e+00 -5.74124977e-02  8.06210041e-02\n",
      "  2.37275064e-02  1.17454052e-01 -6.53099641e-03 -1.24400005e-01\n",
      "  1.99086756e-01  6.37722552e-01  1.52916998e-01 -2.33504996e-01\n",
      " -2.40909994e-01 -7.11500049e-02 -9.10753161e-02  7.16734976e-02\n",
      "  1.16262749e-01 -3.91372502e-01  1.13048747e-01 -2.11327493e-01\n",
      "  1.09019078e-01 -2.44885415e-01  3.00577488e-02  4.77855802e-02\n",
      "  7.37800002e-02  2.57142037e-01  2.62586236e-01 -1.66897491e-01\n",
      "  1.87596500e-01 -1.23680010e-02 -1.76299751e-01  1.11685000e-01\n",
      "  1.82024967e-02  9.86500084e-03 -3.58770013e-01 -2.23265499e-01\n",
      " -4.37720008e-02  3.63999486e-01  7.42954984e-02  1.21225506e-01\n",
      "  1.37013003e-01 -5.50666526e-02  2.66017504e-02  8.87180045e-02\n",
      " -1.14092499e-01 -2.02865750e-01  3.63092512e-01 -3.08394760e-01\n",
      "  1.13859497e-01  3.13650146e-02  2.62076259e-01  1.90399922e-02\n",
      "  7.24634901e-02  2.79004984e-02  8.65525007e-02  6.92452565e-02\n",
      " -9.77424979e-02 -1.47966757e-01  2.32025003e-03  1.62278250e-01\n",
      "  1.59857497e-02  3.52048993e-01 -5.51802553e-02  2.13179991e-01\n",
      "  3.63152504e-01  1.01501703e-01  1.73463732e-01  9.20909941e-02\n",
      "  1.27134249e-01  1.00527555e-02  2.44570002e-01 -6.89124968e-03\n",
      "  6.30075037e-02  1.31706819e-01 -1.36811763e-01 -3.73892523e-02\n",
      " -1.71941705e-02 -1.47585243e-01  2.69147515e-01  1.97296605e-01\n",
      " -1.14209257e-01  7.49210045e-02  1.12407543e-02  6.53382465e-02\n",
      "  7.39065409e-02 -1.47568747e-01 -9.98437554e-02  2.56100774e-01\n",
      "  3.41899954e-02 -1.95817441e-01  1.52259752e-01 -2.98299998e-01\n",
      "  3.71480025e-02  1.38142243e-01 -3.84989977e-02 -2.02540010e-02\n",
      "  2.38000415e-03 -8.94232512e-01  1.20125249e-01 -1.48699433e-03\n",
      "  3.07812482e-01  1.31904989e-01  2.28665009e-01 -4.28467512e-01\n",
      " -1.50100499e-01 -3.99947166e-05  7.09750131e-03 -9.08460468e-02\n",
      "  1.15139998e-01  2.73323029e-01  6.97097555e-02  1.37960017e-01\n",
      " -7.76264742e-02 -3.58945057e-02  1.47073746e-01 -2.70538747e-01\n",
      " -4.16769907e-02 -2.20907256e-01  1.29162997e-01  5.66806756e-02\n",
      " -2.10923001e-01 -1.12912245e-01 -1.24349967e-02  2.90902629e-02\n",
      " -9.14399922e-02  1.48545001e-02  1.73015013e-01  2.45295018e-01\n",
      "  2.36412495e-01  1.51691005e-01 -6.30199909e-02  2.67812014e-01\n",
      " -1.31286001e+00 -7.58474991e-02  1.29823506e-01 -1.51231751e-01\n",
      " -8.19625035e-02  1.39788002e-01 -1.48047015e-01  6.38692454e-02\n",
      "  2.33854756e-01 -9.88075137e-03  1.93658501e-01  2.27525085e-03\n",
      "  4.02045511e-02 -4.90897447e-02 -3.33292484e-01 -2.25562245e-01\n",
      " -2.13249400e-03 -1.25110000e-01 -2.07584769e-01 -8.20675045e-02\n",
      " -3.08577478e-01  2.42340490e-01  1.01082012e-01  1.69142485e-02\n",
      " -2.96225518e-01 -2.39765748e-01 -2.06788242e-01 -2.19947502e-01\n",
      "  1.32491991e-01  2.83937510e-02 -2.12792531e-02  2.11183250e-01\n",
      "  7.47520030e-02  5.15667535e-02 -2.79584527e-01  5.96700013e-02\n",
      " -1.40897244e-01 -7.72149861e-03  9.76998210e-02 -2.29924992e-01\n",
      " -3.91512439e-02 -2.62144983e-01 -9.46324915e-02 -1.49488509e-01\n",
      " -4.47402522e-02  4.87175062e-02 -1.00491997e-02 -1.57508999e-01\n",
      "  1.83425248e-01 -7.38234967e-02 -5.53542078e-02  3.62554997e-01\n",
      "  6.00774996e-02 -3.51069048e-02 -2.12482512e-02 -5.44437282e-02\n",
      "  5.77000529e-03 -4.17417213e-02 -2.30720505e-01  3.05450335e-03\n",
      " -2.60736495e-01  9.90725309e-03  1.44257501e-01  1.58988327e-01\n",
      "  3.12480003e-01 -4.21992540e-02  1.47941500e-01 -2.60480493e-03\n",
      " -1.18254803e-01  3.76944989e-02  8.56549889e-02  2.98762500e-01\n",
      " -1.82907507e-01 -5.01237512e-01 -3.22812736e-01 -1.04721501e-01\n",
      " -2.11069018e-01 -1.58998221e-01 -1.63172990e-01 -1.53411508e-01\n",
      " -4.72389996e-01 -2.52688266e-02  6.80677444e-02 -3.47925007e-01\n",
      "  1.00139998e-01  3.17759998e-02 -2.02882513e-02  2.72649899e-02\n",
      "  2.80047543e-02  6.36423454e-02 -2.32529998e-01  1.78696245e-01\n",
      " -4.16299030e-02 -6.78092465e-02 -1.87866479e-01 -3.47625017e-01\n",
      "  5.43992445e-02 -1.05034754e-01  3.68332490e-02  2.01451257e-01\n",
      " -2.68060744e-01 -7.03077465e-02 -3.46807480e-01  1.18331507e-01\n",
      "  3.82332467e-02 -1.15444995e-01 -9.92614999e-02 -4.42850590e-03\n",
      " -3.42225015e-01  3.17104995e-01 -1.48628756e-01 -6.13242462e-02\n",
      " -8.43070000e-02  1.16139993e-01  1.61483496e-01  1.70949996e-01\n",
      "  1.95979327e-01  2.56112486e-01 -2.15889998e-02 -2.78974995e-02\n",
      "  2.59169757e-01  1.79182500e-01 -2.46662006e-01  1.68815508e-01\n",
      " -3.45774740e-03  2.30412483e-01 -1.22785002e-01  2.36632437e-01\n",
      " -4.52876002e-01 -3.92082512e-01 -2.01881751e-01 -1.27992496e-01\n",
      "  2.75517516e-02  5.54060042e-02 -3.12609941e-01  1.01338752e-01\n",
      "  1.83728248e-01  4.08405006e-01  1.23905048e-01  4.37955022e-01\n",
      "  2.54640013e-01 -6.01055101e-02 -2.90097505e-01  7.99837485e-02\n",
      "  6.81065023e-02  6.80774972e-02  1.45408496e-01 -1.65033251e-01\n",
      " -6.48526996e-02 -1.71237499e-01 -5.75472489e-02 -4.43175063e-03\n",
      "  2.72267759e-01 -2.11504504e-01 -2.87027508e-01  3.25110495e-01\n",
      " -4.72727492e-02 -3.86672527e-01  2.08224997e-01  1.24032997e-01]\n"
     ]
    }
   ],
   "source": [
    "# Process a text\n",
    "nlp = spacy.load('en_core_web_lg')\n",
    "\n",
    "doc = nlp(\"Two bananas in pyjamas\")\n",
    "\n",
    "# Get the vector for the token \"bananas\"\n",
    "bananas_vector = doc.vector\n",
    "print(bananas_vector)"
   ]
  },
  {
   "cell_type": "code",
   "execution_count": 59,
   "metadata": {},
   "outputs": [
    {
     "data": {
      "text/plain": [
       "300"
      ]
     },
     "execution_count": 59,
     "metadata": {},
     "output_type": "execute_result"
    }
   ],
   "source": [
    "len(bananas_vector)"
   ]
  },
  {
   "cell_type": "code",
   "execution_count": 60,
   "metadata": {},
   "outputs": [
    {
     "name": "stdout",
     "output_type": "stream",
     "text": [
      "0.6325915361602994\n"
     ]
    }
   ],
   "source": [
    "doc1 = nlp(\"It's a warm summer day\")\n",
    "doc2 = nlp(\"I like dogs.\")\n",
    "\n",
    "# Get the similarity of doc1 and doc2\n",
    "similarity = doc1.similarity(doc2)\n",
    "print(similarity)"
   ]
  },
  {
   "cell_type": "code",
   "execution_count": 61,
   "metadata": {},
   "outputs": [
    {
     "data": {
      "text/plain": [
       "array([[ 5.15021219, -1.02589405],\n",
       "       [ 4.68847306, -0.32752874],\n",
       "       [ 4.18183622, -1.25490821],\n",
       "       [ 2.3045236 , -0.62841121],\n",
       "       [-1.6975279 , -1.26790577],\n",
       "       [-2.19008419,  0.0674359 ],\n",
       "       [-2.41987038, -1.23168885],\n",
       "       [-2.4303113 , -2.84156896],\n",
       "       [-1.9405539 , -2.55571106],\n",
       "       [-2.16312982, -2.6337209 ],\n",
       "       [ 0.66759362,  0.42236702],\n",
       "       [-0.36687779,  4.15296085],\n",
       "       [-1.89448123,  1.39241361],\n",
       "       [-1.44081158,  2.52885279],\n",
       "       [-0.87134078,  2.86535252],\n",
       "       [ 0.42235018,  2.33795505]])"
      ]
     },
     "execution_count": 61,
     "metadata": {},
     "output_type": "execute_result"
    }
   ],
   "source": [
    "# import the PCA module from sklearn\n",
    "from sklearn.decomposition import PCA\n",
    "\n",
    "def get_word_vectors(words):\n",
    "    # converts a list of words into their word vectors\n",
    "    return [nlp(word).vector for word in words]\n",
    "\n",
    "words = ['car', 'truck', 'suv', 'race', 'elves', 'dragon', 'sword', 'king', 'queen', 'prince', 'horse', 'fish' , 'lion', 'tiger', 'lynx', 'potato']\n",
    "\n",
    "# intialise pca model and tell it to project data down onto 2 dimensions\n",
    "pca = PCA(n_components=2)\n",
    "\n",
    "# fit the pca model to our 300D data, this will work out which is the best \n",
    "# way to project the data down that will best maintain the relative distances \n",
    "# between data points. It will store these intructioons on how to transform the data.\n",
    "pca.fit(get_word_vectors(words))\n",
    "\n",
    "# Tell our (fitted) pca model to transform our 300D data down onto 2D using the \n",
    "# instructions it learnt during the fit phase.\n",
    "word_vecs_2d = pca.transform(get_word_vectors(words))\n",
    "\n",
    "# let's look at our new 2D word vectors\n",
    "word_vecs_2d"
   ]
  },
  {
   "cell_type": "code",
   "execution_count": 62,
   "metadata": {},
   "outputs": [
    {
     "data": {
      "image/png": "[encoded data removed]",
      "text/plain": [
       "<Figure size 1440x1080 with 1 Axes>"
      ]
     },
     "metadata": {
      "needs_background": "light"
     },
     "output_type": "display_data"
    }
   ],
   "source": [
    "# create a nice big plot \n",
    "plt.figure(figsize=(20,15))\n",
    "\n",
    "# plot the scatter plot of where the words will be\n",
    "plt.scatter(word_vecs_2d[:,0], word_vecs_2d[:,1])\n",
    "\n",
    "# for each word and coordinate pair: draw the text on the plot\n",
    "for word, coord in zip(words, word_vecs_2d):\n",
    "    x, y = coord\n",
    "    plt.text(x, y, word, size= 15)\n",
    "\n",
    "# show the plot\n",
    "plt.show()"
   ]
  },
  {
   "cell_type": "markdown",
   "metadata": {},
   "source": [
    "## Follow Along\n",
    "### Extract Document Vectors\n",
    "\n",
    "Let's see how much the quality of our query will work when we try a new embedding model.\n",
    "\n",
    "Steps:\n",
    "* Extract Vectors from Each Document\n",
    "* Search using KNN\n"
   ]
  },
  {
   "cell_type": "code",
   "execution_count": 63,
   "metadata": {},
   "outputs": [],
   "source": [
    "X = [nlp(str(d)).vector for d in data]"
   ]
  },
  {
   "cell_type": "code",
   "execution_count": 65,
   "metadata": {},
   "outputs": [],
   "source": [
    "df = pd.DataFrame(X)"
   ]
  },
  {
   "cell_type": "code",
   "execution_count": 66,
   "metadata": {},
   "outputs": [
    {
     "data": {
      "text/plain": [
       "(401, 300)"
      ]
     },
     "execution_count": 66,
     "metadata": {},
     "output_type": "execute_result"
    }
   ],
   "source": [
    "df.shape\n",
    "# spacy 300 features of out 401 articles from above"
   ]
  },
  {
   "cell_type": "code",
   "execution_count": 67,
   "metadata": {},
   "outputs": [
    {
     "data": {
      "text/html": [
       "<div>\n",
       "<style scoped>\n",
       "    .dataframe tbody tr th:only-of-type {\n",
       "        vertical-align: middle;\n",
       "    }\n",
       "\n",
       "    .dataframe tbody tr th {\n",
       "        vertical-align: top;\n",
       "    }\n",
       "\n",
       "    .dataframe thead th {\n",
       "        text-align: right;\n",
       "    }\n",
       "</style>\n",
       "<table border=\"1\" class=\"dataframe\">\n",
       "  <thead>\n",
       "    <tr style=\"text-align: right;\">\n",
       "      <th></th>\n",
       "      <th>0</th>\n",
       "      <th>1</th>\n",
       "      <th>2</th>\n",
       "      <th>3</th>\n",
       "      <th>4</th>\n",
       "      <th>5</th>\n",
       "      <th>6</th>\n",
       "      <th>7</th>\n",
       "      <th>8</th>\n",
       "      <th>9</th>\n",
       "      <th>...</th>\n",
       "      <th>290</th>\n",
       "      <th>291</th>\n",
       "      <th>292</th>\n",
       "      <th>293</th>\n",
       "      <th>294</th>\n",
       "      <th>295</th>\n",
       "      <th>296</th>\n",
       "      <th>297</th>\n",
       "      <th>298</th>\n",
       "      <th>299</th>\n",
       "    </tr>\n",
       "  </thead>\n",
       "  <tbody>\n",
       "    <tr>\n",
       "      <th>0</th>\n",
       "      <td>-0.040508</td>\n",
       "      <td>0.118313</td>\n",
       "      <td>-0.059275</td>\n",
       "      <td>-0.018551</td>\n",
       "      <td>0.028807</td>\n",
       "      <td>-0.012388</td>\n",
       "      <td>-0.045898</td>\n",
       "      <td>-0.001236</td>\n",
       "      <td>-0.010094</td>\n",
       "      <td>2.107986</td>\n",
       "      <td>...</td>\n",
       "      <td>-0.226307</td>\n",
       "      <td>0.048829</td>\n",
       "      <td>0.066400</td>\n",
       "      <td>-0.085754</td>\n",
       "      <td>-0.051722</td>\n",
       "      <td>0.006362</td>\n",
       "      <td>0.002462</td>\n",
       "      <td>-0.057015</td>\n",
       "      <td>-0.007771</td>\n",
       "      <td>0.088315</td>\n",
       "    </tr>\n",
       "    <tr>\n",
       "      <th>1</th>\n",
       "      <td>-0.001170</td>\n",
       "      <td>0.094481</td>\n",
       "      <td>-0.090321</td>\n",
       "      <td>-0.056536</td>\n",
       "      <td>0.075293</td>\n",
       "      <td>-0.035214</td>\n",
       "      <td>0.001944</td>\n",
       "      <td>-0.045513</td>\n",
       "      <td>0.052784</td>\n",
       "      <td>2.203317</td>\n",
       "      <td>...</td>\n",
       "      <td>-0.225346</td>\n",
       "      <td>0.014044</td>\n",
       "      <td>0.065145</td>\n",
       "      <td>-0.002483</td>\n",
       "      <td>-0.030395</td>\n",
       "      <td>-0.006571</td>\n",
       "      <td>0.005746</td>\n",
       "      <td>-0.084917</td>\n",
       "      <td>0.037098</td>\n",
       "      <td>0.140163</td>\n",
       "    </tr>\n",
       "    <tr>\n",
       "      <th>2</th>\n",
       "      <td>-0.115597</td>\n",
       "      <td>0.141120</td>\n",
       "      <td>-0.099435</td>\n",
       "      <td>-0.034110</td>\n",
       "      <td>-0.020472</td>\n",
       "      <td>0.002247</td>\n",
       "      <td>0.023609</td>\n",
       "      <td>-0.239514</td>\n",
       "      <td>0.024079</td>\n",
       "      <td>1.922905</td>\n",
       "      <td>...</td>\n",
       "      <td>-0.177707</td>\n",
       "      <td>0.083151</td>\n",
       "      <td>0.071212</td>\n",
       "      <td>0.090530</td>\n",
       "      <td>0.072955</td>\n",
       "      <td>-0.065791</td>\n",
       "      <td>-0.026913</td>\n",
       "      <td>-0.052953</td>\n",
       "      <td>-0.019003</td>\n",
       "      <td>0.110700</td>\n",
       "    </tr>\n",
       "    <tr>\n",
       "      <th>3</th>\n",
       "      <td>-0.057802</td>\n",
       "      <td>0.177254</td>\n",
       "      <td>-0.059729</td>\n",
       "      <td>-0.047598</td>\n",
       "      <td>0.086353</td>\n",
       "      <td>-0.060286</td>\n",
       "      <td>-0.021713</td>\n",
       "      <td>-0.130302</td>\n",
       "      <td>0.009562</td>\n",
       "      <td>2.144755</td>\n",
       "      <td>...</td>\n",
       "      <td>-0.233238</td>\n",
       "      <td>0.006141</td>\n",
       "      <td>0.065824</td>\n",
       "      <td>-0.002070</td>\n",
       "      <td>-0.013150</td>\n",
       "      <td>-0.011400</td>\n",
       "      <td>-0.025868</td>\n",
       "      <td>-0.067189</td>\n",
       "      <td>-0.011133</td>\n",
       "      <td>0.071841</td>\n",
       "    </tr>\n",
       "    <tr>\n",
       "      <th>4</th>\n",
       "      <td>-0.022019</td>\n",
       "      <td>0.154302</td>\n",
       "      <td>-0.065393</td>\n",
       "      <td>-0.104091</td>\n",
       "      <td>0.094629</td>\n",
       "      <td>-0.004325</td>\n",
       "      <td>0.001518</td>\n",
       "      <td>-0.030950</td>\n",
       "      <td>-0.028366</td>\n",
       "      <td>2.113439</td>\n",
       "      <td>...</td>\n",
       "      <td>-0.276260</td>\n",
       "      <td>0.010026</td>\n",
       "      <td>0.032849</td>\n",
       "      <td>-0.005290</td>\n",
       "      <td>-0.052966</td>\n",
       "      <td>-0.031755</td>\n",
       "      <td>-0.029510</td>\n",
       "      <td>-0.034102</td>\n",
       "      <td>-0.024186</td>\n",
       "      <td>0.131415</td>\n",
       "    </tr>\n",
       "    <tr>\n",
       "      <th>...</th>\n",
       "      <td>...</td>\n",
       "      <td>...</td>\n",
       "      <td>...</td>\n",
       "      <td>...</td>\n",
       "      <td>...</td>\n",
       "      <td>...</td>\n",
       "      <td>...</td>\n",
       "      <td>...</td>\n",
       "      <td>...</td>\n",
       "      <td>...</td>\n",
       "      <td>...</td>\n",
       "      <td>...</td>\n",
       "      <td>...</td>\n",
       "      <td>...</td>\n",
       "      <td>...</td>\n",
       "      <td>...</td>\n",
       "      <td>...</td>\n",
       "      <td>...</td>\n",
       "      <td>...</td>\n",
       "      <td>...</td>\n",
       "      <td>...</td>\n",
       "    </tr>\n",
       "    <tr>\n",
       "      <th>396</th>\n",
       "      <td>-0.074535</td>\n",
       "      <td>0.167686</td>\n",
       "      <td>-0.124194</td>\n",
       "      <td>-0.040978</td>\n",
       "      <td>0.069190</td>\n",
       "      <td>-0.041786</td>\n",
       "      <td>0.010383</td>\n",
       "      <td>-0.133730</td>\n",
       "      <td>-0.033264</td>\n",
       "      <td>2.084607</td>\n",
       "      <td>...</td>\n",
       "      <td>-0.261592</td>\n",
       "      <td>0.051393</td>\n",
       "      <td>0.054008</td>\n",
       "      <td>0.007709</td>\n",
       "      <td>0.021791</td>\n",
       "      <td>-0.058539</td>\n",
       "      <td>-0.041437</td>\n",
       "      <td>-0.076255</td>\n",
       "      <td>0.029604</td>\n",
       "      <td>0.096734</td>\n",
       "    </tr>\n",
       "    <tr>\n",
       "      <th>397</th>\n",
       "      <td>-0.147939</td>\n",
       "      <td>0.173596</td>\n",
       "      <td>-0.131823</td>\n",
       "      <td>-0.085829</td>\n",
       "      <td>0.019984</td>\n",
       "      <td>0.028801</td>\n",
       "      <td>0.027188</td>\n",
       "      <td>-0.135997</td>\n",
       "      <td>-0.035999</td>\n",
       "      <td>2.008832</td>\n",
       "      <td>...</td>\n",
       "      <td>-0.268240</td>\n",
       "      <td>0.042045</td>\n",
       "      <td>0.016317</td>\n",
       "      <td>0.037462</td>\n",
       "      <td>0.001791</td>\n",
       "      <td>-0.022010</td>\n",
       "      <td>-0.046332</td>\n",
       "      <td>-0.086006</td>\n",
       "      <td>0.003762</td>\n",
       "      <td>0.113897</td>\n",
       "    </tr>\n",
       "    <tr>\n",
       "      <th>398</th>\n",
       "      <td>-0.050197</td>\n",
       "      <td>0.123298</td>\n",
       "      <td>-0.110147</td>\n",
       "      <td>-0.062932</td>\n",
       "      <td>0.039269</td>\n",
       "      <td>-0.012812</td>\n",
       "      <td>0.001799</td>\n",
       "      <td>-0.101078</td>\n",
       "      <td>-0.005447</td>\n",
       "      <td>2.262263</td>\n",
       "      <td>...</td>\n",
       "      <td>-0.239309</td>\n",
       "      <td>0.018450</td>\n",
       "      <td>0.025102</td>\n",
       "      <td>-0.020285</td>\n",
       "      <td>-0.016654</td>\n",
       "      <td>-0.002383</td>\n",
       "      <td>-0.015853</td>\n",
       "      <td>-0.065683</td>\n",
       "      <td>0.027478</td>\n",
       "      <td>0.108599</td>\n",
       "    </tr>\n",
       "    <tr>\n",
       "      <th>399</th>\n",
       "      <td>-0.103434</td>\n",
       "      <td>0.117049</td>\n",
       "      <td>-0.058486</td>\n",
       "      <td>-0.038581</td>\n",
       "      <td>0.029398</td>\n",
       "      <td>-0.014169</td>\n",
       "      <td>-0.035983</td>\n",
       "      <td>-0.058551</td>\n",
       "      <td>0.020129</td>\n",
       "      <td>2.234570</td>\n",
       "      <td>...</td>\n",
       "      <td>-0.210543</td>\n",
       "      <td>0.050358</td>\n",
       "      <td>0.067227</td>\n",
       "      <td>0.017444</td>\n",
       "      <td>0.005593</td>\n",
       "      <td>-0.007543</td>\n",
       "      <td>-0.011172</td>\n",
       "      <td>0.005806</td>\n",
       "      <td>-0.025184</td>\n",
       "      <td>0.067311</td>\n",
       "    </tr>\n",
       "    <tr>\n",
       "      <th>400</th>\n",
       "      <td>-0.019795</td>\n",
       "      <td>0.176481</td>\n",
       "      <td>-0.149639</td>\n",
       "      <td>-0.078446</td>\n",
       "      <td>0.082326</td>\n",
       "      <td>-0.026124</td>\n",
       "      <td>0.005123</td>\n",
       "      <td>-0.096249</td>\n",
       "      <td>0.015067</td>\n",
       "      <td>2.175982</td>\n",
       "      <td>...</td>\n",
       "      <td>-0.197679</td>\n",
       "      <td>0.014859</td>\n",
       "      <td>-0.029950</td>\n",
       "      <td>-0.035923</td>\n",
       "      <td>0.038012</td>\n",
       "      <td>0.042201</td>\n",
       "      <td>-0.042577</td>\n",
       "      <td>-0.056812</td>\n",
       "      <td>-0.005723</td>\n",
       "      <td>0.086381</td>\n",
       "    </tr>\n",
       "  </tbody>\n",
       "</table>\n",
       "<p>401 rows × 300 columns</p>\n",
       "</div>"
      ],
      "text/plain": [
       "          0         1         2         3         4         5         6    \\\n",
       "0   -0.040508  0.118313 -0.059275 -0.018551  0.028807 -0.012388 -0.045898   \n",
       "1   -0.001170  0.094481 -0.090321 -0.056536  0.075293 -0.035214  0.001944   \n",
       "2   -0.115597  0.141120 -0.099435 -0.034110 -0.020472  0.002247  0.023609   \n",
       "3   -0.057802  0.177254 -0.059729 -0.047598  0.086353 -0.060286 -0.021713   \n",
       "4   -0.022019  0.154302 -0.065393 -0.104091  0.094629 -0.004325  0.001518   \n",
       "..        ...       ...       ...       ...       ...       ...       ...   \n",
       "396 -0.074535  0.167686 -0.124194 -0.040978  0.069190 -0.041786  0.010383   \n",
       "397 -0.147939  0.173596 -0.131823 -0.085829  0.019984  0.028801  0.027188   \n",
       "398 -0.050197  0.123298 -0.110147 -0.062932  0.039269 -0.012812  0.001799   \n",
       "399 -0.103434  0.117049 -0.058486 -0.038581  0.029398 -0.014169 -0.035983   \n",
       "400 -0.019795  0.176481 -0.149639 -0.078446  0.082326 -0.026124  0.005123   \n",
       "\n",
       "          7         8         9    ...       290       291       292  \\\n",
       "0   -0.001236 -0.010094  2.107986  ... -0.226307  0.048829  0.066400   \n",
       "1   -0.045513  0.052784  2.203317  ... -0.225346  0.014044  0.065145   \n",
       "2   -0.239514  0.024079  1.922905  ... -0.177707  0.083151  0.071212   \n",
       "3   -0.130302  0.009562  2.144755  ... -0.233238  0.006141  0.065824   \n",
       "4   -0.030950 -0.028366  2.113439  ... -0.276260  0.010026  0.032849   \n",
       "..        ...       ...       ...  ...       ...       ...       ...   \n",
       "396 -0.133730 -0.033264  2.084607  ... -0.261592  0.051393  0.054008   \n",
       "397 -0.135997 -0.035999  2.008832  ... -0.268240  0.042045  0.016317   \n",
       "398 -0.101078 -0.005447  2.262263  ... -0.239309  0.018450  0.025102   \n",
       "399 -0.058551  0.020129  2.234570  ... -0.210543  0.050358  0.067227   \n",
       "400 -0.096249  0.015067  2.175982  ... -0.197679  0.014859 -0.029950   \n",
       "\n",
       "          293       294       295       296       297       298       299  \n",
       "0   -0.085754 -0.051722  0.006362  0.002462 -0.057015 -0.007771  0.088315  \n",
       "1   -0.002483 -0.030395 -0.006571  0.005746 -0.084917  0.037098  0.140163  \n",
       "2    0.090530  0.072955 -0.065791 -0.026913 -0.052953 -0.019003  0.110700  \n",
       "3   -0.002070 -0.013150 -0.011400 -0.025868 -0.067189 -0.011133  0.071841  \n",
       "4   -0.005290 -0.052966 -0.031755 -0.029510 -0.034102 -0.024186  0.131415  \n",
       "..        ...       ...       ...       ...       ...       ...       ...  \n",
       "396  0.007709  0.021791 -0.058539 -0.041437 -0.076255  0.029604  0.096734  \n",
       "397  0.037462  0.001791 -0.022010 -0.046332 -0.086006  0.003762  0.113897  \n",
       "398 -0.020285 -0.016654 -0.002383 -0.015853 -0.065683  0.027478  0.108599  \n",
       "399  0.017444  0.005593 -0.007543 -0.011172  0.005806 -0.025184  0.067311  \n",
       "400 -0.035923  0.038012  0.042201 -0.042577 -0.056812 -0.005723  0.086381  \n",
       "\n",
       "[401 rows x 300 columns]"
      ]
     },
     "execution_count": 67,
     "metadata": {},
     "output_type": "execute_result"
    }
   ],
   "source": [
    "# examine the Vector Representation\n",
    "df"
   ]
  },
  {
   "cell_type": "markdown",
   "metadata": {},
   "source": [
    "## Challenge\n",
    "\n",
    "You will extract word embeddings from documents using Spacy's pre-trained model in the upcoming module project. "
   ]
  },
  {
   "cell_type": "markdown",
   "metadata": {},
   "source": [
    "# Review\n",
    "For your module project assignment you will create vector representations of indeed.com Data Science job listings. You will then estimate a similarity model to perform searches for job descriptions. Get started with your [module project here](./LS_DS_412_Vector_Representations_Assignment.ipynb)"
   ]
  },
  {
   "cell_type": "markdown",
   "metadata": {},
   "source": [
    "# Sources\n",
    "\n",
    "* Spacy 101 - https://course.spacy.io\n",
    "* NLTK Book - https://www.nltk.org/book/\n",
    "* An Introduction to Information Retrieval - https://nlp.stanford.edu/IR-book/pdf/irbookonlinereading.pdf"
   ]
  }
 ],
 "metadata": {
  "kernelspec": {
   "display_name": "ds-unit-4 (Python3)",
   "language": "python",
   "name": "ds-unit-4"
  },
  "language_info": {
   "codemirror_mode": {
    "name": "ipython",
    "version": 3
   },
   "file_extension": ".py",
   "mimetype": "text/x-python",
   "name": "python",
   "nbconvert_exporter": "python",
   "pygments_lexer": "ipython3",
   "version": "3.7.0"
  }
 },
 "nbformat": 4,
 "nbformat_minor": 4
}
