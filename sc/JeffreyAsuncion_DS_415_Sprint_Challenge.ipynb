{
 "cells": [
  {
   "cell_type": "markdown",
   "metadata": {},
   "source": [
    "<img align=\"left\" src=\"https://lever-client-logos.s3.amazonaws.com/864372b1-534c-480e-acd5-9711f850815c-1524247202159.png\" width=200>\n",
    "<br></br>\n",
    "<br></br>\n",
    "\n",
    "# Sprint Challenge\n",
    "## *Data Science Unit 4 Sprint 1*\n",
    "\n",
    "After a week of Natural Language Processing, you've learned some cool new stuff: how to process text, how turn text into vectors, and how to model topics from documents. Apply your newly acquired skills to one of the most famous NLP datasets out there: [Yelp](https://www.yelp.com/dataset/challenge). As part of the job selection process, some of my friends have been asked to create analysis of this dataset, so I want to empower you to have a head start.  \n",
    "\n",
    "The real dataset is massive (almost 8 gigs uncompressed). I've sampled the data for you to something more managable for the Sprint Challenge. You can analyze the full dataset as a stretch goal or after the sprint challenge. As you work on the challenge, I suggest adding notes about your findings and things you want to analyze in the future.\n",
    "\n",
    "## Challenge Objectives\n",
    "*Successfully complete these all these objectives to earn a 2. There are more details on each objective further down in the notebook.*\n",
    "* <a href=\"#p1\">Part 1</a>: Write a function to tokenize the yelp reviews\n",
    "* <a href=\"#p2\">Part 2</a>: Create a vector representation of those tokens\n",
    "* <a href=\"#p3\">Part 3</a>: Use your tokens in a classification model on yelp rating\n",
    "* <a href=\"#p4\">Part 4</a>: Estimate & Interpret a topic model of the Yelp reviews"
   ]
  },
  {
   "cell_type": "code",
   "execution_count": 1,
   "metadata": {},
   "outputs": [],
   "source": [
    "# Read in the dataset\n",
    "import pandas as pd\n",
    "\n",
    "yelp = pd.read_json('./review_sample.json', lines=True)"
   ]
  },
  {
   "cell_type": "code",
   "execution_count": 2,
   "metadata": {},
   "outputs": [
    {
     "data": {
      "text/html": [
       "<div>\n",
       "<style scoped>\n",
       "    .dataframe tbody tr th:only-of-type {\n",
       "        vertical-align: middle;\n",
       "    }\n",
       "\n",
       "    .dataframe tbody tr th {\n",
       "        vertical-align: top;\n",
       "    }\n",
       "\n",
       "    .dataframe thead th {\n",
       "        text-align: right;\n",
       "    }\n",
       "</style>\n",
       "<table border=\"1\" class=\"dataframe\">\n",
       "  <thead>\n",
       "    <tr style=\"text-align: right;\">\n",
       "      <th></th>\n",
       "      <th>business_id</th>\n",
       "      <th>cool</th>\n",
       "      <th>date</th>\n",
       "      <th>funny</th>\n",
       "      <th>review_id</th>\n",
       "      <th>stars</th>\n",
       "      <th>text</th>\n",
       "      <th>useful</th>\n",
       "      <th>user_id</th>\n",
       "    </tr>\n",
       "  </thead>\n",
       "  <tbody>\n",
       "    <tr>\n",
       "      <th>0</th>\n",
       "      <td>nDuEqIyRc8YKS1q1fX0CZg</td>\n",
       "      <td>1</td>\n",
       "      <td>2015-03-31 16:50:30</td>\n",
       "      <td>0</td>\n",
       "      <td>eZs2tpEJtXPwawvHnHZIgQ</td>\n",
       "      <td>1</td>\n",
       "      <td>BEWARE!!! FAKE, FAKE, FAKE....We also own a sm...</td>\n",
       "      <td>10</td>\n",
       "      <td>n1LM36qNg4rqGXIcvVXv8w</td>\n",
       "    </tr>\n",
       "    <tr>\n",
       "      <th>1</th>\n",
       "      <td>eMYeEapscbKNqUDCx705hg</td>\n",
       "      <td>0</td>\n",
       "      <td>2015-12-16 05:31:03</td>\n",
       "      <td>0</td>\n",
       "      <td>DoQDWJsNbU0KL1O29l_Xug</td>\n",
       "      <td>4</td>\n",
       "      <td>Came here for lunch Togo. Service was quick. S...</td>\n",
       "      <td>0</td>\n",
       "      <td>5CgjjDAic2-FAvCtiHpytA</td>\n",
       "    </tr>\n",
       "    <tr>\n",
       "      <th>2</th>\n",
       "      <td>6Q7-wkCPc1KF75jZLOTcMw</td>\n",
       "      <td>1</td>\n",
       "      <td>2010-06-20 19:14:48</td>\n",
       "      <td>1</td>\n",
       "      <td>DDOdGU7zh56yQHmUnL1idQ</td>\n",
       "      <td>3</td>\n",
       "      <td>I've been to Vegas dozens of times and had nev...</td>\n",
       "      <td>2</td>\n",
       "      <td>BdV-cf3LScmb8kZ7iiBcMA</td>\n",
       "    </tr>\n",
       "    <tr>\n",
       "      <th>3</th>\n",
       "      <td>k3zrItO4l9hwfLRwHBDc9w</td>\n",
       "      <td>3</td>\n",
       "      <td>2010-07-13 00:33:45</td>\n",
       "      <td>4</td>\n",
       "      <td>LfTMUWnfGFMOfOIyJcwLVA</td>\n",
       "      <td>1</td>\n",
       "      <td>We went here on a night where they closed off ...</td>\n",
       "      <td>5</td>\n",
       "      <td>cZZnBqh4gAEy4CdNvJailQ</td>\n",
       "    </tr>\n",
       "    <tr>\n",
       "      <th>4</th>\n",
       "      <td>6hpfRwGlOzbNv7k5eP9rsQ</td>\n",
       "      <td>1</td>\n",
       "      <td>2018-06-30 02:30:01</td>\n",
       "      <td>0</td>\n",
       "      <td>zJSUdI7bJ8PNJAg4lnl_Gg</td>\n",
       "      <td>4</td>\n",
       "      <td>3.5 to 4 stars\\n\\nNot bad for the price, $12.9...</td>\n",
       "      <td>5</td>\n",
       "      <td>n9QO4ClYAS7h9fpQwa5bhA</td>\n",
       "    </tr>\n",
       "  </tbody>\n",
       "</table>\n",
       "</div>"
      ],
      "text/plain": [
       "              business_id  cool                date  funny  \\\n",
       "0  nDuEqIyRc8YKS1q1fX0CZg     1 2015-03-31 16:50:30      0   \n",
       "1  eMYeEapscbKNqUDCx705hg     0 2015-12-16 05:31:03      0   \n",
       "2  6Q7-wkCPc1KF75jZLOTcMw     1 2010-06-20 19:14:48      1   \n",
       "3  k3zrItO4l9hwfLRwHBDc9w     3 2010-07-13 00:33:45      4   \n",
       "4  6hpfRwGlOzbNv7k5eP9rsQ     1 2018-06-30 02:30:01      0   \n",
       "\n",
       "                review_id  stars  \\\n",
       "0  eZs2tpEJtXPwawvHnHZIgQ      1   \n",
       "1  DoQDWJsNbU0KL1O29l_Xug      4   \n",
       "2  DDOdGU7zh56yQHmUnL1idQ      3   \n",
       "3  LfTMUWnfGFMOfOIyJcwLVA      1   \n",
       "4  zJSUdI7bJ8PNJAg4lnl_Gg      4   \n",
       "\n",
       "                                                text  useful  \\\n",
       "0  BEWARE!!! FAKE, FAKE, FAKE....We also own a sm...      10   \n",
       "1  Came here for lunch Togo. Service was quick. S...       0   \n",
       "2  I've been to Vegas dozens of times and had nev...       2   \n",
       "3  We went here on a night where they closed off ...       5   \n",
       "4  3.5 to 4 stars\\n\\nNot bad for the price, $12.9...       5   \n",
       "\n",
       "                  user_id  \n",
       "0  n1LM36qNg4rqGXIcvVXv8w  \n",
       "1  5CgjjDAic2-FAvCtiHpytA  \n",
       "2  BdV-cf3LScmb8kZ7iiBcMA  \n",
       "3  cZZnBqh4gAEy4CdNvJailQ  \n",
       "4  n9QO4ClYAS7h9fpQwa5bhA  "
      ]
     },
     "execution_count": 2,
     "metadata": {},
     "output_type": "execute_result"
    }
   ],
   "source": [
    "# have a quick look at the dataset \n",
    "yelp.head()"
   ]
  },
  {
   "cell_type": "markdown",
   "metadata": {},
   "source": [
    "## Part 1: Tokenize Function\n",
    "<a id=\"#p1\"></a>\n",
    "\n",
    "Complete the function `tokenize`. Your function should\n",
    "- accept one document at a time\n",
    "- return a list of tokens\n",
    "\n",
    "You are free to use any method you have learned this week."
   ]
  },
  {
   "cell_type": "code",
   "execution_count": 3,
   "metadata": {},
   "outputs": [],
   "source": [
    "import spacy\n",
    "import re\n",
    "\n",
    "nlp = spacy.load('en_core_web_lg')\n",
    "\n",
    "stop_words = nlp.Defaults.stop_words.union(['food', 'place', 'restaurant', ' ', 'd', 'm', 'n', 's', 't', 've'])\n",
    "\n",
    "def tokenize(doc):\n",
    "        \"\"\"\n",
    "            tokenize will check for stop words, punctuation, and Pronouns\n",
    "            it will also lemmatize to reduce dimensionality\n",
    "        \"\"\"\n",
    "        lemmas = []\n",
    "        \n",
    "        doc = re.sub('[^a-zA-Z 0-9]', ' ', doc)\n",
    "        doc = nlp(doc)  \n",
    "        \n",
    "        for token in doc:\n",
    "            conditions = (token.is_punct == False) and (token.pos_ != 'PRON') and (token.text not in stop_words)\n",
    "            #conditions = (token.is_stop == False) and (token.is_punct == False) and (token.pos_ != 'PRON') and (token.text not in stop_words)\n",
    "            if conditions:\n",
    "                lemmas.append(token.lemma_)\n",
    "\n",
    "        return lemmas"
   ]
  },
  {
   "cell_type": "code",
   "execution_count": 4,
   "metadata": {},
   "outputs": [],
   "source": [
    "yelp['tokens'] = yelp['text'].apply(tokenize)"
   ]
  },
  {
   "cell_type": "code",
   "execution_count": 5,
   "metadata": {},
   "outputs": [
    {
     "name": "stdout",
     "output_type": "stream",
     "text": [
      "(10000, 10)\n"
     ]
    },
    {
     "data": {
      "text/html": [
       "<div>\n",
       "<style scoped>\n",
       "    .dataframe tbody tr th:only-of-type {\n",
       "        vertical-align: middle;\n",
       "    }\n",
       "\n",
       "    .dataframe tbody tr th {\n",
       "        vertical-align: top;\n",
       "    }\n",
       "\n",
       "    .dataframe thead th {\n",
       "        text-align: right;\n",
       "    }\n",
       "</style>\n",
       "<table border=\"1\" class=\"dataframe\">\n",
       "  <thead>\n",
       "    <tr style=\"text-align: right;\">\n",
       "      <th></th>\n",
       "      <th>business_id</th>\n",
       "      <th>cool</th>\n",
       "      <th>date</th>\n",
       "      <th>funny</th>\n",
       "      <th>review_id</th>\n",
       "      <th>stars</th>\n",
       "      <th>text</th>\n",
       "      <th>useful</th>\n",
       "      <th>user_id</th>\n",
       "      <th>tokens</th>\n",
       "    </tr>\n",
       "  </thead>\n",
       "  <tbody>\n",
       "    <tr>\n",
       "      <th>0</th>\n",
       "      <td>nDuEqIyRc8YKS1q1fX0CZg</td>\n",
       "      <td>1</td>\n",
       "      <td>2015-03-31 16:50:30</td>\n",
       "      <td>0</td>\n",
       "      <td>eZs2tpEJtXPwawvHnHZIgQ</td>\n",
       "      <td>1</td>\n",
       "      <td>BEWARE!!! FAKE, FAKE, FAKE....We also own a sm...</td>\n",
       "      <td>10</td>\n",
       "      <td>n1LM36qNg4rqGXIcvVXv8w</td>\n",
       "      <td>[beware,    , fake, fake, fake,    , small, bu...</td>\n",
       "    </tr>\n",
       "    <tr>\n",
       "      <th>1</th>\n",
       "      <td>eMYeEapscbKNqUDCx705hg</td>\n",
       "      <td>0</td>\n",
       "      <td>2015-12-16 05:31:03</td>\n",
       "      <td>0</td>\n",
       "      <td>DoQDWJsNbU0KL1O29l_Xug</td>\n",
       "      <td>4</td>\n",
       "      <td>Came here for lunch Togo. Service was quick. S...</td>\n",
       "      <td>0</td>\n",
       "      <td>5CgjjDAic2-FAvCtiHpytA</td>\n",
       "      <td>[come, lunch, Togo, Service, quick, Staff, fri...</td>\n",
       "    </tr>\n",
       "    <tr>\n",
       "      <th>2</th>\n",
       "      <td>6Q7-wkCPc1KF75jZLOTcMw</td>\n",
       "      <td>1</td>\n",
       "      <td>2010-06-20 19:14:48</td>\n",
       "      <td>1</td>\n",
       "      <td>DDOdGU7zh56yQHmUnL1idQ</td>\n",
       "      <td>3</td>\n",
       "      <td>I've been to Vegas dozens of times and had nev...</td>\n",
       "      <td>2</td>\n",
       "      <td>BdV-cf3LScmb8kZ7iiBcMA</td>\n",
       "      <td>[Vegas, dozen, time, step, foot, Circus, Circu...</td>\n",
       "    </tr>\n",
       "    <tr>\n",
       "      <th>3</th>\n",
       "      <td>k3zrItO4l9hwfLRwHBDc9w</td>\n",
       "      <td>3</td>\n",
       "      <td>2010-07-13 00:33:45</td>\n",
       "      <td>4</td>\n",
       "      <td>LfTMUWnfGFMOfOIyJcwLVA</td>\n",
       "      <td>1</td>\n",
       "      <td>We went here on a night where they closed off ...</td>\n",
       "      <td>5</td>\n",
       "      <td>cZZnBqh4gAEy4CdNvJailQ</td>\n",
       "      <td>[go, night, close, street, party,    , and, go...</td>\n",
       "    </tr>\n",
       "    <tr>\n",
       "      <th>4</th>\n",
       "      <td>6hpfRwGlOzbNv7k5eP9rsQ</td>\n",
       "      <td>1</td>\n",
       "      <td>2018-06-30 02:30:01</td>\n",
       "      <td>0</td>\n",
       "      <td>zJSUdI7bJ8PNJAg4lnl_Gg</td>\n",
       "      <td>4</td>\n",
       "      <td>3.5 to 4 stars\\n\\nNot bad for the price, $12.9...</td>\n",
       "      <td>5</td>\n",
       "      <td>n9QO4ClYAS7h9fpQwa5bhA</td>\n",
       "      <td>[3, 5, 4, star, not, bad, price,   , 12, 99, l...</td>\n",
       "    </tr>\n",
       "  </tbody>\n",
       "</table>\n",
       "</div>"
      ],
      "text/plain": [
       "              business_id  cool                date  funny  \\\n",
       "0  nDuEqIyRc8YKS1q1fX0CZg     1 2015-03-31 16:50:30      0   \n",
       "1  eMYeEapscbKNqUDCx705hg     0 2015-12-16 05:31:03      0   \n",
       "2  6Q7-wkCPc1KF75jZLOTcMw     1 2010-06-20 19:14:48      1   \n",
       "3  k3zrItO4l9hwfLRwHBDc9w     3 2010-07-13 00:33:45      4   \n",
       "4  6hpfRwGlOzbNv7k5eP9rsQ     1 2018-06-30 02:30:01      0   \n",
       "\n",
       "                review_id  stars  \\\n",
       "0  eZs2tpEJtXPwawvHnHZIgQ      1   \n",
       "1  DoQDWJsNbU0KL1O29l_Xug      4   \n",
       "2  DDOdGU7zh56yQHmUnL1idQ      3   \n",
       "3  LfTMUWnfGFMOfOIyJcwLVA      1   \n",
       "4  zJSUdI7bJ8PNJAg4lnl_Gg      4   \n",
       "\n",
       "                                                text  useful  \\\n",
       "0  BEWARE!!! FAKE, FAKE, FAKE....We also own a sm...      10   \n",
       "1  Came here for lunch Togo. Service was quick. S...       0   \n",
       "2  I've been to Vegas dozens of times and had nev...       2   \n",
       "3  We went here on a night where they closed off ...       5   \n",
       "4  3.5 to 4 stars\\n\\nNot bad for the price, $12.9...       5   \n",
       "\n",
       "                  user_id                                             tokens  \n",
       "0  n1LM36qNg4rqGXIcvVXv8w  [beware,    , fake, fake, fake,    , small, bu...  \n",
       "1  5CgjjDAic2-FAvCtiHpytA  [come, lunch, Togo, Service, quick, Staff, fri...  \n",
       "2  BdV-cf3LScmb8kZ7iiBcMA  [Vegas, dozen, time, step, foot, Circus, Circu...  \n",
       "3  cZZnBqh4gAEy4CdNvJailQ  [go, night, close, street, party,    , and, go...  \n",
       "4  n9QO4ClYAS7h9fpQwa5bhA  [3, 5, 4, star, not, bad, price,   , 12, 99, l...  "
      ]
     },
     "execution_count": 5,
     "metadata": {},
     "output_type": "execute_result"
    }
   ],
   "source": [
    "print(yelp.shape)\n",
    "yelp.head()"
   ]
  },
  {
   "cell_type": "code",
   "execution_count": 6,
   "metadata": {},
   "outputs": [
    {
     "data": {
      "text/html": [
       "<div>\n",
       "<style scoped>\n",
       "    .dataframe tbody tr th:only-of-type {\n",
       "        vertical-align: middle;\n",
       "    }\n",
       "\n",
       "    .dataframe tbody tr th {\n",
       "        vertical-align: top;\n",
       "    }\n",
       "\n",
       "    .dataframe thead th {\n",
       "        text-align: right;\n",
       "    }\n",
       "</style>\n",
       "<table border=\"1\" class=\"dataframe\">\n",
       "  <thead>\n",
       "    <tr style=\"text-align: right;\">\n",
       "      <th></th>\n",
       "      <th>text</th>\n",
       "      <th>stars</th>\n",
       "      <th>tokens</th>\n",
       "    </tr>\n",
       "  </thead>\n",
       "  <tbody>\n",
       "    <tr>\n",
       "      <th>0</th>\n",
       "      <td>BEWARE!!! FAKE, FAKE, FAKE....We also own a sm...</td>\n",
       "      <td>1</td>\n",
       "      <td>[beware,    , fake, fake, fake,    , small, bu...</td>\n",
       "    </tr>\n",
       "    <tr>\n",
       "      <th>1</th>\n",
       "      <td>Came here for lunch Togo. Service was quick. S...</td>\n",
       "      <td>4</td>\n",
       "      <td>[come, lunch, Togo, Service, quick, Staff, fri...</td>\n",
       "    </tr>\n",
       "    <tr>\n",
       "      <th>2</th>\n",
       "      <td>I've been to Vegas dozens of times and had nev...</td>\n",
       "      <td>3</td>\n",
       "      <td>[Vegas, dozen, time, step, foot, Circus, Circu...</td>\n",
       "    </tr>\n",
       "    <tr>\n",
       "      <th>3</th>\n",
       "      <td>We went here on a night where they closed off ...</td>\n",
       "      <td>1</td>\n",
       "      <td>[go, night, close, street, party,    , and, go...</td>\n",
       "    </tr>\n",
       "    <tr>\n",
       "      <th>4</th>\n",
       "      <td>3.5 to 4 stars\\n\\nNot bad for the price, $12.9...</td>\n",
       "      <td>4</td>\n",
       "      <td>[3, 5, 4, star, not, bad, price,   , 12, 99, l...</td>\n",
       "    </tr>\n",
       "    <tr>\n",
       "      <th>...</th>\n",
       "      <td>...</td>\n",
       "      <td>...</td>\n",
       "      <td>...</td>\n",
       "    </tr>\n",
       "    <tr>\n",
       "      <th>9995</th>\n",
       "      <td>My family and I were hungry and this Subway is...</td>\n",
       "      <td>1</td>\n",
       "      <td>[-PRON-, family, hungry, Subway, open, 24, hou...</td>\n",
       "    </tr>\n",
       "    <tr>\n",
       "      <th>9996</th>\n",
       "      <td>My wife and I came here with a a couple of fri...</td>\n",
       "      <td>3</td>\n",
       "      <td>[-PRON-, wife, come, couple, friend, the, seve...</td>\n",
       "    </tr>\n",
       "    <tr>\n",
       "      <th>9997</th>\n",
       "      <td>The food was just OK and not anything to brag ...</td>\n",
       "      <td>2</td>\n",
       "      <td>[the, ok, brag, the, hot, item, tasty, horribl...</td>\n",
       "    </tr>\n",
       "    <tr>\n",
       "      <th>9998</th>\n",
       "      <td>Today's visit is great!! Love and enjoy Town S...</td>\n",
       "      <td>4</td>\n",
       "      <td>[today, visit, great,   , love, enjoy, Town, S...</td>\n",
       "    </tr>\n",
       "    <tr>\n",
       "      <th>9999</th>\n",
       "      <td>This is the absolute worst place I have ever s...</td>\n",
       "      <td>1</td>\n",
       "      <td>[this, absolute, bad, stay, 43, year, life,   ...</td>\n",
       "    </tr>\n",
       "  </tbody>\n",
       "</table>\n",
       "<p>10000 rows × 3 columns</p>\n",
       "</div>"
      ],
      "text/plain": [
       "                                                   text  stars  \\\n",
       "0     BEWARE!!! FAKE, FAKE, FAKE....We also own a sm...      1   \n",
       "1     Came here for lunch Togo. Service was quick. S...      4   \n",
       "2     I've been to Vegas dozens of times and had nev...      3   \n",
       "3     We went here on a night where they closed off ...      1   \n",
       "4     3.5 to 4 stars\\n\\nNot bad for the price, $12.9...      4   \n",
       "...                                                 ...    ...   \n",
       "9995  My family and I were hungry and this Subway is...      1   \n",
       "9996  My wife and I came here with a a couple of fri...      3   \n",
       "9997  The food was just OK and not anything to brag ...      2   \n",
       "9998  Today's visit is great!! Love and enjoy Town S...      4   \n",
       "9999  This is the absolute worst place I have ever s...      1   \n",
       "\n",
       "                                                 tokens  \n",
       "0     [beware,    , fake, fake, fake,    , small, bu...  \n",
       "1     [come, lunch, Togo, Service, quick, Staff, fri...  \n",
       "2     [Vegas, dozen, time, step, foot, Circus, Circu...  \n",
       "3     [go, night, close, street, party,    , and, go...  \n",
       "4     [3, 5, 4, star, not, bad, price,   , 12, 99, l...  \n",
       "...                                                 ...  \n",
       "9995  [-PRON-, family, hungry, Subway, open, 24, hou...  \n",
       "9996  [-PRON-, wife, come, couple, friend, the, seve...  \n",
       "9997  [the, ok, brag, the, hot, item, tasty, horribl...  \n",
       "9998  [today, visit, great,   , love, enjoy, Town, S...  \n",
       "9999  [this, absolute, bad, stay, 43, year, life,   ...  \n",
       "\n",
       "[10000 rows x 3 columns]"
      ]
     },
     "execution_count": 6,
     "metadata": {},
     "output_type": "execute_result"
    }
   ],
   "source": [
    "# have a closer look at our tokens \n",
    "yelp[['text', 'stars', 'tokens']]"
   ]
  },
  {
   "cell_type": "markdown",
   "metadata": {},
   "source": [
    "## Part 2: Vector Representation\n",
    "<a id=\"#p2\"></a>\n",
    "1. Create a vector representation of the reviews\n",
    "2. Write a fake review and query for the 10 most similiar reviews, print the text of the reviews. Do you notice any patterns?\n",
    "    - Given the size of the dataset, it will probably be best to use a `NearestNeighbors` model for this. "
   ]
  },
  {
   "cell_type": "markdown",
   "metadata": {},
   "source": [
    "1. Import\n",
    "2. Instanitate\n",
    "3. Fit\n",
    "4. Transform"
   ]
  },
  {
   "cell_type": "code",
   "execution_count": 7,
   "metadata": {},
   "outputs": [],
   "source": [
    "from sklearn.feature_extraction.text import TfidfVectorizer"
   ]
  },
  {
   "cell_type": "code",
   "execution_count": 8,
   "metadata": {},
   "outputs": [],
   "source": [
    "# the max_features here limit the time for this to run\n",
    "# max_features = 1000 helps this run smoothly\n",
    "\n",
    "tfidf = TfidfVectorizer(stop_words=stop_words,  \n",
    "                        ngram_range=(1,2),\n",
    "                        max_features = 1000, # this worked at 1000 for time #  downsized from 8000 to 4000\n",
    "                        tokenizer=tokenize)"
   ]
  },
  {
   "cell_type": "code",
   "execution_count": 9,
   "metadata": {},
   "outputs": [
    {
     "name": "stderr",
     "output_type": "stream",
     "text": [
      "/home/jepoy/miniconda3/envs/ds-unit-4/lib/python3.7/site-packages/sklearn/feature_extraction/text.py:507: UserWarning: The parameter 'token_pattern' will not be used since 'tokenizer' is not None'\n",
      "  warnings.warn(\"The parameter 'token_pattern' will not be used\"\n"
     ]
    },
    {
     "data": {
      "text/plain": [
       "TfidfVectorizer(analyzer='word', binary=False, decode_error='strict',\n",
       "                dtype=<class 'numpy.float64'>, encoding='utf-8',\n",
       "                input='content', lowercase=True, max_df=1.0, max_features=1000,\n",
       "                min_df=1, ngram_range=(1, 2), norm='l2', preprocessor=None,\n",
       "                smooth_idf=True,\n",
       "                stop_words={' ', \"'d\", \"'ll\", \"'m\", \"'re\", \"'s\", \"'ve\", 'a',\n",
       "                            'about', 'above', 'across', 'after', 'afterwards',\n",
       "                            'again', 'against', 'all', 'almost', 'alone',\n",
       "                            'along', 'already', 'also', 'although', 'always',\n",
       "                            'am', 'among', 'amongst', 'amount', 'an', 'and',\n",
       "                            'another', ...},\n",
       "                strip_accents=None, sublinear_tf=False,\n",
       "                token_pattern='(?u)\\\\b\\\\w\\\\w+\\\\b',\n",
       "                tokenizer=<function tokenize at 0x7f50c0070158>, use_idf=True,\n",
       "                vocabulary=None)"
      ]
     },
     "execution_count": 9,
     "metadata": {},
     "output_type": "execute_result"
    }
   ],
   "source": [
    "\n",
    "tfidf.fit(yelp['text'])"
   ]
  },
  {
   "cell_type": "code",
   "execution_count": 10,
   "metadata": {},
   "outputs": [],
   "source": [
    "dtm = tfidf.transform(yelp['text'])"
   ]
  },
  {
   "cell_type": "code",
   "execution_count": 11,
   "metadata": {},
   "outputs": [],
   "source": [
    "dtm = pd.DataFrame(dtm.todense(), columns=tfidf.get_feature_names())"
   ]
  },
  {
   "cell_type": "code",
   "execution_count": 12,
   "metadata": {},
   "outputs": [
    {
     "data": {
      "text/html": [
       "<div>\n",
       "<style scoped>\n",
       "    .dataframe tbody tr th:only-of-type {\n",
       "        vertical-align: middle;\n",
       "    }\n",
       "\n",
       "    .dataframe tbody tr th {\n",
       "        vertical-align: top;\n",
       "    }\n",
       "\n",
       "    .dataframe thead th {\n",
       "        text-align: right;\n",
       "    }\n",
       "</style>\n",
       "<table border=\"1\" class=\"dataframe\">\n",
       "  <thead>\n",
       "    <tr style=\"text-align: right;\">\n",
       "      <th></th>\n",
       "      <th></th>\n",
       "      <th></th>\n",
       "      <th></th>\n",
       "      <th></th>\n",
       "      <th></th>\n",
       "      <th></th>\n",
       "      <th>good</th>\n",
       "      <th>service</th>\n",
       "      <th>2</th>\n",
       "      <th>ask</th>\n",
       "      <th>...</th>\n",
       "      <th>wrap</th>\n",
       "      <th>write</th>\n",
       "      <th>wrong</th>\n",
       "      <th>year</th>\n",
       "      <th>year ago</th>\n",
       "      <th>yelp</th>\n",
       "      <th>yes</th>\n",
       "      <th>young</th>\n",
       "      <th>yum</th>\n",
       "      <th>yummy</th>\n",
       "    </tr>\n",
       "  </thead>\n",
       "  <tbody>\n",
       "    <tr>\n",
       "      <th>0</th>\n",
       "      <td>0.197332</td>\n",
       "      <td>0.139291</td>\n",
       "      <td>0.103645</td>\n",
       "      <td>0.0</td>\n",
       "      <td>0.0</td>\n",
       "      <td>0.0</td>\n",
       "      <td>0.000000</td>\n",
       "      <td>0.0</td>\n",
       "      <td>0.0</td>\n",
       "      <td>0.0</td>\n",
       "      <td>...</td>\n",
       "      <td>0.0</td>\n",
       "      <td>0.0</td>\n",
       "      <td>0.0</td>\n",
       "      <td>0.000000</td>\n",
       "      <td>0.0</td>\n",
       "      <td>0.0</td>\n",
       "      <td>0.0</td>\n",
       "      <td>0.000000</td>\n",
       "      <td>0.0</td>\n",
       "      <td>0.0</td>\n",
       "    </tr>\n",
       "    <tr>\n",
       "      <th>1</th>\n",
       "      <td>0.000000</td>\n",
       "      <td>0.000000</td>\n",
       "      <td>0.000000</td>\n",
       "      <td>0.0</td>\n",
       "      <td>0.0</td>\n",
       "      <td>0.0</td>\n",
       "      <td>0.000000</td>\n",
       "      <td>0.0</td>\n",
       "      <td>0.0</td>\n",
       "      <td>0.0</td>\n",
       "      <td>...</td>\n",
       "      <td>0.0</td>\n",
       "      <td>0.0</td>\n",
       "      <td>0.0</td>\n",
       "      <td>0.000000</td>\n",
       "      <td>0.0</td>\n",
       "      <td>0.0</td>\n",
       "      <td>0.0</td>\n",
       "      <td>0.000000</td>\n",
       "      <td>0.0</td>\n",
       "      <td>0.0</td>\n",
       "    </tr>\n",
       "    <tr>\n",
       "      <th>2</th>\n",
       "      <td>0.107800</td>\n",
       "      <td>0.000000</td>\n",
       "      <td>0.000000</td>\n",
       "      <td>0.0</td>\n",
       "      <td>0.0</td>\n",
       "      <td>0.0</td>\n",
       "      <td>0.000000</td>\n",
       "      <td>0.0</td>\n",
       "      <td>0.0</td>\n",
       "      <td>0.0</td>\n",
       "      <td>...</td>\n",
       "      <td>0.0</td>\n",
       "      <td>0.0</td>\n",
       "      <td>0.0</td>\n",
       "      <td>0.086127</td>\n",
       "      <td>0.0</td>\n",
       "      <td>0.0</td>\n",
       "      <td>0.0</td>\n",
       "      <td>0.132355</td>\n",
       "      <td>0.0</td>\n",
       "      <td>0.0</td>\n",
       "    </tr>\n",
       "    <tr>\n",
       "      <th>3</th>\n",
       "      <td>0.085847</td>\n",
       "      <td>0.121194</td>\n",
       "      <td>0.000000</td>\n",
       "      <td>0.0</td>\n",
       "      <td>0.0</td>\n",
       "      <td>0.0</td>\n",
       "      <td>0.331252</td>\n",
       "      <td>0.0</td>\n",
       "      <td>0.0</td>\n",
       "      <td>0.0</td>\n",
       "      <td>...</td>\n",
       "      <td>0.0</td>\n",
       "      <td>0.0</td>\n",
       "      <td>0.0</td>\n",
       "      <td>0.000000</td>\n",
       "      <td>0.0</td>\n",
       "      <td>0.0</td>\n",
       "      <td>0.0</td>\n",
       "      <td>0.000000</td>\n",
       "      <td>0.0</td>\n",
       "      <td>0.0</td>\n",
       "    </tr>\n",
       "    <tr>\n",
       "      <th>4</th>\n",
       "      <td>0.213016</td>\n",
       "      <td>0.060145</td>\n",
       "      <td>0.000000</td>\n",
       "      <td>0.0</td>\n",
       "      <td>0.0</td>\n",
       "      <td>0.0</td>\n",
       "      <td>0.000000</td>\n",
       "      <td>0.0</td>\n",
       "      <td>0.0</td>\n",
       "      <td>0.0</td>\n",
       "      <td>...</td>\n",
       "      <td>0.0</td>\n",
       "      <td>0.0</td>\n",
       "      <td>0.0</td>\n",
       "      <td>0.000000</td>\n",
       "      <td>0.0</td>\n",
       "      <td>0.0</td>\n",
       "      <td>0.0</td>\n",
       "      <td>0.000000</td>\n",
       "      <td>0.0</td>\n",
       "      <td>0.0</td>\n",
       "    </tr>\n",
       "  </tbody>\n",
       "</table>\n",
       "<p>5 rows × 1000 columns</p>\n",
       "</div>"
      ],
      "text/plain": [
       "                                                             good  \\\n",
       "0  0.197332  0.139291  0.103645    0.0     0.0      0.0  0.000000   \n",
       "1  0.000000  0.000000  0.000000    0.0     0.0      0.0  0.000000   \n",
       "2  0.107800  0.000000  0.000000    0.0     0.0      0.0  0.000000   \n",
       "3  0.085847  0.121194  0.000000    0.0     0.0      0.0  0.331252   \n",
       "4  0.213016  0.060145  0.000000    0.0     0.0      0.0  0.000000   \n",
       "\n",
       "       service     2     ask  ...  wrap  write  wrong      year  year ago  \\\n",
       "0          0.0   0.0     0.0  ...   0.0    0.0    0.0  0.000000       0.0   \n",
       "1          0.0   0.0     0.0  ...   0.0    0.0    0.0  0.000000       0.0   \n",
       "2          0.0   0.0     0.0  ...   0.0    0.0    0.0  0.086127       0.0   \n",
       "3          0.0   0.0     0.0  ...   0.0    0.0    0.0  0.000000       0.0   \n",
       "4          0.0   0.0     0.0  ...   0.0    0.0    0.0  0.000000       0.0   \n",
       "\n",
       "   yelp  yes     young  yum  yummy  \n",
       "0   0.0  0.0  0.000000  0.0    0.0  \n",
       "1   0.0  0.0  0.000000  0.0    0.0  \n",
       "2   0.0  0.0  0.132355  0.0    0.0  \n",
       "3   0.0  0.0  0.000000  0.0    0.0  \n",
       "4   0.0  0.0  0.000000  0.0    0.0  \n",
       "\n",
       "[5 rows x 1000 columns]"
      ]
     },
     "execution_count": 12,
     "metadata": {},
     "output_type": "execute_result"
    }
   ],
   "source": [
    "dtm.head()"
   ]
  },
  {
   "cell_type": "code",
   "execution_count": 13,
   "metadata": {},
   "outputs": [
    {
     "data": {
      "text/plain": [
       "NearestNeighbors(algorithm='kd_tree', leaf_size=30, metric='minkowski',\n",
       "                 metric_params=None, n_jobs=None, n_neighbors=10, p=2,\n",
       "                 radius=1.0)"
      ]
     },
     "execution_count": 13,
     "metadata": {},
     "output_type": "execute_result"
    }
   ],
   "source": [
    "from sklearn.neighbors import NearestNeighbors\n",
    "\n",
    "knn = NearestNeighbors(n_neighbors=10, algorithm='kd_tree')\n",
    "\n",
    "knn.fit(dtm)"
   ]
  },
  {
   "cell_type": "code",
   "execution_count": 14,
   "metadata": {},
   "outputs": [],
   "source": [
    "fake_review = ['''\n",
    "                This place is awesome! I would bring my whole family. music, fun and great food!\n",
    "                ''']"
   ]
  },
  {
   "cell_type": "code",
   "execution_count": 15,
   "metadata": {},
   "outputs": [],
   "source": [
    "new = tfidf.transform(fake_review)"
   ]
  },
  {
   "cell_type": "code",
   "execution_count": 16,
   "metadata": {},
   "outputs": [
    {
     "data": {
      "text/plain": [
       "(array([[0.95079492, 1.        , 1.        , 1.05641979, 1.07585667,\n",
       "         1.07935928, 1.0875231 , 1.1206975 , 1.12283548, 1.1304681 ]]),\n",
       " array([[ 426, 6204, 6311, 1714, 7594, 9943, 9287, 7825, 5634, 3884]]))"
      ]
     },
     "execution_count": 16,
     "metadata": {},
     "output_type": "execute_result"
    }
   ],
   "source": [
    "knn.kneighbors(new.todense())"
   ]
  },
  {
   "cell_type": "code",
   "execution_count": 22,
   "metadata": {},
   "outputs": [],
   "source": [
    "distance , label = knn.kneighbors(new.todense())"
   ]
  },
  {
   "cell_type": "code",
   "execution_count": 26,
   "metadata": {},
   "outputs": [
    {
     "data": {
      "text/plain": [
       "array([ 426, 6204, 6311, 1714, 7594, 9943, 9287, 7825, 5634, 3884])"
      ]
     },
     "execution_count": 26,
     "metadata": {},
     "output_type": "execute_result"
    }
   ],
   "source": [
    "# list of recommendation id's\n",
    "label[0]"
   ]
  },
  {
   "cell_type": "code",
   "execution_count": 38,
   "metadata": {},
   "outputs": [
    {
     "data": {
      "text/plain": [
       "numpy.ndarray"
      ]
     },
     "execution_count": 38,
     "metadata": {},
     "output_type": "execute_result"
    }
   ],
   "source": [
    "type(label[0])"
   ]
  },
  {
   "cell_type": "code",
   "execution_count": 39,
   "metadata": {},
   "outputs": [
    {
     "data": {
      "text/plain": [
       "[426, 6204, 6311, 1714, 7594, 9943, 9287, 7825, 5634, 3884]"
      ]
     },
     "execution_count": 39,
     "metadata": {},
     "output_type": "execute_result"
    }
   ],
   "source": [
    "list(label[0])"
   ]
  },
  {
   "cell_type": "code",
   "execution_count": 41,
   "metadata": {},
   "outputs": [],
   "source": [
    "recommendations = list(label[0])"
   ]
  },
  {
   "cell_type": "code",
   "execution_count": 42,
   "metadata": {},
   "outputs": [
    {
     "data": {
      "text/plain": [
       "[426, 6204, 6311, 1714, 7594, 9943, 9287, 7825, 5634, 3884]"
      ]
     },
     "execution_count": 42,
     "metadata": {},
     "output_type": "execute_result"
    }
   ],
   "source": [
    "# first id in list\n",
    "recommendations"
   ]
  },
  {
   "cell_type": "code",
   "execution_count": 77,
   "metadata": {},
   "outputs": [
    {
     "name": "stdout",
     "output_type": "stream",
     "text": [
      "================================================================================\n",
      "\n",
      "1. I love the music here and the Kpop videos are awesome! The food here is awesome and the waiter has great personality. \n",
      "\n",
      "================================================================================\n",
      "\n",
      "2. 旅行でラスベガスに来ましたがネイルがはげてるのが気になり、探したお店でした。\n",
      "質問にも丁寧に答えてくれましたし、日本人の方も日本語が話せる方も居て、とても綺麗で居心地のいいお店でした。 \n",
      "ネイルはちはるさんと言う綺麗な方が丁寧にしてくれとても気に入りました。\n",
      "予定になかったまつ毛エクステもお願いし、日本ではまだあまりないブラウンカラーのエクステをしてもらい、とても気に入りました。\n",
      "また是非マッサージなどで伺いたいと思います。 \n",
      "\n",
      "================================================================================\n",
      "\n",
      "3. 天氣很熱吃不下東西，今天我點了一個韓國冷面湯、餐後點了甜點，冰沙系列不會太甜膩，覺得店家很用心製作，包含擺盤精緻、佐料衛生，夏日想開胃，這是一個不錯的選擇，服務人員也很敬業，以後會常常來 \n",
      "\n",
      "================================================================================\n",
      "\n",
      "4. This place is great. Very authentic German food with very authentic recipes. The beer is awesome and the entertainment is great music is wonderful and the servers were all fun. \n",
      "\n",
      "================================================================================\n",
      "\n",
      "5. Great place to hang out SteveO is awesome and makes you feel very welcomed....been here before and will be back more often. Great music and a great atmosphere. Food was great and the drinks were even better. Good times! \n",
      "\n",
      "================================================================================\n",
      "\n",
      "6. Fun indoor zoo and the insectarium was awesome.. don't do the botanical garden in August everything is dead \n",
      "\n",
      "================================================================================\n",
      "\n",
      "7. This is an awesome place to take family and friends especially children for a Saturday or Sunday Adventure then I'm sure your whole family will enjoy. I've been here with family and friends several times and add an awesome day. \n",
      "\n",
      "================================================================================\n",
      "\n",
      "8. Live music is impeccable and it's just a great time. If you want a good seat, arrive early, like 15-30mins before open. All in all a great place to have some fun. \n",
      "\n",
      "================================================================================\n",
      "\n",
      "9. This place looks AMAZING. The art on the walls is bright and just makes you feel happy. Bring your appetite!!! Then order the fried pickles!!! They're amazing! The music is relaxed and the atmosphere rocks. \n",
      "\n",
      "This restaurant is different from the rest. Check em out! You really can't beat good food, a happy atmosphere, awesome decor, and did I say: DELICIOUS food?!?  \n",
      "\n",
      "I'll be back soon!! This place is very family friendly so bring all of the kids! There's a lot of seating so bring a big group of friends. \n",
      "\n",
      "================================================================================\n",
      "\n",
      "10. THE HAPPY PLACE as what Janet calls it. We love this place. Been here 3 times and won't go anywhere else. Janet is Awesome and so much fun. \n",
      "\n"
     ]
    },
    {
     "name": "stderr",
     "output_type": "stream",
     "text": [
      "/home/jepoy/miniconda3/envs/ds-unit-4/lib/python3.7/site-packages/ipykernel/ipkernel.py:287: DeprecationWarning: `should_run_async` will not call `transform_cell` automatically in the future. Please pass the result to `transformed_cell` argument and any exception that happen during thetransform in `preprocessing_exc_tuple` in IPython 7.17 and above.\n",
      "  and should_run_async(code)\n"
     ]
    }
   ],
   "source": [
    "for index, recommendation in enumerate(recommendations):\n",
    "    print(\"=\"*80+\"\\n\")\n",
    "    print(f'{index +1}. {yelp.iloc[recommendation][\"text\"]} \\n')"
   ]
  },
  {
   "cell_type": "markdown",
   "metadata": {},
   "source": [
    "## The nearest neighbors reviews\n",
    "\n",
    "The 10 nearest neighbor reviews have similar wording to the \"fake review\". \n",
    "\n",
    "They all contain the family environment, fun, music and decor.\n",
    "\n",
    "The higher the max_features is in the TF-IDF, the more similiar the neighbors.\n",
    "\n",
    "for the sprint challenge i had to reduce the max features from 8000 down to 4000 and finally down to 1000.\n",
    "\n",
    "in order to run smoothly and quick enough around 10 mins for most fit and transforms.\n",
    "\n",
    "NOTE:\n",
    "\n",
    "I will read more medium articles in order to make my writing and analysis skills more fuller."
   ]
  },
  {
   "cell_type": "code",
   "execution_count": 18,
   "metadata": {},
   "outputs": [
    {
     "data": {
      "text/plain": [
       "'I love the music here and the Kpop videos are awesome! The food here is awesome and the waiter has great personality.'"
      ]
     },
     "execution_count": 18,
     "metadata": {},
     "output_type": "execute_result"
    }
   ],
   "source": [
    "# similar review #1 this is the class version Above is a clear fast version\n",
    "yelp.iloc[426]['text']"
   ]
  },
  {
   "cell_type": "code",
   "execution_count": 19,
   "metadata": {},
   "outputs": [
    {
     "data": {
      "text/plain": [
       "'旅行でラスベガスに来ましたがネイルがはげてるのが気になり、探したお店でした。\\n質問にも丁寧に答えてくれましたし、日本人の方も日本語が話せる方も居て、とても綺麗で居心地のいいお店でした。 \\nネイルはちはるさんと言う綺麗な方が丁寧にしてくれとても気に入りました。\\n予定になかったまつ毛エクステもお願いし、日本ではまだあまりないブラウンカラーのエクステをしてもらい、とても気に入りました。\\nまた是非マッサージなどで伺いたいと思います。'"
      ]
     },
     "execution_count": 19,
     "metadata": {},
     "output_type": "execute_result"
    }
   ],
   "source": [
    "# similar review #2 this is the class version Above is a clear fast version\n",
    "yelp.iloc[6204]['text']"
   ]
  },
  {
   "cell_type": "markdown",
   "metadata": {},
   "source": [
    "## Part 3: Classification\n",
    "<a id=\"#p3\"></a>\n",
    "Your goal in this section will be to predict `stars` from the review dataset. \n",
    "\n",
    "1. Create a piepline object with a sklearn `CountVectorizer` or `TfidfVector` and any sklearn classifier. Use that pipeline to estimate a model to predict `stars`. Use the Pipeline to predict a star rating for your fake review from Part 2. \n",
    "2. Tune the entire pipeline with a GridSearch"
   ]
  },
  {
   "cell_type": "code",
   "execution_count": 50,
   "metadata": {},
   "outputs": [],
   "source": [
    "from sklearn.ensemble import RandomForestClassifier\n",
    "from sklearn.pipeline import Pipeline\n",
    "\n",
    "clf = RandomForestClassifier()\n",
    "\n",
    "pipe = Pipeline([('tfidf', tfidf), ('clf', clf)])"
   ]
  },
  {
   "cell_type": "code",
   "execution_count": 51,
   "metadata": {},
   "outputs": [
    {
     "data": {
      "text/plain": [
       "dtype('int64')"
      ]
     },
     "execution_count": 51,
     "metadata": {},
     "output_type": "execute_result"
    }
   ],
   "source": [
    "yelp['stars'].dtype"
   ]
  },
  {
   "cell_type": "code",
   "execution_count": 52,
   "metadata": {},
   "outputs": [
    {
     "data": {
      "text/plain": [
       "<AxesSubplot:>"
      ]
     },
     "execution_count": 52,
     "metadata": {},
     "output_type": "execute_result"
    },
    {
     "data": {
      "image/png": "[encoded data removed]",
      "text/plain": [
       "<Figure size 432x288 with 1 Axes>"
      ]
     },
     "metadata": {
      "needs_background": "light"
     },
     "output_type": "display_data"
    }
   ],
   "source": [
    "yelp['stars'].value_counts(normalize=True).sort_index().plot(kind='bar')"
   ]
  },
  {
   "cell_type": "code",
   "execution_count": 53,
   "metadata": {},
   "outputs": [
    {
     "data": {
      "text/plain": [
       "<AxesSubplot:xlabel='stars', ylabel='count'>"
      ]
     },
     "execution_count": 53,
     "metadata": {},
     "output_type": "execute_result"
    },
    {
     "data": {
      "image/png": "[encoded data removed]",
      "text/plain": [
       "<Figure size 432x288 with 1 Axes>"
      ]
     },
     "metadata": {
      "needs_background": "light"
     },
     "output_type": "display_data"
    }
   ],
   "source": [
    "# make it look nicer\n",
    "import seaborn as sns\n",
    "\n",
    "sns.countplot(yelp['stars'])"
   ]
  },
  {
   "cell_type": "code",
   "execution_count": 54,
   "metadata": {},
   "outputs": [
    {
     "name": "stdout",
     "output_type": "stream",
     "text": [
      "Fitting 2 folds for each of 2 candidates, totalling 4 fits\n"
     ]
    },
    {
     "name": "stderr",
     "output_type": "stream",
     "text": [
      "[Parallel(n_jobs=1)]: Using backend SequentialBackend with 1 concurrent workers.\n",
      "[Parallel(n_jobs=1)]: Done   4 out of   4 | elapsed:  8.3min finished\n"
     ]
    },
    {
     "data": {
      "text/plain": [
       "GridSearchCV(cv=2, error_score=nan,\n",
       "             estimator=Pipeline(memory=None,\n",
       "                                steps=[('tfidf',\n",
       "                                        TfidfVectorizer(analyzer='word',\n",
       "                                                        binary=False,\n",
       "                                                        decode_error='strict',\n",
       "                                                        dtype=<class 'numpy.float64'>,\n",
       "                                                        encoding='utf-8',\n",
       "                                                        input='content',\n",
       "                                                        lowercase=True,\n",
       "                                                        max_df=1.0,\n",
       "                                                        max_features=1000,\n",
       "                                                        min_df=1,\n",
       "                                                        ngram_range=(1, 2),\n",
       "                                                        norm='l2',\n",
       "                                                        preprocessor=None,\n",
       "                                                        smooth_idf=True,\n",
       "                                                        stop_words={' ', \"'d\",\n",
       "                                                                    \"'ll\"...\n",
       "                                                               min_impurity_split=None,\n",
       "                                                               min_samples_leaf=1,\n",
       "                                                               min_samples_split=2,\n",
       "                                                               min_weight_fraction_leaf=0.0,\n",
       "                                                               n_estimators=100,\n",
       "                                                               n_jobs=None,\n",
       "                                                               oob_score=False,\n",
       "                                                               random_state=None,\n",
       "                                                               verbose=0,\n",
       "                                                               warm_start=False))],\n",
       "                                verbose=False),\n",
       "             iid='deprecated', n_jobs=1,\n",
       "             param_grid={'tfidf__max_features': (50, 100)},\n",
       "             pre_dispatch='2*n_jobs', refit=True, return_train_score=False,\n",
       "             scoring=None, verbose=1)"
      ]
     },
     "execution_count": 54,
     "metadata": {},
     "output_type": "execute_result"
    }
   ],
   "source": [
    "from sklearn.model_selection import GridSearchCV\n",
    "\n",
    "parameters = {\n",
    "    'tfidf__max_features' : (50, 100) \n",
    "}\n",
    "\n",
    "grid_search = GridSearchCV(pipe, parameters , cv=2, n_jobs=1, verbose=1)\n",
    "\n",
    "grid_search.fit(yelp['text'], yelp['stars'])"
   ]
  },
  {
   "cell_type": "code",
   "execution_count": 56,
   "metadata": {},
   "outputs": [
    {
     "name": "stdout",
     "output_type": "stream",
     "text": [
      "[5]\n"
     ]
    }
   ],
   "source": [
    "print(grid_search.predict(fake_review))"
   ]
  },
  {
   "cell_type": "markdown",
   "metadata": {},
   "source": [
    "## Part 4: Topic Modeling\n",
    "\n",
    "Let's find out what those yelp reviews are saying! :D\n",
    "\n",
    "1. Estimate a LDA topic model of the review text\n",
    "    - Keep the `iterations` parameter at or below 5 to reduce run time\n",
    "    - The `workers` parameter should match the number of physical cores on your machine.\n",
    "2. Create 1-2 visualizations of the results\n",
    "    - You can use the most important 3 words of a topic in relevant visualizations. Refer to yesterday's notebook to extract. \n",
    "3. In markdown, write 1-2 paragraphs of analysis on the results of your topic model\n",
    "\n",
    "__*Note*__: You can pass the DataFrame column of text reviews to gensim. You do not have to use a generator."
   ]
  },
  {
   "cell_type": "code",
   "execution_count": 57,
   "metadata": {
    "collapsed": false,
    "inputHidden": false,
    "jupyter": {
     "outputs_hidden": false
    },
    "outputHidden": false
   },
   "outputs": [],
   "source": [
    "import gensim\n",
    "from gensim import corpora\n",
    "from gensim.models import LdaMulticore\n",
    "from gensim.corpora import Dictionary\n"
   ]
  },
  {
   "cell_type": "markdown",
   "metadata": {},
   "source": [
    "Learn the vocubalary of the yelp data:"
   ]
  },
  {
   "cell_type": "code",
   "execution_count": 58,
   "metadata": {},
   "outputs": [],
   "source": [
    "id2word = corpora.Dictionary(yelp['tokens'])"
   ]
  },
  {
   "cell_type": "markdown",
   "metadata": {},
   "source": [
    "Create a bag of words representation of the entire corpus"
   ]
  },
  {
   "cell_type": "code",
   "execution_count": 59,
   "metadata": {
    "collapsed": false,
    "inputHidden": false,
    "jupyter": {
     "outputs_hidden": false
    },
    "outputHidden": false
   },
   "outputs": [],
   "source": [
    "corpus = [id2word.doc2bow(doc) for doc in yelp['tokens']]"
   ]
  },
  {
   "cell_type": "markdown",
   "metadata": {},
   "source": [
    "Your LDA model should be ready for estimation: "
   ]
  },
  {
   "cell_type": "code",
   "execution_count": 78,
   "metadata": {
    "collapsed": false,
    "inputHidden": false,
    "jupyter": {
     "outputs_hidden": false
    },
    "outputHidden": false
   },
   "outputs": [
    {
     "name": "stderr",
     "output_type": "stream",
     "text": [
      "/home/jepoy/miniconda3/envs/ds-unit-4/lib/python3.7/site-packages/ipykernel/ipkernel.py:287: DeprecationWarning: `should_run_async` will not call `transform_cell` automatically in the future. Please pass the result to `transformed_cell` argument and any exception that happen during thetransform in `preprocessing_exc_tuple` in IPython 7.17 and above.\n",
      "  and should_run_async(code)\n"
     ]
    }
   ],
   "source": [
    "lda = LdaMulticore(corpus=corpus,\n",
    "                   id2word=id2word,\n",
    "                   iterations=5,\n",
    "                   workers=6,\n",
    "                   num_topics = 10 # You can change this parameter\n",
    "                  )"
   ]
  },
  {
   "cell_type": "code",
   "execution_count": 79,
   "metadata": {},
   "outputs": [
    {
     "name": "stdout",
     "output_type": "stream",
     "text": [
      "------ Topic 0 ------\n",
      "   the    \n",
      "\n",
      "------ Topic 1 ------\n",
      "   the good\n",
      "\n",
      "------ Topic 2 ------\n",
      "   the    \n",
      "\n",
      "------ Topic 3 ------\n",
      "   the    \n",
      "\n",
      "------ Topic 4 ------\n",
      "   the    \n",
      "\n",
      "------ Topic 5 ------\n",
      "   the    \n",
      "\n",
      "------ Topic 6 ------\n",
      "   the good\n",
      "\n",
      "------ Topic 7 ------\n",
      "   the    \n",
      "\n",
      "------ Topic 8 ------\n",
      "   the    \n",
      "\n",
      "------ Topic 9 ------\n",
      "   the good\n",
      "\n"
     ]
    },
    {
     "name": "stderr",
     "output_type": "stream",
     "text": [
      "/home/jepoy/miniconda3/envs/ds-unit-4/lib/python3.7/site-packages/ipykernel/ipkernel.py:287: DeprecationWarning: `should_run_async` will not call `transform_cell` automatically in the future. Please pass the result to `transformed_cell` argument and any exception that happen during thetransform in `preprocessing_exc_tuple` in IPython 7.17 and above.\n",
      "  and should_run_async(code)\n"
     ]
    }
   ],
   "source": [
    "import re\n",
    "\n",
    "words = [re.findall(r'\"([^\"]*)\"',t[1]) for t in lda.print_topics()]\n",
    "\n",
    "topics = [' '.join(t[0:3]) for t in words]\n",
    "\n",
    "for id, t in enumerate(topics): \n",
    "    print(f\"------ Topic {id} ------\")\n",
    "    print(t, end=\"\\n\\n\")"
   ]
  },
  {
   "cell_type": "markdown",
   "metadata": {},
   "source": [
    "In the intertopic distance map, it looks like topics 3 and 4 of my top five topics overlapped a little bit. This was probably due to poor modeling, or a lack of variation in the actual texts of the reviews. Many of the top 30 most relevant terms for each topic are very similar. I also noticed a blank value for the most common term. For all the topics, the first two actual words were interchanged in commonality: good and not. This is actually quite interesting, since good carries a positive connotation and not carries a negative one. It would be interesting to see the full set of results to figure out how frequently \"good,\" \"not,\" and \"not good\" correlate.\n",
    "\n",
    "At this point, in order to improve the results of the lda model, it would be necessary to dive deeper into the most relevant terms being extracted, and determine which of those are actually salient in determining the rating. The parameters can also use a good hypertuning (jk it's clearly tuning hyperparameters, if any professional ends up reading this for any reason whatsoever)."
   ]
  },
  {
   "cell_type": "markdown",
   "metadata": {},
   "source": [
    "Create 1-2 visualizations of the results"
   ]
  },
  {
   "cell_type": "code",
   "execution_count": 61,
   "metadata": {
    "collapsed": false,
    "inputHidden": false,
    "jupyter": {
     "outputs_hidden": false
    },
    "outputHidden": false
   },
   "outputs": [],
   "source": [
    "import pyLDAvis.gensim\n",
    "\n",
    "pyLDAvis.enable_notebook()"
   ]
  },
  {
   "cell_type": "code",
   "execution_count": 62,
   "metadata": {},
   "outputs": [
    {
     "name": "stderr",
     "output_type": "stream",
     "text": [
      "/home/jepoy/miniconda3/envs/ds-unit-4/lib/python3.7/site-packages/ipykernel/ipkernel.py:287: DeprecationWarning: `should_run_async` will not call `transform_cell` automatically in the future. Please pass the result to `transformed_cell` argument and any exception that happen during thetransform in `preprocessing_exc_tuple` in IPython 7.17 and above.\n",
      "  and should_run_async(code)\n"
     ]
    },
    {
     "data": {
      "text/html": [
       "\n",
       "<link rel=\"stylesheet\" type=\"text/css\" href=\"https://cdn.rawgit.com/bmabey/pyLDAvis/files/ldavis.v1.0.0.css\">\n",
       "\n",
       "\n",
       "<div id=\"ldavis_el1021399854705910488726507087\"></div>\n",
       "<script type=\"text/javascript\">\n",
       "\n",
       "var ldavis_el1021399854705910488726507087_data = {\"mdsDat\": {\"x\": [-0.005714626512109366, -0.0037331418840750633, -0.0014591436027301889, 0.0014629901173476153, 0.002787737546472768, -0.0012265335807477595, 0.0017987896604677223, 0.0004679894717443778, 0.0029853999275098755, 0.002630538856120033], \"y\": [-0.0019739045571737423, -0.0006230334252178869, 0.002121686000106196, 0.0016469620193454908, -0.0023580045496294903, 0.0025759765767165268, -0.00193382418050539, 8.571640912248074e-05, -0.002688665085164081, 0.0031470907923999004], \"topics\": [1, 2, 3, 4, 5, 6, 7, 8, 9, 10], \"cluster\": [1, 1, 1, 1, 1, 1, 1, 1, 1, 1], \"Freq\": [11.172219824524548, 10.581856831257952, 10.503296547688906, 9.885360098888976, 9.848549901000675, 9.829308383041178, 9.815843711437665, 9.71072658376904, 9.517833251954395, 9.135004866436661]}, \"tinfo\": {\"Term\": [\"  \", \"the\", \"price\", \"service\", \"get\", \"   \", \"chicken\", \"good\", \"time\", \"order\", \"friendly\", \"work\", \"staff\", \"love\", \"so\", \"delicious\", \"day\", \"go\", \"and\", \"try\", \"didn\", \"come\", \"ask\", \"-PRON-\", \"this\", \"2\", \"bar\", \"fresh\", \"wait\", \"excellent\", \"bartende\", \"shoooz\", \"luxuriously\", \"coffeeshop\", \"mixologist\", \"Corbin\", \"Matthews\", \"2004\", \"Shatangi\", \"psuedo\", \"tix\", \"vanya\", \"Fatty\", \"Performers\", \"Wrestlemania\", \"Yuk\", \"Vanya\", \"luv\", \"suitemate\", \"Hardware\", \"jellyfish\", \"yuk\", \"booster\", \"relect\", \"donair\", \"Werks\", \"reincarnate\", \"coachbrianherbert\", \"fridendly\", \"Hutson\", \"soon\", \"  \", \"recomend\", \"experience\", \"corn\", \"the\", \"selection\", \"buy\", \"box\", \"like\", \"amazing\", \"sure\", \"day\", \"coffee\", \"sandwich\", \"area\", \"professional\", \"choose\", \"room\", \"house\", \"service\", \"shop\", \"good\", \"10\", \"   \", \"time\", \"walk\", \"didn\", \"live\", \"review\", \"great\", \"3\", \"get\", \"come\", \"try\", \"lot\", \"wait\", \"-PRON-\", \"menu\", \"eat\", \"little\", \"love\", \"go\", \"order\", \"tell\", \"think\", \"want\", \"    \", \"people\", \"this\", \"nice\", \"look\", \"take\", \"Cafeteria\", \"sevice\", \"Grandma\", \"astors\", \"giving\", \"vadai\", \"dahl\", \"stagette\", \"whooper\", \"Donny\", \"kosher\", \"packer\", \"stab\", \"Krung\", \"Tasha\", \"Corners\", \"Suzanne\", \"vagrant\", \"shipper\", \"diligent\", \"functionality\", \"greentea\", \"Ev36\", \"Kang\", \"Pavers\", \"halo\", \"intelligent\", \"Natalie\", \"Damian\", \"COLORADO\", \"easy\", \"yeah\", \"sooo\", \"smoke\", \"Thai\", \"  \", \"spend\", \"the\", \"-PRON-\", \"wait\", \"price\", \"just\", \"hear\", \"have\", \"mexican\", \"Starbucks\", \"recommend\", \"oh\", \"star\", \"way\", \"awesome\", \"5\", \"run\", \"keep\", \"look\", \"good\", \"second\", \"table\", \"family\", \"location\", \"order\", \"menu\", \"sweet\", \"   \", \"time\", \"enjoy\", \"come\", \"go\", \"    \", \"want\", \"3\", \"know\", \"eat\", \"great\", \"nice\", \"people\", \"like\", \"little\", \"try\", \"service\", \"work\", \"get\", \"love\", \"ask\", \"this\", \"tell\", \"find\", \"PNW\", \"agian\", \"unite\", \"shore\", \"Chen\", \"Bastard\", \"musubi\", \"Bouncer\", \"bombbbb\", \"Kitsch\", \"Thompson\", \"Mexicanos\", \"taist\", \"Erika\", \"nack\", \"biriyani\", \"carpaccio\", \"Peggy\", \"mever\", \"squirmy\", \"Edward\", \"Ricketts\", \"woot\", \"greentea\", \"GOAT\", \"slush\", \"h2o\", \"Ajay\", \"Smiles\", \"abiance\", \"chicken\", \"frog\", \"une\", \"delicious\", \"make\", \"reservation\", \"give\", \"spot\", \"didn\", \"lunch\", \"fresh\", \"after\", \"have\", \"don\", \"staff\", \"find\", \"  \", \"walk\", \"the\", \"good\", \"try\", \"definitely\", \"go\", \"week\", \"do\", \"party\", \"rice\", \"great\", \"service\", \"come\", \"this\", \"sauce\", \"pretty\", \"wait\", \"3\", \"time\", \"menu\", \"take\", \"like\", \"   \", \"little\", \"want\", \"    \", \"get\", \"order\", \"ask\", \"-PRON-\", \"tell\", \"look\", \"love\", \"YC\", \"Barros\", \"Unimpressive\", \"swinge\", \"cruffin\", \"eleven\", \"libretto\", \"nipple\", \"Delivary\", \"ken\", \"slay\", \"Ev36\", \"Dimsum\", \"calabash\", \"Randi\", \"frys\", \"Laksa\", \"operative\", \"Chad\", \"Shangri\", \"Bregman\", \"pinoy\", \"Cure\", \"hilarous\", \"2hours\", \"400sqft\", \"vein\", \"Murphy\", \"steroid\", \"Stacy\", \"service\", \"korean\", \"creative\", \"treat\", \"Pittsburgh\", \"cocktail\", \"   \", \"2\", \"order\", \"quality\", \"    \", \"enjoy\", \"time\", \"cook\", \"flavor\", \"nail\", \"line\", \"work\", \"waitress\", \"definitely\", \"get\", \"price\", \"love\", \"the\", \"want\", \"well\", \"great\", \"take\", \"  \", \"burger\", \"experience\", \"good\", \"like\", \"meal\", \"look\", \"think\", \"drink\", \"go\", \"come\", \"-PRON-\", \"find\", \"wait\", \"try\", \"don\", \"this\", \"Sbarro\", \"Breakfasts\", \"Seven\", \"nit\", \"imposter\", \"diabetes\", \"Jina\", \"guacamolie\", \"Talia\", \"romper\", \"cello\", \"Phillips\", \"AM\", \"beause\", \"Henri\", \"Mila\", \"LGBTQ\", \"menudazo\", \"Poms\", \"gosh\", \"HAIL\", \"bathing\", \"meze\", \"Lesli\", \"Cleanness\", \"Check\", \"NCA\", \"Building\", \"bouldercity\", \"basa\", \"res\", \"Tower\", \"probably\", \"maybe\", \"membership\", \"day\", \"helpful\", \"love\", \"late\", \"margarita\", \"come\", \"free\", \"suck\", \"-PRON-\", \"get\", \"people\", \"time\", \"far\", \"good\", \"this\", \"expect\", \"don\", \"30\", \"service\", \"price\", \"server\", \"when\", \"new\", \"   \", \"definitely\", \"  \", \"ask\", \"nice\", \"hour\", \"say\", \"great\", \"2\", \"like\", \"way\", \"order\", \"wait\", \"the\", \"take\", \"customer\", \"look\", \"go\", \"experience\", \"try\", \"want\", \"staff\", \"    \", \"Javier\", \"squishie\", \"butterfly\", \"unexplainable\", \"walkthrough\", \"Fatty\", \"Chelsy\", \"58pm\", \"croqueta\", \"Pizio\", \"minestrone\", \"Ppl\", \"yag\", \"chevy\", \"DeCollibus\", \"Brookline\", \"fetta\", \"LEGO\", \"retoaste\", \"Redemption\", \"foggy\", \"Lab\", \"jackpot\", \"incre\", \"nb\", \"Movers\", \"Caliente\", \"brewski\", \"aeropresse\", \"palmas\", \"Bakery\", \"resize\", \"greasy\", \"pedicure\", \"plumbing\", \"fantastic\", \"5\", \"the\", \"break\", \"very\", \"station\", \"better\", \"brew\", \"end\", \"go\", \"charge\", \"taste\", \"like\", \"  \", \"fix\", \"literally\", \"   \", \"4\", \"    \", \"buy\", \"not\", \"point\", \"nice\", \"lady\", \"medium\", \"chance\", \"-PRON-\", \"bring\", \"tell\", \"service\", \"beer\", \"call\", \"leave\", \"cheese\", \"meat\", \"try\", \"order\", \"this\", \"love\", \"day\", \"know\", \"drink\", \"great\", \"think\", \"say\", \"come\", \"look\", \"eat\", \"good\", \"don\", \"get\", \"time\", \"find\", \"price\", \"Ppl\", \"Luis\", \"Ranchero\", \"Serval\", \"Marci\", \"iphone\", \"Talaya\", \"roja\", \"Siela\", \"Neil\", \"medallion\", \"241\", \"bai\", \"golfing\", \"Tihare\", \"ARIZONA\", \"Aryon\", \"5c\", \"kheer\", \"chintzy\", \"swedish\", \"sauga\", \"Impressive\", \"buzzing\", \"Brandi\", \"accueillant\", \"woop\", \"ANgelica\", \"stinkin\", \"Discount\", \"reassure\", \"excellent\", \"friendly\", \"check\", \"bar\", \"miss\", \"fast\", \"morning\", \"ask\", \"reasonable\", \"staff\", \"try\", \"sure\", \"coffee\", \"favorite\", \"2\", \"get\", \"fresh\", \"friend\", \"great\", \"want\", \"pay\", \"didn\", \"stay\", \"think\", \"star\", \"seat\", \"actually\", \"  \", \"this\", \"go\", \"time\", \"amazing\", \"good\", \"come\", \"the\", \"   \", \"like\", \"work\", \"price\", \"order\", \"-PRON-\", \"service\", \"need\", \"eat\", \"recommend\", \"    \", \"look\", \"love\", \"nice\", \"Liquor\", \"Leches\", \"slut\", \"Colleen\", \"Erik\", \"HELP\", \"exausting\", \"Paperjoy\", \"beleive\", \"Julio\", \"Nostra\", \"cassada\", \"Conrad\", \"Shay\", \"enviro\", \"frijoles\", \"cheez\", \"increible\", \"ripple\", \"Franktuary\", \"tikki\", \"Efrain\", \"Victor\", \"indicator\", \"Kalamata\", \"Doomies\", \"Poms\", \"aloo\", \"sonoran\", \"Carnita\", \"eastern\", \"bagel\", \"shtick\", \"decent\", \"isn\", \"iced\", \"crap\", \"location\", \"mushroom\", \"value\", \"hot\", \"bean\", \"kimchi\", \"boot\", \"dance\", \"cute\", \"green\", \"order\", \"way\", \"say\", \"dinner\", \"eat\", \"time\", \"employee\", \"the\", \"love\", \"come\", \"try\", \"  \", \"lot\", \"salad\", \"long\", \"good\", \"care\", \"look\", \"   \", \"great\", \"wait\", \"want\", \"ask\", \"go\", \"nice\", \"thing\", \"need\", \"like\", \"-PRON-\", \"this\", \"know\", \"not\", \"little\", \"find\", \"    \", \"service\", \"get\", \"don\", \"                                                                                                                                                                                                                      \", \"                                                                                             \", \"everrrrr\", \"Delta\", \"Saj\", \"Linda\", \"GIANT\", \"irrational\", \"nyf\", \"Knob\", \"Edgars\", \"tha\", \"Stu\", \"Umiya\", \"Gr\", \"muster\", \"Lebanese\", \"cantina\", \"swordfish\", \"bologna\", \"Redemption\", \"Julep\", \"brewski\", \"roomtastic\", \"YC\", \"HAIL\", \"libretto\", \"verdi\", \"                                                                                                                                                              \", \"Latin\", \"Creek\", \"and\", \"Yelp\", \"work\", \"appreciate\", \"menu\", \"staff\", \"hotel\", \"i\", \"so\", \"not\", \"expect\", \"small\", \"yum\", \"good\", \"boba\", \"friendly\", \"visit\", \"price\", \"fast\", \"   \", \"  \", \"beautiful\", \"come\", \"time\", \"service\", \"take\", \"review\", \"look\", \"find\", \"say\", \"great\", \"like\", \"think\", \"know\", \"this\", \"the\", \"love\", \"try\", \"order\", \"-PRON-\", \"go\", \"get\", \"ask\", \"nice\", \"don\", \"wait\", \"yuk\", \"Yuk\", \"Convent\", \"Luci\", \"Ajay\", \"Bao\", \"Melinda\", \"swamp\", \"Aknowledgement\", \"Pruitt\", \"suxs\", \"Janes\", \"inconvience\", \"fluffiest\", \"aga\", \"monsieur\", \"Ruggeri\", \"fetta\", \"greektown\", \"fratta\", \"Mandy\", \"Environmental\", \"Towner\", \"Ronnie\", \"Pass\", \"Enjoy\", \"insectarium\", \"Rocknoodles\", \"lyonnais\", \"Yik\", \"pok\", \"curry\", \"help\", \"Roll\", \"et\", \"so\", \"ice\", \"fun\", \"get\", \"expect\", \"need\", \"right\", \"delicious\", \"year\", \"know\", \"Vegas\", \"   \", \"leave\", \"big\", \"at\", \"well\", \"  \", \"and\", \"order\", \"didn\", \"thing\", \"good\", \"great\", \"hour\", \"new\", \"pretty\", \"chicken\", \"go\", \"price\", \"this\", \"the\", \"drink\", \"come\", \"try\", \"like\", \"service\", \"little\", \"nice\", \"don\", \"time\", \"-PRON-\", \"find\", \"tell\", \"love\", \"look\", \"want\"], \"Freq\": [25468.0, 9170.0, 1729.0, 3461.0, 2833.0, 6883.0, 1162.0, 6129.0, 4112.0, 3341.0, 1342.0, 1478.0, 1472.0, 2186.0, 981.0, 1136.0, 1456.0, 3062.0, 823.0, 2476.0, 1449.0, 3763.0, 1507.0, 2869.0, 2172.0, 1217.0, 941.0, 922.0, 1651.0, 658.0, 0.6317584711898195, 0.5731269096368179, 0.5666734866858074, 0.8355532398469389, 0.5559728591706635, 0.5295667187975247, 0.5122275031659398, 1.423559387064674, 0.7059954239058749, 0.46922897618748716, 0.4575646559406001, 0.45712910086608616, 0.455681191517279, 0.4517441186151717, 0.44979437283019663, 1.8024132554424117, 0.44671198966223097, 0.4455279777985788, 0.4280920387840028, 0.8498159265454307, 1.2608530084974625, 8.128948606987523, 0.4126203526339884, 0.40907951148239785, 1.0023553553599243, 0.8013000830507019, 0.4005800191648272, 0.3996084731911818, 0.3949491304920245, 0.3956233098913902, 44.374165483629035, 4035.444667665679, 1.1513902392790367, 217.97635415544218, 22.30639444732449, 1277.1350418365423, 84.78684093677212, 78.4390510001982, 29.423727613016986, 522.1541242975271, 190.6156456609331, 141.23872634709133, 212.7674691171561, 92.81880823174733, 84.70730101820786, 120.54692096774227, 54.04123005949808, 55.0203971617722, 152.32635705401336, 64.5421771051387, 438.04007556347113, 81.58728191663592, 719.8204135081488, 100.67863886105027, 765.0921372603265, 480.92554327348654, 121.28860877639123, 189.0305788426031, 67.16867586824391, 118.40183609961643, 445.2835595517524, 136.99978967603255, 321.5553561995734, 403.14983180002065, 280.8515339397371, 137.86377742012834, 199.63839668783302, 312.00363547160396, 160.4024075942958, 184.4361689178431, 163.5366020545163, 234.22948847815394, 298.54261547405207, 314.01672647670796, 172.03427264842358, 171.08048082715464, 193.23337163890253, 194.84310460477258, 158.0289744397403, 206.9984271266429, 181.05301743677816, 177.69209034472385, 165.30908480596332, 0.5635350039142135, 0.5428670803243171, 0.7422488146556356, 0.4880268683367502, 0.4677732152846307, 0.45800247857509174, 0.4533131557190039, 0.45010726544151586, 0.434724699283997, 0.43079713544824144, 0.4301737280732949, 0.42946300904413415, 0.6280000545125489, 0.4159229135377178, 0.41252311457092955, 0.40818641935920036, 0.5994254493437895, 0.3852999737153082, 0.3849649544621805, 0.9540876608121189, 0.3776022396360748, 0.37512492021295857, 0.3731322507961029, 0.7355458870603991, 0.5496459052249207, 1.0887225561889673, 0.7246104539969379, 1.2667942962836314, 0.36189577104385506, 0.36012265202887556, 54.51369409818335, 15.266429107039981, 5.745952482841201, 21.402578779071625, 21.354208771794273, 3422.6606347479046, 55.316897266768464, 1210.2540733740038, 398.5672535175196, 236.51840204657645, 244.65362031154822, 47.35269992009027, 51.30137305228992, 110.87138263599209, 27.38852730510677, 15.686679681683941, 179.6459785247327, 43.883094474311214, 129.96908434829942, 152.24947783713648, 91.20871674592132, 146.63425005079364, 58.27542032014355, 54.88282743193929, 239.8884804292103, 680.8930460991614, 52.89566178689263, 145.64743404376122, 74.71312823592905, 119.96699361005477, 368.1553670609572, 153.6933282669496, 78.26945070785341, 660.3071366072996, 415.425788459614, 109.65471301911475, 374.538199961714, 314.8429566865626, 205.87139255413837, 201.07895690647405, 127.34150340755961, 177.2646549655421, 171.03683043682895, 366.17079458285997, 185.82000089804606, 150.37514092068204, 319.6156302555254, 151.47942150483178, 231.2013365268377, 278.0420331167289, 160.24597378791535, 228.99398019445067, 193.25998729548144, 160.3152449285356, 184.39559402709557, 157.57260908250333, 158.282963718044, 0.7120385919426271, 0.6985258059513838, 0.6440840858285931, 0.8196495185280317, 0.5054063536387814, 0.5037367130521236, 0.9852513931757053, 0.4889764888840278, 0.48937334733638305, 0.4712691168503623, 0.7050799036934202, 0.4665199706542498, 0.45708305144712036, 0.43629942234091906, 0.6446425657045162, 0.41730283755646885, 2.0351043191117273, 0.40686716775496323, 0.4040342556298058, 0.4045333758765747, 0.6049285306858072, 0.39918604248137346, 0.9911707106953436, 0.3976568407097793, 0.3979947959389938, 0.9893794513298217, 0.3939169692937637, 0.3944323053777144, 0.5821537095328034, 0.38703173556530124, 227.8943911810225, 1.1485654924101059, 6.354261496661652, 187.65471604142516, 108.95243251158038, 39.08187037863135, 155.28283623489708, 78.27938480554768, 213.9823970518774, 113.77178447673917, 136.59388929273092, 74.21378790846289, 111.18072823407036, 218.46509191391348, 202.33693279716624, 209.22171935512517, 2749.4814134723597, 122.31182871072382, 1051.528444173015, 720.8792782275224, 311.73742585764677, 186.2282928232414, 374.5003498669875, 86.26073481386743, 42.97965419447579, 52.30429236760626, 70.56297966929124, 455.4502764387043, 389.2425811139698, 410.9072626170331, 255.87154972696752, 119.319585353679, 134.6330401915956, 198.11393875579438, 133.85866631068106, 419.5930612389875, 157.5061765693677, 177.83650472651783, 369.30449150642283, 599.7749284343663, 161.71854504918906, 199.89159657777913, 202.68394741727252, 272.1276142127022, 294.4329359765963, 172.55758004195627, 240.25686777932586, 169.2108580545569, 182.23271054162547, 184.62611484440487, 0.6736730266901961, 0.5347739667428251, 0.5251857049422552, 0.5124001935510174, 0.7600980685203966, 0.4766509538298831, 0.4699760313950558, 0.46270261326891576, 0.45567292939247606, 0.4556661070570604, 0.4365105558203467, 0.41700004099874904, 0.4198872533466405, 0.4111065539160089, 0.4084989309806132, 0.8032073952953583, 0.4018294916820273, 0.4004548668995062, 0.5975371784547483, 0.3927740037415998, 0.5864694805853463, 0.3889962239428801, 0.3837660447379011, 0.37159113236636143, 0.5552516865830864, 0.5509845937276129, 0.5493353067748405, 0.5463545526280282, 0.7282608569982162, 0.7245930684071417, 485.1979808943002, 14.086450908404872, 8.085924920500899, 51.50092749501175, 9.450703304263653, 30.022897632500964, 853.5680439154444, 166.48810933146092, 424.49103805668045, 91.3447861765876, 240.70700704823372, 118.7647803126543, 493.8583290724752, 73.35847892418347, 101.79472652661514, 48.948611565148504, 83.05425345374567, 186.68863252913215, 60.95463788258334, 175.16305063669736, 331.0796037573671, 207.52086477049534, 255.3411449366412, 914.4709589948435, 210.48334718699013, 136.33387032111438, 433.27804112309286, 175.29145204280115, 2121.275993168687, 81.79660534390554, 163.41729105857183, 578.8963098618008, 368.46450435762347, 105.6360049848046, 200.88734410769217, 160.44792606796648, 155.25719734601117, 281.33610986541976, 326.5707673591317, 259.9849160115177, 154.640262549752, 158.0148973083783, 183.0867693275026, 147.47633087950803, 164.3894417145179, 0.5444580401474253, 0.5259917351486235, 0.4951298418596802, 0.4695776103947756, 0.4567617703765356, 1.1417348802729106, 0.4557973110374375, 0.4538435206264414, 0.44096318528488837, 0.4278249189977204, 0.42672744120101647, 0.6412466400763369, 0.42697882695378936, 0.4240576066930976, 0.42018209731603157, 0.4068044280137555, 0.3998760896522348, 0.40192503709762717, 0.39380413942646214, 0.7740264498816127, 0.3829555074645445, 0.38104884244201137, 0.3799063035099716, 0.36911270151556463, 0.36463143454096475, 0.3634824511113574, 0.3633112439709, 0.7243906778779274, 0.361148913646428, 0.5432181792325876, 1.798774869286621, 4.67604043431869, 73.86514910573372, 61.4151531448778, 9.426137006873025, 215.9639682292546, 59.27636618114457, 296.00128976885486, 44.91524157762774, 14.98345523349848, 474.37585703090605, 77.0851294263798, 19.246796488086932, 348.3243975219471, 343.663788437054, 163.44136460946035, 461.6350853398009, 57.56932188745378, 652.2110971805216, 256.1073235824898, 73.38276557380524, 190.67646866880418, 58.397085377521556, 383.0391014591802, 205.54982771698252, 102.06109552991586, 84.38189890827681, 130.55786465605505, 677.1879590692196, 166.27312839663543, 2060.5760256932726, 173.22046433142313, 191.5592230566161, 118.86920874883785, 167.67886665105158, 395.8957194385601, 140.1336791467461, 345.5103947700683, 131.45087868399457, 301.8289973632366, 174.43692769227948, 627.8967296417709, 159.33596187900935, 130.2067684285733, 180.43973228557243, 235.22024296213905, 145.63370981780673, 186.32071009684785, 159.06073027689317, 147.1276087989474, 152.57944751719768, 0.5614264619211046, 0.7777125900790232, 0.45973274102617967, 0.45118031510330925, 0.45111916174051175, 0.446673005744581, 0.44323876956789093, 0.4304696760697111, 0.41988130043405025, 0.6270509546022112, 0.624472765006144, 0.416743635454756, 0.4131726458870607, 0.4091665730064795, 0.3929240991495067, 0.38825119331822366, 0.39078511330654675, 0.5787229644864096, 0.3835029387050879, 0.3829982601518778, 0.3824362974297367, 0.3812624995839947, 0.37942252202807375, 0.3777674366647686, 0.56462141106933, 0.5572465265628904, 0.5499955567587177, 0.3650682650271744, 0.36273865857470555, 0.36064474632782556, 2.6846655903316985, 0.7209202107631295, 16.840484401138337, 20.591371383912797, 5.063558336763415, 59.521436921193605, 157.3887051756377, 1149.2198467394105, 35.211106539300616, 80.73771788702528, 14.858910429473926, 31.90343420644397, 11.612071070062928, 96.05862252596638, 379.17564112877955, 67.17388794874553, 149.03385134642525, 439.7665433343541, 2453.9419976060417, 47.006258617255654, 25.714364156411605, 727.1029184514659, 101.88048859133123, 217.58576887095387, 65.41973333372006, 135.18409099637492, 54.96221202564705, 197.58807051413453, 37.3351118685953, 20.94395886063411, 23.167404683263157, 303.46654225541135, 87.50203194351617, 166.75703454152077, 353.1200128673691, 73.11652592597217, 98.01884256742996, 118.71849992434842, 91.93770634351215, 81.93166629342642, 250.04688154669418, 320.1889079061963, 223.62460887649797, 221.7336025828932, 158.0918669422873, 169.60324329721192, 152.2286179892983, 361.79963939283493, 156.9675696533997, 157.43064120723696, 312.402338760407, 186.70662223632135, 158.06920090312232, 378.43303891032525, 158.00121564944072, 226.79396948795736, 284.6341767521427, 154.59990761903475, 161.13980601930953, 0.6179385116996307, 1.1464987400924656, 1.044969665394731, 0.4519480489962259, 0.4515625126982826, 0.44633632053920447, 0.44634023461329525, 0.4389751013244719, 0.43941137004428427, 0.43836957399045107, 1.2478866070403092, 0.8202481195154538, 0.4078178672312558, 0.6084751336155189, 0.6095093524233558, 0.40236149740737664, 0.4021729444151182, 0.4001024494015248, 0.39726645182055864, 0.39511845312192384, 0.7749073347063757, 0.3853365798037829, 0.38267209895669285, 0.3748346673942469, 0.561138723004943, 0.373133124044148, 0.5551740253536313, 0.37080899201142736, 0.3689765279010351, 1.104614634690367, 0.7339991886246856, 114.23613590423122, 223.68346839655194, 132.8137205336412, 135.91382779094928, 44.418213459267996, 66.9781368431642, 37.778399046705516, 200.29528036759797, 39.93507554868226, 192.9944426706162, 307.2732536242985, 123.95920015879709, 80.83884388904309, 82.80849268332628, 155.23713385944237, 335.5724123500153, 119.27820198920847, 135.4494251080157, 457.24899836466426, 217.29798610253084, 108.27292078375193, 177.98582561003292, 83.48111286747223, 174.8639825960508, 119.02138092098883, 72.94677947971606, 64.76714021879016, 2187.556229421253, 246.47022341370584, 332.9752720436878, 426.0304654553079, 151.70477793749572, 577.6837430095256, 377.7887499811496, 786.6824982277517, 615.6913084848645, 361.64537740635495, 167.31096130612084, 189.5454328416372, 304.2906761765713, 264.80161077558733, 284.2044219256736, 152.63486792255165, 163.39880772101327, 152.48460601604077, 172.32499700039904, 172.91836260369362, 170.30411116977163, 154.47904153757136, 0.7069270328271842, 0.4508874479374754, 0.8475213871831193, 0.4222622178690021, 0.6249697685198233, 0.40591391475402805, 0.3987351561636771, 0.5768130727786117, 0.3832752404031185, 0.382918108239856, 0.37714109587246336, 0.37187461271927585, 0.5543764456760312, 0.3700488651331781, 0.3620994477017808, 0.36009227955818474, 0.3595187036596116, 0.3573063855765267, 0.35810064969191713, 0.5329469769454647, 0.8831769182753274, 0.3523518842248437, 0.35413317645200326, 0.5284819809726877, 0.34985779214138657, 0.3464659053439174, 0.3462666132853384, 0.8560752833170417, 1.030419619962456, 0.3433259322470982, 2.726782998972441, 12.165437381157517, 0.514024035884524, 55.290128829093916, 42.24665586266364, 10.05403152321372, 8.588471531346572, 127.1758765337282, 21.530682189786834, 25.358382816893094, 83.48582928342684, 31.988528619952653, 5.415545769401346, 5.094635961673645, 14.371784595731325, 28.139131196245497, 41.037481219589054, 391.5909527163824, 143.57771432590613, 183.3514468981427, 88.80419102138478, 185.79267170567516, 458.7842383653514, 45.75258050995649, 938.5817273354228, 252.0581262073381, 405.2550862352775, 276.068858047894, 2256.3186131148773, 125.9890182326253, 88.80749526336237, 95.24471146079988, 610.6134455525381, 75.06536892517326, 209.3493752812648, 645.7177631569031, 403.1216134420882, 182.67836009868546, 195.60641017395832, 167.92208564583729, 309.9614084500944, 188.47007356286707, 137.19783308109123, 149.63727472824004, 354.2467657271498, 282.8274054233403, 218.73415959774235, 165.18623683151108, 126.10958493893821, 142.4327817720496, 157.26511733349722, 176.24816541545033, 226.59764549049333, 202.53760419273345, 148.57172023358353, 1.054805832882685, 1.0546683283374403, 0.6493311063956412, 0.5445224756090822, 0.540503557377098, 1.0264038944038376, 0.49562841867567453, 0.4790022896541939, 0.47575137274639384, 0.4747065133675589, 0.4700455180021526, 0.8804226269915313, 0.6538001987439046, 0.42598990833666645, 0.4201614380743725, 0.8325143112407546, 0.6170570477078116, 0.41200828463509265, 0.6142866668540943, 0.4056921744037811, 0.40592207850012996, 0.6039052683159158, 0.4007683341857872, 0.398153436620934, 0.3930098616094774, 0.3779354271032587, 0.37860820677314555, 0.3764520956050063, 0.3748819114481332, 0.7399004262649092, 2.9818073753789833, 128.14286056215292, 22.609859334544673, 206.26461854972965, 31.59997306536158, 167.311342263517, 191.90603153828872, 67.74911108334241, 83.99284745766772, 129.38431815933305, 141.61740759419195, 73.96338075791547, 116.18872726969815, 11.800869344467449, 647.9511314101115, 8.98864701566763, 158.41167596690556, 107.31122051661595, 196.26147175749693, 60.2659366198148, 657.8717311000574, 2056.484761164726, 37.47524158371231, 376.80142624279944, 406.41442379099584, 349.03600399168874, 164.40910223870827, 103.70967188413674, 203.21933175826013, 168.08512014099605, 163.7040949288654, 378.90527497921636, 336.04615182070035, 156.1988730274251, 166.78524306143703, 212.765697987952, 615.8007851626517, 209.20071447072294, 228.5023121498358, 283.4886472165112, 250.2002545750076, 251.1164564101669, 232.205359961881, 155.46293702360637, 162.32276689082545, 157.19453283232747, 157.14565478353114, 11.35408938017554, 2.236063316453005, 0.5445163628754809, 1.3307413058292161, 0.5164831368252109, 0.7722165724540638, 0.6797888613942678, 0.6662039652339914, 0.4387972642816876, 0.4275778094799298, 0.4185434878734346, 0.41770970855544143, 0.4164754779295178, 0.41257249034799004, 0.4072628095539279, 0.4052069415738667, 0.3850913734041933, 0.3854026980274375, 0.3797557741872855, 0.5681970217825384, 0.37824087739685314, 0.36702665297952547, 0.3651725984487029, 0.9076060074247524, 0.9052463568489958, 0.7236914474043877, 0.3620121853566683, 0.36050686203773746, 0.3606405637397322, 0.35950921290755444, 0.536240400311491, 21.560928306703527, 92.72359764299647, 5.623423909706917, 14.554841812127439, 135.49775324344515, 61.86817309068951, 63.23077490967587, 338.81626951222034, 73.35890327531064, 167.6931186005961, 130.77261797169905, 141.84660308009322, 122.0728209189861, 191.61961080625335, 99.30975151563432, 681.5987843696616, 120.5824064372744, 87.28723170765255, 34.45118234120096, 128.5478216505063, 2124.2729949601194, 97.62287183956317, 338.67943070036415, 161.12045613099684, 135.3978439344567, 562.4386479769524, 392.56479979118495, 113.8136912264879, 120.62778824138117, 117.17612903793233, 127.60106827041604, 284.44683581437033, 174.37268415036468, 203.3964878510682, 598.6471587893114, 145.3535429637817, 302.04560295889496, 221.62144259714813, 290.5088453912888, 275.2121407955497, 138.77498659812747, 165.11466460577685, 153.2943185831611, 265.31106491242167, 208.91073570497204, 148.9297749804003, 144.64792524987516, 169.4140047418363, 146.14410212083328, 141.11032036947068], \"Total\": [25468.0, 9170.0, 1729.0, 3461.0, 2833.0, 6883.0, 1162.0, 6129.0, 4112.0, 3341.0, 1342.0, 1478.0, 1472.0, 2186.0, 981.0, 1136.0, 1456.0, 3062.0, 823.0, 2476.0, 1449.0, 3763.0, 1507.0, 2869.0, 2172.0, 1217.0, 941.0, 922.0, 1651.0, 658.0, 1.9011534581651008, 1.9028193018285602, 1.905135715200482, 2.853161268384097, 1.9040159316395973, 1.9055386946726212, 1.9036680985080072, 5.70355370081277, 2.8518763685996635, 1.903090698941127, 1.9052422425228288, 1.9083715500341443, 1.9047678392871703, 1.9072673326104188, 1.9046173711742609, 7.650873666925498, 1.9084842761557503, 1.903662951010956, 1.9031076186667708, 3.803556732953057, 5.701943930513843, 37.26643790422812, 1.9098444740015716, 1.906266688755151, 4.7518434721540865, 3.8059759423512314, 1.907341451545269, 1.9056084635691624, 1.904120787290491, 1.9084224836323633, 242.87439479446638, 25468.01333101492, 5.706997229060357, 1397.7495443877851, 128.59575031827785, 9170.217264274725, 530.8381238032819, 490.01469003830914, 172.66291301748763, 3707.262828867015, 1268.3635962061464, 928.213812607027, 1456.1792821715778, 597.2114257635218, 541.683524086207, 797.1239031996255, 335.0708553938844, 343.3022283338495, 1062.1495536101052, 414.25555200223687, 3461.7319972184246, 539.3732729633557, 6129.820151736608, 697.6430261971873, 6883.912710849609, 4112.612176660584, 860.4892660245162, 1449.63094098044, 444.1921546904253, 869.0051787392033, 4089.718717104958, 1034.425138760795, 2833.3459583059553, 3763.8351229473337, 2476.7105237144424, 1047.1735049743288, 1651.6993133520803, 2869.3436190362327, 1262.881606113096, 1526.714342880339, 1329.7121105931476, 2186.1685844960984, 3062.11788870226, 3341.1636796502044, 1459.1846213970646, 1458.6274879099992, 1791.393521163928, 1838.2628875125804, 1311.711599061171, 2172.75351390468, 1724.305491975432, 1899.4781517091974, 1474.3522890226448, 1.9026099493017887, 1.9013724895280122, 2.8562796706493234, 1.8990789615550614, 1.9077421941144692, 1.9045623267386513, 1.9054129500926167, 1.9048344618532504, 1.9105636976519433, 1.9027082207764858, 1.9101255268019264, 1.9079325699518048, 2.862007908651572, 1.903454529298091, 1.9070425633842856, 1.9038258848832343, 2.86131101259853, 1.9073527353387496, 1.9058633463180694, 4.7733607709878445, 1.9090937377351478, 1.9089419364825775, 1.9022249862236469, 3.820853518601221, 2.864541259559586, 5.708507086700218, 3.811929499403435, 6.666453411361479, 1.9131934406597044, 1.9054730739382744, 300.03283337851536, 84.74606776034308, 32.404991388813535, 127.5752322398198, 127.68930227356559, 25468.01333101492, 348.7493367328656, 9170.217264274725, 2869.3436190362327, 1651.6993133520803, 1729.1756077874638, 304.1205620558661, 333.67357593209135, 765.3691185355558, 172.17141114864154, 95.25668922291806, 1340.3608728776542, 290.80037791641956, 949.8934421745751, 1137.074301286804, 648.1240330953894, 1093.6419616199028, 396.9056166915438, 373.2180368013307, 1899.4781517091974, 6129.820151736608, 359.47606494885514, 1111.462315194054, 530.6638773495, 918.9750039361613, 3341.1636796502044, 1262.881606113096, 576.6093178915424, 6883.912710849609, 4112.612176660584, 864.0186339709957, 3763.8351229473337, 3062.11788870226, 1838.2628875125804, 1791.393521163928, 1034.425138760795, 1594.6833029590036, 1526.714342880339, 4089.718717104958, 1724.305491975432, 1311.711599061171, 3707.262828867015, 1329.7121105931476, 2476.7105237144424, 3461.7319972184246, 1478.9243298891568, 2833.3459583059553, 2186.1685844960984, 1507.280293082157, 2172.75351390468, 1459.1846213970646, 1536.64757262492, 1.9135478257941543, 1.9135326092690284, 1.9113477677388955, 2.8677619811156454, 1.9035267534546128, 1.9102115134464044, 3.821689152475005, 1.9085797945459617, 1.9132883717818587, 1.9101296106581283, 2.8627694691381413, 1.9115976210435712, 1.906999977574973, 1.9035449012053711, 2.8659462119362757, 1.9149274010014965, 9.547171960612634, 1.916930773352124, 1.909979117929577, 1.9128497150344843, 2.8694976632745055, 1.9031758752168209, 4.758011254941805, 1.9089419364825775, 1.9117682488580172, 4.779029614074456, 1.9150017695462567, 1.921444997102551, 2.8630356295815105, 1.9115196818544717, 1162.0766688245433, 5.716925143172173, 33.37050169225374, 1136.8809515443495, 680.2790619964919, 232.972566552451, 998.5998920704446, 495.51974233148235, 1449.63094098044, 744.7688846651586, 922.5470045582814, 482.032376095613, 765.3691185355558, 1586.012435999111, 1472.3030053390075, 1536.64757262492, 25468.01333101492, 860.4892660245162, 9170.217264274725, 6129.820151736608, 2476.7105237144424, 1399.5605958587435, 3062.11788870226, 604.3451232469777, 277.6724665370755, 346.51288240534416, 489.30684299546135, 4089.718717104958, 3461.7319972184246, 3763.8351229473337, 2172.75351390468, 900.3680718207229, 1037.061622692944, 1651.6993133520803, 1034.425138760795, 4112.612176660584, 1262.881606113096, 1474.3522890226448, 3707.262828867015, 6883.912710849609, 1329.7121105931476, 1791.393521163928, 1838.2628875125804, 2833.3459583059553, 3341.1636796502044, 1507.280293082157, 2869.3436190362327, 1459.1846213970646, 1899.4781517091974, 2186.1685844960984, 1.9192964760706137, 1.9235363586015757, 1.9178911002483643, 1.916856079167828, 2.8764522304792886, 1.9178044871867692, 1.9231328033448296, 1.9156673446867845, 1.915755947291196, 1.9196920811057143, 1.9169246970154759, 1.9022249862236469, 1.919837847715331, 1.9245542891055836, 1.9159071002306711, 3.827183119800469, 1.9202605648056097, 1.9158681285423793, 2.871851718678118, 1.9168469437027484, 2.874806457516042, 1.9187356004608729, 1.9209009182501953, 1.9189029630608796, 2.870459937206128, 2.8771894669246465, 2.8731925384271904, 2.8699801144375963, 3.834817007257806, 3.8303295235697767, 3461.7319972184246, 85.1063379336585, 47.72451651668639, 335.57648484976613, 56.35901064688744, 191.99584935047392, 6883.912710849609, 1217.069750155982, 3341.1636796502044, 644.0325188658531, 1838.2628875125804, 864.0186339709957, 4112.612176660584, 521.2009959364987, 744.2764772139565, 338.0848751047893, 601.8957619423, 1478.9243298891568, 433.1518913715251, 1399.5605958587435, 2833.3459583059553, 1729.1756077874638, 2186.1685844960984, 9170.217264274725, 1791.393521163928, 1105.8332043074543, 4089.718717104958, 1474.3522890226448, 25468.01333101492, 628.047956175921, 1397.7495443877851, 6129.820151736608, 3707.262828867015, 850.9224848783598, 1899.4781517091974, 1458.6274879099992, 1399.9978559493366, 3062.11788870226, 3763.8351229473337, 2869.3436190362327, 1536.64757262492, 1651.6993133520803, 2476.7105237144424, 1586.012435999111, 2172.75351390468, 1.9184663385271457, 1.9202097144219028, 1.9246882707626503, 1.9185671111687308, 1.913799342617469, 4.788090530635872, 1.9183485951577286, 1.925697033816862, 1.9162470668827667, 1.9158169584080564, 1.9123235745803315, 2.873721687634961, 1.91702436055343, 1.9204382538788545, 1.9179607972448984, 1.923572081749407, 1.9108468679913062, 1.9208741571683352, 1.9191025616090596, 3.8265321006147306, 1.9172450979763758, 1.916456336447721, 1.9140160737707232, 1.9174227907394195, 1.9146895734830205, 1.9144357130904193, 1.9173155112967852, 3.8298521220923973, 1.9130784370638838, 2.87834178569964, 9.553797817940051, 25.76684238667169, 440.3267563341236, 386.85223396380854, 55.476009875170575, 1456.1792821715778, 389.0411249874272, 2186.1685844960984, 295.2564923329009, 93.40004011010622, 3763.8351229473337, 541.1658482404184, 122.12319740501792, 2869.3436190362327, 2833.3459583059553, 1311.711599061171, 4112.612176660584, 419.03725620165505, 6129.820151736608, 2172.75351390468, 548.8687983262296, 1586.012435999111, 427.0575989273749, 3461.7319972184246, 1729.1756077874638, 800.4634090744585, 649.0780888249093, 1061.79090682327, 6883.912710849609, 1399.5605958587435, 25468.01333101492, 1507.280293082157, 1724.305491975432, 991.2667035586652, 1492.2540102984635, 4089.718717104958, 1217.069750155982, 3707.262828867015, 1137.074301286804, 3341.1636796502044, 1651.6993133520803, 9170.217264274725, 1474.3522890226448, 1147.3281807860196, 1899.4781517091974, 3062.11788870226, 1397.7495443877851, 2476.7105237144424, 1791.393521163928, 1472.3030053390075, 1838.2628875125804, 1.9189474951781242, 2.8838696635089986, 1.9223224342212555, 1.911022850238256, 1.9222501619270027, 1.9047678392871703, 1.916719280727698, 1.915646187014966, 1.9166469973835576, 2.8725899112250097, 2.866923101471167, 1.9198155733719624, 1.915760097363666, 1.91923839664594, 1.9188548511292542, 1.9129410251222723, 1.9261827665412607, 2.870297587733265, 1.91943700397498, 1.9192127225114628, 1.9177188461304653, 1.9177854876367588, 1.9203890822981855, 1.9176136766582301, 2.870715716237544, 2.8698489981158284, 2.872153796953384, 1.9177043828055187, 1.917930150449475, 1.9122224765534175, 14.357726123724401, 3.829148573678489, 98.39504891134732, 123.03200604161542, 28.71698309736569, 377.65490808242146, 1093.6419616199028, 9170.217264274725, 229.89376879510397, 559.8601190324417, 92.65198461712458, 208.9871235373824, 71.490844680337, 688.664217444043, 3062.11788870226, 477.8395261542854, 1127.757154397699, 3707.262828867015, 25468.01333101492, 330.2963819538267, 171.0210017864638, 6883.912710849609, 783.9866402503485, 1838.2628875125804, 490.01469003830914, 1119.2029408742278, 407.90039819081727, 1724.305491975432, 266.5649082485616, 139.74527190183994, 156.68300788361694, 2869.3436190362327, 700.357064312603, 1459.1846213970646, 3461.7319972184246, 572.8514912548942, 802.5072791150732, 1011.0218677557141, 750.1399072102049, 655.1717832539059, 2476.7105237144424, 3341.1636796502044, 2172.75351390468, 2186.1685844960984, 1456.1792821715778, 1594.6833029590036, 1399.9978559493366, 4089.718717104958, 1458.6274879099992, 1492.2540102984635, 3763.8351229473337, 1899.4781517091974, 1526.714342880339, 6129.820151736608, 1586.012435999111, 2833.3459583059553, 4112.612176660584, 1536.64757262492, 1729.1756077874638, 1.9198155733719624, 3.825854418555206, 3.812901098976752, 1.9108071347206077, 1.9168160171795594, 1.9096784122560597, 1.91040190787727, 1.9116707202034033, 1.9141316869002742, 1.9178991858585608, 5.739752477957296, 3.8246653462913827, 1.9219638539137767, 2.8691389277923767, 2.8777013284648616, 1.9145825807161962, 1.9199510157485524, 1.9134960115382966, 1.9118514401738376, 1.9159166839246695, 3.826750107602736, 1.9208318375679152, 1.9140954641707255, 1.9164996766962181, 2.8763329489688503, 1.9144039714411225, 2.8658368974871187, 1.9182485693039442, 1.9139575881204856, 5.733925150761709, 3.8254841921500735, 658.8596095233111, 1342.4872027525498, 911.2441647153466, 941.3555805120415, 295.15927725701073, 461.3263952379553, 251.42448223903207, 1507.280293082157, 270.4419932472955, 1472.3030053390075, 2476.7105237144424, 928.213812607027, 597.2114257635218, 613.9804518236205, 1217.069750155982, 2833.3459583059553, 922.5470045582814, 1064.3616007925666, 4089.718717104958, 1791.393521163928, 833.7686905116888, 1449.63094098044, 638.0330142809355, 1458.6274879099992, 949.8934421745751, 551.1256299160093, 482.69205607900943, 25468.01333101492, 2172.75351390468, 3062.11788870226, 4112.612176660584, 1268.3635962061464, 6129.820151736608, 3763.8351229473337, 9170.217264274725, 6883.912710849609, 3707.262828867015, 1478.9243298891568, 1729.1756077874638, 3341.1636796502044, 2869.3436190362327, 3461.7319972184246, 1342.5422187303095, 1526.714342880339, 1340.3608728776542, 1838.2628875125804, 1899.4781517091974, 2186.1685844960984, 1724.305491975432, 2.872443985075141, 1.9133402887227542, 3.829125635050987, 1.9152721190781496, 2.8671284059544817, 1.9184659189960045, 1.9110242996310418, 2.864388717026582, 1.9153141379395648, 1.9175295128407468, 1.912613217858702, 1.914426518658496, 2.863059265538857, 1.916763035196716, 1.9140566690356466, 1.9144914509728204, 1.9131128345590709, 1.9137340783739398, 1.9190907769982748, 2.870311565473325, 4.766646212520886, 1.9054669997131775, 1.9158112254576003, 2.869533057354561, 1.9152924076966624, 1.9128013531376358, 1.9191025616090596, 4.756050928426494, 5.738623961783114, 1.915233004127445, 15.326437584358882, 70.7365274501902, 2.868404224334201, 367.5871834029807, 278.12191355577437, 63.015491735854965, 53.52163282107503, 918.9750039361613, 142.08529025080122, 170.21013637388873, 607.7390995137566, 221.44767680976753, 33.47707377381303, 31.500012503027715, 95.47097577850316, 195.29707439685998, 293.12722081953484, 3341.1636796502044, 1137.074301286804, 1492.2540102984635, 679.9160791134327, 1526.714342880339, 4112.612176660584, 339.8119816082351, 9170.217264274725, 2186.1685844960984, 3763.8351229473337, 2476.7105237144424, 25468.01333101492, 1047.1735049743288, 712.810378954928, 772.6687223236167, 6129.820151736608, 599.6661192856817, 1899.4781517091974, 6883.912710849609, 4089.718717104958, 1651.6993133520803, 1791.393521163928, 1507.280293082157, 3062.11788870226, 1724.305491975432, 1195.6180019077606, 1342.5422187303095, 3707.262828867015, 2869.3436190362327, 2172.75351390468, 1594.6833029590036, 1119.2029408742278, 1329.7121105931476, 1536.64757262492, 1838.2628875125804, 3461.7319972184246, 2833.3459583059553, 1586.012435999111, 1.9197046918738585, 1.9195864495428898, 1.9116514143934473, 1.916790837055871, 1.9208609383168702, 3.8283772411566908, 1.917221401884992, 1.9226880335513874, 1.9152238510987205, 1.915829817300015, 1.9122004840713986, 3.8262564411545603, 2.876566782187457, 1.91376439965995, 1.912619486207262, 3.8252941384440566, 2.8699156413029128, 1.9164430912842665, 2.874580762598818, 1.917570927336088, 1.9192127225114628, 2.873916934154845, 1.9177043828055187, 1.908751552824555, 1.9192964760706137, 1.9172450979763758, 1.9231328033448296, 1.9125370455049304, 1.912635236118522, 3.8299981274486017, 16.239629333439964, 823.0335789181813, 142.35352421217098, 1478.9243298891568, 204.3708802610309, 1262.881606113096, 1472.3030053390075, 479.2114304138019, 608.1336934228796, 981.6115190216026, 1119.2029408742278, 548.8687983262296, 903.0419051288623, 73.53454131350922, 6129.820151736608, 55.31471811260182, 1342.4872027525498, 870.3433552469883, 1729.1756077874638, 461.3263952379553, 6883.912710849609, 25468.01333101492, 272.6964486036986, 3763.8351229473337, 4112.612176660584, 3461.7319972184246, 1474.3522890226448, 869.0051787392033, 1899.4781517091974, 1536.64757262492, 1492.2540102984635, 4089.718717104958, 3707.262828867015, 1458.6274879099992, 1594.6833029590036, 2172.75351390468, 9170.217264274725, 2186.1685844960984, 2476.7105237144424, 3341.1636796502044, 2869.3436190362327, 3062.11788870226, 2833.3459583059553, 1507.280293082157, 1724.305491975432, 1586.012435999111, 1651.6993133520803, 37.26643790422812, 7.650873666925498, 1.9265243957939213, 4.800365467897729, 1.921444997102551, 2.8864785362791627, 2.8686865769943517, 2.885213085041443, 1.9184615274854917, 1.9206539896361094, 1.9181962142614672, 1.9215832134976671, 1.9176193916072601, 1.9189700688371238, 1.9210960094060212, 1.9229811257452911, 1.9210442322830734, 1.9261827665412607, 1.9215083542356597, 2.884304984565045, 1.9242297686085321, 1.9197334096982173, 1.9196009881773721, 4.789976589022445, 4.790739922670384, 3.8330230673705126, 1.9175202617584761, 1.9196837341021549, 1.9211226658995324, 1.915705367132282, 2.8767659082544283, 131.09635349239562, 617.1197462286999, 33.396323312460986, 91.82093894066809, 981.6115190216026, 442.3749033819262, 454.1604680000694, 2833.3459583059553, 548.8687983262296, 1342.5422187303095, 1025.691961413378, 1136.8809515443495, 969.6088899592121, 1594.6833029590036, 799.9799187753886, 6883.912710849609, 1011.0218677557141, 706.6979899898959, 253.35189706207228, 1105.8332043074543, 25468.01333101492, 823.0335789181813, 3341.1636796502044, 1449.63094098044, 1195.6180019077606, 6129.820151736608, 4089.718717104958, 991.2667035586652, 1061.79090682327, 1037.061622692944, 1162.0766688245433, 3062.11788870226, 1729.1756077874638, 2172.75351390468, 9170.217264274725, 1399.9978559493366, 3763.8351229473337, 2476.7105237144424, 3707.262828867015, 3461.7319972184246, 1329.7121105931476, 1724.305491975432, 1586.012435999111, 4112.612176660584, 2869.3436190362327, 1536.64757262492, 1459.1846213970646, 2186.1685844960984, 1899.4781517091974, 1791.393521163928], \"Category\": [\"Default\", \"Default\", \"Default\", \"Default\", \"Default\", \"Default\", \"Default\", \"Default\", \"Default\", \"Default\", \"Default\", \"Default\", \"Default\", \"Default\", \"Default\", \"Default\", \"Default\", \"Default\", \"Default\", \"Default\", \"Default\", \"Default\", \"Default\", \"Default\", \"Default\", \"Default\", \"Default\", \"Default\", \"Default\", \"Default\", \"Topic1\", \"Topic1\", \"Topic1\", \"Topic1\", \"Topic1\", \"Topic1\", \"Topic1\", \"Topic1\", \"Topic1\", \"Topic1\", \"Topic1\", \"Topic1\", \"Topic1\", \"Topic1\", \"Topic1\", \"Topic1\", \"Topic1\", \"Topic1\", \"Topic1\", \"Topic1\", \"Topic1\", \"Topic1\", \"Topic1\", \"Topic1\", \"Topic1\", \"Topic1\", \"Topic1\", \"Topic1\", \"Topic1\", \"Topic1\", \"Topic1\", \"Topic1\", \"Topic1\", \"Topic1\", \"Topic1\", \"Topic1\", \"Topic1\", \"Topic1\", \"Topic1\", \"Topic1\", \"Topic1\", \"Topic1\", \"Topic1\", \"Topic1\", \"Topic1\", \"Topic1\", \"Topic1\", \"Topic1\", \"Topic1\", \"Topic1\", \"Topic1\", \"Topic1\", \"Topic1\", \"Topic1\", \"Topic1\", \"Topic1\", \"Topic1\", \"Topic1\", \"Topic1\", \"Topic1\", \"Topic1\", \"Topic1\", \"Topic1\", \"Topic1\", \"Topic1\", \"Topic1\", \"Topic1\", \"Topic1\", \"Topic1\", \"Topic1\", \"Topic1\", \"Topic1\", \"Topic1\", \"Topic1\", \"Topic1\", \"Topic1\", \"Topic1\", \"Topic1\", \"Topic1\", \"Topic1\", \"Topic1\", \"Topic1\", \"Topic1\", \"Topic2\", \"Topic2\", \"Topic2\", \"Topic2\", \"Topic2\", \"Topic2\", \"Topic2\", \"Topic2\", \"Topic2\", \"Topic2\", \"Topic2\", \"Topic2\", \"Topic2\", \"Topic2\", \"Topic2\", \"Topic2\", \"Topic2\", \"Topic2\", \"Topic2\", \"Topic2\", \"Topic2\", \"Topic2\", \"Topic2\", \"Topic2\", \"Topic2\", \"Topic2\", \"Topic2\", \"Topic2\", \"Topic2\", \"Topic2\", \"Topic2\", \"Topic2\", \"Topic2\", \"Topic2\", \"Topic2\", \"Topic2\", \"Topic2\", \"Topic2\", \"Topic2\", \"Topic2\", \"Topic2\", \"Topic2\", \"Topic2\", \"Topic2\", \"Topic2\", \"Topic2\", \"Topic2\", \"Topic2\", \"Topic2\", \"Topic2\", \"Topic2\", \"Topic2\", \"Topic2\", \"Topic2\", \"Topic2\", \"Topic2\", \"Topic2\", \"Topic2\", \"Topic2\", \"Topic2\", \"Topic2\", \"Topic2\", \"Topic2\", \"Topic2\", \"Topic2\", \"Topic2\", \"Topic2\", \"Topic2\", \"Topic2\", \"Topic2\", \"Topic2\", \"Topic2\", \"Topic2\", \"Topic2\", \"Topic2\", \"Topic2\", \"Topic2\", \"Topic2\", \"Topic2\", \"Topic2\", \"Topic2\", \"Topic2\", \"Topic2\", \"Topic2\", \"Topic2\", \"Topic2\", \"Topic2\", \"Topic3\", \"Topic3\", \"Topic3\", \"Topic3\", \"Topic3\", \"Topic3\", \"Topic3\", \"Topic3\", \"Topic3\", \"Topic3\", \"Topic3\", \"Topic3\", \"Topic3\", \"Topic3\", \"Topic3\", \"Topic3\", \"Topic3\", \"Topic3\", \"Topic3\", \"Topic3\", \"Topic3\", \"Topic3\", \"Topic3\", \"Topic3\", \"Topic3\", \"Topic3\", \"Topic3\", \"Topic3\", \"Topic3\", \"Topic3\", \"Topic3\", \"Topic3\", \"Topic3\", \"Topic3\", \"Topic3\", \"Topic3\", \"Topic3\", \"Topic3\", \"Topic3\", \"Topic3\", \"Topic3\", \"Topic3\", \"Topic3\", \"Topic3\", \"Topic3\", \"Topic3\", \"Topic3\", \"Topic3\", \"Topic3\", \"Topic3\", \"Topic3\", \"Topic3\", \"Topic3\", \"Topic3\", \"Topic3\", \"Topic3\", \"Topic3\", \"Topic3\", \"Topic3\", \"Topic3\", \"Topic3\", \"Topic3\", \"Topic3\", \"Topic3\", \"Topic3\", \"Topic3\", \"Topic3\", \"Topic3\", \"Topic3\", \"Topic3\", \"Topic3\", \"Topic3\", \"Topic3\", \"Topic3\", \"Topic3\", \"Topic3\", \"Topic3\", \"Topic3\", \"Topic3\", \"Topic3\", \"Topic4\", \"Topic4\", \"Topic4\", \"Topic4\", \"Topic4\", \"Topic4\", \"Topic4\", \"Topic4\", \"Topic4\", \"Topic4\", \"Topic4\", \"Topic4\", \"Topic4\", \"Topic4\", \"Topic4\", \"Topic4\", \"Topic4\", \"Topic4\", \"Topic4\", \"Topic4\", \"Topic4\", \"Topic4\", \"Topic4\", \"Topic4\", \"Topic4\", \"Topic4\", \"Topic4\", \"Topic4\", \"Topic4\", \"Topic4\", \"Topic4\", \"Topic4\", \"Topic4\", \"Topic4\", \"Topic4\", \"Topic4\", \"Topic4\", \"Topic4\", \"Topic4\", \"Topic4\", \"Topic4\", \"Topic4\", \"Topic4\", \"Topic4\", \"Topic4\", \"Topic4\", \"Topic4\", \"Topic4\", \"Topic4\", \"Topic4\", \"Topic4\", \"Topic4\", \"Topic4\", \"Topic4\", \"Topic4\", \"Topic4\", \"Topic4\", \"Topic4\", \"Topic4\", \"Topic4\", \"Topic4\", \"Topic4\", \"Topic4\", \"Topic4\", \"Topic4\", \"Topic4\", \"Topic4\", \"Topic4\", \"Topic4\", \"Topic4\", \"Topic4\", \"Topic4\", \"Topic4\", \"Topic4\", \"Topic4\", \"Topic5\", \"Topic5\", \"Topic5\", \"Topic5\", \"Topic5\", \"Topic5\", \"Topic5\", \"Topic5\", \"Topic5\", \"Topic5\", \"Topic5\", \"Topic5\", \"Topic5\", \"Topic5\", \"Topic5\", \"Topic5\", \"Topic5\", \"Topic5\", \"Topic5\", \"Topic5\", \"Topic5\", \"Topic5\", \"Topic5\", \"Topic5\", \"Topic5\", \"Topic5\", \"Topic5\", \"Topic5\", \"Topic5\", \"Topic5\", \"Topic5\", \"Topic5\", \"Topic5\", \"Topic5\", \"Topic5\", \"Topic5\", \"Topic5\", \"Topic5\", \"Topic5\", \"Topic5\", \"Topic5\", \"Topic5\", \"Topic5\", \"Topic5\", \"Topic5\", \"Topic5\", \"Topic5\", \"Topic5\", \"Topic5\", \"Topic5\", \"Topic5\", \"Topic5\", \"Topic5\", \"Topic5\", \"Topic5\", \"Topic5\", \"Topic5\", \"Topic5\", \"Topic5\", \"Topic5\", \"Topic5\", \"Topic5\", \"Topic5\", \"Topic5\", \"Topic5\", \"Topic5\", \"Topic5\", \"Topic5\", \"Topic5\", \"Topic5\", \"Topic5\", \"Topic5\", \"Topic5\", \"Topic5\", \"Topic5\", \"Topic5\", \"Topic5\", \"Topic5\", \"Topic5\", \"Topic5\", \"Topic5\", \"Topic6\", \"Topic6\", \"Topic6\", \"Topic6\", \"Topic6\", \"Topic6\", \"Topic6\", \"Topic6\", \"Topic6\", \"Topic6\", \"Topic6\", \"Topic6\", \"Topic6\", \"Topic6\", \"Topic6\", \"Topic6\", \"Topic6\", \"Topic6\", \"Topic6\", \"Topic6\", \"Topic6\", \"Topic6\", \"Topic6\", \"Topic6\", \"Topic6\", \"Topic6\", \"Topic6\", \"Topic6\", \"Topic6\", \"Topic6\", \"Topic6\", \"Topic6\", \"Topic6\", \"Topic6\", \"Topic6\", \"Topic6\", \"Topic6\", \"Topic6\", \"Topic6\", \"Topic6\", \"Topic6\", \"Topic6\", \"Topic6\", \"Topic6\", \"Topic6\", \"Topic6\", \"Topic6\", \"Topic6\", \"Topic6\", \"Topic6\", \"Topic6\", \"Topic6\", \"Topic6\", \"Topic6\", \"Topic6\", \"Topic6\", \"Topic6\", \"Topic6\", \"Topic6\", \"Topic6\", \"Topic6\", \"Topic6\", \"Topic6\", \"Topic6\", \"Topic6\", \"Topic6\", \"Topic6\", \"Topic6\", \"Topic6\", \"Topic6\", \"Topic6\", \"Topic6\", \"Topic6\", \"Topic6\", \"Topic6\", \"Topic6\", \"Topic6\", \"Topic6\", \"Topic6\", \"Topic6\", \"Topic6\", \"Topic6\", \"Topic6\", \"Topic6\", \"Topic6\", \"Topic6\", \"Topic6\", \"Topic6\", \"Topic6\", \"Topic7\", \"Topic7\", \"Topic7\", \"Topic7\", \"Topic7\", \"Topic7\", \"Topic7\", \"Topic7\", \"Topic7\", \"Topic7\", \"Topic7\", \"Topic7\", \"Topic7\", \"Topic7\", \"Topic7\", \"Topic7\", \"Topic7\", \"Topic7\", \"Topic7\", \"Topic7\", \"Topic7\", \"Topic7\", \"Topic7\", \"Topic7\", \"Topic7\", \"Topic7\", \"Topic7\", \"Topic7\", \"Topic7\", \"Topic7\", \"Topic7\", \"Topic7\", \"Topic7\", \"Topic7\", \"Topic7\", \"Topic7\", \"Topic7\", \"Topic7\", \"Topic7\", \"Topic7\", \"Topic7\", \"Topic7\", \"Topic7\", \"Topic7\", \"Topic7\", \"Topic7\", \"Topic7\", \"Topic7\", \"Topic7\", \"Topic7\", \"Topic7\", \"Topic7\", \"Topic7\", \"Topic7\", \"Topic7\", \"Topic7\", \"Topic7\", \"Topic7\", \"Topic7\", \"Topic7\", \"Topic7\", \"Topic7\", \"Topic7\", \"Topic7\", \"Topic7\", \"Topic7\", \"Topic7\", \"Topic7\", \"Topic7\", \"Topic7\", \"Topic7\", \"Topic7\", \"Topic7\", \"Topic7\", \"Topic7\", \"Topic7\", \"Topic7\", \"Topic7\", \"Topic7\", \"Topic7\", \"Topic8\", \"Topic8\", \"Topic8\", \"Topic8\", \"Topic8\", \"Topic8\", \"Topic8\", \"Topic8\", \"Topic8\", \"Topic8\", \"Topic8\", \"Topic8\", \"Topic8\", \"Topic8\", \"Topic8\", \"Topic8\", \"Topic8\", \"Topic8\", \"Topic8\", \"Topic8\", \"Topic8\", \"Topic8\", \"Topic8\", \"Topic8\", \"Topic8\", \"Topic8\", \"Topic8\", \"Topic8\", \"Topic8\", \"Topic8\", \"Topic8\", \"Topic8\", \"Topic8\", \"Topic8\", \"Topic8\", \"Topic8\", \"Topic8\", \"Topic8\", \"Topic8\", \"Topic8\", \"Topic8\", \"Topic8\", \"Topic8\", \"Topic8\", \"Topic8\", \"Topic8\", \"Topic8\", \"Topic8\", \"Topic8\", \"Topic8\", \"Topic8\", \"Topic8\", \"Topic8\", \"Topic8\", \"Topic8\", \"Topic8\", \"Topic8\", \"Topic8\", \"Topic8\", \"Topic8\", \"Topic8\", \"Topic8\", \"Topic8\", \"Topic8\", \"Topic8\", \"Topic8\", \"Topic8\", \"Topic8\", \"Topic8\", \"Topic8\", \"Topic8\", \"Topic8\", \"Topic8\", \"Topic8\", \"Topic8\", \"Topic8\", \"Topic8\", \"Topic8\", \"Topic8\", \"Topic8\", \"Topic8\", \"Topic8\", \"Topic8\", \"Topic8\", \"Topic8\", \"Topic9\", \"Topic9\", \"Topic9\", \"Topic9\", \"Topic9\", \"Topic9\", \"Topic9\", \"Topic9\", \"Topic9\", \"Topic9\", \"Topic9\", \"Topic9\", \"Topic9\", \"Topic9\", \"Topic9\", \"Topic9\", \"Topic9\", \"Topic9\", \"Topic9\", \"Topic9\", \"Topic9\", \"Topic9\", \"Topic9\", \"Topic9\", \"Topic9\", \"Topic9\", \"Topic9\", \"Topic9\", \"Topic9\", \"Topic9\", \"Topic9\", \"Topic9\", \"Topic9\", \"Topic9\", \"Topic9\", \"Topic9\", \"Topic9\", \"Topic9\", \"Topic9\", \"Topic9\", \"Topic9\", \"Topic9\", \"Topic9\", \"Topic9\", \"Topic9\", \"Topic9\", \"Topic9\", \"Topic9\", \"Topic9\", \"Topic9\", \"Topic9\", \"Topic9\", \"Topic9\", \"Topic9\", \"Topic9\", \"Topic9\", \"Topic9\", \"Topic9\", \"Topic9\", \"Topic9\", \"Topic9\", \"Topic9\", \"Topic9\", \"Topic9\", \"Topic9\", \"Topic9\", \"Topic9\", \"Topic9\", \"Topic9\", \"Topic9\", \"Topic9\", \"Topic9\", \"Topic9\", \"Topic9\", \"Topic9\", \"Topic9\", \"Topic9\", \"Topic10\", \"Topic10\", \"Topic10\", \"Topic10\", \"Topic10\", \"Topic10\", \"Topic10\", \"Topic10\", \"Topic10\", \"Topic10\", \"Topic10\", \"Topic10\", \"Topic10\", \"Topic10\", \"Topic10\", \"Topic10\", \"Topic10\", \"Topic10\", \"Topic10\", \"Topic10\", \"Topic10\", \"Topic10\", \"Topic10\", \"Topic10\", \"Topic10\", \"Topic10\", \"Topic10\", \"Topic10\", \"Topic10\", \"Topic10\", \"Topic10\", \"Topic10\", \"Topic10\", \"Topic10\", \"Topic10\", \"Topic10\", \"Topic10\", \"Topic10\", \"Topic10\", \"Topic10\", \"Topic10\", \"Topic10\", \"Topic10\", \"Topic10\", \"Topic10\", \"Topic10\", \"Topic10\", \"Topic10\", \"Topic10\", \"Topic10\", \"Topic10\", \"Topic10\", \"Topic10\", \"Topic10\", \"Topic10\", \"Topic10\", \"Topic10\", \"Topic10\", \"Topic10\", \"Topic10\", \"Topic10\", \"Topic10\", \"Topic10\", \"Topic10\", \"Topic10\", \"Topic10\", \"Topic10\", \"Topic10\", \"Topic10\", \"Topic10\", \"Topic10\", \"Topic10\", \"Topic10\", \"Topic10\", \"Topic10\", \"Topic10\", \"Topic10\", \"Topic10\", \"Topic10\", \"Topic10\", \"Topic10\"], \"logprob\": [30.0, 29.0, 28.0, 27.0, 26.0, 25.0, 24.0, 23.0, 22.0, 21.0, 20.0, 19.0, 18.0, 17.0, 16.0, 15.0, 14.0, 13.0, 12.0, 11.0, 10.0, 9.0, 8.0, 7.0, 6.0, 5.0, 4.0, 3.0, 2.0, 1.0, -11.5068998336792, -11.604299545288086, -11.615699768066406, -11.227299690246582, -11.634699821472168, -11.68340015411377, -11.716699600219727, -10.694499969482422, -11.39579963684082, -11.804300308227539, -11.829500198364258, -11.830499649047852, -11.833600044250488, -11.842300415039062, -11.846599578857422, -10.458600044250488, -11.853500366210938, -11.856200218200684, -11.896100044250488, -11.210399627685547, -10.815899848937988, -8.952199935913086, -11.932900428771973, -11.941499710083008, -11.045299530029297, -11.269200325012207, -11.962499618530273, -11.964900016784668, -11.976699829101562, -11.975000381469727, -7.255000114440918, -2.744800090789795, -10.906700134277344, -5.663300037384033, -7.942800045013428, -3.8952999114990234, -6.607500076293945, -6.685400009155273, -7.665900230407715, -4.789700031280518, -5.797399997711182, -6.0971999168396, -5.6875, -6.517000198364258, -6.608500003814697, -6.2555999755859375, -7.0578999519348145, -7.039999961853027, -6.021699905395508, -6.88040018081665, -4.965400218963623, -6.645999908447266, -4.468699932098389, -6.435699939727783, -4.407700061798096, -4.872000217437744, -6.249499797821045, -5.805799961090088, -6.8404998779296875, -6.273600101470947, -4.948999881744385, -6.127699851989746, -5.274499893188477, -5.048399925231934, -5.409900188446045, -6.121399879455566, -5.751200199127197, -5.304699897766113, -5.96999979019165, -5.830399990081787, -5.9506001472473145, -5.591400146484375, -5.348800182342529, -5.2982001304626465, -5.900000095367432, -5.9054999351501465, -5.78380012512207, -5.7754998207092285, -5.984899997711182, -5.715000152587891, -5.848899841308594, -5.867599964141846, -5.939899921417236, -11.566900253295898, -11.604299545288086, -11.291500091552734, -11.710800170898438, -11.753199577331543, -11.774299621582031, -11.784600257873535, -11.79170036315918, -11.826399803161621, -11.83549976348877, -11.836999893188477, -11.838600158691406, -11.458600044250488, -11.870599746704102, -11.878899574279785, -11.889399528503418, -11.505200386047363, -11.947099685668945, -11.947999954223633, -11.040399551391602, -11.967300415039062, -11.973899841308594, -11.97920036315918, -11.30049991607666, -11.591899871826172, -10.90839958190918, -11.315500259399414, -10.7568998336792, -12.00979995727539, -12.014699935913086, -6.994900226593018, -8.2677001953125, -9.24489974975586, -7.929900169372559, -7.93209981918335, -2.8552000522613525, -6.980299949645996, -3.8947999477386475, -5.005499839782715, -5.527400016784668, -5.493500232696533, -7.135799884796143, -7.055699825286865, -6.284999847412109, -7.683300018310547, -8.240599632263184, -5.8024001121521, -7.211900234222412, -6.126100063323975, -5.967899799346924, -6.480199813842773, -6.00540018081665, -6.928199768066406, -6.9882001876831055, -5.513199806213379, -4.46999979019165, -7.025100231170654, -6.012199878692627, -6.679699897766113, -6.206200122833252, -5.08489990234375, -5.958399772644043, -6.633200168609619, -4.500699996948242, -4.964099884033203, -6.29610013961792, -5.067699909210205, -5.241300106048584, -5.666100025177002, -5.689700126647949, -6.146500110626221, -5.815700054168701, -5.851500034332275, -5.0903000831604, -5.768599987030029, -5.980299949645996, -5.22629976272583, -5.972899913787842, -5.550099849700928, -5.365600109100342, -5.9166998863220215, -5.559700012207031, -5.729400157928467, -5.916200160980225, -5.776299953460693, -5.933499813079834, -5.928999900817871, -11.325599670410156, -11.34469985961914, -11.42590045928955, -11.184800148010254, -11.668299674987793, -11.671600341796875, -11.000800132751465, -11.701399803161621, -11.700599670410156, -11.738300323486328, -11.335399627685547, -11.74839973449707, -11.768799781799316, -11.815400123596191, -11.425000190734863, -11.85990047454834, -10.275400161743164, -11.885199546813965, -11.892200469970703, -11.890999794006348, -11.48859977722168, -11.90429973602295, -10.994799613952637, -11.908100128173828, -11.907299995422363, -10.996600151062012, -11.91759967803955, -11.916199684143066, -11.527000427246094, -11.935199737548828, -5.55709981918335, -10.847399711608887, -9.136799812316895, -5.751299858093262, -6.295000076293945, -7.320300102233887, -5.940700054168701, -6.625699996948242, -5.619999885559082, -6.251699924468994, -6.068900108337402, -6.678999900817871, -6.274799823760986, -5.599299907684326, -5.676000118255615, -5.642499923706055, -3.066800117492676, -6.1793999671936035, -4.027900218963623, -4.4054999351501465, -5.243800163269043, -5.758999824523926, -5.060299873352051, -6.528600215911865, -7.225200176239014, -7.028900146484375, -6.729400157928467, -4.864699840545654, -5.021699905395508, -4.967599868774414, -5.441299915313721, -6.204100131988525, -6.083399772644043, -5.6971001625061035, -6.089200019836426, -4.946700096130371, -5.926499843597412, -5.805099964141846, -5.0742998123168945, -4.589399814605713, -5.900100231170654, -5.688199996948242, -5.674300193786621, -5.379700183868408, -5.300899982452393, -5.83519983291626, -5.504199981689453, -5.854800224304199, -5.780700206756592, -5.767600059509277, -11.320300102233887, -11.551199913024902, -11.569299697875977, -11.593999862670898, -11.199600219726562, -11.666299819946289, -11.680399894714355, -11.696000099182129, -11.711299896240234, -11.711299896240234, -11.754199981689453, -11.800000190734863, -11.793100357055664, -11.814200401306152, -11.820599555969238, -11.144399642944336, -11.836999893188477, -11.840499877929688, -11.440199851989746, -11.859800338745117, -11.458900451660156, -11.869500160217285, -11.883000373840332, -11.915300369262695, -11.51360034942627, -11.521400451660156, -11.524399757385254, -11.529800415039062, -11.242400169372559, -11.247400283813477, -4.740699768066406, -8.280099868774414, -8.835200309753418, -6.983699798583984, -8.679200172424316, -7.5233001708984375, -4.175899982452393, -5.810400009155273, -4.8744001388549805, -6.410699844360352, -5.441699981689453, -6.148200035095215, -4.723100185394287, -6.629899978637695, -6.302299976348877, -7.0345001220703125, -6.505799770355225, -5.695899963378906, -6.815199851989746, -5.7596001625061035, -5.122900009155273, -5.590099811553955, -5.382699966430664, -4.10699987411499, -5.575900077819824, -6.010200023651123, -4.853899955749512, -5.758900165557861, -3.265500068664551, -6.521100044250488, -5.828999996185303, -4.564199924468994, -5.015999794006348, -6.2652997970581055, -5.622600078582764, -5.847300052642822, -5.880199909210205, -5.285799980163574, -5.13670015335083, -5.364699840545654, -5.884200096130371, -5.862599849700928, -5.7153000831604, -5.931600093841553, -5.8231000900268555, -11.529500007629395, -11.564000129699707, -11.624500274658203, -11.677499771118164, -11.7052001953125, -10.788999557495117, -11.707300186157227, -11.711600303649902, -11.740400314331055, -11.770600318908691, -11.773200035095215, -11.365900039672852, -11.772600173950195, -11.779500007629395, -11.788599967956543, -11.821000099182129, -11.838199615478516, -11.833100318908691, -11.853500366210938, -11.17770004272461, -11.881400108337402, -11.88640022277832, -11.889399528503418, -11.91819953918457, -11.930399894714355, -11.933600425720215, -11.934100151062012, -11.244000434875488, -11.9399995803833, -11.531800270080566, -10.334500312805176, -9.37909984588623, -6.61929988861084, -6.803899765014648, -8.678099632263184, -5.546500205993652, -6.839399814605713, -5.231200218200684, -7.116799831390381, -8.214599609375, -4.7596001625061035, -6.576700210571289, -7.964200019836426, -5.068399906158447, -5.081900119781494, -5.825099945068359, -4.786799907684326, -6.868599891662598, -4.441199779510498, -5.375999927520752, -6.625899791717529, -5.671000003814697, -6.854300022125244, -4.973400115966797, -5.595900058746338, -6.296000003814697, -6.486199855804443, -6.049799919128418, -4.403600215911865, -5.8078999519348145, -3.290800094604492, -5.767000198364258, -5.666399955749512, -6.143499851226807, -5.799499988555908, -4.940400123596191, -5.979000091552734, -5.076600074768066, -6.042900085449219, -5.211699962615967, -5.760000228881836, -4.4791998863220215, -5.850599765777588, -6.0524001121521, -5.726200103759766, -5.461100101470947, -5.940499782562256, -5.6940999031066895, -5.85230016708374, -5.930300235748291, -5.893899917602539, -11.496899604797363, -11.170999526977539, -11.696700096130371, -11.715499877929688, -11.71560001373291, -11.725500106811523, -11.73330020904541, -11.762499809265137, -11.787400245666504, -11.386300086975098, -11.39050006866455, -11.794899940490723, -11.803500175476074, -11.813300132751465, -11.853799819946289, -11.865699768066406, -11.859199523925781, -11.466500282287598, -11.878000259399414, -11.879300117492676, -11.880800247192383, -11.883899688720703, -11.888699531555176, -11.893099784851074, -11.49120044708252, -11.504400253295898, -11.517499923706055, -11.927300453186035, -11.933699607849121, -11.939499855041504, -9.932100296020508, -11.246800422668457, -8.095800399780273, -7.894700050354004, -9.297499656677246, -6.8333001136779785, -5.860899925231934, -3.87280011177063, -7.35830020904541, -6.52839994430542, -8.220999717712402, -7.456900119781494, -8.467599868774414, -6.354700088500977, -4.981599807739258, -6.712299823760986, -5.91540002822876, -4.833399772644043, -3.1142001152038574, -7.069300174713135, -7.672599792480469, -4.33050012588501, -6.29580020904541, -5.5370001792907715, -6.738800048828125, -6.013000011444092, -6.913000106811523, -5.633399963378906, -7.299699783325195, -7.877799987792969, -7.776899814605713, -5.2042999267578125, -6.447999954223633, -5.803100109100342, -5.052800178527832, -6.627600193023682, -6.334499835968018, -6.142899990081787, -6.398499965667725, -6.513700008392334, -5.3979997634887695, -5.150700092315674, -5.5096001625061035, -5.518099784851074, -5.856400012969971, -5.786200046539307, -5.894199848175049, -5.028500080108643, -5.86359977722168, -5.860599994659424, -5.175300121307373, -5.690100193023682, -5.856599807739258, -4.98360013961792, -5.85699987411499, -5.49560022354126, -5.268400192260742, -5.878799915313721, -5.837299823760986, -11.3996000289917, -10.781499862670898, -10.874300003051758, -11.712400436401367, -11.713299751281738, -11.724900245666504, -11.724900245666504, -11.741600036621094, -11.740599632263184, -11.742899894714355, -10.696800231933594, -11.116399765014648, -11.815199851989746, -11.414999961853027, -11.413299560546875, -11.828700065612793, -11.829099655151367, -11.83430004119873, -11.841400146484375, -11.846799850463867, -11.173299789428711, -11.871899604797363, -11.878800392150879, -11.899499893188477, -11.496000289916992, -11.90410041809082, -11.506699562072754, -11.910300254821777, -11.915300369262695, -10.81879997253418, -11.227499961853027, -6.179999828338623, -5.507999897003174, -6.029300212860107, -6.006199836730957, -7.124599933624268, -6.713900089263916, -7.286499977111816, -5.618500232696533, -7.230999946594238, -5.655600070953369, -5.190499782562256, -6.098299980163574, -6.5258002281188965, -6.501699924468994, -5.873300075531006, -5.102399826049805, -6.1367998123168945, -6.0096001625061035, -4.793000221252441, -5.5370001792907715, -6.23360013961792, -5.736499786376953, -6.493599891662598, -5.754199981689453, -6.138899803161621, -6.628499984741211, -6.747399806976318, -3.2276999950408936, -5.410999774932861, -5.110199928283691, -4.863699913024902, -5.896299839019775, -4.559199810028076, -4.98390007019043, -4.250400066375732, -4.495500087738037, -5.027599811553955, -5.798399925231934, -5.673600196838379, -5.200300216674805, -5.339300155639648, -5.268599987030029, -5.890200138092041, -5.8221001625061035, -5.891200065612793, -5.768899917602539, -5.765399932861328, -5.780700206756592, -5.878200054168701, -11.254300117492676, -11.704000473022461, -11.07289981842041, -11.769599914550781, -11.3774995803833, -11.809100151062012, -11.826899528503418, -11.4576997756958, -11.866499900817871, -11.867400169372559, -11.882599830627441, -11.896699905395508, -11.497400283813477, -11.901599884033203, -11.923299789428711, -11.928899765014648, -11.930500030517578, -11.936599731445312, -11.934399604797363, -11.536800384521484, -11.031700134277344, -11.950599670410156, -11.945599555969238, -11.54520034790039, -11.9576997756958, -11.967499732971191, -11.968000411987305, -11.062899589538574, -10.8774995803833, -11.97659969329834, -9.904399871826172, -8.408900260925293, -11.572999954223633, -6.894899845123291, -7.164000034332275, -8.599499702453613, -8.757100105285645, -6.0619001388549805, -7.8379998207092285, -7.6743998527526855, -6.482800006866455, -7.4421000480651855, -9.218199729919434, -9.27929973602295, -8.242199897766113, -7.570300102233887, -7.192999839782715, -4.937300205230713, -5.9405999183654785, -5.696100234985352, -6.421000003814697, -5.682799816131592, -4.778900146484375, -7.084199905395508, -4.0630998611450195, -5.377799987792969, -4.9029998779296875, -5.286799907684326, -3.186000108718872, -6.071300029754639, -6.421000003814697, -6.35099983215332, -4.493000030517578, -6.589099884033203, -5.563499927520752, -4.437099933624268, -4.908199787139893, -5.69980001449585, -5.631400108337402, -5.783999919891357, -5.171000003814697, -5.668499946594238, -5.986100196838379, -5.8993000984191895, -5.037499904632568, -5.262599945068359, -5.519599914550781, -5.8003997802734375, -6.070300102233887, -5.948599815368652, -5.8495001792907715, -5.735599994659424, -5.484300136566162, -5.59660005569458, -5.906400203704834, -10.834099769592285, -10.834199905395508, -11.319199562072754, -11.49530029296875, -11.502699851989746, -10.86139965057373, -11.589300155639648, -11.623499870300293, -11.63029956817627, -11.632499694824219, -11.64229965209961, -11.014800071716309, -11.312399864196777, -11.740799903869629, -11.754500389099121, -11.070699691772461, -11.370200157165527, -11.774100303649902, -11.374699592590332, -11.789600372314453, -11.788999557495117, -11.391799926757812, -11.801799774169922, -11.808300018310547, -11.82129955291748, -11.860400199890137, -11.858699798583984, -11.864399909973145, -11.868599891662598, -11.188699722290039, -9.794899940490723, -6.034299850463867, -7.769000053405762, -5.558300018310547, -7.434299945831299, -5.767600059509277, -5.63040018081665, -6.671599864959717, -6.456699848175049, -6.024600028991699, -5.934299945831299, -6.583799839019775, -6.132199764251709, -8.41919994354248, -4.413599967956543, -8.691499710083008, -5.822199821472168, -6.211699962615967, -5.607999801635742, -6.788599967956543, -4.398399829864502, -3.258699893951416, -7.263700008392334, -4.955699920654297, -4.880000114440918, -5.032199859619141, -5.785099983215332, -6.245800018310547, -5.5731000900268555, -5.762899875640869, -5.789400100708008, -4.950099945068359, -5.070199966430664, -5.836299896240234, -5.770699977874756, -5.527200222015381, -4.4644999504089355, -5.544099807739258, -5.455900192260742, -5.240200042724609, -5.365200042724609, -5.361499786376953, -5.439799785614014, -5.841000080108643, -5.797800064086914, -5.829899787902832, -5.8302001953125, -8.416799545288086, -10.041600227355957, -11.45419979095459, -10.560600280761719, -11.507100105285645, -11.104900360107422, -11.2322998046875, -11.2524995803833, -11.670100212097168, -11.696000099182129, -11.717300415039062, -11.719300270080566, -11.722299575805664, -11.73169994354248, -11.74470043182373, -11.749699592590332, -11.800600051879883, -11.799799919128418, -11.814599990844727, -11.411600112915039, -11.818599700927734, -11.848699569702148, -11.853699684143066, -10.943300247192383, -10.945899963378906, -11.1697998046875, -11.86240005493164, -11.866600036621094, -11.86620044708252, -11.869400024414062, -11.469499588012695, -7.7754998207092285, -6.316699981689453, -9.119400024414062, -8.168399810791016, -5.937399864196777, -6.721399784088135, -6.6996002197265625, -5.020899772644043, -6.551000118255615, -5.7241997718811035, -5.972899913787842, -5.891600131988525, -6.0416998863220215, -5.59089994430542, -6.2480998039245605, -4.321899890899658, -6.053999900817871, -6.377200126647949, -7.30679988861084, -5.990099906921387, -3.1851999759674072, -6.2652997970581055, -5.021299839019775, -5.764200210571289, -5.9380998611450195, -4.514100074768066, -4.873700141906738, -6.111800193786621, -6.053699970245361, -6.082699775695801, -5.997499942779541, -5.195799827575684, -5.685200214385986, -5.531199932098389, -4.451700210571289, -5.867199897766113, -5.135799884796143, -5.445400238037109, -5.174699783325195, -5.228799819946289, -5.91349983215332, -5.739699840545654, -5.814000129699707, -5.265500068664551, -5.504499912261963, -5.842899799346924, -5.872099876403809, -5.714000225067139, -5.861800193786621, -5.8968000411987305], \"loglift\": [30.0, 29.0, 28.0, 27.0, 26.0, 25.0, 24.0, 23.0, 22.0, 21.0, 20.0, 19.0, 18.0, 17.0, 16.0, 15.0, 14.0, 13.0, 12.0, 11.0, 10.0, 9.0, 8.0, 7.0, 6.0, 5.0, 4.0, 3.0, 2.0, 1.0, 1.09, 0.9918, 0.9792, 0.9637, 0.9607, 0.9113, 0.879, 0.8038, 0.7956, 0.7916, 0.7653, 0.7627, 0.7614, 0.7514, 0.7485, 0.746, 0.7396, 0.7395, 0.6998, 0.6931, 0.6827, 0.6691, 0.6595, 0.6527, 0.6356, 0.6336, 0.6312, 0.6297, 0.6187, 0.6182, 0.4919, 0.3494, 0.591, 0.3335, 0.4399, 0.2204, 0.3574, 0.3596, 0.4222, 0.2317, 0.2965, 0.3089, 0.2684, 0.3301, 0.3363, 0.3028, 0.3671, 0.3608, 0.2497, 0.3326, 0.1245, 0.303, 0.0498, 0.256, -0.0052, 0.0456, 0.2324, 0.1546, 0.3027, 0.1985, -0.0258, 0.1701, 0.0157, -0.0421, 0.0149, 0.1642, 0.0787, -0.0271, 0.1283, 0.0782, 0.0961, -0.0419, -0.1362, -0.1729, 0.0538, 0.0486, -0.0351, -0.0526, 0.0754, -0.1593, -0.062, -0.1775, 0.0036, 1.0293, 0.9926, 0.8984, 0.8873, 0.8403, 0.8209, 0.8102, 0.8034, 0.7656, 0.7606, 0.7553, 0.7548, 0.7293, 0.7251, 0.715, 0.7061, 0.683, 0.6466, 0.6465, 0.636, 0.6255, 0.619, 0.6172, 0.5984, 0.5951, 0.5891, 0.5858, 0.5854, 0.5809, 0.58, 0.5406, 0.532, 0.5162, 0.4608, 0.4577, 0.239, 0.4048, 0.2209, 0.2721, 0.3025, 0.2905, 0.3862, 0.3736, 0.314, 0.4077, 0.4423, 0.2363, 0.3549, 0.257, 0.2353, 0.2851, 0.2367, 0.3275, 0.3291, 0.1769, 0.0485, 0.3297, 0.2138, 0.2856, 0.21, 0.0405, 0.1398, 0.249, -0.0982, -0.0465, 0.1818, -0.0615, -0.0288, 0.0567, 0.059, 0.1513, 0.0492, 0.057, -0.1671, 0.0182, 0.0801, -0.2049, 0.0738, -0.1254, -0.2757, 0.0237, -0.2695, -0.1798, 0.0051, -0.2206, 0.0203, -0.0269, 1.2649, 1.2457, 1.1657, 1.0011, 0.9274, 0.9206, 0.8979, 0.8917, 0.89, 0.854, 0.8522, 0.8431, 0.8251, 0.7803, 0.7615, 0.7299, 0.7078, 0.7035, 0.7001, 0.6999, 0.6967, 0.6916, 0.6848, 0.6848, 0.6841, 0.6786, 0.6721, 0.6701, 0.6606, 0.6563, 0.6244, 0.6486, 0.5949, 0.452, 0.4219, 0.4682, 0.3924, 0.4082, 0.3403, 0.3746, 0.3434, 0.3824, 0.3243, 0.2711, 0.2688, 0.2595, 0.0275, 0.3026, 0.0878, 0.113, 0.181, 0.2365, 0.1522, 0.3067, 0.3878, 0.3626, 0.317, 0.0585, 0.0682, 0.0387, 0.1144, 0.2325, 0.2119, 0.1328, 0.2087, -0.029, 0.1718, 0.1384, -0.0529, -0.1869, 0.1466, 0.0605, 0.0486, -0.0895, -0.1755, 0.0861, -0.2266, 0.099, -0.0906, -0.2181, 1.2671, 1.034, 1.0189, 0.9948, 0.9832, 0.922, 0.9051, 0.8934, 0.878, 0.876, 0.8345, 0.7964, 0.7941, 0.7705, 0.7687, 0.7528, 0.7499, 0.7488, 0.7442, 0.7289, 0.7245, 0.7183, 0.7036, 0.6724, 0.6713, 0.6613, 0.6596, 0.6553, 0.6529, 0.649, 0.3491, 0.5154, 0.5388, 0.4399, 0.5285, 0.4586, 0.2266, 0.3248, 0.2509, 0.361, 0.2811, 0.3297, 0.1946, 0.3533, 0.3247, 0.3816, 0.3335, 0.2445, 0.3532, 0.2359, 0.1673, 0.1939, 0.1668, 0.0087, 0.1728, 0.2209, 0.0693, 0.1846, -0.1713, 0.2757, 0.1678, -0.0457, 0.0054, 0.2278, 0.0675, 0.1068, 0.115, -0.0732, -0.1304, -0.0871, 0.0179, -0.0328, -0.2906, -0.0612, -0.2674, 1.0584, 1.0229, 0.9601, 0.9103, 0.8852, 0.8843, 0.8807, 0.8726, 0.8487, 0.8187, 0.8179, 0.8179, 0.8161, 0.8074, 0.7995, 0.7642, 0.7537, 0.7536, 0.7341, 0.7197, 0.7071, 0.7025, 0.7008, 0.6702, 0.6594, 0.6564, 0.6544, 0.6526, 0.6507, 0.6504, 0.648, 0.6112, 0.5326, 0.4775, 0.5454, 0.4094, 0.4364, 0.3183, 0.4348, 0.4879, 0.2467, 0.369, 0.4702, 0.2091, 0.2083, 0.2352, 0.1308, 0.3329, 0.0773, 0.1797, 0.3057, 0.1994, 0.3282, 0.1165, 0.1881, 0.2582, 0.2776, 0.222, -0.0011, 0.1876, -0.1966, 0.1543, 0.1205, 0.1969, 0.1319, -0.0172, 0.1562, -0.0552, 0.1603, -0.0864, 0.0698, -0.3635, 0.0929, 0.1418, -0.0361, -0.2485, 0.0563, -0.2694, -0.1036, 0.0146, -0.171, 1.0908, 1.0093, 0.8892, 0.8763, 0.8703, 0.8695, 0.8555, 0.8269, 0.8014, 0.7979, 0.7957, 0.7923, 0.7858, 0.7742, 0.7339, 0.7251, 0.7247, 0.7185, 0.7094, 0.7082, 0.7075, 0.7044, 0.6982, 0.6952, 0.6936, 0.6808, 0.6669, 0.661, 0.6545, 0.6517, 0.6431, 0.6499, 0.5546, 0.5322, 0.5844, 0.4722, 0.3813, 0.2429, 0.4435, 0.3833, 0.4896, 0.4402, 0.5023, 0.35, 0.2309, 0.3578, 0.296, 0.188, -0.0199, 0.3701, 0.4251, 0.0719, 0.2792, 0.1858, 0.3062, 0.2061, 0.3154, 0.1534, 0.3541, 0.4218, 0.4083, 0.0732, 0.2399, 0.1507, 0.0371, 0.2612, 0.2172, 0.1778, 0.2207, 0.2408, 0.0268, -0.0254, 0.046, 0.0314, 0.0994, 0.0788, 0.101, -0.1053, 0.0906, 0.0707, -0.1691, 0.0, 0.052, -0.4651, 0.0134, -0.2054, -0.3508, 0.0233, -0.0533, 1.1876, 1.1161, 1.0268, 0.8795, 0.8755, 0.8676, 0.8672, 0.8499, 0.8496, 0.8452, 0.7952, 0.7816, 0.7709, 0.7704, 0.7691, 0.7613, 0.758, 0.7562, 0.75, 0.7424, 0.7241, 0.7148, 0.7114, 0.6894, 0.6869, 0.6859, 0.6798, 0.6777, 0.675, 0.6743, 0.6702, 0.5689, 0.5291, 0.3953, 0.3859, 0.4273, 0.3914, 0.4258, 0.3029, 0.4084, 0.2893, 0.2342, 0.3079, 0.3214, 0.3177, 0.2619, 0.1878, 0.2755, 0.2596, 0.1302, 0.2117, 0.2799, 0.2238, 0.2874, 0.1999, 0.2441, 0.2989, 0.3126, -0.1335, 0.1447, 0.1024, 0.0539, 0.1976, -0.0407, 0.0223, -0.1347, -0.093, -0.0062, 0.142, 0.1104, -0.0749, -0.0617, -0.1787, 0.1469, 0.0865, 0.1475, -0.046, -0.0753, -0.2311, -0.0913, 0.9299, 0.8866, 0.8239, 0.82, 0.8086, 0.7788, 0.7648, 0.7293, 0.7231, 0.721, 0.7083, 0.6933, 0.6901, 0.6872, 0.6669, 0.6611, 0.6602, 0.6537, 0.6531, 0.6482, 0.6461, 0.6441, 0.6437, 0.64, 0.6318, 0.6234, 0.6195, 0.6171, 0.6147, 0.613, 0.6055, 0.5716, 0.6127, 0.4376, 0.4474, 0.4965, 0.5023, 0.3543, 0.445, 0.428, 0.3469, 0.3971, 0.5104, 0.5101, 0.4384, 0.3946, 0.3658, 0.1881, 0.2626, 0.2353, 0.2964, 0.2257, 0.1387, 0.3268, 0.0526, 0.1717, 0.1033, 0.1379, -0.0917, 0.2143, 0.2492, 0.2385, 0.0255, 0.2539, 0.1266, -0.0346, 0.0149, 0.1301, 0.1173, 0.1374, 0.0415, 0.1183, 0.1669, 0.1378, -0.0161, 0.0149, 0.036, 0.0646, 0.1487, 0.0981, 0.0525, -0.0127, -0.3944, -0.3063, -0.036, 1.7532, 1.7531, 1.2722, 1.0935, 1.084, 1.0356, 0.9992, 0.9622, 0.9593, 0.9568, 0.9488, 0.8828, 0.8705, 0.8496, 0.8364, 0.8271, 0.8149, 0.8148, 0.8088, 0.7988, 0.7985, 0.792, 0.7865, 0.7846, 0.7661, 0.7281, 0.7268, 0.7266, 0.7224, 0.7079, 0.6571, 0.4922, 0.5121, 0.3821, 0.4852, 0.3307, 0.3144, 0.3957, 0.3723, 0.3256, 0.2848, 0.3477, 0.3014, 0.5224, 0.1049, 0.5349, 0.2149, 0.2588, 0.1761, 0.3167, 0.0041, -0.1644, 0.3673, 0.0505, 0.0376, 0.0577, 0.1584, 0.2262, 0.117, 0.1391, 0.142, -0.0269, -0.0488, 0.1179, 0.0943, 0.0284, -0.3488, 0.0054, -0.0311, -0.1149, -0.0876, -0.1489, -0.1496, 0.0803, -0.011, 0.0405, -0.0004, 1.2045, 1.163, 1.1295, 1.1101, 1.0793, 1.0745, 0.9532, 0.9273, 0.9178, 0.8908, 0.8707, 0.8669, 0.866, 0.8559, 0.8419, 0.8358, 0.7859, 0.784, 0.7717, 0.7685, 0.7663, 0.7385, 0.7336, 0.7296, 0.7268, 0.726, 0.7259, 0.7207, 0.7203, 0.72, 0.7132, 0.588, 0.4976, 0.6116, 0.5511, 0.4128, 0.4259, 0.4214, 0.2693, 0.3806, 0.3129, 0.3334, 0.3118, 0.3208, 0.2741, 0.3067, 0.0806, 0.2667, 0.3017, 0.3978, 0.241, -0.0909, 0.2612, 0.104, 0.1961, 0.2149, 0.0044, 0.0495, 0.2286, 0.2181, 0.2126, 0.184, 0.0167, 0.0989, 0.0245, -0.336, 0.128, -0.1296, -0.0207, -0.1534, -0.1389, 0.1332, 0.0471, 0.0564, -0.3479, -0.2269, 0.0592, 0.0817, -0.1645, -0.1717, -0.1482]}, \"token.table\": {\"Topic\": [1, 2, 3, 4, 5, 6, 7, 8, 9, 10, 1, 2, 3, 4, 5, 6, 7, 8, 9, 10, 1, 2, 3, 4, 5, 6, 7, 8, 9, 10, 9, 9, 1, 2, 3, 4, 5, 6, 7, 8, 9, 10, 1, 2, 3, 4, 5, 6, 7, 8, 9, 10, 1, 2, 3, 4, 5, 6, 7, 8, 9, 10, 1, 2, 3, 4, 9, 10, 5, 7, 4, 1, 2, 3, 4, 5, 6, 7, 8, 9, 10, 1, 2, 3, 4, 5, 6, 7, 8, 9, 10, 1, 2, 3, 4, 5, 6, 7, 8, 9, 10, 4, 1, 2, 3, 4, 5, 6, 7, 8, 9, 10, 10, 1, 2, 3, 4, 5, 6, 7, 8, 9, 10, 10, 4, 3, 7, 5, 4, 5, 2, 6, 4, 3, 8, 10, 1, 1, 2, 3, 4, 5, 6, 7, 8, 9, 10, 9, 1, 2, 4, 6, 7, 9, 3, 10, 8, 8, 2, 1, 6, 9, 2, 4, 7, 6, 9, 9, 5, 9, 8, 8, 10, 7, 1, 2, 10, 6, 4, 1, 2, 3, 4, 6, 7, 8, 10, 3, 8, 3, 10, 2, 5, 1, 2, 3, 4, 5, 6, 7, 8, 9, 10, 6, 7, 3, 7, 1, 2, 3, 4, 5, 6, 7, 8, 9, 10, 1, 7, 10, 9, 5, 1, 3, 4, 1, 2, 3, 4, 5, 6, 7, 8, 9, 10, 9, 2, 1, 2, 3, 4, 5, 6, 7, 8, 9, 10, 3, 7, 1, 2, 3, 4, 5, 6, 7, 8, 9, 10, 4, 1, 2, 3, 4, 5, 6, 7, 8, 9, 10, 1, 4, 1, 2, 3, 4, 5, 6, 7, 8, 9, 10, 1, 2, 8, 9, 10, 1, 2, 3, 4, 5, 6, 7, 8, 9, 10, 1, 2, 3, 4, 5, 6, 7, 8, 9, 10, 3, 1, 3, 8, 1, 2, 3, 4, 5, 6, 7, 8, 9, 10, 1, 2, 3, 4, 5, 6, 7, 8, 9, 10, 1, 2, 3, 4, 5, 6, 7, 8, 9, 10, 1, 2, 3, 4, 5, 6, 7, 8, 9, 10, 1, 2, 3, 4, 5, 6, 7, 8, 9, 10, 1, 2, 3, 4, 5, 6, 7, 8, 9, 10, 1, 2, 3, 4, 5, 6, 7, 8, 9, 10, 1, 2, 3, 4, 5, 6, 7, 8, 9, 10, 1, 2, 3, 4, 5, 6, 7, 8, 9, 10, 1, 5, 1, 2, 3, 4, 5, 6, 7, 8, 9, 10, 1, 2, 3, 4, 5, 6, 7, 8, 9, 10, 1, 2, 3, 4, 5, 6, 7, 8, 9, 10, 1, 2, 3, 4, 5, 6, 7, 8, 9, 10, 1, 2, 3, 4, 5, 6, 7, 8, 9, 10, 1, 2, 3, 4, 5, 6, 7, 8, 9, 10, 1, 2, 3, 4, 5, 6, 7, 8, 9, 10, 1, 2, 3, 4, 5, 6, 7, 8, 9, 10, 1, 2, 3, 4, 5, 6, 7, 8, 9, 10, 1, 2, 3, 4, 5, 6, 7, 8, 9, 10, 1, 2, 3, 4, 5, 6, 7, 8, 9, 10, 1, 2, 3, 4, 5, 6, 7, 8, 9, 10, 1, 2, 3, 4, 5, 6, 7, 8, 9, 10, 1, 2, 3, 4, 5, 6, 7, 8, 9, 10, 1, 2, 3, 4, 5, 6, 7, 8, 9, 10, 1, 2, 3, 4, 5, 6, 7, 8, 9, 10, 1, 2, 3, 4, 5, 6, 7, 8, 9, 10, 1, 2, 3, 4, 5, 6, 7, 8, 9, 10, 1, 2, 3, 4, 5, 6, 7, 8, 9, 10, 1, 2, 3, 4, 5, 6, 7, 8, 9, 10, 1, 2, 3, 4, 5, 6, 7, 8, 9, 10, 1, 2, 3, 4, 5, 6, 7, 8, 9, 10, 1, 2, 3, 4, 5, 6, 7, 8, 9, 10, 1, 2, 3, 4, 5, 6, 7, 8, 9, 10, 1, 1, 2, 3, 4, 5, 6, 7, 8, 9, 10, 1, 2, 3, 4, 5, 6, 7, 8, 9, 10, 1, 2, 3, 4, 5, 6, 7, 8, 9, 10, 1, 2, 3, 4, 5, 6, 7, 8, 9, 10, 1, 2, 3, 4, 5, 6, 7, 8, 9, 10, 4, 1, 2, 3, 4, 5, 6, 7, 8, 9, 10, 1, 2, 3, 4, 5, 6, 7, 8, 9, 10, 1, 2, 3, 4, 5, 6, 7, 8, 9, 10, 1, 2, 3, 4, 5, 6, 7, 8, 9, 10, 1, 2, 3, 4, 5, 6, 7, 8, 9, 10, 1, 2, 3, 4, 5, 6, 7, 8, 9, 10, 1, 2, 3, 4, 5, 6, 7, 8, 9, 10, 1, 2, 3, 4, 5, 6, 7, 8, 9, 10, 5, 1, 2, 3, 4, 5, 6, 7, 8, 9, 10, 2, 10, 1, 2, 3, 4, 5, 6, 7, 8, 9, 10, 1, 2, 3, 4, 5, 6, 7, 8, 9, 10, 1, 2, 3, 4, 5, 6, 7, 8, 9, 10, 1, 3, 7, 1, 2, 3, 4, 5, 6, 7, 8, 9, 10, 1, 2, 3, 4, 5, 6, 7, 8, 9, 10, 1, 2, 3, 4, 5, 6, 7, 8, 9, 10, 1, 2, 3, 4, 5, 6, 7, 8, 9, 10, 1, 2, 3, 4, 5, 6, 7, 8, 9, 10, 1, 2, 3, 4, 5, 6, 7, 8, 9, 10, 1, 2, 3, 4, 5, 6, 7, 8, 9, 10, 1, 2, 3, 4, 5, 6, 7, 8, 9, 10, 9, 1, 2, 3, 4, 5, 6, 7, 8, 9, 10, 1, 2, 3, 4, 5, 6, 7, 8, 9, 10, 1, 2, 3, 4, 5, 6, 7, 8, 9, 10, 1, 2, 3, 4, 5, 6, 7, 8, 9, 10, 1, 2, 3, 4, 5, 6, 7, 8, 9, 10, 1, 2, 3, 4, 5, 6, 7, 8, 9, 10, 1, 2, 3, 4, 5, 6, 7, 8, 9, 10, 1, 2, 3, 4, 5, 6, 7, 8, 9, 10, 1, 2, 3, 4, 5, 6, 7, 8, 9, 10, 1, 2, 3, 4, 5, 6, 7, 8, 9, 10, 1, 2, 3, 4, 5, 6, 7, 8, 9, 10, 10, 1, 2, 3, 4, 5, 6, 7, 8, 9, 10, 1, 2, 3, 4, 5, 6, 7, 8, 9, 10, 1, 2, 3, 4, 5, 6, 7, 8, 9, 10, 1, 2, 3, 4, 5, 6, 7, 8, 9, 10, 1, 2, 3, 4, 5, 8, 1, 4, 5, 1, 2, 3, 4, 5, 6, 7, 8, 9, 10, 1, 2, 3, 4, 5, 6, 7, 8, 9, 10, 1, 2, 3, 4, 5, 6, 7, 8, 9, 10, 1, 2, 3, 4, 5, 6, 7, 8, 9, 10, 7, 1, 2, 3, 4, 5, 6, 7, 8, 9, 10, 5, 6, 1, 2, 3, 4, 5, 6, 7, 8, 9, 10, 1, 2, 3, 4, 5, 6, 7, 8, 9, 10, 1, 2, 3, 4, 5, 6, 7, 8, 9, 10, 1, 2, 3, 4, 7, 10, 1, 2, 3, 4, 5, 6, 7, 8, 9, 10, 1, 2, 3, 4, 5, 6, 7, 8, 9, 10, 1, 2, 3, 4, 5, 6, 7, 8, 9, 10, 1, 2, 3, 4, 5, 6, 7, 8, 9, 10, 1, 2, 3, 4, 5, 6, 7, 8, 9, 10, 1, 2, 3, 4, 5, 6, 7, 8, 9, 10, 1, 2, 3, 4, 5, 6, 7, 8, 9, 10, 1, 2, 3, 4, 5, 6, 7, 8, 9, 10, 1, 2, 3, 4, 5, 6, 7, 8, 9, 10, 1, 2, 3, 4, 5, 6, 7, 8, 9, 10, 1, 2, 3, 4, 5, 6, 7, 8, 9, 10, 8, 2, 5, 1, 2, 3, 4, 5, 6, 7, 8, 9, 10, 1, 3, 5, 1, 2, 3, 4, 5, 6, 7, 8, 9, 10, 1, 2, 3, 4, 5, 6, 7, 8, 9, 10, 1, 2, 3, 4, 5, 6, 7, 8, 9, 10, 1, 2, 3, 4, 5, 6, 7, 8, 9, 10, 1, 2, 3, 4, 5, 6, 7, 8, 9, 10, 1, 2, 3, 4, 5, 6, 7, 8, 9, 10, 1, 2, 3, 4, 5, 6, 7, 8, 9, 10, 1, 2, 3, 4, 5, 6, 7, 8, 9, 10, 1, 2, 3, 4, 5, 6, 7, 8, 9, 10, 1, 2, 3, 4, 5, 6, 7, 8, 9, 10, 1, 2, 3, 4, 5, 6, 7, 8, 9, 10, 1, 2, 3, 4, 5, 6, 7, 8, 9, 10, 1, 2, 3, 4, 5, 6, 7, 8, 9, 10, 1, 2, 3, 4, 5, 6, 7, 8, 9, 10, 1, 2, 3, 4, 5, 6, 7, 8, 9, 10, 1, 2, 3, 4, 5, 6, 7, 8, 9, 10, 1, 2, 3, 4, 5, 6, 7, 8, 9, 10, 1, 2, 3, 4, 5, 6, 7, 8, 9, 10, 1, 2, 3, 4, 5, 6, 7, 8, 9, 10, 1, 1, 2, 3, 4, 5, 6, 7, 8, 9, 10, 1, 2, 3, 4, 5, 6, 7, 8, 9, 10, 1, 2, 3, 4, 5, 6, 7, 8, 9, 10, 1, 2, 3, 4, 5, 6, 7, 8, 9, 10, 1, 2, 3, 4, 5, 6, 7, 8, 9, 10, 2, 5, 6, 7, 1, 2, 3, 4, 5, 6, 7, 8, 9, 10, 1, 2, 3, 4, 5, 6, 7, 8, 9, 10, 1, 2, 3, 4, 5, 6, 7, 8, 9, 10, 1, 2, 3, 4, 5, 6, 7, 8, 9, 10, 6, 1, 2, 3, 4, 5, 6, 7, 8, 9, 10, 1, 1, 2, 3, 4, 5, 6, 7, 8, 9, 10, 1, 2, 3, 4, 5, 6, 7, 8, 9, 10, 9, 3, 3, 1, 2, 3, 4, 5, 6, 7, 8, 9, 10, 6, 1, 2, 3, 4, 5, 6, 7, 8, 9, 10, 1, 2, 3, 4, 5, 6, 7, 8, 9, 10, 1, 2, 3, 4, 5, 6, 7, 8, 9, 10, 1, 2, 3, 4, 5, 6, 7, 8, 9, 10, 1, 2, 3, 4, 5, 6, 7, 8, 9, 10, 1, 2, 3, 4, 5, 6, 7, 8, 9, 10, 1, 2, 3, 4, 5, 6, 7, 8, 9, 10, 1, 2, 3, 4, 5, 6, 7, 8, 9, 10, 1, 2, 3, 4, 5, 6, 7, 8, 9, 10, 1, 2, 3, 4, 5, 6, 7, 8, 9, 10, 1, 2, 3, 4, 5, 6, 7, 8, 9, 10, 1, 2, 3, 4, 5, 6, 7, 8, 9, 10, 10, 1, 2, 3, 4, 5, 6, 7, 8, 9, 10, 1, 2, 3, 4, 5, 6, 7, 8, 9, 10, 1, 2, 3, 4, 5, 6, 7, 8, 9, 10, 1, 2, 3, 4, 5, 6, 7, 8, 9, 10, 1, 2, 3, 4, 5, 6, 7, 8, 9, 10, 1, 2, 3, 4, 5, 6, 7, 8, 9, 10, 7, 1, 3, 4, 1, 2, 3, 4, 5, 6, 7, 8, 9, 10, 1, 2, 3, 4, 5, 6, 7, 8, 9, 10, 1, 2, 3, 4, 5, 6, 7, 8, 9, 10, 6, 1, 2, 3, 4, 5, 6, 7, 8, 9, 10, 1, 2, 3, 4, 5, 6, 7, 8, 9, 10, 1, 2, 3, 4, 5, 6, 7, 8, 9, 10, 1, 2, 3, 4, 5, 6, 7, 8, 9, 10, 1, 2, 3, 4, 5, 6, 7, 8, 9, 10, 1, 2, 3, 4, 5, 6, 7, 8, 9, 10, 1, 2, 3, 4, 5, 6, 7, 8, 9, 10, 1, 2, 3, 4, 5, 6, 7, 8, 9, 10, 1, 2, 3, 4, 5, 6, 7, 8, 9, 10, 1, 2, 3, 4, 5, 6, 7, 8, 9, 10, 1, 2, 3, 4, 5, 6, 7, 8, 9, 10, 1, 2, 3, 4, 5, 6, 7, 8, 9, 10, 1, 2, 3, 4, 5, 6, 7, 8, 9, 10, 1, 2, 3, 4, 5, 6, 7, 8, 9, 10, 2, 1, 1, 2, 3, 4, 5, 6, 7, 8, 9, 10, 3, 8, 3, 5, 8, 1, 2, 3, 4, 5, 6, 7, 8, 9, 10, 1, 2, 3, 4, 5, 6, 7, 8, 9, 10, 1, 2, 3, 4, 5, 6, 7, 8, 9, 10, 2, 3, 6, 8, 1, 2, 3, 4, 5, 6, 7, 8, 9, 10, 1, 2, 3, 4, 5, 6, 7, 8, 9, 10, 1, 2, 3, 4, 5, 6, 7, 8, 9, 10, 1, 2, 3, 4, 5, 6, 7, 8, 9, 10, 6, 2, 1, 2, 3, 4, 5, 6, 7, 8, 9, 10, 1, 2, 3, 4, 5, 6, 7, 8, 9, 10, 1, 2, 3, 4, 5, 6, 7, 8, 9, 10, 1, 2, 3, 4, 5, 6, 7, 8, 9, 10, 4, 1, 2, 3, 4, 5, 6, 7, 8, 9, 10, 1, 2, 3, 4, 5, 6, 7, 8, 9, 10, 10, 7, 1, 2, 3, 4, 5, 6, 7, 8, 9, 10, 4, 9, 1, 2, 3, 4, 5, 6, 7, 8, 9, 10, 1, 2, 3, 4, 5, 6, 7, 8, 9, 10, 1, 2, 3, 4, 5, 6, 7, 8, 9, 10, 1, 2, 3, 4, 5, 6, 7, 8, 9, 10, 9, 1, 2, 3, 4, 5, 6, 7, 8, 9, 10, 1, 2, 3, 4, 5, 6, 7, 8, 9, 10, 1, 2, 3, 4, 5, 6, 7, 8, 9, 10, 1, 2, 3, 4, 5, 6, 7, 8, 9, 10, 1, 3, 8, 1, 2, 3, 4, 5, 6, 7, 8, 9, 10, 1, 2, 3, 4, 5, 6, 7, 8, 9, 10, 1, 2, 3, 4, 5, 6, 7, 8, 9, 10, 1, 2, 3, 4, 5, 6, 7, 8, 9, 10, 3, 1, 2, 3, 4, 5, 6, 7, 8, 9, 10, 4, 1, 2, 3, 4, 5, 6, 7, 8, 9, 10, 1, 2, 3, 4, 5, 6, 7, 8, 9, 10, 1, 2, 3, 4, 5, 6, 7, 8, 9, 10, 1, 2, 3, 4, 5, 6, 7, 8, 9, 10, 1, 2, 3, 4, 5, 6, 7, 8, 9, 10, 1, 2, 3, 4, 5, 6, 7, 8, 9, 10, 1, 2, 3, 4, 5, 6, 7, 8, 9, 10, 1, 2, 3, 4, 5, 6, 7, 8, 9, 10, 1, 2, 3, 4, 5, 6, 7, 8, 9, 10, 1, 2, 3, 4, 5, 6, 7, 8, 9, 10, 2, 7, 1, 2, 3, 5, 1, 2, 3, 4, 5, 6, 7, 8, 9, 10, 1, 2, 3, 4, 5, 6, 7, 8, 9, 10, 1, 2, 3, 4, 5, 6, 7, 8, 9, 10, 1, 2, 3, 4, 5, 6, 7, 8, 9, 10, 1, 2, 3, 4, 5, 6, 7, 8, 9, 10], \"Freq\": [0.1584340304662155, 0.13440388755535454, 0.10793931840189006, 0.08328093646067981, 0.08092504009686992, 0.09635616127982473, 0.08591168740026753, 0.08858170327925208, 0.08072871539988576, 0.0833987312788703, 0.1111286607098166, 0.09587570727905746, 0.08715973389005224, 0.12405735457017435, 0.09834523307260894, 0.10560854423011329, 0.08948399346045363, 0.09384198015495625, 0.09558517483275729, 0.09907156418835937, 0.10607840767751206, 0.11206231785419223, 0.11043034235146128, 0.13110203205272003, 0.08323075063927869, 0.11859021986511604, 0.09356659548990807, 0.09574256282688268, 0.08268675880503504, 0.0674549874462128, 0.520945540242863, 0.5209134531123545, 0.10873566969465856, 0.13905619297489988, 0.08364282284204505, 0.09061305807888213, 0.12128209312096531, 0.10559906383808187, 0.09235561688809141, 0.09862882860124478, 0.08712794046046358, 0.07283895822494756, 0.14477318084944574, 0.10463804160405484, 0.09030406330212952, 0.10893823509463244, 0.08457047198135939, 0.1032046437738623, 0.12040541773617269, 0.0630695045284714, 0.08887066547193698, 0.09173746113232205, 0.10763557305011548, 0.0796996227928336, 0.08462949636764805, 0.13639316890319977, 0.11503038341233715, 0.0796996227928336, 0.12735506734937327, 0.07805633160122878, 0.10106240828369621, 0.08873772434666008, 0.17532928634607187, 0.17532928634607187, 0.17532928634607187, 0.17532928634607187, 0.17532928634607187, 0.17532928634607187, 0.2614607840054968, 0.2614607840054968, 0.3483762260668646, 0.1324407101746591, 0.12277350505242123, 0.12954054863798775, 0.09667205122237892, 0.09377188968570754, 0.07540419995345556, 0.08120452302679829, 0.08700484610014102, 0.08217124353902208, 0.09860549224682649, 0.09132257591939562, 0.09834738945165682, 0.12176343455919417, 0.10537220298391803, 0.13581306162371656, 0.07961455336562695, 0.08429776238713442, 0.06556492630110455, 0.1170802255376867, 0.09600578494090309, 0.07398085250723023, 0.10842021488128568, 0.09183829966414787, 0.12372659815864366, 0.09311383160392771, 0.13010425785754282, 0.10714468294150585, 0.10714468294150585, 0.07780744832656973, 0.08546063996524872, 0.3475614002816694, 0.09783823568868148, 0.13441327706762785, 0.08137946706815563, 0.09692385965420783, 0.08960885137841856, 0.14355703741236442, 0.10515324396447076, 0.0996669877576288, 0.08778009930947124, 0.06309194637868246, 0.5204416475662604, 0.06964891176936586, 0.06964891176936586, 0.06964891176936586, 0.06964891176936586, 0.06964891176936586, 0.20894673530809757, 0.1392978235387317, 0.06964891176936586, 0.06964891176936586, 0.06964891176936586, 0.34644290176813775, 0.5198757983067224, 0.5235022367736647, 0.34766489754202295, 0.5207764508685758, 0.34784950388070424, 0.2611066871829143, 0.5255938035891042, 0.3481707703329615, 0.34820739298486103, 0.5253406594812242, 0.34927673766186945, 0.5190694715225237, 0.5247859845595021, 0.1231555202976021, 0.1231555202976021, 0.1231555202976021, 0.06157776014880105, 0.1231555202976021, 0.1231555202976021, 0.06157776014880105, 0.06157776014880105, 0.18473328044640316, 0.06157776014880105, 0.5217053319891531, 0.1744006023286086, 0.1744006023286086, 0.1744006023286086, 0.1744006023286086, 0.1744006023286086, 0.1744006023286086, 0.3484930525640706, 0.2608906814343825, 0.3487810304983864, 0.34839423428065946, 0.3501057723008854, 0.2629118139178133, 0.5211190001356322, 0.3479571688783266, 0.2617216271525873, 0.2617216271525873, 0.2617216271525873, 0.3483959308866372, 0.2610967333987084, 0.3484422976091416, 0.2612072784389095, 0.2612072784389095, 0.3481355964453527, 0.208317472219035, 0.208317472219035, 0.2613795222186315, 0.5253016535727768, 0.3485915847411061, 0.3485915847411061, 0.34845038908198317, 0.34843446997052135, 0.1500047983978593, 0.1500047983978593, 0.1500047983978593, 0.1500047983978593, 0.1500047983978593, 0.1500047983978593, 0.1500047983978593, 0.1500047983978593, 0.5225894992120113, 0.3491146275139862, 0.20873602327437443, 0.20873602327437443, 0.3490960364640539, 0.34798080979894336, 0.088716958346325, 0.124203741684855, 0.10646035001559, 0.159690525023385, 0.07097356667706, 0.088716958346325, 0.088716958346325, 0.088716958346325, 0.10646035001559, 0.088716958346325, 0.348117911328858, 0.5208833670640565, 0.26226748977789244, 0.26226748977789244, 0.14971707972818604, 0.11977366378254885, 0.08983024783691164, 0.08983024783691164, 0.08983024783691164, 0.059886831891274424, 0.059886831891274424, 0.08983024783691164, 0.059886831891274424, 0.17966049567382328, 0.20876928757684876, 0.20876928757684876, 0.20876928757684876, 0.5205998935436925, 0.5212496982186953, 0.3506463362193442, 0.3492796211363146, 0.2610741435812613, 0.10497950413328111, 0.16796720661324976, 0.10497950413328111, 0.08398360330662488, 0.10497950413328111, 0.08398360330662488, 0.094481553719953, 0.08398360330662488, 0.094481553719953, 0.08398360330662488, 0.3476366362124087, 0.34949014476124335, 0.10964113477576969, 0.16446170216365455, 0.08614660589524761, 0.101809625148929, 0.08614660589524761, 0.07831509626840692, 0.0939781155220883, 0.08614660589524761, 0.10964113477576969, 0.07831509626840692, 0.3493120947321887, 0.3474995789550752, 0.07761913431172039, 0.15523826862344078, 0.1164287014675806, 0.07761913431172039, 0.194047835779301, 0.07761913431172039, 0.07761913431172039, 0.07761913431172039, 0.07761913431172039, 0.07761913431172039, 0.5214060380542469, 0.08125203955057043, 0.10000251021608669, 0.1312532946586138, 0.10375260434918995, 0.1075026984822932, 0.09375235332758128, 0.0837521023059726, 0.10125254159378778, 0.07500188266206502, 0.12375310639240729, 0.26274469811341644, 0.5210242463672446, 0.10537146925595767, 0.07727241078770229, 0.09834670463889382, 0.09132194002182997, 0.09834670463889382, 0.1264457631071492, 0.10537146925595767, 0.0632228815535746, 0.16156958619246842, 0.07727241078770229, 0.2614080544351348, 0.1307040272175674, 0.1307040272175674, 0.1307040272175674, 0.2614080544351348, 0.09322714023003141, 0.09322714023003141, 0.08286856909336125, 0.08701199754802932, 0.11394428250337173, 0.1180877109580398, 0.13466142477671203, 0.08701199754802932, 0.10358571136670157, 0.08908371177536335, 0.10372747242621376, 0.09542927463211666, 0.15351665919079638, 0.10787657132326231, 0.07883287904392246, 0.09957837352916521, 0.08713107683801956, 0.1182493185658837, 0.08090742849244674, 0.07053468124982536, 0.5225936548747926, 0.210258471797072, 0.210258471797072, 0.210258471797072, 0.15058773412553608, 0.10801319149318557, 0.09697534710702063, 0.07805332815930928, 0.10564793912472166, 0.0985521820193299, 0.11983945333550516, 0.10485952166856702, 0.0843606678085464, 0.053612387018515464, 0.09477134590611165, 0.09234131139569852, 0.07654608707801325, 0.07654608707801325, 0.09112629414049196, 0.07897612158842637, 0.11664165649982972, 0.09841639767173133, 0.15552220866643962, 0.11907169101024284, 0.12232662485021825, 0.09296823488616587, 0.07828903990413968, 0.0978612998801746, 0.07828903990413968, 0.07339597491013095, 0.08807516989215713, 0.09296823488616587, 0.15657807980827937, 0.12232662485021825, 0.1517957239951161, 0.09659727890598298, 0.08028864740237546, 0.1053788497156178, 0.09157923844333452, 0.08656119798068604, 0.11039689017826626, 0.09910629913730722, 0.08781570809634816, 0.0903247283276724, 0.08293082618654436, 0.10615145751877678, 0.1147762634421774, 0.07165223382517433, 0.1147762634421774, 0.08425771940552906, 0.13268932189847096, 0.11145903039471562, 0.102834224471315, 0.07828669992009787, 0.09867697968677493, 0.12235945481160092, 0.06315326699953595, 0.12235945481160092, 0.08683574212436194, 0.09078282131183293, 0.09078282131183293, 0.10262405887424593, 0.08288866293689094, 0.1342006923740139, 0.11108984750362312, 0.14040522392819033, 0.10183236021165452, 0.09257487291968594, 0.0864032147250402, 0.09720361656567024, 0.11726150569826885, 0.07251698378708732, 0.09257487291968594, 0.0864032147250402, 0.11309574117323298, 0.09895877352657885, 0.08482180587992473, 0.08482180587992473, 0.08482180587992473, 0.09895877352657885, 0.07068483823327061, 0.16964361175984946, 0.08482180587992473, 0.11309574117323298, 0.08285923153243818, 0.10091829481514908, 0.103042890495468, 0.10622978401594639, 0.08073463585211926, 0.06798706177020569, 0.1444725062616871, 0.09666910345451121, 0.10622978401594639, 0.11047897537658424, 0.5259964658324586, 0.3474222571371695, 0.11740922449294895, 0.08579904866792423, 0.09483052747507414, 0.08128330926434928, 0.07225183045719935, 0.10837774568579903, 0.09934626687864911, 0.1445036609143987, 0.09934626687864911, 0.09483052747507414, 0.11367951492852534, 0.13568200168888508, 0.0770087036612591, 0.09167702816816559, 0.0770087036612591, 0.09534410929489222, 0.10267827154834547, 0.07334162253453247, 0.13568200168888508, 0.09534410929489222, 0.09077396287489499, 0.08379135034605692, 0.13441529118013298, 0.12045006612245682, 0.08902830974268547, 0.1274326786512949, 0.0995022285359426, 0.09775657540373307, 0.08902830974268547, 0.06808047215617125, 0.12919456253088435, 0.09091469215136305, 0.09091469215136305, 0.09091469215136305, 0.08612970835392289, 0.15311948151808516, 0.10048465974624338, 0.10048465974624338, 0.08134472455648273, 0.07655974075904258, 0.09905221323892663, 0.09480711838582977, 0.08207183382653921, 0.11603259265131405, 0.08065680220884025, 0.1089574345628193, 0.1117874977982172, 0.09339208676813082, 0.09056202353273292, 0.12310775073980881, 0.09039185537964259, 0.12654859753149963, 0.14462696860742816, 0.054235113227785556, 0.09039185537964259, 0.054235113227785556, 0.07231348430371408, 0.07231348430371408, 0.16270533968335665, 0.10847022645557111, 0.12698407658141495, 0.09523805743606122, 0.09523805743606122, 0.09523805743606122, 0.09523805743606122, 0.06349203829070747, 0.12698407658141495, 0.1587300957267687, 0.09523805743606122, 0.09523805743606122, 0.16795731922501983, 0.08108284376380268, 0.09266610715863163, 0.0984577388560461, 0.08108284376380268, 0.05212468527673029, 0.09266610715863163, 0.11583263394828953, 0.11004100225087506, 0.10424937055346058, 0.09134653849063888, 0.14354456048528966, 0.09134653849063888, 0.09569637365685978, 0.11309571432174338, 0.15224423081773147, 0.07394719782575529, 0.07829703299197618, 0.07394719782575529, 0.08699670332441799, 0.1398780507450127, 0.09791463552150888, 0.09791463552150888, 0.08392683044700762, 0.06993902537250635, 0.16785366089401524, 0.09791463552150888, 0.08392683044700762, 0.06993902537250635, 0.08392683044700762, 0.09852117372118344, 0.10708823230563416, 0.06710862557819741, 0.08567058584450733, 0.1028047030134088, 0.1256501925719441, 0.11993882018231027, 0.10994391850045107, 0.08424274274709888, 0.09994901681859189, 0.0843884602741296, 0.12897104306046223, 0.11304869206534345, 0.13056327815997412, 0.09075740067217714, 0.07483504967705834, 0.10190304636876028, 0.10349528146827217, 0.09394187087120089, 0.08120399007510586, 0.1591789013384517, 0.08979322639604967, 0.09795624697750874, 0.07550794037849631, 0.09591549183214397, 0.13264908444870974, 0.06734491979703726, 0.08775247125068492, 0.10407851241360304, 0.08979322639604967, 0.12834774547288638, 0.06978129850953046, 0.06604301466080562, 0.09968756929932923, 0.097195380066846, 0.1221172723916783, 0.11837898854295346, 0.11214851546174538, 0.10467194776429568, 0.08224224467194662, 0.11172884017494594, 0.10505846165703872, 0.10339086702756192, 0.09005010999174748, 0.11339643480442275, 0.0667037851790722, 0.08004454221488665, 0.12506959721076039, 0.10172327239808511, 0.10339086702756192, 0.10474305942383287, 0.10474305942383287, 0.20948611884766574, 0.10474305942383287, 0.10474305942383287, 0.10474305942383287, 0.10474305942383287, 0.10474305942383287, 0.10474305942383287, 0.10474305942383287, 0.09573469518240227, 0.10211700819456243, 0.08297006915808197, 0.08935238217024212, 0.10849932120672258, 0.14679319927968348, 0.07020544313376167, 0.09573469518240227, 0.12126394723104288, 0.08297006915808197, 0.12765791999447162, 0.06068983081704389, 0.07324634753781159, 0.10882314491332008, 0.08789561704537391, 0.14021443671523934, 0.12765791999447162, 0.09208112261896315, 0.08580286425857929, 0.09835938097934699, 0.10864267101334525, 0.06364924160377802, 0.1053504688614257, 0.10864267101334525, 0.11412967459987784, 0.09437646168836053, 0.14595429540176685, 0.07572064949414972, 0.09547386240566705, 0.0866946566672149, 0.1306422962677259, 0.10398060315186347, 0.10131443384027722, 0.10931294177503595, 0.09598209521710474, 0.12264378833296716, 0.08398433331496664, 0.10131443384027722, 0.08398433331496664, 0.06665423278965607, 0.06970280203795214, 0.07572650097950355, 0.19620047981053193, 0.1075660525277039, 0.08433178518171987, 0.10584499568726065, 0.07314491571883866, 0.09121601254349292, 0.08605284202216312, 0.11014763778836881, 0.16020868919765477, 0.0902994430023145, 0.10486386929301039, 0.12234118084184545, 0.11068963980928874, 0.09321232826045368, 0.061170590420922724, 0.05825770516278355, 0.0902994430023145, 0.11068963980928874, 0.09896047265749446, 0.08854358079881083, 0.08854358079881083, 0.15625337788025442, 0.09896047265749446, 0.11458581044551991, 0.09375202672815265, 0.09896047265749446, 0.08333513486946902, 0.07812668894012721, 0.15572374537392938, 0.09376913699935532, 0.11386252349921719, 0.06697795499953953, 0.06697795499953953, 0.08539689262441288, 0.13563035887406752, 0.09376913699935532, 0.10046693249930928, 0.08874579037438987, 0.35048842527094703, 0.1070716401850313, 0.09963241952701425, 0.10919713180160762, 0.08687946982755643, 0.12593537828214602, 0.08289417304647585, 0.10042947888323037, 0.10760301308917539, 0.10016379243115832, 0.08023730852575547, 0.09976957144252177, 0.08058311539588296, 0.0767458241865552, 0.14006112914046326, 0.08250176100054685, 0.11895602748916057, 0.10360686265184953, 0.10936279946584117, 0.08058311539588296, 0.10360686265184953, 0.1710787482910549, 0.06998676066452246, 0.13219721458854242, 0.10109198762653245, 0.10886829436703493, 0.08553937414552745, 0.09331568088602994, 0.06998676066452246, 0.062210453924019964, 0.10109198762653245, 0.09342016931200886, 0.09342016931200886, 0.11210420317441064, 0.11210420317441064, 0.09342016931200886, 0.0747361354496071, 0.09342016931200886, 0.16815630476161594, 0.0747361354496071, 0.09342016931200886, 0.104767955024789, 0.104767955024789, 0.104767955024789, 0.16762872803966242, 0.104767955024789, 0.08381436401983121, 0.08381436401983121, 0.08381436401983121, 0.0628607730148734, 0.104767955024789, 0.34765048047864683, 0.08390774958235636, 0.08390774958235636, 0.09916370405187569, 0.10679168128663537, 0.08390774958235636, 0.10679168128663537, 0.09153572681711603, 0.09153572681711603, 0.08390774958235636, 0.16781549916471272, 0.080186298515715, 0.10023287314464376, 0.11853626737105696, 0.10894877515722147, 0.11330672616351033, 0.09761810254087044, 0.08280106911948831, 0.0862874299245194, 0.1080771849559637, 0.1019760535471593, 0.13825091893150301, 0.10752849250228011, 0.11264889690715059, 0.09728768369253915, 0.07168566166818674, 0.0819264704779277, 0.09216727928766867, 0.14337132333637348, 0.09216727928766867, 0.06144485285844578, 0.10474387549154664, 0.09426948794239197, 0.08379510039323732, 0.08379510039323732, 0.07332071284408265, 0.09426948794239197, 0.10474387549154664, 0.1466414256881653, 0.12569265058985596, 0.08379510039323732, 0.14627319768095887, 0.0927083647273683, 0.08378089256843654, 0.07279323452667437, 0.14833338356378928, 0.10850312316240142, 0.0830941639408264, 0.08996145021692777, 0.10438275139674061, 0.07004632001623383, 0.10609727912424205, 0.1088177221787098, 0.08161329163403234, 0.10337683606977431, 0.09793594996083882, 0.0843337346885001, 0.07345196247062911, 0.14962436799572598, 0.09249506385190333, 0.09793594996083882, 0.10288943574582733, 0.0835976665434847, 0.13289885450502698, 0.1250392448299985, 0.11860865509588428, 0.09645884601171313, 0.08288315657302757, 0.07859609675028477, 0.08859923633668465, 0.09002825627759892, 0.09147835563497256, 0.08004356118060098, 0.16536471980168116, 0.08180276032742738, 0.09763555264886493, 0.10467234923617051, 0.07828436203377459, 0.10027435136910452, 0.07564556331353499, 0.12490313942467406, 0.2088515230866358, 0.13037801184912085, 0.09795596657447174, 0.14762378061223205, 0.07726104405873827, 0.07312205955559158, 0.08553901306503166, 0.1227898735933519, 0.08415935156398276, 0.06967290580296934, 0.11106275083443627, 0.2094960024974292, 0.2094960024974292, 0.10148311257761636, 0.126486198285145, 0.1294277377801484, 0.09265849409260624, 0.0647138688900742, 0.10148311257761636, 0.0970708033351113, 0.1308985075276501, 0.06912617813257925, 0.08530464535509781, 0.0900341337828032, 0.10804096053936385, 0.15485871010642152, 0.10443959518805172, 0.08643276843149107, 0.07923003772886682, 0.12244642194461236, 0.10443959518805172, 0.08283140308017894, 0.06842594167493043, 0.0952073240868867, 0.0775529858456097, 0.13745163344994238, 0.09268527576670427, 0.12042780728871098, 0.09962090864720595, 0.0870106670462938, 0.09394629992679548, 0.09899039656716034, 0.0964683482469779, 0.21044464234986343, 0.21044464234986343, 0.21044464234986343, 0.10714302122861839, 0.09357157187299339, 0.11071445526957234, 0.11071445526957234, 0.08928585102384866, 0.10857159484499997, 0.09500014548937498, 0.08357155655832235, 0.09785729272213813, 0.10357158718766445, 0.0652467342457018, 0.0652467342457018, 0.0652467342457018, 0.1304934684914036, 0.1304934684914036, 0.1304934684914036, 0.1304934684914036, 0.19574020273710543, 0.1304934684914036, 0.0652467342457018, 0.10332202529611494, 0.1833132706866555, 0.09998905673817574, 0.0766582768326014, 0.09998905673817574, 0.0733253082746622, 0.08665718250641898, 0.07999124539054059, 0.09998905673817574, 0.09665608818023655, 0.12052025374495455, 0.11200523581732189, 0.08973518892966724, 0.07663516134869393, 0.08777018479252124, 0.10349021788968923, 0.10676522478493256, 0.12183025650305188, 0.10087021237349457, 0.07991016824393725, 0.1177121530873961, 0.07357009567962257, 0.06474168419806786, 0.08828411481554709, 0.13536897605050552, 0.1059409377786565, 0.1177121530873961, 0.13536897605050552, 0.09122691864273198, 0.07062729185243766, 0.09293353477480523, 0.1277836103153572, 0.07841266996624192, 0.10600231310251222, 0.10164605365994323, 0.13940030216220786, 0.10019396717908689, 0.0726043240428166, 0.09293353477480523, 0.0871251888513799, 0.08911844834423423, 0.12731206906319176, 0.10532180258864045, 0.1377285110774529, 0.0798593887760021, 0.10069227280452439, 0.0798593887760021, 0.09259059568232128, 0.09606274302040832, 0.09259059568232128, 0.08712609664304738, 0.0980168587234283, 0.13068914496457107, 0.08712609664304738, 0.07623533456266646, 0.0980168587234283, 0.0980168587234283, 0.08712609664304738, 0.08712609664304738, 0.16336143120571384, 0.523107922537903, 0.10624418159529528, 0.10472640757250534, 0.08803089332181609, 0.10624418159529528, 0.09865531148134561, 0.08499534527623623, 0.1730262385980523, 0.060710960911597306, 0.07437092711670669, 0.10169085952692548, 0.10567188402195657, 0.08927452270820468, 0.09291838077792733, 0.0637675162201462, 0.13300081954487636, 0.08563066463848204, 0.08563066463848204, 0.07469909042931412, 0.1348227485797377, 0.13300081954487636, 0.1559649944979836, 0.10159187715006271, 0.09658382686801736, 0.11661602799619875, 0.10445362016837434, 0.09729926262259528, 0.07082813970321274, 0.08728316205850459, 0.07941336875814761, 0.09014490507681622, 0.07537728062401285, 0.1413324011700241, 0.11306592093601928, 0.08668387271761478, 0.09610603279561639, 0.09422160078001607, 0.09987489682681704, 0.10741262488921831, 0.0791461446552135, 0.10364376085801767, 0.10591680167246809, 0.1112126417560915, 0.10591680167246809, 0.07414176117072767, 0.10591680167246809, 0.15887520250870213, 0.09267720146340958, 0.09267720146340958, 0.09267720146340958, 0.06090216096166915, 0.08591121545210664, 0.1336396684810548, 0.09307048340644887, 0.10022975136079108, 0.1384125137839496, 0.09545690605789628, 0.08591121545210664, 0.08113837014921184, 0.10977544196658072, 0.08113837014921184, 0.09320949428402055, 0.09537715694178847, 0.11055079554616391, 0.08887416896848471, 0.06069455441750175, 0.09104183162625264, 0.14523339807045063, 0.08453884365294888, 0.13005975946607518, 0.0997124822573243, 0.12215372619313525, 0.09935169730375, 0.11075271174844263, 0.09283683190678278, 0.11401014444692623, 0.07980710111284836, 0.13518345698706968, 0.08795068285905738, 0.07980710111284836, 0.07980710111284836, 0.09305972465483785, 0.10282123423401664, 0.13601036680322454, 0.10086893231818088, 0.09305972465483785, 0.10086893231818088, 0.06507673052785863, 0.10217046692873806, 0.1093289072868025, 0.09696432848650936, 0.10596543562772895, 0.10596543562772895, 0.08477234850218317, 0.08779993237726114, 0.08477234850218317, 0.1422964421286646, 0.09385510012741707, 0.09385510012741707, 0.10293785175265098, 0.09385510012741707, 0.09673824473066375, 0.10883052532199672, 0.10883052532199672, 0.13704584670177364, 0.09270748453355275, 0.07389727028036813, 0.1168920457162187, 0.11823563244858902, 0.08330237740696045, 0.061804989689035174, 0.3467039738693933, 0.10902387907854202, 0.10902387907854202, 0.09608884257769805, 0.07576235664780039, 0.14228540150928365, 0.08684953079138093, 0.09793670493496147, 0.0997845672922249, 0.08315380607685409, 0.09793670493496147, 0.0997239160123336, 0.09322018235935532, 0.1485019184096707, 0.10839556088297131, 0.10622764966531188, 0.060701514094463935, 0.12899071745073584, 0.11381533892711987, 0.08346458187988791, 0.05636569165914508, 0.1033483356766061, 0.09865068405494219, 0.11274363891993394, 0.09865068405494219, 0.11086457827126837, 0.09489256275761106, 0.12683659378492568, 0.09489256275761106, 0.07704148659528819, 0.0817391382169521, 0.10130450385013302, 0.10875336442734869, 0.10800847836962713, 0.07001928942582723, 0.09162098509975267, 0.0729988336567135, 0.16685447692963087, 0.07448860577215664, 0.11769199712000748, 0.08789655481114483, 0.1749192048096551, 0.1749192048096551, 0.1749192048096551, 0.1749192048096551, 0.1749192048096551, 0.1749192048096551, 0.2612887778550129, 0.2612887778550129, 0.2612887778550129, 0.0880745965762786, 0.12110257029238308, 0.08587273166187163, 0.10348765097712737, 0.09468019131949951, 0.11669884046356915, 0.07045967726102288, 0.09688205623390647, 0.08367086674746467, 0.1387174896076388, 0.11364655242896012, 0.08082316927401201, 0.0959995722381278, 0.11682300886330994, 0.12141122371292634, 0.08011729006637872, 0.11858770688239317, 0.07164673957477921, 0.08188198808546195, 0.11964652569384311, 0.10314441331096602, 0.1121570319497883, 0.15521732100193916, 0.09913880502704502, 0.07710795946547945, 0.09313039260116349, 0.10414581538194627, 0.09813740295606475, 0.07410375325253869, 0.08311637189136097, 0.09764483630861044, 0.10286997805087722, 0.12246425958437765, 0.09176655184856031, 0.07674426933954333, 0.12377054501994433, 0.10874826251092734, 0.10123712125641886, 0.0819694110818101, 0.09274626592523534, 0.3485366255057707, 0.11745858478344108, 0.11109624477433802, 0.1176217217067514, 0.09445627859668386, 0.10636527399833831, 0.06166575701130657, 0.09429314167337353, 0.09967666014261459, 0.10571272630509697, 0.09168295090040818, 0.2613332316849898, 0.2613332316849898, 0.11179424291877592, 0.08130490394092794, 0.10163112992615993, 0.11179424291877592, 0.07114179094831195, 0.17277292087447188, 0.07114179094831195, 0.08130490394092794, 0.10163112992615993, 0.09146801693354394, 0.10880943917703169, 0.08949270727818785, 0.1112545951135942, 0.10587525205315668, 0.09682817508787539, 0.08851464490356285, 0.1117436263009067, 0.09853978424346914, 0.09267140999571911, 0.09609462830690664, 0.10916761640400825, 0.09552166435350722, 0.1125791044166335, 0.09893315236613248, 0.09893315236613248, 0.10234464037875773, 0.0886986883282567, 0.13987100851763556, 0.057995296214629385, 0.09893315236613248, 0.17517714961409403, 0.17517714961409403, 0.17517714961409403, 0.17517714961409403, 0.17517714961409403, 0.17517714961409403, 0.10713784762690373, 0.14502806203154042, 0.14502806203154042, 0.10583128850950246, 0.0783935470440759, 0.06402139675266198, 0.09407225645289108, 0.06924763322226705, 0.09015257910068729, 0.1006050520398974, 0.09889905098962976, 0.15284398789306416, 0.07792046441607194, 0.086911287233311, 0.09889905098962976, 0.09889905098962976, 0.07792046441607194, 0.09590211005055006, 0.12886846038042665, 0.08091740535515163, 0.0972258631597318, 0.10694844947570499, 0.0972258631597318, 0.10532801842304279, 0.06967853526447447, 0.11667103579167817, 0.07940112158044765, 0.08750327684375864, 0.09074413894908302, 0.15070008789758432, 0.12852111714826, 0.10281689371860801, 0.09510562668971241, 0.0719718256030256, 0.1516549182349468, 0.11309858309046882, 0.0719718256030256, 0.11309858309046882, 0.08482393731785161, 0.0668309809170952, 0.08062670320077184, 0.10037201827034863, 0.1201173333399254, 0.07898126027830711, 0.10366290411527808, 0.10695378996020755, 0.10366290411527808, 0.1365717625645727, 0.09214480365802497, 0.07733581735584238, 0.08764398621237551, 0.1210321714361376, 0.0939042709418309, 0.08138370148292011, 0.08764398621237551, 0.09599103251831603, 0.08555722463589038, 0.1064248404007417, 0.14189978720098892, 0.09807779409480116, 0.11197793651446983, 0.10390745460351705, 0.060528614332145854, 0.08978411125934968, 0.12004841842542262, 0.09180173173708789, 0.09987221364804066, 0.10491626484238616, 0.10390745460351705, 0.11500436723107713, 0.15690797548960556, 0.09414478529376333, 0.09897272300113581, 0.08690287873270461, 0.08690287873270461, 0.11345653612325324, 0.10621462956219453, 0.10621462956219453, 0.07241906561058718, 0.07483303446427342, 0.0822187629805135, 0.09208501453817512, 0.10195126609583675, 0.06741938564402107, 0.11675064343232917, 0.0937293897977854, 0.10195126609583675, 0.12497251973038052, 0.1381275218072627, 0.0822187629805135, 0.09042104263646673, 0.10850525116376009, 0.1288499857569651, 0.08363946443873173, 0.08816051657055507, 0.11076577722967175, 0.09720262083420174, 0.07685788624099672, 0.07459736017508506, 0.14015261608652343, 0.11108379554256646, 0.06347645459575227, 0.11108379554256646, 0.07934556824469033, 0.06347645459575227, 0.0952146818936284, 0.11108379554256646, 0.15869113648938066, 0.12695290919150454, 0.06347645459575227, 0.34848875409782026, 0.2623343375465101, 0.2623343375465101, 0.10786636556771648, 0.09348418349202095, 0.07550645589740154, 0.11505745660556424, 0.10786636556771648, 0.10067527452986871, 0.07550645589740154, 0.15101291179480308, 0.07191091037847766, 0.10067527452986871, 0.17537878523296577, 0.17537878523296577, 0.17537878523296577, 0.08549241072106091, 0.15454397322653318, 0.11508593750912047, 0.10522142857976728, 0.07562790179170774, 0.06576339286235455, 0.10850959822288501, 0.0953569196504141, 0.11837410715223819, 0.07233973214859, 0.15004633881027996, 0.14736693990295352, 0.07502316940513998, 0.10985535520038354, 0.07502316940513998, 0.09913775957107783, 0.11253475410770997, 0.06162617486850784, 0.09109956284909855, 0.07502316940513998, 0.08961356719136866, 0.08961356719136866, 0.08961356719136866, 0.08961356719136866, 0.08961356719136866, 0.08961356719136866, 0.11948475625515823, 0.14935594531894777, 0.08961356719136866, 0.08961356719136866, 0.09845215015964595, 0.11099382533921869, 0.10535007150841096, 0.07901255363130821, 0.08528339122109459, 0.10660423902636823, 0.08591047498007322, 0.10346882023147504, 0.10472298774943231, 0.12040008172389823, 0.08225004353326296, 0.11750006219037566, 0.10575005597133809, 0.1645000870665259, 0.08225004353326296, 0.09400004975230053, 0.047000024876150265, 0.09400004975230053, 0.09400004975230053, 0.11750006219037566, 0.09753721962440755, 0.07878006200432917, 0.13130010334054862, 0.07878006200432917, 0.07127719895629782, 0.13880296638857997, 0.11254294572047024, 0.08628292505236052, 0.13130010334054862, 0.0750286304803135, 0.0948328003857408, 0.08467214320155428, 0.10499345756992731, 0.11176722902605166, 0.15240985776279772, 0.09821968611380297, 0.10160657184186514, 0.06773771456124343, 0.09821968611380297, 0.08467214320155428, 0.11077900841909559, 0.09792073065616486, 0.09000794434051516, 0.10385532039290211, 0.10088802552453348, 0.11770269644528907, 0.09693163236670864, 0.08308425631432169, 0.08011696144595307, 0.11968089302420148, 0.14080469178915206, 0.08631705243779436, 0.09953435109233162, 0.09926461030346352, 0.09333031294836516, 0.11868594710196725, 0.09764616557025488, 0.09548823925931002, 0.09063290505968409, 0.07849456956061925, 0.09636220034651131, 0.10134645208857225, 0.0996850348412186, 0.1378976315303524, 0.08639369686238946, 0.09303936585180403, 0.09636220034651131, 0.08307086236768217, 0.11796062456210868, 0.08639369686238946, 0.08770852610680496, 0.09940299625437896, 0.09940299625437896, 0.09940299625437896, 0.12863917162331395, 0.15202811191846194, 0.09355576118059196, 0.07601405595923097, 0.09355576118059196, 0.07016682088544397, 0.12333496754184194, 0.11355841523669594, 0.12183088257181948, 0.07069199359105574, 0.08046854589620175, 0.08347671583624668, 0.09325326814139269, 0.10679003287159484, 0.10152573547651624, 0.10453390541656116, 0.15083562213451268, 0.10355878534608334, 0.08104600592302175, 0.1058100632883895, 0.09230239563455254, 0.08554856180763407, 0.12832284271145109, 0.07879472798071559, 0.10130750740377718, 0.06978961621149095, 0.09793519912349222, 0.13058026549798962, 0.08705351033199307, 0.08161266593624351, 0.08705351033199307, 0.09031801696944282, 0.10664055015669152, 0.138197447652039, 0.09140618584859274, 0.0892298480902929, 0.11518519829863663, 0.11000833545375409, 0.08412402122934136, 0.09318353120788582, 0.1035372568976509, 0.07506451125079691, 0.10224304118643027, 0.12295049256596045, 0.11259676687619535, 0.0815355898069001, 0.09370994861922008, 0.12635049252029673, 0.09581579016122502, 0.10581853748574852, 0.09476286939022255, 0.0984480920887312, 0.09107764669171389, 0.1100302205697584, 0.10687145825675098, 0.0768632162831805, 0.1317833189480697, 0.10026991659092258, 0.11554914197620601, 0.09549515865802151, 0.10504467452382366, 0.07735107851299741, 0.07926098168615785, 0.1203238999091071, 0.07353127216667656, 0.1012248681775028, 0.10703657607171035, 0.08828230419589786, 0.08462293407378811, 0.11664242264224847, 0.13539669451806097, 0.10154752088854573, 0.07776161509483231, 0.1152701588464573, 0.09560104444011737, 0.07730419382956859, 0.12084285723142582, 0.12084285723142582, 0.15306761915980605, 0.0899607937167281, 0.09667428578514066, 0.08190460323463306, 0.08727539688936309, 0.08727539688936309, 0.09264619054409313, 0.06982031751149047, 0.5248969887138816, 0.0955490233805479, 0.09407903840546254, 0.1602283622843034, 0.10583891820614537, 0.09995897830580396, 0.09113906845529184, 0.07937918865460902, 0.09701900835563325, 0.0705592788040969, 0.10730890318123072, 0.12847960221273563, 0.1070663351772797, 0.1070663351772797, 0.08565306814182376, 0.16059950276591956, 0.1070663351772797, 0.07494643462409578, 0.1070663351772797, 0.09635970165955172, 0.05353316758863985, 0.09822872059090924, 0.10856858591626811, 0.08530388893421066, 0.10081368692224896, 0.15768294621172274, 0.0775489899401915, 0.11373851857894754, 0.08788885526555038, 0.08788885526555038, 0.0775489899401915, 0.08578924790127672, 0.1045923707289538, 0.07403729613397854, 0.12457068873336072, 0.10106678519876436, 0.1104683466126029, 0.11869471284971163, 0.08578924790127672, 0.10106678519876436, 0.09519080931511527, 0.0763158629202182, 0.08852640098745312, 0.12668433244756222, 0.08700008372904876, 0.11294747712192295, 0.12515801518915787, 0.11142115986351858, 0.10836852534670986, 0.07936849743702694, 0.08394744921224002, 0.17422354079559318, 0.17422354079559318, 0.17422354079559318, 0.17422354079559318, 0.07155877164147788, 0.08587052596977346, 0.11449403462636461, 0.10018228029806904, 0.10018228029806904, 0.15027342044710354, 0.10018228029806904, 0.09302640313392124, 0.07871464880562568, 0.10733815746221682, 0.07210323902170697, 0.09012904877713371, 0.10815485853256045, 0.12618066828798719, 0.16223228779884066, 0.07210323902170697, 0.10815485853256045, 0.07210323902170697, 0.10815485853256045, 0.07210323902170697, 0.12669437833721317, 0.12194333914956766, 0.125110698607998, 0.07839214659615064, 0.0799758263253658, 0.10056366280516295, 0.07760030673154306, 0.07680846686693547, 0.13223725738946623, 0.08076766618997339, 0.13939596498561524, 0.15682046060881713, 0.08712247811600952, 0.06969798249280762, 0.08712247811600952, 0.11035513894694539, 0.06388981728507365, 0.11616330415467936, 0.09873880853147746, 0.05808165207733968, 0.3488060072092091, 0.12196804496391589, 0.060984022481957945, 0.09486403497193457, 0.08808803247393925, 0.1321320487109089, 0.10502803871892757, 0.1490720549558972, 0.07114802622895093, 0.09486403497193457, 0.08131202997594392, 0.5252056893971859, 0.10341077276349528, 0.07159207345165057, 0.0954560979355341, 0.07954674827961175, 0.0994334353495147, 0.1272747972473788, 0.15113882173126233, 0.07954674827961175, 0.06761473603766999, 0.11932012241941763, 0.09853236725130352, 0.11260841971577544, 0.12668447218024737, 0.06334223609012368, 0.09853236725130352, 0.09853236725130352, 0.07741828855459561, 0.15483657710919121, 0.09853236725130352, 0.07741828855459561, 0.26141780574467177, 0.26166440024364074, 0.34892490160322487, 0.10943997417373924, 0.08281943991526212, 0.10352429989407766, 0.14493401985170873, 0.10648213703390845, 0.09465078847458529, 0.0887351141949237, 0.0887351141949237, 0.10943997417373924, 0.06803025421610817, 0.34834518595614666, 0.10130035249738373, 0.09385179716669374, 0.10353491909659072, 0.09608636376590074, 0.07969954203838278, 0.09459665269976275, 0.11396289655955669, 0.1117283299603497, 0.08193410863758978, 0.12513572955559166, 0.12337645685056174, 0.11019118665279179, 0.08099523121487259, 0.0998313314974011, 0.12337645685056174, 0.09606411144089541, 0.07440259611598762, 0.08005342620074617, 0.09794772146914826, 0.1139584067092975, 0.10496979847384195, 0.10786951666372709, 0.09569070026620952, 0.07713250385094464, 0.11134917849158925, 0.11482884031945141, 0.08931132024846221, 0.10902940393968115, 0.09395086935227843, 0.09569070026620952, 0.10721916072367182, 0.10007121667542704, 0.08666882158496805, 0.08220135655481506, 0.08488183557290686, 0.1206215558141308, 0.10185820268748823, 0.11258011875985541, 0.12687600685634498, 0.07594690551260087, 0.10316355231361651, 0.1513065433933042, 0.07909205677377265, 0.09284719708225486, 0.08596962692801376, 0.1100411224678576, 0.0756532716966521, 0.08596962692801376, 0.1306738329305809, 0.0894084120051343, 0.09397923301766334, 0.11014126672133792, 0.08799329460889496, 0.12690189426588935, 0.09038766997240232, 0.09577501454029384, 0.09098626381327915, 0.11732439281185995, 0.08470102848407236, 0.1014616560286238, 0.12120761487553933, 0.0634897030300444, 0.15006657079828678, 0.09523455454506662, 0.09523455454506662, 0.10677813691416559, 0.12120761487553933, 0.08657686776824237, 0.08946276336051712, 0.07214738980686865, 0.08395613891070985, 0.08875363256275043, 0.11993734130101409, 0.09475049962780113, 0.11993734130101409, 0.10074736669285184, 0.12953232860509523, 0.05517117699846648, 0.10674423375790254, 0.10074736669285184, 0.13004746093945685, 0.09753559570459264, 0.08940762939587658, 0.08127966308716053, 0.06502373046972842, 0.1706872924830371, 0.06502373046972842, 0.09753559570459264, 0.13004746093945685, 0.07315169677844448, 0.12045330704789457, 0.11435440542521635, 0.08767171082599921, 0.08538462271749488, 0.12426512056206844, 0.0975824259628513, 0.10749314109970338, 0.0975824259628513, 0.0975824259628513, 0.06632555514662548, 0.06964519891309429, 0.06964519891309429, 0.10446779836964143, 0.06964519891309429, 0.13929039782618857, 0.17411299728273572, 0.06964519891309429, 0.10446779836964143, 0.06964519891309429, 0.10446779836964143, 0.07845052405423317, 0.11767578608134976, 0.08825683956101232, 0.11767578608134976, 0.11522420720465497, 0.13483683821821327, 0.07845052405423317, 0.08580526068431753, 0.1103210494512654, 0.0735473663008436, 0.34761257324784645, 0.09160497112342557, 0.10317612537059512, 0.1301754852806574, 0.08967644541556398, 0.1060689139323875, 0.09546202253914876, 0.08485513114591, 0.1079974396402491, 0.07810529116839443, 0.11281875390990308, 0.06592736994819554, 0.14168601436235007, 0.06361412889738166, 0.12028853464232168, 0.11913191411691475, 0.09310795229525862, 0.10987894991365924, 0.07286709310063717, 0.11334881148988005, 0.10062598571040372, 0.06813122202648014, 0.0885705886344242, 0.0908416293686402, 0.07721538496334417, 0.16805701433198436, 0.09538371083707221, 0.09538371083707221, 0.10900995524236824, 0.0931126701028562, 0.11582307744501626, 0.16115994313060028, 0.12534662243491132, 0.0955021885218372, 0.07759552817399272, 0.10147107530445203, 0.11340884886968168, 0.08356441495660755, 0.07461108478268531, 0.07759552817399272, 0.08953330173922237, 0.10558473059675401, 0.07453039806829695, 0.11024288047602257, 0.14129721300447964, 0.10092658071748545, 0.08384669782683407, 0.12111189686098255, 0.0760831146947198, 0.08539941445325692, 0.10092658071748545, 0.09983656634016473, 0.08874361452459087, 0.06655771089344316, 0.1109295181557386, 0.08874361452459087, 0.08504596391939959, 0.14790602420765145, 0.1109295181557386, 0.12572012057650375, 0.07395301210382572, 0.26140481825856415, 0.17522349492443115, 0.17522349492443115, 0.17522349492443115, 0.11191016019287497, 0.13429219223144997, 0.08505172174658497, 0.07833711213501247, 0.0999730764389683, 0.09102026362353831, 0.1134022956621133, 0.10071914417358747, 0.10295734737744497, 0.08206745080810832, 0.10467041683907183, 0.10467041683907183, 0.10467041683907183, 0.10467041683907183, 0.20934083367814366, 0.10467041683907183, 0.10467041683907183, 0.10467041683907183, 0.10467041683907183, 0.10467041683907183, 0.08584701750923639, 0.09443171926016002, 0.16740168414301093, 0.12447817538839274, 0.07296996488285093, 0.09443171926016002, 0.12018582451293093, 0.07726231575831274, 0.07726231575831274, 0.08584701750923639, 0.2611546616064953, 0.1357874531555731, 0.09321003140340188, 0.10241596043089836, 0.08860706688965364, 0.09321003140340188, 0.0840041023759054, 0.09781299591715012, 0.10011447817402423, 0.11967707735745427, 0.08630558463277951, 0.10218536837520538, 0.12057873468274234, 0.14510322309279164, 0.08379200206766842, 0.09196683153768484, 0.10422907574270948, 0.07561717259765198, 0.09401053890518894, 0.1083164904777177, 0.07561717259765198, 0.1238188508614196, 0.09944506132177007, 0.0877456423427383, 0.07702117494529251, 0.10139496448494204, 0.0877456423427383, 0.08287088443480839, 0.11016952871921586, 0.10139496448494204, 0.1277186571877635, 0.1431060244608419, 0.11862736238201367, 0.10450505733653585, 0.08567531727589876, 0.09697316131228101, 0.07814342125164392, 0.10544654433956771, 0.0847338302728669, 0.08285085626680319, 0.09979762232137658, 0.08062370159117421, 0.14613045913400324, 0.11589657103731292, 0.08062370159117421, 0.10077962698896777, 0.09322115496479517, 0.07054573889227743, 0.1259745337362097, 0.09574064563951937, 0.09070166429007098, 0.11644050430591192, 0.1024115278835129, 0.07435357503871484, 0.08697965381887397, 0.10100863024127299, 0.09399414203007349, 0.09960573259903309, 0.12485789015935134, 0.1094260160947124, 0.09118834674559367, 0.15691819341079416, 0.10522749440488549, 0.12184236194249899, 0.0941509160464765, 0.10891968719102182, 0.07384385572272667, 0.09599701243954467, 0.0719977593296585, 0.09230481965340834, 0.07568995211579484, 0.1332788264663097, 0.10995503183470551, 0.13216816957909047, 0.08774189409032056, 0.11661897315802099, 0.112176345609144, 0.07996729587978582, 0.09884846296251303, 0.06441809945871636, 0.06441809945871636, 0.09314768065002474, 0.10051907983815618, 0.09448793504786682, 0.081085391069446, 0.11258136941873494, 0.10520997023060348, 0.09180742625218265, 0.12263327740255055, 0.10990086062305077, 0.0877866630586564, 0.10705363132720122, 0.07439320143076696, 0.09798128968930281, 0.11068256798236059, 0.11975490962025899, 0.09798128968930281, 0.13245618791331676, 0.09616682136172314, 0.08890894805140441, 0.07439320143076696, 0.10014574963460207, 0.14743679807316415, 0.10292757601334102, 0.09180027049838523, 0.1196185342857747, 0.10014574963460207, 0.10570940239207996, 0.09180027049838523, 0.07510931222595155, 0.06676383308973471, 0.1601241436673816, 0.08853923238078747, 0.09795829965533932, 0.11114499383971192, 0.09795829965533932, 0.08853923238078747, 0.08288779201605635, 0.08477160547096672, 0.12056406111426378, 0.06970109783168375, 0.09494500203060567, 0.10493921277066943, 0.11493342351073318, 0.09619427837311365, 0.12742618693581287, 0.11743197619574912, 0.05246960638533472, 0.09994210740063755, 0.10743776545568537, 0.0862000676330499, 0.12652625921126834, 0.08030662114322511, 0.11237149505293009, 0.14010327789375604, 0.11063825862537847, 0.10197207648762037, 0.08203985757077673, 0.06557411150903633, 0.10081658553591928, 0.07944000292944929, 0.5259358729063316, 0.525535976558061, 0.1520282967479758, 0.10197019903827646, 0.13163425694032052, 0.10753220989490972, 0.08343016284949892, 0.0927001809438877, 0.06674413027959913, 0.0723061411362324, 0.09640818818164319, 0.09640818818164319, 0.34870397424369576, 0.34862589851056114, 0.20924750017345684, 0.20924750017345684, 0.2611562260705725, 0.12402525216592006, 0.09744841241608004, 0.09744841241608004, 0.07862315092661004, 0.11627367390555006, 0.08526736086407004, 0.08748209750989004, 0.11516630558264006, 0.12845472545756006, 0.07087157266624003, 0.10190065713979815, 0.1646087538412124, 0.14109321757818205, 0.0783851208767678, 0.08622363296444459, 0.10190065713979815, 0.0783851208767678, 0.0783851208767678, 0.09406214505212136, 0.07054660878909103, 0.13243528369509594, 0.085573567926062, 0.07334877250805313, 0.10696695990757749, 0.09066723268356568, 0.0672363747990487, 0.07844243726555683, 0.09576089744106937, 0.1314165507435952, 0.13752894845259964, 0.17425780233372853, 0.17425780233372853, 0.17425780233372853, 0.17425780233372853, 0.18116360119902805, 0.0946991551722192, 0.11116857346303993, 0.10293386431762958, 0.09881650974492438, 0.057642964017872556, 0.07411238230869328, 0.08234709145410365, 0.09058180059951403, 0.10293386431762958, 0.09257833041843129, 0.18515666083686258, 0.06171888694562086, 0.09257833041843129, 0.09257833041843129, 0.12343777389124172, 0.09257833041843129, 0.09257833041843129, 0.09257833041843129, 0.09257833041843129, 0.106093391736946, 0.1577063931224873, 0.09462383587349238, 0.1003586138052192, 0.09462383587349238, 0.08315428001003876, 0.08888905794176558, 0.106093391736946, 0.08602166897590216, 0.08028689104417536, 0.10494031934092776, 0.12713923304766248, 0.15741047901139166, 0.07870523950569583, 0.10897648546942498, 0.07668715644144722, 0.06256057499170693, 0.1109945685336736, 0.09686798708393332, 0.07466907337719861, 0.34675630894609594, 0.3494050442617916, 0.07810892158949338, 0.10120199405943056, 0.13720001879197968, 0.09033466583828366, 0.0998435780317872, 0.07675050556185002, 0.13108714666758456, 0.08761783378299692, 0.13040793865376288, 0.06724159336834648, 0.09053647091522356, 0.13685745603464025, 0.06948147767912505, 0.10316946685688265, 0.08316722328258908, 0.10843321516590727, 0.12527720975478607, 0.09580021922424818, 0.09158922057702848, 0.09474746956244326, 0.10793076954934143, 0.08634461563947314, 0.1295169234592097, 0.075551538684539, 0.075551538684539, 0.16189615432401214, 0.10793076954934143, 0.08634461563947314, 0.06475846172960485, 0.09713769259440728, 0.10814487409834606, 0.09717365498691964, 0.10187560603467381, 0.06582731466855847, 0.11127950813018217, 0.0987409720028377, 0.13008731232119888, 0.08150048482773906, 0.10187560603467381, 0.10030828901875576, 0.2607686359237981, 0.13101523985599953, 0.1064498823829996, 0.0818845249099997, 0.05731916743699979, 0.15558059732899943, 0.1064498823829996, 0.09007297740099966, 0.09007297740099966, 0.09826142989199964, 0.09007297740099966, 0.15190465610932946, 0.10557912268591692, 0.09480574282000703, 0.07972301100773319, 0.10450178469932593, 0.07002696912841429, 0.13358991033728262, 0.07649099704796022, 0.10234710872614396, 0.07972301100773319, 0.34659485123804507, 0.26131834373330665, 0.12139935625037311, 0.1352735683932729, 0.10752514410747332, 0.10752514410747332, 0.10058803803602344, 0.08671382589312365, 0.07630816678594882, 0.09711948500029849, 0.09885376151816096, 0.06937106071449892, 0.5216875752268965, 0.3478768149467234, 0.08727241461449319, 0.13135847972903097, 0.10976530497905329, 0.10886558936447088, 0.09177099268740521, 0.09806900198948204, 0.08367355215616357, 0.10346729567697646, 0.10526672690614126, 0.08007468969783396, 0.11191355093929369, 0.08953084075143494, 0.12073098222541985, 0.11869619039015997, 0.10784396726877392, 0.07528729790461575, 0.09970479992773437, 0.08478299313582854, 0.11123528699420705, 0.07935688157513553, 0.11970662254153415, 0.08069113075021932, 0.08601142508539861, 0.09931216092334685, 0.09399186658816755, 0.1321206426569525, 0.09487858231069744, 0.0966520137557572, 0.10906603387117556, 0.0868981408079285, 0.11787404929975367, 0.10827964993814582, 0.11581810657940914, 0.09594399361607858, 0.09320273665561919, 0.11444747809917945, 0.09525867937596373, 0.09525867937596373, 0.06510485281091047, 0.09937056481665281, 0.261352059220122, 0.1392551521080017, 0.13194889119082384, 0.11471920126673281, 0.09967048475075455, 0.06848256501474163, 0.12529692229607983, 0.08582130360923833, 0.10239670151089553, 0.06717398096987397, 0.06532015357297809, 0.11542148058978992, 0.11625786813029565, 0.11207593042776703, 0.08531152913158385, 0.09200262945562965, 0.06858377832146938, 0.10203927994169834, 0.1145850930492842, 0.08029320388854952, 0.11291231796827275, 0.11723349615810277, 0.09666621613036545, 0.09323833612574256, 0.10969216014793243, 0.08775372811834593, 0.1076354321451587, 0.1199758001618011, 0.09049603212204425, 0.1069498561442341, 0.0706143280952315, 0.09527081589112148, 0.08468516968099686, 0.11782284477356085, 0.07548025993306243, 0.11782284477356085, 0.10309498917686574, 0.11322038989959363, 0.10079376173988214, 0.0980322888155018, 0.09342983394153459, 0.2097911100205485, 0.2097911100205485, 0.2097911100205485, 0.11695729607807782, 0.10090910160582597, 0.10212487391432991, 0.12011830408018803, 0.1123373613057629, 0.06929902158472387, 0.10358380068453463, 0.11160789792066055, 0.09872071145051892, 0.06443593235070816, 0.15197727582977733, 0.08045855779223506, 0.08939839754692784, 0.1549572224146749, 0.08045855779223506, 0.08641845096203024, 0.08343850437713266, 0.10429813047141581, 0.10727807705631341, 0.06257887828284948, 0.11345694109563145, 0.09326887328502087, 0.12597354313821, 0.07388832818683472, 0.07509961225547135, 0.10094033905305289, 0.12395473635714895, 0.11143813431457039, 0.09246135057259644, 0.08963502107911096, 0.0898997572067185, 0.0898997572067185, 0.179799514413437, 0.11986634294229133, 0.0898997572067185, 0.0898997572067185, 0.0898997572067185, 0.0898997572067185, 0.0898997572067185, 0.059933171471145665, 0.5231910261851456, 0.06462599839434396, 0.11750181526244356, 0.07637617992058832, 0.09987654297307703, 0.11162672449932139, 0.10575163373619921, 0.08225127068371049, 0.14687726907805446, 0.08812636144683268, 0.09400145220995486, 0.34804489661782584, 0.08930802230816283, 0.09288034320048934, 0.10181114543130562, 0.10359730587746888, 0.09288034320048934, 0.14467899613922378, 0.10002498498514237, 0.10002498498514237, 0.10538346632363213, 0.07144641784653026, 0.10570540861300884, 0.10915232411125912, 0.10340746494750865, 0.08272597195800692, 0.10110952128200845, 0.09881157761650826, 0.10570540861300884, 0.08732185928900729, 0.12293998610426027, 0.08387494379075701, 0.12108741487220533, 0.1434885866235633, 0.11987654072348326, 0.09565905774904221, 0.10534605093881863, 0.06054370743610266, 0.07870681966693346, 0.11079498460806787, 0.09505362067468118, 0.06962526355151806, 0.10158099474223492, 0.12005026651355036, 0.11081563062789264, 0.14082819725628024, 0.06695111017101847, 0.11081563062789264, 0.09696367679940605, 0.08542038194233391, 0.05540781531394632, 0.11081563062789264, 0.14061767505714892, 0.09761888185785546, 0.1417798046030758, 0.09529462276600176, 0.08367332730673326, 0.10110527049563602, 0.11040230686305082, 0.06043073638819624, 0.08367332730673326, 0.0848354568526601, 0.107737355148299, 0.11220315225289171, 0.11164492761481762, 0.1172271739955585, 0.08875771745378001, 0.07591855077807598, 0.12113474646207711, 0.10941202906252127, 0.07647677541615007, 0.07870967396844643, 0.09498060054455419, 0.1336764007664096, 0.09673950055463854, 0.07739160044371082, 0.11520795066052407, 0.10817235062018672, 0.08706555049917468, 0.12664080072607226, 0.07563270043362649, 0.08442720048404817, 0.08273418296380709, 0.10755443785294923, 0.1423027946977482, 0.10920912151222537, 0.11748253980860608, 0.09100760126018781, 0.09762633589729237, 0.09597165223801624, 0.08935291760091167, 0.06784203003032183, 0.09585532391965405, 0.09947250595435797, 0.11484552960184966, 0.12298418917993349, 0.09947250595435797, 0.07686511823745844, 0.08229089128951432, 0.10580257451508984, 0.08590807332421825, 0.11665412061920162, 0.08935750720688042, 0.12479238075443645, 0.10322332729070668, 0.08319492050295763, 0.12941432078237855, 0.08319492050295763, 0.07857298047501554, 0.11092656067061017, 0.10938591399462948, 0.08627621385491903, 0.34893821099059763, 0.34893821099059763, 0.21017184416312, 0.21017184416312, 0.21017184416312, 0.21017184416312, 0.07370221572334901, 0.1081867386764756, 0.09939656615901196, 0.12644325082813085, 0.09060639364154832, 0.09263489499173223, 0.1129199084935714, 0.09331106210846021, 0.13929042604596234, 0.06355970897242942, 0.09439966020162176, 0.1769993628780408, 0.10619961772682449, 0.08259970267641904, 0.08259970267641904, 0.08259970267641904, 0.14159949030243266, 0.07079974515121633, 0.08259970267641904, 0.07079974515121633, 0.10725974264156643, 0.08869555641514147, 0.12685527254723722, 0.079413463301929, 0.073225401226454, 0.07735077594343734, 0.11860452311327058, 0.09797764952835396, 0.10416571160382894, 0.1258239288679914, 0.21467036963820865, 0.10733518481910433, 0.02683379620477608, 0.02683379620477608, 0.05366759240955216, 0.02683379620477608, 0.05366759240955216, 0.10733518481910433, 0.08050138861432825, 0.2951717582525369, 0.10879241043868862, 0.09519335913385253, 0.09519335913385253, 0.08159430782901646, 0.1223914617435247, 0.09519335913385253, 0.08159430782901646, 0.09519335913385253, 0.16318861565803292, 0.06799525652418038], \"Term\": [\"  \", \"  \", \"  \", \"  \", \"  \", \"  \", \"  \", \"  \", \"  \", \"  \", \"   \", \"   \", \"   \", \"   \", \"   \", \"   \", \"   \", \"   \", \"   \", \"   \", \"    \", \"    \", \"    \", \"    \", \"    \", \"    \", \"    \", \"    \", \"    \", \"    \", \"                                                                                             \", \"                                                                                                                                                                                                                      \", \"-PRON-\", \"-PRON-\", \"-PRON-\", \"-PRON-\", \"-PRON-\", \"-PRON-\", \"-PRON-\", \"-PRON-\", \"-PRON-\", \"-PRON-\", \"10\", \"10\", \"10\", \"10\", \"10\", \"10\", \"10\", \"10\", \"10\", \"10\", \"2\", \"2\", \"2\", \"2\", \"2\", \"2\", \"2\", \"2\", \"2\", \"2\", \"2004\", \"2004\", \"2004\", \"2004\", \"2004\", \"2004\", \"241\", \"241\", \"2hours\", \"3\", \"3\", \"3\", \"3\", \"3\", \"3\", \"3\", \"3\", \"3\", \"3\", \"30\", \"30\", \"30\", \"30\", \"30\", \"30\", \"30\", \"30\", \"30\", \"30\", \"4\", \"4\", \"4\", \"4\", \"4\", \"4\", \"4\", \"4\", \"4\", \"4\", \"400sqft\", \"5\", \"5\", \"5\", \"5\", \"5\", \"5\", \"5\", \"5\", \"5\", \"5\", \"Ajay\", \"Bakery\", \"Bakery\", \"Bakery\", \"Bakery\", \"Bakery\", \"Bakery\", \"Bakery\", \"Bakery\", \"Bakery\", \"Bakery\", \"Bao\", \"Barros\", \"Bastard\", \"Brandi\", \"Breakfasts\", \"Bregman\", \"Building\", \"Cafeteria\", \"Caliente\", \"Chad\", \"Chen\", \"Conrad\", \"Convent\", \"Corbin\", \"Creek\", \"Creek\", \"Creek\", \"Creek\", \"Creek\", \"Creek\", \"Creek\", \"Creek\", \"Creek\", \"Creek\", \"Delta\", \"Discount\", \"Discount\", \"Discount\", \"Discount\", \"Discount\", \"Discount\", \"Edward\", \"Enjoy\", \"Erik\", \"Franktuary\", \"Grandma\", \"Hardware\", \"Javier\", \"Julep\", \"Kang\", \"Kang\", \"Kang\", \"LEGO\", \"Latin\", \"Lebanese\", \"Linda\", \"Linda\", \"Liquor\", \"Luci\", \"Luci\", \"Luis\", \"Matthews\", \"Melinda\", \"Melinda\", \"Movers\", \"Murphy\", \"Natalie\", \"Natalie\", \"Natalie\", \"Natalie\", \"Natalie\", \"Natalie\", \"Natalie\", \"Natalie\", \"PNW\", \"Paperjoy\", \"Pass\", \"Pass\", \"Pavers\", \"Phillips\", \"Pittsburgh\", \"Pittsburgh\", \"Pittsburgh\", \"Pittsburgh\", \"Pittsburgh\", \"Pittsburgh\", \"Pittsburgh\", \"Pittsburgh\", \"Pittsburgh\", \"Pittsburgh\", \"Pizio\", \"Ppl\", \"Ranchero\", \"Ranchero\", \"Roll\", \"Roll\", \"Roll\", \"Roll\", \"Roll\", \"Roll\", \"Roll\", \"Roll\", \"Roll\", \"Roll\", \"Ronnie\", \"Ronnie\", \"Ronnie\", \"Saj\", \"Sbarro\", \"Shatangi\", \"Smiles\", \"Stacy\", \"Starbucks\", \"Starbucks\", \"Starbucks\", \"Starbucks\", \"Starbucks\", \"Starbucks\", \"Starbucks\", \"Starbucks\", \"Starbucks\", \"Starbucks\", \"Stu\", \"Suzanne\", \"Thai\", \"Thai\", \"Thai\", \"Thai\", \"Thai\", \"Thai\", \"Thai\", \"Thai\", \"Thai\", \"Thai\", \"Thompson\", \"Tihare\", \"Tower\", \"Tower\", \"Tower\", \"Tower\", \"Tower\", \"Tower\", \"Tower\", \"Tower\", \"Tower\", \"Tower\", \"Unimpressive\", \"Vegas\", \"Vegas\", \"Vegas\", \"Vegas\", \"Vegas\", \"Vegas\", \"Vegas\", \"Vegas\", \"Vegas\", \"Vegas\", \"Werks\", \"YC\", \"Yelp\", \"Yelp\", \"Yelp\", \"Yelp\", \"Yelp\", \"Yelp\", \"Yelp\", \"Yelp\", \"Yelp\", \"Yelp\", \"Yuk\", \"Yuk\", \"Yuk\", \"Yuk\", \"Yuk\", \"actually\", \"actually\", \"actually\", \"actually\", \"actually\", \"actually\", \"actually\", \"actually\", \"actually\", \"actually\", \"after\", \"after\", \"after\", \"after\", \"after\", \"after\", \"after\", \"after\", \"after\", \"after\", \"agian\", \"aloo\", \"aloo\", \"aloo\", \"amazing\", \"amazing\", \"amazing\", \"amazing\", \"amazing\", \"amazing\", \"amazing\", \"amazing\", \"amazing\", \"amazing\", \"and\", \"and\", \"and\", \"and\", \"and\", \"and\", \"and\", \"and\", \"and\", \"and\", \"appreciate\", \"appreciate\", \"appreciate\", \"appreciate\", \"appreciate\", \"appreciate\", \"appreciate\", \"appreciate\", \"appreciate\", \"appreciate\", \"area\", \"area\", \"area\", \"area\", \"area\", \"area\", \"area\", \"area\", \"area\", \"area\", \"ask\", \"ask\", \"ask\", \"ask\", \"ask\", \"ask\", \"ask\", \"ask\", \"ask\", \"ask\", \"at\", \"at\", \"at\", \"at\", \"at\", \"at\", \"at\", \"at\", \"at\", \"at\", \"awesome\", \"awesome\", \"awesome\", \"awesome\", \"awesome\", \"awesome\", \"awesome\", \"awesome\", \"awesome\", \"awesome\", \"bagel\", \"bagel\", \"bagel\", \"bagel\", \"bagel\", \"bagel\", \"bagel\", \"bagel\", \"bagel\", \"bagel\", \"bar\", \"bar\", \"bar\", \"bar\", \"bar\", \"bar\", \"bar\", \"bar\", \"bar\", \"bar\", \"bartende\", \"basa\", \"bean\", \"bean\", \"bean\", \"bean\", \"bean\", \"bean\", \"bean\", \"bean\", \"bean\", \"bean\", \"beautiful\", \"beautiful\", \"beautiful\", \"beautiful\", \"beautiful\", \"beautiful\", \"beautiful\", \"beautiful\", \"beautiful\", \"beautiful\", \"beer\", \"beer\", \"beer\", \"beer\", \"beer\", \"beer\", \"beer\", \"beer\", \"beer\", \"beer\", \"better\", \"better\", \"better\", \"better\", \"better\", \"better\", \"better\", \"better\", \"better\", \"better\", \"big\", \"big\", \"big\", \"big\", \"big\", \"big\", \"big\", \"big\", \"big\", \"big\", \"boba\", \"boba\", \"boba\", \"boba\", \"boba\", \"boba\", \"boba\", \"boba\", \"boba\", \"boba\", \"boot\", \"boot\", \"boot\", \"boot\", \"boot\", \"boot\", \"boot\", \"boot\", \"boot\", \"boot\", \"box\", \"box\", \"box\", \"box\", \"box\", \"box\", \"box\", \"box\", \"box\", \"box\", \"break\", \"break\", \"break\", \"break\", \"break\", \"break\", \"break\", \"break\", \"break\", \"break\", \"brew\", \"brew\", \"brew\", \"brew\", \"brew\", \"brew\", \"brew\", \"brew\", \"brew\", \"brew\", \"bring\", \"bring\", \"bring\", \"bring\", \"bring\", \"bring\", \"bring\", \"bring\", \"bring\", \"bring\", \"burger\", \"burger\", \"burger\", \"burger\", \"burger\", \"burger\", \"burger\", \"burger\", \"burger\", \"burger\", \"buy\", \"buy\", \"buy\", \"buy\", \"buy\", \"buy\", \"buy\", \"buy\", \"buy\", \"buy\", \"call\", \"call\", \"call\", \"call\", \"call\", \"call\", \"call\", \"call\", \"call\", \"call\", \"care\", \"care\", \"care\", \"care\", \"care\", \"care\", \"care\", \"care\", \"care\", \"care\", \"carpaccio\", \"carpaccio\", \"carpaccio\", \"carpaccio\", \"carpaccio\", \"carpaccio\", \"carpaccio\", \"carpaccio\", \"carpaccio\", \"carpaccio\", \"chance\", \"chance\", \"chance\", \"chance\", \"chance\", \"chance\", \"chance\", \"chance\", \"chance\", \"chance\", \"charge\", \"charge\", \"charge\", \"charge\", \"charge\", \"charge\", \"charge\", \"charge\", \"charge\", \"charge\", \"check\", \"check\", \"check\", \"check\", \"check\", \"check\", \"check\", \"check\", \"check\", \"check\", \"cheese\", \"cheese\", \"cheese\", \"cheese\", \"cheese\", \"cheese\", \"cheese\", \"cheese\", \"cheese\", \"cheese\", \"chicken\", \"chicken\", \"chicken\", \"chicken\", \"chicken\", \"chicken\", \"chicken\", \"chicken\", \"chicken\", \"chicken\", \"choose\", \"choose\", \"choose\", \"choose\", \"choose\", \"choose\", \"choose\", \"choose\", \"choose\", \"choose\", \"cocktail\", \"cocktail\", \"cocktail\", \"cocktail\", \"cocktail\", \"cocktail\", \"cocktail\", \"cocktail\", \"cocktail\", \"cocktail\", \"coffee\", \"coffee\", \"coffee\", \"coffee\", \"coffee\", \"coffee\", \"coffee\", \"coffee\", \"coffee\", \"coffee\", \"coffeeshop\", \"come\", \"come\", \"come\", \"come\", \"come\", \"come\", \"come\", \"come\", \"come\", \"come\", \"cook\", \"cook\", \"cook\", \"cook\", \"cook\", \"cook\", \"cook\", \"cook\", \"cook\", \"cook\", \"corn\", \"corn\", \"corn\", \"corn\", \"corn\", \"corn\", \"corn\", \"corn\", \"corn\", \"corn\", \"crap\", \"crap\", \"crap\", \"crap\", \"crap\", \"crap\", \"crap\", \"crap\", \"crap\", \"crap\", \"creative\", \"creative\", \"creative\", \"creative\", \"creative\", \"creative\", \"creative\", \"creative\", \"creative\", \"creative\", \"cruffin\", \"curry\", \"curry\", \"curry\", \"curry\", \"curry\", \"curry\", \"curry\", \"curry\", \"curry\", \"curry\", \"customer\", \"customer\", \"customer\", \"customer\", \"customer\", \"customer\", \"customer\", \"customer\", \"customer\", \"customer\", \"cute\", \"cute\", \"cute\", \"cute\", \"cute\", \"cute\", \"cute\", \"cute\", \"cute\", \"cute\", \"dance\", \"dance\", \"dance\", \"dance\", \"dance\", \"dance\", \"dance\", \"dance\", \"dance\", \"dance\", \"day\", \"day\", \"day\", \"day\", \"day\", \"day\", \"day\", \"day\", \"day\", \"day\", \"decent\", \"decent\", \"decent\", \"decent\", \"decent\", \"decent\", \"decent\", \"decent\", \"decent\", \"decent\", \"definitely\", \"definitely\", \"definitely\", \"definitely\", \"definitely\", \"definitely\", \"definitely\", \"definitely\", \"definitely\", \"definitely\", \"delicious\", \"delicious\", \"delicious\", \"delicious\", \"delicious\", \"delicious\", \"delicious\", \"delicious\", \"delicious\", \"delicious\", \"diabetes\", \"didn\", \"didn\", \"didn\", \"didn\", \"didn\", \"didn\", \"didn\", \"didn\", \"didn\", \"didn\", \"diligent\", \"diligent\", \"dinner\", \"dinner\", \"dinner\", \"dinner\", \"dinner\", \"dinner\", \"dinner\", \"dinner\", \"dinner\", \"dinner\", \"do\", \"do\", \"do\", \"do\", \"do\", \"do\", \"do\", \"do\", \"do\", \"do\", \"don\", \"don\", \"don\", \"don\", \"don\", \"don\", \"don\", \"don\", \"don\", \"don\", \"donair\", \"donair\", \"donair\", \"drink\", \"drink\", \"drink\", \"drink\", \"drink\", \"drink\", \"drink\", \"drink\", \"drink\", \"drink\", \"eastern\", \"eastern\", \"eastern\", \"eastern\", \"eastern\", \"eastern\", \"eastern\", \"eastern\", \"eastern\", \"eastern\", \"easy\", \"easy\", \"easy\", \"easy\", \"easy\", \"easy\", \"easy\", \"easy\", \"easy\", \"easy\", \"eat\", \"eat\", \"eat\", \"eat\", \"eat\", \"eat\", \"eat\", \"eat\", \"eat\", \"eat\", \"employee\", \"employee\", \"employee\", \"employee\", \"employee\", \"employee\", \"employee\", \"employee\", \"employee\", \"employee\", \"end\", \"end\", \"end\", \"end\", \"end\", \"end\", \"end\", \"end\", \"end\", \"end\", \"enjoy\", \"enjoy\", \"enjoy\", \"enjoy\", \"enjoy\", \"enjoy\", \"enjoy\", \"enjoy\", \"enjoy\", \"enjoy\", \"et\", \"et\", \"et\", \"et\", \"et\", \"et\", \"et\", \"et\", \"et\", \"et\", \"everrrrr\", \"excellent\", \"excellent\", \"excellent\", \"excellent\", \"excellent\", \"excellent\", \"excellent\", \"excellent\", \"excellent\", \"excellent\", \"expect\", \"expect\", \"expect\", \"expect\", \"expect\", \"expect\", \"expect\", \"expect\", \"expect\", \"expect\", \"experience\", \"experience\", \"experience\", \"experience\", \"experience\", \"experience\", \"experience\", \"experience\", \"experience\", \"experience\", \"family\", \"family\", \"family\", \"family\", \"family\", \"family\", \"family\", \"family\", \"family\", \"family\", \"fantastic\", \"fantastic\", \"fantastic\", \"fantastic\", \"fantastic\", \"fantastic\", \"fantastic\", \"fantastic\", \"fantastic\", \"fantastic\", \"far\", \"far\", \"far\", \"far\", \"far\", \"far\", \"far\", \"far\", \"far\", \"far\", \"fast\", \"fast\", \"fast\", \"fast\", \"fast\", \"fast\", \"fast\", \"fast\", \"fast\", \"fast\", \"favorite\", \"favorite\", \"favorite\", \"favorite\", \"favorite\", \"favorite\", \"favorite\", \"favorite\", \"favorite\", \"favorite\", \"find\", \"find\", \"find\", \"find\", \"find\", \"find\", \"find\", \"find\", \"find\", \"find\", \"fix\", \"fix\", \"fix\", \"fix\", \"fix\", \"fix\", \"fix\", \"fix\", \"fix\", \"fix\", \"flavor\", \"flavor\", \"flavor\", \"flavor\", \"flavor\", \"flavor\", \"flavor\", \"flavor\", \"flavor\", \"flavor\", \"fratta\", \"free\", \"free\", \"free\", \"free\", \"free\", \"free\", \"free\", \"free\", \"free\", \"free\", \"fresh\", \"fresh\", \"fresh\", \"fresh\", \"fresh\", \"fresh\", \"fresh\", \"fresh\", \"fresh\", \"fresh\", \"friend\", \"friend\", \"friend\", \"friend\", \"friend\", \"friend\", \"friend\", \"friend\", \"friend\", \"friend\", \"friendly\", \"friendly\", \"friendly\", \"friendly\", \"friendly\", \"friendly\", \"friendly\", \"friendly\", \"friendly\", \"friendly\", \"frog\", \"frog\", \"frog\", \"frog\", \"frog\", \"frog\", \"frys\", \"frys\", \"frys\", \"fun\", \"fun\", \"fun\", \"fun\", \"fun\", \"fun\", \"fun\", \"fun\", \"fun\", \"fun\", \"get\", \"get\", \"get\", \"get\", \"get\", \"get\", \"get\", \"get\", \"get\", \"get\", \"give\", \"give\", \"give\", \"give\", \"give\", \"give\", \"give\", \"give\", \"give\", \"give\", \"go\", \"go\", \"go\", \"go\", \"go\", \"go\", \"go\", \"go\", \"go\", \"go\", \"golfing\", \"good\", \"good\", \"good\", \"good\", \"good\", \"good\", \"good\", \"good\", \"good\", \"good\", \"gosh\", \"gosh\", \"greasy\", \"greasy\", \"greasy\", \"greasy\", \"greasy\", \"greasy\", \"greasy\", \"greasy\", \"greasy\", \"greasy\", \"great\", \"great\", \"great\", \"great\", \"great\", \"great\", \"great\", \"great\", \"great\", \"great\", \"green\", \"green\", \"green\", \"green\", \"green\", \"green\", \"green\", \"green\", \"green\", \"green\", \"halo\", \"halo\", \"halo\", \"halo\", \"halo\", \"halo\", \"have\", \"have\", \"have\", \"have\", \"have\", \"have\", \"have\", \"have\", \"have\", \"have\", \"hear\", \"hear\", \"hear\", \"hear\", \"hear\", \"hear\", \"hear\", \"hear\", \"hear\", \"hear\", \"help\", \"help\", \"help\", \"help\", \"help\", \"help\", \"help\", \"help\", \"help\", \"help\", \"helpful\", \"helpful\", \"helpful\", \"helpful\", \"helpful\", \"helpful\", \"helpful\", \"helpful\", \"helpful\", \"helpful\", \"hot\", \"hot\", \"hot\", \"hot\", \"hot\", \"hot\", \"hot\", \"hot\", \"hot\", \"hot\", \"hotel\", \"hotel\", \"hotel\", \"hotel\", \"hotel\", \"hotel\", \"hotel\", \"hotel\", \"hotel\", \"hotel\", \"hour\", \"hour\", \"hour\", \"hour\", \"hour\", \"hour\", \"hour\", \"hour\", \"hour\", \"hour\", \"house\", \"house\", \"house\", \"house\", \"house\", \"house\", \"house\", \"house\", \"house\", \"house\", \"i\", \"i\", \"i\", \"i\", \"i\", \"i\", \"i\", \"i\", \"i\", \"i\", \"ice\", \"ice\", \"ice\", \"ice\", \"ice\", \"ice\", \"ice\", \"ice\", \"ice\", \"ice\", \"iced\", \"iced\", \"iced\", \"iced\", \"iced\", \"iced\", \"iced\", \"iced\", \"iced\", \"iced\", \"indicator\", \"intelligent\", \"intelligent\", \"isn\", \"isn\", \"isn\", \"isn\", \"isn\", \"isn\", \"isn\", \"isn\", \"isn\", \"isn\", \"jellyfish\", \"jellyfish\", \"jellyfish\", \"just\", \"just\", \"just\", \"just\", \"just\", \"just\", \"just\", \"just\", \"just\", \"just\", \"keep\", \"keep\", \"keep\", \"keep\", \"keep\", \"keep\", \"keep\", \"keep\", \"keep\", \"keep\", \"kimchi\", \"kimchi\", \"kimchi\", \"kimchi\", \"kimchi\", \"kimchi\", \"kimchi\", \"kimchi\", \"kimchi\", \"kimchi\", \"know\", \"know\", \"know\", \"know\", \"know\", \"know\", \"know\", \"know\", \"know\", \"know\", \"korean\", \"korean\", \"korean\", \"korean\", \"korean\", \"korean\", \"korean\", \"korean\", \"korean\", \"korean\", \"lady\", \"lady\", \"lady\", \"lady\", \"lady\", \"lady\", \"lady\", \"lady\", \"lady\", \"lady\", \"late\", \"late\", \"late\", \"late\", \"late\", \"late\", \"late\", \"late\", \"late\", \"late\", \"leave\", \"leave\", \"leave\", \"leave\", \"leave\", \"leave\", \"leave\", \"leave\", \"leave\", \"leave\", \"like\", \"like\", \"like\", \"like\", \"like\", \"like\", \"like\", \"like\", \"like\", \"like\", \"line\", \"line\", \"line\", \"line\", \"line\", \"line\", \"line\", \"line\", \"line\", \"line\", \"literally\", \"literally\", \"literally\", \"literally\", \"literally\", \"literally\", \"literally\", \"literally\", \"literally\", \"literally\", \"little\", \"little\", \"little\", \"little\", \"little\", \"little\", \"little\", \"little\", \"little\", \"little\", \"live\", \"live\", \"live\", \"live\", \"live\", \"live\", \"live\", \"live\", \"live\", \"live\", \"location\", \"location\", \"location\", \"location\", \"location\", \"location\", \"location\", \"location\", \"location\", \"location\", \"long\", \"long\", \"long\", \"long\", \"long\", \"long\", \"long\", \"long\", \"long\", \"long\", \"look\", \"look\", \"look\", \"look\", \"look\", \"look\", \"look\", \"look\", \"look\", \"look\", \"lot\", \"lot\", \"lot\", \"lot\", \"lot\", \"lot\", \"lot\", \"lot\", \"lot\", \"lot\", \"love\", \"love\", \"love\", \"love\", \"love\", \"love\", \"love\", \"love\", \"love\", \"love\", \"lunch\", \"lunch\", \"lunch\", \"lunch\", \"lunch\", \"lunch\", \"lunch\", \"lunch\", \"lunch\", \"lunch\", \"luxuriously\", \"make\", \"make\", \"make\", \"make\", \"make\", \"make\", \"make\", \"make\", \"make\", \"make\", \"margarita\", \"margarita\", \"margarita\", \"margarita\", \"margarita\", \"margarita\", \"margarita\", \"margarita\", \"margarita\", \"margarita\", \"maybe\", \"maybe\", \"maybe\", \"maybe\", \"maybe\", \"maybe\", \"maybe\", \"maybe\", \"maybe\", \"maybe\", \"meal\", \"meal\", \"meal\", \"meal\", \"meal\", \"meal\", \"meal\", \"meal\", \"meal\", \"meal\", \"meat\", \"meat\", \"meat\", \"meat\", \"meat\", \"meat\", \"meat\", \"meat\", \"meat\", \"meat\", \"medallion\", \"medallion\", \"medallion\", \"medallion\", \"medium\", \"medium\", \"medium\", \"medium\", \"medium\", \"medium\", \"medium\", \"medium\", \"medium\", \"medium\", \"membership\", \"membership\", \"membership\", \"membership\", \"membership\", \"membership\", \"membership\", \"membership\", \"membership\", \"membership\", \"menu\", \"menu\", \"menu\", \"menu\", \"menu\", \"menu\", \"menu\", \"menu\", \"menu\", \"menu\", \"mexican\", \"mexican\", \"mexican\", \"mexican\", \"mexican\", \"mexican\", \"mexican\", \"mexican\", \"mexican\", \"mexican\", \"minestrone\", \"miss\", \"miss\", \"miss\", \"miss\", \"miss\", \"miss\", \"miss\", \"miss\", \"miss\", \"miss\", \"mixologist\", \"morning\", \"morning\", \"morning\", \"morning\", \"morning\", \"morning\", \"morning\", \"morning\", \"morning\", \"morning\", \"mushroom\", \"mushroom\", \"mushroom\", \"mushroom\", \"mushroom\", \"mushroom\", \"mushroom\", \"mushroom\", \"mushroom\", \"mushroom\", \"muster\", \"musubi\", \"nack\", \"nail\", \"nail\", \"nail\", \"nail\", \"nail\", \"nail\", \"nail\", \"nail\", \"nail\", \"nail\", \"nb\", \"need\", \"need\", \"need\", \"need\", \"need\", \"need\", \"need\", \"need\", \"need\", \"need\", \"new\", \"new\", \"new\", \"new\", \"new\", \"new\", \"new\", \"new\", \"new\", \"new\", \"nice\", \"nice\", \"nice\", \"nice\", \"nice\", \"nice\", \"nice\", \"nice\", \"nice\", \"nice\", \"not\", \"not\", \"not\", \"not\", \"not\", \"not\", \"not\", \"not\", \"not\", \"not\", \"oh\", \"oh\", \"oh\", \"oh\", \"oh\", \"oh\", \"oh\", \"oh\", \"oh\", \"oh\", \"order\", \"order\", \"order\", \"order\", \"order\", \"order\", \"order\", \"order\", \"order\", \"order\", \"party\", \"party\", \"party\", \"party\", \"party\", \"party\", \"party\", \"party\", \"party\", \"party\", \"pay\", \"pay\", \"pay\", \"pay\", \"pay\", \"pay\", \"pay\", \"pay\", \"pay\", \"pay\", \"pedicure\", \"pedicure\", \"pedicure\", \"pedicure\", \"pedicure\", \"pedicure\", \"pedicure\", \"pedicure\", \"pedicure\", \"pedicure\", \"people\", \"people\", \"people\", \"people\", \"people\", \"people\", \"people\", \"people\", \"people\", \"people\", \"plumbing\", \"plumbing\", \"plumbing\", \"plumbing\", \"plumbing\", \"plumbing\", \"plumbing\", \"plumbing\", \"plumbing\", \"plumbing\", \"point\", \"point\", \"point\", \"point\", \"point\", \"point\", \"point\", \"point\", \"point\", \"point\", \"pok\", \"pretty\", \"pretty\", \"pretty\", \"pretty\", \"pretty\", \"pretty\", \"pretty\", \"pretty\", \"pretty\", \"pretty\", \"price\", \"price\", \"price\", \"price\", \"price\", \"price\", \"price\", \"price\", \"price\", \"price\", \"probably\", \"probably\", \"probably\", \"probably\", \"probably\", \"probably\", \"probably\", \"probably\", \"probably\", \"probably\", \"professional\", \"professional\", \"professional\", \"professional\", \"professional\", \"professional\", \"professional\", \"professional\", \"professional\", \"professional\", \"quality\", \"quality\", \"quality\", \"quality\", \"quality\", \"quality\", \"quality\", \"quality\", \"quality\", \"quality\", \"reasonable\", \"reasonable\", \"reasonable\", \"reasonable\", \"reasonable\", \"reasonable\", \"reasonable\", \"reasonable\", \"reasonable\", \"reasonable\", \"reassure\", \"recomend\", \"recomend\", \"recomend\", \"recommend\", \"recommend\", \"recommend\", \"recommend\", \"recommend\", \"recommend\", \"recommend\", \"recommend\", \"recommend\", \"recommend\", \"res\", \"res\", \"res\", \"res\", \"res\", \"res\", \"res\", \"res\", \"res\", \"res\", \"reservation\", \"reservation\", \"reservation\", \"reservation\", \"reservation\", \"reservation\", \"reservation\", \"reservation\", \"reservation\", \"reservation\", \"resize\", \"review\", \"review\", \"review\", \"review\", \"review\", \"review\", \"review\", \"review\", \"review\", \"review\", \"rice\", \"rice\", \"rice\", \"rice\", \"rice\", \"rice\", \"rice\", \"rice\", \"rice\", \"rice\", \"right\", \"right\", \"right\", \"right\", \"right\", \"right\", \"right\", \"right\", \"right\", \"right\", \"room\", \"room\", \"room\", \"room\", \"room\", \"room\", \"room\", \"room\", \"room\", \"room\", \"run\", \"run\", \"run\", \"run\", \"run\", \"run\", \"run\", \"run\", \"run\", \"run\", \"salad\", \"salad\", \"salad\", \"salad\", \"salad\", \"salad\", \"salad\", \"salad\", \"salad\", \"salad\", \"sandwich\", \"sandwich\", \"sandwich\", \"sandwich\", \"sandwich\", \"sandwich\", \"sandwich\", \"sandwich\", \"sandwich\", \"sandwich\", \"sauce\", \"sauce\", \"sauce\", \"sauce\", \"sauce\", \"sauce\", \"sauce\", \"sauce\", \"sauce\", \"sauce\", \"say\", \"say\", \"say\", \"say\", \"say\", \"say\", \"say\", \"say\", \"say\", \"say\", \"seat\", \"seat\", \"seat\", \"seat\", \"seat\", \"seat\", \"seat\", \"seat\", \"seat\", \"seat\", \"second\", \"second\", \"second\", \"second\", \"second\", \"second\", \"second\", \"second\", \"second\", \"second\", \"selection\", \"selection\", \"selection\", \"selection\", \"selection\", \"selection\", \"selection\", \"selection\", \"selection\", \"selection\", \"server\", \"server\", \"server\", \"server\", \"server\", \"server\", \"server\", \"server\", \"server\", \"server\", \"service\", \"service\", \"service\", \"service\", \"service\", \"service\", \"service\", \"service\", \"service\", \"service\", \"sevice\", \"shoooz\", \"shop\", \"shop\", \"shop\", \"shop\", \"shop\", \"shop\", \"shop\", \"shop\", \"shop\", \"shop\", \"shore\", \"shtick\", \"slush\", \"slush\", \"slut\", \"small\", \"small\", \"small\", \"small\", \"small\", \"small\", \"small\", \"small\", \"small\", \"small\", \"smoke\", \"smoke\", \"smoke\", \"smoke\", \"smoke\", \"smoke\", \"smoke\", \"smoke\", \"smoke\", \"smoke\", \"so\", \"so\", \"so\", \"so\", \"so\", \"so\", \"so\", \"so\", \"so\", \"so\", \"sonoran\", \"sonoran\", \"sonoran\", \"sonoran\", \"soon\", \"soon\", \"soon\", \"soon\", \"soon\", \"soon\", \"soon\", \"soon\", \"soon\", \"soon\", \"sooo\", \"sooo\", \"sooo\", \"sooo\", \"sooo\", \"sooo\", \"sooo\", \"sooo\", \"sooo\", \"sooo\", \"spend\", \"spend\", \"spend\", \"spend\", \"spend\", \"spend\", \"spend\", \"spend\", \"spend\", \"spend\", \"spot\", \"spot\", \"spot\", \"spot\", \"spot\", \"spot\", \"spot\", \"spot\", \"spot\", \"spot\", \"squishie\", \"stab\", \"staff\", \"staff\", \"staff\", \"staff\", \"staff\", \"staff\", \"staff\", \"staff\", \"staff\", \"staff\", \"star\", \"star\", \"star\", \"star\", \"star\", \"star\", \"star\", \"star\", \"star\", \"star\", \"station\", \"station\", \"station\", \"station\", \"station\", \"station\", \"station\", \"station\", \"station\", \"station\", \"stay\", \"stay\", \"stay\", \"stay\", \"stay\", \"stay\", \"stay\", \"stay\", \"stay\", \"stay\", \"steroid\", \"suck\", \"suck\", \"suck\", \"suck\", \"suck\", \"suck\", \"suck\", \"suck\", \"suck\", \"suck\", \"sure\", \"sure\", \"sure\", \"sure\", \"sure\", \"sure\", \"sure\", \"sure\", \"sure\", \"sure\", \"swamp\", \"swedish\", \"sweet\", \"sweet\", \"sweet\", \"sweet\", \"sweet\", \"sweet\", \"sweet\", \"sweet\", \"sweet\", \"sweet\", \"swinge\", \"swordfish\", \"table\", \"table\", \"table\", \"table\", \"table\", \"table\", \"table\", \"table\", \"table\", \"table\", \"take\", \"take\", \"take\", \"take\", \"take\", \"take\", \"take\", \"take\", \"take\", \"take\", \"taste\", \"taste\", \"taste\", \"taste\", \"taste\", \"taste\", \"taste\", \"taste\", \"taste\", \"taste\", \"tell\", \"tell\", \"tell\", \"tell\", \"tell\", \"tell\", \"tell\", \"tell\", \"tell\", \"tell\", \"tha\", \"the\", \"the\", \"the\", \"the\", \"the\", \"the\", \"the\", \"the\", \"the\", \"the\", \"thing\", \"thing\", \"thing\", \"thing\", \"thing\", \"thing\", \"thing\", \"thing\", \"thing\", \"thing\", \"think\", \"think\", \"think\", \"think\", \"think\", \"think\", \"think\", \"think\", \"think\", \"think\", \"this\", \"this\", \"this\", \"this\", \"this\", \"this\", \"this\", \"this\", \"this\", \"this\", \"tikki\", \"tikki\", \"tikki\", \"time\", \"time\", \"time\", \"time\", \"time\", \"time\", \"time\", \"time\", \"time\", \"time\", \"treat\", \"treat\", \"treat\", \"treat\", \"treat\", \"treat\", \"treat\", \"treat\", \"treat\", \"treat\", \"try\", \"try\", \"try\", \"try\", \"try\", \"try\", \"try\", \"try\", \"try\", \"try\", \"une\", \"une\", \"une\", \"une\", \"une\", \"une\", \"une\", \"une\", \"une\", \"une\", \"unite\", \"value\", \"value\", \"value\", \"value\", \"value\", \"value\", \"value\", \"value\", \"value\", \"value\", \"vein\", \"very\", \"very\", \"very\", \"very\", \"very\", \"very\", \"very\", \"very\", \"very\", \"very\", \"visit\", \"visit\", \"visit\", \"visit\", \"visit\", \"visit\", \"visit\", \"visit\", \"visit\", \"visit\", \"wait\", \"wait\", \"wait\", \"wait\", \"wait\", \"wait\", \"wait\", \"wait\", \"wait\", \"wait\", \"waitress\", \"waitress\", \"waitress\", \"waitress\", \"waitress\", \"waitress\", \"waitress\", \"waitress\", \"waitress\", \"waitress\", \"walk\", \"walk\", \"walk\", \"walk\", \"walk\", \"walk\", \"walk\", \"walk\", \"walk\", \"walk\", \"want\", \"want\", \"want\", \"want\", \"want\", \"want\", \"want\", \"want\", \"want\", \"want\", \"way\", \"way\", \"way\", \"way\", \"way\", \"way\", \"way\", \"way\", \"way\", \"way\", \"week\", \"week\", \"week\", \"week\", \"week\", \"week\", \"week\", \"week\", \"week\", \"week\", \"well\", \"well\", \"well\", \"well\", \"well\", \"well\", \"well\", \"well\", \"well\", \"well\", \"when\", \"when\", \"when\", \"when\", \"when\", \"when\", \"when\", \"when\", \"when\", \"when\", \"woop\", \"woop\", \"woot\", \"woot\", \"woot\", \"woot\", \"work\", \"work\", \"work\", \"work\", \"work\", \"work\", \"work\", \"work\", \"work\", \"work\", \"yeah\", \"yeah\", \"yeah\", \"yeah\", \"yeah\", \"yeah\", \"yeah\", \"yeah\", \"yeah\", \"yeah\", \"year\", \"year\", \"year\", \"year\", \"year\", \"year\", \"year\", \"year\", \"year\", \"year\", \"yuk\", \"yuk\", \"yuk\", \"yuk\", \"yuk\", \"yuk\", \"yuk\", \"yuk\", \"yuk\", \"yuk\", \"yum\", \"yum\", \"yum\", \"yum\", \"yum\", \"yum\", \"yum\", \"yum\", \"yum\", \"yum\"]}, \"R\": 30, \"lambda.step\": 0.01, \"plot.opts\": {\"xlab\": \"PC1\", \"ylab\": \"PC2\"}, \"topic.order\": [2, 3, 10, 7, 9, 1, 6, 4, 8, 5]};\n",
       "\n",
       "function LDAvis_load_lib(url, callback){\n",
       "  var s = document.createElement('script');\n",
       "  s.src = url;\n",
       "  s.async = true;\n",
       "  s.onreadystatechange = s.onload = callback;\n",
       "  s.onerror = function(){console.warn(\"failed to load library \" + url);};\n",
       "  document.getElementsByTagName(\"head\")[0].appendChild(s);\n",
       "}\n",
       "\n",
       "if(typeof(LDAvis) !== \"undefined\"){\n",
       "   // already loaded: just create the visualization\n",
       "   !function(LDAvis){\n",
       "       new LDAvis(\"#\" + \"ldavis_el1021399854705910488726507087\", ldavis_el1021399854705910488726507087_data);\n",
       "   }(LDAvis);\n",
       "}else if(typeof define === \"function\" && define.amd){\n",
       "   // require.js is available: use it to load d3/LDAvis\n",
       "   require.config({paths: {d3: \"https://cdnjs.cloudflare.com/ajax/libs/d3/3.5.5/d3.min\"}});\n",
       "   require([\"d3\"], function(d3){\n",
       "      window.d3 = d3;\n",
       "      LDAvis_load_lib(\"https://cdn.rawgit.com/bmabey/pyLDAvis/files/ldavis.v1.0.0.js\", function(){\n",
       "        new LDAvis(\"#\" + \"ldavis_el1021399854705910488726507087\", ldavis_el1021399854705910488726507087_data);\n",
       "      });\n",
       "    });\n",
       "}else{\n",
       "    // require.js not available: dynamically load d3 & LDAvis\n",
       "    LDAvis_load_lib(\"https://cdnjs.cloudflare.com/ajax/libs/d3/3.5.5/d3.min.js\", function(){\n",
       "         LDAvis_load_lib(\"https://cdn.rawgit.com/bmabey/pyLDAvis/files/ldavis.v1.0.0.js\", function(){\n",
       "                 new LDAvis(\"#\" + \"ldavis_el1021399854705910488726507087\", ldavis_el1021399854705910488726507087_data);\n",
       "            })\n",
       "         });\n",
       "}\n",
       "</script>"
      ],
      "text/plain": [
       "PreparedData(topic_coordinates=              x         y  topics  cluster       Freq\n",
       "topic                                                \n",
       "1     -0.005715 -0.001974       1        1  11.172220\n",
       "2     -0.003733 -0.000623       2        1  10.581857\n",
       "9     -0.001459  0.002122       3        1  10.503297\n",
       "6      0.001463  0.001647       4        1   9.885360\n",
       "8      0.002788 -0.002358       5        1   9.848550\n",
       "0     -0.001227  0.002576       6        1   9.829308\n",
       "5      0.001799 -0.001934       7        1   9.815844\n",
       "3      0.000468  0.000086       8        1   9.710727\n",
       "7      0.002985 -0.002689       9        1   9.517833\n",
       "4      0.002631  0.003147      10        1   9.135005, topic_info=        Term          Freq         Total Category  logprob  loglift\n",
       "0             25468.000000  25468.000000  Default  30.0000  30.0000\n",
       "41       the   9170.000000   9170.000000  Default  29.0000  29.0000\n",
       "168    price   1729.000000   1729.000000  Default  28.0000  28.0000\n",
       "315  service   3461.000000   3461.000000  Default  27.0000  27.0000\n",
       "89       get   2833.000000   2833.000000  Default  26.0000  26.0000\n",
       "..       ...           ...           ...      ...      ...      ...\n",
       "382     find    148.929775   1536.647573  Topic10  -5.8429   0.0592\n",
       "524     tell    144.647925   1459.184621  Topic10  -5.8721   0.0817\n",
       "731     love    169.414005   2186.168584  Topic10  -5.7140  -0.1645\n",
       "29      look    146.144102   1899.478152  Topic10  -5.8618  -0.1717\n",
       "325     want    141.110320   1791.393521  Topic10  -5.8968  -0.1482\n",
       "\n",
       "[848 rows x 6 columns], token_table=      Topic      Freq Term\n",
       "term                      \n",
       "0         1  0.158434     \n",
       "0         2  0.134404     \n",
       "0         3  0.107939     \n",
       "0         4  0.083281     \n",
       "0         5  0.080925     \n",
       "...     ...       ...  ...\n",
       "427       6  0.095193  yum\n",
       "427       7  0.081594  yum\n",
       "427       8  0.095193  yum\n",
       "427       9  0.163189  yum\n",
       "427      10  0.067995  yum\n",
       "\n",
       "[2424 rows x 3 columns], R=30, lambda_step=0.01, plot_opts={'xlab': 'PC1', 'ylab': 'PC2'}, topic_order=[2, 3, 10, 7, 9, 1, 6, 4, 8, 5])"
      ]
     },
     "execution_count": 62,
     "metadata": {},
     "output_type": "execute_result"
    }
   ],
   "source": [
    "pyLDAvis.gensim.prepare(lda, corpus, id2word)"
   ]
  },
  {
   "cell_type": "markdown",
   "metadata": {},
   "source": [
    "## Stretch Goals\n",
    "\n",
    "Complete one of more of these to push your score towards a three: \n",
    "* Create more visualizations of the LDA results and provide written analysis\n",
    "* Incorporate RandomizedSearchCV into docoument classification pipeline\n",
    "* Incorporate named entity recognition into your analysis\n",
    "* Compare vectorization methods in the classification section\n",
    "* Analyze more (or all) of the yelp dataset - this one is v. hard. \n",
    "* Use a generator object on the reviews file - this would help you with the analyzing the whole dataset.\n",
    "* Incorporate any of the other yelp dataset entities in your analysis (business, users, etc.)"
   ]
  },
  {
   "cell_type": "code",
   "execution_count": 63,
   "metadata": {},
   "outputs": [
    {
     "name": "stderr",
     "output_type": "stream",
     "text": [
      "/home/jepoy/miniconda3/envs/ds-unit-4/lib/python3.7/site-packages/ipykernel/ipkernel.py:287: DeprecationWarning: `should_run_async` will not call `transform_cell` automatically in the future. Please pass the result to `transformed_cell` argument and any exception that happen during thetransform in `preprocessing_exc_tuple` in IPython 7.17 and above.\n",
      "  and should_run_async(code)\n"
     ]
    }
   ],
   "source": [
    "from gensim.models.coherencemodel import CoherenceModel\n",
    "\n",
    "def compute_coherence_values(dictionary, corpus, limit, start=2, step=3, passes=5):\n",
    "    \"\"\"\n",
    "    Compute c_v coherence for various number of topics\n",
    "\n",
    "    Parameters:\n",
    "    ----------\n",
    "    dictionary : Gensim dictionary\n",
    "    corpus : Gensim corpus\n",
    "    path : path to input texts\n",
    "    limit : Max num of topics\n",
    "\n",
    "    Returns:\n",
    "    -------\n",
    "    model_list : List of LDA topic models\n",
    "    coherence_values : Coherence values corresponding to the LDA model with respective number of topics\n",
    "    \"\"\"\n",
    "    coherence_values = []\n",
    "    \n",
    "    for iter_ in range(passes):\n",
    "        for num_topics in range(start, limit, step):\n",
    "            model = LdaMulticore(corpus=corpus, num_topics=num_topics, passes=3, id2word=id2word, workers=12)\n",
    "            coherencemodel = CoherenceModel(model=model, dictionary=dictionary, corpus=corpus, coherence='u_mass')\n",
    "            coherence_values.append({'pass': iter_,\n",
    "                                    'num_topics': num_topics,\n",
    "                                    'coherence_score':coherencemodel.get_coherence()})\n",
    "\n",
    "    return coherence_values"
   ]
  },
  {
   "cell_type": "code",
   "execution_count": 64,
   "metadata": {},
   "outputs": [
    {
     "name": "stderr",
     "output_type": "stream",
     "text": [
      "/home/jepoy/miniconda3/envs/ds-unit-4/lib/python3.7/site-packages/ipykernel/ipkernel.py:287: DeprecationWarning: `should_run_async` will not call `transform_cell` automatically in the future. Please pass the result to `transformed_cell` argument and any exception that happen during thetransform in `preprocessing_exc_tuple` in IPython 7.17 and above.\n",
      "  and should_run_async(code)\n"
     ]
    }
   ],
   "source": [
    "# warnings.filterwarnings(\"ignore\", category=DeprecationWarning)\n",
    "\n",
    "coherence_values = compute_coherence_values(dictionary=id2word, \n",
    "                                            corpus=corpus,\n",
    "                                            start=5, \n",
    "                                            limit=40, \n",
    "                                            step=3,\n",
    "                                            passes=5)"
   ]
  },
  {
   "cell_type": "code",
   "execution_count": 66,
   "metadata": {},
   "outputs": [
    {
     "name": "stderr",
     "output_type": "stream",
     "text": [
      "/home/jepoy/miniconda3/envs/ds-unit-4/lib/python3.7/site-packages/ipykernel/ipkernel.py:287: DeprecationWarning: `should_run_async` will not call `transform_cell` automatically in the future. Please pass the result to `transformed_cell` argument and any exception that happen during thetransform in `preprocessing_exc_tuple` in IPython 7.17 and above.\n",
      "  and should_run_async(code)\n"
     ]
    },
    {
     "data": {
      "text/html": [
       "<div>\n",
       "<style scoped>\n",
       "    .dataframe tbody tr th:only-of-type {\n",
       "        vertical-align: middle;\n",
       "    }\n",
       "\n",
       "    .dataframe tbody tr th {\n",
       "        vertical-align: top;\n",
       "    }\n",
       "\n",
       "    .dataframe thead th {\n",
       "        text-align: right;\n",
       "    }\n",
       "</style>\n",
       "<table border=\"1\" class=\"dataframe\">\n",
       "  <thead>\n",
       "    <tr style=\"text-align: right;\">\n",
       "      <th></th>\n",
       "      <th>pass</th>\n",
       "      <th>num_topics</th>\n",
       "      <th>coherence_score</th>\n",
       "    </tr>\n",
       "  </thead>\n",
       "  <tbody>\n",
       "    <tr>\n",
       "      <th>0</th>\n",
       "      <td>0</td>\n",
       "      <td>5</td>\n",
       "      <td>-1.527672</td>\n",
       "    </tr>\n",
       "    <tr>\n",
       "      <th>1</th>\n",
       "      <td>0</td>\n",
       "      <td>8</td>\n",
       "      <td>-1.509565</td>\n",
       "    </tr>\n",
       "    <tr>\n",
       "      <th>2</th>\n",
       "      <td>0</td>\n",
       "      <td>11</td>\n",
       "      <td>-1.535545</td>\n",
       "    </tr>\n",
       "    <tr>\n",
       "      <th>3</th>\n",
       "      <td>0</td>\n",
       "      <td>14</td>\n",
       "      <td>-1.589616</td>\n",
       "    </tr>\n",
       "    <tr>\n",
       "      <th>4</th>\n",
       "      <td>0</td>\n",
       "      <td>17</td>\n",
       "      <td>-1.739592</td>\n",
       "    </tr>\n",
       "    <tr>\n",
       "      <th>5</th>\n",
       "      <td>0</td>\n",
       "      <td>20</td>\n",
       "      <td>-1.562483</td>\n",
       "    </tr>\n",
       "    <tr>\n",
       "      <th>6</th>\n",
       "      <td>0</td>\n",
       "      <td>23</td>\n",
       "      <td>-1.566280</td>\n",
       "    </tr>\n",
       "    <tr>\n",
       "      <th>7</th>\n",
       "      <td>0</td>\n",
       "      <td>26</td>\n",
       "      <td>-1.641991</td>\n",
       "    </tr>\n",
       "    <tr>\n",
       "      <th>8</th>\n",
       "      <td>0</td>\n",
       "      <td>29</td>\n",
       "      <td>-1.599466</td>\n",
       "    </tr>\n",
       "    <tr>\n",
       "      <th>9</th>\n",
       "      <td>0</td>\n",
       "      <td>32</td>\n",
       "      <td>-1.572048</td>\n",
       "    </tr>\n",
       "  </tbody>\n",
       "</table>\n",
       "</div>"
      ],
      "text/plain": [
       "   pass  num_topics  coherence_score\n",
       "0     0           5        -1.527672\n",
       "1     0           8        -1.509565\n",
       "2     0          11        -1.535545\n",
       "3     0          14        -1.589616\n",
       "4     0          17        -1.739592\n",
       "5     0          20        -1.562483\n",
       "6     0          23        -1.566280\n",
       "7     0          26        -1.641991\n",
       "8     0          29        -1.599466\n",
       "9     0          32        -1.572048"
      ]
     },
     "execution_count": 66,
     "metadata": {},
     "output_type": "execute_result"
    }
   ],
   "source": [
    "import seaborn as sns\n",
    "\n",
    "topic_coherence = pd.DataFrame.from_records(coherence_values)\n",
    "\n",
    "topic_coherence.head(10)"
   ]
  },
  {
   "cell_type": "code",
   "execution_count": 67,
   "metadata": {},
   "outputs": [
    {
     "name": "stderr",
     "output_type": "stream",
     "text": [
      "/home/jepoy/miniconda3/envs/ds-unit-4/lib/python3.7/site-packages/ipykernel/ipkernel.py:287: DeprecationWarning: `should_run_async` will not call `transform_cell` automatically in the future. Please pass the result to `transformed_cell` argument and any exception that happen during thetransform in `preprocessing_exc_tuple` in IPython 7.17 and above.\n",
      "  and should_run_async(code)\n"
     ]
    },
    {
     "data": {
      "image/png": "[encoded data removed]",
      "text/plain": [
       "<Figure size 432x288 with 1 Axes>"
      ]
     },
     "metadata": {
      "needs_background": "light"
     },
     "output_type": "display_data"
    }
   ],
   "source": [
    "import seaborn as sns\n",
    "\n",
    "ax = sns.lineplot(x='num_topics', y='coherence_score', data=topic_coherence)"
   ]
  },
  {
   "cell_type": "markdown",
   "metadata": {},
   "source": [
    "\n",
    "Although this is not necessarily an LDA \"result,\" coherence modeling is quite useful (when your model is good) in determining how many topics to include in your LDA topic model. Here, the highest value is the lowest number, which started at 5. At this point, it would probably be worth it to run the coherence model again with an even smaller number for the start of the iteration."
   ]
  },
  {
   "cell_type": "code",
   "execution_count": 68,
   "metadata": {},
   "outputs": [
    {
     "name": "stderr",
     "output_type": "stream",
     "text": [
      "/home/jepoy/miniconda3/envs/ds-unit-4/lib/python3.7/site-packages/ipykernel/ipkernel.py:287: DeprecationWarning: `should_run_async` will not call `transform_cell` automatically in the future. Please pass the result to `transformed_cell` argument and any exception that happen during thetransform in `preprocessing_exc_tuple` in IPython 7.17 and above.\n",
      "  and should_run_async(code)\n"
     ]
    },
    {
     "data": {
      "text/html": [
       "<div>\n",
       "<style scoped>\n",
       "    .dataframe tbody tr th:only-of-type {\n",
       "        vertical-align: middle;\n",
       "    }\n",
       "\n",
       "    .dataframe tbody tr th {\n",
       "        vertical-align: top;\n",
       "    }\n",
       "\n",
       "    .dataframe thead th {\n",
       "        text-align: right;\n",
       "    }\n",
       "</style>\n",
       "<table border=\"1\" class=\"dataframe\">\n",
       "  <thead>\n",
       "    <tr style=\"text-align: right;\">\n",
       "      <th></th>\n",
       "      <th>business_id</th>\n",
       "      <th>cool</th>\n",
       "      <th>date</th>\n",
       "      <th>funny</th>\n",
       "      <th>review_id</th>\n",
       "      <th>stars</th>\n",
       "      <th>text</th>\n",
       "      <th>useful</th>\n",
       "      <th>user_id</th>\n",
       "      <th>tokens</th>\n",
       "      <th>sentiment</th>\n",
       "    </tr>\n",
       "  </thead>\n",
       "  <tbody>\n",
       "    <tr>\n",
       "      <th>0</th>\n",
       "      <td>nDuEqIyRc8YKS1q1fX0CZg</td>\n",
       "      <td>1</td>\n",
       "      <td>2015-03-31 16:50:30</td>\n",
       "      <td>0</td>\n",
       "      <td>eZs2tpEJtXPwawvHnHZIgQ</td>\n",
       "      <td>1</td>\n",
       "      <td>BEWARE!!! FAKE, FAKE, FAKE....We also own a sm...</td>\n",
       "      <td>10</td>\n",
       "      <td>n1LM36qNg4rqGXIcvVXv8w</td>\n",
       "      <td>[beware,    , fake, fake, fake,    , small, bu...</td>\n",
       "      <td>negative</td>\n",
       "    </tr>\n",
       "    <tr>\n",
       "      <th>1</th>\n",
       "      <td>eMYeEapscbKNqUDCx705hg</td>\n",
       "      <td>0</td>\n",
       "      <td>2015-12-16 05:31:03</td>\n",
       "      <td>0</td>\n",
       "      <td>DoQDWJsNbU0KL1O29l_Xug</td>\n",
       "      <td>4</td>\n",
       "      <td>Came here for lunch Togo. Service was quick. S...</td>\n",
       "      <td>0</td>\n",
       "      <td>5CgjjDAic2-FAvCtiHpytA</td>\n",
       "      <td>[come, lunch, Togo, Service, quick, Staff, fri...</td>\n",
       "      <td>positive</td>\n",
       "    </tr>\n",
       "    <tr>\n",
       "      <th>2</th>\n",
       "      <td>6Q7-wkCPc1KF75jZLOTcMw</td>\n",
       "      <td>1</td>\n",
       "      <td>2010-06-20 19:14:48</td>\n",
       "      <td>1</td>\n",
       "      <td>DDOdGU7zh56yQHmUnL1idQ</td>\n",
       "      <td>3</td>\n",
       "      <td>I've been to Vegas dozens of times and had nev...</td>\n",
       "      <td>2</td>\n",
       "      <td>BdV-cf3LScmb8kZ7iiBcMA</td>\n",
       "      <td>[Vegas, dozen, time, step, foot, Circus, Circu...</td>\n",
       "      <td>neutral</td>\n",
       "    </tr>\n",
       "    <tr>\n",
       "      <th>3</th>\n",
       "      <td>k3zrItO4l9hwfLRwHBDc9w</td>\n",
       "      <td>3</td>\n",
       "      <td>2010-07-13 00:33:45</td>\n",
       "      <td>4</td>\n",
       "      <td>LfTMUWnfGFMOfOIyJcwLVA</td>\n",
       "      <td>1</td>\n",
       "      <td>We went here on a night where they closed off ...</td>\n",
       "      <td>5</td>\n",
       "      <td>cZZnBqh4gAEy4CdNvJailQ</td>\n",
       "      <td>[go, night, close, street, party,    , and, go...</td>\n",
       "      <td>negative</td>\n",
       "    </tr>\n",
       "    <tr>\n",
       "      <th>4</th>\n",
       "      <td>6hpfRwGlOzbNv7k5eP9rsQ</td>\n",
       "      <td>1</td>\n",
       "      <td>2018-06-30 02:30:01</td>\n",
       "      <td>0</td>\n",
       "      <td>zJSUdI7bJ8PNJAg4lnl_Gg</td>\n",
       "      <td>4</td>\n",
       "      <td>3.5 to 4 stars\\n\\nNot bad for the price, $12.9...</td>\n",
       "      <td>5</td>\n",
       "      <td>n9QO4ClYAS7h9fpQwa5bhA</td>\n",
       "      <td>[3, 5, 4, star, not, bad, price,   , 12, 99, l...</td>\n",
       "      <td>positive</td>\n",
       "    </tr>\n",
       "  </tbody>\n",
       "</table>\n",
       "</div>"
      ],
      "text/plain": [
       "              business_id  cool                date  funny  \\\n",
       "0  nDuEqIyRc8YKS1q1fX0CZg     1 2015-03-31 16:50:30      0   \n",
       "1  eMYeEapscbKNqUDCx705hg     0 2015-12-16 05:31:03      0   \n",
       "2  6Q7-wkCPc1KF75jZLOTcMw     1 2010-06-20 19:14:48      1   \n",
       "3  k3zrItO4l9hwfLRwHBDc9w     3 2010-07-13 00:33:45      4   \n",
       "4  6hpfRwGlOzbNv7k5eP9rsQ     1 2018-06-30 02:30:01      0   \n",
       "\n",
       "                review_id  stars  \\\n",
       "0  eZs2tpEJtXPwawvHnHZIgQ      1   \n",
       "1  DoQDWJsNbU0KL1O29l_Xug      4   \n",
       "2  DDOdGU7zh56yQHmUnL1idQ      3   \n",
       "3  LfTMUWnfGFMOfOIyJcwLVA      1   \n",
       "4  zJSUdI7bJ8PNJAg4lnl_Gg      4   \n",
       "\n",
       "                                                text  useful  \\\n",
       "0  BEWARE!!! FAKE, FAKE, FAKE....We also own a sm...      10   \n",
       "1  Came here for lunch Togo. Service was quick. S...       0   \n",
       "2  I've been to Vegas dozens of times and had nev...       2   \n",
       "3  We went here on a night where they closed off ...       5   \n",
       "4  3.5 to 4 stars\\n\\nNot bad for the price, $12.9...       5   \n",
       "\n",
       "                  user_id                                             tokens  \\\n",
       "0  n1LM36qNg4rqGXIcvVXv8w  [beware,    , fake, fake, fake,    , small, bu...   \n",
       "1  5CgjjDAic2-FAvCtiHpytA  [come, lunch, Togo, Service, quick, Staff, fri...   \n",
       "2  BdV-cf3LScmb8kZ7iiBcMA  [Vegas, dozen, time, step, foot, Circus, Circu...   \n",
       "3  cZZnBqh4gAEy4CdNvJailQ  [go, night, close, street, party,    , and, go...   \n",
       "4  n9QO4ClYAS7h9fpQwa5bhA  [3, 5, 4, star, not, bad, price,   , 12, 99, l...   \n",
       "\n",
       "  sentiment  \n",
       "0  negative  \n",
       "1  positive  \n",
       "2   neutral  \n",
       "3  negative  \n",
       "4  positive  "
      ]
     },
     "execution_count": 68,
     "metadata": {},
     "output_type": "execute_result"
    }
   ],
   "source": [
    "\n",
    "def sentimentalize(stars):\n",
    "    if stars == 3:\n",
    "        return \"neutral\"\n",
    "    elif stars > 3:\n",
    "        return \"positive\"\n",
    "    else: \n",
    "        return \"negative\"\n",
    "    \n",
    "yelp['sentiment'] = yelp['stars'].apply(sentimentalize)\n",
    "\n",
    "yelp.head()"
   ]
  },
  {
   "cell_type": "code",
   "execution_count": 69,
   "metadata": {},
   "outputs": [
    {
     "name": "stderr",
     "output_type": "stream",
     "text": [
      "/home/jepoy/miniconda3/envs/ds-unit-4/lib/python3.7/site-packages/ipykernel/ipkernel.py:287: DeprecationWarning: `should_run_async` will not call `transform_cell` automatically in the future. Please pass the result to `transformed_cell` argument and any exception that happen during thetransform in `preprocessing_exc_tuple` in IPython 7.17 and above.\n",
      "  and should_run_async(code)\n"
     ]
    }
   ],
   "source": [
    "\n",
    "doc_topics = [lda[doc] for doc in corpus]"
   ]
  },
  {
   "cell_type": "code",
   "execution_count": 70,
   "metadata": {},
   "outputs": [
    {
     "name": "stderr",
     "output_type": "stream",
     "text": [
      "/home/jepoy/miniconda3/envs/ds-unit-4/lib/python3.7/site-packages/ipykernel/ipkernel.py:287: DeprecationWarning: `should_run_async` will not call `transform_cell` automatically in the future. Please pass the result to `transformed_cell` argument and any exception that happen during thetransform in `preprocessing_exc_tuple` in IPython 7.17 and above.\n",
      "  and should_run_async(code)\n"
     ]
    }
   ],
   "source": [
    "def update(doc):\n",
    "        d_dist = {k:0 for k in range(0,5)}\n",
    "        for t in doc:\n",
    "            d_dist[t[0]] = t[1]\n",
    "        return d_dist\n",
    "    \n",
    "new_distro = [update(d) for d in doc_topics]"
   ]
  },
  {
   "cell_type": "code",
   "execution_count": 71,
   "metadata": {},
   "outputs": [
    {
     "name": "stderr",
     "output_type": "stream",
     "text": [
      "/home/jepoy/miniconda3/envs/ds-unit-4/lib/python3.7/site-packages/ipykernel/ipkernel.py:287: DeprecationWarning: `should_run_async` will not call `transform_cell` automatically in the future. Please pass the result to `transformed_cell` argument and any exception that happen during thetransform in `preprocessing_exc_tuple` in IPython 7.17 and above.\n",
      "  and should_run_async(code)\n"
     ]
    }
   ],
   "source": [
    "dft = pd.DataFrame.from_records(new_distro)\n",
    "# dft.columns = topics ????"
   ]
  },
  {
   "cell_type": "code",
   "execution_count": 72,
   "metadata": {},
   "outputs": [
    {
     "name": "stderr",
     "output_type": "stream",
     "text": [
      "/home/jepoy/miniconda3/envs/ds-unit-4/lib/python3.7/site-packages/ipykernel/ipkernel.py:287: DeprecationWarning: `should_run_async` will not call `transform_cell` automatically in the future. Please pass the result to `transformed_cell` argument and any exception that happen during thetransform in `preprocessing_exc_tuple` in IPython 7.17 and above.\n",
      "  and should_run_async(code)\n"
     ]
    }
   ],
   "source": [
    "yelp['primary_topic'] = dft.idxmax(axis=1)"
   ]
  },
  {
   "cell_type": "code",
   "execution_count": 74,
   "metadata": {},
   "outputs": [
    {
     "name": "stderr",
     "output_type": "stream",
     "text": [
      "/home/jepoy/miniconda3/envs/ds-unit-4/lib/python3.7/site-packages/ipykernel/ipkernel.py:287: DeprecationWarning: `should_run_async` will not call `transform_cell` automatically in the future. Please pass the result to `transformed_cell` argument and any exception that happen during thetransform in `preprocessing_exc_tuple` in IPython 7.17 and above.\n",
      "  and should_run_async(code)\n"
     ]
    },
    {
     "data": {
      "image/png": "[encoded data removed]",
      "text/plain": [
       "<Figure size 432x288 with 1 Axes>"
      ]
     },
     "metadata": {
      "needs_background": "light"
     },
     "output_type": "display_data"
    }
   ],
   "source": [
    "import seaborn as sns\n",
    "import matplotlib.pyplot as plt\n",
    "\n",
    "ax = sns.countplot(x=\"primary_topic\", hue=\"sentiment\", data=yelp)\n",
    "plt.xticks(rotation=90)\n",
    "plt.show()"
   ]
  },
  {
   "cell_type": "markdown",
   "metadata": {},
   "source": [
    "I created a sentiment analysis of the LSA results to show how the sentiments range between the different topics. As expected, since my model's parameters were not hyptertuned well, the distribution of sentiment aligns closely with the general distribution of ratings; that is to say, since most of the ratings were positive to begin with, and neutral ratings of 3 were the least frequent, the sentiment between the models showed the same distribution. I think yelp reviews are particularly difficult to find good topics for, since the range of descriptors are so few that the same words repeat. It would be beneficial in the future to lower the max_df parameter of the vectorizer so that it doesn't pull words that show up in the vast majority of the reviews. This would increase the salience of specific words."
   ]
  },
  {
   "cell_type": "code",
   "execution_count": null,
   "metadata": {},
   "outputs": [],
   "source": []
  }
 ],
 "metadata": {
  "kernel_info": {
   "name": "u4-s1-nlp"
  },
  "kernelspec": {
   "display_name": "ds-unit-4 (Python3)",
   "language": "python",
   "name": "ds-unit-4"
  },
  "language_info": {
   "codemirror_mode": {
    "name": "ipython",
    "version": 3
   },
   "file_extension": ".py",
   "mimetype": "text/x-python",
   "name": "python",
   "nbconvert_exporter": "python",
   "pygments_lexer": "ipython3",
   "version": "3.7.0"
  },
  "nteract": {
   "version": "0.22.4"
  },
  "toc-autonumbering": false
 },
 "nbformat": 4,
 "nbformat_minor": 4
}
