{
 "cells": [
  {
   "cell_type": "markdown",
   "metadata": {},
   "source": [
    "Lambda School Data Science\n",
    "\n",
    "*Unit 4, Sprint 1, Module 3*\n",
    "\n",
    "---"
   ]
  },
  {
   "cell_type": "markdown",
   "metadata": {},
   "source": [
    "# Document Classification (Prepare)\n",
    "\n",
    "Today's guided module project will be different. You already know how to do classification. You ready know how to extract features from documents. So? That means you're ready to combine and practice those skills in a kaggle competition. We we will open with a five minute sprint explaining the competition, and then give you 25 minutes to work. After those twenty five minutes are up, I will give a 5-minute demo an NLP technique that will help you with document classification (*and **maybe** the competition*).\n",
    "\n",
    "Today's all about having fun and practicing your skills. The competition will begin\n",
    "\n",
    "## Learning Objectives\n",
    "* <a href=\"#p1\">Part 1</a>: Text Feature Extraction & Classification Pipelines\n",
    "* <a href=\"#p2\">Part 2</a>: Latent Semantic Indexing\n",
    "* <a href=\"#p3\">Part 3</a>: Word Embeddings with Spacy"
   ]
  },
  {
   "cell_type": "markdown",
   "metadata": {},
   "source": [
    "# Text Feature Extraction & Classification Pipelines (Learn)\n",
    "<a id=\"p1\"></a>"
   ]
  },
  {
   "cell_type": "markdown",
   "metadata": {},
   "source": [
    "## Overview\n",
    "\n",
    "Sklearn pipelines allow you to stitch together multiple components of a machine learning process. The idea is that you can pass you raw data and get predictions out of the pipeline. This ability to pass raw input and receive a prediction from a singular class makes pipelines well suited for production, because you can pickle a a pipeline without worry about other data preprocessing steps. \n",
    "\n",
    "*Note:* Each time we call the pipeline during grid search, each component is fit again. The vectorizer (tf-idf) is transforming our entire vocabulary during each cross-validation fold. That transformation adds significant run time to our grid search. There *might* be interactions between the vectorizer and our classifier, so we estimate their performance together in the code below. However, if your goal is to reduce run time. Train your vectorizer separately (ie out of the grid-searched pipeline). "
   ]
  },
  {
   "cell_type": "code",
   "execution_count": 48,
   "metadata": {},
   "outputs": [],
   "source": [
    "# Import Statements\n",
    "from sklearn.pipeline import Pipeline\n",
    "from sklearn.datasets import fetch_20newsgroups\n",
    "from sklearn.ensemble import RandomForestClassifier\n",
    "from sklearn.model_selection import GridSearchCV\n",
    "from sklearn.feature_extraction.text import TfidfVectorizer"
   ]
  },
  {
   "cell_type": "markdown",
   "metadata": {},
   "source": [
    "More about prework data set\n",
    "\n",
    "https://scikit-learn.org/0.19/datasets/twenty_newsgroups.html"
   ]
  },
  {
   "cell_type": "markdown",
   "metadata": {},
   "source": [
    "## Load Data - DSPT4 Lecture"
   ]
  },
  {
   "cell_type": "code",
   "execution_count": 49,
   "metadata": {},
   "outputs": [
    {
     "name": "stdout",
     "output_type": "stream",
     "text": [
      "Training Samples: 1056\n",
      "Testing Samples: 703\n"
     ]
    }
   ],
   "source": [
    "# Dataset\n",
    "categories = ['sci.electronics',\n",
    "              'talk.politics.misc']\n",
    "\n",
    "# Load training data\n",
    "newsgroups_train = fetch_20newsgroups(subset='train',\n",
    "                                      remove=('headers', 'footers', 'quotes'),\n",
    "                                      categories=categories)\n",
    "\n",
    "# Load testing data\n",
    "newsgroups_test = fetch_20newsgroups(subset='test',\n",
    "                                     remove=('headers', 'footers', 'quotes'),\n",
    "                                     categories=categories)\n",
    "\n",
    "print(f'Training Samples: {len(newsgroups_train.data)}')\n",
    "print(f'Testing Samples: {len(newsgroups_test.data)}')"
   ]
  },
  {
   "cell_type": "markdown",
   "metadata": {},
   "source": [
    "## Dive into review for portfolio and real work"
   ]
  },
  {
   "cell_type": "code",
   "execution_count": 50,
   "metadata": {},
   "outputs": [
    {
     "name": "stdout",
     "output_type": "stream",
     "text": [
      "\n",
      "The father of a friend of mine is a police officer in West Virginia.  Not  \n",
      "only is his word as a skilled observer good in court, but his skill as an  \n",
      "observer has been tested to be more accurate than the radar gun in some  \n",
      "cases . . ..  No foolin!  He can guess a car's speed to within 2-3mph just  \n",
      "by watching it blow by - whether he's standing still or moving too!  (Yes,  \n",
      "I realize that calibrated guns are more accurate than this, but . . .).   \n",
      "His ability is not that uncommon among people who watch moving things for a  \n",
      "living, I have heard . . ..\n",
      "\n",
      "So what good is a radar detector except to give you a split second warning  \n",
      "that the guy who just cut you off to pass the guy ahead and to your left  \n",
      "is about to panic stop from 85 on a crowded freeway???\n"
     ]
    }
   ],
   "source": [
    "# Let's look at least one\n",
    "print(newsgroups_train.data[10])"
   ]
  },
  {
   "cell_type": "code",
   "execution_count": 51,
   "metadata": {},
   "outputs": [
    {
     "data": {
      "text/plain": [
       "0"
      ]
     },
     "execution_count": 51,
     "metadata": {},
     "output_type": "execute_result"
    }
   ],
   "source": [
    "# label == target for index 10\n",
    "newsgroups_train.target[10]"
   ]
  },
  {
   "cell_type": "code",
   "execution_count": 52,
   "metadata": {},
   "outputs": [
    {
     "data": {
      "text/plain": [
       "'sci.electronics'"
      ]
     },
     "execution_count": 52,
     "metadata": {},
     "output_type": "execute_result"
    }
   ],
   "source": [
    "# label name == target_name\n",
    "newsgroups_train.target_names[0]"
   ]
  },
  {
   "cell_type": "markdown",
   "metadata": {},
   "source": [
    "## Explore the Data\n",
    "\n",
    "Building and training a model is only one part of the workflow.  Understanding the basic characteristics of your data beforehand will enable you to build a better model.  This could mean obtaining higher accuracy, requiring less data for training, or potentially fewer computational resources\n",
    "\n",
    "https://developers.google.com/machine-learning/guides/text-classification\n",
    "\n",
    "https://github.com/google/eng-edu/blob/master/ml/guides/text_classification/explore_data.py"
   ]
  },
  {
   "cell_type": "code",
   "execution_count": 53,
   "metadata": {},
   "outputs": [],
   "source": [
    "from explore_data import *\n",
    "import seaborn as sns\n",
    "sns.set()"
   ]
  },
  {
   "cell_type": "code",
   "execution_count": 54,
   "metadata": {},
   "outputs": [
    {
     "name": "stdout",
     "output_type": "stream",
     "text": [
      "Median words per sample: 91.0\n"
     ]
    }
   ],
   "source": [
    "median_words_per_sample = get_num_words_per_sample(newsgroups_train.data)\n",
    "print(f'Median words per sample: {median_words_per_sample}')"
   ]
  },
  {
   "cell_type": "code",
   "execution_count": 55,
   "metadata": {},
   "outputs": [
    {
     "data": {
      "image/png": "[encoded data removed]",
      "text/plain": [
       "<Figure size 432x288 with 1 Axes>"
      ]
     },
     "metadata": {},
     "output_type": "display_data"
    }
   ],
   "source": [
    "plot_sample_length_distribution(newsgroups_train.data)"
   ]
  },
  {
   "cell_type": "code",
   "execution_count": 56,
   "metadata": {},
   "outputs": [
    {
     "data": {
      "image/png": "[encoded data removed]",
      "text/plain": [
       "<Figure size 432x288 with 1 Axes>"
      ]
     },
     "metadata": {},
     "output_type": "display_data"
    }
   ],
   "source": [
    "plot_class_distribution(newsgroups_train.target)"
   ]
  },
  {
   "cell_type": "code",
   "execution_count": 57,
   "metadata": {},
   "outputs": [
    {
     "data": {
      "image/png": "[encoded data removed]",
      "text/plain": [
       "<Figure size 432x288 with 1 Axes>"
      ]
     },
     "metadata": {},
     "output_type": "display_data"
    }
   ],
   "source": [
    "plot_frequency_distribution_of_ngrams(newsgroups_train.data,\n",
    "                                      ngram_range=(1,2),\n",
    "                                      num_ngrams=50)"
   ]
  },
  {
   "cell_type": "markdown",
   "metadata": {},
   "source": [
    "## Choosing a Modeling Approach\n",
    "\n",
    "Reference: https://developers.google.com/machine-learning/guides/text-classification/step-2-5\n",
    "\n",
    "At this point, we have assembled our dataset and gained insights into the key characteristics of our data. Next, based on the metrics we gathered we should think about which classification model we should use. This means asking questions such as:\n",
    "- \"How do we present the text data to an algorithm that expects numeric input? (Data preprocessing and vectorization)\n",
    "- \"What type of model should we use?\"\n",
    "- \"What configuration parameters should we use for our model?\", tec.\n",
    "\n",
    "In the reference guide above, Google attempts to significantly simplify the process of selecting a text classification model. For a given dataset, our goal is to find the algorithm that achieves close to maximum accuracy while minimizing computation time required for training.  We ran a large number (~450K) of experiments across problems of different types (especially sentiment analysis and topic classification problems), using 12 datasets, alternating for each dataset between different data preprocessing techniques and different model architectures. This helped us indenitfy dataset parameters that influence optimal choices.\n",
    "\n",
    "The model selection algorithm and flowchart below are a summary of our experimentation."
   ]
  },
  {
   "cell_type": "markdown",
   "metadata": {},
   "source": [
    "## Algorithm for Data Preparation and Model Building\n",
    "1. Calculate the number of samples/number of words per sample ratio.\n",
    "2. If this ratio is less than 1500, tokenize the text as n-grams and use a\n",
    "simple multi-layer perceptron (MLP) model to classify them (left branch in the\n",
    "flowchart below):\n",
    "\n",
    "  a. Split the samples into word n-grams; convert the n-grams into vectors.\n",
    "  \n",
    "  b. Score the importance of the vectors and then select the top 20K using the scores.\n",
    "  \n",
    "  c. Build an MLP model.\n",
    "3. If the ratio is greater than 1500, tokenize the text as sequences and use a\n",
    "   sepCNN model to classify them (right branch in the flowchart below):\n",
    "   \n",
    "  a. Split the samples into words; select the top 20K words based on their frequency.\n",
    "  \n",
    "  b. Convert the samples into word sequence vectors.\n",
    "  \n",
    "  c. If the original number of samples/number of words per sample ratio is less\n",
    "     than 15K, using a fine-tuned pre-trained embedding with the sepCNN\n",
    "     model will likely provide the best results.\n",
    "4. Measure the model performance with different hyperparameter values to find\n",
    "   the best model configuration for the dataset.\n",
    "   \n"
   ]
  },
  {
   "cell_type": "code",
   "execution_count": 58,
   "metadata": {},
   "outputs": [
    {
     "name": "stdout",
     "output_type": "stream",
     "text": [
      "Number of Samples / Median Words per Sample ratio: 11\n"
     ]
    }
   ],
   "source": [
    "sw_ratio = len(newsgroups_train.data) / median_words_per_sample\n",
    "print(f'Number of Samples / Median Words per Sample ratio: {int(sw_ratio)}')\n",
    "\n",
    "# since sw_ratio < 1500 \n",
    "# we go to the left branch which is Bag of Word or TF-IDF\n",
    "# bigrams or frequency of words\n",
    "\n",
    "# if sw_ratio > 1500\n",
    "# neural network"
   ]
  },
  {
   "cell_type": "markdown",
   "metadata": {},
   "source": [
    "<img src=\"https://developers.google.com/machine-learning/guides/text-classification/images/TextClassificationFlowchart.png\" width=800>"
   ]
  },
  {
   "cell_type": "markdown",
   "metadata": {},
   "source": [
    "## Build a Baseline TF-IDF Model"
   ]
  },
  {
   "cell_type": "code",
   "execution_count": 59,
   "metadata": {},
   "outputs": [],
   "source": [
    "# Create Pipeline Components\n",
    "\n",
    "vect = TfidfVectorizer(stop_words='english',ngram_range=(1,2)) # should create own stop words list based on domain and project\n",
    "rfc = RandomForestClassifier()"
   ]
  },
  {
   "cell_type": "code",
   "execution_count": 60,
   "metadata": {},
   "outputs": [
    {
     "data": {
      "text/plain": [
       "(1056, 97372)"
      ]
     },
     "execution_count": 60,
     "metadata": {},
     "output_type": "execute_result"
    }
   ],
   "source": [
    "import pandas as pd\n",
    "\n",
    "# Get sparse dtm\n",
    "dtm = vect.fit_transform(newsgroups_train.data)\n",
    "\n",
    "# Convert to dataframe\n",
    "dtm = pd.DataFrame(dtm.todense(), columns=vect.get_feature_names())\n",
    "dtm.shape"
   ]
  },
  {
   "cell_type": "code",
   "execution_count": 61,
   "metadata": {},
   "outputs": [
    {
     "data": {
      "text/plain": [
       "Pipeline(memory=None,\n",
       "         steps=[('vect',\n",
       "                 TfidfVectorizer(analyzer='word', binary=False,\n",
       "                                 decode_error='strict',\n",
       "                                 dtype=<class 'numpy.float64'>,\n",
       "                                 encoding='utf-8', input='content',\n",
       "                                 lowercase=True, max_df=1.0, max_features=None,\n",
       "                                 min_df=1, ngram_range=(1, 2), norm='l2',\n",
       "                                 preprocessor=None, smooth_idf=True,\n",
       "                                 stop_words='english', strip_accents=None,\n",
       "                                 sublinear_tf=False,\n",
       "                                 token_patte...\n",
       "                 RandomForestClassifier(bootstrap=True, ccp_alpha=0.0,\n",
       "                                        class_weight=None, criterion='gini',\n",
       "                                        max_depth=None, max_features='auto',\n",
       "                                        max_leaf_nodes=None, max_samples=None,\n",
       "                                        min_impurity_decrease=0.0,\n",
       "                                        min_impurity_split=None,\n",
       "                                        min_samples_leaf=1, min_samples_split=2,\n",
       "                                        min_weight_fraction_leaf=0.0,\n",
       "                                        n_estimators=100, n_jobs=None,\n",
       "                                        oob_score=False, random_state=None,\n",
       "                                        verbose=0, warm_start=False))],\n",
       "         verbose=False)"
      ]
     },
     "execution_count": 61,
     "metadata": {},
     "output_type": "execute_result"
    }
   ],
   "source": [
    "# Define the Pipeline\n",
    "pipe = Pipeline([\n",
    "    ('vect', vect),      # TF-IDF Vectorizer\n",
    "    ('clf', rfc)         # RandomForect Classifer\n",
    "])\n",
    "\n",
    "pipe"
   ]
  },
  {
   "cell_type": "code",
   "execution_count": 62,
   "metadata": {},
   "outputs": [
    {
     "name": "stdout",
     "output_type": "stream",
     "text": [
      "Fitting 5 folds for each of 72 candidates, totalling 360 fits\n"
     ]
    },
    {
     "name": "stderr",
     "output_type": "stream",
     "text": [
      "[Parallel(n_jobs=-1)]: Using backend LokyBackend with 12 concurrent workers.\n",
      "[Parallel(n_jobs=-1)]: Done  27 tasks      | elapsed:    6.4s\n",
      "[Parallel(n_jobs=-1)]: Done 177 tasks      | elapsed:   23.9s\n",
      "[Parallel(n_jobs=-1)]: Done 360 out of 360 | elapsed:   57.9s finished\n"
     ]
    },
    {
     "data": {
      "text/plain": [
       "GridSearchCV(cv=5, error_score=nan,\n",
       "             estimator=Pipeline(memory=None,\n",
       "                                steps=[('vect',\n",
       "                                        TfidfVectorizer(analyzer='word',\n",
       "                                                        binary=False,\n",
       "                                                        decode_error='strict',\n",
       "                                                        dtype=<class 'numpy.float64'>,\n",
       "                                                        encoding='utf-8',\n",
       "                                                        input='content',\n",
       "                                                        lowercase=True,\n",
       "                                                        max_df=1.0,\n",
       "                                                        max_features=None,\n",
       "                                                        min_df=1,\n",
       "                                                        ngram_range=(1, 2),\n",
       "                                                        norm='l2',\n",
       "                                                        preprocessor=None,\n",
       "                                                        smooth_idf=True,\n",
       "                                                        stop_words='english',\n",
       "                                                        strip...\n",
       "                                                               n_jobs=None,\n",
       "                                                               oob_score=False,\n",
       "                                                               random_state=None,\n",
       "                                                               verbose=0,\n",
       "                                                               warm_start=False))],\n",
       "                                verbose=False),\n",
       "             iid='deprecated', n_jobs=-1,\n",
       "             param_grid={'clf__max_depth': (10, 20, None),\n",
       "                         'clf__n_estimators': (100, 500),\n",
       "                         'vect__max_df': (0.07, 1.0),\n",
       "                         'vect__max_features': (5000, 20000),\n",
       "                         'vect__min_df': (2, 5, 10)},\n",
       "             pre_dispatch='2*n_jobs', refit=True, return_train_score=False,\n",
       "             scoring=None, verbose=1)"
      ]
     },
     "execution_count": 62,
     "metadata": {},
     "output_type": "execute_result"
    }
   ],
   "source": [
    "parameters = {\n",
    "    'vect__max_df': (.07, 1.0),\n",
    "    'vect__min_df': (2, 5, 10),\n",
    "    'vect__max_features': (5000, 20000),\n",
    "    'clf__n_estimators': (100, 500),\n",
    "    'clf__max_depth': (10, 20, None)\n",
    "}\n",
    "\n",
    "grid_search = GridSearchCV(pipe, parameters, cv=5, n_jobs=-1, verbose=1)\n",
    "grid_search.fit(newsgroups_train.data, newsgroups_train.target)"
   ]
  },
  {
   "cell_type": "code",
   "execution_count": 63,
   "metadata": {},
   "outputs": [
    {
     "data": {
      "text/plain": [
       "0.9185638916212108"
      ]
     },
     "execution_count": 63,
     "metadata": {},
     "output_type": "execute_result"
    }
   ],
   "source": [
    "grid_search.best_score_"
   ]
  },
  {
   "cell_type": "code",
   "execution_count": 64,
   "metadata": {},
   "outputs": [
    {
     "data": {
      "text/plain": [
       "{'clf__max_depth': None,\n",
       " 'clf__n_estimators': 500,\n",
       " 'vect__max_df': 0.07,\n",
       " 'vect__max_features': 20000,\n",
       " 'vect__min_df': 2}"
      ]
     },
     "execution_count": 64,
     "metadata": {},
     "output_type": "execute_result"
    }
   ],
   "source": [
    "grid_search.best_params_"
   ]
  },
  {
   "cell_type": "code",
   "execution_count": 65,
   "metadata": {},
   "outputs": [
    {
     "data": {
      "text/plain": [
       "array([1, 0, 1, 0, 0, 0, 0])"
      ]
     },
     "execution_count": 65,
     "metadata": {},
     "output_type": "execute_result"
    }
   ],
   "source": [
    "grid_search.predict(['This is a free society', \n",
    "                     'Elections will be in November', \n",
    "                     \"Covid doesn't care what your political beliefs are.\",\n",
    "                     'The team successfully launched their satellite into low-earth orbit', \n",
    "                     'The information paradox was solved last week, say some scientists.', \n",
    "                     'We will be living on Mars in 2050 aliens stars space blackholes',\n",
    "                     'Other idea for old space crafts is as navigation beacons'])\n",
    "\n",
    "\n",
    "# Class 0 == politics\n",
    "# Class 1 == space"
   ]
  },
  {
   "cell_type": "code",
   "execution_count": 66,
   "metadata": {},
   "outputs": [
    {
     "data": {
      "text/plain": [
       "array([[0.39510837, 0.60489163],\n",
       "       [0.51931565, 0.48068435],\n",
       "       [0.37614841, 0.62385159],\n",
       "       [0.53525249, 0.46474751],\n",
       "       [0.71411855, 0.28588145],\n",
       "       [0.52046455, 0.47953545],\n",
       "       [0.70594729, 0.29405271]])"
      ]
     },
     "execution_count": 66,
     "metadata": {},
     "output_type": "execute_result"
    }
   ],
   "source": [
    "grid_search.predict_proba(['This is a free society', \n",
    "                           'Elections will be in November', \n",
    "                           \"Covid doesn't care what your political beliefs are.\",\n",
    "                           'The team successfully launched their satellite into low-earth orbit', \n",
    "                           'The information paradox was solved last week, say some scientists.', \n",
    "                           'We will be living on Mars in 2050',\n",
    "                          'Other idea for old space crafts is as navigation beacons'])"
   ]
  },
  {
   "cell_type": "markdown",
   "metadata": {},
   "source": [
    "## RandomizedSearchCV"
   ]
  },
  {
   "cell_type": "code",
   "execution_count": 22,
   "metadata": {},
   "outputs": [],
   "source": [
    "from sklearn.model_selection import RandomizedSearchCV"
   ]
  },
  {
   "cell_type": "code",
   "execution_count": 67,
   "metadata": {},
   "outputs": [],
   "source": [
    "# import scipy\n",
    "\n",
    "# parameters = {\n",
    "#     'vect__max_df': scipy.stats.uniform(0.8, 1.0),\n",
    "#     'vect__min_df': scipy.stats.uniform(0.01, 0.05),\n",
    "#     'vect__max_features': scipy.stats.randint(5000, 8000),\n",
    "#     'clf__n_estimators': scipy.stats.randint(100, 300)#,\n",
    "#     #'clf__max_depth': scipy.stats.randint(10, 20)\n",
    "# }\n",
    "\n",
    "# rand_search = RandomizedSearchCV(pipe, parameters, cv=5, n_jobs=-1, verbose=-1, n_iter=25)\n",
    "# rand_search.fit(newsgroups_train.data, newsgroups_train.target)"
   ]
  },
  {
   "cell_type": "code",
   "execution_count": null,
   "metadata": {},
   "outputs": [],
   "source": [
    "# rand_search.best_score_"
   ]
  },
  {
   "cell_type": "code",
   "execution_count": null,
   "metadata": {},
   "outputs": [],
   "source": [
    "# rand_search.best_params_"
   ]
  },
  {
   "cell_type": "code",
   "execution_count": null,
   "metadata": {},
   "outputs": [],
   "source": [
    "# rand_search.predict(['This is a free society', \n",
    "#                      'Elections will be in November', \n",
    "#                      \"Covid doesn't care what your political beliefs are.\",\n",
    "#                      'The team successfully launched their satellite into low-earth orbit', \n",
    "#                      'The information paradox was solved last week, say some scientists.', \n",
    "#                      'We will be living on Mars in 2050 aliens stars space blackholes',\n",
    "#                      'Other idea for old space crafts is as navigation beacons'])\n",
    "\n",
    "\n",
    "# # Class 0 == politics\n",
    "# # Class 1 == space"
   ]
  },
  {
   "cell_type": "code",
   "execution_count": null,
   "metadata": {},
   "outputs": [],
   "source": [
    "# rand_search.predict_proba(['This is a free society', \n",
    "#                            'Elections will be in November', \n",
    "#                            \"Covid doesn't care what your political beliefs are.\",\n",
    "#                            'The team successfully launched their satellite into low-earth orbit', \n",
    "#                            'The information paradox was solved last week, say some scientists.', \n",
    "#                            'We will be living on Mars in 2050',\n",
    "#                           'Other idea for old space crafts is as navigation beacons'])"
   ]
  },
  {
   "cell_type": "markdown",
   "metadata": {},
   "source": [
    "## Model Improvement\n",
    "\n",
    "1. fine tune parameter\n",
    "2. change pipeline\n",
    "3. custom tokenization?\n",
    "4. "
   ]
  },
  {
   "cell_type": "markdown",
   "metadata": {},
   "source": [
    "# Grid Search vs. Random Layout\n",
    "\n",
    "\n",
    "Grid Search\n",
    "- trains pipeline iteratively\n",
    "- in parallel or tries different sets\n",
    "- keeps track of metric\n",
    "- keeps track of best model\n",
    "- not easy to adjust, computation resources\n",
    "\n",
    "\n",
    "Random Search : Alex recommends Random Search\n",
    "- don't specify points on the grid\n",
    "- just specify distribution along a certain range\n",
    "- number of samples you want to try\n",
    "- evaluates performance\n",
    "- keep track of best model\n",
    "- better #1 set computational time limit\n",
    "- "
   ]
  },
  {
   "cell_type": "markdown",
   "metadata": {},
   "source": [
    "## Follow Along\n",
    "\n",
    "What you should be doing now:\n",
    "1. Join the Kaggele Competition\n",
    "2. Download the data\n",
    "3. Train a model(try using the pipe method I just demoed)"
   ]
  },
  {
   "cell_type": "markdown",
   "metadata": {},
   "source": [
    "## Challenge\n",
    "\n",
    "You're trying to achieve 75% Accuracy on your model."
   ]
  },
  {
   "cell_type": "markdown",
   "metadata": {},
   "source": [
    "## Latent Semantic Indexing (Learn)\n",
    "<a id=\"p2\"></a>"
   ]
  },
  {
   "cell_type": "markdown",
   "metadata": {},
   "source": [
    "## Overview\n",
    "\n",
    "Singular Value Decomposition and Principle Component Analysis\n",
    "\n",
    "https://www.quora.com/What-is-an-intuitive-explanation-of-singular-value-decomposition-SVD\n"
   ]
  },
  {
   "cell_type": "code",
   "execution_count": 68,
   "metadata": {},
   "outputs": [],
   "source": [
    "# Import\n",
    "import scipy.stats as stats\n",
    "from sklearn.model_selection import RandomizedSearchCV\n",
    "from sklearn.decomposition import TruncatedSVD\n",
    "\n",
    "# Use parameter from GridSearch in previous section\n",
    "vect = TfidfVectorizer(stop_words='english',\n",
    "                       ngram_range=(1,2),\n",
    "                       min_df=2,\n",
    "                       max_df=0.7,\n",
    "                       max_features=20000)\n",
    "\n",
    "# Add dimensionality reduction\n",
    "# this will try to reduce the max_features dimenions 20000\n",
    "svd = TruncatedSVD(algorithm='randomized',\n",
    "                   n_iter=10)\n",
    "\n",
    "# Use parameters from RandomSearch in previous section\n",
    "rfc = RandomForestClassifier(n_estimators=500,\n",
    "                             random_state=42)"
   ]
  },
  {
   "cell_type": "code",
   "execution_count": 69,
   "metadata": {},
   "outputs": [],
   "source": [
    "params = { \n",
    "   'svd__n_components': stats.randint(100, 300)\n",
    "}"
   ]
  },
  {
   "cell_type": "code",
   "execution_count": 70,
   "metadata": {},
   "outputs": [],
   "source": [
    "pipe = Pipeline([\n",
    "    ('vect', vect),  # TF-IDF Vectorizer\n",
    "    ('svd', svd),    # Truncated SVD Dimenionality Reduction\n",
    "    ('clf', rfc)     # RandomForest Classifier\n",
    "])"
   ]
  },
  {
   "cell_type": "code",
   "execution_count": 71,
   "metadata": {},
   "outputs": [
    {
     "name": "stdout",
     "output_type": "stream",
     "text": [
      "Fitting 2 folds for each of 3 candidates, totalling 6 fits\n"
     ]
    },
    {
     "name": "stderr",
     "output_type": "stream",
     "text": [
      "[Parallel(n_jobs=-1)]: Using backend LokyBackend with 12 concurrent workers.\n",
      "[Parallel(n_jobs=-1)]: Done   4 out of   6 | elapsed:    5.9s remaining:    3.0s\n",
      "[Parallel(n_jobs=-1)]: Done   6 out of   6 | elapsed:    6.3s finished\n"
     ]
    },
    {
     "data": {
      "text/plain": [
       "RandomizedSearchCV(cv=2, error_score=nan,\n",
       "                   estimator=Pipeline(memory=None,\n",
       "                                      steps=[('vect',\n",
       "                                              TfidfVectorizer(analyzer='word',\n",
       "                                                              binary=False,\n",
       "                                                              decode_error='strict',\n",
       "                                                              dtype=<class 'numpy.float64'>,\n",
       "                                                              encoding='utf-8',\n",
       "                                                              input='content',\n",
       "                                                              lowercase=True,\n",
       "                                                              max_df=0.7,\n",
       "                                                              max_features=20000,\n",
       "                                                              min_df=2,\n",
       "                                                              ngram_range=(1,\n",
       "                                                                           2),\n",
       "                                                              norm='l2',\n",
       "                                                              preprocessor=None,\n",
       "                                                              smooth_idf=True,\n",
       "                                                              stop_words='english...\n",
       "                                                                     n_estimators=500,\n",
       "                                                                     n_jobs=None,\n",
       "                                                                     oob_score=False,\n",
       "                                                                     random_state=42,\n",
       "                                                                     verbose=0,\n",
       "                                                                     warm_start=False))],\n",
       "                                      verbose=False),\n",
       "                   iid='deprecated', n_iter=3, n_jobs=-1,\n",
       "                   param_distributions={'svd__n_components': <scipy.stats._distn_infrastructure.rv_frozen object at 0x7f664c577eb8>},\n",
       "                   pre_dispatch='2*n_jobs', random_state=None, refit=True,\n",
       "                   return_train_score=False, scoring=None, verbose=1)"
      ]
     },
     "execution_count": 71,
     "metadata": {},
     "output_type": "execute_result"
    }
   ],
   "source": [
    "# Fit\n",
    "random_search = RandomizedSearchCV(pipe, params, cv=2, n_iter=3, n_jobs=-1, verbose=1)\n",
    "random_search.fit(newsgroups_train.data, newsgroups_train.target)"
   ]
  },
  {
   "cell_type": "code",
   "execution_count": 73,
   "metadata": {},
   "outputs": [
    {
     "data": {
      "text/plain": [
       "0.9270833333333333"
      ]
     },
     "execution_count": 73,
     "metadata": {},
     "output_type": "execute_result"
    }
   ],
   "source": [
    "random_search.best_score_"
   ]
  },
  {
   "cell_type": "code",
   "execution_count": 72,
   "metadata": {},
   "outputs": [
    {
     "data": {
      "text/plain": [
       "{'svd__n_components': 130}"
      ]
     },
     "execution_count": 72,
     "metadata": {},
     "output_type": "execute_result"
    }
   ],
   "source": [
    "random_search.best_params_"
   ]
  },
  {
   "cell_type": "code",
   "execution_count": 74,
   "metadata": {},
   "outputs": [],
   "source": [
    "from sklearn.metrics import accuracy_score"
   ]
  },
  {
   "cell_type": "code",
   "execution_count": 75,
   "metadata": {},
   "outputs": [
    {
     "data": {
      "text/plain": [
       "0.9217638691322901"
      ]
     },
     "execution_count": 75,
     "metadata": {},
     "output_type": "execute_result"
    }
   ],
   "source": [
    "# Evaluate on test data\n",
    "y_test = random_search.predict(newsgroups_test.data)\n",
    "accuracy_score(newsgroups_test.target, y_test)"
   ]
  },
  {
   "cell_type": "markdown",
   "metadata": {},
   "source": [
    "Additional Notes from Bruno about \n",
    "\n",
    "## what did your model learn\n",
    "\n",
    "- What words were heavyly baited or have the highest scores associated with each class? (show_weights)\n",
    "    - https://eli5.readthedocs.io/en/latest/tutorials/sklearn-text.html#baseline-model\n",
    "    - \n",
    "\n"
   ]
  },
  {
   "cell_type": "markdown",
   "metadata": {
    "toc-hr-collapsed": true
   },
   "source": [
    "## Follow Along\n",
    "1. Join the Kaggle Competition\n",
    "2. Download the data\n",
    "3. Train a model & try: \n",
    "    - Creating a Text Extraction & Classification Pipeline\n",
    "    - Tune the pipeline with a `GridSearchCV` or `RandomizedSearchCV`\n",
    "    - Add some Latent Semantic Indexing (lsi) into your pipeline. *Note:* You can grid search a nested pipeline, but you have to use double underscores ie `lsi__svd__n_components`\n",
    "4. Make a submission to Kaggle \n"
   ]
  },
  {
   "cell_type": "markdown",
   "metadata": {},
   "source": [
    "## Challenge\n",
    "\n",
    "Continue to apply Latent Semantic Indexing (LSI) to various datasets. "
   ]
  },
  {
   "cell_type": "markdown",
   "metadata": {},
   "source": [
    "# Word Embeddings with Spacy (Learn)\n",
    "<a id=\"p3\"></a>"
   ]
  },
  {
   "cell_type": "markdown",
   "metadata": {},
   "source": [
    "# Overview"
   ]
  },
  {
   "cell_type": "code",
   "execution_count": 76,
   "metadata": {},
   "outputs": [],
   "source": [
    "import spacy\n",
    "nlp = spacy.load(\"en_core_web_lg\")\n",
    "\n",
    "# when spaCy embedded it returns 300 dimension no matter what the size of the doc\n",
    "# it encoding the context of certain words used in the doc"
   ]
  },
  {
   "cell_type": "code",
   "execution_count": 77,
   "metadata": {},
   "outputs": [],
   "source": [
    "doc = nlp(\"Two bananas in pyjamas\")"
   ]
  },
  {
   "cell_type": "code",
   "execution_count": 78,
   "metadata": {},
   "outputs": [
    {
     "name": "stdout",
     "output_type": "stream",
     "text": [
      "300\n"
     ]
    }
   ],
   "source": [
    "bananas_vector = doc.vector\n",
    "print(len(bananas_vector))"
   ]
  },
  {
   "cell_type": "code",
   "execution_count": 79,
   "metadata": {},
   "outputs": [
    {
     "data": {
      "text/plain": [
       "array([ 2.07984239e-01, -2.60890484e-01, -1.15457252e-01, -1.96443751e-01,\n",
       "       -2.83249468e-03,  3.55849974e-02, -2.05170006e-01, -2.27374747e-01,\n",
       "        8.56052488e-02,  1.36894751e+00, -5.74124977e-02,  8.06210041e-02,\n",
       "        2.37275064e-02,  1.17454052e-01, -6.53099641e-03, -1.24400005e-01,\n",
       "        1.99086756e-01,  6.37722552e-01,  1.52916998e-01, -2.33504996e-01,\n",
       "       -2.40909994e-01, -7.11500049e-02, -9.10753161e-02,  7.16734976e-02,\n",
       "        1.16262749e-01, -3.91372502e-01,  1.13048747e-01, -2.11327493e-01,\n",
       "        1.09019078e-01, -2.44885415e-01,  3.00577488e-02,  4.77855802e-02,\n",
       "        7.37800002e-02,  2.57142037e-01,  2.62586236e-01, -1.66897491e-01,\n",
       "        1.87596500e-01, -1.23680010e-02, -1.76299751e-01,  1.11685000e-01,\n",
       "        1.82024967e-02,  9.86500084e-03, -3.58770013e-01, -2.23265499e-01,\n",
       "       -4.37720008e-02,  3.63999486e-01,  7.42954984e-02,  1.21225506e-01,\n",
       "        1.37013003e-01, -5.50666526e-02,  2.66017504e-02,  8.87180045e-02,\n",
       "       -1.14092499e-01, -2.02865750e-01,  3.63092512e-01, -3.08394760e-01,\n",
       "        1.13859497e-01,  3.13650146e-02,  2.62076259e-01,  1.90399922e-02,\n",
       "        7.24634901e-02,  2.79004984e-02,  8.65525007e-02,  6.92452565e-02,\n",
       "       -9.77424979e-02, -1.47966757e-01,  2.32025003e-03,  1.62278250e-01,\n",
       "        1.59857497e-02,  3.52048993e-01, -5.51802553e-02,  2.13179991e-01,\n",
       "        3.63152504e-01,  1.01501703e-01,  1.73463732e-01,  9.20909941e-02,\n",
       "        1.27134249e-01,  1.00527555e-02,  2.44570002e-01, -6.89124968e-03,\n",
       "        6.30075037e-02,  1.31706819e-01, -1.36811763e-01, -3.73892523e-02,\n",
       "       -1.71941705e-02, -1.47585243e-01,  2.69147515e-01,  1.97296605e-01,\n",
       "       -1.14209257e-01,  7.49210045e-02,  1.12407543e-02,  6.53382465e-02,\n",
       "        7.39065409e-02, -1.47568747e-01, -9.98437554e-02,  2.56100774e-01,\n",
       "        3.41899954e-02, -1.95817441e-01,  1.52259752e-01, -2.98299998e-01,\n",
       "        3.71480025e-02,  1.38142243e-01, -3.84989977e-02, -2.02540010e-02,\n",
       "        2.38000415e-03, -8.94232512e-01,  1.20125249e-01, -1.48699433e-03,\n",
       "        3.07812482e-01,  1.31904989e-01,  2.28665009e-01, -4.28467512e-01,\n",
       "       -1.50100499e-01, -3.99947166e-05,  7.09750131e-03, -9.08460468e-02,\n",
       "        1.15139998e-01,  2.73323029e-01,  6.97097555e-02,  1.37960017e-01,\n",
       "       -7.76264742e-02, -3.58945057e-02,  1.47073746e-01, -2.70538747e-01,\n",
       "       -4.16769907e-02, -2.20907256e-01,  1.29162997e-01,  5.66806756e-02,\n",
       "       -2.10923001e-01, -1.12912245e-01, -1.24349967e-02,  2.90902629e-02,\n",
       "       -9.14399922e-02,  1.48545001e-02,  1.73015013e-01,  2.45295018e-01,\n",
       "        2.36412495e-01,  1.51691005e-01, -6.30199909e-02,  2.67812014e-01,\n",
       "       -1.31286001e+00, -7.58474991e-02,  1.29823506e-01, -1.51231751e-01,\n",
       "       -8.19625035e-02,  1.39788002e-01, -1.48047015e-01,  6.38692454e-02,\n",
       "        2.33854756e-01, -9.88075137e-03,  1.93658501e-01,  2.27525085e-03,\n",
       "        4.02045511e-02, -4.90897447e-02, -3.33292484e-01, -2.25562245e-01,\n",
       "       -2.13249400e-03, -1.25110000e-01, -2.07584769e-01, -8.20675045e-02,\n",
       "       -3.08577478e-01,  2.42340490e-01,  1.01082012e-01,  1.69142485e-02,\n",
       "       -2.96225518e-01, -2.39765748e-01, -2.06788242e-01, -2.19947502e-01,\n",
       "        1.32491991e-01,  2.83937510e-02, -2.12792531e-02,  2.11183250e-01,\n",
       "        7.47520030e-02,  5.15667535e-02, -2.79584527e-01,  5.96700013e-02,\n",
       "       -1.40897244e-01, -7.72149861e-03,  9.76998210e-02, -2.29924992e-01,\n",
       "       -3.91512439e-02, -2.62144983e-01, -9.46324915e-02, -1.49488509e-01,\n",
       "       -4.47402522e-02,  4.87175062e-02, -1.00491997e-02, -1.57508999e-01,\n",
       "        1.83425248e-01, -7.38234967e-02, -5.53542078e-02,  3.62554997e-01,\n",
       "        6.00774996e-02, -3.51069048e-02, -2.12482512e-02, -5.44437282e-02,\n",
       "        5.77000529e-03, -4.17417213e-02, -2.30720505e-01,  3.05450335e-03,\n",
       "       -2.60736495e-01,  9.90725309e-03,  1.44257501e-01,  1.58988327e-01,\n",
       "        3.12480003e-01, -4.21992540e-02,  1.47941500e-01, -2.60480493e-03,\n",
       "       -1.18254803e-01,  3.76944989e-02,  8.56549889e-02,  2.98762500e-01,\n",
       "       -1.82907507e-01, -5.01237512e-01, -3.22812736e-01, -1.04721501e-01,\n",
       "       -2.11069018e-01, -1.58998221e-01, -1.63172990e-01, -1.53411508e-01,\n",
       "       -4.72389996e-01, -2.52688266e-02,  6.80677444e-02, -3.47925007e-01,\n",
       "        1.00139998e-01,  3.17759998e-02, -2.02882513e-02,  2.72649899e-02,\n",
       "        2.80047543e-02,  6.36423454e-02, -2.32529998e-01,  1.78696245e-01,\n",
       "       -4.16299030e-02, -6.78092465e-02, -1.87866479e-01, -3.47625017e-01,\n",
       "        5.43992445e-02, -1.05034754e-01,  3.68332490e-02,  2.01451257e-01,\n",
       "       -2.68060744e-01, -7.03077465e-02, -3.46807480e-01,  1.18331507e-01,\n",
       "        3.82332467e-02, -1.15444995e-01, -9.92614999e-02, -4.42850590e-03,\n",
       "       -3.42225015e-01,  3.17104995e-01, -1.48628756e-01, -6.13242462e-02,\n",
       "       -8.43070000e-02,  1.16139993e-01,  1.61483496e-01,  1.70949996e-01,\n",
       "        1.95979327e-01,  2.56112486e-01, -2.15889998e-02, -2.78974995e-02,\n",
       "        2.59169757e-01,  1.79182500e-01, -2.46662006e-01,  1.68815508e-01,\n",
       "       -3.45774740e-03,  2.30412483e-01, -1.22785002e-01,  2.36632437e-01,\n",
       "       -4.52876002e-01, -3.92082512e-01, -2.01881751e-01, -1.27992496e-01,\n",
       "        2.75517516e-02,  5.54060042e-02, -3.12609941e-01,  1.01338752e-01,\n",
       "        1.83728248e-01,  4.08405006e-01,  1.23905048e-01,  4.37955022e-01,\n",
       "        2.54640013e-01, -6.01055101e-02, -2.90097505e-01,  7.99837485e-02,\n",
       "        6.81065023e-02,  6.80774972e-02,  1.45408496e-01, -1.65033251e-01,\n",
       "       -6.48526996e-02, -1.71237499e-01, -5.75472489e-02, -4.43175063e-03,\n",
       "        2.72267759e-01, -2.11504504e-01, -2.87027508e-01,  3.25110495e-01,\n",
       "       -4.72727492e-02, -3.86672527e-01,  2.08224997e-01,  1.24032997e-01],\n",
       "      dtype=float32)"
      ]
     },
     "execution_count": 79,
     "metadata": {},
     "output_type": "execute_result"
    }
   ],
   "source": [
    "bananas_vector"
   ]
  },
  {
   "cell_type": "code",
   "execution_count": 80,
   "metadata": {},
   "outputs": [
    {
     "data": {
      "text/plain": [
       "-1.31286"
      ]
     },
     "execution_count": 80,
     "metadata": {},
     "output_type": "execute_result"
    }
   ],
   "source": [
    "min(bananas_vector)"
   ]
  },
  {
   "cell_type": "code",
   "execution_count": 81,
   "metadata": {},
   "outputs": [
    {
     "data": {
      "text/plain": [
       "1.3689475"
      ]
     },
     "execution_count": 81,
     "metadata": {},
     "output_type": "execute_result"
    }
   ],
   "source": [
    "max(bananas_vector)"
   ]
  },
  {
   "cell_type": "markdown",
   "metadata": {},
   "source": [
    "## simple assert statement to check that it got a vector for every row in the training set\n",
    "## Sometimes there is a corrupt input and the shape doesnt match up"
   ]
  },
  {
   "cell_type": "code",
   "execution_count": 82,
   "metadata": {},
   "outputs": [],
   "source": [
    "def get_word_vectors(docs):\n",
    "    return [nlp(doc).vector for doc in docs]\n",
    "\n",
    "# each doc is a row\n",
    "# and we are going to take the average"
   ]
  },
  {
   "cell_type": "code",
   "execution_count": 83,
   "metadata": {},
   "outputs": [
    {
     "data": {
      "text/plain": [
       "True"
      ]
     },
     "execution_count": 83,
     "metadata": {},
     "output_type": "execute_result"
    }
   ],
   "source": [
    "# Getting the word vectors for all 1000 rows in training data set \n",
    "# Confirming the shape == the shape\n",
    "\n",
    "X = get_word_vectors(newsgroups_train.data)\n",
    "\n",
    "# simple assert statement to check that it got a vector for every row in the training set\n",
    "## Sometimes there is a corrupt input and the shape doesnt match up\n",
    "len(X) == len(newsgroups_train.data)"
   ]
  },
  {
   "cell_type": "code",
   "execution_count": 85,
   "metadata": {},
   "outputs": [],
   "source": [
    "# now we have the vectors \n",
    "X_test = get_word_vectors(newsgroups_test.data)\n",
    "\n",
    "# we can train rfc RandomForest"
   ]
  },
  {
   "cell_type": "code",
   "execution_count": 86,
   "metadata": {},
   "outputs": [
    {
     "data": {
      "text/plain": [
       "RandomForestClassifier(bootstrap=True, ccp_alpha=0.0, class_weight=None,\n",
       "                       criterion='gini', max_depth=None, max_features='auto',\n",
       "                       max_leaf_nodes=None, max_samples=None,\n",
       "                       min_impurity_decrease=0.0, min_impurity_split=None,\n",
       "                       min_samples_leaf=1, min_samples_split=2,\n",
       "                       min_weight_fraction_leaf=0.0, n_estimators=500,\n",
       "                       n_jobs=None, oob_score=False, random_state=42, verbose=0,\n",
       "                       warm_start=False)"
      ]
     },
     "execution_count": 86,
     "metadata": {},
     "output_type": "execute_result"
    }
   ],
   "source": [
    "rfc.fit(X, newsgroups_train.target)"
   ]
  },
  {
   "cell_type": "code",
   "execution_count": 87,
   "metadata": {},
   "outputs": [
    {
     "data": {
      "text/plain": [
       "0.9274537695590327"
      ]
     },
     "execution_count": 87,
     "metadata": {},
     "output_type": "execute_result"
    }
   ],
   "source": [
    "# Evaluate on test data\n",
    "y_test = rfc.predict(X_test)\n",
    "accuracy_score(newsgroups_test.target, y_test)"
   ]
  },
  {
   "cell_type": "markdown",
   "metadata": {},
   "source": [
    "## multilayer perceptron (MLP)"
   ]
  },
  {
   "cell_type": "code",
   "execution_count": 133,
   "metadata": {},
   "outputs": [],
   "source": [
    "from sklearn.neural_network import MLPClassifier\n",
    "\n",
    "clfMLP = MLPClassifier(solver='lbfgs',\n",
    "                       alpha=1e-5,\n",
    "                       hidden_layer_sizes=(16, 2),\n",
    "                       random_state=1,\n",
    "                      )"
   ]
  },
  {
   "cell_type": "code",
   "execution_count": 134,
   "metadata": {},
   "outputs": [
    {
     "data": {
      "text/plain": [
       "MLPClassifier(activation='relu', alpha=1e-05, batch_size='auto', beta_1=0.9,\n",
       "              beta_2=0.999, early_stopping=False, epsilon=1e-08,\n",
       "              hidden_layer_sizes=(16, 2), learning_rate='constant',\n",
       "              learning_rate_init=0.001, max_fun=15000, max_iter=200,\n",
       "              momentum=0.9, n_iter_no_change=10, nesterovs_momentum=True,\n",
       "              power_t=0.5, random_state=1, shuffle=True, solver='lbfgs',\n",
       "              tol=0.0001, validation_fraction=0.1, verbose=False,\n",
       "              warm_start=False)"
      ]
     },
     "execution_count": 134,
     "metadata": {},
     "output_type": "execute_result"
    }
   ],
   "source": [
    "clfMLP.fit(X, newsgroups_train.target)"
   ]
  },
  {
   "cell_type": "code",
   "execution_count": 136,
   "metadata": {},
   "outputs": [
    {
     "data": {
      "text/plain": [
       "0.5860597439544808"
      ]
     },
     "execution_count": 136,
     "metadata": {},
     "output_type": "execute_result"
    }
   ],
   "source": [
    "# Evaluate on test data\n",
    "y_test = clfMLP.predict(X_test)\n",
    "accuracy_score(newsgroups_test.target, y_test)\n",
    "\n",
    "### this should be 0.93??????"
   ]
  },
  {
   "cell_type": "markdown",
   "metadata": {},
   "source": [
    "# Look at confusion matrix and try to figure out why the classifier choose them wrong\n",
    "## look into different techniques\n",
    "## DSPT4 1:15:27\n",
    "\n",
    "text classifier\n"
   ]
  },
  {
   "cell_type": "code",
   "execution_count": null,
   "metadata": {},
   "outputs": [],
   "source": []
  },
  {
   "cell_type": "code",
   "execution_count": null,
   "metadata": {},
   "outputs": [],
   "source": []
  },
  {
   "cell_type": "code",
   "execution_count": 88,
   "metadata": {},
   "outputs": [
    {
     "name": "stderr",
     "output_type": "stream",
     "text": [
      "/home/jepoy/miniconda3/envs/ds-unit-4/lib/python3.7/site-packages/sklearn/metrics/_classification.py:191: FutureWarning: elementwise comparison failed; returning scalar instead, but in the future will perform elementwise comparison\n",
      "  score = y_true == y_pred\n"
     ]
    },
    {
     "data": {
      "text/plain": [
       "0.0"
      ]
     },
     "execution_count": 88,
     "metadata": {},
     "output_type": "execute_result"
    }
   ],
   "source": [
    "rfc.score(X, train['ratingCategory'])"
   ]
  },
  {
   "cell_type": "code",
   "execution_count": null,
   "metadata": {},
   "outputs": [],
   "source": [
    "rfc.predict(X_test)"
   ]
  },
  {
   "cell_type": "code",
   "execution_count": null,
   "metadata": {},
   "outputs": [],
   "source": [
    "test['ratingCategory'] = rfc.predict(X_test)"
   ]
  },
  {
   "cell_type": "code",
   "execution_count": null,
   "metadata": {},
   "outputs": [],
   "source": [
    "test[['id', 'ratingCategory']].to_csv('testSolutionSubmission.csv', header=True, index=False)"
   ]
  },
  {
   "cell_type": "markdown",
   "metadata": {},
   "source": [
    "## Follow Along"
   ]
  },
  {
   "cell_type": "markdown",
   "metadata": {},
   "source": [
    "## Challenge\n",
    "\n",
    "What you should be doing now:\n",
    "1. Join the Kaggle Competition\n",
    "2. Download the data\n",
    "3. Train a model & try: \n",
    "    - Creating a Text Extraction & Classification Pipeline\n",
    "    - Tune the pipeline with a `GridSearchCV` or `RandomizedSearchCV`\n",
    "    - Add some Latent Semantic Indexing (lsi) into your pipeline. *Note:* You can grid search a nested pipeline, but you have to use double underscores ie `lsi__svd__n_components`\n",
    "    - Try to extract word embeddings with Spacy and use those embeddings as your features for a classification model.\n",
    "4. Make a submission to Kaggle "
   ]
  },
  {
   "cell_type": "markdown",
   "metadata": {},
   "source": [
    "# Review\n",
    "\n",
    "To review this module: \n",
    "* Continue working on the Kaggle competition\n",
    "* Find another text classification task to work on"
   ]
  }
 ],
 "metadata": {
  "kernelspec": {
   "display_name": "ds-unit-4 (Python3)",
   "language": "python",
   "name": "ds-unit-4"
  },
  "language_info": {
   "codemirror_mode": {
    "name": "ipython",
    "version": 3
   },
   "file_extension": ".py",
   "mimetype": "text/x-python",
   "name": "python",
   "nbconvert_exporter": "python",
   "pygments_lexer": "ipython3",
   "version": "3.7.0"
  }
 },
 "nbformat": 4,
 "nbformat_minor": 4
}
